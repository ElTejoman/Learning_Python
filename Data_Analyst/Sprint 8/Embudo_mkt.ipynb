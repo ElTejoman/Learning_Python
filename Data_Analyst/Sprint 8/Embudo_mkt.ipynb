{
 "cells": [
  {
   "cell_type": "markdown",
   "metadata": {},
   "source": [
    "# **El embudo de marketing: agrupación por semanas y meses**\n",
    "\n",
    "Cuando los datos tienen ruido es difícil encontrar patrones. Por lo tanto, a veces tendrás que consolidarlo, por ejemplo, agrupándolo por semanas. Al agrupar los datos en una granularidad más pequeña (por ejemplo, de horas a semanas), las fluctuaciones se cancelan y hay menos ruido en los datos. Averigüemos cómo."
   ]
  },
  {
   "cell_type": "markdown",
   "metadata": {},
   "source": [
    "```python\n",
    "import pandas as pd\n",
    "\n",
    "df = pd.read_csv('datasets/funnel_cr_example.csv')\n",
    "print(df)\n",
    "\n",
    "#resultado\n",
    "         date  clicks  regs  cr, %\n",
    "0  2019-01-01    2000    36   1.80\n",
    "1  2019-01-02   10000    26   0.26\n",
    "2  2019-01-03    1000    15   1.50\n",
    "3  2019-01-04    4000     4   0.10\n",
    "4  2019-01-05    5000    24   0.48\n",
    "5  2019-01-06    2000    66   3.30\n",
    "6  2019-01-07    1000     2   0.20\n",
    "7  2019-01-08    1500     2   0.13\n",
    "```\n",
    "\n",
    "Aquí está el primer algoritmo que viene a la mente:\n",
    "\n",
    "1. Agrega la columna week al DataFrame.\n",
    "2. Agrupa el DataFrame por esta columna.\n",
    "3. Encuentra la tasa de conversión semanal media.\n",
    "\n",
    "\n",
    "```python\n",
    "\n",
    "# ¡es un error!\n",
    "\n",
    "df['week'] = df['date'].dt.week\n",
    "print(df.groupby('week')['cr, %'].mean())\n",
    "\n",
    "week\n",
    "36    1.091429\n",
    "Name: cr, %, dtype: float64\n",
    "```\n",
    "\n",
    "\n",
    "Este enfoque es incorrecto. Bueno, los primeros dos pasos son correctos, pero el tercero no lo es. Así es como se debe hacer:\n",
    "\n",
    "1. Agrega la columna week al DataFrame\n",
    "2. Agrupa el DataFrame por esta columna.\n",
    "3. Suma el número de impresiones, clics y registros de cada semana.\n",
    "4. Vuelve a calcular la tasa de conversión semanal media.\n",
    "\n",
    "Si solo promediamos los valores medios, perdemos información muy importante: el número de clics. Entonces estaríamos dando el mismo peso a la tasa de conversión del 2 de enero, cuando el sitio web tuvo 10 000 visitantes, y la tasa del 7 de enero, cuando solo hubo 1000.\n",
    "\n",
    "```python\n",
    "# correcto\n",
    "\n",
    "df['week'] = df['date'].dt.week\n",
    "df_ = df.groupby('week')[['regs', 'clicks']].sum()\n",
    "print(df_['regs'] / df_['clicks'] * 100)\n",
    "\n",
    "week\n",
    "36    0.692\n",
    "dtype: float64\n",
    "```"
   ]
  },
  {
   "cell_type": "markdown",
   "metadata": {},
   "source": [
    "## Ejercicios!\n",
    "\n"
   ]
  },
  {
   "cell_type": "code",
   "execution_count": null,
   "metadata": {},
   "outputs": [],
   "source": []
  }
 ],
 "metadata": {
  "language_info": {
   "name": "python"
  }
 },
 "nbformat": 4,
 "nbformat_minor": 2
}
