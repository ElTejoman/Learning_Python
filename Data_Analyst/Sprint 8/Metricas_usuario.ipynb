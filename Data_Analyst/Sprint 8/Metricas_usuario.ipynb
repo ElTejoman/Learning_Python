{
 "cells": [
  {
   "cell_type": "markdown",
   "metadata": {},
   "source": [
    "# **Métricas de Usuario**\n",
    "\n",
    "Hay tres métricas principales que describen el número de usuarios activos:\n",
    "\n",
    "- DAU (usuarios activos diarios): el número de usuarios activos diarios (únicos);\n",
    "- WAU (usuarios activos semanales): el número de usuarios activos semanales;\n",
    "- MAU (usuarios activos mensuales): el número de usuarios activos mensuales.\n",
    "\n",
    "## Ejercicios\n",
    "\n",
    "**Ejercicio 1**\n",
    "\n",
    "El archivo /datasets/users_data.csv almacena datos sobre la actividad del usuario en la aplicación. Léelo y guárdalo en la variable users_data. Calcula la métrica de MAU para todo el período y guarda el resultado como mau_total. Imprímelo como un solo número entero."
   ]
  },
  {
   "cell_type": "code",
   "execution_count": null,
   "metadata": {},
   "outputs": [],
   "source": [
    "import pandas as pd\n",
    "\n",
    "users_data = pd.read_csv(\"/datasets/users_data.csv\")\n",
    "users_data[\"session_start_ts\"] = pd.to_datetime(\n",
    "    users_data[\"session_start_ts\"], format=\"%Y-%m-%d %H:%M\"\n",
    ")\n",
    "users_data[\"session_end_ts\"] = pd.to_datetime(\n",
    "    users_data[\"session_end_ts\"], format=\"%Y-%m-%d %H:%M\"\n",
    ")\n",
    "users_data[\"session_year\"] = users_data[\"session_start_ts\"].dt.year\n",
    "users_data[\"session_month\"] = users_data[\"session_start_ts\"].dt.month\n",
    "users_data[\"session_week\"] = users_data[\"session_start_ts\"].dt.week\n",
    "users_data[\"session_date\"] = users_data[\"session_start_ts\"].dt.date\n",
    "mau_total = (\n",
    "    users_data.groupby([\"session_year\", \"session_month\"]).agg({\"id\": \"nunique\"}).mean()\n",
    ")\n",
    "print(int(mau_total))"
   ]
  },
  {
   "cell_type": "markdown",
   "metadata": {},
   "source": [
    "**Ejercicio 2**\n",
    "\n",
    "Echa otro vistazo a mau_total en el precódigo y encuentra dau_total y wau_total usando el mismo enfoque.\n",
    "\n",
    "Encuentra el sticky factor expresado como la relación entre la audiencia mensual y semanal. Guarda el resultado para la audiencia semanal como sticky_wau y el de la audiencia mensual como sticky_mau. Multiplica el resultado de tu división de sticky factor por 100 para obtener un porcentaje. Imprime los resultados (primero por semana, luego por mes) sin convertirlos a números enteros.\n",
    "Al agregar columnas a tus datos originales, pasa de mayor a menor: año, mes, semana, fecha."
   ]
  },
  {
   "cell_type": "code",
   "execution_count": null,
   "metadata": {},
   "outputs": [],
   "source": [
    "import pandas as pd\n",
    "\n",
    "users_data = pd.read_csv(\"/datasets/users_data.csv\")\n",
    "users_data[\"session_start_ts\"] = pd.to_datetime(\n",
    "    users_data[\"session_start_ts\"], format=\"%Y-%m-%d %H:%M\"\n",
    ")\n",
    "users_data[\"session_end_ts\"] = pd.to_datetime(\n",
    "    users_data[\"session_end_ts\"], format=\"%Y-%m-%d %H:%M\"\n",
    ")\n",
    "users_data[\"session_year\"] = users_data[\"session_start_ts\"].dt.year\n",
    "users_data[\"session_month\"] = users_data[\"session_start_ts\"].dt.month\n",
    "users_data[\"session_week\"] = users_data[\"session_start_ts\"].dt.week\n",
    "users_data[\"session_date\"] = users_data[\"session_start_ts\"].dt.date\n",
    "mau_total = (\n",
    "    users_data.groupby([\"session_year\", \"session_month\"]).agg({\"id\": \"nunique\"}).mean()\n",
    ")\n",
    "dau_total = users_data.groupby(\"session_date\").agg({\"id\": \"nunique\"}).mean()\n",
    "wau_total = (\n",
    "    users_data.groupby([\"session_year\", \"session_week\"]).agg({\"id\": \"nunique\"}).mean()\n",
    ")\n",
    "sticky_wau = dau_total / wau_total * 100\n",
    "print(sticky_wau)\n",
    "sticky_mau = dau_total / mau_total * 100\n",
    "print(sticky_mau)"
   ]
  },
  {
   "cell_type": "markdown",
   "metadata": {},
   "source": [
    "## Sesiones de Usuario\n",
    "\n",
    "Sabes cuántos usuarios hay en tu aplicación, pero sería genial tener datos sobre cuánto tiempo pasan en ella. Aquí el concepto de sesiones de usuario te puede ayudar. Una sesión de usuario es el conjunto de acciones del usuario que comienza cuando se abre la aplicación y finaliza cuando se cierra.\n",
    "\n",
    "Por ejemplo, puede ser útil determinar el número de sesiones mensuales por usuario; es un buen indicador de la frecuencia de uso de la aplicación.\n",
    "\n",
    "### Ejercicios\n",
    "\n",
    "**Ejercicio 1**\n",
    "\n",
    "Sigue trabajando con la aplicación de entrega por drones. Encuentra el número de sesiones por usuario para cada mes, guardando el resultado como sessions_per_user['sess_per_user']. Imprime sessions_per_user."
   ]
  },
  {
   "cell_type": "code",
   "execution_count": null,
   "metadata": {},
   "outputs": [],
   "source": [
    "import pandas as pd\n",
    "\n",
    "users_data = pd.read_csv(\"/datasets/users_data.csv\")\n",
    "users_data[\"session_start_ts\"] = pd.to_datetime(\n",
    "    users_data[\"session_start_ts\"], format=\"%Y-%m-%d %H:%M\"\n",
    ")\n",
    "users_data[\"session_end_ts\"] = pd.to_datetime(\n",
    "    users_data[\"session_end_ts\"], format=\"%Y-%m-%d %H:%M\"\n",
    ")\n",
    "users_data[\"session_year\"] = users_data[\"session_start_ts\"].dt.year\n",
    "users_data[\"session_month\"] = users_data[\"session_start_ts\"].dt.month\n",
    "\n",
    "sessions_per_user = users_data.groupby([\"session_year\", \"session_month\"]).agg(\n",
    "    {\"id\": [\"count\", \"nunique\"]}\n",
    ")\n",
    "sessions_per_user.columns = [\"n_sessions\", \"n_users\"]\n",
    "sessions_per_user[\"sess_per_user\"] = (\n",
    "    sessions_per_user[\"n_sessions\"] / sessions_per_user[\"n_users\"]\n",
    ")\n",
    "print(sessions_per_user)"
   ]
  },
  {
   "cell_type": "markdown",
   "metadata": {},
   "source": [
    "**Ejercicio 2**\n",
    "\n",
    "Encuentra la duración de las sesiones y traza un histograma con 100 contenedores. Asigna a la columna el nombre users_data['session_duration_sec']."
   ]
  },
  {
   "cell_type": "code",
   "execution_count": null,
   "metadata": {},
   "outputs": [],
   "source": [
    "import pandas as pd\n",
    "\n",
    "users_data = pd.read_csv(\"/datasets/users_data.csv\")\n",
    "users_data[\"session_start_ts\"] = pd.to_datetime(\n",
    "    users_data[\"session_start_ts\"], format=\"%Y-%m-%d %H:%M\"\n",
    ")\n",
    "users_data[\"session_end_ts\"] = pd.to_datetime(\n",
    "    users_data[\"session_end_ts\"], format=\"%Y-%m-%d %H:%M\"\n",
    ")\n",
    "users_data[\"session_duration_sec\"] = (\n",
    "    users_data[\"session_end_ts\"] - users_data[\"session_start_ts\"]\n",
    ").dt.seconds\n",
    "users_data[\"session_duration_sec\"].hist(bins=100)"
   ]
  },
  {
   "cell_type": "markdown",
   "metadata": {},
   "source": [
    "**Ejercicio 3**\n",
    "\n",
    "Encuentra la métrica ASL (duración media de la sesión). Guarda el resultado como asl e imprime la variable."
   ]
  },
  {
   "cell_type": "code",
   "execution_count": null,
   "metadata": {},
   "outputs": [],
   "source": [
    "import pandas as pd\n",
    "\n",
    "users_data = pd.read_csv(\"/datasets/users_data.csv\")\n",
    "users_data[\"session_start_ts\"] = pd.to_datetime(\n",
    "    users_data[\"session_start_ts\"], format=\"%Y-%m-%d %H:%M\"\n",
    ")\n",
    "users_data[\"session_end_ts\"] = pd.to_datetime(\n",
    "    users_data[\"session_end_ts\"], format=\"%Y-%m-%d %H:%M\"\n",
    ")\n",
    "users_data[\"session_duration_sec\"] = (\n",
    "    users_data[\"session_end_ts\"] - users_data[\"session_start_ts\"]\n",
    ").dt.seconds\n",
    "# users_data['session_duration_sec'].hist(bins=100)\n",
    "asl = users_data[\"session_duration_sec\"].mode()\n",
    "print(asl)"
   ]
  },
  {
   "cell_type": "markdown",
   "metadata": {},
   "source": [
    "## Trabajar con Datos sin Procesar\n",
    "\n",
    "**Ejercicios**\n",
    "\n",
    "El archivo /datasets/yandex_metrika_logs.csv contiene datos sobre las visitas a la página de ayuda de Y.Metrica:\n",
    "\n",
    "- ym:s:visitID: identificador de visita;\n",
    "- ym:s:dateTime: hora de la visita;\n",
    "- ym:s:isNewUser: si es la primera visita o no;\n",
    "- ym:s:visitDuration: duración de la visita en segundos;\n",
    "- ym:s:startURL: URL de la página de acceso;\n",
    "- ym:s:clientID: identificador del usuario;\n",
    "- ym:s:lastTrafficSource: fuente de tráfico:\n",
    "- - ad: tráfico de anuncios;\n",
    "- - organic: tráfico del motor de búsqueda;\n",
    "- - direct: tráfico directo;\n",
    "- - referral: tráfico de referencia;\n",
    "- - internal: tráfico interno;\n",
    "- - social: tráfico de redes sociales;\n",
    "- - email: tráfico de correo electrónico;\n",
    "- - messenger: tráfico de mensajería;\n",
    "- - saved: tráfico de páginas guardadas.\n",
    "  \n",
    "1. Traza dos histogramas en una sola visualización:\n",
    "\n",
    "- La distribución de la duración de la visita para el tráfico de anuncios: (ym:s:lastTrafficSource = 'ad')\n",
    "- La distribución de la duración de la visita para el tráfico del motor de búsqueda:\n",
    "\n",
    "> (ym:s:lastTrafficSource = 'organic')\n",
    "\n",
    "Al trazar histogramas, ignora las visitas con una duración de 0 segundos.\n",
    "\n",
    "2. Evalúa si la diferencia entre la duración promedio de las visitas provenientes de estas dos fuentes de tráfico es estadísticamente significativa. Para hacerlo, prueba la hipótesis de que los dos promedios son iguales. Al probar hipótesis, ignora las visitas con una duración de 0 segundos.\n",
    "\n"
   ]
  },
  {
   "cell_type": "markdown",
   "metadata": {},
   "source": [
    "**Ejercicio1**\n",
    "\n",
    "Carga datos del archivo /datasets/yandex_metrika_logs.csv al DataFrame logs. Imprime las primeras 10 filas de logs."
   ]
  },
  {
   "cell_type": "code",
   "execution_count": null,
   "metadata": {},
   "outputs": [],
   "source": [
    "import pandas as pd\n",
    "\n",
    "logs = pd.read_csv(\"/datasets/yandex_metrika_logs.csv\")  # Cargar datos\n",
    "print(logs.head(10))  # imprime las 10 primeras filas del DataFrame"
   ]
  },
  {
   "cell_type": "markdown",
   "metadata": {},
   "source": [
    "**Ejercicio 2**\n",
    "\n",
    "\n",
    "Crea un slice de datos logs_with_duration para almacenar todas las visitas de más de 0 segundos.\n",
    "\n",
    "Imprime las primeras 10 filas del slice de datos logs_with_duration."
   ]
  },
  {
   "cell_type": "code",
   "execution_count": null,
   "metadata": {},
   "outputs": [],
   "source": [
    "import pandas as pd\n",
    "\n",
    "# Leer el archivo CSV\n",
    "logs = pd.read_csv(\"/datasets/yandex_metrika_logs.csv\")\n",
    "\n",
    "# Crear un slice de datos con visitas de más de 0 segundos de duración\n",
    "logs_with_duration = logs[logs[\"ym:s:visitDuration\"] > 0]\n",
    "\n",
    "# Imprimir las primeras 10 filas del slice de datos\n",
    "print(logs_with_duration.head(10))"
   ]
  },
  {
   "cell_type": "markdown",
   "metadata": {},
   "source": [
    "**Ejercicio 3**\n",
    "\n",
    "Toma el DataFrame logs_with_duration y crea dos slices de datos:\n",
    "\n",
    "- Un slice de datos ad_visits que contiene visitas que provienen del tráfico de anuncios (ym:s:lastTrafficSource == 'ad');\n",
    "- Un slice de datos organic_visits que contiene visitas \"orgánicas\" que provienen del tráfico del motor de búsqueda (ym:s:lastTrafficSource == 'orgánico').\n",
    "  \n",
    "El nombre de la fuente de tráfico se almacena en la columna \"ym:s:lastTrafficSource\".\n",
    "\n",
    "Imprime 10 filas de cada slice de datos."
   ]
  },
  {
   "cell_type": "code",
   "execution_count": null,
   "metadata": {},
   "outputs": [],
   "source": [
    "import pandas as pd\n",
    "\n",
    "logs = pd.read_csv(\"/datasets/yandex_metrika_logs.csv\")\n",
    "\n",
    "logs_with_duration = logs[logs[\"ym:s:visitDuration\"] > 0]\n",
    "\n",
    "ad_visits = logs_with_duration[logs_with_duration[\"ym:s:lastTrafficSource\"] == \"ad\"]\n",
    "organic_visits = logs_with_duration[\n",
    "    logs_with_duration[\"ym:s:lastTrafficSource\"] == \"organic\"\n",
    "]\n",
    "\n",
    "print(ad_visits.head(10))\n",
    "\n",
    "print(organic_visits.head(10))"
   ]
  }
 ],
 "metadata": {
  "language_info": {
   "name": "python"
  }
 },
 "nbformat": 4,
 "nbformat_minor": 2
}
