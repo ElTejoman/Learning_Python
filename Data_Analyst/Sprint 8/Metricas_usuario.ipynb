{
 "cells": [
  {
   "cell_type": "markdown",
   "metadata": {},
   "source": [
    "# **Métricas de Usuario**\n",
    "\n",
    "Hay tres métricas principales que describen el número de usuarios activos:\n",
    "\n",
    "- DAU (usuarios activos diarios): el número de usuarios activos diarios (únicos);\n",
    "- WAU (usuarios activos semanales): el número de usuarios activos semanales;\n",
    "- MAU (usuarios activos mensuales): el número de usuarios activos mensuales.\n",
    "\n",
    "## Ejercicios\n",
    "\n",
    "**Ejercicio 1**\n",
    "\n",
    "El archivo /datasets/users_data.csv almacena datos sobre la actividad del usuario en la aplicación. Léelo y guárdalo en la variable users_data. Calcula la métrica de MAU para todo el período y guarda el resultado como mau_total. Imprímelo como un solo número entero."
   ]
  },
  {
   "cell_type": "code",
   "execution_count": null,
   "metadata": {},
   "outputs": [],
   "source": [
    "import pandas as pd\n",
    "\n",
    "users_data = pd.read_csv(\"/datasets/users_data.csv\")\n",
    "users_data[\"session_start_ts\"] = pd.to_datetime(\n",
    "    users_data[\"session_start_ts\"], format=\"%Y-%m-%d %H:%M\"\n",
    ")\n",
    "users_data[\"session_end_ts\"] = pd.to_datetime(\n",
    "    users_data[\"session_end_ts\"], format=\"%Y-%m-%d %H:%M\"\n",
    ")\n",
    "users_data[\"session_year\"] = users_data[\"session_start_ts\"].dt.year\n",
    "users_data[\"session_month\"] = users_data[\"session_start_ts\"].dt.month\n",
    "users_data[\"session_week\"] = users_data[\"session_start_ts\"].dt.week\n",
    "users_data[\"session_date\"] = users_data[\"session_start_ts\"].dt.date\n",
    "mau_total = (\n",
    "    users_data.groupby([\"session_year\", \"session_month\"]).agg({\"id\": \"nunique\"}).mean()\n",
    ")\n",
    "print(int(mau_total))"
   ]
  }
 ],
 "metadata": {
  "language_info": {
   "name": "python"
  }
 },
 "nbformat": 4,
 "nbformat_minor": 2
}
