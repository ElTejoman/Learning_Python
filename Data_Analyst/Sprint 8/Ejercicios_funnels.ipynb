{
 "cells": [
  {
   "cell_type": "markdown",
   "metadata": {},
   "source": [
    "## El embudo de marketing: impresiones, clics, CTR y CR\n",
    "\n",
    "**Ejercicio 1**\n",
    "\n",
    "Descarga los datos sobre los gastos del archivo /datasets/ad_data.csv y guárdalos en la variable ad_data. Obtén los datos sobre registros del archivo /datasets/site_data.csv y guárdalos en la variable site_data.\n",
    "\n",
    "Fusiona los datos de la tabla en un DataFrame en la columna date. Guarda el resultado como funnel e imprime las primeras cinco filas del dataset resultante."
   ]
  },
  {
   "cell_type": "code",
   "execution_count": null,
   "metadata": {},
   "outputs": [],
   "source": [
    "import pandas as pd\n",
    "\n",
    "ad_data = pd.read_csv(\"/datasets/ad_data.csv\")  # escribe tu código aquí\n",
    "site_data = pd.read_csv(\"/datasets/site_data.csv\")  # escribe tu código aquí\n",
    "funnel = pd.merge(ad_data, site_data, on=\"date\")  # escribe tu código aquí\n",
    "print(funnel.head(5))\n",
    "\n",
    "\n"
   ]
  },
  {
   "cell_type": "markdown",
   "metadata": {},
   "source": [
    "**Ejercicio 2**\n",
    "\n",
    "Crea los embudos para CTR (tasa de clics) y CR (tasa de conversión). Guarda los resultados en las columnas funnel['ctr, %'] y funnel['cr, %'] respectivamente. Imprime las primeras cinco filas del DataFrame."
   ]
  },
  {
   "cell_type": "code",
   "execution_count": null,
   "metadata": {},
   "outputs": [],
   "source": [
    "import pandas as pd\n",
    "\n",
    "ad_data = pd.read_csv(\"/datasets/ad_data.csv\")\n",
    "site_data = pd.read_csv(\"/datasets/site_data.csv\")\n",
    "funnel = pd.merge(ad_data, site_data, on=\"date\")\n",
    "\n",
    "funnel[\"ctr, %\"] = funnel[\"clicks\"] / funnel[\"impressions\"] * 100\n",
    "funnel[\"cr, %\"] = funnel[\"registrations\"] / funnel[\"clicks\"] * 100\n",
    "\n",
    "print(funnel.head(5))\n",
    "\n",
    "\"\"\"\n",
    "Resultado:\n",
    "\n",
    "         date  impressions  clicks  registrations    ctr, %     cr, %\n",
    "0  2019-08-01         6153      61              6  0.991386  9.836066\n",
    "1  2019-08-02         8254      81              6  0.981342  7.407407\n",
    "2  2019-08-03         4434      43              4  0.969779  9.302326\n",
    "3  2019-08-04         9510      79              7  0.830705  8.860759\n",
    "4  2019-08-05         7167      70              6  0.976699  8.571429\n",
    "\"\"\""
   ]
  }
 ],
 "metadata": {
  "language_info": {
   "name": "python"
  }
 },
 "nbformat": 4,
 "nbformat_minor": 2
}
