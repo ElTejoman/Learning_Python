{
 "cells": [
  {
   "cell_type": "markdown",
   "metadata": {},
   "source": [
    "## El embudo de marketing: impresiones, clics, CTR y CR\n",
    "\n",
    "**Ejercicio 1**\n",
    "\n",
    "Descarga los datos sobre los gastos del archivo /datasets/ad_data.csv y guárdalos en la variable ad_data. Obtén los datos sobre registros del archivo /datasets/site_data.csv y guárdalos en la variable site_data.\n",
    "\n",
    "Fusiona los datos de la tabla en un DataFrame en la columna date. Guarda el resultado como funnel e imprime las primeras cinco filas del dataset resultante."
   ]
  },
  {
   "cell_type": "code",
   "execution_count": null,
   "metadata": {},
   "outputs": [],
   "source": [
    "import pandas as pd\n",
    "\n",
    "ad_data = pd.read_csv(\"/datasets/ad_data.csv\")  # escribe tu código aquí\n",
    "site_data = pd.read_csv(\"/datasets/site_data.csv\")  # escribe tu código aquí\n",
    "funnel = pd.merge(ad_data, site_data, on=\"date\")  # escribe tu código aquí\n",
    "print(funnel.head(5))"
   ]
  }
 ],
 "metadata": {
  "language_info": {
   "name": "python"
  }
 },
 "nbformat": 4,
 "nbformat_minor": 2
}
