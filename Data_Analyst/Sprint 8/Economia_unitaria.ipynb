{
 "cells": [
  {
   "cell_type": "markdown",
   "metadata": {},
   "source": [
    "# **Economía Unitaria**\n",
    "\n",
    "> Cuánto gana y pierde una empresa con cada compra."
   ]
  },
  {
   "cell_type": "markdown",
   "metadata": {},
   "source": [
    "# Ejercicios\n",
    "\n",
    "**Ejercicio 1**\n",
    "\n",
    "El estudio Peacegaming ha lanzado un juego llamado World of Tractors. Personas de todo el mundo compiten para cosechar emocionantes granos y legumbres de un campo infinito. ¿Qué se debe hacer para que el juego sea rentable?\n",
    "\n",
    "Datos:\n",
    "\n",
    "- La audiencia es de 50 000 usuarios/as.\n",
    "- Cada usuario/a paga un promedio de $10 al mes.\n",
    "- El presupuesto de marketing es de $200 000 por mes.\n",
    "- El mantenimiento del servidor cuesta $200 000 por mes (cuanto mayor es la audiencia, más servidores se necesitan).\n",
    "- Los sueldos de los programadores y programadoras suman un total de $300 000 por mes.\n",
    "- El alquiler de la oficina es de $150 000 por mes.\n",
    "  \n",
    "Almacena los datos en las variables y calcula los ingresos, costos totales y beneficios.\n"
   ]
  },
  {
   "cell_type": "code",
   "execution_count": null,
   "metadata": {},
   "outputs": [],
   "source": [
    "import pandas as pd\n",
    "\n",
    "n_users = 50000\n",
    "revenue_per_user = 10\n",
    "\n",
    "var_costs = 200000 + 300000\n",
    "\n",
    "fixed_costs = 150000 + 200000  # escribe tu código aquí\n",
    "\n",
    "revenue = n_users * revenue_per_user  # escribe tu código aquí\n",
    "total_costs = var_costs + fixed_costs  # escribe tu código aquí\n",
    "\n",
    "print(\"Ingresos:\", revenue)\n",
    "print(\"Costos:\", total_costs)\n",
    "print(\"Beneficios:\", revenue - total_costs)"
   ]
  }
 ],
 "metadata": {
  "language_info": {
   "name": "python"
  }
 },
 "nbformat": 4,
 "nbformat_minor": 2
}
