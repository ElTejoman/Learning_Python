{
 "cells": [
  {
   "cell_type": "markdown",
   "metadata": {},
   "source": [
    "# **Economía Unitaria**\n",
    "\n",
    "> Cuánto gana y pierde una empresa con cada compra."
   ]
  },
  {
   "cell_type": "markdown",
   "metadata": {},
   "source": [
    "# Ejercicios\n",
    "\n",
    "**Ejercicio 1**\n",
    "\n",
    "El estudio Peacegaming ha lanzado un juego llamado World of Tractors. Personas de todo el mundo compiten para cosechar emocionantes granos y legumbres de un campo infinito. ¿Qué se debe hacer para que el juego sea rentable?\n",
    "\n",
    "Datos:\n",
    "\n",
    "- La audiencia es de 50 000 usuarios/as.\n",
    "- Cada usuario/a paga un promedio de $10 al mes.\n",
    "- El presupuesto de marketing es de $200 000 por mes.\n",
    "- El mantenimiento del servidor cuesta $200 000 por mes (cuanto mayor es la audiencia, más servidores se necesitan).\n",
    "- Los sueldos de los programadores y programadoras suman un total de $300 000 por mes.\n",
    "- El alquiler de la oficina es de $150 000 por mes.\n",
    "  \n",
    "Almacena los datos en las variables y calcula los ingresos, costos totales y beneficios.\n"
   ]
  },
  {
   "cell_type": "code",
   "execution_count": null,
   "metadata": {},
   "outputs": [],
   "source": [
    "import pandas as pd\n",
    "\n",
    "n_users = 50000\n",
    "revenue_per_user = 10\n",
    "\n",
    "var_costs = 200000 + 300000\n",
    "\n",
    "fixed_costs = 150000 + 200000  \n",
    "\n",
    "revenue = n_users * revenue_per_user  \n",
    "total_costs = var_costs + fixed_costs  \n",
    "\n",
    "print(\"Ingresos:\", revenue)\n",
    "print(\"Costos:\", total_costs)\n",
    "print(\"Beneficios:\", revenue - total_costs)"
   ]
  },
  {
   "cell_type": "markdown",
   "metadata": {},
   "source": [
    "**Ejercicio 2**\n",
    "\n",
    "Calcula la economía unitaria para World of Tractors sin tener en cuenta los gastos fijos. Guarda el resultado como one_unit_var_costs. Muestra los ingresos por venta, los gastos variables por venta y el total."
   ]
  },
  {
   "cell_type": "code",
   "execution_count": null,
   "metadata": {},
   "outputs": [],
   "source": [
    "import pandas as pd\n",
    "\n",
    "n_users = 50000\n",
    "revenue_per_user = 10\n",
    "\n",
    "var_costs = pd.Series({\"marketing\": 200000, \"servers\": 200000})\n",
    "\n",
    "fixed_costs = pd.Series({\"salaries\": 300000, \"rent\": 150000})\n",
    "\n",
    "revenue = n_users * revenue_per_user\n",
    "total_costs = var_costs.sum() + fixed_costs.sum()\n",
    "\n",
    "one_unit_var_costs = var_costs / n_users\n",
    "\n",
    "print(\"Ingresos:\", revenue_per_user)\n",
    "print(\"Costos:\", one_unit_var_costs.sum())\n",
    "print(\"Beneficios:\", revenue_per_user - one_unit_var_costs.sum())"
   ]
  },
  {
   "cell_type": "markdown",
   "metadata": {},
   "source": [
    "**Ejercicio 3**\n",
    "\n",
    "La economía es sólida. Crea un modelo para calcular el volumen de ventas necesario para que el negocio sea rentable. El número de usuarios/as aumentará si aumentas los gastos de marketing."
   ]
  },
  {
   "cell_type": "code",
   "execution_count": null,
   "metadata": {},
   "outputs": [],
   "source": [
    "import pandas as pd\n",
    "\n",
    "n_users = 50000\n",
    "revenue_per_user = 10\n",
    "\n",
    "var_costs = pd.Series({\"marketing\": 200000, \"servers\": 200000})\n",
    "\n",
    "fixed_costs = pd.Series({\"salaries\": 300000, \"rent\": 150000})\n",
    "\n",
    "revenue = n_users * revenue_per_user\n",
    "total_costs = var_costs.sum() + fixed_costs.sum()\n",
    "\n",
    "one_unit_var_costs = var_costs / n_users\n",
    "\n",
    "\n",
    "def unit_economics(marketing):\n",
    "    users_needed = marketing / one_unit_var_costs[\"marketing\"]\n",
    "    revenue_generated = users_needed * revenue_per_user\n",
    "    total_costs_generated = users_needed * one_unit_var_costs.sum() + fixed_costs.sum()\n",
    "    profit = revenue_generated - total_costs_generated\n",
    "    return profit\n",
    "\n",
    "\n",
    "for m in range(300000, 1500000, 100000):\n",
    "    print(\"Beneficio/pérdida: {} con un presupuesto de {}\".format(unit_economics(m), m))\n",
    "\n"
   ]
  }
 ],
 "metadata": {
  "language_info": {
   "name": "python"
  }
 },
 "nbformat": 4,
 "nbformat_minor": 2
}
