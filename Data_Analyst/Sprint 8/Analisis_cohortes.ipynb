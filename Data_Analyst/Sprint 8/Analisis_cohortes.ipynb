{
 "cells": [
  {
   "cell_type": "markdown",
   "metadata": {},
   "source": [
    "## Análisis de cohortes\n",
    "\n",
    "\n",
    "- **Definición de Cohorte**:\n",
    "  - Una cohorte es un grupo de sujetos con algo en común, como experimentar un evento específico dentro de un período definido.\n",
    "  - Ejemplos de cohortes incluyen personas nacidas en un mismo año, empresas que formalizaron contratos en un trimestre específico, o usuarios que se registraron en un servicio en un mes determinado.\n",
    "\n",
    "- **Eventos y Períodos**:\n",
    "  - Un evento es una acción registrada realizada por un usuario, como registrarse o hacer un pedido.\n",
    "  - El período es el tiempo durante el cual ocurrió el evento, que puede ser un año, trimestre, mes, semana, etc.\n",
    "  - Para definir una cohorte, se necesita identificar el evento común y el período de tiempo en el cual ocurre ese evento.\n",
    "\n",
    "- **Objetivos del Análisis de Cohortes**:\n",
    "  - Los analistas dividen la base de clientes en cohortes para identificar patrones de comportamiento.\n",
    "  - Se analiza cómo se comportan los usuarios de una cohorte durante un período específico, por ejemplo, cuántos siguen activos después de cierto tiempo desde el evento inicial.\n",
    "\n",
    "- **Utilidad y Limitaciones**:\n",
    "  - El análisis de cohortes es retrospectivo y muestra comportamientos pasados de los usuarios.\n",
    "  - Ayuda a modificar productos y procesos, generar nuevas hipótesis, pero no es predictivo debido a factores externos que pueden influir en el comportamiento futuro de los usuarios.\n",
    "\n",
    "En resumen, el análisis de cohortes es una herramienta valiosa para comprender cómo los usuarios interactúan con un producto o servicio en el tiempo, aunque su enfoque está en el pasado y no puede predecir el comportamiento futuro de manera precisa."
   ]
  },
  {
   "cell_type": "code",
   "execution_count": null,
   "metadata": {},
   "outputs": [],
   "source": []
  }
 ],
 "metadata": {
  "language_info": {
   "name": "python"
  }
 },
 "nbformat": 4,
 "nbformat_minor": 2
}
