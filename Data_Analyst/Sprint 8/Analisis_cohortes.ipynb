{
 "cells": [
  {
   "cell_type": "markdown",
   "metadata": {},
   "source": [
    "Análisis de cohortes\n",
    "¿En qué momento los usuarios se aburren con tu aplicación y la abandonan?  ¿Cuándo vuelven? Para responder a estas preguntas, los y las analistas realizan un análisis de cohortes. \n",
    "\n",
    "Una cohorte es un grupo de sujetos que tienen algo en común (por lo general, los que experimentaron un determinado evento, por ejemplo, registrarse en un sitio web dentro del mismo período de tiempo). \n",
    "\n",
    "Un ejemplo perfecto de una cohorte serían las personas nacidas en el mismo año. Los nacidos en 1987 y 1986 serían entonces representantes de diferentes cohortes, pero podrías formar una cohorte con personas nacidas en los años 80. Entonces tanto \"nacido en 1987\" como \"nacido en 1986\" se encontrarán en una cohorte.\n",
    "\n",
    "Otros ejemplos de cohortes:\n",
    "\n",
    "empresas con las que se formalizaron contratos en el primer trimestre de 2018;\n",
    "usuarios que se registraron en un servicio en mayo de 2019;\n",
    "clientes que realizaron su primer pedido en una tienda online entre el 5 y el 11 de agosto de 2019.\n",
    "Es fácil definir una cohorte. Solo necesitas determinar:\n",
    "\n",
    "1) el evento que es común para ellos;\n",
    "\n",
    "2) el período de tiempo durante el cual debe ocurrir este evento.\n",
    "\n",
    "Un evento es un caso registrado de la realización de una determinada acción por parte de un/a usuario/a. Ejemplos de eventos: registrarse, primer pedido, siguiente pedido.\n",
    "\n",
    "El período es el lapso de tiempo durante el cual ocurrió el evento.  Puede ser un año, un trimestre, un mes, una semana, etc.\n",
    "\n",
    "Una vez que hayas definido un evento y un período de tiempo, puedes formar una cohorte. En otras palabras, agrupas a los usuarios y usuarias que realizaron una cierta acción durante el mismo período de tiempo.\n",
    "\n",
    "Los/las analistas dividen la base de clientes en cohortes para identificar los patrones en el comportamiento de usuarios. Toman una cohorte y analizan su comportamiento durante un periodo de tiempo. Un ejemplo de pregunta que podrían querer responder es \"¿Cuántos usuarios de la cohorte que se registraron en marzo de 2019 todavía estaban activos en junio de 2019?\"\n",
    "\n",
    "Las conclusiones generadas por el análisis de cohortes pueden crear las bases para modificar productos y procesos y dar lugar a nuevas hipótesis. Pero esto es, en última instancia, un análisis retrospectivo; muestra cómo se comportaron los usuarios en el pasado. Rara vez se utiliza para pronosticar el comportamiento de los usuarios, que se verá afectado por factores externos en el futuro (estacionalidad, cambios en la legislación, etc.)."
   ]
  },
  {
   "cell_type": "code",
   "execution_count": null,
   "metadata": {},
   "outputs": [],
   "source": []
  }
 ],
 "metadata": {
  "language_info": {
   "name": "python"
  }
 },
 "nbformat": 4,
 "nbformat_minor": 2
}
