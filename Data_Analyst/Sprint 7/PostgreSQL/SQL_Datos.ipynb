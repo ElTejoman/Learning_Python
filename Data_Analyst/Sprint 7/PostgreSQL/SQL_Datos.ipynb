{
 "cells": [
  {
   "cell_type": "markdown",
   "metadata": {},
   "source": [
    "# SQL y slices de Datos\n",
    "\n",
    "Recuerda que tomar un slice te permite filtrar datos irrelevantes, dejándote solo con lo que necesitas para tu análisis. Sabes cómo obtener slices de datos utilizando el método query() en Python. Llegó la hora de aprender cómo hacerlo en SQL.\n",
    "\n",
    "El inicio de la condición utilizada para seleccionar datos se marca con el comando WHERE. La condición se evalúa en cada fila de la tabla:\n",
    "\n",
    "````\n",
    "SELECT\n",
    "    column_1,\n",
    "    column_2 --seleccionar nombres de columna\n",
    "FROM\n",
    "    table_name --especificar la tabla\n",
    "WHERE\n",
    "    condition;\n",
    "\n",
    "--definir la condición de selección de fila\n",
    "````\n",
    "\n",
    "El orden de los operadores está definido estrictamente:\n",
    "\n",
    "1) SELECT \n",
    "\n",
    "2) FROM\n",
    "\n",
    "3) WHERE\n",
    "\n",
    "Ten en cuenta que el bloque WHERE es más general que SELECT: en realidad se procesa primero. WHERE filtra los datos de la tabla en su conjunto mientras que SELECT reduce la selección.\n",
    "\n",
    "| Nombre | Significado | \n",
    "|----------|----------|\n",
    "| =   | igual a  | \n",
    "| <>,!=    | diferente a    |\n",
    "| >    | mayor que   |\n",
    "| <    | menor que   |\n",
    "| >=    | Mayor igual a   |\n",
    "| <=    | menor igual a  |\n",
    " \n",
    "Seleccionemos todos los libros escritos por Stephen King:\n",
    "\n",
    "```\n",
    "SELECT\n",
    "    name,\n",
    "    author\n",
    "FROM\n",
    "    books\n",
    "WHERE\n",
    "    author = 'Stephen King';\n",
    "\n",
    "--las strings se ponen entre comillas, como en Python\n",
    "```\n",
    "\n",
    "... y ahora todos los libros que no fueron escritos por Stephen King:\n",
    "\n",
    "\n",
    "```\n",
    "SELECT\n",
    "    name,\n",
    "    author\n",
    "FROM\n",
    "    books\n",
    "WHERE\n",
    "    author != 'Stephen King';\n",
    "```\n"
   ]
  },
  {
   "cell_type": "markdown",
   "metadata": {},
   "source": [
    "Aumentemos la complejidad e intentemos escribir una condición compleja usando operadores lógicos. Al igual que Python, SQL utiliza los operadores lógicos AND (Y), OR (O) y NOT (NO). Recuerda, así es como se diferencian:\n",
    "\n",
    "Vamos a reducir nuestra selección introduciendo varias condiciones a la vez:\n",
    "\n",
    "\n",
    "```\n",
    "SELECT\n",
    "    *\n",
    "FROM\n",
    "    table_name\n",
    "WHERE\n",
    "    condition_1\n",
    "    AND condition_2;\n",
    "\n",
    "--Selecciona las filas donde ambas condiciones sean verdaderas\n",
    "SELECT\n",
    "    *\n",
    "FROM\n",
    "    table_name\n",
    "WHERE\n",
    "    condition_1\n",
    "    OR condition_2;\n",
    "\n",
    "--Selecciona las filas donde una o ambas condiciones sean verdaderas\n",
    "SELECT\n",
    "    *\n",
    "FROM\n",
    "    table_name\n",
    "WHERE\n",
    "    condition_1\n",
    "    AND NOT condition_2;\n",
    "\n",
    "--Selecciona las filas donde condition_1 es verdadera y condition_2 es falsa\n",
    "```\n",
    "\n",
    "Recuperemos los datos sobre los libros escritos entre 1996 y 2000, incluidos sus autores y el número de páginas:\n",
    "\n",
    "```\n",
    "SELECT\n",
    "    name,\n",
    "    author,\n",
    "    date_pub,\n",
    "    pages\n",
    "FROM\n",
    "    books\n",
    "WHERE\n",
    "    date_pub > '1995-12-31'\n",
    "    AND date_pub < '2001-01-01';\n",
    "\n",
    "\n",
    "/* no se incluyen las fechas de inicio y fin;\n",
    "para seleccionar todos los días de 1996 a 2000,\n",
    "hemos tomado el último día de 1995\n",
    "y el primero del 2001 */\n",
    "```\n",
    "\n",
    "Podemos acortar esta instrucción introduciendo una instrucción BETWEEN. A diferencia del código anterior, BETWEEN incluye los límites (aquí, las fechas de inicio y fin) en la selección resultante:\n",
    "\n",
    "```\n",
    "SELECT\n",
    "    name,\n",
    "    author,\n",
    "    date_pub,\n",
    "    pages\n",
    "FROM\n",
    "    books\n",
    "WHERE\n",
    "    date_pub BETWEEN '1996-01-01'\n",
    "    AND '2000-12-31';\n",
    "\n",
    "\n",
    "/* se incluyen las fechas de inicio y fin, por lo que\n",
    "seleccionamos el primer día del año 1996 \n",
    "y el último día del 2000 */\n",
    "```\n",
    "\n",
    "Los resultados de las dos instrucciones serán los mismos. Elige el enfoque que te guste más. Algunos analistas consideran que el método con dos desigualdades es una mejor solución, ya que establece claramente si los límites del rango están incluidos en la selección. Otros argumentan que las instrucciones con BETWEEN son un mejor código porque son más concisas.\n",
    "\n",
    "Ahora vamos a escribir una instrucción que seleccione los nombres de todos los libros en los géneros humor, fantasía o novela juvenil.\n",
    "\n",
    "```\n",
    "SELECT\n",
    "    name,\n",
    "    genre\n",
    "FROM\n",
    "    books\n",
    "WHERE\n",
    "    genre = 'Humor'\n",
    "    OR genre = 'Fantasy'\n",
    "    OR genre = 'Young Adult';\n",
    "```\n",
    "\n",
    "Pero, ¿qué pasaría si quisiéramos todos los títulos de una lista de 20 o más géneros? Necesitaríamos una solución más concisa. Como ésta:\n",
    "\n",
    "```\n",
    "SELECT\n",
    "    name,\n",
    "    genre\n",
    "FROM\n",
    "    books\n",
    "WHERE\n",
    "    genre IN ('Humor', 'Fantasy', 'Young Adult');\n",
    "```\n",
    "\n",
    "Escribimos un código con el operador IN. El operador IN es seguido de una lista de valores que se incluirán en el resultado:\n",
    "\n",
    "SELECT\n",
    "    *\n",
    "FROM\n",
    "    table_name\n",
    "WHERE\n",
    "    column_name IN ('value_1', 'value_2', 'value_3');\n",
    "\n",
    "\n",
    "Si los valores son números, se separan entre sí por comas: IN (3,7,9). Si son strings, se ponen entre comillas simples y, de nuevo, se separan por comas: IN ('value_1','value_2','value_3'). La fecha y la hora se indican de la siguiente manera: IN ('yyyy-mm-dd','yyyy-mm-dd')\n",
    "\n",
    "Poner NOT delante del operador IN te permite seleccionar todos los libros cuyos géneros no son humor, fantasía y novela juvenil:\n",
    "\n",
    "\n",
    "```\n",
    "SELECT\n",
    "    name,\n",
    "    genre\n",
    "FROM\n",
    "    books\n",
    "WHERE\n",
    "    genre NOT IN ('Humor', 'Fantasy', 'Young Adult');\n",
    "```\n"
   ]
  },
  {
   "cell_type": "markdown",
   "metadata": {},
   "source": [
    "### Ejercicios!\n",
    "\n",
    "**Ejercicio 1**\n",
    "\n",
    "Estudia qué artículos tienen en oferta las tiendas y cuáles son sus cifras de ventas para el 1 de junio. Puedes obtener información sobre las actualizaciones diarias del catálogo de productos en la tabla products_data_all.\n",
    "\n",
    "Escribe una consulta para seleccionar los siguientes campos de la tabla:\n",
    "\n",
    "- Nombre del producto (name)\n",
    "- Precio (price)\n",
    "- Nombre de la tienda (name_store)\n",
    "- Fecha (date_upd)\n",
    "\n",
    "Crea un slice de datos basado en la categoría (category) y la fecha (date_upd). Te interesa la categoría milk y la fecha del Día Mundial de la Leche — '2019-06-01'. Ten en cuenta que vamos a especificar las condiciones en el bloque WHERE, no en el bloque SELECT.\n"
   ]
  },
  {
   "cell_type": "code",
   "execution_count": null,
   "metadata": {
    "vscode": {
     "languageId": "sql"
    }
   },
   "outputs": [],
   "source": [
    "SELECT\n",
    "    name,\n",
    "    price,\n",
    "    name_store,\n",
    "    date_upd\n",
    "from \n",
    "    products_data_all\n",
    "WHERE \n",
    "    category = 'milk' AND date_upd = '2019-06-01' ;\n",
    "                      \n"
   ]
  },
  {
   "cell_type": "markdown",
   "metadata": {},
   "source": [
    "**Ejercicio 2**\n",
    "\n",
    "Descarga los campos name, price, name_store, date_upd (en ese orden) de la categoría milk para los sábados restantes de junio (8, 15, 22 y 29 de junio).\n",
    "\n"
   ]
  },
  {
   "cell_type": "code",
   "execution_count": null,
   "metadata": {
    "vscode": {
     "languageId": "sql"
    }
   },
   "outputs": [],
   "source": [
    "SELECT\n",
    "    name,\n",
    "    price,\n",
    "    name_store,\n",
    "    date_upd\n",
    "FROM\n",
    "    products_data_all\n",
    "WHERE\n",
    "    category = 'milk'\n",
    "    AND\n",
    "    date_upd IN ('2019-06-08', '2019-06-15', '2019-06-22', '2019-06-29')\n",
    "   "
   ]
  },
  {
   "cell_type": "markdown",
   "metadata": {},
   "source": [
    "**Ejercicio 3**\n",
    "\n",
    "Necesitamos tu ayuda para probar la hipótesis de que los clientes compran más leche en el Día Mundial de la Leche. Tendrás que seleccionar datos de la tabla de transactions. Descarga todos los datos de las compras de leche del 1 de junio de 2019.\n",
    "\n",
    "Ten en cuenta que el campo date de la tabla transactions especifica horas, minutos y segundos. Escribe una condición que seleccione las compras realizadas entre el 1 de junio (inclusivo) y el 2 de junio (exclusivo).\n",
    "\n",
    "La tabla transactions no contiene información sobre categorías de productos, pero hemos preparado una lista de identificadores únicos (id_product) para productos de la categoría milk. Añade una condición a WHERE para filtrar los productos con los siguientes ID:\n",
    "\n",
    "( 0, 1, 2, 3, 4, 5, 6, 7, 8, 9, 10, 11, 12,\n",
    "13, 14, 15, 16, 17, 18, 19, 20, 21, 22, 23, 24, 25,\n",
    "26, 27, 28, 29, 30, 31, 32, 33, 34, 35, 36, 37, 38,\n",
    "39, 40, 41, 42, 43, 44, 45, 46, 47, 48, 49, 50, 51,\n",
    "52, 53, 54, 55, 56, 57, 58, 59, 60, 61, 62, 63, 64,\n",
    "65, 66, 67, 68, 69, 70, 71, 72, 73, 74, 75, 76, 77,\n",
    "78, 79, 80, 81, 82, 83, 84, 85, 86, 87, 88, 89, 90,\n",
    "91, 92, 93, 94, 95, 96, 97, 98, 99, 100, 101, 102, 103,\n",
    "104, 105, 106, 107, 108, 109, 110, 111, 112, 113, 114, 115, 116,\n",
    "117, 118, 119, 120, 121, 122, 123, 124, 125, 126, 127, 128, 129,\n",
    "130, 131, 132, 133, 134, 135, 136, 137, 138, 139, 140, 141, 142,\n",
    "143, 144, 145, 146, 147, 148, 149, 150, 151, 152, 153, 154, 155,\n",
    "156, 157, 158, 159, 160, 161)"
   ]
  },
  {
   "cell_type": "code",
   "execution_count": null,
   "metadata": {
    "vscode": {
     "languageId": "sql"
    }
   },
   "outputs": [],
   "source": [
    "SELECT\n",
    "    *\n",
    "FROM\n",
    "    transactions\n",
    "WHERE\n",
    "    date >= '2019-06-01' And date < '2019-06-02'\n",
    "    and\n",
    "    id_product in ( 0, 1, 2, 3, 4, 5, 6, 7, 8, 9, 10, 11, 12,\n",
    "13, 14, 15, 16, 17, 18, 19, 20, 21, 22, 23, 24, 25,\n",
    "26, 27, 28, 29, 30, 31, 32, 33, 34, 35, 36, 37, 38,\n",
    "39, 40, 41, 42, 43, 44, 45, 46, 47, 48, 49, 50, 51,\n",
    "52, 53, 54, 55, 56, 57, 58, 59, 60, 61, 62, 63, 64,\n",
    "65, 66, 67, 68, 69, 70, 71, 72, 73, 74, 75, 76, 77,\n",
    "78, 79, 80, 81, 82, 83, 84, 85, 86, 87, 88, 89, 90,\n",
    "91, 92, 93, 94, 95, 96, 97, 98, 99, 100, 101, 102, 103,\n",
    "104, 105, 106, 107, 108, 109, 110, 111, 112, 113, 114, 115, 116,\n",
    "117, 118, 119, 120, 121, 122, 123, 124, 125, 126, 127, 128, 129,\n",
    "130, 131, 132, 133, 134, 135, 136, 137, 138, 139, 140, 141, 142,\n",
    "143, 144, 145, 146, 147, 148, 149, 150, 151, 152, 153, 154, 155,\n",
    "156, 157, 158, 159, 160, 161)\n",
    "\n",
    "   "
   ]
  },
  {
   "cell_type": "markdown",
   "metadata": {},
   "source": [
    "<hr>\n",
    "\n",
    "# **Función de Agregación**\n",
    "\n",
    "Al igual que Python, SQL tiene funciones específicas para calcular el número total de filas, sumas, promedios y valores mínimos y máximos. Se conocen como funciones de agregación. Recopilan o agregan todos los objetos dentro de un grupo para calcular un valor de resumen único.\n",
    "\n",
    "Aquí está la sintaxis de una instrucción con una función de agregación:\n",
    "\n"
   ]
  },
  {
   "cell_type": "code",
   "execution_count": null,
   "metadata": {
    "vscode": {
     "languageId": "sql"
    }
   },
   "outputs": [],
   "source": [
    "SELECT\n",
    "    AGGREGATE_FUNCTION (field) AS here_you_are\n",
    "    --here_you_are - nombre de la columna donde se almacenará el resultado de la función\n",
    "FROM\n",
    "    TABLE;"
   ]
  },
  {
   "cell_type": "markdown",
   "metadata": {},
   "source": [
    "Cuando llamas a una función de agregación, por defecto le da a la columna de resultado un nombre difícil de manejar. Para evitarlo, utiliza el comando AS y escribe uno nuevo y más simple.\n",
    "\n",
    "La función COUNT devuelve el número de filas de una tabla:\n"
   ]
  },
  {
   "cell_type": "code",
   "execution_count": null,
   "metadata": {
    "vscode": {
     "languageId": "sql"
    }
   },
   "outputs": [],
   "source": [
    "SELECT\n",
    "    COUNT(*) AS cnt\n",
    "FROM\n",
    "    books;\n",
    "\n",
    "    --RESULTADO:  30"
   ]
  },
  {
   "cell_type": "markdown",
   "metadata": {},
   "source": [
    "También puedes encontrar el número de filas en un slice de datos. Para hacerlo, utiliza COUNT junto con WHERE. Vamos a averiguar cuántos libros fueron escritos por Dean Koontz:"
   ]
  },
  {
   "cell_type": "code",
   "execution_count": null,
   "metadata": {
    "vscode": {
     "languageId": "sql"
    }
   },
   "outputs": [],
   "source": [
    "SELECT\n",
    "    COUNT(*) AS cnt\n",
    "FROM\n",
    "    books\n",
    "WHERE\n",
    "    author = 'Dean Koontz';\n",
    "\n",
    "    --Resultado : 4"
   ]
  },
  {
   "cell_type": "markdown",
   "metadata": {},
   "source": [
    "El número de filas se puede calcular de varias maneras dependiendo del ejercicio:\n",
    "\n",
    "- COUNT(*) devuelve el número total de filas de la tabla\n",
    "- COUNT(column) devuelve el número de valores en una columna\n",
    "- COUNT(DISTINCT column) devuelve el número de valores únicos en una columna\n",
    "\n",
    "Obtengamos el número total de filas de la tabla; el número de filas con el identificador del editor; y el número de filas con valores únicos de publisher_id:"
   ]
  },
  {
   "cell_type": "code",
   "execution_count": null,
   "metadata": {
    "vscode": {
     "languageId": "sql"
    }
   },
   "outputs": [],
   "source": [
    "SELECT\n",
    "    COUNT(*) AS cnt,\n",
    "    COUNT(publisher_id) AS publisher_id_cnt,\n",
    "    COUNT(DISTINCT publisher_id) AS publisher_id_uniq_cnt\n",
    "FROM\n",
    "    books;\n",
    "\n",
    "    /* Resultado:\n",
    "30\n",
    "28\n",
    "19\n",
    "    */"
   ]
  },
  {
   "cell_type": "markdown",
   "metadata": {},
   "source": [
    "Como puedes ver, obtuvimos valores diferentes. Esto se debe a que la columna publisher_id contiene valores ausentes e identificadores de editores repetidos y no únicos. \n",
    "\n",
    "SUM(column) devuelve la suma de los valores de una columna. Ignora los val\n",
    "ores ausentes.\n",
    "\n",
    "Vamos a sumar el número de páginas de todos los libros aplicando la función SUM a la columna pages:"
   ]
  },
  {
   "cell_type": "code",
   "execution_count": null,
   "metadata": {
    "vscode": {
     "languageId": "sql"
    }
   },
   "outputs": [],
   "source": [
    "SELECT\n",
    "    SUM(pages) AS total_pages\n",
    "FROM\n",
    "    books;\n",
    "\n",
    "    --Resultado:  16812"
   ]
  },
  {
   "cell_type": "markdown",
   "metadata": {},
   "source": [
    "Ten en cuenta que la función SUM sólo funciona con valores numéricos.\n",
    "\n",
    "AVG (column) devuelve el valor promedio de los valores de column. Determinemos la calificación promedio de los libros de nuestra tabla:"
   ]
  },
  {
   "cell_type": "code",
   "execution_count": null,
   "metadata": {
    "vscode": {
     "languageId": "sql"
    }
   },
   "outputs": [],
   "source": [
    "SELECT\n",
    "    AVG(rating) AS average\n",
    "FROM\n",
    "    books;\n",
    "\n",
    "    -- Resultado : ALGO ESTÁ MAL, YA QUE LA COLUMNA RATING ESTA EN FORMATO STRING"
   ]
  },
  {
   "cell_type": "markdown",
   "metadata": {},
   "source": [
    "encontremos el número promedio de páginas por libro:"
   ]
  },
  {
   "cell_type": "code",
   "execution_count": null,
   "metadata": {
    "vscode": {
     "languageId": "sql"
    }
   },
   "outputs": [],
   "source": [
    "SELECT\n",
    "    AVG(pages) AS average_pages\n",
    "FROM\n",
    "    books;\n",
    "\n",
    "    --Resultado : 560.4\n"
   ]
  },
  {
   "cell_type": "markdown",
   "metadata": {},
   "source": [
    "## Ejercicios\n",
    "\n",
    "**Ejercicio 1**\n",
    "\n",
    "Escribe una consulta para calcular el número total de filas en la tabla products_data_all. Nombra la variable cnt."
   ]
  },
  {
   "cell_type": "code",
   "execution_count": null,
   "metadata": {
    "vscode": {
     "languageId": "sql"
    }
   },
   "outputs": [],
   "source": [
    "SELECT \n",
    "\tCOUNT(*) AS cnt\n",
    "FROM\n",
    "    products_data_all;"
   ]
  },
  {
   "cell_type": "markdown",
   "metadata": {},
   "source": [
    "**Ejercicio 2**\n",
    "\n",
    "Escribe una consulta para calcular el número de filas en la tabla products_data_all, el número de filas en la columna name, y el número de productos únicos en la columna name. Nombra cnt, name_cnt y name_uniq_cnt, respectivamente, a las variables resultantes."
   ]
  },
  {
   "cell_type": "code",
   "execution_count": null,
   "metadata": {
    "vscode": {
     "languageId": "sql"
    }
   },
   "outputs": [],
   "source": [
    "SELECT \n",
    "\tCOUNT (*) AS cnt,\n",
    "    COUNT (name) AS name_cnt,\n",
    "    COUNT (DISTINCT name) AS name_uniq_cnt\n",
    "FROM\n",
    "    products_data_all;"
   ]
  },
  {
   "cell_type": "markdown",
   "metadata": {},
   "source": [
    "**Ejercicio 3**\n",
    "\n",
    "Escribe una consulta para calcular el precio promedio de los productos de la tabla products_data_all. El precio se indica en la columna price. Nombra la variable resultante average."
   ]
  },
  {
   "cell_type": "code",
   "execution_count": null,
   "metadata": {
    "vscode": {
     "languageId": "sql"
    }
   },
   "outputs": [],
   "source": [
    "SELECT\n",
    "    AVG(price) AS average\n",
    "FROM \n",
    "    products_data_all\n"
   ]
  },
  {
   "cell_type": "markdown",
   "metadata": {},
   "source": [
    "**Ejercicio 4**\n",
    "\n",
    "Escribe una consulta para calcular el precio medio del producto 'Borden Whole Milk, 1 gal' en la tienda 'Wise Penny'. Nombra la variable resultante average."
   ]
  },
  {
   "cell_type": "code",
   "execution_count": null,
   "metadata": {
    "vscode": {
     "languageId": "sql"
    }
   },
   "outputs": [],
   "source": [
    "SELECT \n",
    "    AVG(price) AS average     \n",
    "FROM\n",
    "    products_data_all\n",
    "WHERE\n",
    "    name= 'Borden Whole Milk, 1 gal' AND\n",
    "    name_store = 'Wise Penny'"
   ]
  },
  {
   "cell_type": "markdown",
   "metadata": {},
   "source": [
    "**Ejercicio 5**\n",
    "\n",
    "Escribe una consulta para calcular la suma de los precios de todos los productos de la tienda 'T-E-B'. Nombra la variable total_cost."
   ]
  },
  {
   "cell_type": "code",
   "execution_count": null,
   "metadata": {
    "vscode": {
     "languageId": "sql"
    }
   },
   "outputs": [],
   "source": [
    "SELECT \n",
    "\tSUM(price) as total_cost\n",
    "FROM\n",
    "    products_data_all\n",
    "WHERE\n",
    "    name_store = 'T-E-B'"
   ]
  },
  {
   "cell_type": "markdown",
   "metadata": {},
   "source": [
    "**Ejercicio 6**\n",
    "\n",
    "Encuentra el precio del producto más caro en la tabla products_data_all.  Nombra la variable max_price."
   ]
  },
  {
   "cell_type": "code",
   "execution_count": null,
   "metadata": {
    "vscode": {
     "languageId": "sql"
    }
   },
   "outputs": [],
   "source": [
    "SELECT \n",
    "\tMAX(price) as max_price\n",
    "FROM\n",
    "    products_data_all;"
   ]
  }
 ],
 "metadata": {
  "kernelspec": {
   "display_name": "Python 3",
   "language": "python",
   "name": "python3"
  },
  "language_info": {
   "codemirror_mode": {
    "name": "ipython",
    "version": 3
   },
   "file_extension": ".py",
   "mimetype": "text/x-python",
   "name": "python",
   "nbconvert_exporter": "python",
   "pygments_lexer": "ipython3",
   "version": "3.11.6"
  }
 },
 "nbformat": 4,
 "nbformat_minor": 2
}
