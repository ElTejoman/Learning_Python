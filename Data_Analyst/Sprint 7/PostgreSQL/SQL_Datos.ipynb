{
 "cells": [
  {
   "cell_type": "markdown",
   "metadata": {},
   "source": [
    "# SQL y slices de Datos\n",
    "\n",
    "Recuerda que tomar un slice te permite filtrar datos irrelevantes, dejándote solo con lo que necesitas para tu análisis. Sabes cómo obtener slices de datos utilizando el método query() en Python. Llegó la hora de aprender cómo hacerlo en SQL.\n",
    "\n",
    "El inicio de la condición utilizada para seleccionar datos se marca con el comando WHERE. La condición se evalúa en cada fila de la tabla:\n",
    "\n",
    "````\n",
    "SELECT\n",
    "    column_1,\n",
    "    column_2 --seleccionar nombres de columna\n",
    "FROM\n",
    "    table_name --especificar la tabla\n",
    "WHERE\n",
    "    condition;\n",
    "\n",
    "--definir la condición de selección de fila\n",
    "````\n",
    "\n",
    "El orden de los operadores está definido estrictamente:\n",
    "\n",
    "1) SELECT \n",
    "\n",
    "2) FROM\n",
    "\n",
    "3) WHERE\n",
    "\n",
    "Ten en cuenta que el bloque WHERE es más general que SELECT: en realidad se procesa primero. WHERE filtra los datos de la tabla en su conjunto mientras que SELECT reduce la selección.\n",
    "\n",
    "| Nombre | Significado | \n",
    "|----------|----------|\n",
    "| =   | igual a  | \n",
    "| <>,!=    | diferente a    |\n",
    "| >    | mayor que   |\n",
    "| <    | menor que   |\n",
    "| >=    | Mayor igual a   |\n",
    "| <=    | menor igual a  |\n",
    " \n",
    "Seleccionemos todos los libros escritos por Stephen King:\n",
    "\n",
    "```\n",
    "SELECT\n",
    "    name,\n",
    "    author\n",
    "FROM\n",
    "    books\n",
    "WHERE\n",
    "    author = 'Stephen King';\n",
    "\n",
    "--las strings se ponen entre comillas, como en Python\n",
    "```\n",
    "\n",
    "... y ahora todos los libros que no fueron escritos por Stephen King:\n",
    "\n",
    "\n",
    "```\n",
    "SELECT\n",
    "    name,\n",
    "    author\n",
    "FROM\n",
    "    books\n",
    "WHERE\n",
    "    author != 'Stephen King';\n",
    "```\n"
   ]
  },
  {
   "cell_type": "markdown",
   "metadata": {},
   "source": []
  }
 ],
 "metadata": {
  "kernelspec": {
   "display_name": "Python 3",
   "language": "python",
   "name": "python3"
  },
  "language_info": {
   "codemirror_mode": {
    "name": "ipython",
    "version": 3
   },
   "file_extension": ".py",
   "mimetype": "text/x-python",
   "name": "python",
   "nbconvert_exporter": "python",
   "pygments_lexer": "ipython3",
   "version": "3.11.6"
  }
 },
 "nbformat": 4,
 "nbformat_minor": 2
}
