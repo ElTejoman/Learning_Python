{
 "cells": [
  {
   "cell_type": "markdown",
   "metadata": {},
   "source": [
    "# **RECOPILACIÓN Y ALMACENAMIENTO DE DATOS - SQL**"
   ]
  },
  {
   "cell_type": "markdown",
   "metadata": {},
   "source": [
    "### **El navegador y las solicitudes**\n",
    "\n",
    "Cuando accedes a un sitio web, tu navegador envía una solicitud HTTP al servidor. El servidor, a su vez, formula una respuesta: el código HTML de la página correspondiente.\n",
    "\n",
    "**Formato de solicitud**\n",
    "\n",
    "Una solicitud formada por un navegador puede contener lo siguiente:\n",
    "\n",
    "- Método HTTP: determina la operación a realizar. Existen varios métodos. Los más populares son GET y POST. El primero solicita datos del servidor, mientras que el segundo los envía.\n",
    "- Ruta: el segmento de la dirección que sigue al nombre del sitio example.com/hello la ruta es /hello).\n",
    "- Versión HTTP: la versión del protocolo HTTP utilizado para enviar la solicitud (por ejemplo, HTTP/1.1).\n",
    "- Encabezados de la solicitud: se utilizan para enviar información adicional al servidor.\n",
    "- Cuerpo de la solicitud: por ejemplo, el cuerpo de una solicitud POST son los datos que se envían. No todas las solicitudes tienen cuerpo.\n",
    "\n",
    "**Formato de respuesta**\n",
    "\n",
    "La respuesta puede contener:\n",
    "\n",
    "- La versión HTTP.\n",
    "- El código y el mensaje de respuesta (por ejemplo, \"200 OK\" si todo va bien, o \"404 Not Found\" si no se encuentra la ruta solicitada).\n",
    "- Encabezados que contienen información adicional para el navegador.\n",
    "- Cuerpo de la respuesta (por ejemplo, cuando abres el sitio web, verás el código HTML de esta página en el cuerpo de la respuesta).\n",
    "\n",
    "## **Primera solicitud GET**\n",
    "\n",
    "Para obtener datos del servidor, usaremos el método get(), y para enviar solicitudes HTTP, necesitamos la librería Requests. Importamos la librería:"
   ]
  },
  {
   "cell_type": "code",
   "execution_count": 1,
   "metadata": {},
   "outputs": [],
   "source": [
    "import requests\n",
    "\n",
    "URL = \"https://practicum-content.s3.us-west-1.amazonaws.com/new-markets/Data_sprint_6/web-sites/most_famous_shipwrecks_es_1.html?etag=87662559becdeb134637e5670502d6d6\""
   ]
  }
 ],
 "metadata": {
  "kernelspec": {
   "display_name": "Python 3",
   "language": "python",
   "name": "python3"
  },
  "language_info": {
   "codemirror_mode": {
    "name": "ipython",
    "version": 3
   },
   "file_extension": ".py",
   "mimetype": "text/x-python",
   "name": "python",
   "nbconvert_exporter": "python",
   "pygments_lexer": "ipython3",
   "version": "3.11.8"
  }
 },
 "nbformat": 4,
 "nbformat_minor": 2
}
