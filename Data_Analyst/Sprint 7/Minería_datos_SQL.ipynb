{
 "cells": [
  {
   "cell_type": "markdown",
   "metadata": {},
   "source": [
    "# **RECOPILACIÓN Y ALMACENAMIENTO DE DATOS - SQL**"
   ]
  },
  {
   "cell_type": "markdown",
   "metadata": {},
   "source": [
    "### **El navegador y las solicitudes**\n",
    "\n",
    "Cuando accedes a un sitio web, tu navegador envía una solicitud HTTP al servidor. El servidor, a su vez, formula una respuesta: el código HTML de la página correspondiente.\n",
    "\n",
    "**Formato de solicitud**\n",
    "\n",
    "Una solicitud formada por un navegador puede contener lo siguiente:\n",
    "\n",
    "- Método HTTP: determina la operación a realizar. Existen varios métodos. Los más populares son GET y POST. El primero solicita datos del servidor, mientras que el segundo los envía.\n",
    "- Ruta: el segmento de la dirección que sigue al nombre del sitio example.com/hello la ruta es /hello).\n",
    "- Versión HTTP: la versión del protocolo HTTP utilizado para enviar la solicitud (por ejemplo, HTTP/1.1).\n",
    "- Encabezados de la solicitud: se utilizan para enviar información adicional al servidor.\n",
    "- Cuerpo de la solicitud: por ejemplo, el cuerpo de una solicitud POST son los datos que se envían. No todas las solicitudes tienen cuerpo.\n",
    "\n",
    "**Formato de respuesta**\n",
    "\n",
    "La respuesta puede contener:\n",
    "\n",
    "- La versión HTTP.\n",
    "- El código y el mensaje de respuesta (por ejemplo, \"200 OK\" si todo va bien, o \"404 Not Found\" si no se encuentra la ruta solicitada).\n",
    "- Encabezados que contienen información adicional para el navegador.\n",
    "- Cuerpo de la respuesta (por ejemplo, cuando abres el sitio web, verás el código HTML de esta página en el cuerpo de la respuesta).\n",
    "\n",
    "## **Primera solicitud GET**\n",
    "\n",
    "Para obtener datos del servidor, usaremos el método get(), y para enviar solicitudes HTTP, necesitamos la librería Requests. Importamos la librería:"
   ]
  },
  {
   "cell_type": "code",
   "execution_count": 1,
   "metadata": {},
   "outputs": [
    {
     "ename": "ModuleNotFoundError",
     "evalue": "No module named 'requests'",
     "output_type": "error",
     "traceback": [
      "\u001b[1;31m---------------------------------------------------------------------------\u001b[0m",
      "\u001b[1;31mModuleNotFoundError\u001b[0m                       Traceback (most recent call last)",
      "Cell \u001b[1;32mIn[1], line 1\u001b[0m\n\u001b[1;32m----> 1\u001b[0m \u001b[38;5;28;01mimport\u001b[39;00m \u001b[38;5;21;01mrequests\u001b[39;00m\n\u001b[0;32m      3\u001b[0m URL \u001b[38;5;241m=\u001b[39m \u001b[38;5;124m\"\u001b[39m\u001b[38;5;124mhttps://practicum-content.s3.us-west-1.amazonaws.com/new-markets/Data_sprint_6/web-sites/most_famous_shipwrecks_es_1.html?etag=87662559becdeb134637e5670502d6d6\u001b[39m\u001b[38;5;124m\"\u001b[39m\n\u001b[0;32m      5\u001b[0m \u001b[38;5;66;03m# El método get() de la librería Requests actúa como un navegador. Le pasaremos el enlace como argumento. El método enviará al servidor una solicitud GET, luego procesará la respuesta que reciba y devolverá una respuesta, un objeto que contiene la respuesta del servidor a la solicitud.\u001b[39;00m\n",
      "\u001b[1;31mModuleNotFoundError\u001b[0m: No module named 'requests'"
     ]
    }
   ],
   "source": [
    "import requests\n",
    "\n",
    "URL = \"https://practicum-content.s3.us-west-1.amazonaws.com/new-markets/Data_sprint_6/web-sites/most_famous_shipwrecks_es_1.html?etag=87662559becdeb134637e5670502d6d6\"\n",
    "\n",
    "# El método get() de la librería Requests actúa como un navegador. Le pasaremos el enlace como argumento. El método enviará al servidor una solicitud GET, luego procesará la respuesta que reciba y devolverá una respuesta, un objeto que contiene la respuesta del servidor a la solicitud.\n",
    "\n",
    "req = requests.get(URL)  # guardando el objeto de respuesta como variable requerida\n",
    "\n",
    "print(req.text)  # el nombre del atributo se coloca después del objeto de respuesta y se divide por un punto"
   ]
  },
  {
   "cell_type": "markdown",
   "metadata": {},
   "source": [
    "**El atributo status_code te dice si el servidor ha respondido o si ha ocurrido un error.\n",
    "Vamos a generar el código de estado de la respuesta:**"
   ]
  },
  {
   "cell_type": "code",
   "execution_count": null,
   "metadata": {},
   "outputs": [
    {
     "name": "stdout",
     "output_type": "stream",
     "text": [
      "200\n"
     ]
    }
   ],
   "source": [
    "print(req.status_code)"
   ]
  },
  {
   "cell_type": "markdown",
   "metadata": {},
   "source": [
    "\n",
    "Desafortunadamente, no todas las solicitudes regresan con datos. A veces, las solicitudes devuelven errores; cada uno tiene un código especial dependiendo de su tipo. Estos son los errores más comunes:\n",
    "\n",
    "| Codigo error | Nombre | Implicaciones |\n",
    "|----------|----------|----------|\n",
    "| 200    | OK   | Todo está bien   |\n",
    "| 302    | Found    | La página ha sido movida   |\n",
    "| 400    | Bad Request   | Error en la sintaxis de la solicitud   |\n",
    "| 404    | Not Found   | No se puede encontrar la página   |\n",
    "| 500    | Internal Server Error   | Error por parte del servidor   |\n",
    "| 502    | Bad Gateway   | Error en el intercambio de datos entre servidores   |\n",
    "| 503    | Server Unvailable   | El servidor no puede procesar solicitudes temporalmente   |\n",
    "\n"
   ]
  },
  {
   "cell_type": "markdown",
   "metadata": {},
   "source": [
    "### Practicando\n",
    "\n",
    "**Ejercicio 1**\n",
    "\n",
    "Escribe una solicitud GET en la siguiente página: https://tripleten-com.github.io/simple-shop_es/. Guarda tu resultado en la variable req."
   ]
  },
  {
   "cell_type": "code",
   "execution_count": null,
   "metadata": {},
   "outputs": [
    {
     "name": "stdout",
     "output_type": "stream",
     "text": [
      "<!DOCTYPE html>\n",
      "<html lang=\"es\">\n",
      "  <head>\n",
      "    <meta charset=\"UTF-8\" />\n",
      "    <meta http-equiv=\"X-UA-Compatible\" content=\"IE=edge\" />\n",
      "    <meta name=\"viewport\" content=\"width=device-width, initial-scale=1.0\" />\n",
      "    <link rel=\"stylesheet\" href=\"./pages/index.css\" />\n",
      "    <title>Tierra de lácteos Tienda</title>\n",
      "  </head>\n",
      "  <body class=\"page\">\n",
      "    <div class=\"page__content\">\n",
      "      <header class=\"header page__section\">\n",
      "        <img src=\"./images/logo.png\" alt=\"Tierra de lácteos.\" class=\"logo\" />\n",
      "      </header>\n",
      "      <main class=\"content\">\n",
      "        <h1 class=\"content__title\">Alta calidad, productores locales</h1>\n",
      "        <section class=\"products page__section\">\n",
      "          <ul class=\"cards\">\n",
      "            <li class=\"card\">\n",
      "              <img\n",
      "                src=\"https://cdn-icons-png.flaticon.com/512/684/684614.png\"\n",
      "                alt=\"\"\n",
      "                class=\"card__image\"\n",
      "              />\n",
      "              <p class=\"t754__title t-name t-name_md js-product-name\">Leche de vaca entera, 1 galón</p>\n",
      "              <p class=\"t754__price-value js-product-price\">$4.23</p>\n",
      "            </li>\n",
      "            <li class=\"card\">\n",
      "              <img\n",
      "                src=\"https://cdn-icons-png.flaticon.com/512/684/684614.png\"\n",
      "                alt=\"\"\n",
      "                class=\"card__image\"\n",
      "              />\n",
      "              <p class=\"t754__title t-name t-name_md js-product-name\">Fairlife Leche entera, 52 onzas</p>\n",
      "              <p class=\"t754__price-value js-product-price\">$3.11</p>\n",
      "            </li>\n",
      "            <li class=\"card\">\n",
      "              <img\n",
      "                src=\"https://cdn-icons-png.flaticon.com/512/684/684614.png\"\n",
      "                alt=\"\"\n",
      "                class=\"card__image\"\n",
      "              />\n",
      "              <p class=\"t754__title t-name t-name_md js-product-name\">Nestle Nesquik Leche chocolatada baja en grasa, 16 pecks</p>\n",
      "              <p class=\"t754__price-value js-product-price\">$11.54</p>\n",
      "            </li>\n",
      "            <li class=\"card\">\n",
      "              <img\n",
      "                src=\"https://cdn-icons-png.flaticon.com/512/684/684614.png\"\n",
      "                alt=\"\"\n",
      "                class=\"card__image\"\n",
      "              />\n",
      "              <p class=\"t754__title t-name t-name_md js-product-name\">Moo-Moo Leche desnatada con ingredientes seleccionados, 1 cuarto</p>\n",
      "              <p class=\"t754__price-value js-product-price\">$0.92</p>\n",
      "            </li>\n",
      "            <li class=\"card\">\n",
      "              <img\n",
      "                src=\"https://cdn-icons-png.flaticon.com/512/684/684614.png\"\n",
      "                alt=\"\"\n",
      "                class=\"card__image\"\n",
      "              />\n",
      "              <p class=\"t754__title t-name t-name_md js-product-name\">Moo-Moo Leche desnatada con ingredientes seleccionados Moo-Moo, 1 galón</p>\n",
      "              <p class=\"t754__price-value js-product-price\">$2.3</p>\n",
      "            </li>\n",
      "            <li class=\"card\">\n",
      "              <img\n",
      "                src=\"https://cdn-icons-png.flaticon.com/512/684/684614.png\"\n",
      "                alt=\"\"\n",
      "                class=\"card__image\"\n",
      "              />\n",
      "              <p class=\"t754__title t-name t-name_md js-product-name\">Silk Leche de coco sin azúcar, 1/2 galón</p>\n",
      "              <p class=\"t754__price-value js-product-price\">$2.99</p>\n",
      "            </li>\n",
      "            <li class=\"card\">\n",
      "              <img\n",
      "                src=\"https://cdn-icons-png.flaticon.com/512/684/684614.png\"\n",
      "                alt=\"\"\n",
      "                class=\"card__image\"\n",
      "              />\n",
      "              <p class=\"t754__title t-name t-name_md js-product-name\">Fairlife Leche desnatada, 52 onzas</p>\n",
      "              <p class=\"t754__price-value js-product-price\">$3.13</p>\n",
      "            </li>\n",
      "            <li class=\"card\">\n",
      "              <img\n",
      "                src=\"https://cdn-icons-png.flaticon.com/512/684/684614.png\"\n",
      "                alt=\"\"\n",
      "                class=\"card__image\"\n",
      "              />\n",
      "              <p class=\"t754__title t-name t-name_md js-product-name\">Horizon Organic Leche chocolatada baja en grasa enriquecida con omega-3 DHA, 12 pecks</p>\n",
      "              <p class=\"t754__price-value js-product-price\">$11.94</p>\n",
      "            </li>\n",
      "            <li class=\"card\">\n",
      "              <img\n",
      "                src=\"https://cdn-icons-png.flaticon.com/512/684/684614.png\"\n",
      "                alt=\"\"\n",
      "                class=\"card__image\"\n",
      "              />\n",
      "              <p class=\"t754__title t-name t-name_md js-product-name\">Yoo-hoo Bebida de chocolate, 3 pecks</p>\n",
      "              <p class=\"t754__price-value js-product-price\">$1</p>\n",
      "            </li>\n",
      "            <li class=\"card\">\n",
      "              <img\n",
      "                src=\"https://cdn-icons-png.flaticon.com/512/684/684614.png\"\n",
      "                alt=\"\"\n",
      "                class=\"card__image\"\n",
      "              />\n",
      "              <p class=\"t754__title t-name t-name_md js-product-name\">Moo-Moo Leche con ingredientes seleccionadosreducida al 2% en grasa, 1/2 galón</p>\n",
      "              <p class=\"t754__price-value js-product-price\">$1.33</p>\n",
      "            </li>\n",
      "            <li class=\"card\">\n",
      "              <img\n",
      "                src=\"https://cdn-icons-png.flaticon.com/512/684/684614.png\"\n",
      "                alt=\"\"\n",
      "                class=\"card__image\"\n",
      "              />\n",
      "              <p class=\"t754__title t-name t-name_md js-product-name\">Borden Leche Entera, 1 galón</p>\n",
      "              <p class=\"t754__price-value js-product-price\">$3.53</p>\n",
      "            </li>\n",
      "            <li class=\"card\">\n",
      "              <img\n",
      "                src=\"https://cdn-icons-png.flaticon.com/512/684/684614.png\"\n",
      "                alt=\"\"\n",
      "                class=\"card__image\"\n",
      "              />\n",
      "              <p class=\"t754__title t-name t-name_md js-product-name\">Caravelle Chaudoc Leche de Coco, 14 onzas</p>\n",
      "              <p class=\"t754__price-value js-product-price\">$1.96</p>\n",
      "            </li>\n",
      "            <li class=\"card\">\n",
      "              <img\n",
      "                src=\"https://cdn-icons-png.flaticon.com/512/684/684614.png\"\n",
      "                alt=\"\"\n",
      "                class=\"card__image\"\n",
      "              />\n",
      "              <p class=\"t754__title t-name t-name_md js-product-name\">Horizon Organic Leche Entera, 1/2 galón</p>\n",
      "              <p class=\"t754__price-value js-product-price\">$3.88</p>\n",
      "            </li>\n",
      "            <li class=\"card\">\n",
      "              <img\n",
      "                src=\"https://cdn-icons-png.flaticon.com/512/684/684614.png\"\n",
      "                alt=\"\"\n",
      "                class=\"card__image\"\n",
      "              />\n",
      "              <p class=\"t754__title t-name t-name_md js-product-name\">Nesquik Leche baja en grasa con sabor a fresa, 8 onzas</p>\n",
      "              <p class=\"t754__price-value js-product-price\">$0.92</p>\n",
      "            </li>\n",
      "            <li class=\"card\">\n",
      "              <img\n",
      "                src=\"https://cdn-icons-png.flaticon.com/512/684/684614.png\"\n",
      "                alt=\"\"\n",
      "                class=\"card__image\"\n",
      "              />\n",
      "              <p class=\"t754__title t-name t-name_md js-product-name\">Nesquik Leche baja en grasa con sabor a vainilla, 14 onzas</p>\n",
      "              <p class=\"t754__price-value js-product-price\">$1.34</p>\n",
      "            </li>\n",
      "            <li class=\"card\">\n",
      "              <img\n",
      "                src=\"https://cdn-icons-png.flaticon.com/512/684/684614.png\"\n",
      "                alt=\"\"\n",
      "                class=\"card__image\"\n",
      "              />\n",
      "              <p class=\"t754__title t-name t-name_md js-product-name\">Moo-Moo Leche con ingredientes seleccionados 1% baja en grasa, 1 galón</p>\n",
      "              <p class=\"t754__price-value js-product-price\">$2.24</p>\n",
      "            </li>\n",
      "            <li class=\"card\">\n",
      "              <img\n",
      "                src=\"https://cdn-icons-png.flaticon.com/512/684/684614.png\"\n",
      "                alt=\"\"\n",
      "                class=\"card__image\"\n",
      "              />\n",
      "              <p class=\"t754__title t-name t-name_md js-product-name\">Polar Premium Leche de coco orgánica, 13.5 onzas</p>\n",
      "              <p class=\"t754__price-value js-product-price\">$2.94</p>\n",
      "            </li>\n",
      "            <li class=\"card\">\n",
      "              <img\n",
      "                src=\"https://cdn-icons-png.flaticon.com/512/684/684614.png\"\n",
      "                alt=\"\"\n",
      "                class=\"card__image\"\n",
      "              />\n",
      "              <p class=\"t754__title t-name t-name_md js-product-name\">Borden Leche chocolatada holandesa, 1 pinta</p>\n",
      "              <p class=\"t754__price-value js-product-price\">$1.56</p>\n",
      "            </li>\n",
      "            <li class=\"card\">\n",
      "              <img\n",
      "                src=\"https://cdn-icons-png.flaticon.com/512/684/684614.png\"\n",
      "                alt=\"\"\n",
      "                class=\"card__image\"\n",
      "              />\n",
      "              <p class=\"t754__title t-name t-name_md js-product-name\">Borden Leche chocolatada holandesa, 1/2 galón</p>\n",
      "              <p class=\"t754__price-value js-product-price\">$2.7</p>\n",
      "            </li>\n",
      "            <li class=\"card\">\n",
      "              <img\n",
      "                src=\"https://cdn-icons-png.flaticon.com/512/684/684614.png\"\n",
      "                alt=\"\"\n",
      "                class=\"card__image\"\n",
      "              />\n",
      "              <p class=\"t754__title t-name t-name_md js-product-name\">Saco Leche desnatada instantánea orgánica, 3.2 onzas</p>\n",
      "              <p class=\"t754__price-value js-product-price\">$2.48</p>\n",
      "            </li>\n",
      "            <li class=\"card\">\n",
      "              <img\n",
      "                src=\"https://cdn-icons-png.flaticon.com/512/684/684614.png\"\n",
      "                alt=\"\"\n",
      "                class=\"card__image\"\n",
      "              />\n",
      "              <p class=\"t754__title t-name t-name_md js-product-name\">Hill Country Fare Leche reducida en grasa al 2%, 1 galón</p>\n",
      "              <p class=\"t754__price-value js-product-price\">$2.32</p>\n",
      "            </li>\n",
      "            <li class=\"card\">\n",
      "              <img\n",
      "                src=\"https://cdn-icons-png.flaticon.com/512/684/684614.png\"\n",
      "                alt=\"\"\n",
      "                class=\"card__image\"\n",
      "              />\n",
      "              <p class=\"t754__title t-name t-name_md js-product-name\">Horizon Organic Leche de vainilla baja en grasa enriquecida con omega-3 DHA, 6 pecks</p>\n",
      "              <p class=\"t754__price-value js-product-price\">$6.36</p>\n",
      "            </li>\n",
      "            <li class=\"card\">\n",
      "              <img\n",
      "                src=\"https://cdn-icons-png.flaticon.com/512/684/684614.png\"\n",
      "                alt=\"\"\n",
      "                class=\"card__image\"\n",
      "              />\n",
      "              <p class=\"t754__title t-name t-name_md js-product-name\">Horizon Organic Leche reducida en grasa al 2% enriquecida con omega-3 DHA, 1/2 galón</p>\n",
      "              <p class=\"t754__price-value js-product-price\">$4.34</p>\n",
      "            </li>\n",
      "            <li class=\"card\">\n",
      "              <img\n",
      "                src=\"https://cdn-icons-png.flaticon.com/512/684/684614.png\"\n",
      "                alt=\"\"\n",
      "                class=\"card__image\"\n",
      "              />\n",
      "              <p class=\"t754__title t-name t-name_md js-product-name\">Moo-Moo Leche chocolatada, 1/2 galón</p>\n",
      "              <p class=\"t754__price-value js-product-price\">$2.7</p>\n",
      "            </li>\n",
      "            <li class=\"card\">\n",
      "              <img\n",
      "                src=\"https://cdn-icons-png.flaticon.com/512/684/684614.png\"\n",
      "                alt=\"\"\n",
      "                class=\"card__image\"\n",
      "              />\n",
      "              <p class=\"t754__title t-name t-name_md js-product-name\">A Taste of Thai Leche de coco Lite, 13.5 onzas</p>\n",
      "              <p class=\"t754__price-value js-product-price\">$2.29</p>\n",
      "            </li>\n",
      "            <li class=\"card\">\n",
      "              <img\n",
      "                src=\"https://cdn-icons-png.flaticon.com/512/684/684614.png\"\n",
      "                alt=\"\"\n",
      "                class=\"card__image\"\n",
      "              />\n",
      "              <p class=\"t754__title t-name t-name_md js-product-name\">Meyenberg Leche de cabra, 1/2 galón</p>\n",
      "              <p class=\"t754__price-value js-product-price\">$7.8</p>\n",
      "            </li>\n",
      "            <li class=\"card\">\n",
      "              <img\n",
      "                src=\"https://static.thenounproject.com/png/3961115-200.png\"\n",
      "                alt=\"\"\n",
      "                class=\"card__image\"\n",
      "              />\n",
      "              <p class=\"t754__title t-name t-name_md js-product-name\">Kerrygold Mantequilla irlandesa con aceite de canola, 7.5 onzas</p>\n",
      "              <p class=\"t754__price-value js-product-price\">$2.8</p>\n",
      "            </li>\n",
      "            <li class=\"card\">\n",
      "              <img\n",
      "                src=\"https://static.thenounproject.com/png/3961115-200.png\"\n",
      "                alt=\"\"\n",
      "                class=\"card__image\"\n",
      "              />\n",
      "              <p class=\"t754__title t-name t-name_md js-product-name\">Danish Creamery Mantequilla sin sal, estilo europeo, 8 onzas</p>\n",
      "              <p class=\"t754__price-value js-product-price\">$2.97</p>\n",
      "            </li>\n",
      "            <li class=\"card\">\n",
      "              <img\n",
      "                src=\"https://static.thenounproject.com/png/3961115-200.png\"\n",
      "                alt=\"\"\n",
      "                class=\"card__image\"\n",
      "              />\n",
      "              <p class=\"t754__title t-name t-name_md js-product-name\">Kelapo Ghee Mantequilla clarificada, 13 onzas</p>\n",
      "              <p class=\"t754__price-value js-product-price\">$8.82</p>\n",
      "            </li>\n",
      "            <li class=\"card\">\n",
      "              <img\n",
      "                src=\"https://static.thenounproject.com/png/3961115-200.png\"\n",
      "                alt=\"\"\n",
      "                class=\"card__image\"\n",
      "              />\n",
      "              <p class=\"t754__title t-name t-name_md js-product-name\">Land O Lakes Mantequilla baja en sodio con aceite de canola, 15 onzas</p>\n",
      "              <p class=\"t754__price-value js-product-price\">$3.87</p>\n",
      "            </li>\n",
      "            <li class=\"card\">\n",
      "              <img\n",
      "                src=\"https://static.thenounproject.com/png/3961115-200.png\"\n",
      "                alt=\"\"\n",
      "                class=\"card__image\"\n",
      "              />\n",
      "              <p class=\"t754__title t-name t-name_md js-product-name\">California Farms Leche orgánica endulzada condensada, 14 onzas</p>\n",
      "              <p class=\"t754__price-value js-product-price\">$3.49</p>\n",
      "            </li>\n",
      "            <li class=\"card\">\n",
      "              <img\n",
      "                src=\"https://static.thenounproject.com/png/3961115-200.png\"\n",
      "                alt=\"\"\n",
      "                class=\"card__image\"\n",
      "              />\n",
      "              <p class=\"t754__title t-name t-name_md js-product-name\">Lactaid Leche entera, 96 onzas</p>\n",
      "              <p class=\"t754__price-value js-product-price\">$5.47</p>\n",
      "            </li>\n",
      "          </ul>\n",
      "        </section>\n",
      "      </main>\n",
      "      <footer class=\"footer\">\n",
      "        <p class=\"footer__tel\">+7-800-230-00-00</p>\n",
      "        <p class=\"footer__mail\">dairyland@store.com</p>\n",
      "      </footer>\n",
      "    </div>\n",
      "  </body>\n",
      "</html>\n",
      "\n"
     ]
    }
   ],
   "source": [
    "import requests\n",
    "\n",
    "URL = \"https://tripleten-com.github.io/simple-shop_es/\"\n",
    "req = requests.get(URL)\n",
    "\n",
    "print(req.text)"
   ]
  },
  {
   "cell_type": "markdown",
   "metadata": {},
   "source": [
    "## Expresiones regulares\n",
    "\n",
    "Una expresión regular (regex) es una regla para buscar subcadenas (fragmentos de texto dentro de cadenas). Por ejemplo, si estamos buscando la combinación de letras \"tion\" en la oración \"Arrived at the station in total frustration\", Python lo entenderá como si estuviera buscando la subcadena \"tion\" dentro de la cadena 'Arrived at the station in total frustration'. \n",
    "\n",
    "#### **Cómo funcionan las expresiones regulares**\n",
    "\n",
    "Para empezar a trabajar con expresiones regulares en Python, necesitamos importar el módulo re (expresiones regulares). Siguen dos etapas.\n",
    "\n",
    "- En la primera etapa, creamos el patrón de la expresión regular. Este es un algoritmo que describe lo que debe buscarse dentro del texto (por ejemplo, todas las letras mayúsculas).\n",
    "\n",
    "- Luego, este patrón se pasa a los métodos específicos de re. Estos métodos buscan, reemplazan y eliminan símbolos. En otras palabras, el patrón identifica qué buscar y cómo, mientras que el método define qué hacer con las coincidencias que se encuentran."
   ]
  },
  {
   "cell_type": "markdown",
   "metadata": {},
   "source": [
    "| Expresión regular | Descripción | Ejemplo | Explicación |\n",
    "|----------|----------|----------|----------|\n",
    "| []    | Caracter único contenido entre paréntesis\t   | [a-]\t   |a o -\n",
    "   |\n",
    "| [^…]    | Negación   | [^a]\t   |cualquier caracter excepto \"a\"\n",
    "   |\n",
    "| -    | Rango   | [0-9]\t   |rango: cualquier dígito del 0 al 9\n",
    "   |\n",
    "| .\t    | Cualquier caracter único excepto una nueva línea\t   | a.\t   |as, a1, a_\n",
    "   |\n",
    "| \\d (see [0-9])\t    | Cualquier dígito\t   | a\\d\t   |a[0-9]\t   |\n",
    "| \\w\t    | Cualquier letra, dígito o _\t   | a\\w\t   |a_, a1, ab\n",
    "   |\n",
    "| [A-z]\t    | Cualquier letra   | a[A-z]\t   |ab   |\n",
    "| ?    | 0 o 1 instancia\t   | a?\t   |a o nada\n",
    "   |\n",
    "| +    | 1 o más instancias   | a+\t   |a o aa, o aaa\n",
    "   |\n",
    "| *    | 0 o más instancias\t   | a*   |nada o a, o aa\n",
    "   |\n",
    "| ^    | Comienzo de cadena\t   | ^a\t   |a1234, abcd\n",
    "   |\n",
    "| $    | Fin de cadena\t   | a$   |1a, ba\n",
    "   |\n"
   ]
  },
  {
   "cell_type": "markdown",
   "metadata": {},
   "source": [
    "### Expresiones regulares en Python\n",
    "\n",
    "Estas son algunas de las tareas más comunes para los analistas:\n",
    "\n",
    "- encontrar una subcadena dentro de una cadena\n",
    "- dividir cadenas en subcadenas\n",
    "- reemplazar partes de una cadena con otras cadenas\n",
    "\n",
    "Para completar estas tareas, necesitarás los siguientes métodos re:\n",
    "\n",
    "1. search(patrón, cadena) busca un patrón en una cadena. Aunque search() recorre toda la cadena para encontrar el patrón, solo devuelve la primera subcadena que encuentra:"
   ]
  },
  {
   "cell_type": "code",
   "execution_count": null,
   "metadata": {},
   "outputs": [
    {
     "name": "stdout",
     "output_type": "stream",
     "text": [
      "<re.Match object; span=(1, 8), match='General'>\n"
     ]
    }
   ],
   "source": [
    "import re\n",
    "\n",
    "string = '\"General Slocum\" 15 June 1904 East River human factor'\n",
    "print(re.search(\"\\w+\", string))"
   ]
  },
  {
   "cell_type": "code",
   "execution_count": null,
   "metadata": {},
   "outputs": [
    {
     "name": "stdout",
     "output_type": "stream",
     "text": [
      "General\n"
     ]
    }
   ],
   "source": [
    "import re\n",
    "\n",
    "string = '\"\"General Slocum\" 15 June 1904 East River human factor'\n",
    "print(re.search(\"\\w+\", string).group())"
   ]
  },
  {
   "cell_type": "markdown",
   "metadata": {},
   "source": [
    "¿Cómo identificamos las palabras que se encuentran entre caracteres particulares? Intentemos hacer coincidir una frase entre comillas dobles, asumiendo que solo contiene letras y espacios.\n",
    "\n",
    "[A-z] : este patrón coincide con cualquier letra, ya sea mayúscula o minúscula. Este patrón coincide con cada letra de la cadena, pero como letras separadas, no como palabras.\n",
    "\n",
    "[A-z ] : (¡ten en cuenta el espacio al final!): este patrón indica que los espacios también son bienvenidos, pero aún coincide con un solo caracter a la vez, ya sea una letra o un espacio.\n",
    "\n",
    "[A-z ]+: este patrón coincide con una secuencia de estos caracteres hasta que se encuentra algún otro caracter o se alcanza el final de la cadena. Entonces, todos los caracteres que no están en la lista (como dígitos o signos de puntuación) se convierten esencialmente en separadores. Si aplicamos este patrón a nuestra cadena, obtendremos tres coincidencias: General Slocum, un espacio, June (observa los espacios que rodean la palabra) y ast River human factor.\n",
    "\n",
    "\"[A-z ]+\": este patrón coincide con una comilla doble, seguida de una secuencia de letras y espacios (1 o más, sin límite superior), seguida de otra comilla doble. Eso nos deja con \"General Slocum\" (contando las comillas esta vez), justo lo que estábamos buscando."
   ]
  },
  {
   "cell_type": "code",
   "execution_count": null,
   "metadata": {},
   "outputs": [
    {
     "name": "stdout",
     "output_type": "stream",
     "text": [
      "\"General Slocum\"\n"
     ]
    }
   ],
   "source": [
    "import re\n",
    "\n",
    "string = '\"General Slocum\" 15 June 1904 East River human factor'\n",
    "print(re.search('\"[A-z ]+\"', string).group())"
   ]
  },
  {
   "cell_type": "markdown",
   "metadata": {},
   "source": [
    "Observa que si el contenido de la cita contiene caracteres que no están en la lista, impedirán que la cita coincida con el patrón. Es por eso que hemos agregado el espacio. Las expresiones regulares son una ciencia exacta.\n",
    "\n",
    "2. split(patrón, cadena) divide una cadena en los puntos donde aparece el patrón."
   ]
  },
  {
   "cell_type": "code",
   "execution_count": null,
   "metadata": {},
   "outputs": [
    {
     "name": "stdout",
     "output_type": "stream",
     "text": [
      "['\"General Slocum\" ', ' June ', ' East River human factor']\n"
     ]
    }
   ],
   "source": [
    "import re\n",
    "\n",
    "string = '\"General Slocum\" 15 June 1904 East River human factor'\n",
    "print(re.split(\"\\d+\", string))"
   ]
  },
  {
   "cell_type": "markdown",
   "metadata": {},
   "source": [
    "Como puedes ver, la cadena se ha dividido en tres partes, divididas en lugares donde el método ha encontrado el patrón definido en el argumento. Aquí, el patrón '\\d+' coincide con uno o más dígitos. Siempre que split() encuentra uno o más dígitos (en este caso, 15 y 1904), divide la cadena en subcadenas. Las subcadenas que coinciden con el patrón se excluyen y no están presentes en la salida.\n",
    "\n",
    "El parámetro maxsplit del método split() limita el número de veces que se divide la cadena."
   ]
  },
  {
   "cell_type": "code",
   "execution_count": null,
   "metadata": {},
   "outputs": [
    {
     "name": "stdout",
     "output_type": "stream",
     "text": [
      "['\"General Slocum\" ', ' June 1904 East River human factor']\n"
     ]
    }
   ],
   "source": [
    "import re\n",
    "\n",
    "string = '\"General Slocum\" 15 June 1904 East River human factor'\n",
    "print(re.split(\"\\d+\", string, maxsplit=1))"
   ]
  },
  {
   "cell_type": "markdown",
   "metadata": {},
   "source": [
    "Como puedes ver, la cadena solo se ha dividido una vez.\n",
    "\n",
    "3. sub(patrón, repl, cadena) busca el patrón de subcadena dentro de una cadena y lo reemplaza con la subcadena repl (replace)."
   ]
  },
  {
   "cell_type": "code",
   "execution_count": null,
   "metadata": {},
   "outputs": [
    {
     "name": "stdout",
     "output_type": "stream",
     "text": [
      "\"General Slocum\"  June  East River human factor\n"
     ]
    }
   ],
   "source": [
    "import re\n",
    "\n",
    "string = '\"General Slocum\" 15 June 1904 East River human factor'\n",
    "print(re.sub(\"\\d+\", \"\", string))  # buscamos secuencias de 1 o más dígitos\n",
    "# y las eliminamos"
   ]
  },
  {
   "cell_type": "markdown",
   "metadata": {},
   "source": [
    "Se han eliminado todas las subcadenas que consistían en dígitos (estrictamente hablando, se han reemplazado con una cadena vacía entre comillas simples: '').\n",
    "\n",
    "4. findall(patrón, cadena) devuelve una lista de todas las subcadenas en una cadena que coinciden con el patrón. Compáralo con el método search() que solo devuelve la primera subcadena coincidente. Intentemos encontrar todas las palabras que terminen con \"tion\":"
   ]
  },
  {
   "cell_type": "code",
   "execution_count": null,
   "metadata": {},
   "outputs": [
    {
     "name": "stdout",
     "output_type": "stream",
     "text": [
      "['station', 'frustration']\n"
     ]
    }
   ],
   "source": [
    "import re\n",
    "\n",
    "tion = \"Arrived at the station in total frustration\"\n",
    "print(re.findall(\"[A-z]+tion\", tion))"
   ]
  },
  {
   "cell_type": "markdown",
   "metadata": {},
   "source": [
    "... o palabras con guion:"
   ]
  },
  {
   "cell_type": "code",
   "execution_count": null,
   "metadata": {},
   "outputs": [
    {
     "name": "stdout",
     "output_type": "stream",
     "text": [
      "['sixty-seven']\n"
     ]
    }
   ],
   "source": [
    "import re\n",
    "\n",
    "string = \"sixty-seven drops of rain\"\n",
    "print(re.findall(\"\\w+-\\w+\", string))"
   ]
  },
  {
   "cell_type": "markdown",
   "metadata": {},
   "source": [
    "El patrón coincide con las palabras con guion; en este caso, \"sixty-seven\" es la única coincidencia. El método findall() es realmente útil ya que, cuando se usa junto con la función len(), te permite determinar cuántas veces se repite una subcadena:"
   ]
  },
  {
   "cell_type": "code",
   "execution_count": null,
   "metadata": {},
   "outputs": [
    {
     "name": "stdout",
     "output_type": "stream",
     "text": [
      "5\n"
     ]
    }
   ],
   "source": [
    "import re\n",
    "\n",
    "string = \"sixty-seven drops of rain\"\n",
    "print(len(re.findall(\"\\w+\", string)))"
   ]
  },
  {
   "cell_type": "markdown",
   "metadata": {},
   "source": [
    "¿Esperabas que len() mostrara 4? Nos ha dado 5 porque \"sixty-seven\" se ha contado como dos palabras; el patrón '\\w+' no captura el guion.\n",
    "\n",
    "Agreguemos '-' a la expresión regular y contemos \"sixty-seven\" como una sola palabra"
   ]
  },
  {
   "cell_type": "code",
   "execution_count": null,
   "metadata": {},
   "outputs": [
    {
     "name": "stdout",
     "output_type": "stream",
     "text": [
      "4\n"
     ]
    }
   ],
   "source": [
    "import re\n",
    "\n",
    "string = \"sixty-seven drops of rain\"\n",
    "print(len(re.findall(\"[\\w-]+\", string)))"
   ]
  },
  {
   "cell_type": "markdown",
   "metadata": {},
   "source": [
    "### Ejercicios!\n",
    "\n",
    "**Ejercicio 1**\n",
    "\n",
    "Para obtener el contenido de texto de la solicitud, utiliza el método get() de la librería requests junto con el atributo text. Pasa la variable URL al método get().\n",
    "\n",
    "La información entre las etiquetas <title> y </title> contiene tanto un espacio como letras. El símbolo + captura una o más instancias. Escribe tu patrón de expresión regular envuelto en las etiquetas <title> y </title>."
   ]
  },
  {
   "cell_type": "code",
   "execution_count": null,
   "metadata": {},
   "outputs": [
    {
     "name": "stdout",
     "output_type": "stream",
     "text": [
      "<title>Tierra de lácteos Tienda</title>\n"
     ]
    }
   ],
   "source": [
    "import requests\n",
    "import re\n",
    "\n",
    "URL = \"https://tripleten-com.github.io/simple-shop_es/\"  # el enlace al sitio web\n",
    "req_text = requests.get(URL).text  # el contenido de texto de la solicitud\n",
    "\n",
    "# Expresión regular para encontrar la etiqueta <title> y su contenido\n",
    "pattern = r\"<title>(.+?)<\\/title>\"\n",
    "match = re.search(pattern, req_text)\n",
    "\n",
    "if match:\n",
    "    title_content = match.group(1)\n",
    "    print(f\"<title>{title_content}</title>\")\n",
    "else:\n",
    "    print(\"No se encontró la etiqueta <title> en el contenido de la solicitud.\")"
   ]
  },
  {
   "cell_type": "markdown",
   "metadata": {},
   "source": [
    "**Ejercicio 2**\n",
    "\n",
    "Escribe una expresión regular que genere todos los nombres de productos que incluyan la palabra \"Mantequilla\" (ten en cuenta la letra mayúscula). \"Mantequilla\" puede aparecer en medio del nombre. Así que podría haber 0 o más letras o espacios antes de \"Mantequilla\" y podría haber algunas letras o espacios después. No necesitamos incluir el peso neto en nuestros nombres, así que no incluyas una coma en tu expresión regular. Muestra lo que encuentres.\n",
    "\n",
    "Ahora necesitamos múltiples ocurrencias, así que usaremos re.findall() ."
   ]
  },
  {
   "cell_type": "code",
   "execution_count": null,
   "metadata": {},
   "outputs": [
    {
     "name": "stdout",
     "output_type": "stream",
     "text": [
      "['Kerrygold Mantequilla irlandesa con aceite de canola', 'Danish Creamery Mantequilla sin sal', 'Kelapo Ghee Mantequilla clarificada', 'Land O Lakes Mantequilla baja en sodio con aceite de canola']\n"
     ]
    }
   ],
   "source": [
    "import requests\n",
    "import re\n",
    "\n",
    "URL = \"https://tripleten-com.github.io/simple-shop_es/\"\n",
    "req_text = requests.get(URL).text\n",
    "\n",
    "# Expresión regular para encontrar todos los nombres de productos que incluyan la palabra \"Mantequilla\"\n",
    "pattern = r\"\\b[\\w\\s]*Mantequilla[\\w\\s]*\\b\"\n",
    "\n",
    "matches = re.findall(pattern, req_text)\n",
    "print(matches)"
   ]
  },
  {
   "cell_type": "markdown",
   "metadata": {},
   "source": [
    "**Ejercicio 3**\n",
    "\n",
    "Escribe una expresión regular para encontrar todos los nombres de productos que contengan la palabra \"Horizon\" (una marca). Solo aparece al principio de un nombre. No incluyas el peso, solo el nombre del producto.\n",
    "\n",
    "Los nombres de productos pueden contener letras, dígitos, espacios, guiones y signos de porcentaje. Guarda el resultado en la variable found_products. Muestra la longitud de esta lista (el número de productos) y la lista misma en una línea separada."
   ]
  },
  {
   "cell_type": "code",
   "execution_count": null,
   "metadata": {},
   "outputs": [
    {
     "name": "stdout",
     "output_type": "stream",
     "text": [
      "4\n",
      "['Horizon Organic Leche chocolatada baja en grasa enriquecida con omega-3 DHA', 'Horizon Organic Leche Entera', 'Horizon Organic Leche de vainilla baja en grasa enriquecida con omega-3 DHA', 'Horizon Organic Leche reducida en grasa al 2% enriquecida con omega-3 DHA']\n"
     ]
    }
   ],
   "source": [
    "import requests\n",
    "import re\n",
    "\n",
    "URL = \"https://tripleten-com.github.io/simple-shop_es/\"\n",
    "req_text = requests.get(URL).text\n",
    "\n",
    "# Expresión regular para encontrar todos los nombres de productos que comienzan con \"Horizon\"\n",
    "pattern = r\"\\bHorizon[\\w\\s\\-%]*\"\n",
    "\n",
    "found_products = re.findall(pattern, req_text)\n",
    "\n",
    "print(len(found_products))  # Muestra la longitud de la lista de productos encontrados\n",
    "print(found_products)  # Muestra la lista de productos encontrados"
   ]
  },
  {
   "cell_type": "markdown",
   "metadata": {},
   "source": [
    "<hr>\n",
    "\n",
    "## Análisis sintáctico de HTML\n",
    "\n",
    "Los métodos de BeautifulSoup convierten un archivo HTML en una estructura de árbol. Luego, el contenido necesario se puede encontrar por medio de etiquetas y atributos.\n",
    "\n",
    "Importemos la librería y creemos un objeto BeautifulSoup:\n",
    "\n",
    "```python\n",
    "from bs4 import BeautifulSoup\n",
    "\n",
    "soup=BeautifulSoup(req.text, 'lxml')\n",
    "```\n",
    "\n",
    "El primer argumento presenta datos que formarán la estructura de árbol. El segundo argumento es un analizador sintáctico. Define la forma en que la página web se convierte en un árbol. Hay numerosos analizadores sintácticos, y si les das el mismo documento HTML, todos generarán estructuras diferentes. \n",
    "\n",
    "### Navegar por el árbol\n",
    "\n",
    "Ahora que hemos cambiado el código a un árbol, ¡comencemos a recuperar datos!\n",
    "\n",
    "El primer método de búsqueda se llama find(). Recorre el árbol y encuentra el primer elemento cuyo nombre se pasa como argumento y lo devuelve junto con las etiquetas y el contenido del elemento. Intentemos encontrar el primer encabezado de segundo nivel:\n",
    "\n",
    "```python\n",
    "heading_2=soup.find(\"h2\")\n",
    "print(heading_2)\n",
    "\n",
    "# <h2>Los Mayores naufragios del siglo XX </h2>**\n",
    "```\n",
    "\n",
    "Para mostrar el contenido sin etiquetas, necesitarás el método text. Devolverá una cadena:\n",
    "\n",
    "```python\n",
    "heading_2.text\n",
    "\n",
    "#Los Mayores naufragios del siglo XX\n",
    "```\n",
    "\n"
   ]
  },
  {
   "cell_type": "markdown",
   "metadata": {},
   "source": [
    "### Algunos ejercicios\n",
    "\n",
    "**Ejercicio 1**\n",
    "\n",
    "Crea un objeto BeautifulSoup a partir de la página HTML. Guarda tus resultados en la variable soup."
   ]
  },
  {
   "cell_type": "code",
   "execution_count": null,
   "metadata": {},
   "outputs": [],
   "source": [
    "import requests  # Importa la librería para enviar solicitudes al servidor\n",
    "from bs4 import BeautifulSoup  # Importa la librería para analizar la página web\n",
    "\n",
    "URL = \"https://tripleten-com.github.io/simple-shop_es/\"\n",
    "req = requests.get(URL)  # GET-request\n",
    "soup = BeautifulSoup(req.text, \"html.parser\")"
   ]
  },
  {
   "cell_type": "markdown",
   "metadata": {},
   "source": [
    "**Ejercicio 2**\n",
    "\n",
    "Obtén los nombres de los productos https://tripleten-com.github.io/simple-shop_es/ y agrégalos a la lista name_products.\n",
    "\n",
    "Identifica los nombres de las etiquetas y sus atributos en la barra de herramientas para desarrolladores web. Obtén las etiquetas necesarias usando find_all() .\n",
    "\n",
    "Muestra la lista resultante."
   ]
  },
  {
   "cell_type": "code",
   "execution_count": null,
   "metadata": {},
   "outputs": [
    {
     "name": "stdout",
     "output_type": "stream",
     "text": [
      "['Leche de vaca entera, 1 galón', 'Fairlife Leche entera, 52 onzas', 'Nestle Nesquik Leche chocolatada baja en grasa, 16 pecks', 'Moo-Moo Leche desnatada con ingredientes seleccionados, 1 cuarto', 'Moo-Moo Leche desnatada con ingredientes seleccionados Moo-Moo, 1 galón', 'Silk Leche de coco sin azúcar, 1/2 galón', 'Fairlife Leche desnatada, 52 onzas', 'Horizon Organic Leche chocolatada baja en grasa enriquecida con omega-3 DHA, 12 pecks', 'Yoo-hoo Bebida de chocolate, 3 pecks', 'Moo-Moo Leche con ingredientes seleccionadosreducida al 2% en grasa, 1/2 galón', 'Borden Leche Entera, 1 galón', 'Caravelle Chaudoc Leche de Coco, 14 onzas', 'Horizon Organic Leche Entera, 1/2 galón', 'Nesquik Leche baja en grasa con sabor a fresa, 8 onzas', 'Nesquik Leche baja en grasa con sabor a vainilla, 14 onzas', 'Moo-Moo Leche con ingredientes seleccionados 1% baja en grasa, 1 galón', 'Polar Premium Leche de coco orgánica, 13.5 onzas', 'Borden Leche chocolatada holandesa, 1 pinta', 'Borden Leche chocolatada holandesa, 1/2 galón', 'Saco Leche desnatada instantánea orgánica, 3.2 onzas', 'Hill Country Fare Leche reducida en grasa al 2%, 1 galón', 'Horizon Organic Leche de vainilla baja en grasa enriquecida con omega-3 DHA, 6 pecks', 'Horizon Organic Leche reducida en grasa al 2% enriquecida con omega-3 DHA, 1/2 galón', 'Moo-Moo Leche chocolatada, 1/2 galón', 'A Taste of Thai Leche de coco Lite, 13.5 onzas', 'Meyenberg Leche de cabra, 1/2 galón', 'Kerrygold Mantequilla irlandesa con aceite de canola, 7.5 onzas', 'Danish Creamery Mantequilla sin sal, estilo europeo, 8 onzas', 'Kelapo Ghee Mantequilla clarificada, 13 onzas', 'Land O Lakes Mantequilla baja en sodio con aceite de canola, 15 onzas', 'California Farms Leche orgánica endulzada condensada, 14 onzas', 'Lactaid Leche entera, 96 onzas']\n"
     ]
    }
   ],
   "source": [
    "import requests  # Importa la librería para enviar solicitudes al servidor\n",
    "from bs4 import BeautifulSoup  # Importa la librería para analizar la página web\n",
    "\n",
    "URL = \"https://tripleten-com.github.io/simple-shop_es/\"\n",
    "req = requests.get(URL)  # solicitud GET\n",
    "soup = BeautifulSoup(req.text, \"html.parser\")\n",
    "name_products = []  # Lista donde se almacenan los nombres de los productos\n",
    "for row in soup.find_all(\n",
    "    \"p\", attrs={\"class\": \"t754__title t-name t-name_md js-product-name\"}\n",
    "):\n",
    "    name_products.append(row.text.strip(\"\\n \"))\n",
    "print(name_products)"
   ]
  },
  {
   "cell_type": "markdown",
   "metadata": {},
   "source": [
    "**Ejercicio 3**\n",
    "\n",
    "Obtén los precios de los productos https://tripleten-com.github.io/simple-shop_es/ y agrégalos a la lista price .\n",
    "\n",
    "Identifica los nombres de las etiquetas y sus atributos en la barra de herramientas para desarrolladores web. Obtén las etiquetas necesarias usando find_all() ."
   ]
  },
  {
   "cell_type": "code",
   "execution_count": 5,
   "metadata": {},
   "outputs": [
    {
     "name": "stdout",
     "output_type": "stream",
     "text": [
      "['$4.23', '$3.11', '$11.54', '$0.92', '$2.3', '$2.99', '$3.13', '$11.94', '$1', '$1.33', '$3.53', '$1.96', '$3.88', '$0.92', '$1.34', '$2.24', '$2.94', '$1.56', '$2.7', '$2.48', '$2.32', '$6.36', '$4.34', '$2.7', '$2.29', '$7.8', '$2.8', '$2.97', '$8.82', '$3.87', '$3.49', '$5.47']\n"
     ]
    }
   ],
   "source": [
    "import requests\n",
    "from bs4 import BeautifulSoup\n",
    "\n",
    "URL = 'https://tripleten-com.github.io/simple-shop_es/'\n",
    "req = requests.get(URL)  # solicitud GET\n",
    "soup = BeautifulSoup(req.text, 'html.parser')\n",
    "\n",
    "\n",
    "\n",
    "name_products = []  # Lista donde se almacenan los nombres de los productos\n",
    "for row in soup.find_all('p', class_='t754__title t-name t-name_md js-product-name'):\n",
    "    name_products.append(row.text)\n",
    "\n",
    "price = []  # Lista donde se almacenan los precios de los productos\n",
    "for row in soup.find_all('p', class_='t754__price-value js-product-price'):\n",
    "    price.append(row.text)\n",
    "\n",
    "print(price)\n"
   ]
  }
 ],
 "metadata": {
  "kernelspec": {
   "display_name": "Python 3",
   "language": "python",
   "name": "python3"
  },
  "language_info": {
   "codemirror_mode": {
    "name": "ipython",
    "version": 3
   },
   "file_extension": ".py",
   "mimetype": "text/x-python",
   "name": "python",
   "nbconvert_exporter": "python",
   "pygments_lexer": "ipython3",
   "version": "3.11.6"
  }
 },
 "nbformat": 4,
 "nbformat_minor": 2
}
