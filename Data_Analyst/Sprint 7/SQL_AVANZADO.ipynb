{
 "cells": [
  {
   "cell_type": "markdown",
   "metadata": {},
   "source": [
    "<hr>\n",
    "\n",
    "# **SQL Avanzado**\n",
    "\n",
    "<hr>\n",
    "\n",
    "## Agrupar datos"
   ]
  },
  {
   "cell_type": "markdown",
   "metadata": {},
   "source": [
    "Necesitamos utilizar la función de agregación COUNT. El comando GROUP BY nos ayudará a encontrar el número de filas por autor:"
   ]
  },
  {
   "cell_type": "code",
   "execution_count": null,
   "metadata": {
    "vscode": {
     "languageId": "sql"
    }
   },
   "outputs": [],
   "source": [
    "SELECT\n",
    "    author,\n",
    "    COUNT(name) AS cnt\n",
    "FROM\n",
    "    books\n",
    "GROUP BY\n",
    "    author;"
   ]
  },
  {
   "cell_type": "markdown",
   "metadata": {},
   "source": [
    "Ahora sabemos cuántos libros escribió cada uno de los autores de nuestra tabla.\n",
    "\n",
    "Esta vez, calculemos los totales de libros agrupados por autor y género."
   ]
  },
  {
   "cell_type": "code",
   "execution_count": null,
   "metadata": {
    "vscode": {
     "languageId": "sql"
    }
   },
   "outputs": [],
   "source": [
    "SELECT\n",
    "    author,\n",
    "    genre,\n",
    "    COUNT(name) AS cnt\n",
    "FROM\n",
    "    books\n",
    "GROUP BY\n",
    "    author,\n",
    "    genre;"
   ]
  },
  {
   "cell_type": "markdown",
   "metadata": {},
   "source": [
    "GROUP BY se puede usar con cualquier función de agregación: COUNT, AVG, SUM, MAX y MIN. Puedes llamar a varias funciones al mismo tiempo. Calculemos el número promedio de páginas en los libros de cada autor y el número de páginas en su libro más largo."
   ]
  },
  {
   "cell_type": "code",
   "execution_count": null,
   "metadata": {
    "vscode": {
     "languageId": "sql"
    }
   },
   "outputs": [],
   "source": [
    "SELECT\n",
    "    author,\n",
    "    AVG(pages) AS avg_pages,\n",
    "    MAX(pages) AS max_pages\n",
    "FROM\n",
    "    books\n",
    "GROUP BY\n",
    "    author;"
   ]
  },
  {
   "cell_type": "markdown",
   "metadata": {},
   "source": [
    "## Practiquemos!\n",
    "\n",
    "**Ejercicio 1:**\n",
    "\n",
    "Supongamos que tienes una tabla llamada sales que registra las ventas de productos por día. La estructura de la tabla es la siguiente:\n",
    "\n",
    "- product_id: Identificador único del producto.\n",
    "- date_sold: Fecha en que se realizó la venta.\n",
    "- quantity: Cantidad vendida del producto.\n",
    "- price: Precio unitario del producto.\n",
    "- total: Total de la venta (cantidad * precio).\n",
    "\n",
    "Escribe una consulta para obtener el total de ventas diarias para cada producto. Mostrar los siguientes campos en el resultado:\n",
    "\n",
    "- date_sold: Fecha de la venta.\n",
    "- product_id: Identificador único del producto.\n",
    "- total_sales: Total de ventas para ese producto en esa fecha.\n"
   ]
  },
  {
   "cell_type": "code",
   "execution_count": null,
   "metadata": {
    "vscode": {
     "languageId": "sql"
    }
   },
   "outputs": [],
   "source": [
    "SELECT\n",
    "    date_sold,\n",
    "    product_id,\n",
    "    SUM(total) AS total_sales\n",
    "FROM\n",
    "    sales\n",
    "GROUP BY\n",
    "    date_sold,\n",
    "    product_id;\n"
   ]
  },
  {
   "cell_type": "markdown",
   "metadata": {},
   "source": [
    "**Ejercicio 2:**\n",
    "\n",
    "Supongamos que tienes una tabla llamada students que registra la asistencia de estudiantes a clases. La estructura de la tabla es la siguiente:\n",
    "\n",
    "- student_id: Identificador único del estudiante.\n",
    "- date_attended: Fecha en que el estudiante asistió a clase.\n",
    "- subject: Materia o asignatura a la que asistió el estudiante.\n",
    "- attendance_status: Estado de asistencia del estudiante (presente, ausente, tardanza, etc.).\n",
    "\n",
    "Escribe una consulta para obtener la cantidad total de asistencias por estudiante y por materia. Mostrar los siguientes campos en el resultado:\n",
    "\n",
    "- student_id: Identificador único del estudiante.\n",
    "- subject: Materia.\n",
    "- total_attendance: Cantidad total de asistencias del estudiante a esa materia."
   ]
  },
  {
   "cell_type": "code",
   "execution_count": null,
   "metadata": {
    "vscode": {
     "languageId": "sql"
    }
   },
   "outputs": [],
   "source": [
    "SELECT\n",
    "    student_id,\n",
    "    subject,\n",
    "    COUNT(*) AS total_attendance\n",
    "FROM\n",
    "    students\n",
    "GROUP BY\n",
    "    student_id,\n",
    "    subject;\n"
   ]
  },
  {
   "cell_type": "markdown",
   "metadata": {},
   "source": [
    "**Ejercicio 3**\n",
    "\n",
    "Antes de realizar el ejercicio, te instamos primero a extraer las primeras 5 filas de la tabla products_data_all y echarlas un vistazo. El objetivo es familiarizarse con los datos con los que vas a trabajar. Después, procede a realizar la tarea descrita a continuación:\n",
    "\n",
    "Escribe una consulta para calcular el número total de productos (name) y el número de productos únicos para cada tienda (name_store). Nombra las variables name_cnt y name_uniq_cnt respectivamente. Imprime los nombres de las tiendas, el número total de productos y el número de productos únicos. Las columnas deben aparecer en este orden: name_store, name_cnt y name_uniq_cnt."
   ]
  },
  {
   "cell_type": "code",
   "execution_count": null,
   "metadata": {
    "vscode": {
     "languageId": "sql"
    }
   },
   "outputs": [],
   "source": [
    "SELECT \n",
    "\tname_store,\n",
    "    count(name) as name_cnt,\n",
    "    count(distinct name) as name_uniq_cnt\n",
    "    \n",
    "FROM\n",
    "    products_data_all\n",
    "GROUP BY\n",
    "    name_store"
   ]
  },
  {
   "cell_type": "markdown",
   "metadata": {},
   "source": [
    "\n",
    "**Ejercicio 4**\n",
    "\n",
    "Escribe una consulta para calcular el peso máximo de producto para cada categoría (category).  Nombra la variable max_weight y conviértela al tipo real. Imprime la categoría y el peso máximo."
   ]
  },
  {
   "cell_type": "code",
   "execution_count": null,
   "metadata": {
    "vscode": {
     "languageId": "sql"
    }
   },
   "outputs": [],
   "source": [
    "SELECT \n",
    "\tcategory,\n",
    "    max(weight :: real) as max_weight\n",
    "FROM\n",
    "    products_data_all\n",
    "Group by\n",
    "    category"
   ]
  },
  {
   "cell_type": "markdown",
   "metadata": {},
   "source": [
    "**Ejercicio 5**\n",
    "\n",
    "Escribe una consulta para calcular el precio (price) promedio del producto, el precio mínimo y el máximo del producto para cada tienda (name_store) de la tabla products_data_all. Nombra las variables average_price, max_price y min_price respectivamente. \n",
    "\n",
    "Imprime el nombre de la tienda y los precios promedio, mínimo y máximo."
   ]
  },
  {
   "cell_type": "code",
   "execution_count": null,
   "metadata": {
    "vscode": {
     "languageId": "sql"
    }
   },
   "outputs": [],
   "source": [
    "SELECT \n",
    "    name_store,\n",
    "\tavg(price) as average_price,\n",
    "    max(price) as max_price,\n",
    "    min(price) as min_price\n",
    "FROM\n",
    "    products_data_all\n",
    "GROUP BY\n",
    "    name_store;"
   ]
  },
  {
   "cell_type": "markdown",
   "metadata": {},
   "source": [
    "**Ejercicio 6**\n",
    "\n",
    "Escribe una consulta para calcular la diferencia entre los precios máximos y mínimos de cada uno de los productos de la categoría 'leche' el 10 de junio de 2019. Nombra la variable max_min_diff. Convierte valores de fecha de strings al formato date. \n",
    "\n",
    "Luego imprime el nombre del producto y la diferencia entre el precio máximo y mínimo. \n",
    "\n",
    "Estas son las columnas que utilizarás:\n",
    "\n",
    "- Categoría: campo category\n",
    "\n",
    "- Fecha: campo date_upd\n",
    "\n",
    "- Precio: campo price"
   ]
  },
  {
   "cell_type": "code",
   "execution_count": null,
   "metadata": {
    "vscode": {
     "languageId": "sql"
    }
   },
   "outputs": [],
   "source": [
    "SELECT \n",
    "    name,\n",
    "    max(price) - min(price) as max_min_diff\n",
    "    \n",
    "FROM\n",
    "    products_data_all\n",
    "WHERE\n",
    "\tcategory = 'milk' and date_upd::date = '2019-06-10'\n",
    "GROUP BY\n",
    "    name"
   ]
  },
  {
   "cell_type": "markdown",
   "metadata": {},
   "source": [
    "<hr>\n",
    "\n",
    "## **Ordenar Datos**\n",
    "\n",
    "Los resultados del análisis normalmente se presentan en un cierto orden. Para ordenar los datos por un campo, utiliza el comando ORDER BY.\n",
    "\n",
    "Así es como se ve una instrucción con agrupación y ordenación:\n",
    "\n",
    "```\n",
    "SELECT \n",
    "    field_1, \n",
    "    field_2,\n",
    "    ..., \n",
    "    field_n, \n",
    "    AGGREGATE_FUNCTION(field) AS here_you_are\n",
    "FROM\n",
    "    table_name\n",
    "WHERE -- si es necesario\n",
    "    condition\n",
    "GROUP BY  \n",
    "    field_1, \n",
    "    field_2, \n",
    "    ..., \n",
    "    field_n,\n",
    "ORDER BY -- Enumera solamente aquellos campos por los que se van a ordenar los datos\n",
    "    field_1, \n",
    "    field_2, \n",
    "    ..., \n",
    "    field_n, \n",
    "    here_you_are;\n",
    "```\n",
    "\n",
    "Cuando se utiliza ORDER BY, solo los campos por los que queremos ordenar los datos deben ser listados en el bloque de comandos.\n",
    "\n",
    "Se pueden utilizar dos modificadores con el comando ORDER BY para ordenar los datos en columnas:\n",
    "\n",
    "- ASC (por defecto) ordena los datos en orden ascendente.\n",
    "- DESC ordena los datos en orden descendente.\n",
    "\n",
    "El comando **LIMIT** establece un límite para el número de filas en el resultado. Siempre viene al final de una instrucción:\n",
    "\n",
    "```\n",
    "SELECT\n",
    "    field_1,\n",
    "    field_2,\n",
    "    ...,\n",
    "    field_n,\n",
    "    AGGREGATE_FUNCTION (field) AS here_you_are\n",
    "FROM\n",
    "    table_name\n",
    "WHERE -- si es necesario\n",
    "    condition\n",
    "GROUP BY\n",
    "    field_1,\n",
    "    field_2,\n",
    "    ...,\n",
    "    field_n\n",
    "ORDER BY -- si es necesario. Enumera solo los campos\n",
    "    --por los que tenemos que ordenar los datos de la tabla.\n",
    "    field_1,\n",
    "    field_2,\n",
    "...,\n",
    "    field_n,\n",
    "    here_you_are\n",
    "LIMIT -- si es necesario\n",
    "n;\n",
    "\n",
    "-- n - el número máximo de filas que se devolverán\n",
    "```\n",
    "\n",
    "Después de LIMIT, indica el número deseado de filas: n. Siempre es más fácil crear una calificación con un número limitado de elementos.\n",
    "\n",
    "Vamos a hacer una lista de los tres libros más largos:\n",
    "\n",
    "```\n",
    "SELECT\n",
    "    name,\n",
    "    pages\n",
    "FROM\n",
    "    books\n",
    "ORDER BY\n",
    "    pages DESC\n",
    "LIMIT 3;\n",
    "```"
   ]
  },
  {
   "cell_type": "markdown",
   "metadata": {},
   "source": [
    "## Ejercicios!\n",
    "\n",
    "**Ejercicio 1**\n",
    "\n",
    "Antes de realizar el ejercicio, te instamos primero a extraer las primeras 5 filas de la tabla products_data_all y echarlas un vistazo. El objetivo es familiarizarse con los datos con los que vas a trabajar. Después, procede a realizar la tarea descrita a continuación:\n",
    "\n",
    "Escribe una consulta para encontrar la cantidad de productos en cada categoría (category) para la fecha '2019-06-05'. Asigna el nombre name_cnt a la variable y ordena los datos en orden ascendente. Imprime la fecha, la categoría del producto y la cantidad de productos. Nombra la fecha elegida update_date.\n",
    "\n",
    "No es necesario utilizar CAST.\n",
    "\n",
    "Ten en cuenta que las fechas se almacenan como strings y deben convertirse al tipo date"
   ]
  },
  {
   "cell_type": "code",
   "execution_count": null,
   "metadata": {
    "vscode": {
     "languageId": "sql"
    }
   },
   "outputs": [],
   "source": [
    "SELECT \n",
    "    date_upd::date as update_date,\n",
    "    category,\n",
    "\tcount(name) as name_cnt\n",
    "FROM\n",
    "    products_data_all\n",
    "WHERE\n",
    "    date_upd::date = '2019-06-05'\n",
    "GROUP BY \n",
    "    date_upd::date,\n",
    "    category;"
   ]
  },
  {
   "cell_type": "markdown",
   "metadata": {},
   "source": [
    "**Ejercicio 2**\n",
    "\n",
    "Escribe una consulta para calcular la cantidad de productos únicos para cada categoría en la tienda 'T-E-B' para la fecha '2019-06-30'. Asigna el nombre uniq_name_cnt a la variable y ordena los datos por este campo en orden descendente. Convierte la fecha al tipo date y llama el campo resultante update_date. Después imprime la fecha, el nombre de la tienda, el nombre de la categoría y la cantidad de productos únicos."
   ]
  },
  {
   "cell_type": "code",
   "execution_count": null,
   "metadata": {
    "vscode": {
     "languageId": "sql"
    }
   },
   "outputs": [],
   "source": [
    "SELECT \n",
    "\tdate_upd :: date as update_date,\n",
    "    name_store,\n",
    "    category,\n",
    "    count(distinct name) as uniq_name_cnt\n",
    "FROM\n",
    "    products_data_all\n",
    "WHERE \n",
    "\tname_store = 'T-E-B' and date_upd :: date = '2019-06-30'\n",
    "GROUP BY \n",
    "    update_date,\n",
    "    name_store,\n",
    "    category\n",
    "  \n",
    "ORDER BY\n",
    "    uniq_name_cnt desc;"
   ]
  },
  {
   "cell_type": "markdown",
   "metadata": {},
   "source": [
    "**Ejercicio 3**\n",
    "\n",
    "Escribe una consulta para imprimir los cinco productos más caros en orden descendente. Imprime el nombre del producto y su precio. Llama la variable max_price."
   ]
  },
  {
   "cell_type": "code",
   "execution_count": null,
   "metadata": {
    "vscode": {
     "languageId": "sql"
    }
   },
   "outputs": [],
   "source": [
    "SELECT \n",
    "\tname,\n",
    "    max(price) as max_price\n",
    "FROM\n",
    "    products_data_all\n",
    "GROUP BY \n",
    "    name\n",
    "ORDER BY \n",
    "    max_price desc\n",
    "LIMIT \n",
    "    5"
   ]
  },
  {
   "cell_type": "markdown",
   "metadata": {},
   "source": [
    "<hr>\n",
    "\n",
    "## Procesar datos dentro de una agrupación\n",
    "\n",
    "¿Qué pasa si queremos imprimir todos los autores que tienen más de un libro en la tabla? En este caso utilizamos HAVING. Funciona como WHERE para funciones de agregación.\n",
    "\n",
    "Así es como se ve una instrucción con una cláusula HAVING:\n",
    "\n",
    "```\n",
    "SELECT\n",
    "    field_1,\n",
    "    field_2,\n",
    "    ...,\n",
    "    field_n,\n",
    "    AGGREGATE_FUNCTION (field) AS here_you_are\n",
    "FROM\n",
    "    TABLE\n",
    "WHERE -- si es necesario\n",
    "    condition\n",
    "GROUP BY\n",
    "    field_1,\n",
    "    field_2,\n",
    "    ...,\n",
    "    field_n\n",
    "HAVING\n",
    "    AGGREGATE_FUNCTION (field_for_grouping) > n\n",
    "ORDER BY -- cuando es necesario. Enumera solo los campos\n",
    "    --por los que tenemos que ordenar los datos (utiliza los alias de SELECT cuando es posible)\n",
    "    field_1,\n",
    "    field_2,\n",
    "    ...,\n",
    "    field_n,\n",
    "    here_you_are\n",
    "LIMIT -- si es necesario\n",
    "      n;\n",
    "```\n",
    "\n",
    "Ahora vamos a encontrar todos los autores que tienen más de un libro\n",
    "\n",
    "```\n",
    "SELECT\n",
    "    author,\n",
    "    COUNT(name) AS name_cnt\n",
    "FROM\n",
    "    books\n",
    "GROUP BY\n",
    "    author\n",
    "HAVING\n",
    "    COUNT(name) > 1\n",
    "ORDER BY\n",
    "    name_cnt DESC;\n",
    "```\n",
    "\n",
    "Presta atención especial al orden en que aparecen los comandos:\n",
    "\n",
    "1) GROUP BY\n",
    "\n",
    "2) HAVING\n",
    "\n",
    "3) ORDER BY\n",
    "\n",
    "Este orden es obligatorio. De lo contrario, el código no funcionará.\n",
    "\n",
    "Es hora de practicar.\n"
   ]
  },
  {
   "cell_type": "markdown",
   "metadata": {},
   "source": [
    "## Ejercicios!\n",
    "\n",
    "**Ejercicio 1**\n",
    "\n",
    "Vas a seguir trabajando aquí con la tabla products_data_all. \n",
    "\n",
    "Escribe una declaración para encontrar el precio más alto (los precios están guardados en la columna price) para cada nombre de producto (los nombres están almacenados en la columna name). Guárdalo como variable max_price. Después imprime el nombre y el precio de cada producto cuyo precio sea superior a $10."
   ]
  },
  {
   "cell_type": "code",
   "execution_count": null,
   "metadata": {
    "vscode": {
     "languageId": "sql"
    }
   },
   "outputs": [],
   "source": [
    "SELECT \n",
    "\tname,\n",
    "    max(price) as max_price\n",
    "FROM\n",
    "    products_data_all\n",
    "Group by \n",
    "    name\n",
    "HAVING\n",
    "    max(price) > 10"
   ]
  },
  {
   "cell_type": "markdown",
   "metadata": {},
   "source": [
    "**Ejercicio 2**\n",
    "\n",
    "Vas a seguir trabajando aquí con la tabla products_data_all.\n",
    "\n",
    "Escribe una consulta para encontrar la cantidad de productos que pesan más de 5 onzas (weight) para cada tienda (name_store) para la fecha 2019-06-03. Guarda el resultado como name_cnt y la fecha (convertida al tipo necesario) como update_date. \n",
    "\n",
    "Imprime la fecha, el nombre de la tienda y la cantidad de productos solo para las tiendas que tienen menos de 20 productos. Las columnas deben ir en este orden:  update_date, name_store, name_cnt.\n",
    "\n",
    "No olvides convertir el peso del producto al tipo real y seleccionar solo productos cuyo peso se mide en onzas (units = 'oz')."
   ]
  },
  {
   "cell_type": "code",
   "execution_count": null,
   "metadata": {
    "vscode": {
     "languageId": "sql"
    }
   },
   "outputs": [],
   "source": [
    "SELECT \n",
    "    date_upd::date as update_date,\n",
    "    name_store,\n",
    "    count(name) as name_cnt\n",
    "FROM\n",
    "    products_data_all\n",
    "WHERE\n",
    "    weight::real > 5\n",
    "    AND date_upd::date = '2019-06-03'\n",
    "    AND units = 'oz'\n",
    "GROUP BY\n",
    "    date_upd::date,\n",
    "    name_store\n",
    "HAVING \n",
    "    COUNT(name) < 20;"
   ]
  },
  {
   "cell_type": "markdown",
   "metadata": {},
   "source": [
    "**Ejercicio 3**\n",
    "\n",
    "De nuevo, sigamos trabajando con la tabla products_data_all.\n",
    "\n",
    "Escribe una consulta para encontrar la cantidad de productos únicos para cada tienda (name_store) y llama a la variable name_uniq_cnt. Encuentra las tres tiendas con la menor cantidad de productos (ordénalas en orden ascendente) entre las tiendas que tienen más de 30 productos únicos. Imprime el nombre de cada tienda y la cantidad de productos únicos que ofrece."
   ]
  },
  {
   "cell_type": "code",
   "execution_count": null,
   "metadata": {
    "vscode": {
     "languageId": "sql"
    }
   },
   "outputs": [],
   "source": [
    "SELECT \n",
    "    count(distinct name) as name_uniq_cnt,\n",
    "    name_store\n",
    "FROM\n",
    "    products_data_all\n",
    "GROUP BY\n",
    "    name_store\n",
    "HAVING \n",
    "    count(distinct name) > 30\n",
    "ORDER BY\n",
    "    name_uniq_cnt ASC\n",
    "LIMIT 3;"
   ]
  },
  {
   "cell_type": "markdown",
   "metadata": {},
   "source": [
    "<hr>\n",
    "\n",
    "## Operadores y funciones para trabajar con fechas\n",
    "\n",
    "El tiempo es un factor crucial en los procesos de negocio.\n",
    "\n",
    "Por ejemplo, para evaluar el impacto del clima en la dinamica de compras en una tienda en línea es importante saber cuándo se realizó cada compra y cómo estaba el clima en ese momento. Debes poder recopilar datos sobre el tiempo de varias fuentes y agruparlos por mes, día u hora.\n",
    "\n",
    "Cuando trabajamos con valores de fecha y hora, tenemos dos funciones principales: EXTRACT y DATE_TRUNC (truncar fecha). Ambas funciones se llaman en el bloque SELECT.\n",
    "\n",
    "Así es como se ve la función EXTRACT:\n",
    "\n",
    "\n",
    "```\n",
    "SELECT\n",
    "    EXTRACT(date_fragment FROM column_name) AS new_column_with_date\n",
    "FROM\n",
    "    Table_with_all_dates;\n",
    "```\n",
    "\n",
    "EXTRACT, como es lógico, extrae la información que necesitas del timestamp (la marca de tiempo). Puedes recuperar:\n",
    "\n",
    "- century: siglo\n",
    "- day: día\n",
    "- doy: día del año, del 1 al 365/366\n",
    "- isodow: día de la semana según ISO 8601, el formato internacional de fecha y hora; El lunes es 1, el domingo es 7\n",
    "- hour: hora\n",
    "- milliseconds: milisegundos\n",
    "- minute: minutos\n",
    "- second: segundos\n",
    "- month: mes\n",
    "- quarter: trimestre\n",
    "- week: semana del año\n",
    "- year: año\n",
    "\n",
    "Vamos a llamar a la función EXTRACT para obtener dos columnas del campo log_on de la tabla user_activity. Estas columnas contendrán el mes y el día de los inicios de sesión de los usuarios.\n",
    "\n",
    "|id_user | log_on | log_off|\n",
    "|----|----|---|\n",
    "|6|2019-03-01 23:34:55|2019-04-01 01:20:45|\n",
    "|156|2019-07-03 17:59:21\t|2019-07-03 19:31:34|\n",
    "|65|2019-03-25 14:30:46\t|2019-03-25 17:47:53|\n",
    "\n",
    "```\n",
    "SELECT\n",
    "    id_user,\n",
    "    EXTRACT(MONTH FROM log_on) AS month_activity,\n",
    "    EXTRACT(DAY FROM log_on) AS day_activity\n",
    "FROM\n",
    "    user_activity;\n",
    "```\n",
    "\n",
    "\n",
    "|id_user\t|month_activity\t|day_activity|\n",
    "|-|-|-|\n",
    "|6|\t3|\t1|\n",
    "|156\t|7|\t3|\n",
    "|65\t|3|\t25|\n",
    "\n",
    "El usuario 6 inició sesión el primer día del tercer mes y el usuario 156 lo hizo el tercer día del séptimo mes. \n",
    "\n",
    "DATE_TRUNC trunca la fecha cuando solo necesitas un cierto nivel de precisión. (Por ejemplo, si necesitas saber qué día se realizó un pedido pero la hora no importa, puedes usar DATE_TRUNC con el argumento \"day\"). A diferencia de EXTRACT, la fecha truncada resultante se proporciona como un string. La columna de la que se toma la fecha completa viene después de una coma:\n",
    "\n",
    "```\n",
    "SELECT\n",
    "    DATE_TRUNC('date_fragment_to_be_truncated_to', column_name) AS new_column_with_date\n",
    "FROM\n",
    "    Table_with_all_dates;\n",
    "```\n",
    "\n",
    "A veces es importante saber la hora exacta en que un usuario hizo una acción. Pero cuando necesitas agrupar los inicios de sesión por fecha y hora, los minutos y los segundos estorban. Así que vamos a truncar los valores del campo log_on hasta horas.\n",
    "\n",
    "\n",
    "```\n",
    "SELECT\n",
    "    DATE_TRUNC('hour', log_on) AS date_log_on\n",
    "FROM\n",
    "    user_activity;\n",
    "\n",
    "--Resultado \n",
    "\n",
    "date_log_on\n",
    "\n",
    "2019-03-01 23:00:00\n",
    "\n",
    "2019-07-03 17:00:00\n",
    "\n",
    "2019-03-25 14:00:00\n",
    "\n",
    "```\n"
   ]
  },
  {
   "cell_type": "markdown",
   "metadata": {},
   "source": [
    "## Ejercicios!\n",
    "\n",
    "**Ejercicio 1**\n",
    "\n",
    "Recupera las horas del campo date en la tabla transactions. Llama el campo resultante hours."
   ]
  },
  {
   "cell_type": "code",
   "execution_count": null,
   "metadata": {
    "vscode": {
     "languageId": "sql"
    }
   },
   "outputs": [],
   "source": [
    "SELECT \n",
    "\textract(hours from date) as hours\n",
    "    \n",
    "FROM\n",
    "    transactions;"
   ]
  },
  {
   "cell_type": "markdown",
   "metadata": {},
   "source": [
    "**Ejercicio 2**\n",
    "\n",
    "Recupera las horas del campo date en la tabla transactions. Llama al campo resultante hours. Después agrupa los datos por hours y encuentra la cantidad de productos (id_product) comprados durante cada hora. Llama a la variable resultante cnt.\n",
    "\n",
    "Ordena los resultados en orden ascendente por el valor del campo hours. Las columnas deben aparecer en este orden:hours, cnt"
   ]
  },
  {
   "cell_type": "code",
   "execution_count": null,
   "metadata": {
    "vscode": {
     "languageId": "sql"
    }
   },
   "outputs": [],
   "source": [
    "SELECT \n",
    "    extract(hours from date) as hours,\n",
    "    count(id_product) as cnt\n",
    "FROM\n",
    "    transactions\n",
    "Group by\n",
    "    hours\n",
    "Order by\n",
    "    hours asc"
   ]
  },
  {
   "cell_type": "markdown",
   "metadata": {},
   "source": [
    "**Ejercicio 3**\n",
    "\n",
    "Recupera los días del campo date en la tabla transactions. Llama al campo resultante days. Después agrupa los datos por days y encuentra la cantidad de productos (id_product) comprados cada día. Llama a la variable resultante cnt. Ordena los resultados en orden ascendente por days. Las columnas deben aparecer en este orden: days, cnt"
   ]
  },
  {
   "cell_type": "code",
   "execution_count": null,
   "metadata": {
    "vscode": {
     "languageId": "sql"
    }
   },
   "outputs": [],
   "source": [
    "SELECT \n",
    "    extract(days from date) as days,\n",
    "    count(id_product) as cnt\n",
    "FROM\n",
    "    transactions\n",
    "Group by\n",
    "    days\n",
    "Order by\n",
    "    days"
   ]
  },
  {
   "cell_type": "markdown",
   "metadata": {},
   "source": [
    "**Ejercicio 4**\n",
    "\n",
    "Has determinado que la mayoría de las compras se realizaron el primer día del mes. Trunca la fecha del campo date al nivel de día y llama a la variable date_month.  Agrupa los datos por fecha truncada y encuentra la cantidad de productos (id_producto) comprados cada día. Llama a la variable resultante cnt. Ordena los resultados en orden ascendente por date_month. Las columnas deben aparecer en este orden: date_month, cnt"
   ]
  },
  {
   "cell_type": "code",
   "execution_count": null,
   "metadata": {
    "vscode": {
     "languageId": "sql"
    }
   },
   "outputs": [],
   "source": [
    "SELECT\n",
    "    date_trunc('day', date) as date_month,\n",
    "    count(id_product) as cnt\n",
    "FROM\n",
    "    transactions\n",
    "group by\n",
    "    date_month\n",
    "order by\n",
    "    date_month asc"
   ]
  },
  {
   "cell_type": "markdown",
   "metadata": {},
   "source": [
    "<hr>\n",
    "\n",
    "## Subconsultas\n",
    "\n",
    "Una subconsulta es una consulta dentro de una consulta. Por ejemplo, un director está buscando un actor para interpretar a Hamlet. Para ayudarle, el subdirector selecciona cinco candidatos buenos para que el director elija. La consulta, o consulta externa, es \"buscar a Hamlet\" mientras que la subconsulta, o consulta interna, es \"seleccionar cinco candidatos\".\n",
    "\n",
    "Se puede utilizar las subconsultas en varias ubicaciones dentro de una consulta.\n",
    "\n",
    "Si una subconsulta está dentro del bloque FROM, SELECT seleccionará datos de la tabla que genera la subconsulta. El nombre de la tabla se indica dentro de la consulta interna y la consulta externa se refiere a las columnas de la tabla. Las subconsultas siempre se escriben entre paréntesis:\n",
    "\n",
    "\n",
    "```\n",
    "SELECT \n",
    "SUBQUERY_1.column_name, \n",
    "SUBQUERY_1.column_name_2\n",
    "FROM -- para que el código sea legible, coloca subconsultas en nuevas líneas\n",
    "    -- sangra las subconsultas\n",
    "    (SELECT \n",
    "        column_name,\n",
    "        column_name_2\n",
    "    FROM \n",
    "        table_name\n",
    "    WHERE \n",
    "        column_name = value) AS SUBQUERY_1; \n",
    "-- no olvides darles un nombre a tus subconsultas\n",
    "```\n",
    "\n",
    "Vamos a escribir una consulta para encontrar el número promedio de calificaciones dadas a los libros de cada género. Para hacerlo, tendremos que llamar a dos funciones de agregación: COUNT encontrará el número de calificaciones y AVG calculará la media. Sin embargo, el comando SELECT AVG(COUNT(rating)) devolverá un mensaje de error: ERROR: aggregate function calls cannot be nested. \n",
    "\n",
    "Primero tenemos que invitar a los actores a la audición; solo así podremos elegir al mejor. Vamos a buscar el número de calificaciones por género utilizando una subconsulta y calcular la media en la consulta externa:\n",
    "\n",
    "```\n",
    "SELECT \n",
    "    AVG(Sub.count_rating) AS avg_count_rating\n",
    "FROM\n",
    "    (SELECT \n",
    "        COUNT(rating) as count_rating\n",
    "    FROM \n",
    "        books\n",
    "    GROUP BY genre) AS Sub;\n",
    "```\n",
    "La consulta interna calculó la cantidad de calificaciones de libros para cada género y guardó los valores en el campo count_rating. Ahora la consulta externa puede tomar la tabla resultante y hacer su trabajo.\n",
    "\n",
    "Ahora llamamos a la columna count_rating de la tabla Sub y calculamos el valor promedio utilizando AVG:\n",
    "\n",
    "> **2.72**\n",
    "\n",
    "¿Qué significa este número? Significa que cada género recibió, en promedio, 2.72 calificaciones.\n",
    "\n",
    "Es posible que necesites subconsultas en varios lugares dentro de tu consulta. Vamos a añadir uno en el bloque WHERE. La consulta principal comparará los resultados de la subconsulta con los valores de la tabla en el bloque externo FROM. Cuando haya una coincidencia, se seleccionarán los datos:\n",
    "\n",
    "\n",
    "```\n",
    "SELECT \n",
    "    column_name, \n",
    "    column_name_1\n",
    "FROM \n",
    "    table_name\n",
    "WHERE \n",
    "    column_name = \n",
    "        (SELECT \n",
    "            column_1\n",
    "        FROM \n",
    "            table_name_2 \n",
    "        WHERE\n",
    "            column_1  = value);\n",
    "```\n",
    "\n",
    "Ahora vamos a agregar una instrucción IN a nuestra consulta y recopilar datos que coincidan con más de un valor:\n",
    "\n",
    "```\n",
    "SELECT \n",
    "    column_name, \n",
    "    column_name_1\n",
    "FROM \n",
    "    table_name\n",
    "WHERE \n",
    "    column_name IN  \n",
    "            (SELECT \n",
    "                column_1\n",
    "            FROM \n",
    "                table_name_2  \n",
    "            WHERE \n",
    "                column_1 = value_1 OR column_1 = value_2);\n",
    "```\n",
    "Seleccionemos libros publicados por Knopf de la tabla books:\n",
    "\n",
    "```\n",
    "SELECT \n",
    "    name,\n",
    "    publisher_id\n",
    "FROM \n",
    "    books\n",
    "WHERE \n",
    "    publisher_id = \n",
    "            (SELECT \n",
    "                 publisher_id\n",
    "            FROM \n",
    "                publisher\n",
    "            WHERE \n",
    "                name ='Knopf');\n",
    "```\n",
    "\n",
    "La subconsulta selecciona de la tabla publisher solo aquellos valores publisher_id que coinciden con el nombre de la editorial Knopf. El resultado es 10. Solo hay un valor de tabla publisher relacionado con Knopf.\n",
    "\n",
    "Después, la consulta externa selecciona nombres e identificadores de editoriales de la tabla books pero solo aquellos que coinciden con el resultado de nuestra consulta interna (es decir, cuyo ID de editorial es 10).\n",
    "\n",
    "Aquí está el resultado de la consulta externa:\n",
    "\n",
    "|name|\tpublisher_id|\n",
    "|-|-|\n",
    "|The Witching Hour\t|10|\n",
    "|The Vampire Lestat\t|10|\n",
    "|Intensity|\t10|\n",
    "\n",
    "Vamos a escribir una consulta parecida, agregando Collins y Crown a la lista de editoriales. Aquí necesitaremos IN:\n",
    "\n",
    "```\n",
    "SELECT \n",
    "    name,\n",
    "    publisher_id\n",
    "FROM \n",
    "    books\n",
    "WHERE \n",
    "    publisher_id IN \n",
    "            (SELECT \n",
    "                 publisher_id\n",
    "            FROM \n",
    "                publisher\n",
    "            WHERE \n",
    "                name IN ('Knopf', 'Collins', 'Crown'));\n",
    "```\n",
    "La instrucción IN de la consulta interna selecciona los identificadores de editoriales asociados con los nombres Knopf, Collins y Crown de la tabla publisher, lo que nos da 10, 15 y 19. Después estos valores se pasan a la consulta externa.\n",
    "\n",
    "La consulta externa, a su vez, selecciona de la tabla books los nombres y editoriales asociados con los valores de publisher_id seleccionados por la consulta interna: nuestros viejos conocidos 10, 15 y 19.\n",
    "\n",
    "|name\t|publisher_id|\n",
    "|-|-|\n",
    "|The Great and Secret Show\t|15|\n",
    "|World War Z: An Oral History of the Zombie War\t|19|\n",
    "|The Witching Hour\t|10|\n",
    "|The Vampire Lestat\t|10|\n",
    "|Intensity\t|10|\n",
    "\n",
    "\n",
    "\n",
    "\n",
    "\n",
    "\n",
    "\n"
   ]
  },
  {
   "cell_type": "markdown",
   "metadata": {},
   "source": [
    "## Ejercicios!\n",
    "\n",
    "**Ejercicio 1**\n",
    "\n",
    "El jefe de tu departamento quiere listas de clientes que prefieren productos premium, junto con un informe sobre el promedio diario de transacciones de cada semana. Prepárate, ¡es un estudio de público objetivo!\n",
    "\n",
    "Escribe una consulta para seleccionar ID de productos (id_product) de la tabla products_data_all:\n",
    "\n",
    "- de productos de la categoría 'milk' que cuestan más de 17$\n",
    "- de productos de categoría 'butter' que cuestan más de 9$\n",
    "\n",
    "Recuerda que los nombres de los campos son:\n",
    "\n",
    "- categoría: category\n",
    "- precio: price"
   ]
  },
  {
   "cell_type": "code",
   "execution_count": null,
   "metadata": {
    "vscode": {
     "languageId": "sql"
    }
   },
   "outputs": [],
   "source": [
    "SELECT \n",
    "    id_product\n",
    "FROM \n",
    "\t\tproducts_data_all\n",
    "WHERE \n",
    "  (category = 'milk' AND price > 17)\n",
    "  OR (category = 'butter' AND price > 9);"
   ]
  },
  {
   "cell_type": "markdown",
   "metadata": {},
   "source": [
    "**Ejercicio 2**\n",
    "\n",
    "Escribe una consulta para seleccionar los identificadores únicos (user_id) de clientes que compraron productos (id_product) de la categoría 'milk' que cuestan más de 17$ o los de categoría 'butter' que cuestan más de 9$. Utiliza la tabla transactions."
   ]
  },
  {
   "cell_type": "code",
   "execution_count": null,
   "metadata": {
    "vscode": {
     "languageId": "sql"
    }
   },
   "outputs": [],
   "source": [
    "SELECT \n",
    "    DISTINCT user_id\n",
    "FROM \n",
    "    transactions\n",
    "WHERE \n",
    "    id_product IN (\n",
    "        SELECT \n",
    "            id_product \n",
    "        FROM \n",
    "            products_data_all\n",
    "        WHERE \n",
    "            (category = 'milk' AND price > 17) OR \n",
    "            (category = 'butter' AND price > 9)\n",
    "    );\n"
   ]
  },
  {
   "cell_type": "markdown",
   "metadata": {},
   "source": [
    "**Ejercicio 3**\n",
    "\n",
    "Escribe una consulta para encontrar el número de transacciones únicas (id_transaction) en la tabla transactions. Agrupa los totales de transacciones por día, truncando la columna date al nivel del día. Llama a la columna de transacción resultante transactions_per_day y la que tiene la fecha truncada trunc_date. No se necesitan subconsultas aquí. \n",
    "\n",
    "El resultado tendrá entradas como esta:\n",
    "\n",
    "|transactions_per_day|\ttrunc_date|\n",
    "|-|-|\n",
    "|330|\t2019-06-01 00:00:00|"
   ]
  },
  {
   "cell_type": "code",
   "execution_count": null,
   "metadata": {
    "vscode": {
     "languageId": "sql"
    }
   },
   "outputs": [],
   "source": [
    "SELECT \n",
    "    COUNT(DISTINCT id_transaction) as transactions_per_day,\n",
    "    DATE_TRUNC('day', date) as trunc_date\n",
    "FROM \n",
    "    transactions\n",
    "GROUP BY \n",
    "    trunc_date\n",
    "ORDER BY \n",
    "    trunc_date;\n"
   ]
  },
  {
   "cell_type": "markdown",
   "metadata": {},
   "source": [
    "**Ejercicio 4**\n",
    "\n",
    "Convierte la consulta de la tarea anterior en una subconsulta de bloque FROM. Llama al resultado SUBQ.\n",
    "\n",
    "Mientras tanto, en la consulta externa:\n",
    "\n",
    "- Llama a la función EXTRACT para recuperar el número de la semana de la columna trunc_date de la tabla SUBQ. Llama al campo resultante week_number.\n",
    "- Encuentra la media de la columna transactions_per_day de la tabla SUBQ y guárdala en la variable avg_week_transaction.\n",
    "- Agrupa los datos por week_number.\n",
    "\n",
    "Las columnas deben aparecer en este orden: week_number, avg_week_transaction."
   ]
  },
  {
   "cell_type": "code",
   "execution_count": null,
   "metadata": {
    "vscode": {
     "languageId": "sql"
    }
   },
   "outputs": [],
   "source": [
    "SELECT \n",
    "    EXTRACT(WEEK FROM trunc_date) as week_number,\n",
    "    AVG(transactions_per_day) as avg_week_transaction\n",
    "FROM (\n",
    "    SELECT \n",
    "        COUNT(DISTINCT id_transaction) as transactions_per_day,\n",
    "        DATE_TRUNC('day', date) as trunc_date\n",
    "    FROM \n",
    "        transactions\n",
    "    GROUP BY \n",
    "        trunc_date\n",
    ") AS SUBQ\n",
    "GROUP BY \n",
    "    week_number\n",
    "ORDER BY \n",
    "    week_number;\n"
   ]
  },
  {
   "cell_type": "markdown",
   "metadata": {},
   "source": [
    "<hr>\n",
    "\n",
    "## Funciones Ventana\n",
    "\n",
    "Digamos que queremos encontrar la relación entre el precio de cada libro y el precio total. Basándonos en lo que hemos aprendido podemos escribir lo siguiente:\n",
    "\n",
    "```\n",
    "SELECT\n",
    "    author_id,\n",
    "    name,\n",
    "    price,\n",
    "    price / (\n",
    "        SELECT\n",
    "            SUM(price) AS ratio\n",
    "        FROM\n",
    "            books_price)\n",
    "FROM\n",
    "    books_price;\n",
    "```\n",
    "\n",
    "\n",
    "Hay un problema: el precio total es un valor fijo pero se calcula una y otra vez para cada fila. Esto podría estar bien para una tabla corta pero si estamos tratando con millones de filas, no sería nada eficiente.\n",
    "\n",
    "Afortunadamente, SQL tiene una herramienta que nos permite evitar este tipo de problemas: las funciones de ventana que realizan todas sus operaciones dentro de ventanas. \n",
    "\n",
    "En SQL, una ventana es una secuencia de filas con las que se realizan los cálculos. Puede ser la tabla completa o, por ejemplo, las seis filas por encima de la actual. Trabajar con estas ventanas es diferente a trabajar con solicitudes normales. \n",
    "\n",
    "Podemos resolver rápidamente la tarea de arriba con una función de ventana. La solución será así:\n",
    "\n",
    "```\n",
    "SELECT\n",
    "    author_id,\n",
    "    name,\n",
    "    price / SUM(price) OVER () AS ratio\n",
    "FROM\n",
    "    books_price;\n",
    "```\n",
    "\n",
    "La función que precede a la palabra clave OVER se ejecutará con los datos dentro de la ventana. Si no indicamos ningún parámetro (como aquí), se utilizará todo el resultado de la consulta.\n",
    "\n",
    "Ahora vamos a hacer la tarea un poco más compleja: encontraremos la relación entre el precio de cada libro y el precio total de los libros de ese autor. Para hacerlo, necesitaremos agrupar los datos con un método parecido a GROUP BY. Para funciones de ventana es PARTITION BY:\n",
    "\n",
    "```\n",
    "SELECT\n",
    "    author_id,\n",
    "    name,\n",
    "    price / SUM(price) OVER (PARTITION BY author_id) AS ratio\n",
    "FROM\n",
    "    books_price;\n",
    "```\n",
    "\n"
   ]
  },
  {
   "cell_type": "markdown",
   "metadata": {},
   "source": [
    "## Ejercicios!\n",
    "\n",
    "**Ejercicio 1**\n",
    "\n",
    "Escribe una consulta para calcular el ratio entre los precios de ciertos productos (name) y el precio promedio de los productos vendidos por categoría (category) y por tienda (name_store).  Además selecciona los precios de los productos (price).\n",
    "\n",
    "Guarda el resultado en la variable product_mul.\n",
    "\n",
    "Las primeras filas de la tabla resultante deberían ser así:\n",
    "\n",
    "|product_name|\tstore_name|\tcategory|\tproduct_price\tproduct_mul|\n",
    "|-|-|-|-|\n",
    "|a2 Milk Whole Milk, 59 oz\t|Uncle Joe's Store|\tmilk|\t3.56|\t1.01888|\n",
    "|a2 Milk Whole Milk, 59 oz\t|T-E-B\t|milk|\t3.45|\t1.02882|\n",
    "|a2 Milk Whole Milk, 59 oz\t|Uncle Joe's Store|\tmilk\t|3.43|\t0.981675|\n"
   ]
  },
  {
   "cell_type": "code",
   "execution_count": null,
   "metadata": {
    "vscode": {
     "languageId": "sql"
    }
   },
   "outputs": [],
   "source": [
    "SELECT\n",
    "    name AS product_name,\n",
    "    name_store AS store_name,\n",
    "    category AS category,\n",
    "    price AS product_price,\n",
    "    price / AVG(price) OVER (PARTITION BY category, name_store) AS product_mul\n",
    "FROM\n",
    "    products_data_all\n",
    "ORDER BY\n",
    "    id_product;"
   ]
  },
  {
   "cell_type": "markdown",
   "metadata": {},
   "source": [
    "**Ejercicio 2**\n",
    "\n",
    "Escribe una consulta que encuentre la proporción de cada categoría (category) en las ventas totales de cada tienda (store_name) para cada día (sale_date) dentro del período del 1 al 6 de junio.\n",
    "\n",
    "Ordena el resultado por la fecha de compra y el nombre de la tienda y guárdalo en la variable percent.\n",
    "\n",
    "Las primeras filas de la tabla resultante deberían ser así:\n",
    "\n",
    "|STORE_NAME|\tSALE_DATE|\tCATEGORY|\tPERCENT|\n",
    "|-|-|-|-|\n",
    "|Four\t|2019-06-01\t|butter\t|16.7999|\n",
    "|Four\t|2019-06-01\t|milk|\t83.2001|\n",
    "|Milk Market\t|2019-06-01\t|butter\t|14.063|"
   ]
  },
  {
   "cell_type": "code",
   "execution_count": null,
   "metadata": {
    "vscode": {
     "languageId": "sql"
    }
   },
   "outputs": [],
   "source": [
    "SELECT DISTINCT\n",
    "    name_store AS store_name,\n",
    "    date_upd::date AS sale_date,\n",
    "    category AS category,\n",
    "    SUM(price) OVER (\n",
    "    PARTITION BY \n",
    "      name_store, category, date_upd\n",
    "  ) * 100 / SUM(price) OVER (\n",
    "    PARTITION BY \n",
    "      name_store, date_upd\n",
    "  ) AS percent\n",
    "FROM\n",
    "    products_data_all\n",
    "WHERE\n",
    "    date_upd::date BETWEEN '2019-06-01'\n",
    "    AND '2019-06-06'\n",
    "ORDER BY\n",
    "    date_upd::date,\n",
    "    name_store;"
   ]
  },
  {
   "cell_type": "markdown",
   "metadata": {},
   "source": [
    "<hr>\n",
    "\n",
    "## FUNCIONES DE VENTANA EN MÁS DETALLE\n",
    "\n",
    "Vamos a ver de dónde obtienen su nombre las funciones de ventana. Digamos que necesitamos aplicar una función de agregación a un fragmento de tabla en lugar de a toda la tabla y encontrar un valor acumulativo: por ejemplo, cómo cambia el valor acumulativo del inventario de la librería. (Al principio, la tienda ofrece solo un libro por $10; el valor acumulativo es de $10. Después adquiere un segundo libro de cinco dólares y el valor acumulativo se convierte en $15).\n",
    "\n",
    "Para que una ventana funcione correctamente es importante indicar los parámetros de ordenación para que el SGBD entienda en qué orden están los datos. \n",
    "\n",
    "Vamos a obtener nuestro valor acumulado:\n",
    "\n",
    "```\n",
    "SELECT\n",
    "    author_id,\n",
    "    name,\n",
    "    SUM(price) OVER (ORDER BY author_id ROWS BETWEEN UNBOUNDED PRECEDING AND CURRENT ROW)\n",
    "FROM\n",
    "    books_price;\n",
    "```\n",
    "\n",
    "tenemos dos nuevas palabras clave aquí: ORDER BY y ROWS. ORDER BY nos permite definir el orden de ordenación de las filas a través de las cuales se ejecutará la ventana. En ROWS indicamos los marcos de ventana sobre los que se va a calcular una función de agregación. Aquí está el resultado:\n",
    "\n",
    "|author_id\t|name\t|sum|\n",
    "|-|-|-|\n",
    "|0\t|Full Dark, No Stars|\t15.64|\n",
    "|0\t|End of Watch\t|25.630001|\n",
    "|0\t|Misery\t|34.82|\n",
    "\n",
    "Los marcos pueden indicarse de varias maneras:\n",
    "\n",
    "- UNBOUNDED PRECEDING: todas las filas que están por encima de la actual\n",
    "- N PRECEDING: las n filas por encima de la actual\n",
    "- CURRENT ROW: la fila actual\n",
    "- N FOLLOWING: las n filas debajo de la actual\n",
    "- UNBOUNDED FOLLOWING: todas las filas debajo de la actual\n",
    "\n",
    "Se pueden combinar los parámetros.\n",
    "\n",
    "Aquí tienes otro ejemplo del uso de una función de ventana. Esto nos da el número acumulado de páginas para cada autor:\n",
    "\n",
    "```\n",
    "SELECT\n",
    "    author_id,\n",
    "    name,\n",
    "    pages,\n",
    "    SUM(pages) OVER (PARTITION BY author_id ORDER BY author_id ROWS BETWEEN UNBOUNDED PRECEDING AND CURRENT ROW)\n",
    "FROM\n",
    "    books_price;\n",
    "```\n",
    "\n",
    "\n",
    "Resultado:\n",
    "\n",
    "|author_id\t|name\t|pages|\tsum|\n",
    "|-|-|-|-|\n",
    "|0\t|Full Dark, No Stars|\t368|\t368|\n",
    "|0\t|End of Watch\t|432|\t800|\n",
    "\n",
    "\n",
    "**Funciones de agregación especiales**\n",
    "\n",
    "Además de SUM, AVG y COUNT existen funciones de agregación especiales que puedes utilizar al trabajar con ventanas. Vamos a echar un vistazo más de cerca.\n",
    "\n",
    "**Funciones de clasificación: RANK**\n",
    "\n",
    "La función RANK devuelve el número de índice de fila en la ventana actual. Si varias filas tienen un valor asignado según las reglas de ORDER BY se les asignará el mismo número. Esta función nos permite clasificar los datos.\n",
    "\n",
    "Para clasificar los libros según el número de páginas de cada autor podemos ejecutar la siguiente consulta:\n",
    "\n",
    "```\n",
    "SELECT\n",
    "    author_id,\n",
    "    name,\n",
    "    pages,\n",
    "    RANK() OVER (PARTITION BY author_id ORDER BY pages)\n",
    "FROM\n",
    "    books_price;\n",
    "```\n",
    "\n",
    "Resultado:\n",
    "\n",
    "|author_id|\tname\t|pages|\trank|\n",
    "|-|-|-|-|\n",
    "|0|\tMisery\t|320\t|1|\n",
    "|0|\tFull Dark, No Stars\t|368|\t2|\n",
    "|0|\tEnd of Watch\t|432\t|3|\n",
    "\n",
    "**Función de categorización: NTILE**\n",
    "\n",
    "Con NTILE podemos poner la fila de salida en un grupo. Esto es parecido a la partición de datos en cuartiles.  El número de grupos en los que se van a dividir los datos se pasa a la función.\n",
    "\n",
    "Por ejemplo, es posible que necesitemos dividir los libros en cinco categorías según el precio. Podemos hacerlo con la siguiente consulta:\n",
    "\n",
    "```\n",
    "SELECT\n",
    "    author_id,\n",
    "    name,\n",
    "    price,\n",
    "    ntile(5) OVER (ORDER BY price)\n",
    "FROM\n",
    "    books_price;\n",
    "```\n",
    "\n",
    "|author_id|\tname|\tprice|\tntile|\n",
    "|-|-|-|-|\n",
    "|5|\tThe October Country\t|7.35|\t1|\n",
    "|7\t|Lightning|\t7.35|\t1|\n",
    "|9\t|The Vampire Lestat|\t8.27|\t1|\n",
    "\n",
    "**Funciones de desplazamiento: LAG y LEAD**\n",
    "\n",
    "A menudo necesitarás comparar el valor actual con los anteriores o posteriores. Por eso tienes las funciones LAG y LEAD respectivamente.\n",
    "\n",
    "Puedes pasar a la función el nombre del campo y el desplazamiento (el número de filas) sobre el que se tomará el valor. Si no indicas el desplazamiento, será el valor predeterminado: 1.\n",
    "\n",
    "Por ejemplo, podemos averiguar cuántas páginas tiene cada libro y el libro previo del mismo autor con la siguiente consulta:\n",
    "\n",
    "```\n",
    "SELECT\n",
    "    author_id,\n",
    "    name,\n",
    "    pages,\n",
    "    LAG(pages) OVER (PARTITION BY author_id ORDER BY date_pub)\n",
    "FROM\n",
    "    books_price;\n",
    "```\n",
    "\n",
    "Resultado:\n",
    "\n",
    "|author_id\t|name\t|pages|\tlag|\n",
    "|-|-|-|-|\n",
    "|0|\tThe Stand\t|816\t|NULL|\n",
    "|0\t|Different Seasons|\t560|\t816|\n",
    "|0\t|It\t|1116\t|560|\n",
    "\n"
   ]
  },
  {
   "cell_type": "markdown",
   "metadata": {},
   "source": [
    "## Ejercicios!\n",
    "\n",
    "**Ejercicio 1**\n",
    "\n",
    "Vas a trabajar con la tabla products_all_data. Trabajando con los datos de la tienda Four (name_store) escribe una consulta para calcular el cambio en los ingresos totales en cada categoría (category) y en la tienda en general después de la venta de cada producto (name) el 2 de junio 2019. Guarda los resultados en las variables category_accum y store_accum respectivamente. Ordena los valores por id_product. Muestra los precios de los productos (price) antes de los resultados.\n",
    "\n",
    "Las primeras filas de la tabla resultante deberían ser así:\n",
    "\n",
    "|store_name|\tcategory|\tproduct_name|\tprice|\tcategory_accum|\tstore_accum|\n",
    "|-|-|-|-|-|-|\n",
    "|Four\t|milk\t|Borden Super Chox Chocolate Drink, 1 gal\t|2.38|\t2.38|\t2.38|\n",
    "|Four\t|milk\t|Fairlife 2% Chocolate Reduced Fat Milk, 52 oz|\t3.16|\t5.54|\t5.54|\n",
    "|Four\t|milk\t|Мoo-Moo Select Ingredients Fat Free Milk, 1 gal|\t2.28|\t7.82|\t7.82|"
   ]
  },
  {
   "cell_type": "code",
   "execution_count": null,
   "metadata": {
    "vscode": {
     "languageId": "sql"
    }
   },
   "outputs": [],
   "source": [
    "SELECT \n",
    "    name_store as store_name,\n",
    "    category,\n",
    "    name AS product_name,\n",
    "    price,\n",
    "    sum(price) over (partition by category order by id_product) as category_accum,\n",
    "    sum(price) over (partition by name_store order by id_product) as store_accum\n",
    "FROM\n",
    "    products_data_all\n",
    "where\n",
    "    name_store = 'Four' and date_upd::date = '2019-06-02'\n",
    "ORDER BY\n",
    "    id_product;"
   ]
  },
  {
   "cell_type": "markdown",
   "metadata": {},
   "source": []
  }
 ],
 "metadata": {
  "language_info": {
   "name": "python"
  }
 },
 "nbformat": 4,
 "nbformat_minor": 2
}
