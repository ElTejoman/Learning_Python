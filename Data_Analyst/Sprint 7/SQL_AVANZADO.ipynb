{
 "cells": [
  {
   "cell_type": "markdown",
   "metadata": {},
   "source": [
    "<hr>\n",
    "\n",
    "# **SQL Avanzado**\n",
    "\n",
    "<hr>\n",
    "\n",
    "## Agrupar datos"
   ]
  },
  {
   "cell_type": "markdown",
   "metadata": {},
   "source": [
    "Necesitamos utilizar la función de agregación COUNT. El comando GROUP BY nos ayudará a encontrar el número de filas por autor:"
   ]
  },
  {
   "cell_type": "code",
   "execution_count": null,
   "metadata": {
    "vscode": {
     "languageId": "sql"
    }
   },
   "outputs": [],
   "source": [
    "SELECT\n",
    "    author,\n",
    "    COUNT(name) AS cnt\n",
    "FROM\n",
    "    books\n",
    "GROUP BY\n",
    "    author;"
   ]
  },
  {
   "cell_type": "markdown",
   "metadata": {},
   "source": [
    "Ahora sabemos cuántos libros escribió cada uno de los autores de nuestra tabla.\n",
    "\n",
    "Esta vez, calculemos los totales de libros agrupados por autor y género."
   ]
  },
  {
   "cell_type": "code",
   "execution_count": null,
   "metadata": {
    "vscode": {
     "languageId": "sql"
    }
   },
   "outputs": [],
   "source": [
    "SELECT\n",
    "    author,\n",
    "    genre,\n",
    "    COUNT(name) AS cnt\n",
    "FROM\n",
    "    books\n",
    "GROUP BY\n",
    "    author,\n",
    "    genre;"
   ]
  }
 ],
 "metadata": {
  "language_info": {
   "name": "python"
  }
 },
 "nbformat": 4,
 "nbformat_minor": 2
}
