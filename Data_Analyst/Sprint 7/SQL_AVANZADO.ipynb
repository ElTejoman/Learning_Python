{
 "cells": [
  {
   "cell_type": "markdown",
   "metadata": {},
   "source": [
    "<hr>\n",
    "\n",
    "# **SQL Avanzado**\n",
    "\n",
    "<hr>\n",
    "\n",
    "## Agrupar datos"
   ]
  },
  {
   "cell_type": "markdown",
   "metadata": {},
   "source": [
    "Necesitamos utilizar la función de agregación COUNT. El comando GROUP BY nos ayudará a encontrar el número de filas por autor:"
   ]
  },
  {
   "cell_type": "code",
   "execution_count": null,
   "metadata": {
    "vscode": {
     "languageId": "sql"
    }
   },
   "outputs": [],
   "source": [
    "SELECT\n",
    "    author,\n",
    "    COUNT(name) AS cnt\n",
    "FROM\n",
    "    books\n",
    "GROUP BY\n",
    "    author;"
   ]
  },
  {
   "cell_type": "markdown",
   "metadata": {},
   "source": [
    "Ahora sabemos cuántos libros escribió cada uno de los autores de nuestra tabla.\n",
    "\n",
    "Esta vez, calculemos los totales de libros agrupados por autor y género."
   ]
  },
  {
   "cell_type": "code",
   "execution_count": null,
   "metadata": {
    "vscode": {
     "languageId": "sql"
    }
   },
   "outputs": [],
   "source": [
    "SELECT\n",
    "    author,\n",
    "    genre,\n",
    "    COUNT(name) AS cnt\n",
    "FROM\n",
    "    books\n",
    "GROUP BY\n",
    "    author,\n",
    "    genre;"
   ]
  },
  {
   "cell_type": "markdown",
   "metadata": {},
   "source": [
    "GROUP BY se puede usar con cualquier función de agregación: COUNT, AVG, SUM, MAX y MIN. Puedes llamar a varias funciones al mismo tiempo. Calculemos el número promedio de páginas en los libros de cada autor y el número de páginas en su libro más largo."
   ]
  },
  {
   "cell_type": "code",
   "execution_count": null,
   "metadata": {
    "vscode": {
     "languageId": "sql"
    }
   },
   "outputs": [],
   "source": [
    "SELECT\n",
    "    author,\n",
    "    AVG(pages) AS avg_pages,\n",
    "    MAX(pages) AS max_pages\n",
    "FROM\n",
    "    books\n",
    "GROUP BY\n",
    "    author;"
   ]
  },
  {
   "cell_type": "markdown",
   "metadata": {},
   "source": [
    "## Practiquemos!\n",
    "\n",
    "Ejercicio 1:\n",
    "Supongamos que tienes una tabla llamada sales que registra las ventas de productos por día. La estructura de la tabla es la siguiente:\n",
    "\n",
    "product_id: Identificador único del producto.\n",
    "date_sold: Fecha en que se realizó la venta.\n",
    "quantity: Cantidad vendida del producto.\n",
    "price: Precio unitario del producto.\n",
    "total: Total de la venta (cantidad * precio).\n",
    "Escribe una consulta para obtener el total de ventas diarias para cada producto. Mostrar los siguientes campos en el resultado:\n",
    "\n",
    "date_sold: Fecha de la venta.\n",
    "product_id: Identificador único del producto.\n",
    "total_sales: Total de ventas para ese producto en esa fecha.\n"
   ]
  },
  {
   "cell_type": "code",
   "execution_count": null,
   "metadata": {
    "vscode": {
     "languageId": "sql"
    }
   },
   "outputs": [],
   "source": []
  },
  {
   "cell_type": "markdown",
   "metadata": {},
   "source": [
    "Ejercicio 2:\n",
    "Supongamos que tienes una tabla llamada students que registra la asistencia de estudiantes a clases. La estructura de la tabla es la siguiente:\n",
    "\n",
    "student_id: Identificador único del estudiante.\n",
    "date_attended: Fecha en que el estudiante asistió a clase.\n",
    "subject: Materia o asignatura a la que asistió el estudiante.\n",
    "attendance_status: Estado de asistencia del estudiante (presente, ausente, tardanza, etc.).\n",
    "Escribe una consulta para obtener la cantidad total de asistencias por estudiante y por materia. Mostrar los siguientes campos en el resultado:\n",
    "\n",
    "student_id: Identificador único del estudiante.\n",
    "subject: Materia.\n",
    "total_attendance: Cantidad total de asistencias del estudiante a esa materia."
   ]
  }
 ],
 "metadata": {
  "language_info": {
   "name": "python"
  }
 },
 "nbformat": 4,
 "nbformat_minor": 2
}
