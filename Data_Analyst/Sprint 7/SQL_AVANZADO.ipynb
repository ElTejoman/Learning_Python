{
 "cells": [
  {
   "cell_type": "markdown",
   "metadata": {},
   "source": [
    "<hr>\n",
    "\n",
    "# **SQL Avanzado**\n",
    "\n",
    "<hr>\n",
    "\n",
    "## Agrupar datos"
   ]
  },
  {
   "cell_type": "markdown",
   "metadata": {},
   "source": [
    "Necesitamos utilizar la función de agregación COUNT. El comando GROUP BY nos ayudará a encontrar el número de filas por autor:"
   ]
  },
  {
   "cell_type": "code",
   "execution_count": null,
   "metadata": {
    "vscode": {
     "languageId": "sql"
    }
   },
   "outputs": [],
   "source": [
    "SELECT\n",
    "    author,\n",
    "    COUNT(name) AS cnt\n",
    "FROM\n",
    "    books\n",
    "GROUP BY\n",
    "    author;"
   ]
  },
  {
   "cell_type": "markdown",
   "metadata": {},
   "source": [
    "Ahora sabemos cuántos libros escribió cada uno de los autores de nuestra tabla.\n",
    "\n",
    "Esta vez, calculemos los totales de libros agrupados por autor y género."
   ]
  },
  {
   "cell_type": "code",
   "execution_count": null,
   "metadata": {
    "vscode": {
     "languageId": "sql"
    }
   },
   "outputs": [],
   "source": [
    "SELECT\n",
    "    author,\n",
    "    genre,\n",
    "    COUNT(name) AS cnt\n",
    "FROM\n",
    "    books\n",
    "GROUP BY\n",
    "    author,\n",
    "    genre;"
   ]
  },
  {
   "cell_type": "markdown",
   "metadata": {},
   "source": [
    "GROUP BY se puede usar con cualquier función de agregación: COUNT, AVG, SUM, MAX y MIN. Puedes llamar a varias funciones al mismo tiempo. Calculemos el número promedio de páginas en los libros de cada autor y el número de páginas en su libro más largo."
   ]
  },
  {
   "cell_type": "code",
   "execution_count": null,
   "metadata": {
    "vscode": {
     "languageId": "sql"
    }
   },
   "outputs": [],
   "source": [
    "SELECT\n",
    "    author,\n",
    "    AVG(pages) AS avg_pages,\n",
    "    MAX(pages) AS max_pages\n",
    "FROM\n",
    "    books\n",
    "GROUP BY\n",
    "    author;"
   ]
  },
  {
   "cell_type": "markdown",
   "metadata": {},
   "source": [
    "## Practiquemos!\n",
    "\n",
    "**Ejercicio 1:**\n",
    "\n",
    "Supongamos que tienes una tabla llamada sales que registra las ventas de productos por día. La estructura de la tabla es la siguiente:\n",
    "\n",
    "- product_id: Identificador único del producto.\n",
    "- date_sold: Fecha en que se realizó la venta.\n",
    "- quantity: Cantidad vendida del producto.\n",
    "- price: Precio unitario del producto.\n",
    "- total: Total de la venta (cantidad * precio).\n",
    "\n",
    "Escribe una consulta para obtener el total de ventas diarias para cada producto. Mostrar los siguientes campos en el resultado:\n",
    "\n",
    "- date_sold: Fecha de la venta.\n",
    "- product_id: Identificador único del producto.\n",
    "- total_sales: Total de ventas para ese producto en esa fecha.\n"
   ]
  },
  {
   "cell_type": "code",
   "execution_count": null,
   "metadata": {
    "vscode": {
     "languageId": "sql"
    }
   },
   "outputs": [],
   "source": [
    "SELECT\n",
    "    date_sold,\n",
    "    product_id,\n",
    "    SUM(total) AS total_sales\n",
    "FROM\n",
    "    sales\n",
    "GROUP BY\n",
    "    date_sold,\n",
    "    product_id;\n"
   ]
  },
  {
   "cell_type": "markdown",
   "metadata": {},
   "source": [
    "**Ejercicio 2:**\n",
    "\n",
    "Supongamos que tienes una tabla llamada students que registra la asistencia de estudiantes a clases. La estructura de la tabla es la siguiente:\n",
    "\n",
    "- student_id: Identificador único del estudiante.\n",
    "- date_attended: Fecha en que el estudiante asistió a clase.\n",
    "- subject: Materia o asignatura a la que asistió el estudiante.\n",
    "- attendance_status: Estado de asistencia del estudiante (presente, ausente, tardanza, etc.).\n",
    "\n",
    "Escribe una consulta para obtener la cantidad total de asistencias por estudiante y por materia. Mostrar los siguientes campos en el resultado:\n",
    "\n",
    "- student_id: Identificador único del estudiante.\n",
    "- subject: Materia.\n",
    "- total_attendance: Cantidad total de asistencias del estudiante a esa materia."
   ]
  },
  {
   "cell_type": "code",
   "execution_count": null,
   "metadata": {
    "vscode": {
     "languageId": "sql"
    }
   },
   "outputs": [],
   "source": [
    "SELECT\n",
    "    student_id,\n",
    "    subject,\n",
    "    COUNT(*) AS total_attendance\n",
    "FROM\n",
    "    students\n",
    "GROUP BY\n",
    "    student_id,\n",
    "    subject;\n"
   ]
  },
  {
   "cell_type": "markdown",
   "metadata": {},
   "source": [
    "**Ejercicio 3**\n",
    "\n",
    "Antes de realizar el ejercicio, te instamos primero a extraer las primeras 5 filas de la tabla products_data_all y echarlas un vistazo. El objetivo es familiarizarse con los datos con los que vas a trabajar. Después, procede a realizar la tarea descrita a continuación:\n",
    "\n",
    "Escribe una consulta para calcular el número total de productos (name) y el número de productos únicos para cada tienda (name_store). Nombra las variables name_cnt y name_uniq_cnt respectivamente. Imprime los nombres de las tiendas, el número total de productos y el número de productos únicos. Las columnas deben aparecer en este orden: name_store, name_cnt y name_uniq_cnt."
   ]
  },
  {
   "cell_type": "code",
   "execution_count": null,
   "metadata": {
    "vscode": {
     "languageId": "sql"
    }
   },
   "outputs": [],
   "source": [
    "SELECT \n",
    "\tname_store,\n",
    "    count(name) as name_cnt,\n",
    "    count(distinct name) as name_uniq_cnt\n",
    "    \n",
    "FROM\n",
    "    products_data_all\n",
    "GROUP BY\n",
    "    name_store"
   ]
  },
  {
   "cell_type": "markdown",
   "metadata": {},
   "source": [
    "\n",
    "**Ejercicio 4**\n",
    "\n",
    "Escribe una consulta para calcular el peso máximo de producto para cada categoría (category).  Nombra la variable max_weight y conviértela al tipo real. Imprime la categoría y el peso máximo."
   ]
  },
  {
   "cell_type": "code",
   "execution_count": null,
   "metadata": {
    "vscode": {
     "languageId": "sql"
    }
   },
   "outputs": [],
   "source": [
    "SELECT \n",
    "\tcategory,\n",
    "    max(weight :: real) as max_weight\n",
    "FROM\n",
    "    products_data_all\n",
    "Group by\n",
    "    category"
   ]
  },
  {
   "cell_type": "markdown",
   "metadata": {},
   "source": [
    "**Ejercicio 5**\n",
    "\n",
    "Escribe una consulta para calcular el precio (price) promedio del producto, el precio mínimo y el máximo del producto para cada tienda (name_store) de la tabla products_data_all. Nombra las variables average_price, max_price y min_price respectivamente. \n",
    "\n",
    "Imprime el nombre de la tienda y los precios promedio, mínimo y máximo."
   ]
  },
  {
   "cell_type": "code",
   "execution_count": null,
   "metadata": {
    "vscode": {
     "languageId": "sql"
    }
   },
   "outputs": [],
   "source": [
    "SELECT \n",
    "    name_store,\n",
    "\tavg(price) as average_price,\n",
    "    max(price) as max_price,\n",
    "    min(price) as min_price\n",
    "FROM\n",
    "    products_data_all\n",
    "GROUP BY\n",
    "    name_store;"
   ]
  },
  {
   "cell_type": "markdown",
   "metadata": {},
   "source": [
    "**Ejercicio 6**\n",
    "\n",
    "Escribe una consulta para calcular la diferencia entre los precios máximos y mínimos de cada uno de los productos de la categoría 'leche' el 10 de junio de 2019. Nombra la variable max_min_diff. Convierte valores de fecha de strings al formato date. \n",
    "\n",
    "Luego imprime el nombre del producto y la diferencia entre el precio máximo y mínimo. \n",
    "\n",
    "Estas son las columnas que utilizarás:\n",
    "\n",
    "- Categoría: campo category\n",
    "\n",
    "- Fecha: campo date_upd\n",
    "\n",
    "- Precio: campo price"
   ]
  },
  {
   "cell_type": "code",
   "execution_count": null,
   "metadata": {
    "vscode": {
     "languageId": "sql"
    }
   },
   "outputs": [],
   "source": [
    "SELECT \n",
    "    name,\n",
    "    max(price) - min(price) as max_min_diff\n",
    "    \n",
    "FROM\n",
    "    products_data_all\n",
    "WHERE\n",
    "\tcategory = 'milk' and date_upd::date = '2019-06-10'\n",
    "GROUP BY\n",
    "    name"
   ]
  },
  {
   "cell_type": "markdown",
   "metadata": {},
   "source": [
    "<hr>\n",
    "\n",
    "## **Ordenar Datos**\n",
    "\n",
    "Los resultados del análisis normalmente se presentan en un cierto orden. Para ordenar los datos por un campo, utiliza el comando ORDER BY.\n",
    "\n",
    "Así es como se ve una instrucción con agrupación y ordenación:\n",
    "\n",
    "```\n",
    "SELECT \n",
    "    field_1, \n",
    "    field_2,\n",
    "    ..., \n",
    "    field_n, \n",
    "    AGGREGATE_FUNCTION(field) AS here_you_are\n",
    "FROM\n",
    "    table_name\n",
    "WHERE -- si es necesario\n",
    "    condition\n",
    "GROUP BY  \n",
    "    field_1, \n",
    "    field_2, \n",
    "    ..., \n",
    "    field_n,\n",
    "ORDER BY -- Enumera solamente aquellos campos por los que se van a ordenar los datos\n",
    "    field_1, \n",
    "    field_2, \n",
    "    ..., \n",
    "    field_n, \n",
    "    here_you_are;\n",
    "```\n",
    "\n",
    "Cuando se utiliza ORDER BY, solo los campos por los que queremos ordenar los datos deben ser listados en el bloque de comandos.\n",
    "\n",
    "Se pueden utilizar dos modificadores con el comando ORDER BY para ordenar los datos en columnas:\n",
    "\n",
    "- ASC (por defecto) ordena los datos en orden ascendente.\n",
    "- DESC ordena los datos en orden descendente.\n",
    "\n",
    "El comando **LIMIT** establece un límite para el número de filas en el resultado. Siempre viene al final de una instrucción:\n",
    "\n",
    "```\n",
    "SELECT\n",
    "    field_1,\n",
    "    field_2,\n",
    "    ...,\n",
    "    field_n,\n",
    "    AGGREGATE_FUNCTION (field) AS here_you_are\n",
    "FROM\n",
    "    table_name\n",
    "WHERE -- si es necesario\n",
    "    condition\n",
    "GROUP BY\n",
    "    field_1,\n",
    "    field_2,\n",
    "    ...,\n",
    "    field_n\n",
    "ORDER BY -- si es necesario. Enumera solo los campos\n",
    "    --por los que tenemos que ordenar los datos de la tabla.\n",
    "    field_1,\n",
    "    field_2,\n",
    "...,\n",
    "    field_n,\n",
    "    here_you_are\n",
    "LIMIT -- si es necesario\n",
    "n;\n",
    "\n",
    "-- n - el número máximo de filas que se devolverán\n",
    "```\n",
    "\n",
    "Después de LIMIT, indica el número deseado de filas: n. Siempre es más fácil crear una calificación con un número limitado de elementos.\n",
    "\n",
    "Vamos a hacer una lista de los tres libros más largos:\n",
    "\n",
    "```\n",
    "SELECT\n",
    "    name,\n",
    "    pages\n",
    "FROM\n",
    "    books\n",
    "ORDER BY\n",
    "    pages DESC\n",
    "LIMIT 3;\n",
    "```"
   ]
  },
  {
   "cell_type": "markdown",
   "metadata": {},
   "source": [
    "## Ejercicios!\n",
    "\n",
    "**Ejercicio 1**\n",
    "\n",
    "Antes de realizar el ejercicio, te instamos primero a extraer las primeras 5 filas de la tabla products_data_all y echarlas un vistazo. El objetivo es familiarizarse con los datos con los que vas a trabajar. Después, procede a realizar la tarea descrita a continuación:\n",
    "\n",
    "Escribe una consulta para encontrar la cantidad de productos en cada categoría (category) para la fecha '2019-06-05'. Asigna el nombre name_cnt a la variable y ordena los datos en orden ascendente. Imprime la fecha, la categoría del producto y la cantidad de productos. Nombra la fecha elegida update_date.\n",
    "\n",
    "No es necesario utilizar CAST.\n",
    "\n",
    "Ten en cuenta que las fechas se almacenan como strings y deben convertirse al tipo date"
   ]
  },
  {
   "cell_type": "code",
   "execution_count": null,
   "metadata": {
    "vscode": {
     "languageId": "sql"
    }
   },
   "outputs": [],
   "source": [
    "SELECT \n",
    "    date_upd::date as update_date,\n",
    "    category,\n",
    "\tcount(name) as name_cnt\n",
    "FROM\n",
    "    products_data_all\n",
    "WHERE\n",
    "    date_upd::date = '2019-06-05'\n",
    "GROUP BY \n",
    "    date_upd::date,\n",
    "    category;"
   ]
  },
  {
   "cell_type": "markdown",
   "metadata": {},
   "source": [
    "**Ejercicio 2**\n",
    "\n",
    "Escribe una consulta para calcular la cantidad de productos únicos para cada categoría en la tienda 'T-E-B' para la fecha '2019-06-30'. Asigna el nombre uniq_name_cnt a la variable y ordena los datos por este campo en orden descendente. Convierte la fecha al tipo date y llama el campo resultante update_date. Después imprime la fecha, el nombre de la tienda, el nombre de la categoría y la cantidad de productos únicos."
   ]
  },
  {
   "cell_type": "code",
   "execution_count": null,
   "metadata": {
    "vscode": {
     "languageId": "sql"
    }
   },
   "outputs": [],
   "source": [
    "SELECT \n",
    "\tdate_upd :: date as update_date,\n",
    "    name_store,\n",
    "    category,\n",
    "    count(distinct name) as uniq_name_cnt\n",
    "FROM\n",
    "    products_data_all\n",
    "WHERE \n",
    "\tname_store = 'T-E-B' and date_upd :: date = '2019-06-30'\n",
    "GROUP BY \n",
    "    update_date,\n",
    "    name_store,\n",
    "    category\n",
    "  \n",
    "ORDER BY\n",
    "    uniq_name_cnt desc;"
   ]
  }
 ],
 "metadata": {
  "language_info": {
   "name": "python"
  }
 },
 "nbformat": 4,
 "nbformat_minor": 2
}
