{
 "cells": [
  {
   "cell_type": "markdown",
   "metadata": {},
   "source": [
    "<hr>\n",
    "\n",
    "# **RELACIONES ENTRE TABLAS**\n",
    "\n",
    "<HR>\n",
    "\n",
    "Hay tres tipos de relaciones:\n",
    "\n",
    "- uno a uno (one-to-one)\n",
    "- uno a muchos (one-to-many)\n",
    "- muchos a muchos (many-to-many)\n",
    "\n",
    "En una relación uno a uno, cada fila en una tabla está conectada con una y solo una fila de la otra tabla. Es como si una tabla estuviera dividida en dos.\n",
    "\n",
    "En una relación uno a muchos, cada fila de una tabla coincide con varias filas de otra tabla.\n",
    "\n",
    "Este es el tipo de relación que vemos con los libros y los autores. Un autor puede escribir varios libros pero cada libro tiene un solo autor.\n",
    "\n",
    "Pero a veces los libros están escritos por más de un autor (por ejemplo, Neil Gaiman y Terry Pratchett). En estos casos, hablamos de relación muchos a muchos.\n",
    "\n",
    "En una relación muchos a muchos, varias filas de una tabla coinciden con varias filas de otra tabla. Este tipo de relación produce una tabla de vinculación que combina las claves primarias de ambas tablas.\n",
    "\n",
    "<hr>\n",
    "\n",
    "## Diagrama ER\n",
    "\n",
    "Se puede mostrar la estructura de las bases de datos con diagramas ER (entidad-relación).  Los diagramas muestran tablas y las relaciones entre ellas.\n",
    "\n",
    "**Relaciones en diagramas ER**\n",
    "\n",
    "Los diagramas ER también muestran relaciones. El final de la línea que conecta dos tablas indica si uno o varios valores de una tabla coinciden con los valores de la otra.\n",
    "\n",
    "<hr>\n",
    "\n",
    "## Buscar Valores Vacíos\n",
    "\n",
    "En SQL, decimos que las celdas vacías son NULL. Se buscan con el operador IS NULL:\n",
    "\n",
    "```\n",
    "\n",
    "SELECT\n",
    "    *\n",
    "FROM\n",
    "    table_name\n",
    "WHERE\n",
    "    column_name IS NULL;\n",
    "```\n",
    "\n",
    "A veces, en lugar de imprimir filas con valores NULL, queremos excluirlos del resultado.\n",
    "\n",
    "En estos casos se utiliza el operador NOT:\n",
    "\n",
    "```\n",
    "SELECT\n",
    "    *\n",
    "FROM\n",
    "    table_name\n",
    "WHERE\n",
    "    column_name IS NOT NULL;\n",
    "```\n",
    "\n",
    "Eliminar simplemente las filas NULL no siempre es la mejor opción. A veces querremos reemplazarlas con un cierto valor (digamos, la media) y podemos hacer que esto suceda en la consulta en sí. Para eso tenemos el operador CASE (\"en casos cuando\"). Es como  if-elif-else en Python:\n",
    "\n",
    "```\n",
    "CASE WHEN condition_1 THEN\n",
    "    result_1\n",
    "WHEN condition_2 THEN\n",
    "    result_2\n",
    "WHEN condition_3 THEN\n",
    "    result_3\n",
    "ELSE\n",
    "    result_4\n",
    "END;\n",
    "```\n",
    "\n",
    "Traducción de SQL:\n",
    "\n",
    "Elige los campos name y publisher_id de la tabla books. Si el valor en la columna publisher_id está vacío, reemplázalo con -1. De lo contrario, deja el valor como está. Llama publisher_id_full a la columna resultante.\n",
    "\n",
    "**EJEMPLO**\n",
    "\n",
    "```\n",
    "SELECT\n",
    "    name,\n",
    "    CASE WHEN publisher_id IS NULL THEN -1 -- si no se especifica la editorial, \n",
    "-- un publisher_id de -1\n",
    "    ELSE publisher_id END AS publisher_id_full\n",
    "FROM\n",
    "    books;\n",
    "```\n",
    "\n",
    "\n",
    "\n",
    "\n"
   ]
  },
  {
   "cell_type": "markdown",
   "metadata": {},
   "source": [
    "## Ejercicios!\n",
    "\n",
    "**Ejercicio 1**\n",
    "\n",
    "Busca valores NULL en el campo weight de la tabla products. Imprime los siguientes campos: name,units,weight."
   ]
  },
  {
   "cell_type": "code",
   "execution_count": null,
   "metadata": {
    "vscode": {
     "languageId": "sql"
    }
   },
   "outputs": [],
   "source": [
    "SELECT\n",
    "    name,\n",
    "    units,\n",
    "    weight \n",
    "FROM\n",
    "    products\n",
    "where \n",
    "    weight is null"
   ]
  },
  {
   "cell_type": "markdown",
   "metadata": {},
   "source": [
    "**Ejercicio 2**\n",
    "\n",
    "Encuentra el número de valores NULL en el campo weight de la tabla products."
   ]
  },
  {
   "cell_type": "code",
   "execution_count": null,
   "metadata": {
    "vscode": {
     "languageId": "sql"
    }
   },
   "outputs": [],
   "source": [
    "SELECT\n",
    "    count(*)-\n",
    "FROM\n",
    "    products\n",
    "where \n",
    "    weight is null"
   ]
  },
  {
   "cell_type": "markdown",
   "metadata": {},
   "source": [
    "**Ejercicio 3**\n",
    "\n",
    "Encuentra pesos promedios de los productos, agrupados por unidades de medida (units). Guárdalos en el nuevo campo con el nombre avg_weight. Las columnas deben ir en este orden: avg_weight, units."
   ]
  },
  {
   "cell_type": "code",
   "execution_count": null,
   "metadata": {
    "vscode": {
     "languageId": "sql"
    }
   },
   "outputs": [],
   "source": [
    "SELECT\n",
    "    avg(weight::real) as avg_weight ,\n",
    "    units\n",
    "FROM\n",
    "    products\n",
    "group by \n",
    "    units"
   ]
  },
  {
   "cell_type": "markdown",
   "metadata": {},
   "source": [
    "**Ejercicio 4**\n",
    "\n",
    "Utiliza una consulta que contenga CASE para reemplazar manualmente NULL con los promedios que calculamos en la tarea anterior en cada grupo de units. Llama el campo resultante weight_full. Los valores de la columna deben ser cadenas e ir en el siguiente orden: name, weight_full.\n",
    "\n",
    "Necesitarás los resultados del ejercicio anterior:\n",
    "\n",
    "- 23.0705263269575,oz\n",
    "- 10.0,ct\n",
    "- 12.0909090909091,pk\n",
    "- 0.650793650793651,gal\n",
    "- 1.0,%\n",
    "- 1.0,pt\n",
    "- 1.0,qt"
   ]
  },
  {
   "cell_type": "code",
   "execution_count": null,
   "metadata": {
    "vscode": {
     "languageId": "sql"
    }
   },
   "outputs": [],
   "source": [
    "SELECT\n",
    "\n",
    "    name,\n",
    "    CASE WHEN weight IS NULL\n",
    "        AND units = '%' THEN\n",
    "        '1.0'\n",
    "    WHEN weight IS NULL\n",
    "        AND units = 'pt' THEN\n",
    "        '1.0'\n",
    "    WHEN weight IS NULL\n",
    "        AND units = 'ct' THEN\n",
    "        '10.0'\n",
    "    WHEN weight IS NULL\n",
    "        AND units = 'qt' THEN\n",
    "        '1.0'\n",
    "    WHEN weight IS NULL\n",
    "        AND units = 'gal' THEN\n",
    "        '0.650793650793651'\n",
    "    WHEN weight IS NULL\n",
    "        AND units = 'pk' THEN\n",
    "        '12.0909090909091'\n",
    "    WHEN weight IS NULL\n",
    "        AND units = 'oz' THEN\n",
    "        '23.0705263269575'\n",
    "    ELSE\n",
    "        weight\n",
    "    END AS weight_full\n",
    "FROM\n",
    "    products;"
   ]
  },
  {
   "cell_type": "markdown",
   "metadata": {},
   "source": [
    "<hr>\n",
    "\n",
    "## Buscar datos en la tabla\n",
    "\n",
    "¿qué pasa si el nombre de la marca se indica en la misma columna que el nombre del producto y no hay un campo distinto para él? Tendrás que saber cómo buscar substrings.\n",
    "\n",
    "El operador LIKE busca en una tabla valores que siguen un patrón dado. Puedes buscar no solo una palabra, sino también un fragmento de ella.\n",
    "\n",
    "Aquí tienes la sintaxis de las declaraciones LIKE:\n",
    "\n",
    "```\n",
    "column_name LIKE 'expresión regular'\n",
    "```\n",
    "\n",
    "Indica la columna necesaria antes de LIKE y escribe una expresión regular después.\n",
    "\n",
    "Estamos buscando libros con la palabra \"Vampire\" en el título.\n",
    "\n",
    "Para buscarlos, hay que escribir una expresión regular que incluya la base. Recuerda que una expresión regular o máscara es una plantilla que te permite encontrar una string entera a partir de una substring. Las expresiones regulares consisten en símbolos que representan valores.\n",
    "\n",
    "Las expresiones regulares en SQL difieren un poco de las que se usan en otros contextos. Por ejemplo, en SQL, el símbolo % representa cualquier número de caracteres.\n",
    "\n",
    "La expresión regular que necesitamos se ve así: '%Vampire%'. (No olvides que se escribe con una V mayúscula ya que es un título).\n",
    "\n",
    "Tras formar la expresión regular podemos escribir nuestra consulta:\n",
    "\n",
    "```\n",
    "SELECT\n",
    "    *\n",
    "FROM\n",
    "    books\n",
    "WHERE\n",
    "    name LIKE '%Vampire%';\n",
    "```\n",
    "\n",
    "El operador NOT nos da una consulta \"inversa\": selecciona todos los libros cuyos nombres no incluyen la palabra \"Vampire\". Por ejemplo, podemos utilizar el operador NOT con LIKE así:\n",
    "\n",
    "```\n",
    "SELECT\n",
    "    *\n",
    "FROM\n",
    "    books\n",
    "WHERE\n",
    "    name NOT LIKE '%Vampire%';\n",
    "```\n",
    "\n",
    "Pero, ¿qué pasa si buscamos literalmente el símbolo % en un dataset?\n",
    "\n",
    "En estos casos, utilizamos el operador ESCAPE. Se le pasa un símbolo, como un signo de exclamación, que se convierte en el caracter de escape. Cualquier caracter de escape que se asigne en la expresión regular significa que el símbolo que le sigue no es un carácter comodín, sino el carácter en sí mismo, que debe incluir la substring.\n",
    "\n",
    "```\n",
    "column_name LIKE '%!%%' ESCAPE '!'\n",
    "--busca todas las substrings que incluyan %\n",
    "```\n",
    "\n",
    "Ahora vamos a practicar un poco con nuestra base de datos de productos lácteos. "
   ]
  },
  {
   "cell_type": "markdown",
   "metadata": {},
   "source": [
    "## Ejercicios\n",
    "\n",
    "**Ejercicio 1**\n",
    "\n",
    "Aprendimos en la lección anterior que algunos productos tienen unidades de medida peculiares indicadas como porcentajes. Probablemente se ha filtrado un error en nuestros datos. Busca la cadena que tiene % en el campo de unidades. Imprime todas sus filas."
   ]
  },
  {
   "cell_type": "code",
   "execution_count": null,
   "metadata": {
    "vscode": {
     "languageId": "sql"
    }
   },
   "outputs": [],
   "source": [
    "SELECT\n",
    "    * \n",
    "FROM\n",
    "    products\n",
    "WHERE \n",
    "    units like '%!%%' escape '!'\n"
   ]
  },
  {
   "cell_type": "markdown",
   "metadata": {},
   "source": [
    "**Ejercicio 2**\n",
    "\n",
    "Encuentra todos los productos cuyos nombres contengan la palabra \"Moo\". Imprime todos los datos sobre ellos de la tabla products. "
   ]
  },
  {
   "cell_type": "code",
   "execution_count": null,
   "metadata": {
    "vscode": {
     "languageId": "sql"
    }
   },
   "outputs": [],
   "source": [
    "SELECT\n",
    "    *\n",
    "FROM\n",
    "    products\n",
    "WHERE \n",
    "    name like '%Moo%'"
   ]
  },
  {
   "cell_type": "markdown",
   "metadata": {},
   "source": [
    "**Ejercicio 3**\n",
    "\n",
    "De los productos cuyos nombres contienen Moo selecciona los de la categoría 'milk'. Encuentra su precio promedio el 1 de junio de 2019, Día Mundial de la Leche. Guarda el resultado en la variable avg_price.\n",
    "\n",
    "Vamos a revisar los nombres de los campos:\n",
    "\n",
    "- Nombre del producto: name en la tabla products\n",
    "- Categoría: category en la tabla products\n",
    "- Identificador del producto: id_product en la tabla products\n",
    "- Precio: price en la tabla products_stores\n",
    "- Fecha: date_upd en la tabla products_stores"
   ]
  },
  {
   "cell_type": "code",
   "execution_count": null,
   "metadata": {
    "vscode": {
     "languageId": "sql"
    }
   },
   "outputs": [],
   "source": [
    "SELECT \n",
    "    AVG(ps.price) AS avg_price\n",
    "FROM\n",
    "    products_stores ps\n",
    "WHERE \n",
    "    ps.date_upd::date = '2019-06-01'\n",
    "    AND ps.id_product IN (\n",
    "        SELECT p.id_product\n",
    "        FROM products p\n",
    "        WHERE p.name LIKE '%Moo%' AND p.category = 'milk'\n",
    "    );\n"
   ]
  },
  {
   "cell_type": "markdown",
   "metadata": {},
   "source": [
    "<hr>\n",
    "\n",
    "## Join. Inner Join.\n",
    "\n",
    "Hay dos formas de unir tablas: INNER y OUTER JOIN.\n",
    "\n",
    "**INNER JOIN** devuelve solo aquellas filas que tienen valores coincidentes de una tabla a otra (la intersección de las tablas). **OUTER JOIN** recupera todos los datos de una tabla y agrega datos de la otra cuando hay filas coincidentes. Hay dos tipos de OUTER JOIN, left (izquierda ) y right (derecha)\n",
    "\n",
    "#### INNER JOIN \n",
    "\n",
    "INNER JOIN selecciona solo los datos para los que se cumple la condición de unión. El orden en que se unen las tablas no afecta el resultado final.\n",
    "\n",
    "Aquí tienes un ejemplo de consulta con INNER JOIN:\n",
    "\n",
    "```\n",
    "SELECT --enumerando solo los campos que se necesitan\n",
    "    TABLE_1.field_1 AS field_1,\n",
    "    TABLE_1.field_2 AS field_2,\n",
    "    ...\n",
    "    TABLE_2.field_n AS field_n\n",
    "FROM\n",
    "    TABLE_1\n",
    "    INNER JOIN TABLE_2 ON TABLE_2.field_1 = TABLE_1.field_2;\n",
    "```\n",
    "- INNER JOIN es el nombre del método de unión. Luego viene el nombre de la tabla que se unirá a la tabla del bloque FROM.\n",
    "- ON precede a la condición de unión: TABLE_2.field_1 = TABLE_1.field_2. Esto significa que solo se unirán las filas de la tabla que cumplan esta condición. En nuestro caso, la condición es que field_1 de la segunda tabla coincida con field_2 de la primera.\n",
    "\n",
    "Dado que los campos en diferentes tablas pueden tener los mismos nombres, se hace referencia a ellos tanto por el nombre de la tabla como por el nombre del campo. Primero va el nombre de la tabla, después el campo: TABLE_1.field_1.\n",
    "\n",
    "Vamos a ver cómo funciona INNER JOIN.\n",
    "\n",
    "Aquí está nuestra primera tabla, animals, que contiene datos sobre animales domésticos. Tiene campos id y name.\n",
    "\n",
    "|id\t|name|\n",
    "|-|-|\n",
    "|1|\tgato|\n",
    "|2|\tperro|\n",
    "|3\t|hámster|\n",
    "\n",
    "Y aquí está la segunda tabla, tails, que tiene datos sobre la longitud de las colas de los animales. El campo id de esta tabla es el id del animal.\n",
    "\n",
    "|id\t|tails|\n",
    "|-|-|\n",
    "|1\t|10|\n",
    "|2|\t5|\n",
    "|4\t|1|\n",
    "\n",
    "Vamos a aplicar INNER JOIN a tails y animals en el campo id.\n",
    "\n",
    "|id\t|name\t|tails|\n",
    "|-|-|-|\n",
    "|1\t|gato\t|10|\n",
    "|2\t|perro|\t5|\n",
    " \n",
    "\n",
    "Ahora tenemos una tabla con dos filas. La columna id solo incluye los valores 1 y 2, ya que están presentes en ambas tablas.\n",
    "\n",
    "El hámster no llegó a la tabla resultante porque su id no coincide con la tabla tails.\n",
    "\n",
    "Vamos a analizar otro caso. La tabla de animals sigue siendo la misma:\n",
    "\n",
    "|id|\tname|\n",
    "|-|-|\n",
    "|1|\tgato|\n",
    "|2|\tperro|\n",
    "|3|hámster|\n",
    "\n",
    "Pero la tabla tails ahora se ve así:\n",
    "\n",
    "|id\t|tails|\n",
    "|-|-|\n",
    "|1\t|10|\n",
    "|1\t|15|\n",
    "|2\t|5|\n",
    "|4\t|1|\n",
    "\n",
    "Vamos a unir los animales a sus nuevas colas. Esta vez, tenemos 3 filas en lugar de 2:\n",
    "\n",
    "|id\t|name|\ttails|\n",
    "|-|-|-|\n",
    "|1\t|gato\t|10|\n",
    "|1\t|gato\t|15|\n",
    "|2\t|perro\t|5|\n",
    "\n",
    "¿Por qué? El identificador (id) con el valor 1 coincide con dos filas en la tabla tails. Ambos coinciden con la condición de unión por lo que ambos se incluyen en la tabla resultante.\n",
    "\n",
    "Ten cuidado con esta función de unión de tablas. La duplicación de filas es un error común en las consultas SQL de todos los niveles de complejidad.\n",
    "\n",
    "Vamos a escribir una consulta que reúna los siguientes campos en una tabla:\n",
    "\n",
    "- título del libro (name) de la tabla books\n",
    "- author_id de la tabla books\n",
    "- author_id de la tabla author\n",
    "- nombre del autor (first_name) de la tabla author\n",
    "- apellido del autor (last_name) de la tabla author:\n",
    "\n",
    "Echa un vistazo a las tres primeras filas\n",
    "\n",
    "```\n",
    "SELECT\n",
    "    books.name AS name,\n",
    "    books.author_id AS books_author_id,\n",
    "    author.author_id AS author_id,\n",
    "    author.first_name AS first_name,\n",
    "    author.last_name AS last_name\n",
    "FROM\n",
    "    books\n",
    "    INNER JOIN author ON author.author_id = books.author_id\n",
    "LIMIT 3;\n",
    "```\n",
    "\n",
    "|name|\tbooks_author_id|\tid_autor|\tfirst_name|\tlast_name|\n",
    "|-|-|-|-|-|\n",
    "|La Ciudad de Los Espejos\t|3|\t3\t|Justin\t|Cronin|\n",
    "|El país de octubre|\t5|5\t|Ray\t|Bradbury|\n",
    "|Saint Odd\t|7\t|7\t|Dean|\tKoontz|\n",
    "\n",
    "En la tabla resultante, los valores del campo author_id de la tabla books y los del author_id de la tabla author son los mismos. Para evitar duplicaciones innecesarias, vamos a mostrar solo una de estas columnas. Vamos a tomar author_id de la tabla books:\n",
    "\n",
    "```\n",
    "SELECT\n",
    "    books.name AS name,\n",
    "    books.author_id AS books_author_id,\n",
    "    author.first_name AS first_name,\n",
    "    author.last_name AS last_name\n",
    "FROM\n",
    "    books\n",
    "    INNER JOIN author ON author.author_id = books.author_id\n",
    "LIMIT 3;\n",
    "```\n",
    "\n",
    "|name|\tbooks_author_id|\tfirst_name|\tlast_name|\n",
    "|-|-|-|-|\n",
    "|La Ciudad de Los Espejos|\t3\t|Justin|\tCronin|\n",
    "|El país de octubre|\t5\t|Ray\t|Bradbury|\n",
    "|Saint Odd|\t7\t|Dean|\tKoontz|\n",
    "\n",
    "Al unir tablas puedes especificar condiciones en el bloque WHERE. Por ejemplo, vamos a recuperar solo libros de Dean Koontz:\n",
    "\n",
    "```\n",
    "SELECT\n",
    "    books.name AS name,\n",
    "    author.first_name AS first_name,\n",
    "    author.last_name AS last_name\n",
    "FROM\n",
    "    books\n",
    "    INNER JOIN author ON author.author_id = books.author_id\n",
    "WHERE\n",
    "    author.first_name = 'Dean'\n",
    "    AND author.last_name = 'Koontz';\n",
    "```\n",
    "\n",
    "|name\t|first_name|\tlast_name|\n",
    "|-|-|-|\n",
    "|Saint Odd\t|Dean\t|Koontz|\n",
    "|Mirada ciega\t|Dean\t|Koontz|\n",
    "|Lightning|\tDean|\tKoontz|\n",
    "|Intensidad|\tDean\t|Koontz|\n",
    "\n",
    "Ahora vamos a practicar un poco con nuestra base de datos de productos lácteos. Aquí está el diagrama ER como referencia."
   ]
  },
  {
   "cell_type": "markdown",
   "metadata": {},
   "source": [
    "## Ejercicios!\n",
    "\n",
    "**Ejercicio 1**\n",
    "\n",
    "Escribe una consulta para recuperar:\n",
    "\n",
    "- Números de transacciones: id_transaction de la tabla transactions\n",
    "- Nombres de categoría: category de la tabla products\n",
    "- Nombres de productos: name de la tabla products\n",
    "\n",
    "La condición de unión es que los valores de los campos products.id_product y transactions.id_product sean iguales. Los nombres de los campos en la tabla resultante son id_transaction, category y name.\n",
    "\n",
    "Imprime 10 filas. Ordena los datos en orden ascendente por número de transacción.\n",
    "\n"
   ]
  },
  {
   "cell_type": "code",
   "execution_count": null,
   "metadata": {
    "vscode": {
     "languageId": "sql"
    }
   },
   "outputs": [],
   "source": [
    "SELECT \n",
    "    transactions.id_transaction as id_transaction,\n",
    "    products.category as category,\n",
    "    products.name as name\n",
    "FROM\n",
    "    transactions\n",
    "    INNER JOIN products ON products.id_product = transactions.id_product\n",
    "ORDER BY \n",
    "    id_transaction\n",
    "LIMIT 10"
   ]
  },
  {
   "cell_type": "markdown",
   "metadata": {},
   "source": [
    "**Ejercicio 2**\n",
    "\n",
    "Los datos sobre las ventas y el clima se almacenan en diferentes tablas. En este caso nos ayudará INNER JOIN.\n",
    "\n",
    "Para cada transacción, recupera los siguientes datos:\n",
    "\n",
    "- El día y la hora de la transacción (date) de la tabla de transactions.\n",
    "- Temperatura del aire (temp) de la tabla weather\n",
    "- Información sobre la lluvia (rain) de la tabla weather\n",
    "- El identificador de la transacción (id_transaction) de la tabla transactions\n",
    "\n",
    "En la nueva tabla asigna a los campos los nombres date, temp, rain e id_transaction e imprímelos.\n",
    "\n",
    "Ordena los datos en orden descendente por fecha de compra."
   ]
  },
  {
   "cell_type": "code",
   "execution_count": null,
   "metadata": {
    "vscode": {
     "languageId": "sql"
    }
   },
   "outputs": [],
   "source": [
    "SELECT DISTINCT\n",
    "    transactions.date AS date,\n",
    "    weather.temp AS temp,\n",
    "    weather.rain AS rain,\n",
    "    transactions.id_transaction AS id_transaction\n",
    "FROM\n",
    "    transactions\n",
    "    INNER JOIN weather ON CAST(weather.date AS date) = CAST(transactions.date AS date)\n",
    "ORDER BY\n",
    "    date DESC;"
   ]
  },
  {
   "cell_type": "markdown",
   "metadata": {},
   "source": [
    "**Ejercicio 3**\n",
    "\n",
    "Escribe una consulta para imprimir diferentes productos con precios (price) superiores a $5.\n",
    "\n",
    "Selecciona diferentes nombres de productos (name) de la tabla products. Llama al campo resultante name y muéstralo.\n",
    "\n",
    "Une los datos de la tabla products_stores a products utilizando el método INNER JOIN en el campo id_product."
   ]
  },
  {
   "cell_type": "code",
   "execution_count": null,
   "metadata": {
    "vscode": {
     "languageId": "sql"
    }
   },
   "outputs": [],
   "source": [
    "SELECT distinct\n",
    "\tproducts.name as name\n",
    "FROM\n",
    "    products\n",
    "    INNER JOIN products_stores ON products_stores.id_product =products.id_product\n",
    "WHERE \n",
    "    products_stores.price > 5"
   ]
  },
  {
   "cell_type": "markdown",
   "metadata": {},
   "source": [
    "**Ejercicio 4**\n",
    "\n",
    "Recupera transacciones (compras) de productos de la categoría 'butter' en un día: 20 de junio de 2019.\n",
    "\n",
    "Selecciona los siguientes datos de las tablas transactions y products:\n",
    "\n",
    "- El día y la hora (date) de la tabla de transactions.\n",
    "- Número de transacción: id_transaction de la tabla transactions\n",
    "- Nombre de la categoría: category de la tabla products\n",
    "- Nombre del producto: name de la tabla products\n",
    "\n",
    "Une los datos de la tabla products con transactions utilizando el método INNER JOIN en el campo id_product.\n",
    "\n",
    "En la nueva tabla asigna a los campos los nombres date, id_transaction, category, name y muéstralos."
   ]
  },
  {
   "cell_type": "code",
   "execution_count": null,
   "metadata": {
    "vscode": {
     "languageId": "sql"
    }
   },
   "outputs": [],
   "source": [
    "SELECT \n",
    "    transactions.date AS date,\n",
    "    transactions.id_transaction AS id_transaction,\n",
    "    products.category AS category,\n",
    "    products.name AS name\n",
    "FROM\n",
    "    transactions\n",
    "    INNER JOIN products ON transactions.id_product = products.id_product\n",
    "WHERE \n",
    "    products.category = 'butter' AND transactions.date::date = '2019-06-20';\n"
   ]
  },
  {
   "cell_type": "markdown",
   "metadata": {},
   "source": [
    "**Ejercicio 5**\n",
    "\n",
    "Imprime los precios de los productos cuyos pesos se miden en onzas ('oz') para el 13 de junio de 2019.\n",
    "\n",
    "Recupera:\n",
    "\n",
    "- nombre del producto: name de la tabla products\n",
    "\n",
    "- categoría: category de la tabla products\n",
    "\n",
    "- unidades de medida: units de la tabla de products\n",
    "\n",
    "- peso: weight de la tabla products\n",
    "\n",
    "- precio: price de la tabla products_stores\n",
    "\n",
    "Une las tablas products_stores y products usando el método INNER JOIN en el campo id_product.\n",
    "\n",
    "Utiliza los siguientes nombres para lo que vas a recuperar: name, category, units, weight y price."
   ]
  },
  {
   "cell_type": "code",
   "execution_count": null,
   "metadata": {
    "vscode": {
     "languageId": "sql"
    }
   },
   "outputs": [],
   "source": [
    "SELECT \n",
    "    products.name AS name,\n",
    "    products.category AS category,\n",
    "    products.units AS units,\n",
    "    products.weight AS weight,\n",
    "    products_stores.price AS price\n",
    "FROM\n",
    "    products\n",
    "INNER JOIN products_stores ON products.id_product = products_stores.id_product\n",
    "WHERE \n",
    "    products.units = 'oz' AND products_stores.date_upd::date = '2019-06-13';\n"
   ]
  },
  {
   "cell_type": "markdown",
   "metadata": {},
   "source": [
    "<hr>\n",
    "\n",
    "## Outer Join . Left Join\n",
    "\n",
    "Existen dos tipos de OUTER JOIN:\n",
    "\n",
    "- LEFT OUTER JOIN\n",
    "- RIGHT OUTER JOIN\n",
    "\n",
    "Vamos a dar a estos métodos nombres cortos: LEFT JOIN y RIGHT JOIN.\n",
    "\n",
    "LEFT JOIN seleccionará todos los datos de la tabla de la izquierda junto con las filas de la tabla de la derecha que cumplen con la condición de unión. RIGHT JOIN hará lo mismo, pero para la tabla de la derecha.\n",
    "\n",
    "Aquí está la sintaxis de una declaración con LEFT JOIN:\n",
    "\n",
    "```\n",
    "SELECT\n",
    "    TABLE_1.field_1 AS field_1,\n",
    "    TABLE_1.field_2 AS field_2,\n",
    "    ...\n",
    "    TABLE_2.field_n AS field_n\n",
    "FROM\n",
    "    TABLE_1\n",
    "    LEFT JOIN TABLE_2 ON TABLE_2.field = TABLE_1.field;\n",
    "```\n",
    "\n",
    "\n",
    "Al igual que con las consultas INNER JOIN, el nombre de la tabla se indica para cada campo. Ten en cuenta que con OUTER JOIN, el orden en que se mencionan las tablas tiene importancia. En este ejemplo, TABLE_1 es la tabla de la izquierda.\n",
    "\n",
    "Vamos a volver a animals y tails y unirlas por id usando LEFT JOIN.\n",
    "\n",
    "|id\t|name|\n",
    "|-|-|\n",
    "|1|\tgato|\n",
    "|2\t|perro|\n",
    "|3\t|hámster|\n",
    "\n",
    "\n",
    "|id\t|tail|\n",
    "|-|-|\n",
    "|1\t|10|\n",
    "|2\t|5|\n",
    "|4\t|1|\n",
    "\n",
    "Aquí tienes el resultado de LEFT JOIN:\n",
    "\n",
    "|id|\tnam|\ttail|\n",
    "|-|-|-|\n",
    "1\t|gato|\t10|\n",
    "2\t|perro\t|5|\n",
    "3\t|hámster|\tNULL|"
   ]
  },
  {
   "cell_type": "markdown",
   "metadata": {},
   "source": [
    "## Ejercicios!\n",
    "\n",
    "**Ejercicio 1**\n",
    "\n",
    "Escribe una consulta para seleccionar unívocos (distinct):\n",
    "\n",
    "- id_product de la tabla products\n",
    "- name de la tabla products\n",
    "- id_store de la tabla products_stores\n",
    "\n",
    "Adjunta la tabla products_stores a la tabla products utilizando el método LEFT JOIN por el campo id_product.\n",
    "Selecciona solo aquellas filas donde el valor id_store sea NULL. Si no existen tales filas, entonces sabemos que todos los productos están en venta en al menos un lugar.\n",
    "\n",
    "Llama a los campos de la tabla resultante id_product, name y id_store"
   ]
  },
  {
   "cell_type": "code",
   "execution_count": null,
   "metadata": {
    "vscode": {
     "languageId": "sql"
    }
   },
   "outputs": [],
   "source": [
    "SELECT DISTINCT\n",
    "    products.id_product AS id_product,\n",
    "    products.name AS name,\n",
    "    products_stores.id_store AS id_store\n",
    "FROM\n",
    "    products\n",
    "LEFT JOIN products_stores ON products_stores.id_product = products.id_product\n",
    "WHERE\n",
    "    products_stores.id_store IS NULL;"
   ]
  },
  {
   "cell_type": "markdown",
   "metadata": {},
   "source": [
    "**Ejercicio 2**\n",
    "\n",
    "Como proveedor puedes ofrecer a las tiendas productos que no están vendiendo actualmente.\n",
    "\n",
    "Imprime los nombres únicos de productos que nunca se han vendido en la tienda (id_store) cuyo identificador único es 3. \n",
    "\n",
    "1) Selecciona los nombres de productos únicos name de la tabla products. Guárdalos en la variable name.\n",
    "\n",
    "2)  Utilizando LEFT JOIN, une la consulta externa con la subconsulta subquery por el campo id_product. Dentro de la subconsulta selecciona los id_product únicos de la tabla transactions donde el valor de id_store es 3."
   ]
  },
  {
   "cell_type": "code",
   "execution_count": null,
   "metadata": {
    "vscode": {
     "languageId": "sql"
    }
   },
   "outputs": [],
   "source": [
    "SELECT DISTINCT p.name\n",
    "FROM products p\n",
    "LEFT JOIN (\n",
    "    SELECT DISTINCT id_product\n",
    "    FROM transactions\n",
    "    WHERE id_store = 3\n",
    ") AS subquery ON subquery.id_product = p.id_product\n",
    "WHERE subquery.id_product IS NULL;\n"
   ]
  },
  {
   "cell_type": "markdown",
   "metadata": {},
   "source": [
    "**Ejercicio 3**\n",
    "\n",
    "Escribe los nombres de los productos que no se estaban vendiendo en ninguna tienda el 11 de junio de 2019.\n",
    "\n",
    "1) Selecciona los nombres de productos únicos name de la tabla products. Guárdalos en la variable name.\n",
    "\n",
    "2) Utilizando LEFT JOIN, une la consulta externa con la subconsulta por el campo id_product. En la subconsulta, selecciona id_product y id_store para el 11 de junio de 2019."
   ]
  },
  {
   "cell_type": "code",
   "execution_count": null,
   "metadata": {
    "vscode": {
     "languageId": "sql"
    }
   },
   "outputs": [],
   "source": [
    "SELECT DISTINCT p.name\n",
    "FROM products p\n",
    "LEFT JOIN (\n",
    "    SELECT DISTINCT id_product, id_store\n",
    "    FROM transactions\n",
    "    WHERE CAST(date AS date) = '2019-06-11'\n",
    ") AS subquery ON subquery.id_product = p.id_product\n",
    "WHERE subquery.id_product IS NULL;\n"
   ]
  },
  {
   "cell_type": "markdown",
   "metadata": {},
   "source": [
    "<hr>\n",
    "\n",
    "## Outer right join\n",
    "\n",
    "**Ejercicio 1**\n",
    "\n",
    "Utiliza el método RIGHT JOIN para imprimir las fechas que no tienen entradas de transacciones pero tienen datos sobre el tiempo:\n",
    "\n",
    "1) Recupera la fecha (date) de la tabla weather. Ten en cuenta que debe convertirse al tipo de datos correcto con CAST.\n",
    "\n",
    "2) Une la tabla weather a la tabla transactions con el RIGHT JOIN por el campo date.\n",
    "\n",
    "3) Haz un slice de datos en el bloque WHERE: selecciona solo las fechas vacías de la tabla transactions con la ayuda de IS NULL.\n",
    "\n",
    "4) Imprime el campo date de la tabla resultante."
   ]
  },
  {
   "cell_type": "code",
   "execution_count": null,
   "metadata": {
    "vscode": {
     "languageId": "sql"
    }
   },
   "outputs": [],
   "source": [
    "SELECT\n",
    "    cast(weather.date AS date) AS date\n",
    "FROM\n",
    "    transactions\n",
    "    RIGHT JOIN weather ON cast(weather.date AS date) = cast(transactions.date AS date)\n",
    "WHERE\n",
    "    transactions.date IS NULL;"
   ]
  },
  {
   "cell_type": "markdown",
   "metadata": {},
   "source": [
    "**Ejercicio 2**\n",
    "\n",
    "Cualquier consulta con LEFT JOIN puede ser escrita como RIGHT JOIN y al revés. Completa el ejercicio de la lección anterior con el método RIGHT JOIN.\n",
    "\n",
    "Imprime los nombres únicos de los productos que nunca se han vendido en la tienda cuyo identificador único es 3.\n",
    "\n",
    "1) Selecciona los nombres de productos únicos name de la tabla products. Guárdalos en la variable name.\n",
    "\n",
    "2) Utilizando RIGHT JOIN, une la subquery con la consulta externa por el campo id_product. Dentro de la subconsulta selecciona los productos únicos id_product de la tabla transactions donde el valor de id_store es 3. \n",
    "\n",
    "3) En el bloque WHERE de la consulta externa, busca los valores NULL en id_product en la tabla subquery."
   ]
  },
  {
   "cell_type": "code",
   "execution_count": null,
   "metadata": {
    "vscode": {
     "languageId": "sql"
    }
   },
   "outputs": [],
   "source": [
    "SELECT \n",
    "    products.name AS name\n",
    "FROM \n",
    "    (SELECT DISTINCT id_product\n",
    "     FROM transactions\n",
    "     WHERE id_store = 3) AS subquery\n",
    "RIGHT JOIN products ON subquery.id_product = products.id_product\n",
    "WHERE \n",
    "    subquery.id_product IS NULL;\n"
   ]
  }
 ],
 "metadata": {
  "language_info": {
   "name": "python"
  }
 },
 "nbformat": 4,
 "nbformat_minor": 2
}
