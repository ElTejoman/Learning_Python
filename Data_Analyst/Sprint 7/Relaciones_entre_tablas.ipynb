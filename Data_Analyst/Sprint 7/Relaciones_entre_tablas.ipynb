{
 "cells": [
  {
   "cell_type": "markdown",
   "metadata": {},
   "source": [
    "<hr>\n",
    "\n",
    "# **RELACIONES ENTRE TABLAS**\n",
    "\n",
    "<HR>\n",
    "\n",
    "Hay tres tipos de relaciones:\n",
    "\n",
    "- uno a uno (one-to-one)\n",
    "- uno a muchos (one-to-many)\n",
    "- muchos a muchos (many-to-many)\n",
    "\n",
    "En una relación uno a uno, cada fila en una tabla está conectada con una y solo una fila de la otra tabla. Es como si una tabla estuviera dividida en dos.\n",
    "\n",
    "En una relación uno a muchos, cada fila de una tabla coincide con varias filas de otra tabla.\n",
    "\n",
    "Este es el tipo de relación que vemos con los libros y los autores. Un autor puede escribir varios libros pero cada libro tiene un solo autor.\n",
    "\n",
    "Pero a veces los libros están escritos por más de un autor (por ejemplo, Neil Gaiman y Terry Pratchett). En estos casos, hablamos de relación muchos a muchos.\n",
    "\n",
    "En una relación muchos a muchos, varias filas de una tabla coinciden con varias filas de otra tabla. Este tipo de relación produce una tabla de vinculación que combina las claves primarias de ambas tablas.\n",
    "\n",
    "<hr>\n",
    "\n",
    "## Diagrama ER\n",
    "\n",
    "Se puede mostrar la estructura de las bases de datos con diagramas ER (entidad-relación).  Los diagramas muestran tablas y las relaciones entre ellas.\n",
    "\n",
    "**Relaciones en diagramas ER**\n",
    "\n",
    "Los diagramas ER también muestran relaciones. El final de la línea que conecta dos tablas indica si uno o varios valores de una tabla coinciden con los valores de la otra.\n",
    "\n",
    "<hr>\n",
    "\n",
    "## Buscar Valores Vacíos\n",
    "\n",
    "En SQL, decimos que las celdas vacías son NULL. Se buscan con el operador IS NULL:\n",
    "\n",
    "```\n",
    "\n",
    "SELECT\n",
    "    *\n",
    "FROM\n",
    "    table_name\n",
    "WHERE\n",
    "    column_name IS NULL;\n",
    "```\n",
    "\n",
    "A veces, en lugar de imprimir filas con valores NULL, queremos excluirlos del resultado.\n",
    "\n",
    "En estos casos se utiliza el operador NOT:\n",
    "\n",
    "```\n",
    "SELECT\n",
    "    *\n",
    "FROM\n",
    "    table_name\n",
    "WHERE\n",
    "    column_name IS NOT NULL;\n",
    "```\n",
    "\n",
    "Eliminar simplemente las filas NULL no siempre es la mejor opción. A veces querremos reemplazarlas con un cierto valor (digamos, la media) y podemos hacer que esto suceda en la consulta en sí. Para eso tenemos el operador CASE (\"en casos cuando\"). Es como  if-elif-else en Python:\n",
    "\n",
    "```\n",
    "CASE WHEN condition_1 THEN\n",
    "    result_1\n",
    "WHEN condition_2 THEN\n",
    "    result_2\n",
    "WHEN condition_3 THEN\n",
    "    result_3\n",
    "ELSE\n",
    "    result_4\n",
    "END;\n",
    "```\n",
    "\n",
    "Traducción de SQL:\n",
    "\n",
    "Elige los campos name y publisher_id de la tabla books. Si el valor en la columna publisher_id está vacío, reemplázalo con -1. De lo contrario, deja el valor como está. Llama publisher_id_full a la columna resultante.\n",
    "\n",
    "**EJEMPLO**\n",
    "\n",
    "```\n",
    "SELECT\n",
    "    name,\n",
    "    CASE WHEN publisher_id IS NULL THEN -1 -- si no se especifica la editorial, \n",
    "-- un publisher_id de -1\n",
    "    ELSE publisher_id END AS publisher_id_full\n",
    "FROM\n",
    "    books;\n",
    "```\n",
    "\n",
    "\n",
    "\n",
    "\n"
   ]
  },
  {
   "cell_type": "markdown",
   "metadata": {},
   "source": [
    "## Ejercicios!\n",
    "\n",
    "**Ejercicio 1**\n",
    "\n",
    "Busca valores NULL en el campo weight de la tabla products. Imprime los siguientes campos: name,units,weight."
   ]
  },
  {
   "cell_type": "code",
   "execution_count": null,
   "metadata": {
    "vscode": {
     "languageId": "sql"
    }
   },
   "outputs": [],
   "source": [
    "SELECT\n",
    "    name,\n",
    "    units,\n",
    "    weight \n",
    "FROM\n",
    "    products\n",
    "where \n",
    "    weight is null"
   ]
  },
  {
   "cell_type": "markdown",
   "metadata": {},
   "source": [
    "**Ejercicio 2**\n",
    "\n",
    "Encuentra el número de valores NULL en el campo weight de la tabla products."
   ]
  },
  {
   "cell_type": "code",
   "execution_count": null,
   "metadata": {
    "vscode": {
     "languageId": "sql"
    }
   },
   "outputs": [],
   "source": [
    "SELECT\n",
    "    count(*)-\n",
    "FROM\n",
    "    products\n",
    "where \n",
    "    weight is null"
   ]
  },
  {
   "cell_type": "markdown",
   "metadata": {},
   "source": [
    "**Ejercicio 3**\n",
    "\n",
    "Encuentra pesos promedios de los productos, agrupados por unidades de medida (units). Guárdalos en el nuevo campo con el nombre avg_weight. Las columnas deben ir en este orden: avg_weight, units."
   ]
  },
  {
   "cell_type": "code",
   "execution_count": null,
   "metadata": {
    "vscode": {
     "languageId": "sql"
    }
   },
   "outputs": [],
   "source": [
    "SELECT\n",
    "    avg(weight::real) as avg_weight ,\n",
    "    units\n",
    "FROM\n",
    "    products\n",
    "group by \n",
    "    units"
   ]
  },
  {
   "cell_type": "markdown",
   "metadata": {},
   "source": [
    "**Ejercicio 4**\n",
    "\n",
    "Utiliza una consulta que contenga CASE para reemplazar manualmente NULL con los promedios que calculamos en la tarea anterior en cada grupo de units. Llama el campo resultante weight_full. Los valores de la columna deben ser cadenas e ir en el siguiente orden: name, weight_full.\n",
    "\n",
    "Necesitarás los resultados del ejercicio anterior:\n",
    "\n",
    "- 23.0705263269575,oz\n",
    "- 10.0,ct\n",
    "- 12.0909090909091,pk\n",
    "- 0.650793650793651,gal\n",
    "- 1.0,%\n",
    "- 1.0,pt\n",
    "- 1.0,qt"
   ]
  },
  {
   "cell_type": "code",
   "execution_count": null,
   "metadata": {
    "vscode": {
     "languageId": "sql"
    }
   },
   "outputs": [],
   "source": [
    "SELECT\n",
    "\n",
    "    name,\n",
    "    CASE WHEN weight IS NULL\n",
    "        AND units = '%' THEN\n",
    "        '1.0'\n",
    "    WHEN weight IS NULL\n",
    "        AND units = 'pt' THEN\n",
    "        '1.0'\n",
    "    WHEN weight IS NULL\n",
    "        AND units = 'ct' THEN\n",
    "        '10.0'\n",
    "    WHEN weight IS NULL\n",
    "        AND units = 'qt' THEN\n",
    "        '1.0'\n",
    "    WHEN weight IS NULL\n",
    "        AND units = 'gal' THEN\n",
    "        '0.650793650793651'\n",
    "    WHEN weight IS NULL\n",
    "        AND units = 'pk' THEN\n",
    "        '12.0909090909091'\n",
    "    WHEN weight IS NULL\n",
    "        AND units = 'oz' THEN\n",
    "        '23.0705263269575'\n",
    "    ELSE\n",
    "        weight\n",
    "    END AS weight_full\n",
    "FROM\n",
    "    products;"
   ]
  },
  {
   "cell_type": "markdown",
   "metadata": {},
   "source": []
  }
 ],
 "metadata": {
  "language_info": {
   "name": "python"
  }
 },
 "nbformat": 4,
 "nbformat_minor": 2
}
