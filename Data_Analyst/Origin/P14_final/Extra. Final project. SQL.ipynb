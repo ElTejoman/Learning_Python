{
 "cells": [
  {
   "cell_type": "markdown",
   "id": "changed-anthony",
   "metadata": {},
   "source": [
    "<div style=\"border:solid green 2px; padding: 20px\">\n",
    "<b>Hello, Anton!</b>\n",
    "    \n",
    "Grigoriy is here again. This is our final metting :)\n",
    "    \n",
    "You're all data analysts now, so no yellow comments here. In my feedback I tried to give the comments in the way your future team lead would do.    \n",
    "\n",
    "You can find my comments in <font color='green'>green</font> or <font color='red'>red</font> boxes like this:\n",
    "\n",
    "<div class=\"alert alert-success\">\n",
    "<b>Reviewer's comment:</b> if everything is done succesfully\n",
    "</div>\n",
    "\n",
    "<div class=\"alert alert-danger\">\n",
    "<b>Reviewer's comment:</b> if the block requires some corrections. Work can't be accepted with the red comments.\n",
    "</div>\n",
    "    \n",
    "Let's work on the project in dialogue: if you change something in the project or respond to my comments, write about it. It will be easier for me to track the changes if you highlight your comments:\n",
    "    \n",
    "<div class=\"alert alert-info\"> <b>Student's comment:</b> For example like this.</div>    \n",
    "    \n",
    "      \n",
    "<div>"
   ]
  },
  {
   "cell_type": "markdown",
   "id": "soviet-telescope",
   "metadata": {},
   "source": [
    "### <font color='orange'>General feedback</font>\n",
    "Thank you for sending your project! Excelent job, all queries are correct. Congratulations, your project has been accepted! Good luck in the final task 💪 "
   ]
  },
  {
   "cell_type": "markdown",
   "id": "foster-tuning",
   "metadata": {},
   "source": [
    "---"
   ]
  },
  {
   "cell_type": "markdown",
   "id": "executed-decrease",
   "metadata": {},
   "source": [
    "### Final project. SQL"
   ]
  },
  {
   "cell_type": "markdown",
   "id": "welcome-highlight",
   "metadata": {},
   "source": [
    "This is work of Anton Rubenchik anton.rubenchik@gmail.com"
   ]
  },
  {
   "cell_type": "markdown",
   "id": "governing-savings",
   "metadata": {},
   "source": [
    "##### Table of contents\n",
    "0. [Introduction](#introduction)<br />\n",
    "1. [Download the data and prepare it for analysis.](#download)<br />\n",
    "2. [Step 2. Study the tables.](#tables)<br />\n",
    "2.1 [Table \"books\"](#books)<br />\n",
    "2.2 [Table \"authors\"](#authors)<br />\n",
    "2.3 [Table \"publishers\"](#publishers)<br />\n",
    "2.4 [Table \"ratings\"](#ratings)<br />\n",
    "2.5 [Table \"reviews\"](#reviews)<br />\n",
    "3. [Step 3. Tasks](#tasks)<br />\n",
    "3.1 [Number of books published after January 1, 2000](#tasks1)<br />\n",
    "3.2 [Find out the number of user reviews and the average rating for each book.](#tasks2)<br />\n",
    "3.3 [Identify the publisher with the most books with more than 50 pages.](#tasks3)<br />\n",
    "3.4 [Identify the author with the highest average book rating.](#tasks4)<br />\n",
    "3.4.1 [The author of the book with the highest rating.](#tasks4_1)<br />\n",
    "3.4.2 [Author of top-rated books.](#tasks4_2)<br />\n",
    "3.5 [Find the average number of text reviews among users who rated more than 50 books](#tasks5)\n"
   ]
  },
  {
   "cell_type": "markdown",
   "id": "swiss-course",
   "metadata": {},
   "source": [
    "### Introduction<br /><a name=\"introduction\"></a>\n",
    "Task:<br />\n",
    "The coronavirus took the entire world by surprise, changing everyone's daily routine. City dwellers no longer spent their free time outside, going to cafes and malls; more people were at home, reading books. That attracted the attention of startups that rushed to develop new apps for book lovers. <br /><br />\n",
    "We've been got a database of one of the services competing in this market. It contains data on books, publishers, authors, and customer ratings and reviews of books. This information will be used to generate a value proposition for a new product."
   ]
  },
  {
   "cell_type": "markdown",
   "id": "czech-treat",
   "metadata": {},
   "source": [
    "We need to analyze the data and get answers to the following questions:\n",
    "1. Number of books published after January 1, 2000\n",
    "2. Find out the number of user reviews and the average rating for each book.\n",
    "3. Identify the publisher with the most books with more than 50 pages.\n",
    "4. Identify the author with the highest average book rating.\n",
    "5. Find the average number of text reviews among users who rated more than 50 books. "
   ]
  },
  {
   "cell_type": "markdown",
   "id": "maritime-bryan",
   "metadata": {},
   "source": [
    "<div class=\"alert alert-success\">\n",
    "<b>Reviewer's comment:</b> Great start!\n",
    "</div>"
   ]
  },
  {
   "cell_type": "markdown",
   "id": "failing-partnership",
   "metadata": {},
   "source": [
    "### Step 1. Download the data and prepare it for analysis.<a name=\"download\"></a>"
   ]
  },
  {
   "cell_type": "code",
   "execution_count": 1,
   "id": "subjective-promise",
   "metadata": {},
   "outputs": [],
   "source": [
    "# import libraries\n",
    "import pandas as pd\n",
    "from sqlalchemy import create_engine"
   ]
  },
  {
   "cell_type": "code",
   "execution_count": 2,
   "id": "mobile-cause",
   "metadata": {},
   "outputs": [],
   "source": [
    "db_config = {'user': 'praktikum_student',         # user name\n",
    "             'pwd': 'Sdf4$2;d-d30pp', # password\n",
    "             'host': 'rc1b-wcoijxj3yxfsf3fs.mdb.yandexcloud.net',\n",
    "             'port': 6432,              # connection port\n",
    "             'db': 'data-analyst-final-project-db'}          # the name of the data base\n",
    "\n",
    "connection_string = 'postgresql://{}:{}@{}:{}/{}'.format(db_config['user'],\n",
    "                                                                     db_config['pwd'],\n",
    "                                                                       db_config['host'],\n",
    "                                                                       db_config['port'],\n",
    "                                                                       db_config['db'])\n",
    "\n",
    "engine = create_engine(connection_string, connect_args={'sslmode':'require'})"
   ]
  },
  {
   "cell_type": "markdown",
   "id": "vietnamese-liberia",
   "metadata": {},
   "source": [
    "##### Conclusion: <br />\n",
    "We received data from the server, let's examine the data in the tables."
   ]
  },
  {
   "cell_type": "markdown",
   "id": "blond-china",
   "metadata": {},
   "source": [
    "### Step 2. Study the tables.<a name=\"tables\"></a>"
   ]
  },
  {
   "cell_type": "markdown",
   "id": "brave-anthony",
   "metadata": {},
   "source": [
    "#### 2.1 Table \"books\"<a name=\"books\"></a>"
   ]
  },
  {
   "cell_type": "code",
   "execution_count": 3,
   "id": "protective-gentleman",
   "metadata": {},
   "outputs": [],
   "source": [
    "query = \"\"\"\n",
    "SELECT *\n",
    "FROM books\n",
    "limit 5\n",
    "\"\"\""
   ]
  },
  {
   "cell_type": "code",
   "execution_count": 4,
   "id": "passive-evanescence",
   "metadata": {},
   "outputs": [
    {
     "data": {
      "text/html": [
       "<div>\n",
       "<style scoped>\n",
       "    .dataframe tbody tr th:only-of-type {\n",
       "        vertical-align: middle;\n",
       "    }\n",
       "\n",
       "    .dataframe tbody tr th {\n",
       "        vertical-align: top;\n",
       "    }\n",
       "\n",
       "    .dataframe thead th {\n",
       "        text-align: right;\n",
       "    }\n",
       "</style>\n",
       "<table border=\"1\" class=\"dataframe\">\n",
       "  <thead>\n",
       "    <tr style=\"text-align: right;\">\n",
       "      <th></th>\n",
       "      <th>book_id</th>\n",
       "      <th>author_id</th>\n",
       "      <th>title</th>\n",
       "      <th>num_pages</th>\n",
       "      <th>publication_date</th>\n",
       "      <th>publisher_id</th>\n",
       "    </tr>\n",
       "  </thead>\n",
       "  <tbody>\n",
       "    <tr>\n",
       "      <th>0</th>\n",
       "      <td>1</td>\n",
       "      <td>546</td>\n",
       "      <td>'Salem's Lot</td>\n",
       "      <td>594</td>\n",
       "      <td>2005-11-01</td>\n",
       "      <td>93</td>\n",
       "    </tr>\n",
       "    <tr>\n",
       "      <th>1</th>\n",
       "      <td>2</td>\n",
       "      <td>465</td>\n",
       "      <td>1 000 Places to See Before You Die</td>\n",
       "      <td>992</td>\n",
       "      <td>2003-05-22</td>\n",
       "      <td>336</td>\n",
       "    </tr>\n",
       "    <tr>\n",
       "      <th>2</th>\n",
       "      <td>3</td>\n",
       "      <td>407</td>\n",
       "      <td>13 Little Blue Envelopes (Little Blue Envelope...</td>\n",
       "      <td>322</td>\n",
       "      <td>2010-12-21</td>\n",
       "      <td>135</td>\n",
       "    </tr>\n",
       "    <tr>\n",
       "      <th>3</th>\n",
       "      <td>4</td>\n",
       "      <td>82</td>\n",
       "      <td>1491: New Revelations of the Americas Before C...</td>\n",
       "      <td>541</td>\n",
       "      <td>2006-10-10</td>\n",
       "      <td>309</td>\n",
       "    </tr>\n",
       "    <tr>\n",
       "      <th>4</th>\n",
       "      <td>5</td>\n",
       "      <td>125</td>\n",
       "      <td>1776</td>\n",
       "      <td>386</td>\n",
       "      <td>2006-07-04</td>\n",
       "      <td>268</td>\n",
       "    </tr>\n",
       "  </tbody>\n",
       "</table>\n",
       "</div>"
      ],
      "text/plain": [
       "   book_id  author_id                                              title  \\\n",
       "0        1        546                                       'Salem's Lot   \n",
       "1        2        465                 1 000 Places to See Before You Die   \n",
       "2        3        407  13 Little Blue Envelopes (Little Blue Envelope...   \n",
       "3        4         82  1491: New Revelations of the Americas Before C...   \n",
       "4        5        125                                               1776   \n",
       "\n",
       "   num_pages publication_date  publisher_id  \n",
       "0        594       2005-11-01            93  \n",
       "1        992       2003-05-22           336  \n",
       "2        322       2010-12-21           135  \n",
       "3        541       2006-10-10           309  \n",
       "4        386       2006-07-04           268  "
      ]
     },
     "metadata": {},
     "output_type": "display_data"
    }
   ],
   "source": [
    "results = pd.io.sql.read_sql(query, con = engine)\n",
    "\n",
    "display(results)"
   ]
  },
  {
   "cell_type": "markdown",
   "id": "infinite-bolivia",
   "metadata": {},
   "source": [
    "#### 2.2 Table \"authors\"<a name=\"authors\"></a>"
   ]
  },
  {
   "cell_type": "code",
   "execution_count": 5,
   "id": "breathing-instruction",
   "metadata": {},
   "outputs": [],
   "source": [
    "query = \"\"\"\n",
    "SELECT *\n",
    "FROM authors\n",
    "limit 5\n",
    "\"\"\""
   ]
  },
  {
   "cell_type": "code",
   "execution_count": 6,
   "id": "sunset-today",
   "metadata": {},
   "outputs": [
    {
     "data": {
      "text/html": [
       "<div>\n",
       "<style scoped>\n",
       "    .dataframe tbody tr th:only-of-type {\n",
       "        vertical-align: middle;\n",
       "    }\n",
       "\n",
       "    .dataframe tbody tr th {\n",
       "        vertical-align: top;\n",
       "    }\n",
       "\n",
       "    .dataframe thead th {\n",
       "        text-align: right;\n",
       "    }\n",
       "</style>\n",
       "<table border=\"1\" class=\"dataframe\">\n",
       "  <thead>\n",
       "    <tr style=\"text-align: right;\">\n",
       "      <th></th>\n",
       "      <th>author_id</th>\n",
       "      <th>author</th>\n",
       "    </tr>\n",
       "  </thead>\n",
       "  <tbody>\n",
       "    <tr>\n",
       "      <th>0</th>\n",
       "      <td>1</td>\n",
       "      <td>A.S. Byatt</td>\n",
       "    </tr>\n",
       "    <tr>\n",
       "      <th>1</th>\n",
       "      <td>2</td>\n",
       "      <td>Aesop/Laura Harris/Laura Gibbs</td>\n",
       "    </tr>\n",
       "    <tr>\n",
       "      <th>2</th>\n",
       "      <td>3</td>\n",
       "      <td>Agatha Christie</td>\n",
       "    </tr>\n",
       "    <tr>\n",
       "      <th>3</th>\n",
       "      <td>4</td>\n",
       "      <td>Alan Brennert</td>\n",
       "    </tr>\n",
       "    <tr>\n",
       "      <th>4</th>\n",
       "      <td>5</td>\n",
       "      <td>Alan Moore/David   Lloyd</td>\n",
       "    </tr>\n",
       "  </tbody>\n",
       "</table>\n",
       "</div>"
      ],
      "text/plain": [
       "   author_id                          author\n",
       "0          1                      A.S. Byatt\n",
       "1          2  Aesop/Laura Harris/Laura Gibbs\n",
       "2          3                 Agatha Christie\n",
       "3          4                   Alan Brennert\n",
       "4          5        Alan Moore/David   Lloyd"
      ]
     },
     "metadata": {},
     "output_type": "display_data"
    }
   ],
   "source": [
    "results = pd.io.sql.read_sql(query, con = engine)\n",
    "\n",
    "display(results)"
   ]
  },
  {
   "cell_type": "markdown",
   "id": "returning-apartment",
   "metadata": {},
   "source": [
    "#### 2.3 Table \"publishers\"<a name=\"publishers\"></a>"
   ]
  },
  {
   "cell_type": "code",
   "execution_count": 7,
   "id": "following-necessity",
   "metadata": {},
   "outputs": [],
   "source": [
    "query = \"\"\"\n",
    "SELECT *\n",
    "FROM publishers\n",
    "limit 5\n",
    "\"\"\""
   ]
  },
  {
   "cell_type": "code",
   "execution_count": 8,
   "id": "consistent-passport",
   "metadata": {},
   "outputs": [
    {
     "data": {
      "text/html": [
       "<div>\n",
       "<style scoped>\n",
       "    .dataframe tbody tr th:only-of-type {\n",
       "        vertical-align: middle;\n",
       "    }\n",
       "\n",
       "    .dataframe tbody tr th {\n",
       "        vertical-align: top;\n",
       "    }\n",
       "\n",
       "    .dataframe thead th {\n",
       "        text-align: right;\n",
       "    }\n",
       "</style>\n",
       "<table border=\"1\" class=\"dataframe\">\n",
       "  <thead>\n",
       "    <tr style=\"text-align: right;\">\n",
       "      <th></th>\n",
       "      <th>publisher_id</th>\n",
       "      <th>publisher</th>\n",
       "    </tr>\n",
       "  </thead>\n",
       "  <tbody>\n",
       "    <tr>\n",
       "      <th>0</th>\n",
       "      <td>1</td>\n",
       "      <td>Ace</td>\n",
       "    </tr>\n",
       "    <tr>\n",
       "      <th>1</th>\n",
       "      <td>2</td>\n",
       "      <td>Ace Book</td>\n",
       "    </tr>\n",
       "    <tr>\n",
       "      <th>2</th>\n",
       "      <td>3</td>\n",
       "      <td>Ace Books</td>\n",
       "    </tr>\n",
       "    <tr>\n",
       "      <th>3</th>\n",
       "      <td>4</td>\n",
       "      <td>Ace Hardcover</td>\n",
       "    </tr>\n",
       "    <tr>\n",
       "      <th>4</th>\n",
       "      <td>5</td>\n",
       "      <td>Addison Wesley Publishing Company</td>\n",
       "    </tr>\n",
       "  </tbody>\n",
       "</table>\n",
       "</div>"
      ],
      "text/plain": [
       "   publisher_id                          publisher\n",
       "0             1                                Ace\n",
       "1             2                           Ace Book\n",
       "2             3                          Ace Books\n",
       "3             4                      Ace Hardcover\n",
       "4             5  Addison Wesley Publishing Company"
      ]
     },
     "metadata": {},
     "output_type": "display_data"
    }
   ],
   "source": [
    "results = pd.io.sql.read_sql(query, con = engine)\n",
    "\n",
    "display(results)"
   ]
  },
  {
   "cell_type": "markdown",
   "id": "historic-valve",
   "metadata": {},
   "source": [
    "#### 2.4 Table \"ratings\"<a name=\"ratings\"></a>"
   ]
  },
  {
   "cell_type": "code",
   "execution_count": 9,
   "id": "unauthorized-jimmy",
   "metadata": {},
   "outputs": [],
   "source": [
    "query = \"\"\"\n",
    "SELECT *\n",
    "FROM ratings\n",
    "limit 5\n",
    "\"\"\""
   ]
  },
  {
   "cell_type": "code",
   "execution_count": 10,
   "id": "continuing-portable",
   "metadata": {},
   "outputs": [
    {
     "data": {
      "text/html": [
       "<div>\n",
       "<style scoped>\n",
       "    .dataframe tbody tr th:only-of-type {\n",
       "        vertical-align: middle;\n",
       "    }\n",
       "\n",
       "    .dataframe tbody tr th {\n",
       "        vertical-align: top;\n",
       "    }\n",
       "\n",
       "    .dataframe thead th {\n",
       "        text-align: right;\n",
       "    }\n",
       "</style>\n",
       "<table border=\"1\" class=\"dataframe\">\n",
       "  <thead>\n",
       "    <tr style=\"text-align: right;\">\n",
       "      <th></th>\n",
       "      <th>rating_id</th>\n",
       "      <th>book_id</th>\n",
       "      <th>username</th>\n",
       "      <th>rating</th>\n",
       "    </tr>\n",
       "  </thead>\n",
       "  <tbody>\n",
       "    <tr>\n",
       "      <th>0</th>\n",
       "      <td>1</td>\n",
       "      <td>1</td>\n",
       "      <td>ryanfranco</td>\n",
       "      <td>4</td>\n",
       "    </tr>\n",
       "    <tr>\n",
       "      <th>1</th>\n",
       "      <td>2</td>\n",
       "      <td>1</td>\n",
       "      <td>grantpatricia</td>\n",
       "      <td>2</td>\n",
       "    </tr>\n",
       "    <tr>\n",
       "      <th>2</th>\n",
       "      <td>3</td>\n",
       "      <td>1</td>\n",
       "      <td>brandtandrea</td>\n",
       "      <td>5</td>\n",
       "    </tr>\n",
       "    <tr>\n",
       "      <th>3</th>\n",
       "      <td>4</td>\n",
       "      <td>2</td>\n",
       "      <td>lorichen</td>\n",
       "      <td>3</td>\n",
       "    </tr>\n",
       "    <tr>\n",
       "      <th>4</th>\n",
       "      <td>5</td>\n",
       "      <td>2</td>\n",
       "      <td>mariokeller</td>\n",
       "      <td>2</td>\n",
       "    </tr>\n",
       "  </tbody>\n",
       "</table>\n",
       "</div>"
      ],
      "text/plain": [
       "   rating_id  book_id       username  rating\n",
       "0          1        1     ryanfranco       4\n",
       "1          2        1  grantpatricia       2\n",
       "2          3        1   brandtandrea       5\n",
       "3          4        2       lorichen       3\n",
       "4          5        2    mariokeller       2"
      ]
     },
     "metadata": {},
     "output_type": "display_data"
    }
   ],
   "source": [
    "results = pd.io.sql.read_sql(query, con = engine)\n",
    "\n",
    "display(results)"
   ]
  },
  {
   "cell_type": "markdown",
   "id": "composed-manufacturer",
   "metadata": {},
   "source": [
    "#### 2.5 Table \"reviews\"<a name=\"reviews\"></a>"
   ]
  },
  {
   "cell_type": "code",
   "execution_count": 11,
   "id": "through-daniel",
   "metadata": {},
   "outputs": [],
   "source": [
    "query = \"\"\"\n",
    "SELECT *\n",
    "FROM reviews\n",
    "limit 5\n",
    "\"\"\""
   ]
  },
  {
   "cell_type": "code",
   "execution_count": 12,
   "id": "acknowledged-hormone",
   "metadata": {},
   "outputs": [
    {
     "data": {
      "text/html": [
       "<div>\n",
       "<style scoped>\n",
       "    .dataframe tbody tr th:only-of-type {\n",
       "        vertical-align: middle;\n",
       "    }\n",
       "\n",
       "    .dataframe tbody tr th {\n",
       "        vertical-align: top;\n",
       "    }\n",
       "\n",
       "    .dataframe thead th {\n",
       "        text-align: right;\n",
       "    }\n",
       "</style>\n",
       "<table border=\"1\" class=\"dataframe\">\n",
       "  <thead>\n",
       "    <tr style=\"text-align: right;\">\n",
       "      <th></th>\n",
       "      <th>review_id</th>\n",
       "      <th>book_id</th>\n",
       "      <th>username</th>\n",
       "      <th>text</th>\n",
       "    </tr>\n",
       "  </thead>\n",
       "  <tbody>\n",
       "    <tr>\n",
       "      <th>0</th>\n",
       "      <td>1</td>\n",
       "      <td>1</td>\n",
       "      <td>brandtandrea</td>\n",
       "      <td>Mention society tell send professor analysis. ...</td>\n",
       "    </tr>\n",
       "    <tr>\n",
       "      <th>1</th>\n",
       "      <td>2</td>\n",
       "      <td>1</td>\n",
       "      <td>ryanfranco</td>\n",
       "      <td>Foot glass pretty audience hit themselves. Amo...</td>\n",
       "    </tr>\n",
       "    <tr>\n",
       "      <th>2</th>\n",
       "      <td>3</td>\n",
       "      <td>2</td>\n",
       "      <td>lorichen</td>\n",
       "      <td>Listen treat keep worry. Miss husband tax but ...</td>\n",
       "    </tr>\n",
       "    <tr>\n",
       "      <th>3</th>\n",
       "      <td>4</td>\n",
       "      <td>3</td>\n",
       "      <td>johnsonamanda</td>\n",
       "      <td>Finally month interesting blue could nature cu...</td>\n",
       "    </tr>\n",
       "    <tr>\n",
       "      <th>4</th>\n",
       "      <td>5</td>\n",
       "      <td>3</td>\n",
       "      <td>scotttamara</td>\n",
       "      <td>Nation purpose heavy give wait song will. List...</td>\n",
       "    </tr>\n",
       "  </tbody>\n",
       "</table>\n",
       "</div>"
      ],
      "text/plain": [
       "   review_id  book_id       username  \\\n",
       "0          1        1   brandtandrea   \n",
       "1          2        1     ryanfranco   \n",
       "2          3        2       lorichen   \n",
       "3          4        3  johnsonamanda   \n",
       "4          5        3    scotttamara   \n",
       "\n",
       "                                                text  \n",
       "0  Mention society tell send professor analysis. ...  \n",
       "1  Foot glass pretty audience hit themselves. Amo...  \n",
       "2  Listen treat keep worry. Miss husband tax but ...  \n",
       "3  Finally month interesting blue could nature cu...  \n",
       "4  Nation purpose heavy give wait song will. List...  "
      ]
     },
     "metadata": {},
     "output_type": "display_data"
    }
   ],
   "source": [
    "results = pd.io.sql.read_sql(query, con = engine)\n",
    "\n",
    "display(results)"
   ]
  },
  {
   "cell_type": "markdown",
   "id": "celtic-harvest",
   "metadata": {},
   "source": [
    "<div class=\"alert alert-success\">\n",
    "<b>Reviewer's comment:</b> Well done, let's move on to the queries part.\n",
    "</div>"
   ]
  },
  {
   "cell_type": "markdown",
   "id": "advanced-flesh",
   "metadata": {},
   "source": [
    "### Step 3. Tasks<a name=\"tasks\"></a>"
   ]
  },
  {
   "cell_type": "markdown",
   "id": "offshore-inclusion",
   "metadata": {},
   "source": [
    "#### 3.1 Number of books published after January 1, 2000<a name=\"tasks1\"></a>"
   ]
  },
  {
   "cell_type": "code",
   "execution_count": 13,
   "id": "threaded-price",
   "metadata": {},
   "outputs": [
    {
     "data": {
      "text/html": [
       "<div>\n",
       "<style scoped>\n",
       "    .dataframe tbody tr th:only-of-type {\n",
       "        vertical-align: middle;\n",
       "    }\n",
       "\n",
       "    .dataframe tbody tr th {\n",
       "        vertical-align: top;\n",
       "    }\n",
       "\n",
       "    .dataframe thead th {\n",
       "        text-align: right;\n",
       "    }\n",
       "</style>\n",
       "<table border=\"1\" class=\"dataframe\">\n",
       "  <thead>\n",
       "    <tr style=\"text-align: right;\">\n",
       "      <th></th>\n",
       "      <th>count_books</th>\n",
       "    </tr>\n",
       "  </thead>\n",
       "  <tbody>\n",
       "    <tr>\n",
       "      <th>0</th>\n",
       "      <td>819</td>\n",
       "    </tr>\n",
       "  </tbody>\n",
       "</table>\n",
       "</div>"
      ],
      "text/plain": [
       "   count_books\n",
       "0          819"
      ]
     },
     "metadata": {},
     "output_type": "display_data"
    }
   ],
   "source": [
    "query_task1 = \"\"\"\n",
    "-- Find the number of books released after January 1, 2000.\n",
    "SELECT COUNT(*) as count_books\n",
    "FROM books\n",
    "WHERE publication_date > '2000-01-01';  \n",
    "\"\"\"\n",
    "results = pd.io.sql.read_sql(query_task1, con = engine)\n",
    "display(results)"
   ]
  },
  {
   "cell_type": "markdown",
   "id": "pursuant-salmon",
   "metadata": {},
   "source": [
    "<div class=\"alert alert-success\">\n",
    "<b>Reviewer's comment: </b> ✅\n",
    "</div>"
   ]
  },
  {
   "cell_type": "markdown",
   "id": "exciting-transportation",
   "metadata": {},
   "source": [
    "##### Conclusion: <br />\n",
    "After performing the query, we found out that 819 books were published after 01/01/2000"
   ]
  },
  {
   "cell_type": "markdown",
   "id": "manual-headquarters",
   "metadata": {},
   "source": [
    "#### 3.2 Find out the number of user reviews and the average rating for each book.<a name=\"tasks2\"></a>"
   ]
  },
  {
   "cell_type": "code",
   "execution_count": 14,
   "id": "choice-penguin",
   "metadata": {},
   "outputs": [
    {
     "data": {
      "text/html": [
       "<div>\n",
       "<style scoped>\n",
       "    .dataframe tbody tr th:only-of-type {\n",
       "        vertical-align: middle;\n",
       "    }\n",
       "\n",
       "    .dataframe tbody tr th {\n",
       "        vertical-align: top;\n",
       "    }\n",
       "\n",
       "    .dataframe thead th {\n",
       "        text-align: right;\n",
       "    }\n",
       "</style>\n",
       "<table border=\"1\" class=\"dataframe\">\n",
       "  <thead>\n",
       "    <tr style=\"text-align: right;\">\n",
       "      <th></th>\n",
       "      <th>book_id</th>\n",
       "      <th>author</th>\n",
       "      <th>title</th>\n",
       "      <th>number_users_reviews</th>\n",
       "      <th>average_rating</th>\n",
       "    </tr>\n",
       "  </thead>\n",
       "  <tbody>\n",
       "    <tr>\n",
       "      <th>0</th>\n",
       "      <td>86</td>\n",
       "      <td>Mercedes Lackey</td>\n",
       "      <td>Arrows of the Queen (Heralds of Valdemar  #1)</td>\n",
       "      <td>2</td>\n",
       "      <td>5.0</td>\n",
       "    </tr>\n",
       "    <tr>\n",
       "      <th>1</th>\n",
       "      <td>901</td>\n",
       "      <td>Robert Kirkman/Tony Moore/Charlie Adlard/Cliff...</td>\n",
       "      <td>The Walking Dead  Book One (The Walking Dead #...</td>\n",
       "      <td>2</td>\n",
       "      <td>5.0</td>\n",
       "    </tr>\n",
       "    <tr>\n",
       "      <th>2</th>\n",
       "      <td>390</td>\n",
       "      <td>William Faulkner</td>\n",
       "      <td>Light in August</td>\n",
       "      <td>2</td>\n",
       "      <td>5.0</td>\n",
       "    </tr>\n",
       "    <tr>\n",
       "      <th>3</th>\n",
       "      <td>972</td>\n",
       "      <td>Jon Kabat-Zinn</td>\n",
       "      <td>Wherever You Go  There You Are: Mindfulness Me...</td>\n",
       "      <td>2</td>\n",
       "      <td>5.0</td>\n",
       "    </tr>\n",
       "    <tr>\n",
       "      <th>4</th>\n",
       "      <td>136</td>\n",
       "      <td>John Eldredge/Stasi Eldredge</td>\n",
       "      <td>Captivating: Unveiling the Mystery of a Woman'...</td>\n",
       "      <td>2</td>\n",
       "      <td>5.0</td>\n",
       "    </tr>\n",
       "  </tbody>\n",
       "</table>\n",
       "</div>"
      ],
      "text/plain": [
       "   book_id                                             author  \\\n",
       "0       86                                    Mercedes Lackey   \n",
       "1      901  Robert Kirkman/Tony Moore/Charlie Adlard/Cliff...   \n",
       "2      390                                   William Faulkner   \n",
       "3      972                                     Jon Kabat-Zinn   \n",
       "4      136                       John Eldredge/Stasi Eldredge   \n",
       "\n",
       "                                               title  number_users_reviews  \\\n",
       "0      Arrows of the Queen (Heralds of Valdemar  #1)                     2   \n",
       "1  The Walking Dead  Book One (The Walking Dead #...                     2   \n",
       "2                                    Light in August                     2   \n",
       "3  Wherever You Go  There You Are: Mindfulness Me...                     2   \n",
       "4  Captivating: Unveiling the Mystery of a Woman'...                     2   \n",
       "\n",
       "   average_rating  \n",
       "0             5.0  \n",
       "1             5.0  \n",
       "2             5.0  \n",
       "3             5.0  \n",
       "4             5.0  "
      ]
     },
     "metadata": {},
     "output_type": "display_data"
    }
   ],
   "source": [
    "query_task2 = \"\"\"\n",
    "-- Find the number of user reviews and the average rating for each book.\n",
    "SELECT books.book_id, \n",
    "    authors.author,\n",
    "    books.title, \n",
    "    COUNT(distinct review_id) as number_users_reviews, \n",
    "    ROUND(AVG(ratings.rating),2) as average_rating\n",
    "FROM books\n",
    "    left join reviews on books.book_id = reviews.book_id \n",
    "    left join ratings on books.book_id = ratings.book_id \n",
    "    left join authors on books.author_id = authors.author_id \n",
    "group by books.book_id, authors.author_id\n",
    "order by average_rating desc \n",
    "\"\"\"\n",
    "results = pd.io.sql.read_sql(query_task2, con = engine)\n",
    "display(results[:5])"
   ]
  },
  {
   "cell_type": "markdown",
   "id": "periodic-baptist",
   "metadata": {},
   "source": [
    "<div class=\"alert alert-success\">\n",
    "<b>Reviewer's comment: </b> ✅\n",
    "</div>"
   ]
  },
  {
   "cell_type": "markdown",
   "id": "suspected-resort",
   "metadata": {},
   "source": [
    "##### Conclusion: <br />\n",
    "We processed the data and formed a table in which we counted the number of reviews for each book and the average book rating."
   ]
  },
  {
   "cell_type": "markdown",
   "id": "convenient-norfolk",
   "metadata": {},
   "source": [
    "#### 3.3 Identify the publisher with the most books with more than 50 pages.<a name=\"tasks3\"></a>"
   ]
  },
  {
   "cell_type": "code",
   "execution_count": 15,
   "id": "raising-furniture",
   "metadata": {},
   "outputs": [
    {
     "data": {
      "text/html": [
       "<div>\n",
       "<style scoped>\n",
       "    .dataframe tbody tr th:only-of-type {\n",
       "        vertical-align: middle;\n",
       "    }\n",
       "\n",
       "    .dataframe tbody tr th {\n",
       "        vertical-align: top;\n",
       "    }\n",
       "\n",
       "    .dataframe thead th {\n",
       "        text-align: right;\n",
       "    }\n",
       "</style>\n",
       "<table border=\"1\" class=\"dataframe\">\n",
       "  <thead>\n",
       "    <tr style=\"text-align: right;\">\n",
       "      <th></th>\n",
       "      <th>publisher_id</th>\n",
       "      <th>publisher</th>\n",
       "      <th>count_books</th>\n",
       "    </tr>\n",
       "  </thead>\n",
       "  <tbody>\n",
       "    <tr>\n",
       "      <th>0</th>\n",
       "      <td>212</td>\n",
       "      <td>Penguin Books</td>\n",
       "      <td>42</td>\n",
       "    </tr>\n",
       "  </tbody>\n",
       "</table>\n",
       "</div>"
      ],
      "text/plain": [
       "   publisher_id      publisher  count_books\n",
       "0           212  Penguin Books           42"
      ]
     },
     "metadata": {},
     "output_type": "display_data"
    }
   ],
   "source": [
    "query_task3 = \"\"\"\n",
    "-- Identify the publisher that has released the greatest number of books with more than 50 pages\n",
    "select \n",
    "    distinct publishers.publisher_id \n",
    "    , publishers.publisher\n",
    "    , COUNT(books.book_id) OVER(PARTITION BY publishers.publisher_id) AS count_books \n",
    "from books \n",
    "    inner join publishers using(publisher_id)\n",
    "where books.num_pages > 50\n",
    "order by count_books desc\n",
    "limit 1\n",
    "\"\"\"\n",
    "results = pd.io.sql.read_sql(query_task3, con = engine)\n",
    "display(results[:5])"
   ]
  },
  {
   "cell_type": "markdown",
   "id": "dense-fetish",
   "metadata": {},
   "source": [
    "<div class=\"alert alert-success\">\n",
    "<b>Reviewer's comment: </b> ✅\n",
    "</div>"
   ]
  },
  {
   "cell_type": "markdown",
   "id": "unknown-boating",
   "metadata": {},
   "source": [
    "##### Conclusion: <br />\n",
    "After performing the query, we found out that the Penguin Books publisher has released the most books."
   ]
  },
  {
   "cell_type": "markdown",
   "id": "anonymous-patient",
   "metadata": {},
   "source": [
    "#### 3.4 Identify the author with the highest average book rating.<a name=\"tasks4\"></a>"
   ]
  },
  {
   "cell_type": "markdown",
   "id": "timely-soccer",
   "metadata": {},
   "source": [
    "##### 3.4.1 The author of the book with the highest rating.<a name=\"tasks4_1\"></a>"
   ]
  },
  {
   "cell_type": "code",
   "execution_count": 16,
   "id": "extreme-privacy",
   "metadata": {},
   "outputs": [
    {
     "data": {
      "text/html": [
       "<div>\n",
       "<style scoped>\n",
       "    .dataframe tbody tr th:only-of-type {\n",
       "        vertical-align: middle;\n",
       "    }\n",
       "\n",
       "    .dataframe tbody tr th {\n",
       "        vertical-align: top;\n",
       "    }\n",
       "\n",
       "    .dataframe thead th {\n",
       "        text-align: right;\n",
       "    }\n",
       "</style>\n",
       "<table border=\"1\" class=\"dataframe\">\n",
       "  <thead>\n",
       "    <tr style=\"text-align: right;\">\n",
       "      <th></th>\n",
       "      <th>book_id</th>\n",
       "      <th>title</th>\n",
       "      <th>author</th>\n",
       "      <th>avg_rating</th>\n",
       "    </tr>\n",
       "  </thead>\n",
       "  <tbody>\n",
       "    <tr>\n",
       "      <th>0</th>\n",
       "      <td>302</td>\n",
       "      <td>Harry Potter and the Prisoner of Azkaban (Harr...</td>\n",
       "      <td>J.K. Rowling/Mary GrandPré</td>\n",
       "      <td>4.41</td>\n",
       "    </tr>\n",
       "  </tbody>\n",
       "</table>\n",
       "</div>"
      ],
      "text/plain": [
       "   book_id                                              title  \\\n",
       "0      302  Harry Potter and the Prisoner of Azkaban (Harr...   \n",
       "\n",
       "                       author  avg_rating  \n",
       "0  J.K. Rowling/Mary GrandPré        4.41  "
      ]
     },
     "metadata": {},
     "output_type": "display_data"
    }
   ],
   "source": [
    "query_task4 = \"\"\"\n",
    "-- Identify the author with the highest average book rating (look only at books with at least 50 ratings).\n",
    "with books_rating(book_id,title,author,count_marks,avg_rating)\n",
    "as (\n",
    "select \n",
    "   distinct book_id\n",
    "   , books.title \n",
    "   , authors.author \n",
    "   , count(rating_id) over (partition by book_id) as count_marks\n",
    "   , round(avg(rating) over (partition by book_id),2) as avg_rating\n",
    "from books \n",
    "    left join ratings using(book_id)\n",
    "    left join authors using(author_id)\n",
    ")\n",
    "select \n",
    "    book_id\n",
    "    , title\n",
    "    , author\n",
    "    , avg_rating\n",
    "from books_rating\n",
    "where \n",
    "    (count_marks > 50) and avg_rating = \n",
    "       (\n",
    "        select avg_rating \n",
    "        from books_rating\n",
    "        where count_marks > 50\n",
    "        order by avg_rating desc\n",
    "        limit 1\n",
    "        )\n",
    "\"\"\"\n",
    "results = pd.io.sql.read_sql(query_task4, con = engine)\n",
    "display(results[:5])"
   ]
  },
  {
   "cell_type": "markdown",
   "id": "legal-there",
   "metadata": {},
   "source": [
    "<div class=\"alert alert-success\">\n",
    "<b>Reviewer's comment: </b> ✅\n",
    "</div>"
   ]
  },
  {
   "cell_type": "markdown",
   "id": "established-liquid",
   "metadata": {},
   "source": [
    "##### Conclusion: <br />\n",
    "After performing the query, we found out that J.K. Rowling is the author of the top-rated book itself."
   ]
  },
  {
   "cell_type": "markdown",
   "id": "satisfied-killing",
   "metadata": {},
   "source": [
    "##### 3.4.2 Author of top-rated books.<a name=\"tasks4_2\"></a>"
   ]
  },
  {
   "cell_type": "code",
   "execution_count": 17,
   "id": "recent-genome",
   "metadata": {},
   "outputs": [
    {
     "data": {
      "text/html": [
       "<div>\n",
       "<style scoped>\n",
       "    .dataframe tbody tr th:only-of-type {\n",
       "        vertical-align: middle;\n",
       "    }\n",
       "\n",
       "    .dataframe tbody tr th {\n",
       "        vertical-align: top;\n",
       "    }\n",
       "\n",
       "    .dataframe thead th {\n",
       "        text-align: right;\n",
       "    }\n",
       "</style>\n",
       "<table border=\"1\" class=\"dataframe\">\n",
       "  <thead>\n",
       "    <tr style=\"text-align: right;\">\n",
       "      <th></th>\n",
       "      <th>author_id</th>\n",
       "      <th>author</th>\n",
       "      <th>count_books</th>\n",
       "      <th>avg_rat</th>\n",
       "    </tr>\n",
       "  </thead>\n",
       "  <tbody>\n",
       "    <tr>\n",
       "      <th>0</th>\n",
       "      <td>236</td>\n",
       "      <td>J.K. Rowling/Mary GrandPré</td>\n",
       "      <td>4</td>\n",
       "      <td>4.285</td>\n",
       "    </tr>\n",
       "  </tbody>\n",
       "</table>\n",
       "</div>"
      ],
      "text/plain": [
       "   author_id                      author  count_books  avg_rat\n",
       "0        236  J.K. Rowling/Mary GrandPré            4    4.285"
      ]
     },
     "metadata": {},
     "output_type": "display_data"
    }
   ],
   "source": [
    "query_task4_1 = \"\"\"\n",
    "-- Identify the author with the highest average book rating (look only at books with at least 50 ratings).\n",
    "with books_rating(book_id,author_id, count_marks,avg_rating)\n",
    "as (\n",
    "select \n",
    "   distinct book_id\n",
    "   , authors.author_id \n",
    "   , count(rating_id) over (partition by book_id) as count_marks\n",
    "   , round(avg(rating) over (partition by book_id),2) as avg_rating\n",
    "from books \n",
    "   left join ratings using(book_id)\n",
    "   right join authors using(author_id)\n",
    ")\n",
    "select\n",
    "    authors.author_id\n",
    "    , authors.author \n",
    "    , COUNT(book_id) as count_books\n",
    "    , AVG(avg_rating) as avg_rat    \n",
    "from books_rating\n",
    "inner join authors on books_rating.author_id = authors.author_id \n",
    "where count_marks > 50\n",
    "group by authors.author_id\n",
    "order by avg_rat desc \n",
    "limit 1\n",
    "\"\"\"\n",
    "results = pd.io.sql.read_sql(query_task4_1, con = engine)\n",
    "display(results[:5])"
   ]
  },
  {
   "cell_type": "markdown",
   "id": "arabic-exchange",
   "metadata": {},
   "source": [
    "<div class=\"alert alert-success\">\n",
    "<b>Reviewer's comment: </b> ✅\n",
    "</div>"
   ]
  },
  {
   "cell_type": "markdown",
   "id": "southwest-concern",
   "metadata": {},
   "source": [
    "##### Conclusion: <br />\n",
    "After completing the request, we found out that J.K. Rowling is the author whose books have the highest ratings."
   ]
  },
  {
   "cell_type": "markdown",
   "id": "comparable-mixer",
   "metadata": {},
   "source": [
    "#### 3.5 Find the average number of text reviews among users who rated more than 50 books.<a name=\"tasks5\"></a>"
   ]
  },
  {
   "cell_type": "code",
   "execution_count": 18,
   "id": "considered-situation",
   "metadata": {},
   "outputs": [
    {
     "data": {
      "text/html": [
       "<div>\n",
       "<style scoped>\n",
       "    .dataframe tbody tr th:only-of-type {\n",
       "        vertical-align: middle;\n",
       "    }\n",
       "\n",
       "    .dataframe tbody tr th {\n",
       "        vertical-align: top;\n",
       "    }\n",
       "\n",
       "    .dataframe thead th {\n",
       "        text-align: right;\n",
       "    }\n",
       "</style>\n",
       "<table border=\"1\" class=\"dataframe\">\n",
       "  <thead>\n",
       "    <tr style=\"text-align: right;\">\n",
       "      <th></th>\n",
       "      <th>avg_reviews</th>\n",
       "    </tr>\n",
       "  </thead>\n",
       "  <tbody>\n",
       "    <tr>\n",
       "      <th>0</th>\n",
       "      <td>24.33</td>\n",
       "    </tr>\n",
       "  </tbody>\n",
       "</table>\n",
       "</div>"
      ],
      "text/plain": [
       "   avg_reviews\n",
       "0        24.33"
      ]
     },
     "metadata": {},
     "output_type": "display_data"
    }
   ],
   "source": [
    "query_task5 = \"\"\"\n",
    "-- Task 5. Find the average number of text reviews among users who rated more than 50 books. \n",
    "with users_rated_50_plus (username)\n",
    "as (\n",
    "select \n",
    "   ratings.username \n",
    "from ratings \n",
    "group by username\n",
    "having count(rating_id) > 50\n",
    "),\n",
    "users_count_reviews (username, count_reviews)\n",
    "as (\n",
    "    SELECT \n",
    "        distinct username\n",
    "        , COUNT(review_id) over (partition by username) as count_reviews\n",
    "    from users_rated_50_plus\n",
    "        inner join reviews USING(username)\n",
    ")\n",
    "select ROUND(AVG(count_reviews),2) as AVG_REVIEWS \n",
    "from users_count_reviews\n",
    "\"\"\"\n",
    "results = pd.io.sql.read_sql(query_task5, con = engine)\n",
    "display(results[:5])"
   ]
  },
  {
   "cell_type": "markdown",
   "id": "needed-skiing",
   "metadata": {},
   "source": [
    "<div class=\"alert alert-success\">\n",
    "<b>Reviewer's comment: </b> ✅\n",
    "</div>"
   ]
  },
  {
   "cell_type": "markdown",
   "id": "removable-trailer",
   "metadata": {},
   "source": [
    "##### Conclusion: <br />\n",
    "After performing the query, we found out that, on average, users make 24.33 reviews."
   ]
  },
  {
   "cell_type": "markdown",
   "id": "floating-directive",
   "metadata": {},
   "source": []
  }
 ],
 "metadata": {
  "kernelspec": {
   "display_name": "Python 3",
   "language": "python",
   "name": "python3"
  },
  "language_info": {
   "codemirror_mode": {
    "name": "ipython",
    "version": 3
   },
   "file_extension": ".py",
   "mimetype": "text/x-python",
   "name": "python",
   "nbconvert_exporter": "python",
   "pygments_lexer": "ipython3",
   "version": "3.7.9"
  },
  "toc": {
   "base_numbering": 1,
   "nav_menu": {},
   "number_sections": false,
   "sideBar": true,
   "skip_h1_title": true,
   "title_cell": "Table of Contents",
   "title_sidebar": "Contents",
   "toc_cell": false,
   "toc_position": {},
   "toc_section_display": true,
   "toc_window_display": false
  }
 },
 "nbformat": 4,
 "nbformat_minor": 5
}
