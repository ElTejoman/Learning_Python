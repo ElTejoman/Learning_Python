{
 "cells": [
  {
   "cell_type": "markdown",
   "metadata": {},
   "source": [
    "### Team lead comments\n",
    "\n",
    "<div class=\"alert alert-success\">\n",
    "Hey, Anton!Great plan, very reasonable. Looks like everything we need. Good luck with the project!\n",
    "</div>"
   ]
  },
  {
   "cell_type": "markdown",
   "metadata": {},
   "source": [
    "### Decomposition"
   ]
  },
  {
   "cell_type": "markdown",
   "metadata": {},
   "source": [
    "Student: Rubenchik Anton"
   ]
  },
  {
   "cell_type": "markdown",
   "metadata": {},
   "source": [
    "- Introduction\n",
    "- Description of data"
   ]
  },
  {
   "cell_type": "markdown",
   "metadata": {},
   "source": [
    "- Step 1. Download the data and prepare it for analysis.<br />\n",
    "Store the data on operators, and clients in variables. Optimize the data for analysis. Make sure each column contains the correct data type."
   ]
  },
  {
   "cell_type": "markdown",
   "metadata": {},
   "source": [
    "- Step 2. Pre-processing of data:\n",
    " - Convert types\n",
    " - Check the correctness of column names\n",
    " - Rename the columns (size, spaces and actual title)\n",
    " - Study missing values\n",
    " - Study incorrect value\n",
    "   - total_call_duration < call_duration\n",
    "   - call_duration > 0 and is_missed_call = True\n",
    " - Study duplicate values<br />\n",
    "(try to identify the reason for the appearance of duplicates)\n",
    " - Remove duplicates\n",
    " - Recover missing and incorrectly entered data."
   ]
  },
  {
   "cell_type": "markdown",
   "metadata": {},
   "source": [
    "- Step 3. Exploratory data analysis.\n",
    " - Outliers:\n",
    "       - Build graphs to determine outliers\n",
    "      - Call duration > 8(6) hours (call_duration / total_call_duration)\n",
    "      - Call duration < 3 sec\n",
    "      - Number of calls (calls_count)\n",
    "      - Date\n",
    "       - Define the thresholds. Explain why this particular method was chosen and how the thresholds were determined.\n",
    "       - Remove outliers\n",
    " - How many customers use this service?\n",
    " - Plot distributions of tariffs between clients by month.\n",
    " - Plot distributions of the number of operators by clients.\n",
    " - Plot distributions of the number of calls by day / month.\n",
    " - Plot distributions of call duration by days / months / by clients\n",
    " - Study the share of internal/external calls(for each tariff plan)\n",
    " - Study the share of incoming/outgoing calls(for each tariff plan). Do you notice anything?\n",
    " - Study the share of missed calls by customers.<br /> Maybe some companies do not have enough operators, and therefore the share of missed calls is high?\n",
    " - How long do customers wait for a response? (on average per day by companies)\n",
    " \n",
    " \n",
    " \n",
    " \n",
    " \n",
    " \n",
    " \n",
    " "
   ]
  },
  {
   "cell_type": "markdown",
   "metadata": {},
   "source": [
    "- Step 4. Divide operators into effective/ineffective\n",
    " - Divide operators into types:<br />\n",
    "(this is useful for clustering operators and determining operator efficiency)\n",
    "   - Type A. Only incoming calls\n",
    "   - Type B. Outgoing calls only\n",
    "   - Type C. Both incoming and outgoing (universal).\n",
    " - Plot distribution of types of operators by clients.\n",
    " - Study the characteristics by which we can evaluate the operator's efficiency:\n",
    "   - Plot distributions of the number of outgoing calls for Type B operator\n",
    "   - Plot distributions of the duration of outgoing calls for Type B operator.\n",
    "   - Plot distributions of incoming calls for Type A and Type C operators.\n",
    "   - Plot distributions of waiting time for Type A and Type C operators.\n",
    "   - The proportion of missed/incoming calls for Type C operators\n",
    " - Point X. Define the effective/ineffective operator thresholds for each type.   \n",
    " - Ineffective operator criterion.\n",
    "   - Type A: The number of missed calls or the waiting time is more than set in point X. We also need to estimate the duration of the calls made.\n",
    "   - Type B: Duration or number of calls is less than set in point X.\n",
    "   - Type C: For each operator, the thresholds (number of missed calls or waiting time) will be individually defined depending on the number of outgoing calls. It is possible that an operator has poor indicators in terms of waiting time and the number of missed calls, but an excellent indicator of outgoing calls. In this case, the operator cannot be called ineffective, but you need to inform the client that the forwarding is incorrectly configured or there are not enough operators. And it is necessary to advise the client to allocate additional operators to incoming calls from clients.\n",
    " - Assign a rating to the operator. (effective/ineffective)\n",
    " - Plot distributions of the company by the share of ineffective operators (including with a breakdown by tariff type)"
   ]
  },
  {
   "cell_type": "markdown",
   "metadata": {},
   "source": [
    "- Step 5. Test the following hypotheses:\n",
    " - The more calls the operators have per day, the more missed calls she has.\n",
    " - The fewer operators a client has the more missed calls.\n",
    " - Operators who both incoming calls and outgoing calls have more missed calls than operators who only incoming calls.\n",
    " - The share of missed calls on weekends is higher than on weekdays. (If this hypothesis is confirmed, it means that not enough operators work on weekends)"
   ]
  },
  {
   "cell_type": "markdown",
   "metadata": {},
   "source": [
    "- Step 6. Prediction\n",
    " - Carry out exploratory data analysis\n",
    "   - Compare the average values of features in two groups\n",
    "   - Plot distributions of characteristics among two types of operators.\n",
    "   - Correlation matrix between operator features\n",
    " - Create operator clusters\n",
    "   - Standardize the data and plot a dendrogram\n",
    "   - Divide the data into train and validation sets.\n",
    "   - Train the model on the train set with \"K-means\" algorithm.\n",
    "   - The mean feature values for clusters.\n",
    "   - Plot distributions of features for the clusters.\n",
    "   - Calculate the efficiency ratio for each cluster\n",
    " - Conclusion\n",
    "\n",
    "\n"
   ]
  },
  {
   "cell_type": "markdown",
   "metadata": {},
   "source": [
    "- Conclusions and basic recommendations\n",
    "  - Write an overall conclusion.\n",
    "  - Recommendations.\n",
    "- Dashboard\n",
    "- List of references.\n",
    "- Presentation"
   ]
  },
  {
   "cell_type": "code",
   "execution_count": null,
   "metadata": {},
   "outputs": [],
   "source": []
  }
 ],
 "metadata": {
  "kernelspec": {
   "display_name": "Python 3",
   "language": "python",
   "name": "python3"
  },
  "language_info": {
   "codemirror_mode": {
    "name": "ipython",
    "version": 3
   },
   "file_extension": ".py",
   "mimetype": "text/x-python",
   "name": "python",
   "nbconvert_exporter": "python",
   "pygments_lexer": "ipython3",
   "version": "3.7.8"
  },
  "toc": {
   "base_numbering": 1,
   "nav_menu": {},
   "number_sections": true,
   "sideBar": true,
   "skip_h1_title": true,
   "title_cell": "Table of Contents",
   "title_sidebar": "Contents",
   "toc_cell": false,
   "toc_position": {},
   "toc_section_display": true,
   "toc_window_display": false
  }
 },
 "nbformat": 4,
 "nbformat_minor": 5
}
