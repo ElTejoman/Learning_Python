{
 "cells": [
  {
   "cell_type": "markdown",
   "metadata": {},
   "source": [
    "# **Teoría de la probabilidad**\n",
    "\n",
    "Nadie puede predecir el futuro con un 100% de seguridad, pero los estadísticos son capaces de calcular la probabilidad de varios resultados en situaciones muy diversas. Aunque no resuelve todos los problemas, hace nuestra vida más fácil y predecible.\n",
    "En este capítulo, descubrirás cómo calcular las probabilidades de distintos eventos utilizando datos diferentes.\n",
    "\n",
    "Aprenderé:\n",
    "\n",
    "- Fórmulas básicas para calcular la probabilidad de eventos únicos y múltiples.\n",
    "- Fundamentos de combinatoria.\n",
    "- Tipos de distribución de características, incluidas la binomial y la normal.\n",
    "- Utilizar Python para resolver problemas relacionados con el cálculo de probabilidades."
   ]
  },
  {
   "cell_type": "markdown",
   "metadata": {},
   "source": [
    "En estadística, utilizamos la letra P para denotar probabilidad y la letra A para denotar un evento de nuestro interés. Por lo tanto, la notación P(A) describe la probabilidad del evento A.\n",
    "El P(A) puede calcularse del siguiente modo:\n",
    "\n",
    "`# de resultados que satisfacen el evento\n",
    "\n",
    "`-----------------------------------------\n",
    "\n",
    "` de resultados que satisfacen el evento\n",
    "​\n",
    " \n",
    "Si el evento A se define como \"tirar un número de 5 o mayor\", entonces P(A) es (1 + 1) / 6 = 1/3.\n",
    "\n",
    "## Eventos y espacios muestrales\n",
    "\n",
    "El conjunto de todos los resultados posibles de un experimento se denomina espacio muestral, normalmente denotado con S.\n",
    "\n",
    "Para ilustrarlo, consideremos el ejemplo de lanzar un solo dado. El espacio de muestra asociado a este evento es:\n",
    "\n",
    "S={1,2,3,4,5,6}\n",
    "\n",
    "**Por ejemplo, supongamos que el evento A es \"sacar un número menor que 3\". Después de examinar el espacio muestral, observamos que hay dos números que son menores que 3. Por consiguiente, la probabilidad del evento A, representada por P(A), donde P representa la probabilidad, es 2 (el número de resultados que satisfacen A) dividido entre 6 (la longitud de S).**"
   ]
  },
  {
   "cell_type": "markdown",
   "metadata": {},
   "source": [
    "**Ejemplo 1:**\n",
    "\n",
    "Volvamos al ejemplo de los billetes de lotería. Tenemos el mismo conjunto que antes, pero los resultados han cambiado. El billete #1 gana $100, los billetes #2 y #3 ganan $10 cada uno, el billete #4 gana otro billete de lotería y los billetes restantes no son ganadores. ¿Qué es S en esta situación?\n",
    "\n",
    "**{#1 ($100), #2 ($10), #3 ($10), #4 (new ticket), #5 (-), #6 (-), #7 (-), #8 (-), #9 (-), #10 (-)}**\n",
    "*Todos y cada uno de los billetes deben incluirse en el espacio muestral.*"
   ]
  },
  {
   "cell_type": "markdown",
   "metadata": {},
   "source": [
    "**Ejemplo 2:**\n",
    "\n",
    "El documento analiza el espacio muestral de tirar dos dados, donde cada par es el resultado del primer y segundo dado. Con sólo añadir una tirada más, el espacio muestral pasa de 6 a 36 resultados. Como cada dado es independiente, los 36 resultados tienen la misma probabilidad de ocurrir. Las probabilidades pueden calcularse de la misma manera.\n",
    "\n",
    "Se lanzan dos dados. Que sea el evento A \"la suma de los dos dados es 5\". ¿Qué es P(A)?\n",
    "\n",
    "**4/36**\n",
    "\n",
    "*Hay cuatro combinaciones posibles: {1, 4}, {4, 1}, {2, 3}, {3, 2}. Por lo tanto, tenemos que poner 4 en el numerador y 36 (el número total de resultados posibles) en el denominador.*"
   ]
  },
  {
   "cell_type": "markdown",
   "metadata": {},
   "source": [
    "## Ley de los grandes números\n",
    "\n",
    "La ley de los grandes números establece que, a medida que el número de lanzamientos se acerca al infinito, la frecuencia relativa de este evento se aproximará a la verdadera probabilidad del evento.\n",
    "\n",
    "## Probabilidades del espacio muestral en Python\n",
    "\n",
    "En Python, los cálculos de probabilidad simples basados en espacios muestrales como estos se pueden realizar fácilmente usando el operador lógico == y la función len().\n",
    "\n",
    "- Utilizar == identificará las filas que satisfacen tu evento.\n",
    "- len() proporcionará el recuento de filas que satisfacen tu evento.\n",
    "\n",
    "Aquí te mostramos un ejemplo.\n",
    "\n",
    "Has creado una lista de reproducción en la aplicación Spotify con dos columnas: 'Artist' y 'Song'."
   ]
  },
  {
   "cell_type": "code",
   "execution_count": 1,
   "metadata": {},
   "outputs": [
    {
     "name": "stdout",
     "output_type": "stream",
     "text": [
      "       Artist                        Song\n",
      "0       Queen         The Show Must Go On\n",
      "1       Queen  Another One Bites The Dust\n",
      "2       Queen            We Will Rock You\n",
      "3  Pink Floyd          Wish You Were Here\n",
      "4     Nirvana     Smells Like Teen Spirit\n",
      "5       AC/DC             Highway To Hell\n",
      "6       AC/DC               Back in Black\n",
      "7   Scorpions              Wind Of Change\n",
      "8   Scorpions            Still Loving You\n",
      "9   Scorpions            Send Me An Angel\n"
     ]
    }
   ],
   "source": [
    "import pandas as pd\n",
    "\n",
    "cool_rock = pd.DataFrame(\n",
    "    {\n",
    "        'Artist': [\n",
    "            'Queen',\n",
    "            'Queen',\n",
    "            'Queen',\n",
    "            'Pink Floyd',\n",
    "            'Nirvana',\n",
    "            'AC/DC',\n",
    "            'AC/DC',\n",
    "            'Scorpions',\n",
    "            'Scorpions',\n",
    "            'Scorpions',\n",
    "        ],\n",
    "        'Song': [\n",
    "            'The Show Must Go On',\n",
    "            'Another One Bites The Dust',\n",
    "            'We Will Rock You',\n",
    "            'Wish You Were Here',\n",
    "            'Smells Like Teen Spirit',\n",
    "            'Highway To Hell',\n",
    "            'Back in Black',\n",
    "            'Wind Of Change',\n",
    "            'Still Loving You',\n",
    "            'Send Me An Angel',\n",
    "        ],\n",
    "    }\n",
    ")\n",
    "print(cool_rock)"
   ]
  },
  {
   "cell_type": "markdown",
   "metadata": {},
   "source": [
    "Suponiendo que pulses aleatorio, cada canción de la lista de artistas + canciones tiene la misma probabilidad de tocar primero. Esta lista es nuestro espacio de muestra.\n",
    "\n",
    "¿Cuál es la probabilidad de que la primera canción que suene sea \"Smells Like Teen Spirit\"?\n",
    "\n",
    "Usa == para identificar los resultados que satisfacen este evento y usa len() dos veces: una para contar el número de resultados que satisfacen el evento y otra vez para contar el tamaño del espacio muestral."
   ]
  },
  {
   "cell_type": "code",
   "execution_count": 2,
   "metadata": {},
   "outputs": [
    {
     "name": "stdout",
     "output_type": "stream",
     "text": [
      "0.1\n"
     ]
    }
   ],
   "source": [
    "print(len(cool_rock[cool_rock[\"Song\"] == \"Smells Like Teen Spirit\"]) / len(cool_rock))"
   ]
  },
  {
   "cell_type": "markdown",
   "metadata": {},
   "source": [
    "Utiliza la variable desired_outcomes para almacenar el número de resultados deseados, total_outcomes para almacenar el número total de resultados, y probability para el resultado final.\n"
   ]
  },
  {
   "cell_type": "code",
   "execution_count": 4,
   "metadata": {},
   "outputs": [
    {
     "name": "stdout",
     "output_type": "stream",
     "text": [
      "0.3\n"
     ]
    }
   ],
   "source": [
    "import pandas as pd\n",
    "\n",
    "cool_rock = pd.DataFrame(\n",
    "    {\n",
    "        \"Artist\": [\n",
    "            \"Queen\",\n",
    "            \"Queen\",\n",
    "            \"Queen\",\n",
    "            \"Pink Floyd\",\n",
    "            \"Nirvana\",\n",
    "            \"AC/DC\",\n",
    "            \"AC/DC\",\n",
    "            \"Scorpions\",\n",
    "            \"Scorpions\",\n",
    "            \"Scorpions\",\n",
    "        ],\n",
    "        \"Song\": [\n",
    "            \"The Show Must Go On\",\n",
    "            \"Another One Bites The Dust\",\n",
    "            \"We Will Rock You\",\n",
    "            \"Wish You Were Here\",\n",
    "            \"Smells Like Teen Spirit\",\n",
    "            \"Highway To Hell\",\n",
    "            \"Back in Black\",\n",
    "            \"Wind Of Change\",\n",
    "            \"Still Loving You\",\n",
    "            \"Send Me An Angel\",\n",
    "        ],\n",
    "    }\n",
    ")\n",
    "\n",
    "desired_artist = \"Queen\"\n",
    "\n",
    "desired_outcomes = len(\n",
    "    cool_rock[cool_rock[\"Artist\"] == \"Queen\"]\n",
    ")  #  código para encontrar el número de resultados deseados\n",
    "total_outcomes = len(\n",
    "    cool_rock\n",
    ")  #  código para encontrar el número de resultados totales\n",
    "probability = (\n",
    "    desired_outcomes / total_outcomes\n",
    ")  #  código para calcular la probabilidad\n",
    "\n",
    "print(probability)\n",
    "\n",
    "#0.3 indica qe hay un 30% de probabilidad de salir"
   ]
  },
  {
   "cell_type": "markdown",
   "metadata": {},
   "source": [
    "# ============================\n",
    "\n",
    "# Eventos independientes, multiplicacion de probabilidades\n",
    "# ======================\n",
    "\n",
    "# Eventos independientes, multiplicacion de probabilidades\n",
    "\n",
    "Supongamos que lanzas dos dados, cada uno con la misma probabilidad de sacar un número del 1 al 6. Digamos que nos interesa la suma total que se obtiene cuando se tiran los dos dados\n",
    "\n",
    "Podemos reformular esta pregunta de la siguiente manera: ¿Cuál es la probabilidad de tirar dos dados y obtener una suma superior a 8?\n",
    "Si definimos el evento A como \"obtener una suma superior a 8\", entonces la probabilidad de A es P(A) = 10/36 = 27.7%.\n",
    "\n",
    "# Fundamentos de combinatoria y otros problemas de probabilidad\n",
    "\n",
    "Imagina que estás trabajando en un proyecto para desarrollar una nueva aplicación móvil. El proyecto acaba de empezar y te han invitado a colaborar en la resolución de posibles problemas relacionados con la selección de personal.\n",
    "\n",
    "Los reclutadores han seleccionado a 5 candidatos para el puesto de programadores, pero solo se necesitan tres para tu proyecto. Los dos candidatos restantes serán asignados a otros equipos. Uno de los candidatos es un conocido tuyo, con el que te gustaría trabajar juntos.\n",
    "\n",
    "La responsable de RRHH tiene previsto entrevistar a cada uno de los 5 candidatos. Si el orden de las entrevistas es aleatorio, ¿cuál es la probabilidad de que tu conocido sea entrevistado en primer lugar?\n",
    "\n",
    "> **1/5** \n",
    "\n",
    "*Solo hay 5 candidatos, y cada uno de ellos tiene la misma probabilidad de ser el primero en ser entrevistado. Por lo tanto, la probabilidad para cada candidato de ser el primero en ser entrevistado es de 1/5.*\n",
    "\n",
    "La responsable de RRHH ha solicitado tu ayuda para seleccionar opciones para la secuencia de invitación a entrevistas de los candidatos. Sin embargo, ¿cómo podemos elaborar esta lista?\n",
    "\n",
    "\n",
    "### Permutaciones. Calcular el factorial\n",
    "\n",
    "El problema con el que te enfrentas es contar el número de posibles permutaciones. Aquí hay otro ejemplo de tal problema.\n",
    "Una escuela online ofreció a un estudiante tres cursos gratuitos:\n",
    "\n",
    "- ¿Cómo escribir un currículum eficaz?\n",
    "- Ayuda profesional en orientación profesional.\n",
    "- ¡Mejora tus habilidades para las entrevistas!\n",
    "\n",
    "Estos cursos pueden tomarse en cualquier orden. ¿Cuántos itinerarios educativos diferentes pueden crearse a partir de estos cursos?\n",
    "\n",
    "Para calcular el número de permutaciones de n elementos, los matemáticos utilizan la fórmula:\n",
    "\n",
    ">Pn=n!\n",
    "\n",
    "Este signo se llama factorial y significa el producto de números naturales de 1 a n. En otras palabras,\n",
    "\n",
    ">n!=1⋅2⋅3⋅...⋅(n−1)⋅n\n",
    "\n",
    "Así, para tres cursos diferentes, hay 3! = 1 x 2 x 3 = 6 itinerarios educativos diferentes."
   ]
  },
  {
   "cell_type": "markdown",
   "metadata": {},
   "source": [
    "# Calcular factoriales en python\n",
    "\n",
    "Cuando el valor de n es pequeño, n! puede calcularse mentalmente. Para valores mayores de n, resulta más cómodo automatizar el proceso. Para ello, puedes utilizar la función factorial() del módulo math de la librería estándar de Python.\n"
   ]
  },
  {
   "cell_type": "code",
   "execution_count": 1,
   "metadata": {},
   "outputs": [
    {
     "name": "stdout",
     "output_type": "stream",
     "text": [
      "6\n"
     ]
    }
   ],
   "source": [
    "# importa la función factorial del módulo matemático\n",
    "from math import factorial\n",
    "\n",
    "# define el número necesario de cursos\n",
    "courses_amount = 3\n",
    "\n",
    "# calcula el factorial de 3 (el valor de la variable courses_amount)\n",
    "result = factorial(courses_amount)\n",
    "\n",
    "# muestra el resultado\n",
    "print(result)\n"
   ]
  },
  {
   "cell_type": "markdown",
   "metadata": {},
   "source": [
    "Se seleccionaron cinco candidatos para el proyecto. La responsable de RRHH quiere entrevistar a cada uno de ellos, pero no puede decidir en qué orden va a llamar a los candidatos. Completa el siguiente código que calculará cuántas opciones de listas se pueden hacer, en las que cinco candidatos están ordenados en un orden diferente.\n",
    "\n",
    "Guarda el resultado de los cálculos en la variable lists_amount. Muestra la variable."
   ]
  },
  {
   "cell_type": "code",
   "execution_count": 3,
   "metadata": {},
   "outputs": [
    {
     "name": "stdout",
     "output_type": "stream",
     "text": [
      "120\n"
     ]
    }
   ],
   "source": [
    "from math import factorial\n",
    "\n",
    "candidates_amount = 5\n",
    "\n",
    "lists_amount = factorial(candidates_amount) # agrega aquí tu código\n",
    "print(lists_amount)\n",
    "\n",
    "#En pocas palabras, tienen 120 opciones de orden para poder llamarlos."
   ]
  },
  {
   "cell_type": "markdown",
   "metadata": {},
   "source": [
    "A la responsable de RRHH se le ha ocurrido una nueva idea: ¿qué pasaría si, en lugar de seleccionar candidatos individuales, buscara directamente al equipo perfecto? Para ello, la responsable debe comprender cuántas maneras hay de formar equipos de tres personas, seleccionándolas entre cinco candidatos. Esto le permitirá programar los horarios de entrevistas para los equipos. ¿Puedes ayudar a resolver este problema?\n",
    "\n",
    "## Combinaciones\n",
    "\n",
    "Esta es una nueva tarea para ti, y antes de resolverla, tenemos que aprender una nueva fórmula: la fórmula para calcular el número de combinaciones de k elementos de n opciones posibles. \n",
    "\n",
    "Por ejemplo, si una cafetería vende 10 tipos de helado y quieres comprar tres diferentes, tienes: **120 opciones de combinaciones distintas**\n",
    "\n",
    "Ahora veamos lo mismo desde Python:"
   ]
  },
  {
   "cell_type": "code",
   "execution_count": 4,
   "metadata": {},
   "outputs": [
    {
     "name": "stdout",
     "output_type": "stream",
     "text": [
      "120.0\n"
     ]
    }
   ],
   "source": [
    "from math import factorial\n",
    "\n",
    "# define los valores para las variables n y k\n",
    "n = 10\n",
    "k = 3\n",
    "\n",
    "# realiza los cálculos\n",
    "combinations = factorial(n) / (factorial(k) * factorial(n-k))\n",
    "print(combinations)"
   ]
  },
  {
   "cell_type": "markdown",
   "metadata": {},
   "source": [
    "Ahora estás listo para ayudar a la responsable de RRHH y determinar el número de franjas horarias necesarias para entrevistar a todas las posibles formaciones del equipo.\n",
    "Completa el siguiente código para determinar el número de maneras para formar equipos de tres personas seleccionándolas entre cinco candidatos.\n",
    "\n",
    "Guarda el resultado de los cálculos en la variable combinations e imprímela."
   ]
  },
  {
   "cell_type": "code",
   "execution_count": 5,
   "metadata": {},
   "outputs": [
    {
     "name": "stdout",
     "output_type": "stream",
     "text": [
      "10.0\n"
     ]
    }
   ],
   "source": [
    "from math import factorial\n",
    "\n",
    "n = 5\n",
    "k = 3\n",
    "\n",
    "combinations = factorial(n)/(factorial(k)*factorial(n-k))\n",
    "print(combinations)\n",
    "\n",
    "#¡Tenemos buenas noticias! ¡Se han reservado las franjas horarias para 10 entrevistas!"
   ]
  },
  {
   "cell_type": "markdown",
   "metadata": {},
   "source": [
    "# Uso de fórmulas combinatorias para calcular probabilidades\n",
    "\n",
    "Tu capacidad para contar los posibles resultados de eventos complejos te permite determinar las probabilidades de distintos resultados o combinaciones de resultados.\n",
    "\n",
    "Para completar todos los ejercicios siguientes, tendrás que utilizar fórmulas para calcular permutaciones o combinaciones y determinar el número total de resultados posibles. A continuación, puedes dividir el número de resultados deseados entre este resultado para determinar la probabilidad."
   ]
  },
  {
   "cell_type": "markdown",
   "metadata": {},
   "source": [
    "# Ejercicios\n",
    "\n",
    "**Ejercicio 1**\n",
    "\n",
    "Estás desarrollando con tus amigos un juego de búsqueda que consta de 10 tareas diferentes. Las tareas pueden realizarse en cualquier orden, pero solo una secuencia de todas las existentes permite a los jugadores ganar el superpremio. ¿Cuál es la probabilidad de ganar el superpremio, suponiendo que la probabilidad de elegir cada tarea en cualquier fase de la búsqueda es la misma?\n",
    "\n",
    "Completa el código siguiente para calcular la probabilidad. Utiliza las siguientes variables:\n",
    "\n",
    "- tasks: para almacenar el número de tareas.\n",
    "- permutations: para almacenar el número de permutaciones.\n",
    "- probability: para almacenar la probabilidad de elegir la única secuencia de tareas que permite a los jugadores ganar el superpremio.\n",
    "\n"
   ]
  },
  {
   "cell_type": "code",
   "execution_count": 6,
   "metadata": {},
   "outputs": [
    {
     "name": "stdout",
     "output_type": "stream",
     "text": [
      "2.755731922398589e-07\n"
     ]
    }
   ],
   "source": [
    "from math import factorial\n",
    "\n",
    "tasks = 10# introduce aquí el número de tareas\n",
    "permutations = factorial (tasks) # calcula aquí el número total de secuencias de tareas posibles\n",
    "probability =  1/ permutations# calcula aquí la probabilidad de seleccionar la única combinación ganadora\n",
    "\n",
    "print(probability)\n",
    "\n",
    "\n",
    "#¡Increíble! ¡La probabilidad de ganar el superpremio es inferior al 0.00003%! ¡Recuérdalo la próxima vez que quieras jugar a la lotería 😜!"
   ]
  },
  {
   "cell_type": "markdown",
   "metadata": {},
   "source": [
    "**Ejercicio 2**\n",
    "\n",
    "Como los clientes no estaban satisfechos con la dificultad de ganar el superpremio, cambiaste las reglas. Ahora, los jugadores pueden elegir las tres tareas con las que quieren empezar el juego. El orden de las tareas no importa, lo importante es la combinación. Si los jugadores consiguen adivinar la \"combinación secreta\", recibirán un código promocional de descuento.\n",
    "\n",
    "Para garantizar la equidad, debes calcular la probabilidad de obtener el código promocional utilizando las siguientes variables:\n",
    "\n",
    "- tasks: número total de tareas disponibles.\n",
    "- chosen: número de tareas elegidas al principio del juego.\n",
    "- combinations: número total de combinaciones posibles de 3 tareas de las 10 disponibles.\n",
    "- probability: probabilidad final de obtener el código promocional.\n",
    "\n",
    "Implementa un programa que calcule la probabilidad de obtener el código promocional utilizando las variables anteriores."
   ]
  },
  {
   "cell_type": "code",
   "execution_count": 1,
   "metadata": {},
   "outputs": [
    {
     "name": "stdout",
     "output_type": "stream",
     "text": [
      "0.008333333333333333\n"
     ]
    }
   ],
   "source": [
    "from math import factorial\n",
    "\n",
    "tasks = 10  # introduce aquí el número total de tareas\n",
    "chosen = 3  # introduce aquí el número de tareas a elegir\n",
    "\n",
    "combinations = factorial(tasks) / (\n",
    "    factorial(chosen) * factorial(tasks - chosen)\n",
    ")  # calcula el número de combinaciones disponibles\n",
    "probability = 1 / combinations  # calcula aquí el resultado final\n",
    "\n",
    "print(probability)\n",
    "\n",
    "# ¡La posibilidad de obtener un código promocional es casi del 1%! ¡Seguro que muchos clientes se animarán a probar suerte!"
   ]
  }
 ],
 "metadata": {
  "kernelspec": {
   "display_name": "Python 3",
   "language": "python",
   "name": "python3"
  },
  "language_info": {
   "codemirror_mode": {
    "name": "ipython",
    "version": 3
   },
   "file_extension": ".py",
   "mimetype": "text/x-python",
   "name": "python",
   "nbconvert_exporter": "python",
   "pygments_lexer": "ipython3",
   "version": "3.11.7"
  }
 },
 "nbformat": 4,
 "nbformat_minor": 2
}
