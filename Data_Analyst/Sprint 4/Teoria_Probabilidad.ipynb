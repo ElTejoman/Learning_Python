{
 "cells": [
  {
   "cell_type": "markdown",
   "metadata": {},
   "source": [
    "# **Teoría de la probabilidad**\n",
    "\n",
    "Nadie puede predecir el futuro con un 100% de seguridad, pero los estadísticos son capaces de calcular la probabilidad de varios resultados en situaciones muy diversas. Aunque no resuelve todos los problemas, hace nuestra vida más fácil y predecible.\n",
    "En este capítulo, descubrirás cómo calcular las probabilidades de distintos eventos utilizando datos diferentes.\n",
    "\n",
    "Aprenderé:\n",
    "\n",
    "- Fórmulas básicas para calcular la probabilidad de eventos únicos y múltiples.\n",
    "- Fundamentos de combinatoria.\n",
    "- Tipos de distribución de características, incluidas la binomial y la normal.\n",
    "- Utilizar Python para resolver problemas relacionados con el cálculo de probabilidades."
   ]
  },
  {
   "cell_type": "markdown",
   "metadata": {},
   "source": [
    "En estadística, utilizamos la letra P para denotar probabilidad y la letra A para denotar un evento de nuestro interés. Por lo tanto, la notación P(A) describe la probabilidad del evento A.\n",
    "El P(A) puede calcularse del siguiente modo:\n",
    "\n",
    "`# de resultados que satisfacen el evento\n",
    "\n",
    "`-----------------------------------------\n",
    "\n",
    "` de resultados que satisfacen el evento\n",
    "​\n",
    " \n",
    "Si el evento A se define como \"tirar un número de 5 o mayor\", entonces P(A) es (1 + 1) / 6 = 1/3.\n",
    "\n",
    "## Eventos y espacios muestrales\n",
    "\n",
    "El conjunto de todos los resultados posibles de un experimento se denomina espacio muestral, normalmente denotado con S.\n",
    "\n",
    "Para ilustrarlo, consideremos el ejemplo de lanzar un solo dado. El espacio de muestra asociado a este evento es:\n",
    "\n",
    "S={1,2,3,4,5,6}\n",
    "\n",
    "**Por ejemplo, supongamos que el evento A es \"sacar un número menor que 3\". Después de examinar el espacio muestral, observamos que hay dos números que son menores que 3. Por consiguiente, la probabilidad del evento A, representada por P(A), donde P representa la probabilidad, es 2 (el número de resultados que satisfacen A) dividido entre 6 (la longitud de S).**"
   ]
  },
  {
   "cell_type": "markdown",
   "metadata": {},
   "source": [
    "**Ejemplo 1:**\n",
    "\n",
    "Volvamos al ejemplo de los billetes de lotería. Tenemos el mismo conjunto que antes, pero los resultados han cambiado. El billete #1 gana $100, los billetes #2 y #3 ganan $10 cada uno, el billete #4 gana otro billete de lotería y los billetes restantes no son ganadores. ¿Qué es S en esta situación?\n",
    "\n",
    "**{#1 ($100), #2 ($10), #3 ($10), #4 (new ticket), #5 (-), #6 (-), #7 (-), #8 (-), #9 (-), #10 (-)}**\n",
    "*Todos y cada uno de los billetes deben incluirse en el espacio muestral.*"
   ]
  },
  {
   "cell_type": "markdown",
   "metadata": {},
   "source": [
    "**Ejemplo 2:**\n",
    "\n",
    "El documento analiza el espacio muestral de tirar dos dados, donde cada par es el resultado del primer y segundo dado. Con sólo añadir una tirada más, el espacio muestral pasa de 6 a 36 resultados. Como cada dado es independiente, los 36 resultados tienen la misma probabilidad de ocurrir. Las probabilidades pueden calcularse de la misma manera.\n",
    "\n",
    "Se lanzan dos dados. Que sea el evento A \"la suma de los dos dados es 5\". ¿Qué es P(A)?\n",
    "\n",
    "**4/36**\n",
    "\n",
    "*Hay cuatro combinaciones posibles: {1, 4}, {4, 1}, {2, 3}, {3, 2}. Por lo tanto, tenemos que poner 4 en el numerador y 36 (el número total de resultados posibles) en el denominador.*"
   ]
  },
  {
   "cell_type": "markdown",
   "metadata": {},
   "source": [
    "## Ley de los grandes números\n",
    "\n",
    "La ley de los grandes números establece que, a medida que el número de lanzamientos se acerca al infinito, la frecuencia relativa de este evento se aproximará a la verdadera probabilidad del evento.\n",
    "\n",
    "## Probabilidades del espacio muestral en Python\n",
    "\n",
    "En Python, los cálculos de probabilidad simples basados en espacios muestrales como estos se pueden realizar fácilmente usando el operador lógico == y la función len().\n",
    "\n",
    "- Utilizar == identificará las filas que satisfacen tu evento.\n",
    "- len() proporcionará el recuento de filas que satisfacen tu evento.\n",
    "\n",
    "Aquí te mostramos un ejemplo.\n",
    "\n",
    "Has creado una lista de reproducción en la aplicación Spotify con dos columnas: 'Artist' y 'Song'."
   ]
  },
  {
   "cell_type": "code",
   "execution_count": 1,
   "metadata": {},
   "outputs": [
    {
     "name": "stdout",
     "output_type": "stream",
     "text": [
      "       Artist                        Song\n",
      "0       Queen         The Show Must Go On\n",
      "1       Queen  Another One Bites The Dust\n",
      "2       Queen            We Will Rock You\n",
      "3  Pink Floyd          Wish You Were Here\n",
      "4     Nirvana     Smells Like Teen Spirit\n",
      "5       AC/DC             Highway To Hell\n",
      "6       AC/DC               Back in Black\n",
      "7   Scorpions              Wind Of Change\n",
      "8   Scorpions            Still Loving You\n",
      "9   Scorpions            Send Me An Angel\n"
     ]
    }
   ],
   "source": [
    "import pandas as pd\n",
    "\n",
    "cool_rock = pd.DataFrame(\n",
    "    {\n",
    "        'Artist': [\n",
    "            'Queen',\n",
    "            'Queen',\n",
    "            'Queen',\n",
    "            'Pink Floyd',\n",
    "            'Nirvana',\n",
    "            'AC/DC',\n",
    "            'AC/DC',\n",
    "            'Scorpions',\n",
    "            'Scorpions',\n",
    "            'Scorpions',\n",
    "        ],\n",
    "        'Song': [\n",
    "            'The Show Must Go On',\n",
    "            'Another One Bites The Dust',\n",
    "            'We Will Rock You',\n",
    "            'Wish You Were Here',\n",
    "            'Smells Like Teen Spirit',\n",
    "            'Highway To Hell',\n",
    "            'Back in Black',\n",
    "            'Wind Of Change',\n",
    "            'Still Loving You',\n",
    "            'Send Me An Angel',\n",
    "        ],\n",
    "    }\n",
    ")\n",
    "print(cool_rock)"
   ]
  },
  {
   "cell_type": "markdown",
   "metadata": {},
   "source": [
    "Suponiendo que pulses aleatorio, cada canción de la lista de artistas + canciones tiene la misma probabilidad de tocar primero. Esta lista es nuestro espacio de muestra.\n",
    "\n",
    "¿Cuál es la probabilidad de que la primera canción que suene sea \"Smells Like Teen Spirit\"?\n",
    "\n",
    "Usa == para identificar los resultados que satisfacen este evento y usa len() dos veces: una para contar el número de resultados que satisfacen el evento y otra vez para contar el tamaño del espacio muestral."
   ]
  },
  {
   "cell_type": "code",
   "execution_count": 2,
   "metadata": {},
   "outputs": [
    {
     "name": "stdout",
     "output_type": "stream",
     "text": [
      "0.1\n"
     ]
    }
   ],
   "source": [
    "print(len(cool_rock[cool_rock[\"Song\"] == \"Smells Like Teen Spirit\"]) / len(cool_rock))"
   ]
  },
  {
   "cell_type": "markdown",
   "metadata": {},
   "source": [
    "Utiliza la variable desired_outcomes para almacenar el número de resultados deseados, total_outcomes para almacenar el número total de resultados, y probability para el resultado final.\n"
   ]
  },
  {
   "cell_type": "code",
   "execution_count": 4,
   "metadata": {},
   "outputs": [
    {
     "name": "stdout",
     "output_type": "stream",
     "text": [
      "0.3\n"
     ]
    }
   ],
   "source": [
    "import pandas as pd\n",
    "\n",
    "cool_rock = pd.DataFrame(\n",
    "    {\n",
    "        \"Artist\": [\n",
    "            \"Queen\",\n",
    "            \"Queen\",\n",
    "            \"Queen\",\n",
    "            \"Pink Floyd\",\n",
    "            \"Nirvana\",\n",
    "            \"AC/DC\",\n",
    "            \"AC/DC\",\n",
    "            \"Scorpions\",\n",
    "            \"Scorpions\",\n",
    "            \"Scorpions\",\n",
    "        ],\n",
    "        \"Song\": [\n",
    "            \"The Show Must Go On\",\n",
    "            \"Another One Bites The Dust\",\n",
    "            \"We Will Rock You\",\n",
    "            \"Wish You Were Here\",\n",
    "            \"Smells Like Teen Spirit\",\n",
    "            \"Highway To Hell\",\n",
    "            \"Back in Black\",\n",
    "            \"Wind Of Change\",\n",
    "            \"Still Loving You\",\n",
    "            \"Send Me An Angel\",\n",
    "        ],\n",
    "    }\n",
    ")\n",
    "\n",
    "desired_artist = \"Queen\"\n",
    "\n",
    "desired_outcomes = len(\n",
    "    cool_rock[cool_rock[\"Artist\"] == \"Queen\"]\n",
    ")  #  código para encontrar el número de resultados deseados\n",
    "total_outcomes = len(\n",
    "    cool_rock\n",
    ")  #  código para encontrar el número de resultados totales\n",
    "probability = (\n",
    "    desired_outcomes / total_outcomes\n",
    ")  #  código para calcular la probabilidad\n",
    "\n",
    "print(probability)\n",
    "\n",
    "#0.3 indica qe hay un 30% de probabilidad de salir"
   ]
  },
  {
   "cell_type": "markdown",
   "metadata": {},
   "source": [
    "# ============================\n",
    "\n",
    "# Eventos independientes, multiplicacion de probabilidades\n",
    "# ======================\n",
    "\n",
    "# Eventos independientes, multiplicacion de probabilidades\n",
    "\n",
    "Supongamos que lanzas dos dados, cada uno con la misma probabilidad de sacar un número del 1 al 6. Digamos que nos interesa la suma total que se obtiene cuando se tiran los dos dados\n",
    "\n",
    "Podemos reformular esta pregunta de la siguiente manera: ¿Cuál es la probabilidad de tirar dos dados y obtener una suma superior a 8?\n",
    "Si definimos el evento A como \"obtener una suma superior a 8\", entonces la probabilidad de A es P(A) = 10/36 = 27.7%.\n",
    "\n",
    "# Fundamentos de combinatoria y otros problemas de probabilidad\n",
    "\n",
    "Imagina que estás trabajando en un proyecto para desarrollar una nueva aplicación móvil. El proyecto acaba de empezar y te han invitado a colaborar en la resolución de posibles problemas relacionados con la selección de personal.\n",
    "\n",
    "Los reclutadores han seleccionado a 5 candidatos para el puesto de programadores, pero solo se necesitan tres para tu proyecto. Los dos candidatos restantes serán asignados a otros equipos. Uno de los candidatos es un conocido tuyo, con el que te gustaría trabajar juntos.\n",
    "\n",
    "La responsable de RRHH tiene previsto entrevistar a cada uno de los 5 candidatos. Si el orden de las entrevistas es aleatorio, ¿cuál es la probabilidad de que tu conocido sea entrevistado en primer lugar?\n",
    "\n",
    "> **1/5** \n",
    "\n",
    "*Solo hay 5 candidatos, y cada uno de ellos tiene la misma probabilidad de ser el primero en ser entrevistado. Por lo tanto, la probabilidad para cada candidato de ser el primero en ser entrevistado es de 1/5.*\n",
    "\n",
    "La responsable de RRHH ha solicitado tu ayuda para seleccionar opciones para la secuencia de invitación a entrevistas de los candidatos. Sin embargo, ¿cómo podemos elaborar esta lista?\n",
    "\n",
    "\n",
    "### Permutaciones. Calcular el factorial\n",
    "\n",
    "El problema con el que te enfrentas es contar el número de posibles permutaciones. Aquí hay otro ejemplo de tal problema.\n",
    "Una escuela online ofreció a un estudiante tres cursos gratuitos:\n",
    "\n",
    "- ¿Cómo escribir un currículum eficaz?\n",
    "- Ayuda profesional en orientación profesional.\n",
    "- ¡Mejora tus habilidades para las entrevistas!\n",
    "\n",
    "Estos cursos pueden tomarse en cualquier orden. ¿Cuántos itinerarios educativos diferentes pueden crearse a partir de estos cursos?\n",
    "\n",
    "Para calcular el número de permutaciones de n elementos, los matemáticos utilizan la fórmula:\n",
    "\n",
    ">Pn=n!\n",
    "\n",
    "Este signo se llama factorial y significa el producto de números naturales de 1 a n. En otras palabras,\n",
    "\n",
    ">n!=1⋅2⋅3⋅...⋅(n−1)⋅n\n",
    "\n",
    "Así, para tres cursos diferentes, hay 3! = 1 x 2 x 3 = 6 itinerarios educativos diferentes."
   ]
  },
  {
   "cell_type": "markdown",
   "metadata": {},
   "source": [
    "# Calcular factoriales en python\n",
    "\n",
    "Cuando el valor de n es pequeño, n! puede calcularse mentalmente. Para valores mayores de n, resulta más cómodo automatizar el proceso. Para ello, puedes utilizar la función factorial() del módulo math de la librería estándar de Python.\n"
   ]
  },
  {
   "cell_type": "code",
   "execution_count": 1,
   "metadata": {},
   "outputs": [
    {
     "name": "stdout",
     "output_type": "stream",
     "text": [
      "6\n"
     ]
    }
   ],
   "source": [
    "# importa la función factorial del módulo matemático\n",
    "from math import factorial\n",
    "\n",
    "# define el número necesario de cursos\n",
    "courses_amount = 3\n",
    "\n",
    "# calcula el factorial de 3 (el valor de la variable courses_amount)\n",
    "result = factorial(courses_amount)\n",
    "\n",
    "# muestra el resultado\n",
    "print(result)\n"
   ]
  },
  {
   "cell_type": "markdown",
   "metadata": {},
   "source": [
    "Se seleccionaron cinco candidatos para el proyecto. La responsable de RRHH quiere entrevistar a cada uno de ellos, pero no puede decidir en qué orden va a llamar a los candidatos. Completa el siguiente código que calculará cuántas opciones de listas se pueden hacer, en las que cinco candidatos están ordenados en un orden diferente.\n",
    "\n",
    "Guarda el resultado de los cálculos en la variable lists_amount. Muestra la variable."
   ]
  },
  {
   "cell_type": "code",
   "execution_count": 3,
   "metadata": {},
   "outputs": [
    {
     "name": "stdout",
     "output_type": "stream",
     "text": [
      "120\n"
     ]
    }
   ],
   "source": [
    "from math import factorial\n",
    "\n",
    "candidates_amount = 5\n",
    "\n",
    "lists_amount = factorial(candidates_amount) # agrega aquí tu código\n",
    "print(lists_amount)\n",
    "\n",
    "#En pocas palabras, tienen 120 opciones de orden para poder llamarlos."
   ]
  },
  {
   "cell_type": "markdown",
   "metadata": {},
   "source": [
    "A la responsable de RRHH se le ha ocurrido una nueva idea: ¿qué pasaría si, en lugar de seleccionar candidatos individuales, buscara directamente al equipo perfecto? Para ello, la responsable debe comprender cuántas maneras hay de formar equipos de tres personas, seleccionándolas entre cinco candidatos. Esto le permitirá programar los horarios de entrevistas para los equipos. ¿Puedes ayudar a resolver este problema?\n",
    "\n",
    "## Combinaciones\n",
    "\n",
    "Esta es una nueva tarea para ti, y antes de resolverla, tenemos que aprender una nueva fórmula: la fórmula para calcular el número de combinaciones de k elementos de n opciones posibles. \n",
    "\n",
    "Por ejemplo, si una cafetería vende 10 tipos de helado y quieres comprar tres diferentes, tienes: **120 opciones de combinaciones distintas**\n",
    "\n",
    "Ahora veamos lo mismo desde Python:"
   ]
  },
  {
   "cell_type": "code",
   "execution_count": 4,
   "metadata": {},
   "outputs": [
    {
     "name": "stdout",
     "output_type": "stream",
     "text": [
      "120.0\n"
     ]
    }
   ],
   "source": [
    "from math import factorial\n",
    "\n",
    "# define los valores para las variables n y k\n",
    "n = 10\n",
    "k = 3\n",
    "\n",
    "# realiza los cálculos\n",
    "combinations = factorial(n) / (factorial(k) * factorial(n-k))\n",
    "print(combinations)"
   ]
  },
  {
   "cell_type": "markdown",
   "metadata": {},
   "source": [
    "Ahora estás listo para ayudar a la responsable de RRHH y determinar el número de franjas horarias necesarias para entrevistar a todas las posibles formaciones del equipo.\n",
    "Completa el siguiente código para determinar el número de maneras para formar equipos de tres personas seleccionándolas entre cinco candidatos.\n",
    "\n",
    "Guarda el resultado de los cálculos en la variable combinations e imprímela."
   ]
  },
  {
   "cell_type": "code",
   "execution_count": 5,
   "metadata": {},
   "outputs": [
    {
     "name": "stdout",
     "output_type": "stream",
     "text": [
      "10.0\n"
     ]
    }
   ],
   "source": [
    "from math import factorial\n",
    "\n",
    "n = 5\n",
    "k = 3\n",
    "\n",
    "combinations = factorial(n)/(factorial(k)*factorial(n-k))\n",
    "print(combinations)\n",
    "\n",
    "#¡Tenemos buenas noticias! ¡Se han reservado las franjas horarias para 10 entrevistas!"
   ]
  },
  {
   "cell_type": "markdown",
   "metadata": {},
   "source": [
    "# Uso de fórmulas combinatorias para calcular probabilidades\n",
    "\n",
    "Tu capacidad para contar los posibles resultados de eventos complejos te permite determinar las probabilidades de distintos resultados o combinaciones de resultados.\n",
    "\n",
    "Para completar todos los ejercicios siguientes, tendrás que utilizar fórmulas para calcular permutaciones o combinaciones y determinar el número total de resultados posibles. A continuación, puedes dividir el número de resultados deseados entre este resultado para determinar la probabilidad."
   ]
  },
  {
   "cell_type": "markdown",
   "metadata": {},
   "source": [
    "# Ejercicios\n",
    "\n",
    "**Ejercicio 1**\n",
    "\n",
    "Estás desarrollando con tus amigos un juego de búsqueda que consta de 10 tareas diferentes. Las tareas pueden realizarse en cualquier orden, pero solo una secuencia de todas las existentes permite a los jugadores ganar el superpremio. ¿Cuál es la probabilidad de ganar el superpremio, suponiendo que la probabilidad de elegir cada tarea en cualquier fase de la búsqueda es la misma?\n",
    "\n",
    "Completa el código siguiente para calcular la probabilidad. Utiliza las siguientes variables:\n",
    "\n",
    "- tasks: para almacenar el número de tareas.\n",
    "- permutations: para almacenar el número de permutaciones.\n",
    "- probability: para almacenar la probabilidad de elegir la única secuencia de tareas que permite a los jugadores ganar el superpremio.\n",
    "\n"
   ]
  },
  {
   "cell_type": "code",
   "execution_count": 6,
   "metadata": {},
   "outputs": [
    {
     "name": "stdout",
     "output_type": "stream",
     "text": [
      "2.755731922398589e-07\n"
     ]
    }
   ],
   "source": [
    "from math import factorial\n",
    "\n",
    "tasks = 10# introduce aquí el número de tareas\n",
    "permutations = factorial (tasks) # calcula aquí el número total de secuencias de tareas posibles\n",
    "probability =  1/ permutations# calcula aquí la probabilidad de seleccionar la única combinación ganadora\n",
    "\n",
    "print(probability)\n",
    "\n",
    "\n",
    "#¡Increíble! ¡La probabilidad de ganar el superpremio es inferior al 0.00003%! ¡Recuérdalo la próxima vez que quieras jugar a la lotería 😜!"
   ]
  },
  {
   "cell_type": "markdown",
   "metadata": {},
   "source": [
    "**Ejercicio 2**\n",
    "\n",
    "Como los clientes no estaban satisfechos con la dificultad de ganar el superpremio, cambiaste las reglas. Ahora, los jugadores pueden elegir las tres tareas con las que quieren empezar el juego. El orden de las tareas no importa, lo importante es la combinación. Si los jugadores consiguen adivinar la \"combinación secreta\", recibirán un código promocional de descuento.\n",
    "\n",
    "Para garantizar la equidad, debes calcular la probabilidad de obtener el código promocional utilizando las siguientes variables:\n",
    "\n",
    "- tasks: número total de tareas disponibles.\n",
    "- chosen: número de tareas elegidas al principio del juego.\n",
    "- combinations: número total de combinaciones posibles de 3 tareas de las 10 disponibles.\n",
    "- probability: probabilidad final de obtener el código promocional.\n",
    "\n",
    "Implementa un programa que calcule la probabilidad de obtener el código promocional utilizando las variables anteriores."
   ]
  },
  {
   "cell_type": "code",
   "execution_count": 1,
   "metadata": {},
   "outputs": [
    {
     "name": "stdout",
     "output_type": "stream",
     "text": [
      "0.008333333333333333\n"
     ]
    }
   ],
   "source": [
    "from math import factorial\n",
    "\n",
    "tasks = 10  # introduce aquí el número total de tareas\n",
    "chosen = 3  # introduce aquí el número de tareas a elegir\n",
    "\n",
    "combinations = factorial(tasks) / (\n",
    "    factorial(chosen) * factorial(tasks - chosen)\n",
    ")  # calcula el número de combinaciones disponibles\n",
    "probability = 1 / combinations  # calcula aquí el resultado final\n",
    "\n",
    "print(probability)\n",
    "\n",
    "# ¡La posibilidad de obtener un código promocional es casi del 1%! ¡Seguro que muchos clientes se animarán a probar suerte!"
   ]
  },
  {
   "cell_type": "markdown",
   "metadata": {},
   "source": [
    "# ==================\n",
    "\n",
    "# Idea de distribución\n",
    "\n",
    "### Variables aleatorias\n",
    "\n",
    "Las variables aleatorias son aquellas que toman valores aleatorios. El término \"aleatorio\" en este caso significa que no podemos predecir con un 100% de exactitud qué valor tomará la variable.\n",
    "\n",
    "Para tratar estos resultados, es necesario definir numéricamente una variable aleatoria. Esto nos permitirá proyectar los resultados del experimento sobre un eje numérico. Por ejemplo, para los visitantes de una tienda online, podemos representar el resultado como 1, si la compra se realiza, o como 0, en caso contrario.\n",
    "\n",
    "### Las variables aleatorias pueden ser discretas o continuas\n",
    "\n",
    "Al igual que todas las variables cuantitativas, las variables aleatorias pueden ser discretas o continuas. Así, el tiempo pasado en un sitio web es un ejemplo de variable continua, mientras que el número de compras es un ejemplo de variable discreta.\n",
    "\n",
    "- Digamos que X es el tiempo pasado en un sitio web.\n",
    "- Y es el número de compras en una tienda online.\n",
    "- Tanto X como Y son variables aleatorias.\n",
    "\n",
    "Entonces recordar:\n",
    "\n",
    ">Es imposible predecir con un 100% de exactitud qué valor tomará una variable aleatoria."
   ]
  },
  {
   "cell_type": "markdown",
   "metadata": {},
   "source": [
    "## Distribuciones de probabilidad\n",
    "\n",
    "¡Genial! Sabemos calcular la probabilidad de valores discretos, por ejemplo, la probabilidad de obtener un determinado valor al lanzar un dado. Pero, ¿qué ocurre en casos más complejos? Cómo calculamos la probabilidad de que:\n",
    "\n",
    "- un cliente gaste más de $50 en la tienda;\n",
    "- menos del 5% de las piezas producidas en la fábrica sean defectuosas;\n",
    "- al menos 25 personas compren entradas para ir al cine.\n",
    "\n",
    "Incluso para los valores discretos, los cálculos pueden ser más complicados que en el ejemplo de los dados.\n",
    "\n",
    "En estadística, la distribución de probabilidad es una función matemática que muestra la probabilidad de diferentes resultados para un experimento. En esta lección, te presentaremos distintos tipos de distribuciones de probabilidad utilizando descripciones verbales en lugar de fórmulas matemáticas.\n",
    "\n",
    "> **Distribución binomial**: La distribución de probabilidad discreta que describe el número de resultados positivos en un número fijo de ensayos.\n",
    "\n",
    "Ejemplo: Los resultados de la conversión en compra de llamadas publicitarias: Éxito: se realiza la compra. Fracaso: el cliente se niega a realizar la compra.\n",
    "\n",
    "> **Distribución uniforme** : La distribución de probabilidad continua en la que cada valor dentro de un rango determinado tiene la misma probabilidad de ser seleccionado. \n",
    "\n",
    "Ejemplo: Los resultados que se obtienen al tirar un dado: cada resultado tiene la misma probabilidad de ocurrir.\n",
    "\n",
    "> **Distribución normal**: La distribución de probabilidad discreta o continua en la que los datos tienden a agruparse en torno a un valor medio o promedio.\n",
    "\n",
    "Ejemplo: Resultados del examen SAT: la mayoría de los estudiantes de secundaria obtienen una puntuación media. Cuanto más cerca estén los resultados del mínimo o del máximo, con menos frecuencia se producirán."
   ]
  },
  {
   "cell_type": "markdown",
   "metadata": {},
   "source": [
    "## Usar Python para trabajar con distribuciones\n",
    "\n",
    "Para crear datasets con varios tipos de distribución, vamos a utilizar la librería NumPy. Esta librería trabaja con matrices de datos de muchas dimensiones y dispone de formas rápidas de realizar cálculos complicados con muchos números a la vez.\n",
    "\n",
    "Para crear ndarray utilizamos la función np.array(). Como argumento, debes especificar una lista de datos que deben colocarse en un array:\n"
   ]
  },
  {
   "cell_type": "code",
   "execution_count": 2,
   "metadata": {},
   "outputs": [],
   "source": [
    "import numpy as np\n",
    "\n",
    "data = np.array([1, 3, 5, 7, 11, 13, 17, 19, 23, 317])"
   ]
  },
  {
   "cell_type": "code",
   "execution_count": 3,
   "metadata": {},
   "outputs": [
    {
     "name": "stdout",
     "output_type": "stream",
     "text": [
      "El primer elemento: 1\n",
      "El último elemento: 317\n",
      "Todos los elementos excepto el primero y el último: [ 3  5  7 11 13 17 19 23]\n"
     ]
    }
   ],
   "source": [
    "print(\"El primer elemento:\", data[0])\n",
    "print(\"El último elemento:\", data[-1])\n",
    "print(\"Todos los elementos excepto el primero y el último:\", data[1:-1])"
   ]
  },
  {
   "cell_type": "markdown",
   "metadata": {},
   "source": [
    "NumPy puede utilizarse para generar números aleatorios con una distribución especificada, mediante la función normal() del módulo random. Para generar un array de 20 números que sigan una distribución normal, utiliza el siguiente código:"
   ]
  },
  {
   "cell_type": "code",
   "execution_count": 6,
   "metadata": {},
   "outputs": [
    {
     "name": "stdout",
     "output_type": "stream",
     "text": [
      "[ 0.44491618 -0.01738544 -0.91545755 -0.82687371  0.06164529 -0.2684718\n",
      "  0.41199303  0.3656476  -0.54558611  0.56412965 -0.74815662 -1.18747342\n",
      "  0.10351573 -0.29769532 -0.75988389  0.91438384  0.33256927 -1.96673781\n",
      " -0.6095973   0.25523956]\n"
     ]
    }
   ],
   "source": [
    "import numpy as np\n",
    "\n",
    "data = np.random.normal(size = 20)\n",
    "print(data)"
   ]
  },
  {
   "cell_type": "markdown",
   "metadata": {},
   "source": [
    "Para generar un array con una media y una desviación estándar dadas, tenemos que especificar los valores de estos parámetros:"
   ]
  },
  {
   "cell_type": "code",
   "execution_count": 7,
   "metadata": {},
   "outputs": [
    {
     "name": "stdout",
     "output_type": "stream",
     "text": [
      "[ 6.36556602 17.64684587 14.69218535 12.38189022 18.24395005 17.65372676\n",
      " 19.97966447 15.34908238 21.11522337 10.24199808 17.17910831  9.5980393\n",
      " 19.8884673  14.10867443 13.8826155   9.73109541 12.13344757 16.50198614\n",
      " 14.42147074 16.40117517]\n"
     ]
    }
   ],
   "source": [
    "import numpy as np\n",
    "\n",
    "mean = 15  # media entre 1 y 30\n",
    "std_dev = 5  # desviación estándar aleatoria\n",
    "\n",
    "data = np.random.normal(mean, std_dev, size=20)\n",
    "print(data)"
   ]
  },
  {
   "cell_type": "markdown",
   "metadata": {},
   "source": [
    "Ahora, está todo listo para trabajar con los datos. Supongamos que el array contiene los datos del peso de los paquetes comprados por los 30 primeros visitantes de la tienda. ¿Cuántos visitantes se fueron con un paquete que pesaba más que la media?"
   ]
  },
  {
   "cell_type": "code",
   "execution_count": 8,
   "metadata": {},
   "outputs": [
    {
     "name": "stdout",
     "output_type": "stream",
     "text": [
      "Número de visitantes con bolsas pesadas: 10\n"
     ]
    }
   ],
   "source": [
    "# declara una variable para almacenar el número de visitantes.\n",
    "# como aún no hemos empezado a contar,\n",
    "# el número de visitantes con una bolsa pesada es cero.\n",
    "visitors_number = 0\n",
    "\n",
    "# crea un bucle para iterar consecutivamente sobre el peso de cada bolsa.\n",
    "for weight in data:\n",
    "    # si el peso de la bolsa actual es mayor que la media, aumenta el contador.\n",
    "    if weight > mean:\n",
    "        visitors_number += 1\n",
    "\n",
    "# muestra el número de visitantes con bolsas pesadas.\n",
    "print(\"Número de visitantes con bolsas pesadas:\", visitors_number)"
   ]
  },
  {
   "cell_type": "markdown",
   "metadata": {},
   "source": [
    "# Ejercicios\n",
    "\n",
    "**Ejercicio 1**\n",
    "\n",
    "Tenemos a 30 estudiantes que realizaron un examen. Sus puntuaciones se almacenan en la variable exam_results. Si un estudiante obtuvo menos de 20 puntos, reprobó el examen. Escribe un programa que cuente cuántos estudiantes reprobaron el examen y almacena el resultado en la variable failed_students. Muestra el resultado.\n",
    "\n"
   ]
  },
  {
   "cell_type": "code",
   "execution_count": 9,
   "metadata": {},
   "outputs": [
    {
     "name": "stdout",
     "output_type": "stream",
     "text": [
      "Número de estudiantes reprobados: 3\n"
     ]
    }
   ],
   "source": [
    "import numpy as np\n",
    "\n",
    "exam_results = np.array(\n",
    "    [\n",
    "        42,\n",
    "        56,\n",
    "        59,\n",
    "        76,\n",
    "        43,\n",
    "        34,\n",
    "        62,\n",
    "        51,\n",
    "        50,\n",
    "        65,\n",
    "        66,\n",
    "        50,\n",
    "        46,\n",
    "        5,\n",
    "        79,\n",
    "        99,\n",
    "        51,\n",
    "        26,\n",
    "        35,\n",
    "        8,\n",
    "        34,\n",
    "        47,\n",
    "        64,\n",
    "        58,\n",
    "        61,\n",
    "        12,\n",
    "        30,\n",
    "        63,\n",
    "        20,\n",
    "        68,\n",
    "    ]\n",
    ")\n",
    "\n",
    "\n",
    "failed_students = 0  # valor inicial\n",
    "\n",
    "for result in exam_results:\n",
    "    if result < 20:\n",
    "        failed_students += 1\n",
    "    # código para los cálculos\n",
    "\n",
    "print(\"Número de estudiantes reprobados:\", failed_students)"
   ]
  },
  {
   "cell_type": "markdown",
   "metadata": {},
   "source": [
    "**Ejercicio 2**\n",
    "\n",
    "Vamos a seguir con los resultados del examen. Ahora tenemos que contar no solo a los estudiantes que reprobaron, sino también a los que obtuvieron otros resultados: excelente (90 puntos o más), notable (70-89 puntos), satisfactorio (50-69) y aprobado (20-49).\n",
    "\n",
    "Crea un diccionario summarized_data y escribe código para rellenarlo con los datos necesarios."
   ]
  },
  {
   "cell_type": "code",
   "execution_count": 10,
   "metadata": {},
   "outputs": [
    {
     "name": "stdout",
     "output_type": "stream",
     "text": [
      "excellent - 1\n",
      "good - 2\n",
      "average - 14\n",
      "passable - 10\n",
      "failed - 3\n"
     ]
    }
   ],
   "source": [
    "import numpy as np\n",
    "\n",
    "exam_results = np.array(\n",
    "    [\n",
    "        42,\n",
    "        56,\n",
    "        59,\n",
    "        76,\n",
    "        43,\n",
    "        34,\n",
    "        62,\n",
    "        51,\n",
    "        50,\n",
    "        65,\n",
    "        66,\n",
    "        50,\n",
    "        46,\n",
    "        5,\n",
    "        79,\n",
    "        99,\n",
    "        51,\n",
    "        26,\n",
    "        35,\n",
    "        8,\n",
    "        34,\n",
    "        47,\n",
    "        64,\n",
    "        58,\n",
    "        61,\n",
    "        12,\n",
    "        30,\n",
    "        63,\n",
    "        20,\n",
    "        68,\n",
    "    ]\n",
    ")\n",
    "\n",
    "summarized_data = {\n",
    "    \"excellent\": 0,  # añade el valor inicial aquí,\n",
    "    \"good\": 0,  # añade el valor inicial aquí,\n",
    "    \"average\": 0,  # añade el valor inicial aquí,\n",
    "    \"passable\": 0,  # añade el valor inicial aquí,\n",
    "    \"failed\": 0,  # añade el valor inicial aquí\n",
    "}\n",
    "for result in exam_results:\n",
    "    if result >= 90:\n",
    "        summarized_data[\"excellent\"] += 1\n",
    "    elif result >= 70:\n",
    "        summarized_data[\"good\"] += 1\n",
    "    elif result >= 50:\n",
    "        summarized_data[\"average\"] += 1\n",
    "    elif result >= 20:\n",
    "        summarized_data[\"passable\"] += 1\n",
    "    else:\n",
    "        summarized_data[\"failed\"] += 1\n",
    "\n",
    "# código para mostrar los resultados en pantalla. No lo cambies.\n",
    "for result in summarized_data:\n",
    "    print(result, \"-\", summarized_data[result])"
   ]
  },
  {
   "cell_type": "markdown",
   "metadata": {},
   "source": [
    "# ==========================\n",
    "\n",
    "# Trabajar con una distribución binomial\n",
    "\n",
    "En el mundo real, hay muchos experimentos que tienen dos resultados posibles. Por ejemplo, ganar o no ganar la lotería; o si una tostada con mantequilla cae al suelo por la parte untada o no; o si un cliente cambia su cuenta a una cuenta premium o rechaza la oferta. Cuando realizamos un experimento una vez y hay dos resultados posibles, estamos ante un experimento binomial simple o ensayo de Bernoulli.\n",
    "\n",
    "Supongamos que en el 88% de las casos los usuarios y las usuarias hacen su primer clic en un banner publicitario, y en el 12% de los casos hacen clic en otro sitio y acaban en una página diferente.\n",
    "¿Cuál es la probabilidad de que, de dos usuarios diferentes, uno haga clic en el banner y el otro no?\n",
    "\n",
    "> Hay dos formas de obtener el resultado deseado: (1) el primer usuario hace clic en el banner y el segundo no o (2) el primer usuario no hace clic en el banner y el segundo sí. La probabilidad de cada escenario es 0.88 * 0,12 = 0.1056 y 0.12 * 0.88 = 0.1056, respectivamente. Al sumarlas, obtenemos aproximadamente el 21%.\n"
   ]
  },
  {
   "cell_type": "markdown",
   "metadata": {},
   "source": [
    "## Calcular el numero de k exitos de n pruebas\n",
    "\n",
    "Como recordarás, tenemos que encontrar la manera de calcular de cuántas formas podemos obtener k éxitos de n pruebas sin necesidad de compilar una tabla con todos los resultados posibles.\n",
    "\n",
    "Si aplicamos esta fórmula al ejemplo de los clics en el banner, podemos considerar n como el número total de usuarios y k como el número de clics en el banner. La fórmula nos ayudará a calcular de cuántas formas podemos seleccionar un grupo de k usuarios del total de n usuarios que hagan clic en el banner y no en otro enlace.\n",
    "\n",
    "Para encontrar el mismo resultado en Python podemos utilizar el código:"
   ]
  },
  {
   "cell_type": "code",
   "execution_count": 11,
   "metadata": {},
   "outputs": [
    {
     "name": "stdout",
     "output_type": "stream",
     "text": [
      "120.0\n"
     ]
    }
   ],
   "source": [
    "from math import factorial\n",
    "\n",
    "c = factorial(10) / (factorial(7) * factorial(3))\n",
    "print(c)"
   ]
  },
  {
   "cell_type": "markdown",
   "metadata": {},
   "source": [
    "Escribe el código para encontrar el número de formas en las que 90 de cada 100 usuarios hacen clic en el banner. Guarda el resultado en la variable c."
   ]
  },
  {
   "cell_type": "code",
   "execution_count": 12,
   "metadata": {},
   "outputs": [
    {
     "name": "stdout",
     "output_type": "stream",
     "text": [
      "17310309456440.0\n"
     ]
    }
   ],
   "source": [
    "from math import factorial\n",
    "\n",
    "c = factorial(100) / (factorial(90) * factorial(100 - 90))  # escribe tu código aquí\n",
    "\n",
    "print(c)"
   ]
  },
  {
   "cell_type": "markdown",
   "metadata": {},
   "source": [
    "## Encontrar la probabilidad de n exitos\n",
    "\n",
    "Bien, podemos calcular cuántas formas hay de obtener k éxitos a partir de n pruebas. Pero, ¿cómo podemos calcular la probabilidad de obtener ese número de éxitos?\n",
    "\n",
    "Recuerda que, aunque habrá muchas combinaciones que den k éxitos, cada una de ellas tendrá la misma probabilidad. Por lo tanto, necesitamos:\n",
    "\n",
    "- Encontrar la probabilidad de una sola forma de obtener k éxitos de n experimentos.\n",
    "- Encontrar el número total de combinaciones que dan k éxitos.\n",
    "- Multiplicar ambos resultados.\n",
    "\n",
    "Veamos más detenidamente el primer punto. Supongamos que los 7 primeros clics se producen en el banner y los 3 restantes no.\n",
    "\n",
    "La formula es:\n",
    "\n",
    "> P = p(elevado K) * q(elevado n-k)     donde:\n",
    "- p es la probabilidad de éxito.\n",
    "- q es la probabilidad de fracaso.\n",
    "- k es el número de pruebas realizadas con éxito.\n",
    "- n es el número total de pruebas."
   ]
  },
  {
   "cell_type": "markdown",
   "metadata": {},
   "source": [
    "## Distribución binomial\n",
    "\n",
    "Hagamos una lista de las condiciones que deben cumplirse para que una variable aleatoria tenga una distribución binomial:\n",
    "\n",
    "- Se lleva a cabo un número fijo y finito de pruebas (n).\n",
    "- Cada prueba es un experimento binomial simple que tiene exactamente dos resultados.\n",
    "- Las pruebas son independientes entre sí.\n",
    "- La probabilidad de éxito (p) es la misma para todos los n intentos."
   ]
  },
  {
   "cell_type": "markdown",
   "metadata": {},
   "source": [
    "# Ejercicios\n",
    "\n",
    "**Ejercicio 1**\n",
    "\n",
    "Los portátiles de Pineapple son caros, pero siguen siendo populares entre los geeks de la informática: el 60% de los clientes están dispuestos a comprarse una computadora portátil de esta marca si acuden a la tienda. Los portátiles de Banana son más baratos, pero no tan populares: solo el 20% de los visitantes de la tienda están dispuestos a comprarlos.\n",
    "\n",
    "Supongamos que la tienda solo tiene a la venta equipos de Pineapple. ¿Cuál es la probabilidad de que 50 de cada 80 clientes realicen una compra en un día?\n",
    "\n",
    "Guarda el resultado en la variable probability y muéstralo.\n",
    "\n",
    "No olvides que en Python se utiliza el signo ** para la exponenciación.\n",
    "\n"
   ]
  },
  {
   "cell_type": "code",
   "execution_count": 13,
   "metadata": {},
   "outputs": [
    {
     "name": "stdout",
     "output_type": "stream",
     "text": [
      "0.0826713508623046\n"
     ]
    }
   ],
   "source": [
    "from math import factorial\n",
    "\n",
    "p = 0.6  # la probabilidad de que un cliente realice una compra\n",
    "q = 1 - p  # la probabilidad de que un cliente NO realice una compra\n",
    "n = 80  # el número total de visitantes\n",
    "k = 50  # el número de visitantes que esperamos que realicen una compra\n",
    "\n",
    "probability = (\n",
    "    factorial(n) / (factorial(k) * factorial(n - k)) * p**k * q ** (n - k)\n",
    ")  # escribe aquí el código para realizar los cálculos\n",
    "# n! / (k! * (n-k)!) * p**k * q**(n-k).\n",
    "print(probability)\n",
    "\n",
    "# El resultado quiere decir que existe una probabilidad el 8% que 50 de 80 visitantes hagan una compra. "
   ]
  },
  {
   "cell_type": "markdown",
   "metadata": {},
   "source": [
    "**Ejercicio 2**\n",
    "\n",
    "Supongamos que, al lado de una tienda de hardware Pineapple, hay un gran centro comercial con otra tienda que vende computadoras Banana. 160 clientes visitan esa tienda durante el día. ¿Cuál es la probabilidad de que 50 de esos visitantes se compren una computadora portátil?\n",
    "\n",
    "Recuerda que solo el 20% de los usuarios están dispuestos a comprar un portátil de la marca Banana.\n",
    "\n",
    "Guarda el resultado en la variable probability y muéstralo."
   ]
  },
  {
   "cell_type": "code",
   "execution_count": 14,
   "metadata": {},
   "outputs": [
    {
     "name": "stdout",
     "output_type": "stream",
     "text": [
      "0.00024035993375900262\n"
     ]
    }
   ],
   "source": [
    "from math import factorial\n",
    "\n",
    "p = 0.2  # la probabilidad de que un cliente realice una compra\n",
    "q = 1 - p  # la probabilidad de que un cliente NO realice una compra\n",
    "n = 160  # el número total de visitantes\n",
    "k = 50  # el número de visitantes que esperamos que realicen una compra\n",
    "\n",
    "probability = (\n",
    "    factorial(n) / (factorial(k) * factorial(n - k)) * p**k * q ** (n - k)\n",
    ")  # escribe aquí el código para realizar los cálculos\n",
    "\n",
    "print(probability)"
   ]
  },
  {
   "cell_type": "markdown",
   "metadata": {},
   "source": [
    "# =====================\n",
    "\n",
    "# Trabajar con distribución normal\n",
    "\n",
    "Esta distribución se manifiesta en diversas situaciones, desde representar la altura de la población hasta determinar las tasas de falla en equipos.\n",
    "\n",
    "Aunque existen otras distribuciones en el mundo real, la normal se destaca por su prevalencia y relevancia teórica.\n",
    "\n",
    "> Supongamos que el número de horas que los clientes pasan en el gimnasio cada semana sigue una distribución normal con una media de 4 y una desviación típica de 1. ¿Qué porcentaje de clientes pasa más de 6 horas a la semana en el gimnasio?\n",
    "\n",
    "> **menos del 3%**\n",
    "> El valor \"más de 6 horas\" es de 2 sigma por encima de la media. Sabemos que el 95% de los valores están dentro del intervalo media +/- 2σ. El 5% restante se distribuye uniformemente entre dos intervalos que están fuera del intervalo media +/- 2σ. A nosotros solo nos interesa el primer intervalo, que contiene la mitad del 5% restante. -->\n",
    "\n",
    "\n"
   ]
  },
  {
   "cell_type": "markdown",
   "metadata": {},
   "source": [
    "## Calcular probabilidades en datos normalmente distribuidos con Python\n",
    "\n",
    "Python puede hacer los cálculos por nosotros. Para ello nos hacen falta métodos de la librería SciPy y su módulo intermedio **stat**s.\n",
    "\n",
    "SciPy es una librería Python gratuita y de código abierto que se utiliza para la computación científica y técnica. Contiene módulos para optimización, álgebra lineal, integración, procesamiento de señales e imágenes y muchos otros propósitos.\n",
    "\n",
    "En esta lección examinaremos la función **stats.norm()**, que genera una distribución normal con unos parámetros dados (media y desviación estándar). También estudiaremos los métodos **norm.cdf** y **norm.ppf**, que permiten buscar respuestas a preguntas concretas.\n",
    "\n",
    "Veamos estos métodos con más detalle. Para ilustrarlo, consideremos el siguiente ejemplo: en la India, los estudiantes mayores de edad gastan una media de 5 000 dólares para aprender una nueva profesión, con una desviación típica de 1 500 dólares.\n",
    "\n",
    "> La función de distribución acumulativa **norm.cdf()**\n",
    "\n",
    "Da la probabilidad de que una variable aleatoria sea menor o igual que un valor determinado.\n",
    "Por Ejemplo: \n",
    "*¿Cuál es la probabilidad de que un estudiante pueda aprender una nueva profesión por menos de 4 000 dólares?*\n",
    "\n",
    "> La función de punto porcentual **norm.ppf()**\n",
    "\n",
    "Da el valor de la variable aleatoria que corresponde a una determinada probabilidad. Por ejemplo: \n",
    "*¿Cuál es el coste máximo de la formación para el 10% de los estudiantes que gastaron menos dinero en sus estudios?*\n",
    "\n"
   ]
  },
  {
   "cell_type": "markdown",
   "metadata": {},
   "source": [
    "### **Veamos cómo obtener respuestas a estas preguntas utilizando Python.**"
   ]
  },
  {
   "cell_type": "markdown",
   "metadata": {},
   "source": [
    "*¿Cuál es la probabilidad de que un estudiante pueda aprender una nueva profesión por menos de 4 000 dólares?*"
   ]
  },
  {
   "cell_type": "code",
   "execution_count": 3,
   "metadata": {},
   "outputs": [
    {
     "name": "stdout",
     "output_type": "stream",
     "text": [
      "0.2524925375469229\n"
     ]
    }
   ],
   "source": [
    "# importamos el módulo stats.\n",
    "from scipy import stats as st\n",
    "\n",
    "# creamos un objeto con datos distribuidos normalmente con una media de 5 000\n",
    "# y una desviación estándar de 1500.\n",
    "data = st.norm(5000, 1500)\n",
    "\n",
    "# creamos una variable para almacenar el coste deseado.\n",
    "desired_cost = 4000\n",
    "\n",
    "# calculamos la probabilidad de obtener el valor desired_cost.\n",
    "probability = data.cdf(desired_cost)\n",
    "\n",
    "print(probability)\n",
    "\n",
    "# nos sale que el resultado es superior al 25%"
   ]
  },
  {
   "cell_type": "markdown",
   "metadata": {},
   "source": [
    "Y ahora, a por la segunda pregunta: *¿Cuál es el coste máximo de la formación para el 10% de los estudiantes que gastaron menos dinero en sus estudios?*"
   ]
  },
  {
   "cell_type": "code",
   "execution_count": 4,
   "metadata": {},
   "outputs": [
    {
     "name": "stdout",
     "output_type": "stream",
     "text": [
      "3077.6726516830995\n"
     ]
    }
   ],
   "source": [
    "# otra vez empezamos con la importación y creación de la distribución.\n",
    "from scipy import stats as st\n",
    "\n",
    "data = st.norm(5000, 1500)\n",
    "\n",
    "# establecemos el valor de la probabilidad. Buscaremos el umbral del coste de los estudios\n",
    "# para el 10% de los estudiantes que gastaron menos dinero.\n",
    "target_level = 0.1\n",
    "\n",
    "# encontramos el importe que no supere los gastos del 10% de estudiantes que gastaron menos dinero.\n",
    "cost = data.ppf(target_level)\n",
    "\n",
    "print(cost)"
   ]
  },
  {
   "cell_type": "code",
   "execution_count": 6,
   "metadata": {},
   "outputs": [
    {
     "name": "stdout",
     "output_type": "stream",
     "text": [
      "0.6826894921370859\n"
     ]
    }
   ],
   "source": [
    "from scipy import stats as st\n",
    "\n",
    "data = st.norm(1000,100).cdf(1100) - st.norm(1000,100).cdf(900)\n",
    "\n",
    "print(data)\n",
    "\n",
    "#El resultado quiere decir que nos encontramos dentro del 1er sigma"
   ]
  }
 ],
 "metadata": {
  "kernelspec": {
   "display_name": "Python 3",
   "language": "python",
   "name": "python3"
  },
  "language_info": {
   "codemirror_mode": {
    "name": "ipython",
    "version": 3
   },
   "file_extension": ".py",
   "mimetype": "text/x-python",
   "name": "python",
   "nbconvert_exporter": "python",
   "pygments_lexer": "ipython3",
   "version": "3.11.7"
  }
 },
 "nbformat": 4,
 "nbformat_minor": 2
}
