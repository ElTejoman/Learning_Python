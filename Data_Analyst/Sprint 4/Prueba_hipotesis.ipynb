{
 "cells": [
  {
   "cell_type": "markdown",
   "metadata": {},
   "source": [
    "# **Prueba de hipótesis**\n",
    "\n",
    "## Muestras aleatorias y medias muestrales\n",
    "En la teoría de la probabilidad aprendimos sobre experimentos, sus resultados y distribuciones de probabilidad. En otras palabras, estos eran modelos ideales que, bajo ciertas condiciones, describían teóricamente los datos observados.\n",
    "\n",
    "La lógica de realizar una prueba estadística de una hipótesis es ligeramente diferente. En primer lugar, sacaremos conclusiones sobre un gran dataset, o población estadística, basadas en las muestras. Por ejemplo, si hay datos sobre cada visita a un sitio web en un año, incluida la hora exacta y el tiempo que se pasó en el sitio web, no es necesario analizar todo el dataset. Todo lo que necesitas es una parte pequeña pero representativa de los datos que refleje el comportamiento de toda la población estadística.\n",
    "\n",
    "Algunos datasets pueden tener varias partes de tamaños desiguales que difieren mucho con respecto al parámetro que estés estudiando. En estos casos, es una buena idea tomar muestras aleatorias proporcionales de cada parte y luego combinarlas. El resultado es una muestra estratificada que es más representativa que una simple muestra aleatoria. La llamamos \"estratificada\" porque dividimos a la población en estratos, o grupos, que están unidos por una característica común. Estos estratos luego se usan para producir muestras aleatorias.\n",
    "\n",
    "### **Ejemplo**\n",
    "\n",
    "Aquí tienes un ejemplo: si estás analizando el comportamiento de los clientes de las aerolíneas, es fácil pasar por alto a los clientes de clase ejecutiva porque hay muy pocos en general. Pero su comportamiento de consumo difiere mucho del de otros clientes, por lo que vale la pena asegurarse de que estén representados en la muestra.\n",
    "\n",
    "**¿Cuál de las siguientes situaciones requiere una muestra estratificada?**\n",
    "\n",
    "> Variable experimental: gastos por los salarios y beneficios a los empleados; Población: empleados de una empresa grande.\n",
    "\n",
    "*Los salarios y beneficios pueden variar mucho de un departamento a otro. Lo mejor es asegurarse de que todos los departamentos obtengan la misma representación.*"
   ]
  },
  {
   "cell_type": "markdown",
   "metadata": {},
   "source": [
    "# El teorema del límite central\n",
    "\n",
    "El Teorema del Límite Central (TLC) es un concepto clave en estadísticas y probabilidad. Este teorema establece que, a medida que el tamaño de la muestra aumenta, la distribución de la media muestral de una población se aproxima a una distribución normal, independientemente de la forma de la distribución original.\n",
    "\n",
    "Vamos a ilustrar el TLC con un ejemplo sencillo:\n",
    "\n",
    "1. Supongamos que estamos interesados en la altura promedio de las personas en una ciudad. Tomemos una muestra de 30 personas al azar y calculemos la altura promedio. Luego, repitamos este proceso muchas veces.\n",
    "\n",
    "2. Distribución Original (Altura de la Población): Digamos que la altura de la población tiene una distribución original que no es normal.\n",
    "\n",
    "3. Tamaño de la Muestra: Tomamos muchas muestras de tamaño 30 (n) de la población.\n",
    "\n",
    "4. Distribución de las Medias Muestrales: Calculamos la media de cada muestra y observamos la distribución de esas medias muestrales.\n",
    "\n",
    "Aproximación a una Distribución Normal: Según el TLC, a medida que tomamos más y más muestras, la distribución de las medias muestrales se aproxima a una distribución normal, independientemente de la forma de la distribución original."
   ]
  },
  {
   "cell_type": "markdown",
   "metadata": {},
   "source": [
    "### Medias Muestrales\n",
    "\n",
    "Con respecto a la media muestral, el teorema del límite central implica que:\n",
    "\n",
    "> Puedes estimar la media de una población estadística utilizando la media de una muestra. Cuanto mayor sea la muestra, más precisa será la media de la población y esto funciona para poblaciones estadísticas con cualquier distribución.\n",
    "\n",
    "Con respecto a la media muestral, el teorema del límite central implica que:\n",
    "\n",
    ">Las medias muestrales se distribuyen normalmente en torno a un valor igual a la media de la población estadística.\n"
   ]
  },
  {
   "cell_type": "markdown",
   "metadata": {},
   "source": [
    "# ===================\n",
    "\n",
    "# Formular hipótesis de dos colas\n"
   ]
  }
 ],
 "metadata": {
  "language_info": {
   "name": "python"
  }
 },
 "nbformat": 4,
 "nbformat_minor": 2
}
