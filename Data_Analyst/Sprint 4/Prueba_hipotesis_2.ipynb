{
 "cells": [
  {
   "cell_type": "markdown",
   "metadata": {},
   "source": [
    "# Prueba de hipotesis en Python\n",
    "\n",
    "En Python, existen funciones que podemos utilizar para comprobar hipótesis. No es necesario que elijas un nivel de significación o que averigües si un valor se encuentra o no dentro de un intervalo crítico. Una función devuelve la estadística de diferencia entre la media y el valor con el que lo estás comparando, y la importancia estadística de esta estadística es el valor p (de la palabra probabilidad).\n",
    "\n",
    "Es razonable usar el valor p para decidir si aceptar o rechazar la hipótesis nula. El valor p es la probabilidad de obtener un resultado al menos tan extremo como el que estás considerando, suponiendo que la hipótesis nula sea correcta. El valor p está indicado como porcentaje e indica el área bajo la curva que corresponde a una probabilidad.\n",
    "\n",
    "Si este valor es superior al 10%, definitivamente no debes rechazar la hipótesis nula. Si el valor p es más bajo, es posible que debas rechazar la hipótesis nula. Los valores de umbral convencionales son 5% y 1%.\n",
    "\n",
    "> **Recordar que siempre dependerá del analista cuál será el valor suficiente a considerar y validar o no una hipótesis**"
   ]
  },
  {
   "cell_type": "markdown",
   "metadata": {},
   "source": [
    "### La función que utilizaremos:\n",
    "\n",
    ">  **scipy.stats.ttest_1samp (array, popmean)**\n",
    "\n",
    "se usa para probar hipótesis del tipo \"la media de la población es igual a x\".\n",
    "\n",
    "ttest significa prueba t, del inglés t-test; 1samp significa que estamos trabajando con una muestra y comparándola con un valor dado.\n",
    "\n",
    "Pasamos estos parámetros a la función:\n",
    "\n",
    "- array es una matriz que contiene la muestra.\n",
    "- popmean es la media propuesta que estamos probando.\n",
    "\n",
    "Cuando se llama, la función devuelve la estadística de diferencia entre popmean y la media muestral de array. \n",
    "\n"
   ]
  },
  {
   "cell_type": "code",
   "execution_count": 2,
   "metadata": {},
   "outputs": [
    {
     "name": "stdout",
     "output_type": "stream",
     "text": [
      "Estadística t: 1.6390750941244592\n",
      "Valor p: 0.1356201035284866\n"
     ]
    }
   ],
   "source": [
    "from scipy import stats\n",
    "import numpy as np\n",
    "\n",
    "# Generar una muestra de alturas (en cm)\n",
    "muestra_alturas = np.array([160, 165, 170, 168, 172, 162, 166, 169, 167, 171])\n",
    "\n",
    "# Altura promedio en la población general (la que esperamos)\n",
    "altura_promedio_poblacion = 165\n",
    "\n",
    "# Realizar la prueba t de una muestra\n",
    "resultado_t_test, valor_p = stats.ttest_1samp(muestra_alturas, altura_promedio_poblacion)\n",
    "\n",
    "# Imprimir el resultado\n",
    "print(f\"Estadística t: {resultado_t_test}\")\n",
    "print(f\"Valor p: {valor_p}\")\n"
   ]
  },
  {
   "cell_type": "markdown",
   "metadata": {},
   "source": [
    "¡Ahora veamos cómo funciona en la práctica! Tu socio comercial dice que el sitio web que creaste se ha convertido en un medio para atraer usuarios. Dicen que los usuarios pasan dos horas al día en el sitio web. En otras palabras, nuestra hipótesis nula es que los usuarios pasan 2 horas en el sitio web.\n",
    "\n",
    "Han tomado una muestra de 200 personas de los registros de tiempo pasado en el sitio web. Vamos a comprobar la hipótesis de tu compañero realizando una prueba y comparando el valor p resultante con el umbral que fijaremos en el 5%."
   ]
  },
  {
   "cell_type": "code",
   "execution_count": null,
   "metadata": {},
   "outputs": [],
   "source": [
    "from scipy import stats as st\n",
    "import numpy as np\n",
    "import pandas as pd\n",
    "\n",
    "time_on_site = pd.read_csv('user_time.csv')\n",
    "\n",
    "interested_value = 120 # tiempo transcurrido en el sitio web\n",
    "\n",
    "alpha = .05 # la significancia estadística crítica (umbral)\n",
    "\n",
    "# realizar una prueba\n",
    "results = st.ttest_1samp(\n",
    "    time_on_site, \n",
    "    interested_value)\n",
    "\n",
    "# imprimir el valor p resultante\n",
    "print('valor p: ', results.pvalue)\n",
    "\n",
    "# comparar el valor p con el umbral\n",
    "if (results.pvalue < alpha):\n",
    "    print(\"Rechazamos la hipótesis nula\")\n",
    "else:\n",
    "    print(\"No podemos rechazar la hipótesis nula\")\n",
    "\n",
    "    # RESULTADO =======================\n",
    "\n",
    "\n",
    "#valor p:  [0.27702871]\n",
    "#No podemos rechazar la hipótesis nula"
   ]
  },
  {
   "cell_type": "markdown",
   "metadata": {},
   "source": [
    "El valor p resultante es 0.27702871, es decir, 27.7%. Esto representa la probabilidad de obtener un tiempo medio igual a 2 horas. Dado que esta probabilidad es bastante alta, parece que los usuarios pasan realmente unas dos horas en el sitio web. Utilizamos una prueba bilateral porque no nos importaba si el valor que obteníamos era superior o inferior al que proponía tu pareja (es decir, si era inferior o superior a 2 horas).\n",
    "\n",
    "Presta atención a cómo presentas tus resultados. Al principio de la lección dijimos que los datos nunca pueden probar o confirmar una hipótesis. Esto es de vital importancia. Si solo tenemos una muestra no sabemos nada sobre toda la población estadística con certeza. Si lo supiéramos, no necesitaríamos una prueba estadística.\n",
    "\n",
    "Solo podemos hacer suposiciones sobre una población estadística y calcular la probabilidad de obtener una muestra dada si nuestras suposiciones fueran correctas. Si la probabilidad es relativamente alta, los datos no nos dan motivos para rechazar una suposición. Si la probabilidad es baja, entonces a partir de los datos proporcionados podemos concluir que nuestra suposición probablemente fue incorrecta (pero no podemos rechazarla o probar lo contrario)."
   ]
  },
  {
   "cell_type": "markdown",
   "metadata": {},
   "source": [
    "# **Ejercicios**\n",
    "\n",
    "**Prueba de hipótesis en Python. Valores p**\n",
    "\n",
    "Eres el dueño de una cadena de estaciones de alquiler de patinetes llamada Scooters Get You There. Hay 20 locales en el centro de la ciudad y cada uno tiene un máximo de 50 patinetes eléctricos. Quieres probar la hipótesis de que en el último mes hubo un promedio de 30 patinetes disponibles en cualquier estación durante el día. Un grupo urbano llamado 'Squirrel' destacó la importancia de este número en su estudio de la movilidad de los residentes. Si hay menos patinetes en la estación, los usuarios pensarán que no podrán alquilar uno cuando lo necesiten, pero cuando haya más, la gente pensará que no podrán aparcar su patinete después de un viaje porque no habrá aparcamiento.\n",
    "\n",
    "Cada hora, cada estación envía el número de patinetes disponibles al servidor. Has descargado los números de 13:00 a 16:00 durante los últimos 30 días. Prueba tu hipótesis usando esta muestra. Establece un umbral de 5% para la significación estadística."
   ]
  },
  {
   "cell_type": "code",
   "execution_count": 3,
   "metadata": {},
   "outputs": [
    {
     "name": "stdout",
     "output_type": "stream",
     "text": [
      "valor p:  0.00033528259973700795\n",
      "Rechazamos la hipótesis nula\n"
     ]
    }
   ],
   "source": [
    "from scipy import stats as st\n",
    "import pandas as pd\n",
    "\n",
    "scooters = pd.Series([15, 31, 10, 21, 21, 32, 30, 25, 21,\n",
    "                      28, 25, 32, 38, 18, 33, 24, 26, 40, 24, 37, 20, 36, 28, 38,\n",
    "                      24, 35, 33, 21, 29, 26, 13, 25, 34, 38, 23, 37, 31, 28, 32,\n",
    "                      24, 25, 13, 38, 34, 48, 19, 20, 22, 38, 28, 31, 18, 21, 24,\n",
    "                      31, 21, 28, 29, 33, 40, 26, 33, 33, 6, 27, 24, 17, 28, 7,\n",
    "                      33, 25, 25, 29, 19, 30, 29, 22, 15, 28, 36, 25, 36, 25, 29,\n",
    "                      33, 19, 32, 32, 28, 26, 18, 48, 15, 27, 27, 27, 0, 28, 39,\n",
    "                      27, 25, 39, 28, 22, 33, 30, 35, 19, 20, 18, 31, 44, 20, 18,\n",
    "                      17, 28, 17, 44, 40, 33,])\n",
    "\n",
    "optimal_value = 30\n",
    "alpha = 0.05\n",
    "\n",
    "results = st.ttest_1samp(scooters, optimal_value)\n",
    "\n",
    "# Extraer el valor p correctamente\n",
    "p_value = results.pvalue\n",
    "\n",
    "print('valor p: ', p_value)\n",
    "\n",
    "if p_value < alpha:\n",
    "    print('Rechazamos la hipótesis nula')\n",
    "else:\n",
    "    print(\"No podemos rechazar la hipótesis nula\")\n"
   ]
  },
  {
   "cell_type": "markdown",
   "metadata": {},
   "source": [
    "# ======================\n",
    "\n",
    "# Formular hipotesis de una cola\n",
    "\n",
    "- La media de una población estadística es igual a un valor determinado.\n",
    "- Las medias de dos poblaciones estadísticas son iguales entre sí.\n",
    "- La media de una población estadística es mayor (o menor) que un valor determinado.\n",
    "- La media de una población estadística es mayor que (o menor que) la media de otra \n",
    "- población estadística.\n",
    "\n",
    "No existe una función especial para las pruebas unilaterales en Python, aunque existe uno para las pruebas bilaterales. Si necesitas una prueba unilateral, realiza una bilateral y divide el valor p entre 2. De esta forma, puedes obtener la significación estadística unilateral de la desviación del valor en cuestión con respecto al valor predicho. Esto funciona porque, por defecto, la prueba calcula la probabilidad de desviación en ambas direcciones. Dado que una prueba bilateral es simétrica, el valor p será exactamente el doble de lo que sería si te interesaras en la desviación de un solo lado.\n",
    "\n",
    "# **Ejemplo**\n",
    "\n",
    "Estás vendiendo sandías online. Para venderlas todas antes de que termine la temporada, contrataste a desarrolladores web para crear una página web llamada Watermelon Life. Observando las estadísticas, notaste que cuanto más tiempo las personas pasaban en tu sitio web (cuantos más bloques veían), más a menudo compraban sandías. El promedio de bloques vistos fue de 4.867.\n",
    "\n",
    "Los diseñadores insistieron en que cambies los primeros bloques para cumplir con las nuevas pautas, lo hiciste, pero la cantidad de pedidos no cambió. Pero probablemente los usuarios empezaron a realizar compras más rápidamente. Comprobemos si ese es el caso: si es así, los usuarios deberían decidir realizar compras después de ver solo los primeros bloques de la página web, por lo que la cantidad de bloques que ven debería ser menor ahora.\n",
    "\n",
    "Utilizaremos una muestra de 100 clientes seleccionados al azar. El dataset es el número de bloques de la página web vistos. Nuestra hipótesis nula consiste en que el número de bloques de páginas de destino vistos es inferior a 4.867."
   ]
  },
  {
   "cell_type": "code",
   "execution_count": 1,
   "metadata": {},
   "outputs": [
    {
     "name": "stdout",
     "output_type": "stream",
     "text": [
      "valor-p:  1.3358596895543794e-06\n",
      "Rechazamos la hipótesis nula\n"
     ]
    }
   ],
   "source": [
    "from scipy import stats as st\n",
    "import pandas as pd\n",
    "\n",
    "screens = pd.Series(\n",
    "    [\n",
    "        4,\n",
    "        2,\n",
    "        4,\n",
    "        5,\n",
    "        5,\n",
    "        4,\n",
    "        2,\n",
    "        3,\n",
    "        3,\n",
    "        5,\n",
    "        2,\n",
    "        5,\n",
    "        2,\n",
    "        2,\n",
    "        2,\n",
    "        3,\n",
    "        3,\n",
    "        4,\n",
    "        8,\n",
    "        3,\n",
    "        4,\n",
    "        3,\n",
    "        5,\n",
    "        5,\n",
    "        4,\n",
    "        2,\n",
    "        5,\n",
    "        2,\n",
    "        3,\n",
    "        7,\n",
    "        5,\n",
    "        5,\n",
    "        6,\n",
    "        5,\n",
    "        3,\n",
    "        4,\n",
    "        3,\n",
    "        6,\n",
    "        3,\n",
    "        4,\n",
    "        4,\n",
    "        3,\n",
    "        5,\n",
    "        4,\n",
    "        4,\n",
    "        8,\n",
    "        4,\n",
    "        7,\n",
    "        4,\n",
    "        5,\n",
    "        5,\n",
    "        3,\n",
    "        4,\n",
    "        6,\n",
    "        7,\n",
    "        2,\n",
    "        3,\n",
    "        6,\n",
    "        5,\n",
    "        6,\n",
    "        4,\n",
    "        4,\n",
    "        3,\n",
    "        4,\n",
    "        6,\n",
    "        4,\n",
    "        4,\n",
    "        6,\n",
    "        2,\n",
    "        6,\n",
    "        5,\n",
    "        3,\n",
    "        3,\n",
    "        3,\n",
    "        4,\n",
    "        5,\n",
    "        3,\n",
    "        5,\n",
    "        5,\n",
    "        4,\n",
    "        3,\n",
    "        3,\n",
    "        3,\n",
    "        1,\n",
    "        5,\n",
    "        4,\n",
    "        3,\n",
    "        4,\n",
    "        6,\n",
    "        3,\n",
    "        1,\n",
    "        3,\n",
    "        2,\n",
    "        7,\n",
    "        3,\n",
    "        6,\n",
    "        6,\n",
    "        6,\n",
    "        5,\n",
    "        5,\n",
    "    ]\n",
    ")\n",
    "\n",
    "prev_screens_value = 4.867  # número promedio de bloques vistos\n",
    "\n",
    "alpha = 0.05  # nivel de significación\n",
    "\n",
    "results = st.ttest_1samp(screens, prev_screens_value)\n",
    "\n",
    "# prueba unilateral: el valor p se divide en dos\n",
    "print(\"valor-p: \", results.pvalue / 2)\n",
    "\n",
    "# prueba unilateral a la izquierda:\n",
    "# rechaza la hipótesis solo si la media muestral es significativamente menor que el valor propuesto\n",
    "if (results.pvalue / 2 < alpha) and (screens.mean() < prev_screens_value):\n",
    "    print(\"Rechazamos la hipótesis nula\")\n",
    "else:\n",
    "    print(\"No podemos rechazar la hipótesis nula\")"
   ]
  },
  {
   "cell_type": "markdown",
   "metadata": {},
   "source": [
    "Como puedes ver en el código, en una prueba unilateral con la hipótesis alternativa \"El número de bloques vistos disminuyó\", la hipótesis nula se rechaza si se cumplen dos condiciones:\n",
    "\n",
    "- El valor observado es menor que el predicho.\n",
    "- La diferencia entre los valores es estadísticamente significativa (dividimos el valor p que obtuvimos de la prueba bilateral entre 2).\n",
    "\n",
    "Si la prueba fuera unilateral a la derecha con la hipótesis alternativa “El valor observado es mayor que el predicho”, uno de los signos “<” cambiaría a “>”. Las últimas líneas de código se verían así:"
   ]
  },
  {
   "cell_type": "code",
   "execution_count": 2,
   "metadata": {},
   "outputs": [
    {
     "name": "stdout",
     "output_type": "stream",
     "text": [
      "No podemos rechazar la hipótesis nula\n"
     ]
    }
   ],
   "source": [
    "if (results.pvalue / 2 < alpha) and (screens.mean() > prev_screens_value):\n",
    "    print(\"Rechazamos la hipótesis nula\")\n",
    "else:\n",
    "    print(\"No podemos rechazar la hipótesis nula\")"
   ]
  },
  {
   "cell_type": "markdown",
   "metadata": {},
   "source": [
    "Por cierto, podemos escribir el valor p obtenido (1.3358596895543794e-06) como 1.3358596895543794 por 10 elevado a menos 6 (o dividido entre 10 elevado a 6 o dividido entre un millón). Básicamente es un número muy muy pequeño."
   ]
  },
  {
   "cell_type": "markdown",
   "metadata": {},
   "source": [
    "# **Ejercicios**\n",
    "\n",
    "**Ejercicio 1**\n",
    "\n",
    "El 1 de junio de 2019 tomaste un curso del famoso coach y empresario llamado Robby Tobbinson. Si aplicas sus exclusivas técnicas conscientes de negocio se garantiza que tu proyecto online generará al menos $800 por día, quizás más, en solo un mes. Él te lo promete.\n",
    "\n",
    "Las promesas están bien pero las pruebas estadísticas son mejores. Vamos a ver qué nos dicen los números.\n",
    "\n",
    "Utiliza un dataset con los ingresos diarios del último mes para probar tu hipótesis. La hipótesis es que tus ingresos diarios promedio igualaron o superaron los $800.\n",
    "\n",
    "Recuerda: la hipótesis que contiene el signo de igualdad suele ser la hipótesis nula. Por lo tanto, \"Todo saldrá como lo predijo el coach\" es tu hipótesis nula y \"Los ingresos serán menores de lo que se predijo\" es la hipótesis alternativa. Las desviaciones aleatorias siempre son posibles. Solo puedes decir \"¡La metodología de Tobbinson no funcionó!\" si tus ingresos son significativamente inferiores a la cantidad propuesta.\n",
    "\n"
   ]
  },
  {
   "cell_type": "code",
   "execution_count": 2,
   "metadata": {},
   "outputs": [
    {
     "name": "stdout",
     "output_type": "stream",
     "text": [
      "valor p: 1.7869152078905524e-22\n",
      "Rechazamos la hipótesis nula: los ingresos fueron significativamente inferiores a 800 dólares\n"
     ]
    }
   ],
   "source": [
    "from scipy import stats as st\n",
    "import numpy as np\n",
    "import pandas as pd\n",
    "\n",
    "revenue = pd.Series([727, 678, 685, 669, 661, 705, 701, 717, \n",
    "                     655,643, 660, 709, 701, 681, 716, 655, \n",
    "                     716, 695, 684, 687, 669,647, 721, 681, \n",
    "                     674, 641, 704, 717, 656, 725, 684, 665])\n",
    "\n",
    "interested_value = 800 # ¿cuánto prometió Robby Tobbinson?\n",
    "\n",
    "alpha = 0.05 # indica el nivel de significación estadística\n",
    "\n",
    "results = st.ttest_1samp (revenue , interested_value) # utiliza la función st.ttest_1samp()\n",
    "\n",
    "print('valor p:', results.pvalue /2 )# imprime el valor p para una prueba unilateral)\n",
    "\n",
    "if (results.pvalue / 2 < alpha) and (revenue.mean() < interested_value):\n",
    "    print(\"Rechazamos la hipótesis nula: los ingresos fueron significativamente inferiores a 800 dólares\")\n",
    "else:\n",
    "    print(\"No podemos rechazar la hipótesis nula: los ingresos no fueron significativamente inferiores\")"
   ]
  },
  {
   "cell_type": "markdown",
   "metadata": {},
   "source": [
    "# ==================\n",
    "\n",
    "# Hipótesis sobre la igualdad de las medias de dos poblaciones\n",
    "\n",
    "A veces necesitas comparar las medias de dos poblaciones estadísticas diferentes.\n",
    "\n",
    "Si quieres saber si el gasto promedio varía para los clientes que vienen de diferentes canales, no es suficiente con simplemente comparar los números para un período determinado. Hasta que realices la prueba correcta no puedes decir que la diferencia entre las medias es aleatoria y tampoco puedes decir que la diferencia es lo suficientemente grande como para afirmar que el gasto entre las dos poblaciones de verdad varía (es decir, que la diferencia es significativa).\n",
    "\n",
    "Digamos que el importe de compra promedio del primer canal es de $20 y del segundo canal es de $25.\n",
    "\n",
    "¿Es significativa la diferencia entre estos números? Eso depende de la varianza de las muestras a partir de las cuales se calculan los valores. En vez de basar tu comparación solo en los promedios, usa los datasets para realizar una prueba estadística.\n",
    "\n",
    "Para probar tu hipótesis de que las medias de dos poblaciones estadísticas son iguales según las muestras tomadas de ellas, aplica la función scipy.stats.ttest_ind(array1, array2, equal_var).\n",
    "\n",
    "Pasamos estos parámetros a la función:\n",
    "\n",
    "- array1 y array2 son matrices que contienen las muestras.\n",
    "- equal_var (\"equal variance\", varianza igual) es un parámetro opcional que especifica si las varianzas de las poblaciones deben considerarse iguales o no. Se pasa como equal_var = True o equal_var = False (True significa que consideramos las varianzas iguales, False significa que no). Sabemos que las varianzas pueden ser diferentes. Para que te hagas una idea de dos poblaciones con varianzas diferentes (y los valores medios)\n",
    "\n",
    "¿Hay alguna razón para creer que las muestras se toman de poblaciones con parámetros similares? Si es así, establece este parámetro en True y la varianza de cada muestra se estimará a partir del dataset combinado de las dos muestras, no por separado para cada una.\n",
    "\n",
    "Hacemos esto para obtener los resultados más precisos. Sin embargo, lo hacemos solamente si las varianzas de las poblaciones estadísticas de las que se toman las muestras son aproximadamente iguales. De lo contrario, debemos establecer el parámetro en False; es True de forma predeterminada (si no lo configuras).\n",
    "\n",
    "Veamos un ejemplo con dos datasets: la cantidad gastada en compras realizadas en un mes por visitantes provenientes de dos canales diferentes. Tienes una muestra aleatoria de 30 compras de cada canal."
   ]
  },
  {
   "cell_type": "code",
   "execution_count": 3,
   "metadata": {},
   "outputs": [
    {
     "name": "stdout",
     "output_type": "stream",
     "text": [
      "valor p:  0.19124505225722097\n",
      "No podemos rechazar la hipótesis nula\n"
     ]
    }
   ],
   "source": [
    "from scipy import stats as st\n",
    "import numpy as np\n",
    "\n",
    "sample_1 = [3071, 3636, 3454, 3151, 2185, 3259, 1727, 2263, 2015, \n",
    "            2582, 4815, 633, 3186, 887, 2028, 3589, 2564, 1422, 1785, \n",
    "            3180, 1770, 2716, 2546, 1848, 4644, 3134, 475, 2686, \n",
    "            1838, 3352]\n",
    "\n",
    "sample_2 = [1211, 1228, 2157, 3699, 600, 1898, 1688, 1420, 5048, 3007, \n",
    "            509, 3777, 5583, 3949, 121, 1674, 4300, 1338, 3066, \n",
    "            3562, 1010, 2311, 462, 863, 2021, 528, 1849, 255, \n",
    "            1740, 2596]\n",
    "\n",
    "alpha = 0.05  # el nivel de significancia estadística crítica\n",
    "# si el valor p es menor que alpha, rechazamos la hipótesis\n",
    "\n",
    "results = st.ttest_ind(sample_1, sample_2) # realizar una prueba\n",
    "\n",
    "print('valor p: ', results.pvalue) # extraer el valor p\n",
    "\n",
    "if results.pvalue < alpha: # comparar el valor p con el umbral\n",
    "    print(\"Rechazamos la hipótesis nula\")\n",
    "else:\n",
    "    print(\"No podemos rechazar la hipótesis nula\")"
   ]
  }
 ],
 "metadata": {
  "kernelspec": {
   "display_name": "Python 3",
   "language": "python",
   "name": "python3"
  },
  "language_info": {
   "codemirror_mode": {
    "name": "ipython",
    "version": 3
   },
   "file_extension": ".py",
   "mimetype": "text/x-python",
   "name": "python",
   "nbconvert_exporter": "python",
   "pygments_lexer": "ipython3",
   "version": "3.11.7"
  }
 },
 "nbformat": 4,
 "nbformat_minor": 2
}
