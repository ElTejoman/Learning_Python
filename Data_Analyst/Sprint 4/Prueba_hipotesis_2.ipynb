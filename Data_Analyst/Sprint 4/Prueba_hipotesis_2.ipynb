{
 "cells": [
  {
   "cell_type": "markdown",
   "metadata": {},
   "source": [
    "# Prueba de hipotesis en Python\n",
    "\n",
    "En Python, existen funciones que podemos utilizar para comprobar hipótesis. No es necesario que elijas un nivel de significación o que averigües si un valor se encuentra o no dentro de un intervalo crítico. Una función devuelve la estadística de diferencia entre la media y el valor con el que lo estás comparando, y la importancia estadística de esta estadística es el valor p (de la palabra probabilidad).\n",
    "\n",
    "Es razonable usar el valor p para decidir si aceptar o rechazar la hipótesis nula. El valor p es la probabilidad de obtener un resultado al menos tan extremo como el que estás considerando, suponiendo que la hipótesis nula sea correcta. El valor p está indicado como porcentaje e indica el área bajo la curva que corresponde a una probabilidad.\n",
    "\n",
    "Si este valor es superior al 10%, definitivamente no debes rechazar la hipótesis nula. Si el valor p es más bajo, es posible que debas rechazar la hipótesis nula. Los valores de umbral convencionales son 5% y 1%.\n",
    "\n",
    "> **Recordar que siempre dependerá del analista cuál será el valor suficiente a considerar y validar o no una hipótesis**"
   ]
  },
  {
   "cell_type": "markdown",
   "metadata": {},
   "source": [
    "### La función que utilizaremos:\n",
    "\n",
    ">  **scipy.stats.ttest_1samp (array, popmean)**\n",
    "\n",
    "se usa para probar hipótesis del tipo \"la media de la población es igual a x\".\n",
    "\n",
    "ttest significa prueba t, del inglés t-test; 1samp significa que estamos trabajando con una muestra y comparándola con un valor dado.\n",
    "\n",
    "Pasamos estos parámetros a la función:\n",
    "\n",
    "- array es una matriz que contiene la muestra.\n",
    "- popmean es la media propuesta que estamos probando.\n",
    "\n",
    "Cuando se llama, la función devuelve la estadística de diferencia entre popmean y la media muestral de array. \n",
    "\n"
   ]
  },
  {
   "cell_type": "code",
   "execution_count": 2,
   "metadata": {},
   "outputs": [
    {
     "name": "stdout",
     "output_type": "stream",
     "text": [
      "Estadística t: 1.6390750941244592\n",
      "Valor p: 0.1356201035284866\n"
     ]
    }
   ],
   "source": [
    "from scipy import stats\n",
    "import numpy as np\n",
    "\n",
    "# Generar una muestra de alturas (en cm)\n",
    "muestra_alturas = np.array([160, 165, 170, 168, 172, 162, 166, 169, 167, 171])\n",
    "\n",
    "# Altura promedio en la población general (la que esperamos)\n",
    "altura_promedio_poblacion = 165\n",
    "\n",
    "# Realizar la prueba t de una muestra\n",
    "resultado_t_test, valor_p = stats.ttest_1samp(muestra_alturas, altura_promedio_poblacion)\n",
    "\n",
    "# Imprimir el resultado\n",
    "print(f\"Estadística t: {resultado_t_test}\")\n",
    "print(f\"Valor p: {valor_p}\")\n"
   ]
  }
 ],
 "metadata": {
  "kernelspec": {
   "display_name": "Python 3",
   "language": "python",
   "name": "python3"
  },
  "language_info": {
   "codemirror_mode": {
    "name": "ipython",
    "version": 3
   },
   "file_extension": ".py",
   "mimetype": "text/x-python",
   "name": "python",
   "nbconvert_exporter": "python",
   "pygments_lexer": "ipython3",
   "version": "3.11.6"
  }
 },
 "nbformat": 4,
 "nbformat_minor": 2
}
