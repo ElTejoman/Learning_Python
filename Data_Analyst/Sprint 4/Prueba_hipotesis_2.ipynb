{
 "cells": [
  {
   "cell_type": "markdown",
   "metadata": {},
   "source": [
    "# Prueba de hipotesis en Python\n",
    "\n",
    "En Python, existen funciones que podemos utilizar para comprobar hipótesis. No es necesario que elijas un nivel de significación o que averigües si un valor se encuentra o no dentro de un intervalo crítico. Una función devuelve la estadística de diferencia entre la media y el valor con el que lo estás comparando, y la importancia estadística de esta estadística es el valor p (de la palabra probabilidad).\n",
    "\n",
    "Es razonable usar el valor p para decidir si aceptar o rechazar la hipótesis nula. El valor p es la probabilidad de obtener un resultado al menos tan extremo como el que estás considerando, suponiendo que la hipótesis nula sea correcta. El valor p está indicado como porcentaje e indica el área bajo la curva que corresponde a una probabilidad.\n",
    "\n",
    "Si este valor es superior al 10%, definitivamente no debes rechazar la hipótesis nula. Si el valor p es más bajo, es posible que debas rechazar la hipótesis nula. Los valores de umbral convencionales son 5% y 1%.\n",
    "\n",
    "> **Recordar que siempre dependerá del analista cuál será el valor suficiente a considerar y validar o no una hipótesis**"
   ]
  },
  {
   "cell_type": "markdown",
   "metadata": {},
   "source": [
    "### La función que utilizaremos:\n",
    "\n",
    ">  **scipy.stats.ttest_1samp (array, popmean)**\n",
    "\n",
    "se usa para probar hipótesis del tipo \"la media de la población es igual a x\".\n",
    "\n",
    "ttest significa prueba t, del inglés t-test; 1samp significa que estamos trabajando con una muestra y comparándola con un valor dado.\n",
    "\n",
    "Pasamos estos parámetros a la función:\n",
    "\n",
    "- array es una matriz que contiene la muestra.\n",
    "- popmean es la media propuesta que estamos probando.\n",
    "\n",
    "Cuando se llama, la función devuelve la estadística de diferencia entre popmean y la media muestral de array. \n",
    "\n"
   ]
  },
  {
   "cell_type": "code",
   "execution_count": 2,
   "metadata": {},
   "outputs": [
    {
     "name": "stdout",
     "output_type": "stream",
     "text": [
      "Estadística t: 1.6390750941244592\n",
      "Valor p: 0.1356201035284866\n"
     ]
    }
   ],
   "source": [
    "from scipy import stats\n",
    "import numpy as np\n",
    "\n",
    "# Generar una muestra de alturas (en cm)\n",
    "muestra_alturas = np.array([160, 165, 170, 168, 172, 162, 166, 169, 167, 171])\n",
    "\n",
    "# Altura promedio en la población general (la que esperamos)\n",
    "altura_promedio_poblacion = 165\n",
    "\n",
    "# Realizar la prueba t de una muestra\n",
    "resultado_t_test, valor_p = stats.ttest_1samp(muestra_alturas, altura_promedio_poblacion)\n",
    "\n",
    "# Imprimir el resultado\n",
    "print(f\"Estadística t: {resultado_t_test}\")\n",
    "print(f\"Valor p: {valor_p}\")\n"
   ]
  },
  {
   "cell_type": "markdown",
   "metadata": {},
   "source": [
    "¡Ahora veamos cómo funciona en la práctica! Tu socio comercial dice que el sitio web que creaste se ha convertido en un medio para atraer usuarios. Dicen que los usuarios pasan dos horas al día en el sitio web. En otras palabras, nuestra hipótesis nula es que los usuarios pasan 2 horas en el sitio web.\n",
    "\n",
    "Han tomado una muestra de 200 personas de los registros de tiempo pasado en el sitio web. Vamos a comprobar la hipótesis de tu compañero realizando una prueba y comparando el valor p resultante con el umbral que fijaremos en el 5%."
   ]
  },
  {
   "cell_type": "code",
   "execution_count": null,
   "metadata": {},
   "outputs": [],
   "source": [
    "from scipy import stats as st\n",
    "import numpy as np\n",
    "import pandas as pd\n",
    "\n",
    "time_on_site = pd.read_csv('user_time.csv')\n",
    "\n",
    "interested_value = 120 # tiempo transcurrido en el sitio web\n",
    "\n",
    "alpha = .05 # la significancia estadística crítica (umbral)\n",
    "\n",
    "# realizar una prueba\n",
    "results = st.ttest_1samp(\n",
    "    time_on_site, \n",
    "    interested_value)\n",
    "\n",
    "# imprimir el valor p resultante\n",
    "print('valor p: ', results.pvalue)\n",
    "\n",
    "# comparar el valor p con el umbral\n",
    "if (results.pvalue < alpha):\n",
    "    print(\"Rechazamos la hipótesis nula\")\n",
    "else:\n",
    "    print(\"No podemos rechazar la hipótesis nula\")\n",
    "\n",
    "    # RESULTADO =======================\n",
    "\n",
    "\n",
    "#valor p:  [0.27702871]\n",
    "#No podemos rechazar la hipótesis nula"
   ]
  },
  {
   "cell_type": "markdown",
   "metadata": {},
   "source": [
    "El valor p resultante es 0.27702871, es decir, 27.7%. Esto representa la probabilidad de obtener un tiempo medio igual a 2 horas. Dado que esta probabilidad es bastante alta, parece que los usuarios pasan realmente unas dos horas en el sitio web. Utilizamos una prueba bilateral porque no nos importaba si el valor que obteníamos era superior o inferior al que proponía tu pareja (es decir, si era inferior o superior a 2 horas).\n",
    "\n",
    "Presta atención a cómo presentas tus resultados. Al principio de la lección dijimos que los datos nunca pueden probar o confirmar una hipótesis. Esto es de vital importancia. Si solo tenemos una muestra no sabemos nada sobre toda la población estadística con certeza. Si lo supiéramos, no necesitaríamos una prueba estadística.\n",
    "\n",
    "Solo podemos hacer suposiciones sobre una población estadística y calcular la probabilidad de obtener una muestra dada si nuestras suposiciones fueran correctas. Si la probabilidad es relativamente alta, los datos no nos dan motivos para rechazar una suposición. Si la probabilidad es baja, entonces a partir de los datos proporcionados podemos concluir que nuestra suposición probablemente fue incorrecta (pero no podemos rechazarla o probar lo contrario)."
   ]
  },
  {
   "cell_type": "markdown",
   "metadata": {},
   "source": [
    "# **Ejercicios**\n",
    "\n",
    "**Prueba de hipótesis en Python. Valores p**\n",
    "\n",
    "Eres el dueño de una cadena de estaciones de alquiler de patinetes llamada Scooters Get You There. Hay 20 locales en el centro de la ciudad y cada uno tiene un máximo de 50 patinetes eléctricos. Quieres probar la hipótesis de que en el último mes hubo un promedio de 30 patinetes disponibles en cualquier estación durante el día. Un grupo urbano llamado 'Squirrel' destacó la importancia de este número en su estudio de la movilidad de los residentes. Si hay menos patinetes en la estación, los usuarios pensarán que no podrán alquilar uno cuando lo necesiten, pero cuando haya más, la gente pensará que no podrán aparcar su patinete después de un viaje porque no habrá aparcamiento.\n",
    "\n",
    "Cada hora, cada estación envía el número de patinetes disponibles al servidor. Has descargado los números de 13:00 a 16:00 durante los últimos 30 días. Prueba tu hipótesis usando esta muestra. Establece un umbral de 5% para la significación estadística."
   ]
  },
  {
   "cell_type": "code",
   "execution_count": 3,
   "metadata": {},
   "outputs": [
    {
     "name": "stdout",
     "output_type": "stream",
     "text": [
      "valor p:  0.00033528259973700795\n",
      "Rechazamos la hipótesis nula\n"
     ]
    }
   ],
   "source": [
    "from scipy import stats as st\n",
    "import pandas as pd\n",
    "\n",
    "scooters = pd.Series([15, 31, 10, 21, 21, 32, 30, 25, 21,\n",
    "                      28, 25, 32, 38, 18, 33, 24, 26, 40, 24, 37, 20, 36, 28, 38,\n",
    "                      24, 35, 33, 21, 29, 26, 13, 25, 34, 38, 23, 37, 31, 28, 32,\n",
    "                      24, 25, 13, 38, 34, 48, 19, 20, 22, 38, 28, 31, 18, 21, 24,\n",
    "                      31, 21, 28, 29, 33, 40, 26, 33, 33, 6, 27, 24, 17, 28, 7,\n",
    "                      33, 25, 25, 29, 19, 30, 29, 22, 15, 28, 36, 25, 36, 25, 29,\n",
    "                      33, 19, 32, 32, 28, 26, 18, 48, 15, 27, 27, 27, 0, 28, 39,\n",
    "                      27, 25, 39, 28, 22, 33, 30, 35, 19, 20, 18, 31, 44, 20, 18,\n",
    "                      17, 28, 17, 44, 40, 33,])\n",
    "\n",
    "optimal_value = 30\n",
    "alpha = 0.05\n",
    "\n",
    "results = st.ttest_1samp(scooters, optimal_value)\n",
    "\n",
    "# Extraer el valor p correctamente\n",
    "p_value = results.pvalue\n",
    "\n",
    "print('valor p: ', p_value)\n",
    "\n",
    "if p_value < alpha:\n",
    "    print('Rechazamos la hipótesis nula')\n",
    "else:\n",
    "    print(\"No podemos rechazar la hipótesis nula\")\n"
   ]
  },
  {
   "cell_type": "markdown",
   "metadata": {},
   "source": [
    "# ======================\n",
    "\n",
    "# Formular hipotesis de una cola\n",
    "\n",
    "- La media de una población estadística es igual a un valor determinado.\n",
    "- Las medias de dos poblaciones estadísticas son iguales entre sí.\n",
    "- La media de una población estadística es mayor (o menor) que un valor determinado.\n",
    "- La media de una población estadística es mayor que (o menor que) la media de otra \n",
    "- población estadística.\n",
    "\n",
    "No existe una función especial para las pruebas unilaterales en Python, aunque existe uno para las pruebas bilaterales. Si necesitas una prueba unilateral, realiza una bilateral y divide el valor p entre 2. De esta forma, puedes obtener la significación estadística unilateral de la desviación del valor en cuestión con respecto al valor predicho. Esto funciona porque, por defecto, la prueba calcula la probabilidad de desviación en ambas direcciones. Dado que una prueba bilateral es simétrica, el valor p será exactamente el doble de lo que sería si te interesaras en la desviación de un solo lado.\n",
    "\n",
    "# **Ejemplo**\n",
    "\n",
    "Estás vendiendo sandías online. Para venderlas todas antes de que termine la temporada, contrataste a desarrolladores web para crear una página web llamada Watermelon Life. Observando las estadísticas, notaste que cuanto más tiempo las personas pasaban en tu sitio web (cuantos más bloques veían), más a menudo compraban sandías. El promedio de bloques vistos fue de 4.867.\n",
    "\n",
    "Los diseñadores insistieron en que cambies los primeros bloques para cumplir con las nuevas pautas, lo hiciste, pero la cantidad de pedidos no cambió. Pero probablemente los usuarios empezaron a realizar compras más rápidamente. Comprobemos si ese es el caso: si es así, los usuarios deberían decidir realizar compras después de ver solo los primeros bloques de la página web, por lo que la cantidad de bloques que ven debería ser menor ahora.\n",
    "\n",
    "Utilizaremos una muestra de 100 clientes seleccionados al azar. El dataset es el número de bloques de la página web vistos. Nuestra hipótesis nula consiste en que el número de bloques de páginas de destino vistos es inferior a 4.867."
   ]
  },
  {
   "cell_type": "code",
   "execution_count": 1,
   "metadata": {},
   "outputs": [
    {
     "name": "stdout",
     "output_type": "stream",
     "text": [
      "valor-p:  1.3358596895543794e-06\n",
      "Rechazamos la hipótesis nula\n"
     ]
    }
   ],
   "source": [
    "from scipy import stats as st\n",
    "import pandas as pd\n",
    "\n",
    "screens = pd.Series(\n",
    "    [\n",
    "        4,\n",
    "        2,\n",
    "        4,\n",
    "        5,\n",
    "        5,\n",
    "        4,\n",
    "        2,\n",
    "        3,\n",
    "        3,\n",
    "        5,\n",
    "        2,\n",
    "        5,\n",
    "        2,\n",
    "        2,\n",
    "        2,\n",
    "        3,\n",
    "        3,\n",
    "        4,\n",
    "        8,\n",
    "        3,\n",
    "        4,\n",
    "        3,\n",
    "        5,\n",
    "        5,\n",
    "        4,\n",
    "        2,\n",
    "        5,\n",
    "        2,\n",
    "        3,\n",
    "        7,\n",
    "        5,\n",
    "        5,\n",
    "        6,\n",
    "        5,\n",
    "        3,\n",
    "        4,\n",
    "        3,\n",
    "        6,\n",
    "        3,\n",
    "        4,\n",
    "        4,\n",
    "        3,\n",
    "        5,\n",
    "        4,\n",
    "        4,\n",
    "        8,\n",
    "        4,\n",
    "        7,\n",
    "        4,\n",
    "        5,\n",
    "        5,\n",
    "        3,\n",
    "        4,\n",
    "        6,\n",
    "        7,\n",
    "        2,\n",
    "        3,\n",
    "        6,\n",
    "        5,\n",
    "        6,\n",
    "        4,\n",
    "        4,\n",
    "        3,\n",
    "        4,\n",
    "        6,\n",
    "        4,\n",
    "        4,\n",
    "        6,\n",
    "        2,\n",
    "        6,\n",
    "        5,\n",
    "        3,\n",
    "        3,\n",
    "        3,\n",
    "        4,\n",
    "        5,\n",
    "        3,\n",
    "        5,\n",
    "        5,\n",
    "        4,\n",
    "        3,\n",
    "        3,\n",
    "        3,\n",
    "        1,\n",
    "        5,\n",
    "        4,\n",
    "        3,\n",
    "        4,\n",
    "        6,\n",
    "        3,\n",
    "        1,\n",
    "        3,\n",
    "        2,\n",
    "        7,\n",
    "        3,\n",
    "        6,\n",
    "        6,\n",
    "        6,\n",
    "        5,\n",
    "        5,\n",
    "    ]\n",
    ")\n",
    "\n",
    "prev_screens_value = 4.867  # número promedio de bloques vistos\n",
    "\n",
    "alpha = 0.05  # nivel de significación\n",
    "\n",
    "results = st.ttest_1samp(screens, prev_screens_value)\n",
    "\n",
    "# prueba unilateral: el valor p se divide en dos\n",
    "print(\"valor-p: \", results.pvalue / 2)\n",
    "\n",
    "# prueba unilateral a la izquierda:\n",
    "# rechaza la hipótesis solo si la media muestral es significativamente menor que el valor propuesto\n",
    "if (results.pvalue / 2 < alpha) and (screens.mean() < prev_screens_value):\n",
    "    print(\"Rechazamos la hipótesis nula\")\n",
    "else:\n",
    "    print(\"No podemos rechazar la hipótesis nula\")"
   ]
  },
  {
   "cell_type": "markdown",
   "metadata": {},
   "source": [
    "Como puedes ver en el código, en una prueba unilateral con la hipótesis alternativa \"El número de bloques vistos disminuyó\", la hipótesis nula se rechaza si se cumplen dos condiciones:\n",
    "\n",
    "- El valor observado es menor que el predicho.\n",
    "- La diferencia entre los valores es estadísticamente significativa (dividimos el valor p que obtuvimos de la prueba bilateral entre 2).\n",
    "\n",
    "Si la prueba fuera unilateral a la derecha con la hipótesis alternativa “El valor observado es mayor que el predicho”, uno de los signos “<” cambiaría a “>”. Las últimas líneas de código se verían así:"
   ]
  },
  {
   "cell_type": "code",
   "execution_count": 2,
   "metadata": {},
   "outputs": [
    {
     "name": "stdout",
     "output_type": "stream",
     "text": [
      "No podemos rechazar la hipótesis nula\n"
     ]
    }
   ],
   "source": [
    "if (results.pvalue / 2 < alpha) and (screens.mean() > prev_screens_value):\n",
    "    print(\"Rechazamos la hipótesis nula\")\n",
    "else:\n",
    "    print(\"No podemos rechazar la hipótesis nula\")"
   ]
  },
  {
   "cell_type": "markdown",
   "metadata": {},
   "source": [
    "Por cierto, podemos escribir el valor p obtenido (1.3358596895543794e-06) como 1.3358596895543794 por 10 elevado a menos 6 (o dividido entre 10 elevado a 6 o dividido entre un millón). Básicamente es un número muy muy pequeño."
   ]
  },
  {
   "cell_type": "markdown",
   "metadata": {},
   "source": [
    "# **Ejercicios**\n",
    "\n",
    "**Ejercicio 1**\n",
    "\n",
    "El 1 de junio de 2019 tomaste un curso del famoso coach y empresario llamado Robby Tobbinson. Si aplicas sus exclusivas técnicas conscientes de negocio se garantiza que tu proyecto online generará al menos $800 por día, quizás más, en solo un mes. Él te lo promete.\n",
    "\n",
    "Las promesas están bien pero las pruebas estadísticas son mejores. Vamos a ver qué nos dicen los números.\n",
    "\n",
    "Utiliza un dataset con los ingresos diarios del último mes para probar tu hipótesis. La hipótesis es que tus ingresos diarios promedio igualaron o superaron los $800.\n",
    "\n",
    "Recuerda: la hipótesis que contiene el signo de igualdad suele ser la hipótesis nula. Por lo tanto, \"Todo saldrá como lo predijo el coach\" es tu hipótesis nula y \"Los ingresos serán menores de lo que se predijo\" es la hipótesis alternativa. Las desviaciones aleatorias siempre son posibles. Solo puedes decir \"¡La metodología de Tobbinson no funcionó!\" si tus ingresos son significativamente inferiores a la cantidad propuesta.\n",
    "\n"
   ]
  },
  {
   "cell_type": "code",
   "execution_count": 2,
   "metadata": {},
   "outputs": [
    {
     "name": "stdout",
     "output_type": "stream",
     "text": [
      "valor p: 1.7869152078905524e-22\n",
      "Rechazamos la hipótesis nula: los ingresos fueron significativamente inferiores a 800 dólares\n"
     ]
    }
   ],
   "source": [
    "from scipy import stats as st\n",
    "import numpy as np\n",
    "import pandas as pd\n",
    "\n",
    "revenue = pd.Series([727, 678, 685, 669, 661, 705, 701, 717, \n",
    "                     655,643, 660, 709, 701, 681, 716, 655, \n",
    "                     716, 695, 684, 687, 669,647, 721, 681, \n",
    "                     674, 641, 704, 717, 656, 725, 684, 665])\n",
    "\n",
    "interested_value = 800 # ¿cuánto prometió Robby Tobbinson?\n",
    "\n",
    "alpha = 0.05 # indica el nivel de significación estadística\n",
    "\n",
    "results = st.ttest_1samp (revenue , interested_value) # utiliza la función st.ttest_1samp()\n",
    "\n",
    "print('valor p:', results.pvalue /2 )# imprime el valor p para una prueba unilateral)\n",
    "\n",
    "if (results.pvalue / 2 < alpha) and (revenue.mean() < interested_value):\n",
    "    print(\"Rechazamos la hipótesis nula: los ingresos fueron significativamente inferiores a 800 dólares\")\n",
    "else:\n",
    "    print(\"No podemos rechazar la hipótesis nula: los ingresos no fueron significativamente inferiores\")"
   ]
  },
  {
   "cell_type": "markdown",
   "metadata": {},
   "source": [
    "# ==================\n",
    "\n",
    "# Hipótesis sobre la igualdad de las medias de dos poblaciones\n",
    "\n",
    "A veces necesitas comparar las medias de dos poblaciones estadísticas diferentes.\n",
    "\n",
    "Si quieres saber si el gasto promedio varía para los clientes que vienen de diferentes canales, no es suficiente con simplemente comparar los números para un período determinado. Hasta que realices la prueba correcta no puedes decir que la diferencia entre las medias es aleatoria y tampoco puedes decir que la diferencia es lo suficientemente grande como para afirmar que el gasto entre las dos poblaciones de verdad varía (es decir, que la diferencia es significativa).\n",
    "\n",
    "Digamos que el importe de compra promedio del primer canal es de $20 y del segundo canal es de $25.\n",
    "\n",
    "¿Es significativa la diferencia entre estos números? Eso depende de la varianza de las muestras a partir de las cuales se calculan los valores. En vez de basar tu comparación solo en los promedios, usa los datasets para realizar una prueba estadística.\n",
    "\n",
    "Para probar tu hipótesis de que las medias de dos poblaciones estadísticas son iguales según las muestras tomadas de ellas, aplica la función scipy.stats.ttest_ind(array1, array2, equal_var).\n",
    "\n",
    "Pasamos estos parámetros a la función:\n",
    "\n",
    "- array1 y array2 son matrices que contienen las muestras.\n",
    "- equal_var (\"equal variance\", varianza igual) es un parámetro opcional que especifica si las varianzas de las poblaciones deben considerarse iguales o no. Se pasa como equal_var = True o equal_var = False (True significa que consideramos las varianzas iguales, False significa que no). Sabemos que las varianzas pueden ser diferentes. Para que te hagas una idea de dos poblaciones con varianzas diferentes (y los valores medios)\n",
    "\n",
    "¿Hay alguna razón para creer que las muestras se toman de poblaciones con parámetros similares? Si es así, establece este parámetro en True y la varianza de cada muestra se estimará a partir del dataset combinado de las dos muestras, no por separado para cada una.\n",
    "\n",
    "Hacemos esto para obtener los resultados más precisos. Sin embargo, lo hacemos solamente si las varianzas de las poblaciones estadísticas de las que se toman las muestras son aproximadamente iguales. De lo contrario, debemos establecer el parámetro en False; es True de forma predeterminada (si no lo configuras).\n",
    "\n",
    "Veamos un ejemplo con dos datasets: la cantidad gastada en compras realizadas en un mes por visitantes provenientes de dos canales diferentes. Tienes una muestra aleatoria de 30 compras de cada canal."
   ]
  },
  {
   "cell_type": "code",
   "execution_count": 3,
   "metadata": {},
   "outputs": [
    {
     "name": "stdout",
     "output_type": "stream",
     "text": [
      "valor p:  0.19124505225722097\n",
      "No podemos rechazar la hipótesis nula\n"
     ]
    }
   ],
   "source": [
    "from scipy import stats as st\n",
    "import numpy as np\n",
    "\n",
    "sample_1 = [3071, 3636, 3454, 3151, 2185, 3259, 1727, 2263, 2015, \n",
    "            2582, 4815, 633, 3186, 887, 2028, 3589, 2564, 1422, 1785, \n",
    "            3180, 1770, 2716, 2546, 1848, 4644, 3134, 475, 2686, \n",
    "            1838, 3352]\n",
    "\n",
    "sample_2 = [1211, 1228, 2157, 3699, 600, 1898, 1688, 1420, 5048, 3007, \n",
    "            509, 3777, 5583, 3949, 121, 1674, 4300, 1338, 3066, \n",
    "            3562, 1010, 2311, 462, 863, 2021, 528, 1849, 255, \n",
    "            1740, 2596]\n",
    "\n",
    "alpha = 0.05  # el nivel de significancia estadística crítica\n",
    "# si el valor p es menor que alpha, rechazamos la hipótesis\n",
    "\n",
    "results = st.ttest_ind(sample_1, sample_2) # realizar una prueba\n",
    "\n",
    "print('valor p: ', results.pvalue) # extraer el valor p\n",
    "\n",
    "if results.pvalue < alpha: # comparar el valor p con el umbral\n",
    "    print(\"Rechazamos la hipótesis nula\")\n",
    "else:\n",
    "    print(\"No podemos rechazar la hipótesis nula\")"
   ]
  },
  {
   "cell_type": "markdown",
   "metadata": {},
   "source": [
    "# **Ejercicios**\n",
    "\n",
    "**Ejercicio 1**\n",
    "\n",
    "Hay dos conjuntos de datos: el tiempo promedio que pasan en un sitio web 1. los usuarios que inician sesión con nombre de usuario y contraseña, y 2. los usuarios que inician sesión a través de las redes sociales. Prueba la hipótesis de que ambos grupos de usuarios pasan la misma cantidad de tiempo en el sitio web."
   ]
  },
  {
   "cell_type": "code",
   "execution_count": 4,
   "metadata": {},
   "outputs": [
    {
     "name": "stdout",
     "output_type": "stream",
     "text": [
      "valor p: 0.0010501061456827461\n",
      "Rechazamos la hipótesis nula\n"
     ]
    }
   ],
   "source": [
    "from scipy import stats as st\n",
    "import numpy as np\n",
    "\n",
    "# tiempo pasado en el sitio web por usuarios con un nombre de usuario y contraseña\n",
    "time_on_site_logpass = [368, 113, 328, 447, 1, 156, 335, 233, \n",
    "                       308, 181, 271, 239, 411, 293, 303, \n",
    "                       206, 196, 203, 311, 205, 297, 529, \n",
    "                       373, 217, 416, 206, 1, 128, 16, 214]\n",
    "\n",
    "# tiempo pasado en el sitio web por los usuarios que inician sesión a través de las redes sociales\n",
    "time_on_site_social  = [451, 182, 469, 546, 396, 630, 206, \n",
    "                        130, 45, 569, 434, 321, 374, 149, \n",
    "                        721, 350, 347, 446, 406, 365, 203, \n",
    "                        405, 631, 545, 584, 248, 171, 309, \n",
    "                        338, 505]\n",
    "\n",
    "\n",
    "# tu código va debajo\n",
    "\n",
    "alpha = 0.05 # tu código: establece un nivel crítico de significación estadística\n",
    "\n",
    "results = st.ttest_ind(time_on_site_logpass , time_on_site_social)  # tu código: prueba la hipótesis de que las medias de las dos poblaciones independientes son iguales\n",
    "\n",
    "print('valor p:', results.pvalue) # tu código: imprime el valor p obtenido)\n",
    "\n",
    "if results.pvalue < alpha: # tu código: compara los valores p obtenidos con el nivel de significación estadística):\n",
    "    print(\"Rechazamos la hipótesis nula\")\n",
    "else:\n",
    "    print(\"No podemos rechazar la hipótesis nula\")"
   ]
  },
  {
   "cell_type": "markdown",
   "metadata": {},
   "source": [
    "**Ejercicio 2**\n",
    "\n",
    "Tenemos dos datasets: la profundidad de la visita al sitio web de diferentes grupos de usuarios para los meses de verano y otoño. Prueba la hipótesis de que las profundidades de visita de los sitios web son iguales. Por ejemplo, puede ser que en verano los visitantes no se sumerjan tanto en el contenido, lo que sería algo a tener en cuenta al planificar una campaña publicitaria para los meses de verano. Vamos a establecer el nivel de significación en 0.05.\n",
    "\n",
    "No esperamos que las varianzas sean las mismas así que establece el parámetro equal_var en False.  Puedes ejecutar np.var(pages_per_session_autumn) etcétera para verificar la varianza del conjunto."
   ]
  },
  {
   "cell_type": "code",
   "execution_count": 5,
   "metadata": {},
   "outputs": [
    {
     "name": "stdout",
     "output_type": "stream",
     "text": [
      "valor p: 0.002200163165401993\n",
      "Rechazamos la hipótesis nula\n"
     ]
    }
   ],
   "source": [
    "from scipy import stats as st\n",
    "import numpy as np\n",
    "\n",
    "pages_per_session_autumn = [7.1, 7.3, 9.8, 7.3, 6.4, 10.5, 8.7, \n",
    "                            17.5, 3.3, 15.5, 16.2, 0.4, 8.3, \n",
    "                            8.1, 3.0, 6.1, 4.4, 18.8, 14.7, 16.4, \n",
    "                            13.6, 4.4, 7.4, 12.4, 3.9, 13.6, \n",
    "                            8.8, 8.1, 13.6, 12.2]\n",
    "pages_per_session_summer = [12.1, 24.3, 6.4, 19.9, 19.7, 12.5, 17.6, \n",
    "                            5.0, 22.4, 13.5, 10.8, 23.4, 9.4, 3.7, \n",
    "                            2.5, 19.8, 4.8, 29.0, 1.7, 28.6, 16.7, \n",
    "                            14.2, 10.6, 18.2, 14.7, 23.8, 15.9, 16.2, \n",
    "                            12.1, 14.5]\n",
    "\n",
    "alpha = 0.05 # tu código: establece un nivel crítico de significación estadística\n",
    "\n",
    "results = st.ttest_ind(pages_per_session_autumn , pages_per_session_summer , equal_var = False )# tu código: prueba la hipótesis de que las medias de las dos poblaciones independientes son iguales\n",
    "\n",
    "print('valor p:', results.pvalue) # tu código: imprime el valor p obtenido)\n",
    "\n",
    "if results.pvalue < alpha : # su código: compara los valores p obtenidos con el nivel de significación estadística):\n",
    "    print(\"Rechazamos la hipótesis nula\")\n",
    "else:\n",
    "    print(\"No podemos rechazar la hipótesis nula\")"
   ]
  },
  {
   "cell_type": "markdown",
   "metadata": {},
   "source": [
    "**Nuestro análisis sugiere que el comportamiento de los usuarios difiere de verano a otoño, pero no tenemos suficientes datos para decir precisamente cómo. ¿Quizás los usuarios pasan menos tiempo en el sitio web cuando hace calor afuera? O tal vez ¿el sitio vende bañadores?**"
   ]
  },
  {
   "cell_type": "markdown",
   "metadata": {},
   "source": [
    "# =====================\n",
    "\n",
    "# Hipotesis sobre la igualdad de las medias de muestras emparejadas\n",
    "\n",
    "Cuando trabajamos con una población estadística es útil saber si los cambios tienen un efecto en la media de la población. Por ejemplo, vamos a ver si el peso de los paquetes pedidos por los clientes cambió cuando se modificó el método para calcular los costes de envío. En este caso, el cambio se refiere al nuevo método de calcular los costes de envío. La media poblacional representa el peso promedio de un paquete pedido.\n",
    "\n",
    "Usaremos muestras emparejadas, lo que significa que medimos una variable dos veces para cada cliente, antes y después de los cambios.\n",
    "\n",
    "Para probar la hipótesis de que las medias de dos poblaciones son iguales para muestras dependientes (emparejadas) usamos esta función: \n",
    "> scipy.stats.ttest_rel().\n",
    "\n",
    "Solo necesita dos parámetros: matrices con datos del antes y después. Las matrices deben ser del mismo tamaño.\n",
    "Tenemos dos datasets: el peso del paquete en gramos antes de cambiar el método de cálculo del precio de envío y el peso después (para los mismos clientes habituales). Vamos a probar la hipótesis de que el peso del paquete no cambió, aunque sí lo hizo el método para calcular el precio de envío."
   ]
  },
  {
   "cell_type": "code",
   "execution_count": 1,
   "metadata": {},
   "outputs": [
    {
     "name": "stdout",
     "output_type": "stream",
     "text": [
      "valor p:  0.005825972457958989\n",
      "Rechazamos la hipótesis nula\n"
     ]
    }
   ],
   "source": [
    "from scipy import stats as st\n",
    "import numpy as np\n",
    "\n",
    "before = [\n",
    "    157,\n",
    "    114,\n",
    "    152,\n",
    "    355,\n",
    "    155,\n",
    "    513,\n",
    "    299,\n",
    "    268,\n",
    "    164,\n",
    "    320,\n",
    "    192,\n",
    "    262,\n",
    "    506,\n",
    "    240,\n",
    "    364,\n",
    "    179,\n",
    "    246,\n",
    "    427,\n",
    "    187,\n",
    "    431,\n",
    "    320,\n",
    "    193,\n",
    "    313,\n",
    "    347,\n",
    "    312,\n",
    "    92,\n",
    "    177,\n",
    "    225,\n",
    "    242,\n",
    "    312,\n",
    "]\n",
    "\n",
    "after = [\n",
    "    282,\n",
    "    220,\n",
    "    162,\n",
    "    226,\n",
    "    296,\n",
    "    479,\n",
    "    248,\n",
    "    322,\n",
    "    298,\n",
    "    418,\n",
    "    552,\n",
    "    246,\n",
    "    251,\n",
    "    404,\n",
    "    368,\n",
    "    484,\n",
    "    358,\n",
    "    264,\n",
    "    359,\n",
    "    410,\n",
    "    382,\n",
    "    350,\n",
    "    406,\n",
    "    416,\n",
    "    438,\n",
    "    364,\n",
    "    283,\n",
    "    314,\n",
    "    420,\n",
    "    218,\n",
    "]\n",
    "\n",
    "alpha = 0.05  # el nivel de significancia estadística crítica\n",
    "\n",
    "results = st.ttest_rel(before, after)\n",
    "\n",
    "print(\"valor p: \", results.pvalue)\n",
    "\n",
    "if results.pvalue < alpha:\n",
    "    print(\"Rechazamos la hipótesis nula\")\n",
    "else:\n",
    "    print(\"No podemos rechazar la hipótesis nula\")"
   ]
  },
  {
   "cell_type": "markdown",
   "metadata": {},
   "source": [
    "> Los datos proporcionan evidencia suficiente, dado el nivel de significación que seleccionamos, para rechazar la hipótesis nula. Por lo tanto, podemos concluir que ha habido un cambio en los pesos de los paquetes."
   ]
  },
  {
   "cell_type": "markdown",
   "metadata": {},
   "source": [
    "# Ejercicios\n",
    "\n",
    "**Ejercicio 1**\n",
    "\n",
    "Tenemos dos datasets: el tiempo que un grupo de usuarios pasó en sus páginas personales en un sitio web, registrado antes y después de que se rediseñó la página personal. Prueba la hipótesis de que el tiempo que pasan allí cambió (aumentó o disminuyó) después del rediseño.\n",
    "\n",
    "Piensa en la frase \"el tiempo que pasan allí cambió\" de la hipótesis anterior. ¿Sugiere la necesidad de una prueba unilateral o bilateral?"
   ]
  },
  {
   "cell_type": "code",
   "execution_count": 2,
   "metadata": {},
   "outputs": [
    {
     "name": "stdout",
     "output_type": "stream",
     "text": [
      "valor p: 0.0751397944405015\n",
      "No podemos rechazar la hipótesis nula\n"
     ]
    }
   ],
   "source": [
    "from scipy import stats as st\n",
    "import numpy as np\n",
    "\n",
    "time_before = [\n",
    "    1732,\n",
    "    1301,\n",
    "    1540,\n",
    "    2247,\n",
    "    1632,\n",
    "    1550,\n",
    "    754,\n",
    "    1946,\n",
    "    1889,\n",
    "    2748,\n",
    "    1349,\n",
    "    1648,\n",
    "    1665,\n",
    "    2416,\n",
    "    1470,\n",
    "    1681,\n",
    "    1868,\n",
    "    1629,\n",
    "    1271,\n",
    "    1633,\n",
    "    2131,\n",
    "    942,\n",
    "    1599,\n",
    "    1127,\n",
    "    2200,\n",
    "    661,\n",
    "    1207,\n",
    "    1737,\n",
    "    2410,\n",
    "    1486,\n",
    "]\n",
    "\n",
    "time_after = [\n",
    "    955,\n",
    "    2577,\n",
    "    360,\n",
    "    139,\n",
    "    1618,\n",
    "    990,\n",
    "    644,\n",
    "    1796,\n",
    "    1487,\n",
    "    949,\n",
    "    472,\n",
    "    1906,\n",
    "    1758,\n",
    "    1258,\n",
    "    2554,\n",
    "    612,\n",
    "    309,\n",
    "    1864,\n",
    "    1294,\n",
    "    1487,\n",
    "    1164,\n",
    "    1559,\n",
    "    491,\n",
    "    2286,\n",
    "    1270,\n",
    "    2069,\n",
    "    1553,\n",
    "    1629,\n",
    "    1704,\n",
    "    1623,\n",
    "]\n",
    "\n",
    "alpha = 0.05  # tu código: establece un nivel crítico de significación estadística\n",
    "\n",
    "results = st.ttest_rel(\n",
    "    time_before, time_after\n",
    ")  # tu código: realiza la prueba y calcula el valor p\n",
    "\n",
    "print(\"valor p:\", results.pvalue)  # tu código: imprime el valor p obtenido)\n",
    "\n",
    "if (\n",
    "    results.pvalue < alpha\n",
    "):  # tu código: compara el valor p con el nivel de la significación estadística):\n",
    "    print(\"Rechazamos la hipótesis nula\")\n",
    "else:\n",
    "    print(\"No podemos rechazar la hipótesis nula\")"
   ]
  },
  {
   "cell_type": "markdown",
   "metadata": {},
   "source": [
    "> Podemos inferir que el tiempo que los usuarios pasaban antes y despues del rediseño no ha cambiado"
   ]
  },
  {
   "cell_type": "markdown",
   "metadata": {},
   "source": [
    "**Ejercicio 2**\n",
    "\n",
    "Tenemos dos datasets: la cantidad de balas compradas por jugadores apasionados de un juego online, antes y después de introducir una mecánica que proporcionó incentivos para disparar en ráfagas. Prueba la hipótesis de que los jugadores empezaron a usar más balas después de que se introdujo la nueva característica.\n",
    "\n",
    "Piensa en la palabra \"más\" de la hipótesis anterior. ¿Sugiere la necesidad de una prueba unilateral o bilateral?"
   ]
  },
  {
   "cell_type": "code",
   "execution_count": 4,
   "metadata": {},
   "outputs": [
    {
     "name": "stdout",
     "output_type": "stream",
     "text": [
      "media anterior: 591.7333333333333\n",
      "media posterior: 932.0666666666667\n",
      "valor-p: 0.005394751910405561\n",
      "Rechazamos la hipótesis nula\n"
     ]
    }
   ],
   "source": [
    "from scipy import stats as st\n",
    "import numpy as np\n",
    "import pandas as pd\n",
    "\n",
    "bullets_before = [\n",
    "    821,\n",
    "    1164,\n",
    "    598,\n",
    "    854,\n",
    "    455,\n",
    "    1220,\n",
    "    161,\n",
    "    1400,\n",
    "    479,\n",
    "    215,\n",
    "    564,\n",
    "    159,\n",
    "    920,\n",
    "    173,\n",
    "    276,\n",
    "    444,\n",
    "    273,\n",
    "    711,\n",
    "    291,\n",
    "    880,\n",
    "    892,\n",
    "    712,\n",
    "    16,\n",
    "    476,\n",
    "    498,\n",
    "    9,\n",
    "    1251,\n",
    "    938,\n",
    "    389,\n",
    "    513,\n",
    "]\n",
    "\n",
    "bullets_after = [\n",
    "    904,\n",
    "    220,\n",
    "    676,\n",
    "    459,\n",
    "    299,\n",
    "    659,\n",
    "    1698,\n",
    "    1120,\n",
    "    514,\n",
    "    1086,\n",
    "    1499,\n",
    "    1262,\n",
    "    829,\n",
    "    476,\n",
    "    1149,\n",
    "    996,\n",
    "    1247,\n",
    "    1117,\n",
    "    1324,\n",
    "    532,\n",
    "    1458,\n",
    "    898,\n",
    "    1837,\n",
    "    455,\n",
    "    1667,\n",
    "    898,\n",
    "    474,\n",
    "    558,\n",
    "    639,\n",
    "    1012,\n",
    "]\n",
    "\n",
    "print(\"media anterior:\", pd.Series(bullets_before).mean())\n",
    "print(\"media posterior:\", pd.Series(bullets_after).mean())\n",
    "\n",
    "alpha = 0.05  # tu código: establece un nivel crítico de significación estadística\n",
    "\n",
    "results = st.ttest_rel(bullets_before, bullets_after)\n",
    "\n",
    "print(\"valor-p:\", results.pvalue / 2)  # tu código: imprime el valor p obtenido)\n",
    "\n",
    "if (\n",
    "    results.pvalue / 2 < alpha\n",
    "):  # tu código: compara el valor p con la significación estadística):\n",
    "    print(\"Rechazamos la hipótesis nula\")\n",
    "else:\n",
    "    print(\"No podemos rechazar la hipótesis nula\")"
   ]
  },
  {
   "cell_type": "markdown",
   "metadata": {},
   "source": [
    "> Sabemos que los jugadores disparan en rafagas y emplean mas balas. En este caso utilizamos la prueba unilateral debido a la palabra \"màs\". Si no sabemos la direccion de cambio, solo usaremos pruebas bilaterales"
   ]
  }
 ],
 "metadata": {
  "kernelspec": {
   "display_name": "Python 3",
   "language": "python",
   "name": "python3"
  },
  "language_info": {
   "codemirror_mode": {
    "name": "ipython",
    "version": 3
   },
   "file_extension": ".py",
   "mimetype": "text/x-python",
   "name": "python",
   "nbconvert_exporter": "python",
   "pygments_lexer": "ipython3",
   "version": "3.11.7"
  }
 },
 "nbformat": 4,
 "nbformat_minor": 2
}
