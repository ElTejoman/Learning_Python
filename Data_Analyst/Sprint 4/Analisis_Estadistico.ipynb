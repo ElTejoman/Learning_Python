{
 "cells": [
  {
   "cell_type": "markdown",
   "metadata": {},
   "source": [
    "# Análisis Estadístico de Datos\n",
    "\n",
    "En este sprint voy a:\n",
    "\n",
    "- Evaluar variables continuas y discretas utilizando histogramas de varios tipos.\n",
    "- Sacar conclusiones sobre los datos basados en métricas estadísticas.\n",
    "- Familiarizarte con la teoría de la probabilidad.\n",
    "- Definir tipos de distribución y aprender a calcular distribuciones normales y binomiales.\n",
    "- Aprender a formular y probar hipótesis."
   ]
  },
  {
   "cell_type": "code",
   "execution_count": null,
   "metadata": {},
   "outputs": [],
   "source": []
  }
 ],
 "metadata": {
  "language_info": {
   "name": "python"
  }
 },
 "nbformat": 4,
 "nbformat_minor": 2
}
