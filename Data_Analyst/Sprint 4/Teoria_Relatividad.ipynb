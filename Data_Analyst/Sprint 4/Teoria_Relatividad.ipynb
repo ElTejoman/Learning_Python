{
 "cells": [
  {
   "cell_type": "markdown",
   "metadata": {},
   "source": [
    "# **Teoría de la probabilidad**\n",
    "\n",
    "Nadie puede predecir el futuro con un 100% de seguridad, pero los estadísticos son capaces de calcular la probabilidad de varios resultados en situaciones muy diversas. Aunque no resuelve todos los problemas, hace nuestra vida más fácil y predecible.\n",
    "En este capítulo, descubrirás cómo calcular las probabilidades de distintos eventos utilizando datos diferentes.\n",
    "\n",
    "Aprenderé:\n",
    "\n",
    "- Fórmulas básicas para calcular la probabilidad de eventos únicos y múltiples.\n",
    "- Fundamentos de combinatoria.\n",
    "- Tipos de distribución de características, incluidas la binomial y la normal.\n",
    "- Utilizar Python para resolver problemas relacionados con el cálculo de probabilidades."
   ]
  },
  {
   "cell_type": "markdown",
   "metadata": {},
   "source": [
    "En estadística, utilizamos la letra P para denotar probabilidad y la letra A para denotar un evento de nuestro interés. Por lo tanto, la notación P(A) describe la probabilidad del evento A.\n",
    "El P(A) puede calcularse del siguiente modo:\n",
    "\n",
    "`# de resultados que satisfacen el evento\n",
    "\n",
    "`-----------------------------------------\n",
    "\n",
    "` de resultados que satisfacen el evento\n",
    "​\n",
    " \n",
    "Si el evento A se define como \"tirar un número de 5 o mayor\", entonces P(A) es (1 + 1) / 6 = 1/3.\n",
    "\n",
    "## Eventos y espacios muestrales\n",
    "\n",
    "El conjunto de todos los resultados posibles de un experimento se denomina espacio muestral, normalmente denotado con S.\n",
    "\n",
    "Para ilustrarlo, consideremos el ejemplo de lanzar un solo dado. El espacio de muestra asociado a este evento es:\n",
    "\n",
    "S={1,2,3,4,5,6}\n",
    "\n",
    "**Por ejemplo, supongamos que el evento A es \"sacar un número menor que 3\". Después de examinar el espacio muestral, observamos que hay dos números que son menores que 3. Por consiguiente, la probabilidad del evento A, representada por P(A), donde P representa la probabilidad, es 2 (el número de resultados que satisfacen A) dividido entre 6 (la longitud de S).**"
   ]
  },
  {
   "cell_type": "markdown",
   "metadata": {},
   "source": [
    "**Ejemplo 1:**\n",
    "\n",
    "Volvamos al ejemplo de los billetes de lotería. Tenemos el mismo conjunto que antes, pero los resultados han cambiado. El billete #1 gana $100, los billetes #2 y #3 ganan $10 cada uno, el billete #4 gana otro billete de lotería y los billetes restantes no son ganadores. ¿Qué es S en esta situación?\n",
    "\n",
    "**{#1 ($100), #2 ($10), #3 ($10), #4 (new ticket), #5 (-), #6 (-), #7 (-), #8 (-), #9 (-), #10 (-)}**\n",
    "*Todos y cada uno de los billetes deben incluirse en el espacio muestral.*"
   ]
  },
  {
   "cell_type": "markdown",
   "metadata": {},
   "source": [
    "**Ejemplo 2:**\n",
    "\n",
    "El documento analiza el espacio muestral de tirar dos dados, donde cada par es el resultado del primer y segundo dado. Con sólo añadir una tirada más, el espacio muestral pasa de 6 a 36 resultados. Como cada dado es independiente, los 36 resultados tienen la misma probabilidad de ocurrir. Las probabilidades pueden calcularse de la misma manera.\n",
    "\n",
    "Se lanzan dos dados. Que sea el evento A \"la suma de los dos dados es 5\". ¿Qué es P(A)?\n",
    "\n",
    "**4/36**\n",
    "\n",
    "*Hay cuatro combinaciones posibles: {1, 4}, {4, 1}, {2, 3}, {3, 2}. Por lo tanto, tenemos que poner 4 en el numerador y 36 (el número total de resultados posibles) en el denominador.*"
   ]
  },
  {
   "cell_type": "markdown",
   "metadata": {},
   "source": [
    "## Ley de los grandes números\n",
    "\n",
    "La ley de los grandes números establece que, a medida que el número de lanzamientos se acerca al infinito, la frecuencia relativa de este evento se aproximará a la verdadera probabilidad del evento.\n",
    "\n",
    "## Probabilidades del espacio muestral en Python\n",
    "\n",
    "En Python, los cálculos de probabilidad simples basados en espacios muestrales como estos se pueden realizar fácilmente usando el operador lógico == y la función len().\n",
    "\n",
    "- Utilizar == identificará las filas que satisfacen tu evento.\n",
    "- len() proporcionará el recuento de filas que satisfacen tu evento.\n",
    "\n",
    "Aquí te mostramos un ejemplo.\n",
    "\n",
    "Has creado una lista de reproducción en la aplicación Spotify con dos columnas: 'Artist' y 'Song'."
   ]
  }
 ],
 "metadata": {
  "language_info": {
   "name": "python"
  }
 },
 "nbformat": 4,
 "nbformat_minor": 2
}
