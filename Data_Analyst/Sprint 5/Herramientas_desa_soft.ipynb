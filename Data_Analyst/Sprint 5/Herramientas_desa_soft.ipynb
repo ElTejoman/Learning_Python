{
 "cells": [
  {
   "cell_type": "markdown",
   "metadata": {},
   "source": [
    "# **Herramientas Desarrollo Software**\n",
    "\n",
    "## Comandos\n",
    "\n",
    "Un comando no es más que un programa que le dice al sistema lo que tiene que hacer. Es importante tener en cuenta que los comandos distinguen entre mayúsculas y minúsculas, por lo que comando no es lo mismo que Comando.\n",
    "\n",
    "Para escribir un comando, hay que introducirlo en la ventana de la Terminal y pulsar Enter para su ejecución.\n",
    "\n",
    "## Opciones:\n",
    "\n",
    "Si lo que queremos es modificar ligeramente el comportamiento de un comando, deberemos utilizar las opciones. Los comandos van seguidos de opciones.\n",
    "\n",
    "La opción r modifica el comando ls con el fin de mostrar la misma información, pero en orden inverso. El comando ls muestra el contenido en orden alfabético. A veces es posible que queramos empezar desde la Z hasta la A. \n",
    "\n",
    "En general, las opciones van precedidas por un guion (-) o un doble guion (--). Cabe mencionar que se pueden utilizar varias opciones. Por ejemplo, la opción -a para el comando ls nos permite mostrar tanto los archivos y subdirectorios comunes como los ocultos.\n",
    "\n"
   ]
  },
  {
   "cell_type": "code",
   "execution_count": null,
   "metadata": {},
   "outputs": [],
   "source": []
  }
 ],
 "metadata": {
  "language_info": {
   "name": "python"
  }
 },
 "nbformat": 4,
 "nbformat_minor": 2
}
