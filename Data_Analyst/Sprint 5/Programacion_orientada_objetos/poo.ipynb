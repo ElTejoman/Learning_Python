{
 "cells": [
  {
   "cell_type": "markdown",
   "metadata": {},
   "source": [
    "# **Programación Orientada a Objetos**\n",
    "\n",
    "Python es un lenguaje orientado a objetos. Todo es objeto en Python, ¡incluso las excepciones! Diferentes objetos pertenecen a diferentes clases, que determinan lo que podemos hacer con ellos. Las clases pueden formar estructuras ramificadas, donde algunas clases específicas se construyen a partir de otras más genéricas, añadiendo o modificando funcionalidad.\n",
    "\n",
    "## Clases\n",
    "\n",
    "Las clases son plantillas para crear instancias, que son objetos independientes de una clase determinada. Por ejemplo, '¡Hola, mundo!' es una instancia de la clase str.\n",
    "\n",
    "Todas las instancias de una misma clase tienen el mismo conjunto de atributos y métodos. Hay muchas clases incorporadas, tales como cadenas, diccionarios, listas, etc. Todas ellas cuentan con métodos específicos que definen su uso y con atributos particulares que contienen información sobre estas clases. Por ejemplo, el método append() puede aplicarse a cualquier lista porque este método está definido en la clase list:"
   ]
  },
  {
   "cell_type": "code",
   "execution_count": 1,
   "metadata": {},
   "outputs": [
    {
     "name": "stdout",
     "output_type": "stream",
     "text": [
      "['coat', 'goat', 'boat']\n"
     ]
    }
   ],
   "source": [
    "my_list = [\"coat\", \"goat\"]\n",
    "my_list.append(\"boat\")\n",
    "print(my_list)"
   ]
  },
  {
   "cell_type": "markdown",
   "metadata": {},
   "source": [
    "## Crear una clase\n",
    "\n",
    "Supongamos que estamos desarrollando un videojuego y queremos crear algunos personajes con diferentes características, así como definir las acciones que el jugador pueda realizar en nuestro juego. Hay diferentes tipos de personajes: magos, guerreros, etc., los cuales tienen diferentes propiedades y pueden hacer distintas cosas.\n",
    "\n",
    "¿Cómo convertiríamos el diseño de personajes en código Python? Una posible solución sería utilizar diccionarios para crear personajes y funciones para interactuar con el jugador, por ejemplo, así:"
   ]
  },
  {
   "cell_type": "code",
   "execution_count": null,
   "metadata": {},
   "outputs": [],
   "source": [
    "mage = {\"health\": 50, \"damage\": 10, \"knowledge\": 95}\n",
    "knight = {\"health\": 100, \"damage\": 25, \"knowledge\": 20}\n",
    "\n",
    "arthur = knight.copy()  # hacer una copia del diccionario 'knight' original\n",
    "arthur[\"name\"] = \"Arthur\"  # reemplazar el nombre dentro de la copia\n",
    "\n",
    "richard = knight.copy()  # hacer otra copia del diccionario 'knight' original\n",
    "richard[\"name\"] = \"Richard\"  # reemplazar el nombre dentro de la copia\n",
    "\n",
    "\n",
    "def heal(character):  # crear la función que cambia la salud\n",
    "    character[\"health\"] += 20\n",
    "\n",
    "\n",
    "heal(richard)  # llamar a la función para cambiar la salud de Richard"
   ]
  },
  {
   "cell_type": "markdown",
   "metadata": {},
   "source": [
    "Gracias a las clases podemos crear personajes de videojuegos con mayor facilidad:\n"
   ]
  },
  {
   "cell_type": "code",
   "execution_count": 1,
   "metadata": {},
   "outputs": [],
   "source": [
    "class Knight:  # crear la clase Knight\n",
    "    def __init__(self, name):\n",
    "        # establecer parámetros\n",
    "        self.health = 100\n",
    "        self.damage = 25\n",
    "        self.knowledge = 20\n",
    "        self.name = name\n",
    "\n",
    "\n",
    "arthur = Knight(\"Arthur\")\n",
    "richard = Knight(\"Richard\")"
   ]
  },
  {
   "cell_type": "markdown",
   "metadata": {},
   "source": [
    "## Atributos\n",
    "\n",
    "Cada instancia de Knight() tiene atributos a los que podemos acceder utilizando la notación de punto:"
   ]
  },
  {
   "cell_type": "code",
   "execution_count": 2,
   "metadata": {},
   "outputs": [
    {
     "name": "stdout",
     "output_type": "stream",
     "text": [
      "100\n",
      "25\n",
      "20\n",
      "Arthur\n"
     ]
    }
   ],
   "source": [
    "class Knight:\n",
    "    def __init__(self, name):\n",
    "        self.health = 100\n",
    "        self.damage = 25\n",
    "        self.knowledge = 20\n",
    "        self.name = name\n",
    "\n",
    "\n",
    "arthur = Knight(\"Arthur\")\n",
    "\n",
    "print(arthur.health)\n",
    "print(arthur.damage)\n",
    "print(arthur.knowledge)\n",
    "print(arthur.name)"
   ]
  },
  {
   "cell_type": "markdown",
   "metadata": {},
   "source": [
    "También podemos cambiar el valor de cualquier atributo simplemente asignándole un nuevo valor:\n"
   ]
  },
  {
   "cell_type": "code",
   "execution_count": 3,
   "metadata": {},
   "outputs": [
    {
     "name": "stdout",
     "output_type": "stream",
     "text": [
      "100\n",
      "150\n"
     ]
    }
   ],
   "source": [
    "class Knight:\n",
    "    def __init__(self, name):\n",
    "        self.health = 100\n",
    "        self.damage = 25\n",
    "        self.knowledge = 20\n",
    "        self.name = name\n",
    "\n",
    "\n",
    "arthur = Knight(\"Arthur\")\n",
    "print(arthur.health)\n",
    "\n",
    "arthur.health = 150\n",
    "print(arthur.health)"
   ]
  },
  {
   "cell_type": "markdown",
   "metadata": {},
   "source": [
    "Por último, podemos ver todos los atributos de una instancia en forma de diccionario a través del atributo especial __dict__:\n"
   ]
  },
  {
   "cell_type": "code",
   "execution_count": 4,
   "metadata": {},
   "outputs": [
    {
     "name": "stdout",
     "output_type": "stream",
     "text": [
      "{'health': 100, 'damage': 25, 'knowledge': 20, 'name': 'Arthur'}\n"
     ]
    }
   ],
   "source": [
    "class Knight:\n",
    "    def __init__(self, name):\n",
    "        self.health = 100\n",
    "        self.damage = 25\n",
    "        self.knowledge = 20\n",
    "        self.name = name\n",
    "\n",
    "\n",
    "arthur = Knight(\"Arthur\")\n",
    "\n",
    "print(arthur.__dict__)"
   ]
  },
  {
   "cell_type": "markdown",
   "metadata": {},
   "source": [
    "## Métodos\n",
    "\n",
    "Nuestros caballeros tienen algunos atributos útiles, pero ¿qué pasa si queremos que actúen? Podemos definir, dentro de una clase, funciones personalizadas que estarán disponibles para que las instancias de la clase las utilicen. Estas funciones específicas de una clase se llaman métodos:"
   ]
  },
  {
   "cell_type": "code",
   "execution_count": 5,
   "metadata": {},
   "outputs": [],
   "source": [
    "class Knight:\n",
    "    def __init__(self, name):\n",
    "        self.health = 100\n",
    "        self.damage = 25\n",
    "        self.knowledge = 20\n",
    "        self.name = name\n",
    "\n",
    "    def heal(self):\n",
    "        self.health += 20\n",
    "\n",
    "    def learn(self):\n",
    "        self.knowledge += 5"
   ]
  },
  {
   "cell_type": "code",
   "execution_count": 6,
   "metadata": {},
   "outputs": [
    {
     "name": "stdout",
     "output_type": "stream",
     "text": [
      "120\n",
      "25\n"
     ]
    }
   ],
   "source": [
    "class Knight:\n",
    "    def __init__(self, name):\n",
    "        self.health = 100\n",
    "        self.damage = 25\n",
    "        self.knowledge = 20\n",
    "        self.name = name\n",
    "\n",
    "    def heal(self):\n",
    "        self.health += 20\n",
    "\n",
    "    def learn(self):\n",
    "        self.knowledge += 5\n",
    "\n",
    "\n",
    "arthur = Knight(\"Arthur\")\n",
    "\n",
    "arthur.heal()\n",
    "arthur.learn()\n",
    "\n",
    "print(arthur.health)\n",
    "print(arthur.knowledge)"
   ]
  },
  {
   "cell_type": "code",
   "execution_count": 7,
   "metadata": {},
   "outputs": [
    {
     "name": "stdout",
     "output_type": "stream",
     "text": [
      "110\n",
      "22\n"
     ]
    }
   ],
   "source": [
    "class Knight:\n",
    "    def __init__(self, name):\n",
    "        self.health = 100\n",
    "        self.damage = 25\n",
    "        self.knowledge = 20\n",
    "        self.name = name\n",
    "\n",
    "    def heal(self, amount):\n",
    "        self.health += amount\n",
    "\n",
    "    def learn(self, amount):\n",
    "        self.knowledge += amount\n",
    "\n",
    "\n",
    "arthur = Knight(\"Arthur\")\n",
    "\n",
    "arthur.heal(10)\n",
    "arthur.learn(2)\n",
    "\n",
    "print(arthur.health)\n",
    "print(arthur.knowledge)"
   ]
  },
  {
   "cell_type": "markdown",
   "metadata": {},
   "source": [
    "## Métodos estáticos\n",
    "\n",
    "Hasta ahora, todos los métodos que vimos afectan a la instancia de la clase que llama al método; incluso el método especial __init__() incluye el parámetro self. Los métodos estáticos no están vinculados a una instancia específica de una clase ni requieren el parámetro self. Esto significa que pueden ser llamados sin crear un objeto de esa clase en particular. Además, los métodos estáticos no tienen la capacidad de modificar el estado de un objeto, ya que no tienen acceso directo a las propiedades de la instancia.\n",
    "\n",
    "Para crear un método estático, tenemos que utilizar el decorador @staticmethod.\n"
   ]
  },
  {
   "cell_type": "code",
   "execution_count": 12,
   "metadata": {},
   "outputs": [],
   "source": [
    "class Stock:\n",
    "    def __init__(self, ticker, amount):\n",
    "        self.ticker = ticker\n",
    "        self.amount = amount\n",
    "    \n",
    "    @staticmethod\n",
    "    def show_current_price(ticker):\n",
    "        current = 30# obtiene el precio actual en línea\n",
    "        print(current)"
   ]
  },
  {
   "cell_type": "code",
   "execution_count": 13,
   "metadata": {},
   "outputs": [
    {
     "name": "stdout",
     "output_type": "stream",
     "text": [
      "30\n"
     ]
    }
   ],
   "source": [
    "Stock.show_current_price(\"Apple\")"
   ]
  },
  {
   "cell_type": "markdown",
   "metadata": {},
   "source": [
    "## Métodos de clase\n",
    "\n",
    "Los métodos de clase se pueden utilizar para implementar formas alternativas de crear instancias. Un método de clase toma un objeto de clase como el primer argumento. Al crear un método de clase, es necesario utilizar el decorador @classmethod:"
   ]
  },
  {
   "cell_type": "code",
   "execution_count": 14,
   "metadata": {},
   "outputs": [],
   "source": [
    "class Stock:\n",
    "    def __init__(self, ticker, amount, price):\n",
    "        self.ticker = ticker\n",
    "        self.amount = amount\n",
    "        self.price = price\n",
    "        self.total = self.price * self.amount\n",
    "\n",
    "    def buy(self, quantity):\n",
    "        self.amount += quantity\n",
    "        self.total = self.amount * self.price\n",
    "       \n",
    "    @staticmethod\n",
    "    def show_current_price(ticker):\n",
    "        current = 10# obtiene el precio actual en línea\n",
    "        print(current)\n",
    "\n",
    "    @classmethod\n",
    "    def from_string(cls, string): # crea un método de clase\n",
    "        ticker, amount, price = string.split() \n",
    "        return cls(ticker, int(amount), float(price))"
   ]
  },
  {
   "cell_type": "code",
   "execution_count": 15,
   "metadata": {},
   "outputs": [],
   "source": [
    "abc = Stock.from_string(\"ABC 10 1.5\")"
   ]
  }
 ],
 "metadata": {
  "kernelspec": {
   "display_name": "Python 3",
   "language": "python",
   "name": "python3"
  },
  "language_info": {
   "codemirror_mode": {
    "name": "ipython",
    "version": 3
   },
   "file_extension": ".py",
   "mimetype": "text/x-python",
   "name": "python",
   "nbconvert_exporter": "python",
   "pygments_lexer": "ipython3",
   "version": "3.11.8"
  }
 },
 "nbformat": 4,
 "nbformat_minor": 2
}
