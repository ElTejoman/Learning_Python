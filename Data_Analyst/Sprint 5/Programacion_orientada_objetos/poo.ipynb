{
 "cells": [
  {
   "cell_type": "markdown",
   "metadata": {},
   "source": [
    "# **Programación Orientada a Objetos**\n",
    "\n",
    "Python es un lenguaje orientado a objetos. Todo es objeto en Python, ¡incluso las excepciones! Diferentes objetos pertenecen a diferentes clases, que determinan lo que podemos hacer con ellos. Las clases pueden formar estructuras ramificadas, donde algunas clases específicas se construyen a partir de otras más genéricas, añadiendo o modificando funcionalidad.\n",
    "\n",
    "## Clases\n",
    "\n",
    "Las clases son plantillas para crear instancias, que son objetos independientes de una clase determinada. Por ejemplo, '¡Hola, mundo!' es una instancia de la clase str.\n",
    "\n",
    "Todas las instancias de una misma clase tienen el mismo conjunto de atributos y métodos. Hay muchas clases incorporadas, tales como cadenas, diccionarios, listas, etc. Todas ellas cuentan con métodos específicos que definen su uso y con atributos particulares que contienen información sobre estas clases. Por ejemplo, el método append() puede aplicarse a cualquier lista porque este método está definido en la clase list:"
   ]
  },
  {
   "cell_type": "code",
   "execution_count": 1,
   "metadata": {},
   "outputs": [
    {
     "name": "stdout",
     "output_type": "stream",
     "text": [
      "['coat', 'goat', 'boat']\n"
     ]
    }
   ],
   "source": [
    "my_list = [\"coat\", \"goat\"]\n",
    "my_list.append(\"boat\")\n",
    "print(my_list)"
   ]
  },
  {
   "cell_type": "markdown",
   "metadata": {},
   "source": [
    "## Crear una clase\n",
    "\n",
    "Supongamos que estamos desarrollando un videojuego y queremos crear algunos personajes con diferentes características, así como definir las acciones que el jugador pueda realizar en nuestro juego. Hay diferentes tipos de personajes: magos, guerreros, etc., los cuales tienen diferentes propiedades y pueden hacer distintas cosas.\n",
    "\n",
    "¿Cómo convertiríamos el diseño de personajes en código Python? Una posible solución sería utilizar diccionarios para crear personajes y funciones para interactuar con el jugador, por ejemplo, así:"
   ]
  },
  {
   "cell_type": "code",
   "execution_count": null,
   "metadata": {},
   "outputs": [],
   "source": [
    "mage = {\"health\": 50, \"damage\": 10, \"knowledge\": 95}\n",
    "knight = {\"health\": 100, \"damage\": 25, \"knowledge\": 20}\n",
    "\n",
    "arthur = knight.copy()  # hacer una copia del diccionario 'knight' original\n",
    "arthur[\"name\"] = \"Arthur\"  # reemplazar el nombre dentro de la copia\n",
    "\n",
    "richard = knight.copy()  # hacer otra copia del diccionario 'knight' original\n",
    "richard[\"name\"] = \"Richard\"  # reemplazar el nombre dentro de la copia\n",
    "\n",
    "\n",
    "def heal(character):  # crear la función que cambia la salud\n",
    "    character[\"health\"] += 20\n",
    "\n",
    "\n",
    "heal(richard)  # llamar a la función para cambiar la salud de Richard"
   ]
  },
  {
   "cell_type": "markdown",
   "metadata": {},
   "source": [
    "Gracias a las clases podemos crear personajes de videojuegos con mayor facilidad:\n"
   ]
  },
  {
   "cell_type": "code",
   "execution_count": 1,
   "metadata": {},
   "outputs": [],
   "source": [
    "class Knight:  # crear la clase Knight\n",
    "    def __init__(self, name):\n",
    "        # establecer parámetros\n",
    "        self.health = 100\n",
    "        self.damage = 25\n",
    "        self.knowledge = 20\n",
    "        self.name = name\n",
    "\n",
    "\n",
    "arthur = Knight(\"Arthur\")\n",
    "richard = Knight(\"Richard\")"
   ]
  },
  {
   "cell_type": "markdown",
   "metadata": {},
   "source": [
    "## Atributos\n",
    "\n",
    "Cada instancia de Knight() tiene atributos a los que podemos acceder utilizando la notación de punto:"
   ]
  },
  {
   "cell_type": "code",
   "execution_count": 2,
   "metadata": {},
   "outputs": [
    {
     "name": "stdout",
     "output_type": "stream",
     "text": [
      "100\n",
      "25\n",
      "20\n",
      "Arthur\n"
     ]
    }
   ],
   "source": [
    "class Knight:\n",
    "    def __init__(self, name):\n",
    "        self.health = 100\n",
    "        self.damage = 25\n",
    "        self.knowledge = 20\n",
    "        self.name = name\n",
    "\n",
    "\n",
    "arthur = Knight(\"Arthur\")\n",
    "\n",
    "print(arthur.health)\n",
    "print(arthur.damage)\n",
    "print(arthur.knowledge)\n",
    "print(arthur.name)"
   ]
  },
  {
   "cell_type": "markdown",
   "metadata": {},
   "source": [
    "También podemos cambiar el valor de cualquier atributo simplemente asignándole un nuevo valor:\n"
   ]
  },
  {
   "cell_type": "code",
   "execution_count": 3,
   "metadata": {},
   "outputs": [
    {
     "name": "stdout",
     "output_type": "stream",
     "text": [
      "100\n",
      "150\n"
     ]
    }
   ],
   "source": [
    "class Knight:\n",
    "    def __init__(self, name):\n",
    "        self.health = 100\n",
    "        self.damage = 25\n",
    "        self.knowledge = 20\n",
    "        self.name = name\n",
    "\n",
    "\n",
    "arthur = Knight(\"Arthur\")\n",
    "print(arthur.health)\n",
    "\n",
    "arthur.health = 150\n",
    "print(arthur.health)"
   ]
  },
  {
   "cell_type": "markdown",
   "metadata": {},
   "source": [
    "Por último, podemos ver todos los atributos de una instancia en forma de diccionario a través del atributo especial __dict__:\n"
   ]
  },
  {
   "cell_type": "code",
   "execution_count": 4,
   "metadata": {},
   "outputs": [
    {
     "name": "stdout",
     "output_type": "stream",
     "text": [
      "{'health': 100, 'damage': 25, 'knowledge': 20, 'name': 'Arthur'}\n"
     ]
    }
   ],
   "source": [
    "class Knight:\n",
    "    def __init__(self, name):\n",
    "        self.health = 100\n",
    "        self.damage = 25\n",
    "        self.knowledge = 20\n",
    "        self.name = name\n",
    "\n",
    "\n",
    "arthur = Knight(\"Arthur\")\n",
    "\n",
    "print(arthur.__dict__)"
   ]
  },
  {
   "cell_type": "markdown",
   "metadata": {},
   "source": [
    "## Métodos\n",
    "\n",
    "Nuestros caballeros tienen algunos atributos útiles, pero ¿qué pasa si queremos que actúen? Podemos definir, dentro de una clase, funciones personalizadas que estarán disponibles para que las instancias de la clase las utilicen. Estas funciones específicas de una clase se llaman métodos:"
   ]
  },
  {
   "cell_type": "code",
   "execution_count": 5,
   "metadata": {},
   "outputs": [],
   "source": [
    "class Knight:\n",
    "    def __init__(self, name):\n",
    "        self.health = 100\n",
    "        self.damage = 25\n",
    "        self.knowledge = 20\n",
    "        self.name = name\n",
    "\n",
    "    def heal(self):\n",
    "        self.health += 20\n",
    "\n",
    "    def learn(self):\n",
    "        self.knowledge += 5"
   ]
  },
  {
   "cell_type": "code",
   "execution_count": 6,
   "metadata": {},
   "outputs": [
    {
     "name": "stdout",
     "output_type": "stream",
     "text": [
      "120\n",
      "25\n"
     ]
    }
   ],
   "source": [
    "class Knight:\n",
    "    def __init__(self, name):\n",
    "        self.health = 100\n",
    "        self.damage = 25\n",
    "        self.knowledge = 20\n",
    "        self.name = name\n",
    "\n",
    "    def heal(self):\n",
    "        self.health += 20\n",
    "\n",
    "    def learn(self):\n",
    "        self.knowledge += 5\n",
    "\n",
    "\n",
    "arthur = Knight(\"Arthur\")\n",
    "\n",
    "arthur.heal()\n",
    "arthur.learn()\n",
    "\n",
    "print(arthur.health)\n",
    "print(arthur.knowledge)"
   ]
  },
  {
   "cell_type": "code",
   "execution_count": 7,
   "metadata": {},
   "outputs": [
    {
     "name": "stdout",
     "output_type": "stream",
     "text": [
      "110\n",
      "22\n"
     ]
    }
   ],
   "source": [
    "class Knight:\n",
    "    def __init__(self, name):\n",
    "        self.health = 100\n",
    "        self.damage = 25\n",
    "        self.knowledge = 20\n",
    "        self.name = name\n",
    "\n",
    "    def heal(self, amount):\n",
    "        self.health += amount\n",
    "\n",
    "    def learn(self, amount):\n",
    "        self.knowledge += amount\n",
    "\n",
    "\n",
    "arthur = Knight(\"Arthur\")\n",
    "\n",
    "arthur.heal(10)\n",
    "arthur.learn(2)\n",
    "\n",
    "print(arthur.health)\n",
    "print(arthur.knowledge)"
   ]
  },
  {
   "cell_type": "markdown",
   "metadata": {},
   "source": [
    "## Métodos estáticos\n",
    "\n",
    "Hasta ahora, todos los métodos que vimos afectan a la instancia de la clase que llama al método; incluso el método especial __init__() incluye el parámetro self. Los métodos estáticos no están vinculados a una instancia específica de una clase ni requieren el parámetro self. Esto significa que pueden ser llamados sin crear un objeto de esa clase en particular. Además, los métodos estáticos no tienen la capacidad de modificar el estado de un objeto, ya que no tienen acceso directo a las propiedades de la instancia.\n",
    "\n",
    "Para crear un método estático, tenemos que utilizar el decorador @staticmethod.\n"
   ]
  },
  {
   "cell_type": "code",
   "execution_count": 12,
   "metadata": {},
   "outputs": [],
   "source": [
    "class Stock:\n",
    "    def __init__(self, ticker, amount):\n",
    "        self.ticker = ticker\n",
    "        self.amount = amount\n",
    "    \n",
    "    @staticmethod\n",
    "    def show_current_price(ticker):\n",
    "        current = 30# obtiene el precio actual en línea\n",
    "        print(current)"
   ]
  },
  {
   "cell_type": "code",
   "execution_count": 13,
   "metadata": {},
   "outputs": [
    {
     "name": "stdout",
     "output_type": "stream",
     "text": [
      "30\n"
     ]
    }
   ],
   "source": [
    "Stock.show_current_price(\"Apple\")"
   ]
  },
  {
   "cell_type": "markdown",
   "metadata": {},
   "source": [
    "## Métodos de clase\n",
    "\n",
    "Los métodos de clase se pueden utilizar para implementar formas alternativas de crear instancias. Un método de clase toma un objeto de clase como el primer argumento. Al crear un método de clase, es necesario utilizar el decorador @classmethod:"
   ]
  },
  {
   "cell_type": "code",
   "execution_count": 14,
   "metadata": {},
   "outputs": [],
   "source": [
    "class Stock:\n",
    "    def __init__(self, ticker, amount, price):\n",
    "        self.ticker = ticker\n",
    "        self.amount = amount\n",
    "        self.price = price\n",
    "        self.total = self.price * self.amount\n",
    "\n",
    "    def buy(self, quantity):\n",
    "        self.amount += quantity\n",
    "        self.total = self.amount * self.price\n",
    "       \n",
    "    @staticmethod\n",
    "    def show_current_price(ticker):\n",
    "        current = 10# obtiene el precio actual en línea\n",
    "        print(current)\n",
    "\n",
    "    @classmethod\n",
    "    def from_string(cls, string): # crea un método de clase\n",
    "        ticker, amount, price = string.split() \n",
    "        return cls(ticker, int(amount), float(price))"
   ]
  },
  {
   "cell_type": "code",
   "execution_count": 15,
   "metadata": {},
   "outputs": [],
   "source": [
    "abc = Stock.from_string(\"ABC 10 1.5\")"
   ]
  },
  {
   "cell_type": "markdown",
   "metadata": {},
   "source": [
    "## Herencia\n",
    "\n",
    "Volvamos al código de nuestro videojuego. Escribimos una clase Knight() fantástica, pero ahora queremos añadir más clases, por ejemplo, magos, campesinos, etc.\n",
    "\n",
    "Al fin y al cabo, las clases sirven para escribir código reutilizable. Pues bien, podemos utilizar la herencia para crear todas las clases de personajes que necesitemos a partir de una única clase padre, en lugar de crear cada clase desde cero.\n",
    "\n",
    "Vamos a construir una clase padre Character() (personaje) y usarla para crear sus clases hijas, Knight() y Peasant() (campesino):"
   ]
  },
  {
   "cell_type": "code",
   "execution_count": 17,
   "metadata": {},
   "outputs": [
    {
     "name": "stdout",
     "output_type": "stream",
     "text": [
      "{'name': 'Arthur', 'health': 120, 'damage': 25, 'knowledge': 120}\n"
     ]
    }
   ],
   "source": [
    "# construimos la clase padre\n",
    "class Character:\n",
    "    def __init__(self, name):\n",
    "        self.name = name\n",
    "        self.health = 100\n",
    "    \n",
    "    def heal(self, value:int=20):\n",
    "        self.health += value\n",
    "    \n",
    "    def learn(self, value:int=20):\n",
    "        self.knowledge += value\n",
    "        \n",
    "# la clase hijo agrega atributos específicos\n",
    "class Knight(Character):\n",
    "    def __init__(self, name):\n",
    "        Character.__init__(self, name) # se hereda el constructor de la clase padre\n",
    "        self.damage = 25 # atributo añadido\n",
    "        self.knowledge = 20 # atributo añadido\n",
    "\n",
    "# una clase más\n",
    "class Peasant(Character):\n",
    "    def __init__(self, name):\n",
    "        super().__init__(name) # otra forma de heredar el constructor de la clase padre\n",
    "        self.damage = 10\n",
    "        self.knowledge = 36\n",
    "\n",
    "arthur = Knight('Arthur')\n",
    "arthur.heal() # se utiliza el valor predeterminado\n",
    "arthur.learn(100) # valor personalizado\n",
    "print(arthur.__dict__)"
   ]
  },
  {
   "cell_type": "markdown",
   "metadata": {},
   "source": [
    "# Ejercicios"
   ]
  },
  {
   "cell_type": "markdown",
   "metadata": {},
   "source": [
    "1. Crea una clase Account() que represente una cuenta bancaria con los siguientes atributos:\n",
    "\n",
    "- bank para el nombre del banco;\n",
    "- acc_id para la ID de la cuenta;\n",
    "- holder_id para la ID del titular;\n",
    "- balance para el saldo inicial de la cuenta;\n",
    "- start_date para la fecha y hora en que se abrió la cuenta.\n",
    "\n",
    "Asegúrate de que balance sea del tipo float y tenga un valor predeterminado de 0.0.. Para establecer un valor y tipo de 'balance' predeterminados, pasa la información dentro de __init__(). Este es un ejemplo donde establecemos un valor inicial de 32 y el tipo int en strength:\n",
    "\n",
    "```python\n",
    "def __init__(self, strength:int=32): \n",
    "```\n",
    "\n",
    "Cuando se inicia una instancia de la clase Account(), esta debe registrar automáticamente la fecha y hora en que se abre la cuenta y almacenar estos datos como start_date. Para hacerlo, deberás importar el módulo datetime del paquete datetime:\n",
    "\n",
    "```python\n",
    "from datetime import datetime\n",
    "```\n",
    " \n",
    "Una vez que lo hayas importado, puedes utilizar su método de clase now() para crear una marca temporal a partir de la fecha y la hora reales como esta:\n",
    "from datetime import datetime\n",
    "```python\n",
    "\n",
    "datetime.now() \n",
    "```"
   ]
  },
  {
   "cell_type": "code",
   "execution_count": null,
   "metadata": {},
   "outputs": [],
   "source": [
    "from datetime import datetime\n",
    "\n",
    "\n",
    "class Account:\n",
    "    def __init__(self, bank, acc_id, holder_id, balance: float = 0.0):\n",
    "        self.bank = bank\n",
    "        self.acc_id = acc_id\n",
    "        self.holder_id = holder_id\n",
    "        self.balance = balance\n",
    "        self.start_date = datetime.now()\n",
    "\n",
    "\n",
    "# continúa escribiendo código a partir de aqui"
   ]
  },
  {
   "cell_type": "markdown",
   "metadata": {},
   "source": [
    "2. Agrega dos métodos, deposit() (depositar) y withdraw() (retirar), los cuales toman argumentos flotantes y afectan el balance en consecuencia. El método deposit() aumenta el balance, mientras que el método withdraw() lo disminuye; ambos métodos esperan que la entrada amount sea del tipo float."
   ]
  },
  {
   "cell_type": "code",
   "execution_count": 1,
   "metadata": {},
   "outputs": [],
   "source": [
    "import datetime as dt\n",
    "\n",
    "\n",
    "class Account:\n",
    "    def __init__(self, bank, acc_id, holder_id, balance: float = 0.0):\n",
    "        self.bank = bank\n",
    "        self.acc_id = acc_id\n",
    "        self.holder_id = holder_id\n",
    "        self.balance = balance\n",
    "        self.start_date = dt.datetime.now()\n",
    "\n",
    "    def deposit(self, amount: float):  \n",
    "        self.balance += amount  \n",
    "\n",
    "    def withdraw(self, amount: float): \n",
    "        self.balance -= amount  "
   ]
  },
  {
   "cell_type": "markdown",
   "metadata": {},
   "source": [
    "3. Agrega un método para obtener el número de teléfono de un banco determinado. Por ejemplo, este método puede conectarse online, obtener el número de teléfono del banco e imprimirlo. Por motivos de simplicidad, te pedimos que implementes esta funcionalidad creando un método estático bankphone. Este método debe tomar un nombre de banco e imprimir siempre 1-000-1234567 como salida.\n",
    "Observa que en el precódigo agregamos alguna descripción para el método estático que te pedimos que crees con el siguiente texto: imprimir el número del banco."
   ]
  },
  {
   "cell_type": "code",
   "execution_count": 2,
   "metadata": {},
   "outputs": [],
   "source": [
    "import datetime as dt\n",
    "\n",
    "\n",
    "class Account:\n",
    "    def __init__(self, bank, acc_id, holder_id, balance: float = 0.0):\n",
    "        self.bank = bank\n",
    "        self.acc_id = acc_id\n",
    "        self.holder_id = holder_id\n",
    "        self.balance = balance\n",
    "        self.start_date = dt.datetime.now()\n",
    "\n",
    "    def deposit(self, amount: float):\n",
    "        self.balance += amount\n",
    "\n",
    "    def withdraw(self, amount: float):\n",
    "        self.balance -= amount\n",
    "\n",
    "    @staticmethod  \n",
    "    def bankphone(self):  \n",
    "        \"\"\"\n",
    "        imprime el número del banco\n",
    "        \"\"\"\n",
    "        print(\"1-000-1234567\") "
   ]
  },
  {
   "cell_type": "markdown",
   "metadata": {},
   "source": [
    "4. Supongamos que necesitamos una forma rápida de añadir una cuenta utilizando una cadena que almacene las ID de la cuenta y del titular, por ejemplo, tenemos una cadena \"001/2406\".\n",
    "Para lograrlo, debes crear el método de clase quick(). Este método debe esperar una cadena con las ID de cuenta y titular, separarlas y almacenar cada valor correspondiente en las variables acc_id y holder_id. Luego, el método debe devolver la clase donde bank siempre es default_bank y balance es 0.0."
   ]
  },
  {
   "cell_type": "code",
   "execution_count": 3,
   "metadata": {},
   "outputs": [],
   "source": [
    "import datetime as dt\n",
    "\n",
    "\n",
    "class Account:\n",
    "    def __init__(self, bank, acc_id, holder_id, balance: float = 0.0):\n",
    "        self.bank = bank\n",
    "        self.acc_id = acc_id\n",
    "        self.holder_id = holder_id\n",
    "        self.balance = balance\n",
    "        self.start_date = dt.datetime.now()\n",
    "\n",
    "    def deposit(self, amount: float):\n",
    "        self.balance += amount\n",
    "\n",
    "    def withdraw(self, amount: float):\n",
    "        self.balance -= amount\n",
    "\n",
    "    @staticmethod\n",
    "    def bankphone(bank):\n",
    "        \"\"\"\n",
    "        imprime el número del banco\n",
    "        \"\"\"\n",
    "        print(\"1-000-1234567\")\n",
    "\n",
    "    @classmethod  # escribe tu código aquí\n",
    "    def quick(cls, account_string):\n",
    "        \"\"\"\n",
    "        crea una cuenta a partir de una cadena\n",
    "        usando solo las identificaciones de cuenta y titular\n",
    "        separadas por una barra\n",
    "        \"\"\"\n",
    "        acc_id, holder_id = account_string.split(\"/\")\n",
    "        return cls(\"default_bank\", acc_id, holder_id, 0.0)"
   ]
  },
  {
   "cell_type": "markdown",
   "metadata": {},
   "source": [
    "5. Es hora de usar la clase. Crea una instancia llamada first (primera) usando la forma predeterminada con la siguiente información: el nombre del banco es old_trusty, la identificación de la cuenta es 001, la identificación del titular es 10043 y la suma inicial es 500. Luego deposita 250 unidades más y retira 400. Imprime el saldo 'balance'.\n",
    "Posteriormente, crea otra instancia llamada second utilizando el método quick() pasando '002/10123' como entrada. Imprime el año de creación de la cuenta (para ello, es importante recordar que las instancias datetime tienen un atributo year)."
   ]
  },
  {
   "cell_type": "code",
   "execution_count": 4,
   "metadata": {},
   "outputs": [
    {
     "name": "stdout",
     "output_type": "stream",
     "text": [
      "350\n",
      "2024\n"
     ]
    }
   ],
   "source": [
    "first = Account(\"old_trusty\", \"001\", \"10043\", 500)  # crea la primera cuenta\n",
    "first.deposit(250)  # llama al método deposit\n",
    "first.withdraw(400)  # llama al método withdraw\n",
    "print(first.balance)  # imprime el saldo\n",
    "\n",
    "second = Account.quick(\"002/10123\")  # crea la segunda cuenta\n",
    "print(second.start_date.year)  # imprime el año"
   ]
  }
 ],
 "metadata": {
  "kernelspec": {
   "display_name": "Python 3",
   "language": "python",
   "name": "python3"
  },
  "language_info": {
   "codemirror_mode": {
    "name": "ipython",
    "version": 3
   },
   "file_extension": ".py",
   "mimetype": "text/x-python",
   "name": "python",
   "nbconvert_exporter": "python",
   "pygments_lexer": "ipython3",
   "version": "3.11.8"
  }
 },
 "nbformat": 4,
 "nbformat_minor": 2
}
