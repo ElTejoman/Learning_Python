{
 "cells": [
  {
   "cell_type": "markdown",
   "metadata": {},
   "source": [
    "# **Programación Orientada a Objetos**\n",
    "\n",
    "Python es un lenguaje orientado a objetos. Todo es objeto en Python, ¡incluso las excepciones! Diferentes objetos pertenecen a diferentes clases, que determinan lo que podemos hacer con ellos. Las clases pueden formar estructuras ramificadas, donde algunas clases específicas se construyen a partir de otras más genéricas, añadiendo o modificando funcionalidad.\n",
    "\n",
    "## Clases\n",
    "\n",
    "Las clases son plantillas para crear instancias, que son objetos independientes de una clase determinada. Por ejemplo, '¡Hola, mundo!' es una instancia de la clase str.\n",
    "\n",
    "Todas las instancias de una misma clase tienen el mismo conjunto de atributos y métodos. Hay muchas clases incorporadas, tales como cadenas, diccionarios, listas, etc. Todas ellas cuentan con métodos específicos que definen su uso y con atributos particulares que contienen información sobre estas clases. Por ejemplo, el método append() puede aplicarse a cualquier lista porque este método está definido en la clase list:"
   ]
  },
  {
   "cell_type": "code",
   "execution_count": 1,
   "metadata": {},
   "outputs": [
    {
     "name": "stdout",
     "output_type": "stream",
     "text": [
      "['coat', 'goat', 'boat']\n"
     ]
    }
   ],
   "source": [
    "my_list = [\"coat\", \"goat\"]\n",
    "my_list.append(\"boat\")\n",
    "print(my_list)"
   ]
  },
  {
   "cell_type": "markdown",
   "metadata": {},
   "source": [
    "## Crear una clase\n",
    "\n",
    "Supongamos que estamos desarrollando un videojuego y queremos crear algunos personajes con diferentes características, así como definir las acciones que el jugador pueda realizar en nuestro juego. Hay diferentes tipos de personajes: magos, guerreros, etc., los cuales tienen diferentes propiedades y pueden hacer distintas cosas.\n",
    "\n",
    "¿Cómo convertiríamos el diseño de personajes en código Python? Una posible solución sería utilizar diccionarios para crear personajes y funciones para interactuar con el jugador, por ejemplo, así:"
   ]
  },
  {
   "cell_type": "code",
   "execution_count": null,
   "metadata": {},
   "outputs": [],
   "source": [
    "mage = {\"health\": 50, \"damage\": 10, \"knowledge\": 95}\n",
    "knight = {\"health\": 100, \"damage\": 25, \"knowledge\": 20}\n",
    "\n",
    "arthur = knight.copy()  # hacer una copia del diccionario 'knight' original\n",
    "arthur[\"name\"] = \"Arthur\"  # reemplazar el nombre dentro de la copia\n",
    "\n",
    "richard = knight.copy()  # hacer otra copia del diccionario 'knight' original\n",
    "richard[\"name\"] = \"Richard\"  # reemplazar el nombre dentro de la copia\n",
    "\n",
    "\n",
    "def heal(character):  # crear la función que cambia la salud\n",
    "    character[\"health\"] += 20\n",
    "\n",
    "\n",
    "heal(richard)  # llamar a la función para cambiar la salud de Richard"
   ]
  },
  {
   "cell_type": "markdown",
   "metadata": {},
   "source": [
    "Gracias a las clases podemos crear personajes de videojuegos con mayor facilidad:\n"
   ]
  },
  {
   "cell_type": "code",
   "execution_count": 1,
   "metadata": {},
   "outputs": [],
   "source": [
    "class Knight:  # crear la clase Knight\n",
    "    def __init__(self, name):\n",
    "        # establecer parámetros\n",
    "        self.health = 100\n",
    "        self.damage = 25\n",
    "        self.knowledge = 20\n",
    "        self.name = name\n",
    "\n",
    "\n",
    "arthur = Knight(\"Arthur\")\n",
    "richard = Knight(\"Richard\")"
   ]
  },
  {
   "cell_type": "markdown",
   "metadata": {},
   "source": [
    "## Atributos\n",
    "\n",
    "Cada instancia de Knight() tiene atributos a los que podemos acceder utilizando la notación de punto:"
   ]
  },
  {
   "cell_type": "code",
   "execution_count": 2,
   "metadata": {},
   "outputs": [
    {
     "name": "stdout",
     "output_type": "stream",
     "text": [
      "100\n",
      "25\n",
      "20\n",
      "Arthur\n"
     ]
    }
   ],
   "source": [
    "class Knight:\n",
    "    def __init__(self, name):\n",
    "        self.health = 100\n",
    "        self.damage = 25\n",
    "        self.knowledge = 20\n",
    "        self.name = name\n",
    "\n",
    "\n",
    "arthur = Knight(\"Arthur\")\n",
    "\n",
    "print(arthur.health)\n",
    "print(arthur.damage)\n",
    "print(arthur.knowledge)\n",
    "print(arthur.name)"
   ]
  },
  {
   "cell_type": "markdown",
   "metadata": {},
   "source": [
    "También podemos cambiar el valor de cualquier atributo simplemente asignándole un nuevo valor:\n"
   ]
  },
  {
   "cell_type": "code",
   "execution_count": 3,
   "metadata": {},
   "outputs": [
    {
     "name": "stdout",
     "output_type": "stream",
     "text": [
      "100\n",
      "150\n"
     ]
    }
   ],
   "source": [
    "class Knight:\n",
    "    def __init__(self, name):\n",
    "        self.health = 100\n",
    "        self.damage = 25\n",
    "        self.knowledge = 20\n",
    "        self.name = name\n",
    "\n",
    "\n",
    "arthur = Knight(\"Arthur\")\n",
    "print(arthur.health)\n",
    "\n",
    "arthur.health = 150\n",
    "print(arthur.health)"
   ]
  }
 ],
 "metadata": {
  "kernelspec": {
   "display_name": "Python 3",
   "language": "python",
   "name": "python3"
  },
  "language_info": {
   "codemirror_mode": {
    "name": "ipython",
    "version": 3
   },
   "file_extension": ".py",
   "mimetype": "text/x-python",
   "name": "python",
   "nbconvert_exporter": "python",
   "pygments_lexer": "ipython3",
   "version": "3.11.8"
  }
 },
 "nbformat": 4,
 "nbformat_minor": 2
}
