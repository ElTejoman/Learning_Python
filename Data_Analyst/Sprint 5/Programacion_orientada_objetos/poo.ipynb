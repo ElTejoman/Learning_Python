{
 "cells": [
  {
   "cell_type": "markdown",
   "metadata": {},
   "source": [
    "# **Programación Orientada a Objetos**\n",
    "\n",
    "Python es un lenguaje orientado a objetos. Todo es objeto en Python, ¡incluso las excepciones! Diferentes objetos pertenecen a diferentes clases, que determinan lo que podemos hacer con ellos. Las clases pueden formar estructuras ramificadas, donde algunas clases específicas se construyen a partir de otras más genéricas, añadiendo o modificando funcionalidad.\n",
    "\n",
    "## Clases\n",
    "\n",
    "Las clases son plantillas para crear instancias, que son objetos independientes de una clase determinada. Por ejemplo, '¡Hola, mundo!' es una instancia de la clase str.\n",
    "\n",
    "Todas las instancias de una misma clase tienen el mismo conjunto de atributos y métodos. Hay muchas clases incorporadas, tales como cadenas, diccionarios, listas, etc. Todas ellas cuentan con métodos específicos que definen su uso y con atributos particulares que contienen información sobre estas clases. Por ejemplo, el método append() puede aplicarse a cualquier lista porque este método está definido en la clase list:"
   ]
  },
  {
   "cell_type": "code",
   "execution_count": 1,
   "metadata": {},
   "outputs": [
    {
     "name": "stdout",
     "output_type": "stream",
     "text": [
      "['coat', 'goat', 'boat']\n"
     ]
    }
   ],
   "source": [
    "my_list = [\"coat\", \"goat\"]\n",
    "my_list.append(\"boat\")\n",
    "print(my_list)"
   ]
  }
 ],
 "metadata": {
  "kernelspec": {
   "display_name": "Python 3",
   "language": "python",
   "name": "python3"
  },
  "language_info": {
   "codemirror_mode": {
    "name": "ipython",
    "version": 3
   },
   "file_extension": ".py",
   "mimetype": "text/x-python",
   "name": "python",
   "nbconvert_exporter": "python",
   "pygments_lexer": "ipython3",
   "version": "3.11.8"
  }
 },
 "nbformat": 4,
 "nbformat_minor": 2
}
