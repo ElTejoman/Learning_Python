{
 "cells": [
  {
   "cell_type": "markdown",
   "metadata": {},
   "source": [
    "# **E/S de archivos**\n",
    "\n",
    "A menudo necesitamos que nuestros programas Python lean datos de archivos externos, editen archivos existentes o creen archivos nuevos. Ya hemos leído muchos archivos con la función read_csv() de Pandas. En esta lección, aprenderemos cómo se pueden abrir archivos y trabajar con ellos (entrada y salida de archivos, o E/S de archivos para abreviar) en Python de una manera más general.\n",
    "\n",
    "## Leer desde archivos\n",
    "\n",
    "Python tiene una función incorporada open() que puede abrir cualquier archivo. Todo lo que necesitamos hacer es pasar la ruta hacia el archivo a la función. Por defecto, los archivos se abren en modo “lectura”, lo que significa que podemos obtener información de los mismos, pero no podemos editarlos.\n",
    "\n",
    "```python\n",
    "f = open('my_file.txt')\n",
    "```\n",
    "\n",
    "También podemos hacerlo de forma explícita pasando mode='r' para que nuestro código refleje claramente que estamos abriendo un archivo en modo lectura:\n",
    "\n",
    "```python\n",
    "f = open('my_file.txt', mode='r')\n",
    "```\n",
    "\n",
    "Así es como se ve el contenido de my_file.txt:\n",
    "\n",
    "```python\n",
    "\"No entres dócilmente en esa buena noche\"\n",
    "[12, 13, 14]\n",
    "100.42\n",
    "Alice\n",
    "```\n",
    "\n",
    "pero esto es lo que obtendremos al imprimir f:\n",
    "\n",
    "```python\n",
    "f = open('my_file.txt')\n",
    "print(f)\n",
    "f.close()\n",
    "\n",
    "<_io.TextIOWrapper name='my_file.txt' mode='r' encoding='cp1252'>\n",
    "```"
   ]
  },
  {
   "cell_type": "code",
   "execution_count": null,
   "metadata": {},
   "outputs": [],
   "source": []
  }
 ],
 "metadata": {
  "language_info": {
   "name": "python"
  }
 },
 "nbformat": 4,
 "nbformat_minor": 2
}
