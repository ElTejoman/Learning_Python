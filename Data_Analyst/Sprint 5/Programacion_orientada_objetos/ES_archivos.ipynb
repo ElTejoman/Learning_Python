{
 "cells": [
  {
   "cell_type": "markdown",
   "metadata": {},
   "source": [
    "# **E/S de archivos**\n",
    "\n",
    "A menudo necesitamos que nuestros programas Python lean datos de archivos externos, editen archivos existentes o creen archivos nuevos. Ya hemos leído muchos archivos con la función read_csv() de Pandas. En esta lección, aprenderemos cómo se pueden abrir archivos y trabajar con ellos (entrada y salida de archivos, o E/S de archivos para abreviar) en Python de una manera más general.\n",
    "\n",
    "## Leer desde archivos\n",
    "\n",
    "Python tiene una función incorporada open() que puede abrir cualquier archivo. Todo lo que necesitamos hacer es pasar la ruta hacia el archivo a la función. Por defecto, los archivos se abren en modo “lectura”, lo que significa que podemos obtener información de los mismos, pero no podemos editarlos.\n",
    "\n",
    "```python\n",
    "f = open('my_file.txt')\n",
    "```\n",
    "\n",
    "También podemos hacerlo de forma explícita pasando mode='r' para que nuestro código refleje claramente que estamos abriendo un archivo en modo lectura:\n",
    "\n",
    "```python\n",
    "f = open('my_file.txt', mode='r')\n",
    "```\n",
    "\n",
    "Así es como se ve el contenido de my_file.txt:\n",
    "\n",
    "```python\n",
    "\"No entres dócilmente en esa buena noche\"\n",
    "[12, 13, 14]\n",
    "100.42\n",
    "Alice\n",
    "```\n",
    "\n",
    "pero esto es lo que obtendremos al imprimir f:\n",
    "\n",
    "```python\n",
    "f = open('my_file.txt')\n",
    "print(f)\n",
    "f.close()\n",
    "\n",
    "<_io.TextIOWrapper name='my_file.txt' mode='r' encoding='cp1252'>\n",
    "```\n",
    "\n",
    "La salida actual puede no ser la esperada, lo cual se debe a que la variable f, que representa el archivo abierto, es un objeto que requiere código adicional para leer su contenido. Por sí solo no puede hacer mucho, por lo tanto, necesitamos escribir código adicional para leer el contenido del archivo.\n",
    "\n",
    "Al abrir un archivo se crea un objeto de tipo file:\n",
    "\n",
    "```python\n",
    "f = open('my_file.txt')\n",
    "print(type(f))\n",
    "f.close()\n",
    "\n",
    "<class '_io.TextIOWrapper'>\n",
    "```\n",
    "\n",
    "Ten en cuenta que también usamos el método close() para cerrar el archivo después de que hayamos terminado con él. Cerrar archivos cuando ya no se necesitan es una buena costumbre, de lo contrario ocupan memoria y pueden provocar problemas imprevistos.\n",
    "\n",
    "Ahora vamos a leer nuestro archivo y mostrar su contenido. Una forma de hacerlo es recorrer cada línea del archivo e imprimir cada una de ellas:\n",
    "\n",
    "```python\n",
    "f = open('my_file.txt')\n",
    "\n",
    "for line in f:\n",
    "    print(line)\n",
    "\n",
    "f.close()\n",
    "\n",
    "\"No entres dócilmente en esa buena noche\"\n",
    "\n",
    "[12, 13, 14]\n",
    "\n",
    "100.42\n",
    "\n",
    "Alice\n",
    "```"
   ]
  },
  {
   "cell_type": "markdown",
   "metadata": {},
   "source": [
    "## Archivos\n",
    "\n",
    "Los archivos zip se utilizan ampliamente para comprimir archivos o empaquetar archivos relacionados entre sí. Trabajar con archivos zip en Python es similar a trabajar con archivos. El paquete zipfile nos ayudará mucho con esta tarea:\n",
    "\n",
    "```python\n",
    "from zipfile import ZipFile\n",
    "\n",
    "with open(\"info.txt\", \"w\") as f:\n",
    "    f.write('algunos datos')\n",
    "    \n",
    "with ZipFile(\"archive.zip\", mode=\"w\") as archive:\n",
    "    archive.write(\"info.txt\")\n",
    "```\n",
    "\n",
    "## JSON\n",
    "\n",
    "JSON es un formato de almacenamiento y transferencia de datos universal que los humanos pueden leer, utilizado a menudo para manejar datos en aplicaciones web. Los archivos JSON son muy similares a los diccionarios de Python; se trata de un conjunto de pares clave-valor, que suelen tener muchas capas anidadas.\n",
    "\n",
    "Podemos utilizar la librería incorporada json para trabajar fácilmente con archivos .json.\n",
    "\n",
    "La convención dump/loads se utiliza cuando es necesario guardar/leer archivos .json.\n",
    "\n",
    "```python\n",
    "import json\n",
    "import requests # librería para obtener datos de internet\n",
    "\n",
    "# descargar (obtener) un archivo json de internet\n",
    "data = requests.get('https://dummyjson.com/products/1')\n",
    "\n",
    "# extraer el contenido del archivo json descargado\n",
    "text = data.text\n",
    "\n",
    "# análisis sintáctico del contenido mediante la función loads\n",
    "print(json.loads(text))\n",
    "```"
   ]
  },
  {
   "cell_type": "code",
   "execution_count": 1,
   "metadata": {},
   "outputs": [
    {
     "name": "stdout",
     "output_type": "stream",
     "text": [
      "{'id': 1, 'title': 'iPhone 9', 'description': 'An apple mobile which is nothing like apple', 'price': 549, 'discountPercentage': 12.96, 'rating': 4.69, 'stock': 94, 'brand': 'Apple', 'category': 'smartphones', 'thumbnail': 'https://cdn.dummyjson.com/product-images/1/thumbnail.jpg', 'images': ['https://cdn.dummyjson.com/product-images/1/1.jpg', 'https://cdn.dummyjson.com/product-images/1/2.jpg', 'https://cdn.dummyjson.com/product-images/1/3.jpg', 'https://cdn.dummyjson.com/product-images/1/4.jpg', 'https://cdn.dummyjson.com/product-images/1/thumbnail.jpg']}\n"
     ]
    }
   ],
   "source": [
    "import json\n",
    "import requests  # librería para obtener datos de internet\n",
    "\n",
    "# descargar (obtener) un archivo json de internet\n",
    "data = requests.get(\"https://dummyjson.com/products/1\")\n",
    "\n",
    "# extraer el contenido del archivo json descargado\n",
    "text = data.text\n",
    "\n",
    "# análisis sintáctico del contenido mediante la función loads\n",
    "print(json.loads(text))"
   ]
  },
  {
   "cell_type": "markdown",
   "metadata": {},
   "source": [
    "# Ejercicios\n",
    "\n",
    "Crea un archivo llamado lines.txt y escribe el contenido de la lista dada como líneas separadas. Utiliza el método writelines().\n",
    "Recuerda que puedes escribir el contenido de una lista determinada en un archivo como líneas separadas usando el método .join() aplicado a una cadena que separa cada elemento de la lista. El método .join() espera la lista como entrada."
   ]
  },
  {
   "cell_type": "code",
   "execution_count": 2,
   "metadata": {},
   "outputs": [],
   "source": [
    "# Contenido de la lista\n",
    "lines = [\"uno\", \"dos\", \"tres\"]\n",
    "\n",
    "# Abrir el archivo lines.txt en modo escritura\n",
    "with open(\"lines.txt\", \"w\") as archivo:\n",
    "    # Escribir el contenido de la lista como líneas separadas en el archivo\n",
    "    archivo.writelines(\"\\n\".join(lines))"
   ]
  }
 ],
 "metadata": {
  "kernelspec": {
   "display_name": "Python 3",
   "language": "python",
   "name": "python3"
  },
  "language_info": {
   "codemirror_mode": {
    "name": "ipython",
    "version": 3
   },
   "file_extension": ".py",
   "mimetype": "text/x-python",
   "name": "python",
   "nbconvert_exporter": "python",
   "pygments_lexer": "ipython3",
   "version": "3.11.8"
  }
 },
 "nbformat": 4,
 "nbformat_minor": 2
}
