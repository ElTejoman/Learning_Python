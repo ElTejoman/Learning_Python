{
 "cells": [
  {
   "cell_type": "markdown",
   "metadata": {},
   "source": [
    "# **Aplicaciones web**\n",
    "\n",
    "Si alguna vez te has preguntado qué hay detrás de un sitio web, es una aplicación que se ejecuta en un servidor o en un grupo de servidores, que son computadoras potentes que generalmente se alojan en centros de datos. Cuanto más grande es un sitio web, más sofisticada es la aplicación o las aplicaciones detrás de él.\n",
    "\n",
    "## Render: configuración inicial\n",
    "\n",
    "Los requisitos previos para trabajar con Render son:\n",
    "- Una cuenta de Github para alojar un repositorio de proyectos.\n",
    "- Una cuenta Render. Puedes obtener una gratis registrándote en render.com. Puedes vincular tu cuenta de Github directamente a tu cuenta de Render, haciendo clic en la opción \"Github\" al registrarte.\n",
    "- Un repositorio local de Git, para alojar archivos de origen e implementarlos en Render.\n",
    "- Instalación local de git para mantener el repositorio local.\n",
    "\n",
    "## Render: creación de una nueva aplicación\n",
    "\n",
    "Visita GitHub y crea un nuevo repositorio de Git para esta lección. Agrega el estándar Python .gitignore y un README.\n",
    "\n",
    "Render requiere al menos tres archivos para una aplicación basada en Python:\n",
    "\n",
    "- Un archivo requirements.txt, con una lista de todos los paquetes de Python necesarios para ejecutar la aplicación. Esencialmente, esos son todos los paquetes que el programa central importa explícitamente. Crea un requirements.txt en el directorio raíz del proyecto (al lado de README.md) con las líneas:\n",
    "\n",
    "```python\n",
    "pandas==1.3.1\n",
    "scipy==1.6.2\n",
    "streamlit==1.12.2\n",
    "```\n",
    "\n",
    "Puedes usar diferentes versiones de estos 3 paquetes, pero se sabe que estas tres funcionarán bien juntas.\n",
    "\n",
    "En este punto, debes git clone (clonar) tu repositorio Git en tu máquina local para seguir trabajando en él.\n",
    "\n",
    "- Necesitamos agregar un archivo de configuración específico de streamlit. Debería estar en .streamlit/config.toml. Primero, crea un nuevo directorio llamado .streamlit en tu repositorio Git. Este directorio le indicará a streamlit que busque aquí la información de la solicitud. Luego, agrega un archivo config.toml en este directorio con el siguiente contenido:\n",
    "\n",
    "```python\n",
    "[server]\n",
    "headless = true\n",
    "port = 10000\n",
    "\n",
    "[browser]\n",
    "serverAddress = \"0.0.0.0\"\n",
    "serverPort = 10000\n",
    "```\n",
    "\n"
   ]
  },
  {
   "cell_type": "code",
   "execution_count": null,
   "metadata": {},
   "outputs": [],
   "source": []
  }
 ],
 "metadata": {
  "language_info": {
   "name": "python"
  }
 },
 "nbformat": 4,
 "nbformat_minor": 2
}
