{
 "cells": [
  {
   "cell_type": "markdown",
   "metadata": {},
   "source": [
    "# **API web**\n",
    "\n",
    "## HTTP\n",
    "\n",
    "HTTP (protocolo de transferencia de hipertexto) es un protocolo de internet, un conjunto de reglas para transferir datos entre dos sistemas informáticos, generalmente, entre un navegador web y un sitio web. Pero un navegador web no es el único tipo de cliente posible, también puede ser cualquier otro programa, incluido un programa de Python.\n",
    "\n",
    "## API REST\n",
    "Los recursos web son excelentes para compartir datos y brindar servicios. Los utilizamos para hacer cálculos, escuchar música, etc. Se supone que un usuario promedio de un servicio no posee ningún conocimiento especial sobre programación, por lo que suele utilizar una interfaz gráfica que le permite interactuar con el servidor (un navegador, en el caso de los recursos web). Pero, ¿y si queremos recuperar algunos datos de la web automáticamente cada hora 24/7? ¿O si necesitamos usar algún servicio como parte de un pipeline de datos más grande? Abrir un navegador y hacer las cosas de forma manual no parece la mejor opción, así que ahí es donde entra en juego la API web.\n",
    "\n",
    "API significa interfaz de programación de aplicaciones. Especifica cómo un programa (en contraste con una persona) puede interactuar con un servicio o datos. REST (Representational State Transfer) es un conjunto de principios (estilo de arquitectura de software) desarrollado en el año 2000 y ampliamente utilizado para aplicaciones web en la actualidad. Según el REST, hay dos caras: cliente y servidor, que son bastante independientes.\n",
    "\n",
    "El cliente usa el servidor para acceder a recursos, el URI (Identificador uniforme de recursos) es todo lo que el cliente necesita saber, y toda la magia ocurre del lado del servidor. URI para recursos web se conoce como URL (Localizador uniforme de recursos). Interactúan con solicitudes HTTP autosuficientes, que son livianas y universales. Un cliente realiza su petición llamando a una URL (por tanto, una llamada es todo intento de obtener una respuesta de un servidor), y el servidor devuelve su respuesta.\n",
    "\n",
    "## Obtener datos con API\n",
    "\n",
    "Veamos cómo se aplica el método GET en la vida real. Digamos que necesitas información sobre los tipos de cambio actuales para calcular el valor de una cartera de inversiones en USD. ¿Cómo puedes obtener las tarifas de forma automática? En primer lugar, tenemos que encontrar una API web que proporcione datos en respuesta a las solicitudes correspondientes. Comenzaremos con una que no requiere ninguna autenticación.\n",
    "\n",
    "Aquí está la URL base:  https://api.frankfurter.app. Parece un enlace de internet normal. Visita www.frankfurter.app para saber cómo usarla. Podemos descubrir que /latest nos dirige a las tarifas actuales. La URL final https://api.frankfurter.app/latest se denomina endpoint. El uso básico es:\n"
   ]
  },
  {
   "cell_type": "code",
   "execution_count": null,
   "metadata": {},
   "outputs": [],
   "source": []
  }
 ],
 "metadata": {
  "language_info": {
   "name": "python"
  }
 },
 "nbformat": 4,
 "nbformat_minor": 2
}
