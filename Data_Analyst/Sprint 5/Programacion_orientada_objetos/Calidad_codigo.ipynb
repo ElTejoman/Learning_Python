{
 "cells": [
  {
   "cell_type": "markdown",
   "metadata": {},
   "source": [
    "# **Calidad de Código**\n",
    "\n",
    "Un código de buena calidad es fácil de leer, comprender y mantener, funciona bien cerca de las condiciones límite y utiliza los recursos informáticos de manera eficiente. Todo código de calidad debe tener los siguientes factores:\n",
    "\n",
    "- Estilo de código\n",
    "- Confiabilidad\n",
    "- Rendimiento\n",
    "- Seguridad\n",
    "\n",
    "La calidad del código es importante por muchas razones, especialmente a medida que aumenta la cantidad de personas que utilizan productos impulsados por ese código, así como la cantidad de desarrolladores y desarrolladoras que trabajan en el mismo:\n",
    "\n",
    "- Comunicación: otras personas pasan menos tiempo tratando de entender lo que hace el código.\n",
    "- Mantenimiento: es más fácil encontrar y corregir errores, así como ampliar la funcionalidad del código.\n",
    "- Previsibilidad: funciona como se esperaba y minimiza las sorpresas desagradables cuando las cosas se detienen de forma repentina.\n",
    "\n",
    "## Hacer cumplir el estilo de código\n",
    "\n",
    "Incluso con una guía de estilo completa, es común que las personas se desvíen de ella aquí y allá. Existen herramientas que pueden ayudar a validar el código para comprobar si se ajusta a un estilo de código particular y alertarnos si hay algún error. Estas herramientas se llaman linters. Los linters pueden comprobar diferentes aspectos del estilo de código, algunos son más restrictivos, mientras que otros son más adecuados para proyectos de gran escala. Cualquier linter debería ser suficiente para proyectos pequeños. Los linters populares se integran fácilmente con los IDE.\n",
    "\n",
    "Pylint (materiales en inglés) es un linter para Python, bien establecido y de buena reputación. Puedes instalarlo con pip o conda como una herramienta de línea de comandos\n",
    "\n",
    "```python\n",
    "pip install pylint\n",
    "```\n",
    "\n",
    "Y ejecutarlo para comprobar el estilo de código de un script con:\n",
    "\n",
    "```python\n",
    "pylint my_script.py\n",
    "```"
   ]
  },
  {
   "cell_type": "code",
   "execution_count": null,
   "metadata": {},
   "outputs": [],
   "source": []
  }
 ],
 "metadata": {
  "language_info": {
   "name": "python"
  }
 },
 "nbformat": 4,
 "nbformat_minor": 2
}
