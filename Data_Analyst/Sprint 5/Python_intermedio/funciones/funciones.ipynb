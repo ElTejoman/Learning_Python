{
 "cells": [
  {
   "cell_type": "markdown",
   "metadata": {},
   "source": [
    "# **Funciones**\n",
    "\n",
    "**Alcance local:** si haces referencia a una variable dentro de una función, el intérprete buscará primero el nombre de esa variable dentro de la definición de esa función.\n",
    "\n",
    "```python\n",
    "# my_func.py\n",
    "product_price = 12.0\n",
    "product_qty = 5\n",
    "\n",
    "def total_price():\n",
    "    product_price = 11.0\n",
    "    product_qty = 4\n",
    "    print(f'Precio total: {product_price * product_qty}')\n",
    "\n",
    "total_price()\n",
    "```\n",
    "\n",
    "**Alcance global:** si el intérprete no encuentra la variable dentro del alcance local, la buscará en el alcance global (es decir, en otras partes del programa fuera de las funciones).\n",
    "\n",
    "```python\n",
    "\n",
    "# my_func.py\n",
    "product_price = 12.0\n",
    "product_qty = 5\n",
    "\n",
    "def total_price():\n",
    "    print(f'Precio total: {product_price * product_qty}')\n",
    "\n",
    "total_price()\n",
    "```\n",
    "\n",
    "\n",
    "**Alcance integrado:** por último, si el intérprete no encuentra la variable ni en el ámbito local ni en el global, la buscará en el ámbito integrado de Python.\n",
    "```python\n",
    "\n",
    "# my_func.py\n",
    "product_price = 12.0\n",
    "product_qty = 5\n",
    "\n",
    "def total_price():\n",
    "    print(f'Precio total: {price * qty}')\n",
    "\n",
    "total_price()\n",
    "```"
   ]
  },
  {
   "cell_type": "code",
   "execution_count": null,
   "metadata": {},
   "outputs": [],
   "source": []
  }
 ],
 "metadata": {
  "language_info": {
   "name": "python"
  }
 },
 "nbformat": 4,
 "nbformat_minor": 2
}
