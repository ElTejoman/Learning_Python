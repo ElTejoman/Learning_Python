{
 "cells": [
  {
   "cell_type": "markdown",
   "metadata": {},
   "source": [
    "# Python Intermedio."
   ]
  },
  {
   "cell_type": "code",
   "execution_count": 12,
   "metadata": {},
   "outputs": [
    {
     "name": "stdout",
     "output_type": "stream",
     "text": [
      "(1110, 694)\n"
     ]
    }
   ],
   "source": [
    "# image_rotator.py\n",
    "\n",
    "from PIL import Image # importa el módulo Image de la librería PIL\n",
    "\n",
    "# carga una imagen llamada 'tripleten_logo.jpeg'.\n",
    "im = Image.open('tripleten_logo.png')\n",
    "\n",
    "# obtén el tamaño de la imagen mediante el atributo .size y muéstralo\n",
    "print(im.size)\n",
    "\n",
    "# gira la imagen 90 grados en sentido contrario a las agujas del reloj\n",
    "rotated = im.rotate(90)\n",
    "\n",
    "# guarda la imagen girada\n",
    "rotated.save('rotated.png')"
   ]
  },
  {
   "cell_type": "markdown",
   "metadata": {},
   "source": [
    "**En este punto python ha rotado una imagen en 90 grados. EL resultado indica el 1110 (ancho) y 694 (alto).**\n",
    "\n",
    "### **Argumentos**\n",
    "\n",
    "Los argumentos de línea de comandos son similares a los argumentos de una función en Python. Los pasamos a nuestro script posicionalmente incluyéndolos en nuestra sentencia de ejecución de línea de comandos. Los valores de los argumentos pasados se usan dentro del script."
   ]
  },
  {
   "cell_type": "code",
   "execution_count": 13,
   "metadata": {},
   "outputs": [
    {
     "name": "stderr",
     "output_type": "stream",
     "text": [
      "usage: ipykernel_launcher.py [-h] input_file output_file angle\n",
      "ipykernel_launcher.py: error: the following arguments are required: input_file, output_file, angle\n"
     ]
    },
    {
     "ename": "SystemExit",
     "evalue": "2",
     "output_type": "error",
     "traceback": [
      "An exception has occurred, use %tb to see the full traceback.\n",
      "\u001b[1;31mSystemExit\u001b[0m\u001b[1;31m:\u001b[0m 2\n"
     ]
    }
   ],
   "source": [
    "# image_rotator.py\n",
    "\n",
    "from PIL import Image\n",
    "import argparse  # importa el módulo argparse\n",
    "\n",
    "# inicializa el analizador sintáctico\n",
    "parser = argparse.ArgumentParser()\n",
    "\n",
    "# agrega argumentos con sus nombres correspondientes\n",
    "parser.add_argument(\"input_file\")\n",
    "parser.add_argument(\"output_file\")\n",
    "parser.add_argument(\"angle\", type=int)\n",
    "\n",
    "# analiza los argumentos\n",
    "args = parser.parse_args()\n",
    "\n",
    "# carga una imagen del argumento input_file\n",
    "im = Image.open(args.input_file)\n",
    "\n",
    "# muestra el tamaño de la imagen\n",
    "print(im.size)\n",
    "\n",
    "# gira la imagen en un ángulo proporcionado como argumento\n",
    "rotated = im.rotate(args.angle)\n",
    "\n",
    "# guarda la imagen girada usando la ruta de salida de un argumento output_file\n",
    "rotated.save(args.output_file)"
   ]
  },
  {
   "cell_type": "code",
   "execution_count": 18,
   "metadata": {},
   "outputs": [
    {
     "name": "stdout",
     "output_type": "stream",
     "text": [
      "(1110, 694)\n"
     ]
    }
   ],
   "source": [
    "!python image_rotator.py tripleten_logo.png output.png 180\n"
   ]
  }
 ],
 "metadata": {
  "kernelspec": {
   "display_name": "Python 3",
   "language": "python",
   "name": "python3"
  },
  "language_info": {
   "codemirror_mode": {
    "name": "ipython",
    "version": 3
   },
   "file_extension": ".py",
   "mimetype": "text/x-python",
   "name": "python",
   "nbconvert_exporter": "python",
   "pygments_lexer": "ipython3",
   "version": "3.11.7"
  }
 },
 "nbformat": 4,
 "nbformat_minor": 2
}
