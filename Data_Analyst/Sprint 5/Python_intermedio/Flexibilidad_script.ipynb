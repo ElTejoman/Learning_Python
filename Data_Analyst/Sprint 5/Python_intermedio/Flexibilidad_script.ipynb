{
 "cells": [
  {
   "cell_type": "markdown",
   "metadata": {},
   "source": []
  },
  {
   "cell_type": "code",
   "execution_count": 1,
   "metadata": {},
   "outputs": [
    {
     "name": "stdout",
     "output_type": "stream",
     "text": [
      "(1110, 694)\n"
     ]
    }
   ],
   "source": [
    "# image_rotator.py\n",
    "\n",
    "from PIL import Image # importa el módulo Image de la librería PIL\n",
    "\n",
    "# carga una imagen llamada 'tripleten_logo.jpeg'.\n",
    "im = Image.open('tripleten_logo.png')\n",
    "\n",
    "# obtén el tamaño de la imagen mediante el atributo .size y muéstralo\n",
    "print(im.size)\n",
    "\n",
    "# gira la imagen 90 grados en sentido contrario a las agujas del reloj\n",
    "rotated = im.rotate(90)\n",
    "\n",
    "# guarda la imagen girada\n",
    "rotated.save('rotated.png')"
   ]
  }
 ],
 "metadata": {
  "kernelspec": {
   "display_name": "Python 3",
   "language": "python",
   "name": "python3"
  },
  "language_info": {
   "codemirror_mode": {
    "name": "ipython",
    "version": 3
   },
   "file_extension": ".py",
   "mimetype": "text/x-python",
   "name": "python",
   "nbconvert_exporter": "python",
   "pygments_lexer": "ipython3",
   "version": "3.11.6"
  }
 },
 "nbformat": 4,
 "nbformat_minor": 2
}
