{
 "cells": [
  {
   "cell_type": "markdown",
   "metadata": {},
   "source": [
    "# Python Intermedio."
   ]
  },
  {
   "cell_type": "code",
   "execution_count": 12,
   "metadata": {},
   "outputs": [
    {
     "name": "stdout",
     "output_type": "stream",
     "text": [
      "(1110, 694)\n"
     ]
    }
   ],
   "source": [
    "# image_rotator.py\n",
    "\n",
    "from PIL import Image # importa el módulo Image de la librería PIL\n",
    "\n",
    "# carga una imagen llamada 'tripleten_logo.jpeg'.\n",
    "im = Image.open('tripleten_logo.png')\n",
    "\n",
    "# obtén el tamaño de la imagen mediante el atributo .size y muéstralo\n",
    "print(im.size)\n",
    "\n",
    "# gira la imagen 90 grados en sentido contrario a las agujas del reloj\n",
    "rotated = im.rotate(90)\n",
    "\n",
    "# guarda la imagen girada\n",
    "rotated.save('rotated.png')"
   ]
  },
  {
   "cell_type": "markdown",
   "metadata": {},
   "source": [
    "**En este punto python ha rotado una imagen en 90 grados. EL resultado indica el 1110 (ancho) y 694 (alto).**\n",
    "\n",
    "### **Argumentos**\n",
    "\n",
    "Los argumentos de línea de comandos son similares a los argumentos de una función en Python. Los pasamos a nuestro script posicionalmente incluyéndolos en nuestra sentencia de ejecución de línea de comandos. Los valores de los argumentos pasados se usan dentro del script."
   ]
  },
  {
   "cell_type": "code",
   "execution_count": 13,
   "metadata": {},
   "outputs": [
    {
     "name": "stderr",
     "output_type": "stream",
     "text": [
      "usage: ipykernel_launcher.py [-h] input_file output_file angle\n",
      "ipykernel_launcher.py: error: the following arguments are required: input_file, output_file, angle\n"
     ]
    },
    {
     "ename": "SystemExit",
     "evalue": "2",
     "output_type": "error",
     "traceback": [
      "An exception has occurred, use %tb to see the full traceback.\n",
      "\u001b[1;31mSystemExit\u001b[0m\u001b[1;31m:\u001b[0m 2\n"
     ]
    }
   ],
   "source": [
    "# image_rotator.py\n",
    "\n",
    "from PIL import Image\n",
    "import argparse  # importa el módulo argparse\n",
    "\n",
    "# inicializa el analizador sintáctico\n",
    "parser = argparse.ArgumentParser()\n",
    "\n",
    "# agrega argumentos con sus nombres correspondientes\n",
    "parser.add_argument(\"input_file\")\n",
    "parser.add_argument(\"output_file\")\n",
    "parser.add_argument(\"angle\", type=int)\n",
    "\n",
    "# analiza los argumentos\n",
    "args = parser.parse_args()\n",
    "\n",
    "# carga una imagen del argumento input_file\n",
    "im = Image.open(args.input_file)\n",
    "\n",
    "# muestra el tamaño de la imagen\n",
    "print(im.size)\n",
    "\n",
    "# gira la imagen en un ángulo proporcionado como argumento\n",
    "rotated = im.rotate(args.angle)\n",
    "\n",
    "# guarda la imagen girada usando la ruta de salida de un argumento output_file\n",
    "rotated.save(args.output_file)"
   ]
  },
  {
   "cell_type": "code",
   "execution_count": 18,
   "metadata": {},
   "outputs": [
    {
     "name": "stdout",
     "output_type": "stream",
     "text": [
      "(1110, 694)\n"
     ]
    }
   ],
   "source": [
    "!python image_rotator.py tripleten_logo.png output.png 180\n"
   ]
  },
  {
   "cell_type": "markdown",
   "metadata": {},
   "source": [
    "# **Manejo de errores**\n",
    "\n",
    "\n",
    "**Introducción:**\n",
    "\n",
    "* Los programas de computadora no son tan flexibles como los humanos y se detienen ante errores inesperados.\n",
    "* Es importante detectar y manejar errores para que el programa no se bloquee y pueda continuar funcionando.\n",
    "\n",
    "**Mensajes de error:**\n",
    "\n",
    "* Los mensajes de error nos indican dónde se detectó el error y cuál fue el problema.\n",
    "* Ejemplo: FileNotFoundError si el nombre del archivo es incorrecto.\n",
    "\n",
    "**Tipos de excepciones:**\n",
    "\n",
    "* Python tiene diferentes tipos de excepciones para diferentes tipos de errores.\n",
    "* Todas las excepciones heredan de la clase Exception.\n",
    "\n",
    "**Importancia de la detección y manejo de errores:**\n",
    "\n",
    "* Permite que el programa continúe funcionando a pesar de errores menores.\n",
    "* Facilita la depuración del programa.\n",
    "* Puede mejorar la experiencia del usuario al proporcionar información sobre el error y cómo solucionarlo.\n",
    "\n",
    "**Ejemplo:**\n",
    "\n",
    "```python\n",
    "try:\n",
    "    # Código que puede generar un error\n",
    "except FileNotFoundError:\n",
    "    # Manejar el error FileNotFoundError\n",
    "except TypeError:\n",
    "    # Manejar el error TypeError\n",
    "except Exception:\n",
    "    # Manejar cualquier otro tipo de error\n",
    "```\n",
    "\n",
    "**En resumen:**\n",
    "\n",
    "* La detección y el manejo de errores son esenciales para escribir programas robustos y fáciles de usar en Python.\n",
    "* La estructura `try-except` te permite capturar diferentes tipos de excepciones y ejecutar código específico para cada una de ellas.\n",
    "\n",
    "**Consejos:**\n",
    "\n",
    "* Usa mensajes de error claros y concisos.\n",
    "* Proporciona información sobre cómo solucionar el error.\n",
    "* Registra los errores para poder analizarlos posteriormente.\n",
    "\n"
   ]
  },
  {
   "cell_type": "markdown",
   "metadata": {},
   "source": [
    "## Try-except en Python\n",
    "\n",
    "**En el segundo sprint, profundizamos en el uso de try-except para manejar errores en Python:**\n",
    "\n",
    "**Manejo de FileNotFoundError:**\n",
    "\n",
    "* Se utiliza un bloque try-except para abrir un archivo.\n",
    "* Si el archivo no se encuentra, se captura la excepción FileNotFoundError y se muestra un mensaje al usuario.\n",
    "* El usuario puede introducir un nuevo nombre de archivo.\n",
    "\n",
    "**Manejo de múltiples excepciones:**\n",
    "\n",
    "* Se pueden añadir varios bloques except para capturar diferentes tipos de errores.\n",
    "* Se utiliza un bloque except genérico para capturar cualquier otra excepción.\n",
    "\n",
    "**Obtener el mensaje de error:**\n",
    "\n",
    "* Se puede usar un alias para la excepción para obtener el mensaje de error.\n",
    "* El mensaje de error se puede mostrar al usuario para proporcionar más información.\n",
    "\n",
    "**Ejemplo:**\n",
    "\n",
    "```python\n",
    "try:\n",
    "    im = Image.open(args.input_file)\n",
    "\n",
    "except FileNotFoundError:\n",
    "    print('archivo de entrada no encontrado, introduce el nombre de archivo correcto:')\n",
    "    im = Image.open(input())\n",
    "\n",
    "except Exception as error_msg:\n",
    "    print(error_msg)\n",
    "    print('Es probable que el archivo sea incorrecto, prueba con uno diferente:')\n",
    "    im = Image.open(input())\n",
    "```\n",
    "\n",
    "**En el ejemplo:**\n",
    "\n",
    "* Se intenta abrir un archivo con el nombre dado.\n",
    "* Si el archivo no se encuentra, se pide al usuario que introduzca un nuevo nombre.\n",
    "* Si el archivo aún no se puede abrir, se muestra un mensaje de error y se pide al usuario que intente con otro archivo.\n",
    "\n",
    "**Puntos clave:**\n",
    "\n",
    "* Try-except es una herramienta esencial para manejar errores en Python.\n",
    "* Permite que el programa continúe funcionando a pesar de errores menores.\n",
    "* Puede mejorar la experiencia del usuario al proporcionar información sobre el error y cómo solucionarlo.\n",
    "\n"
   ]
  }
 ],
 "metadata": {
  "kernelspec": {
   "display_name": "Python 3",
   "language": "python",
   "name": "python3"
  },
  "language_info": {
   "codemirror_mode": {
    "name": "ipython",
    "version": 3
   },
   "file_extension": ".py",
   "mimetype": "text/x-python",
   "name": "python",
   "nbconvert_exporter": "python",
   "pygments_lexer": "ipython3",
   "version": "3.11.7"
  }
 },
 "nbformat": 4,
 "nbformat_minor": 2
}
