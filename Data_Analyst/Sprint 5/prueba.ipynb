{
 "cells": [
  {
   "cell_type": "code",
   "execution_count": 1,
   "metadata": {},
   "outputs": [
    {
     "name": "stdout",
     "output_type": "stream",
     "text": [
      "4\n"
     ]
    }
   ],
   "source": [
    "import os\n",
    "cpu_num = os.cpu_count()\n",
    "\n",
    "print(cpu_num)"
   ]
  },
  {
   "cell_type": "code",
   "execution_count": 2,
   "metadata": {},
   "outputs": [
    {
     "data": {
      "text/plain": [
       "'3.11.6 (tags/v3.11.6:8b6ee5b, Oct  2 2023, 14:57:12) [MSC v.1935 64 bit (AMD64)]'"
      ]
     },
     "execution_count": 2,
     "metadata": {},
     "output_type": "execute_result"
    }
   ],
   "source": [
    "import sys\n",
    "sys.version"
   ]
  },
  {
   "cell_type": "code",
   "execution_count": 3,
   "metadata": {},
   "outputs": [
    {
     "name": "stdout",
     "output_type": "stream",
     "text": [
      "2.1.4\n"
     ]
    }
   ],
   "source": [
    "import pandas as pd\n",
    "print(pd.__version__)"
   ]
  },
  {
   "cell_type": "code",
   "execution_count": 4,
   "metadata": {},
   "outputs": [
    {
     "name": "stdout",
     "output_type": "stream",
     "text": [
      "Requirement already satisfied: pandas in c:\\users\\usuario\\appdata\\local\\packages\\pythonsoftwarefoundation.python.3.11_qbz5n2kfra8p0\\localcache\\local-packages\\python311\\site-packages (2.1.4)\n",
      "Collecting pandas\n",
      "  Obtaining dependency information for pandas from https://files.pythonhosted.org/packages/77/62/8e11962934e024a093758992bc82711e3e30efd5ea355cbfdc6e1ab5de76/pandas-2.2.0-cp311-cp311-win_amd64.whl.metadata\n",
      "  Downloading pandas-2.2.0-cp311-cp311-win_amd64.whl.metadata (19 kB)\n",
      "Requirement already satisfied: numpy<2,>=1.23.2 in c:\\users\\usuario\\appdata\\local\\packages\\pythonsoftwarefoundation.python.3.11_qbz5n2kfra8p0\\localcache\\local-packages\\python311\\site-packages (from pandas) (1.26.3)\n",
      "Requirement already satisfied: python-dateutil>=2.8.2 in c:\\users\\usuario\\appdata\\local\\packages\\pythonsoftwarefoundation.python.3.11_qbz5n2kfra8p0\\localcache\\local-packages\\python311\\site-packages (from pandas) (2.8.2)\n",
      "Requirement already satisfied: pytz>=2020.1 in c:\\users\\usuario\\appdata\\local\\packages\\pythonsoftwarefoundation.python.3.11_qbz5n2kfra8p0\\localcache\\local-packages\\python311\\site-packages (from pandas) (2023.3.post1)\n",
      "Requirement already satisfied: tzdata>=2022.7 in c:\\users\\usuario\\appdata\\local\\packages\\pythonsoftwarefoundation.python.3.11_qbz5n2kfra8p0\\localcache\\local-packages\\python311\\site-packages (from pandas) (2023.4)\n",
      "Requirement already satisfied: six>=1.5 in c:\\users\\usuario\\appdata\\local\\packages\\pythonsoftwarefoundation.python.3.11_qbz5n2kfra8p0\\localcache\\local-packages\\python311\\site-packages (from python-dateutil>=2.8.2->pandas) (1.16.0)\n",
      "Downloading pandas-2.2.0-cp311-cp311-win_amd64.whl (11.6 MB)\n",
      "   ---------------------------------------- 0.0/11.6 MB ? eta -:--:--\n",
      "   ---------------------------------------- 0.0/11.6 MB ? eta -:--:--\n",
      "   ---------------------------------------- 0.0/11.6 MB ? eta -:--:--\n",
      "   ---------------------------------------- 0.0/11.6 MB ? eta -:--:--\n",
      "   ---------------------------------------- 0.0/11.6 MB 186.2 kB/s eta 0:01:03\n",
      "   ---------------------------------------- 0.0/11.6 MB 186.2 kB/s eta 0:01:03\n",
      "   ---------------------------------------- 0.0/11.6 MB 163.4 kB/s eta 0:01:11\n",
      "   ---------------------------------------- 0.1/11.6 MB 217.9 kB/s eta 0:00:53\n",
      "   ---------------------------------------- 0.1/11.6 MB 275.8 kB/s eta 0:00:42\n",
      "   ---------------------------------------- 0.1/11.6 MB 327.4 kB/s eta 0:00:36\n",
      "    --------------------------------------- 0.2/11.6 MB 352.2 kB/s eta 0:00:33\n",
      "    --------------------------------------- 0.2/11.6 MB 420.8 kB/s eta 0:00:28\n",
      "    --------------------------------------- 0.2/11.6 MB 443.4 kB/s eta 0:00:26\n",
      "    --------------------------------------- 0.3/11.6 MB 462.0 kB/s eta 0:00:25\n",
      "    --------------------------------------- 0.3/11.6 MB 477.5 kB/s eta 0:00:24\n",
      "   - -------------------------------------- 0.3/11.6 MB 495.2 kB/s eta 0:00:23\n",
      "   - -------------------------------------- 0.4/11.6 MB 520.9 kB/s eta 0:00:22\n",
      "   - -------------------------------------- 0.4/11.6 MB 527.0 kB/s eta 0:00:22\n",
      "   - -------------------------------------- 0.4/11.6 MB 548.1 kB/s eta 0:00:21\n",
      "   -- ------------------------------------- 0.6/11.6 MB 704.1 kB/s eta 0:00:16\n",
      "   -- ------------------------------------- 0.7/11.6 MB 762.0 kB/s eta 0:00:15\n",
      "   -- ------------------------------------- 0.8/11.6 MB 821.9 kB/s eta 0:00:14\n",
      "   --- ------------------------------------ 0.9/11.6 MB 901.6 kB/s eta 0:00:12\n",
      "   ---- ----------------------------------- 1.2/11.6 MB 1.1 MB/s eta 0:00:10\n",
      "   ---- ----------------------------------- 1.4/11.6 MB 1.3 MB/s eta 0:00:08\n",
      "   ---- ----------------------------------- 1.4/11.6 MB 1.3 MB/s eta 0:00:08\n",
      "   ---- ----------------------------------- 1.4/11.6 MB 1.3 MB/s eta 0:00:08\n",
      "   ---- ----------------------------------- 1.4/11.6 MB 1.3 MB/s eta 0:00:08\n",
      "   ----- ---------------------------------- 1.5/11.6 MB 1.2 MB/s eta 0:00:09\n",
      "   --------- ------------------------------ 2.8/11.6 MB 2.2 MB/s eta 0:00:05\n",
      "   ---------- ----------------------------- 3.1/11.6 MB 2.3 MB/s eta 0:00:04\n",
      "   ------------ --------------------------- 3.5/11.6 MB 2.5 MB/s eta 0:00:04\n",
      "   ------------ --------------------------- 3.7/11.6 MB 2.6 MB/s eta 0:00:04\n",
      "   ------------- -------------------------- 3.9/11.6 MB 2.6 MB/s eta 0:00:03\n",
      "   -------------- ------------------------- 4.3/11.6 MB 2.7 MB/s eta 0:00:03\n",
      "   --------------- ------------------------ 4.5/11.6 MB 2.8 MB/s eta 0:00:03\n",
      "   ---------------- ----------------------- 4.8/11.6 MB 2.9 MB/s eta 0:00:03\n",
      "   ----------------- ---------------------- 5.0/11.6 MB 2.9 MB/s eta 0:00:03\n",
      "   ------------------ --------------------- 5.3/11.6 MB 3.0 MB/s eta 0:00:03\n",
      "   ------------------- -------------------- 5.6/11.6 MB 3.1 MB/s eta 0:00:02\n",
      "   -------------------- ------------------- 5.8/11.6 MB 3.1 MB/s eta 0:00:02\n",
      "   --------------------- ------------------ 6.1/11.6 MB 3.2 MB/s eta 0:00:02\n",
      "   ---------------------- ----------------- 6.4/11.6 MB 3.3 MB/s eta 0:00:02\n",
      "   ----------------------- ---------------- 6.7/11.6 MB 3.4 MB/s eta 0:00:02\n",
      "   ----------------------- ---------------- 6.9/11.6 MB 3.4 MB/s eta 0:00:02\n",
      "   ------------------------ --------------- 7.1/11.6 MB 3.4 MB/s eta 0:00:02\n",
      "   ------------------------- -------------- 7.5/11.6 MB 3.5 MB/s eta 0:00:02\n",
      "   --------------------------- ------------ 7.8/11.6 MB 3.5 MB/s eta 0:00:02\n",
      "   ---------------------------- ----------- 8.3/11.6 MB 3.6 MB/s eta 0:00:01\n",
      "   ----------------------------- ---------- 8.7/11.6 MB 3.7 MB/s eta 0:00:01\n",
      "   ------------------------------ --------- 8.9/11.6 MB 3.7 MB/s eta 0:00:01\n",
      "   ------------------------------- -------- 9.2/11.6 MB 3.8 MB/s eta 0:00:01\n",
      "   -------------------------------- ------- 9.5/11.6 MB 3.8 MB/s eta 0:00:01\n",
      "   --------------------------------- ------ 9.8/11.6 MB 3.8 MB/s eta 0:00:01\n",
      "   ---------------------------------- ----- 10.0/11.6 MB 3.8 MB/s eta 0:00:01\n",
      "   ----------------------------------- ---- 10.3/11.6 MB 4.4 MB/s eta 0:00:01\n",
      "   ------------------------------------ --- 10.6/11.6 MB 5.2 MB/s eta 0:00:01\n",
      "   ------------------------------------- -- 10.9/11.6 MB 5.5 MB/s eta 0:00:01\n",
      "   -------------------------------------- - 11.1/11.6 MB 5.6 MB/s eta 0:00:01\n",
      "   ---------------------------------------  11.4/11.6 MB 5.6 MB/s eta 0:00:01\n",
      "   ---------------------------------------  11.6/11.6 MB 5.7 MB/s eta 0:00:01\n",
      "   ---------------------------------------  11.6/11.6 MB 5.7 MB/s eta 0:00:01\n",
      "   ---------------------------------------- 11.6/11.6 MB 5.5 MB/s eta 0:00:00\n",
      "Installing collected packages: pandas\n",
      "  Attempting uninstall: pandas\n",
      "    Found existing installation: pandas 2.1.4\n",
      "    Uninstalling pandas-2.1.4:\n",
      "      Successfully uninstalled pandas-2.1.4\n",
      "Note: you may need to restart the kernel to use updated packages.\n"
     ]
    },
    {
     "name": "stderr",
     "output_type": "stream",
     "text": [
      "ERROR: Could not install packages due to an OSError: [WinError 5] Acceso denegado: 'C:\\\\Users\\\\Usuario\\\\AppData\\\\Local\\\\Packages\\\\PythonSoftwareFoundation.Python.3.11_qbz5n2kfra8p0\\\\LocalCache\\\\local-packages\\\\Python311\\\\site-packages\\\\~andas.libs\\\\msvcp140-fa0758dedafbbe194d3ee96e3dc2b9a3.dll'\n",
      "Check the permissions.\n",
      "\n",
      "\n",
      "[notice] A new release of pip is available: 23.2.1 -> 23.3.2\n",
      "[notice] To update, run: C:\\Users\\Usuario\\AppData\\Local\\Microsoft\\WindowsApps\\PythonSoftwareFoundation.Python.3.11_qbz5n2kfra8p0\\python.exe -m pip install --upgrade pip\n"
     ]
    }
   ],
   "source": [
    "pip install --upgrade pandas"
   ]
  }
 ],
 "metadata": {
  "kernelspec": {
   "display_name": "Python 3",
   "language": "python",
   "name": "python3"
  },
  "language_info": {
   "codemirror_mode": {
    "name": "ipython",
    "version": 3
   },
   "file_extension": ".py",
   "mimetype": "text/x-python",
   "name": "python",
   "nbconvert_exporter": "python",
   "pygments_lexer": "ipython3",
   "version": "3.11.6"
  }
 },
 "nbformat": 4,
 "nbformat_minor": 2
}
