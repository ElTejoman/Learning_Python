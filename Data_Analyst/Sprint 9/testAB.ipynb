{
 "cells": [
  {
   "cell_type": "markdown",
   "metadata": {},
   "source": [
    "# Test A/B\n",
    "\n",
    "### Ejercicios\n",
    "\n",
    "**Ejercicio 1**\n",
    "\n",
    "Un ejemplo de resultados de prueba A/B\n",
    "\n",
    "Encuentra el número total de visitantes y pedidos en cada grupo experimental. Almacena la tabla resultante en table y muestra esta variable. No cambies el precódigo."
   ]
  },
  {
   "cell_type": "code",
   "execution_count": null,
   "metadata": {},
   "outputs": [],
   "source": [
    "import pandas as pd\n",
    "\n",
    "data = pd.read_csv(\"/datasets/data_3-3.csv\", sep=\",\")\n",
    "\n",
    "print(data.head(5))\n",
    "\n",
    "table = (\n",
    "    data.drop([\"date\"], axis=1)\n",
    "    .groupby(\"group\", as_index=False)\n",
    "    .agg({\"visitors\": \"sum\", \"orders\": \"sum\"})\n",
    ")\n",
    "\n",
    "print(table)"
   ]
  }
 ],
 "metadata": {
  "language_info": {
   "name": "python"
  }
 },
 "nbformat": 4,
 "nbformat_minor": 2
}
