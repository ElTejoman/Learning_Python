{
 "cells": [
  {
   "cell_type": "markdown",
   "metadata": {},
   "source": [
    "# Test A/B\n",
    "\n",
    "### Ejercicios\n",
    "\n",
    "**Ejercicio 1**\n",
    "\n",
    "Un ejemplo de resultados de prueba A/B\n",
    "\n",
    "Encuentra el número total de visitantes y pedidos en cada grupo experimental. Almacena la tabla resultante en table y muestra esta variable. No cambies el precódigo."
   ]
  },
  {
   "cell_type": "code",
   "execution_count": null,
   "metadata": {},
   "outputs": [],
   "source": [
    "import pandas as pd\n",
    "\n",
    "data = pd.read_csv(\"/datasets/data_3-3.csv\", sep=\",\")\n",
    "\n",
    "print(data.head(5))\n",
    "\n",
    "table = (\n",
    "    data.drop([\"date\"], axis=1)\n",
    "    .groupby(\"group\", as_index=False)\n",
    "    .agg({\"visitors\": \"sum\", \"orders\": \"sum\"})\n",
    ")\n",
    "\n",
    "print(table)"
   ]
  },
  {
   "cell_type": "markdown",
   "metadata": {},
   "source": [
    "**Ejercicio 2**\n",
    "\n",
    "Encuentra la relación entre el número de pedidos y el número de visitantes para cada grupo experimental. Agrega los resultados a table, almacenándolos en la nueva columna orders_to_visitors_ratio.\n",
    "\n",
    "Redondea los valores a cuatro puntos decimales. Muestra table."
   ]
  },
  {
   "cell_type": "code",
   "execution_count": null,
   "metadata": {},
   "outputs": [],
   "source": [
    "import pandas as pd\n",
    "\n",
    "data = pd.read_csv(\"/datasets/data_3-3.csv\", sep=\",\")\n",
    "\n",
    "print(data.head(5))\n",
    "\n",
    "table = (\n",
    "    data.drop([\"date\"], axis=1)\n",
    "    .groupby(\"group\", as_index=False)\n",
    "    .agg({\"visitors\": \"sum\", \"orders\": \"sum\"})\n",
    ")\n",
    "\n",
    "table[\"orders_to_visitors_ratio\"] = table[\"orders\"] / table[\"visitors\"]\n",
    "table[\"orders_to_visitors_ratio\"] = table[\"orders_to_visitors_ratio\"].round(4)\n",
    "\n",
    "print(table)"
   ]
  },
  {
   "cell_type": "markdown",
   "metadata": {},
   "source": [
    "## Cómo y por qué priorizamos las hipótesis\n",
    "\n",
    "#  **Ejercicio 1**\n",
    "\n",
    "Mira las hipótesis y los parámetros evaluados de WSJF en el archivo.\n",
    "\n",
    "Calcula el WSJF para las hipótesis. Agrega los valores de WSJF a la tabla existente. Asigna el nombre WSJF a la nueva columna. No redondees los valores.\n",
    "\n",
    "Muestra las columnas 'hypothesis' y 'WSJF' ordenadas por la columna 'WSJF' en orden descendente."
   ]
  },
  {
   "cell_type": "code",
   "execution_count": null,
   "metadata": {},
   "outputs": [],
   "source": [
    "import pandas as pd\n",
    "\n",
    "data = pd.read_csv(\"/datasets/hypothesis_4-1-1.csv\", sep=\",\")\n",
    "\n",
    "print(data)\n",
    "\n",
    "data[\"WSJF\"] = (\n",
    "    data[\"user_business_value\"]\n",
    "    + data[\"time_criticality\"]\n",
    "    + data[\"risk_reduction_opportunity_enablement\"]\n",
    ") / data[\"job_size\"]\n",
    "print(data[[\"hypothesis\", \"WSJF\"]].sort_values(by=\"WSJF\", ascending=False))"
   ]
  },
  {
   "cell_type": "markdown",
   "metadata": {},
   "source": [
    "**Ejercicio 2**\n",
    "\n",
    "Estudia las hipótesis y parámetros evaluados de ICE en el archivo.\n",
    "\n",
    "Calcula el ICE para las hipótesis. Agrega los valores obtenidos a la tabla existente. Asigna el nombre ICE a la nueva columna. No redondees los valores.\n",
    "\n",
    "Muestra las columnas 'hypothesis' y 'ICE' ordenadas por la columna 'ICE' en orden descendente."
   ]
  },
  {
   "cell_type": "code",
   "execution_count": null,
   "metadata": {},
   "outputs": [],
   "source": [
    "import pandas as pd\n",
    "\n",
    "data = pd.read_csv(\"/datasets/hypothesis_4-1-2.csv\", sep=\",\")\n",
    "\n",
    "print(data)\n",
    "\n",
    "data[\"ICE\"] = (data[\"impact\"] * data[\"confidence\"]) / data[\"efforts\"]\n",
    "print(data[[\"hypothesis\", \"ICE\"]].sort_values(by=\"ICE\", ascending=False))"
   ]
  },
  {
   "cell_type": "markdown",
   "metadata": {},
   "source": [
    "**Ejercicio 3**\n",
    "\n",
    "Calcula el RICE para las hipótesis. Agrega los valores obtenidos a la tabla existente. Asigna el nombre RICE a la nueva columna. No redondees los valores.\n",
    "\n",
    "Muestra las columnas 'hypothesis' y 'RICE' ordenadas por la columna 'RICE' en orden descendente."
   ]
  },
  {
   "cell_type": "code",
   "execution_count": null,
   "metadata": {},
   "outputs": [],
   "source": [
    "import pandas as pd\n",
    "\n",
    "data = pd.read_csv(\"/datasets/hypothesis_4-1-2.csv\", sep=\",\")\n",
    "\n",
    "print(data)\n",
    "\n",
    "data[\"RICE\"] = (data[\"reach\"] * data[\"impact\"] * data[\"confidence\"]) / data[\"efforts\"]\n",
    "print(data[[\"hypothesis\", \"RICE\"]].sort_values(by=\"RICE\", ascending=False))"
   ]
  },
  {
   "cell_type": "markdown",
   "metadata": {},
   "source": [
    "# Analizar resultados de Test A/B\n",
    "\n",
    "### Ejercicios"
   ]
  },
  {
   "cell_type": "markdown",
   "metadata": {},
   "source": [
    "Una empresa ofreció a 400 de 900 clientes potenciales (usuarios que mostraron algún interés en un producto) una oferta especial para servicios ampliados. A los 500 usuarios restantes se les ofreció el paquete de servicios original.\n",
    "\n",
    "En cada grupo, 100 usuarios pidieron el paquete.\n",
    "\n",
    "¿Funcionó la promoción? Prueba la hipótesis de que las proporciones de los pedidos en estos dos segmentos de clientes potenciales eran iguales."
   ]
  },
  {
   "cell_type": "code",
   "execution_count": null,
   "metadata": {},
   "outputs": [],
   "source": [
    "from scipy import stats as st\n",
    "import numpy as np\n",
    "import math as mth\n",
    "\n",
    "alpha = 0.05  # nivel de significación\n",
    "\n",
    "purchases = np.array([100, 100])\n",
    "leads = np.array([400, 500])\n",
    "\n",
    "p1 = purchases[0] / leads[0]\n",
    "\n",
    "p2 = purchases[1] / leads[1]\n",
    "\n",
    "p_combined = (purchases[0] + purchases[1]) / (leads[0] + leads[1])\n",
    "\n",
    "difference = p1 - p2\n",
    "\n",
    "z_value = difference / mth.sqrt(\n",
    "    p_combined * (1 - p_combined) * (1 / leads[0] + 1 / leads[1])\n",
    ")\n",
    "\n",
    "distr = st.norm(0, 1)\n",
    "\n",
    "p_value = (1 - distr.cdf(abs(z_value))) * 2\n",
    "\n",
    "print(\"p-value: \", p_value)\n",
    "\n",
    "if p_value < alpha:\n",
    "    print(\n",
    "        \"Rechazar la hipótesis nula: hay una diferencia significativa entre las proporciones\"\n",
    "    )\n",
    "else:\n",
    "    print(\n",
    "        \"No se pudo rechazar la hipótesis nula: no hay razón para pensar que las proporciones son diferentes\"\n",
    "    )"
   ]
  }
 ],
 "metadata": {
  "language_info": {
   "name": "python"
  }
 },
 "nbformat": 4,
 "nbformat_minor": 2
}
