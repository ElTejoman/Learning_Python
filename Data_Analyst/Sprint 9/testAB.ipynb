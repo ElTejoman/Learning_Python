{
 "cells": [
  {
   "cell_type": "markdown",
   "metadata": {},
   "source": [
    "# Test A/B\n",
    "\n",
    "### Ejercicios\n",
    "\n",
    "**Ejercicio 1**\n",
    "\n",
    "Un ejemplo de resultados de prueba A/B\n",
    "\n",
    "Encuentra el número total de visitantes y pedidos en cada grupo experimental. Almacena la tabla resultante en table y muestra esta variable. No cambies el precódigo."
   ]
  },
  {
   "cell_type": "code",
   "execution_count": null,
   "metadata": {},
   "outputs": [],
   "source": [
    "import pandas as pd\n",
    "\n",
    "data = pd.read_csv(\"/datasets/data_3-3.csv\", sep=\",\")\n",
    "\n",
    "print(data.head(5))\n",
    "\n",
    "table = (\n",
    "    data.drop([\"date\"], axis=1)\n",
    "    .groupby(\"group\", as_index=False)\n",
    "    .agg({\"visitors\": \"sum\", \"orders\": \"sum\"})\n",
    ")\n",
    "\n",
    "print(table)"
   ]
  },
  {
   "cell_type": "markdown",
   "metadata": {},
   "source": [
    "**Ejercicio 2**\n",
    "\n",
    "Encuentra la relación entre el número de pedidos y el número de visitantes para cada grupo experimental. Agrega los resultados a table, almacenándolos en la nueva columna orders_to_visitors_ratio.\n",
    "\n",
    "Redondea los valores a cuatro puntos decimales. Muestra table."
   ]
  },
  {
   "cell_type": "code",
   "execution_count": null,
   "metadata": {},
   "outputs": [],
   "source": [
    "import pandas as pd\n",
    "\n",
    "data = pd.read_csv(\"/datasets/data_3-3.csv\", sep=\",\")\n",
    "\n",
    "print(data.head(5))\n",
    "\n",
    "table = (\n",
    "    data.drop([\"date\"], axis=1)\n",
    "    .groupby(\"group\", as_index=False)\n",
    "    .agg({\"visitors\": \"sum\", \"orders\": \"sum\"})\n",
    ")\n",
    "\n",
    "table[\"orders_to_visitors_ratio\"] = table[\"orders\"] / table[\"visitors\"]\n",
    "table[\"orders_to_visitors_ratio\"] = table[\"orders_to_visitors_ratio\"].round(4)\n",
    "\n",
    "print(table)"
   ]
  },
  {
   "cell_type": "markdown",
   "metadata": {},
   "source": [
    "## Cómo y por qué priorizamos las hipótesis\n",
    "\n",
    "#  **Ejercicio 1**\n",
    "\n",
    "Mira las hipótesis y los parámetros evaluados de WSJF en el archivo.\n",
    "\n",
    "Calcula el WSJF para las hipótesis. Agrega los valores de WSJF a la tabla existente. Asigna el nombre WSJF a la nueva columna. No redondees los valores.\n",
    "\n",
    "Muestra las columnas 'hypothesis' y 'WSJF' ordenadas por la columna 'WSJF' en orden descendente."
   ]
  },
  {
   "cell_type": "code",
   "execution_count": null,
   "metadata": {},
   "outputs": [],
   "source": [
    "import pandas as pd\n",
    "\n",
    "data = pd.read_csv(\"/datasets/hypothesis_4-1-1.csv\", sep=\",\")\n",
    "\n",
    "print(data)\n",
    "\n",
    "data[\"WSJF\"] = (\n",
    "    data[\"user_business_value\"]\n",
    "    + data[\"time_criticality\"]\n",
    "    + data[\"risk_reduction_opportunity_enablement\"]\n",
    ") / data[\"job_size\"]\n",
    "print(data[[\"hypothesis\", \"WSJF\"]].sort_values(by=\"WSJF\", ascending=False))"
   ]
  },
  {
   "cell_type": "markdown",
   "metadata": {},
   "source": [
    "**Ejercicio 2**\n",
    "\n",
    "Estudia las hipótesis y parámetros evaluados de ICE en el archivo.\n",
    "\n",
    "Calcula el ICE para las hipótesis. Agrega los valores obtenidos a la tabla existente. Asigna el nombre ICE a la nueva columna. No redondees los valores.\n",
    "\n",
    "Muestra las columnas 'hypothesis' y 'ICE' ordenadas por la columna 'ICE' en orden descendente."
   ]
  },
  {
   "cell_type": "code",
   "execution_count": null,
   "metadata": {},
   "outputs": [],
   "source": [
    "import pandas as pd\n",
    "\n",
    "data = pd.read_csv(\"/datasets/hypothesis_4-1-2.csv\", sep=\",\")\n",
    "\n",
    "print(data)\n",
    "\n",
    "data[\"ICE\"] = (data[\"impact\"] * data[\"confidence\"]) / data[\"efforts\"]\n",
    "print(data[[\"hypothesis\", \"ICE\"]].sort_values(by=\"ICE\", ascending=False))"
   ]
  },
  {
   "cell_type": "markdown",
   "metadata": {},
   "source": [
    "**Ejercicio 3**\n",
    "\n",
    "Calcula el RICE para las hipótesis. Agrega los valores obtenidos a la tabla existente. Asigna el nombre RICE a la nueva columna. No redondees los valores.\n",
    "\n",
    "Muestra las columnas 'hypothesis' y 'RICE' ordenadas por la columna 'RICE' en orden descendente."
   ]
  },
  {
   "cell_type": "code",
   "execution_count": null,
   "metadata": {},
   "outputs": [],
   "source": [
    "import pandas as pd\n",
    "\n",
    "data = pd.read_csv(\"/datasets/hypothesis_4-1-2.csv\", sep=\",\")\n",
    "\n",
    "print(data)\n",
    "\n",
    "data[\"RICE\"] = (data[\"reach\"] * data[\"impact\"] * data[\"confidence\"]) / data[\"efforts\"]\n",
    "print(data[[\"hypothesis\", \"RICE\"]].sort_values(by=\"RICE\", ascending=False))"
   ]
  }
 ],
 "metadata": {
  "language_info": {
   "name": "python"
  }
 },
 "nbformat": 4,
 "nbformat_minor": 2
}
