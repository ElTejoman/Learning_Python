{
 "cells": [
  {
   "cell_type": "code",
   "execution_count": null,
   "metadata": {},
   "outputs": [],
   "source": []
  },
  {
   "cell_type": "code",
   "execution_count": 2,
   "metadata": {},
   "outputs": [
    {
     "name": "stdout",
     "output_type": "stream",
     "text": [
      "           Date and time Temperature       Description\n",
      "0    2017-11-01 00:00:00     276.150     broken clouds\n",
      "1    2017-11-01 01:00:00     275.700  scattered clouds\n",
      "2    2017-11-01 02:00:00     275.610   overcast clouds\n",
      "3    2017-11-01 03:00:00     275.350     broken clouds\n",
      "4    2017-11-01 04:00:00     275.240     broken clouds\n",
      "..                   ...         ...               ...\n",
      "692  2017-11-29 20:00:00     281.340        few clouds\n",
      "693  2017-11-29 21:00:00     281.690      sky is clear\n",
      "694  2017-11-29 22:00:00     281.070        few clouds\n",
      "695  2017-11-29 23:00:00     280.060      sky is clear\n",
      "696  2017-11-30 00:00:00     278.460      sky is clear\n",
      "\n",
      "[697 rows x 3 columns]\n"
     ]
    }
   ],
   "source": [
    "import requests\n",
    "from bs4 import BeautifulSoup\n",
    "import pandas as pd\n",
    "\n",
    "url = \"https://practicum-content.s3.us-west-1.amazonaws.com/data-analyst-eng/moved_chicago_weather_2017.html\"\n",
    "\n",
    "response = requests.get(url)\n",
    "html_content = response.content\n",
    "soup = BeautifulSoup(html_content, \"html.parser\")\n",
    "weather_table = soup.find(\"table\", attrs={\"id\": \"weather_records\"})\n",
    "\n",
    "dates = []\n",
    "temperatures = []\n",
    "descriptions = []\n",
    "\n",
    "rows = weather_table.find_all(\"tr\")\n",
    "\n",
    "for row in rows[1:]:\n",
    "    cols = row.find_all(\"td\")\n",
    "    cols = [col.text.strip() for col in cols]\n",
    "    dates.append(cols[0])\n",
    "    temperatures.append(cols[1])\n",
    "    descriptions.append(cols[2])\n",
    "\n",
    "\n",
    "weather_records = pd.DataFrame(\n",
    "    {\"Date and time\": dates, \"Temperature\": temperatures, \"Description\": descriptions}\n",
    ")\n",
    "\n",
    "print(weather_records)"
   ]
  }
 ],
 "metadata": {
  "kernelspec": {
   "display_name": "Python 3",
   "language": "python",
   "name": "python3"
  },
  "language_info": {
   "codemirror_mode": {
    "name": "ipython",
    "version": 3
   },
   "file_extension": ".py",
   "mimetype": "text/x-python",
   "name": "python",
   "nbconvert_exporter": "python",
   "pygments_lexer": "ipython3",
   "version": "3.11.9"
  }
 },
 "nbformat": 4,
 "nbformat_minor": 2
}
