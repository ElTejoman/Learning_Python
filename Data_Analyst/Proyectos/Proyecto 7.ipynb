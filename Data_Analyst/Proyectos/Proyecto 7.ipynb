{
 "cells": [
  {
   "cell_type": "code",
   "execution_count": null,
   "metadata": {},
   "outputs": [],
   "source": []
  },
  {
   "cell_type": "code",
   "execution_count": 2,
   "metadata": {},
   "outputs": [
    {
     "name": "stdout",
     "output_type": "stream",
     "text": [
      "           Date and time Temperature       Description\n",
      "0    2017-11-01 00:00:00     276.150     broken clouds\n",
      "1    2017-11-01 01:00:00     275.700  scattered clouds\n",
      "2    2017-11-01 02:00:00     275.610   overcast clouds\n",
      "3    2017-11-01 03:00:00     275.350     broken clouds\n",
      "4    2017-11-01 04:00:00     275.240     broken clouds\n",
      "..                   ...         ...               ...\n",
      "692  2017-11-29 20:00:00     281.340        few clouds\n",
      "693  2017-11-29 21:00:00     281.690      sky is clear\n",
      "694  2017-11-29 22:00:00     281.070        few clouds\n",
      "695  2017-11-29 23:00:00     280.060      sky is clear\n",
      "696  2017-11-30 00:00:00     278.460      sky is clear\n",
      "\n",
      "[697 rows x 3 columns]\n"
     ]
    }
   ],
   "source": [
    "import requests\n",
    "from bs4 import BeautifulSoup\n",
    "import pandas as pd\n",
    "\n",
    "url = \"https://practicum-content.s3.us-west-1.amazonaws.com/data-analyst-eng/moved_chicago_weather_2017.html\"\n",
    "\n",
    "response = requests.get(url)\n",
    "html_content = response.content\n",
    "soup = BeautifulSoup(html_content, \"html.parser\")\n",
    "weather_table = soup.find(\"table\", attrs={\"id\": \"weather_records\"})\n",
    "\n",
    "dates = []\n",
    "temperatures = []\n",
    "descriptions = []\n",
    "\n",
    "rows = weather_table.find_all(\"tr\")\n",
    "\n",
    "for row in rows[1:]:\n",
    "    cols = row.find_all(\"td\")\n",
    "    cols = [col.text.strip() for col in cols]\n",
    "    dates.append(cols[0])\n",
    "    temperatures.append(cols[1])\n",
    "    descriptions.append(cols[2])\n",
    "\n",
    "\n",
    "weather_records = pd.DataFrame(\n",
    "    {\"Date and time\": dates, \"Temperature\": temperatures, \"Description\": descriptions}\n",
    ")\n",
    "\n",
    "print(weather_records)"
   ]
  },
  {
   "cell_type": "markdown",
   "metadata": {},
   "source": [
    "## Trabajar con bases de datos\n",
    "\n",
    "**Ejercicio 1**\n",
    "\n",
    "Imprime el campo company_name. Encuentra la cantidad de viajes en taxi para cada compañía de taxis para el 15 y 16 de noviembre de 2017, asigna al campo resultante el nombre trips_amount e imprímelo también. Ordena los resultados por el campo trips_amount en orden descendente."
   ]
  },
  {
   "cell_type": "code",
   "execution_count": null,
   "metadata": {
    "vscode": {
     "languageId": "sql"
    }
   },
   "outputs": [],
   "source": [
    "SELECT c.company_name, COUNT(t.trip_id) AS trips_amount\n",
    "FROM cabs c\n",
    "JOIN trips t ON c.cab_id = t.cab_id\n",
    "WHERE DATE(t.start_ts) IN ('2017-11-15', '2017-11-16')\n",
    "GROUP BY c.company_name\n",
    "ORDER BY trips_amount DESC;"
   ]
  },
  {
   "cell_type": "markdown",
   "metadata": {},
   "source": [
    "**Ejercicio 2**\n",
    "\n",
    "Encuentra la cantidad de viajes para cada empresa de taxis cuyo nombre contenga las palabras \"Yellow\" o \"Blue\" del 1 al 7 de noviembre de 2017. Nombra la variable resultante trips_amount. Agrupa los resultados por el campo company_name."
   ]
  },
  {
   "cell_type": "code",
   "execution_count": null,
   "metadata": {
    "vscode": {
     "languageId": "sql"
    }
   },
   "outputs": [],
   "source": [
    "SELECT c.company_name, COUNT(t.trip_id) AS trips_amount\n",
    "FROM cabs c\n",
    "JOIN trips t ON c.cab_id = t.cab_id\n",
    "WHERE DATE(t.start_ts) BETWEEN '2017-11-01' AND '2017-11-07'\n",
    "AND (c.company_name LIKE '%Yellow%' OR c.company_name LIKE '%Blue%')\n",
    "GROUP BY c.company_name;\n"
   ]
  },
  {
   "cell_type": "markdown",
   "metadata": {},
   "source": [
    "**Ejercicio 3**\n",
    "\n",
    "Del 1 al 7 de noviembre de 2017, las empresas de taxis más populares fueron Flash Cab y Taxi Affiliation Services. Encuentra el número de viajes de estas dos empresas y asigna a la variable resultante el nombre trips_amount. Junta los viajes de todas las demás empresas en el grupo \"Other\". Agrupa los datos por nombres de empresas de taxis. Asigna el nombre company al campo con nombres de empresas de taxis. Ordena el resultado en orden descendente por trips_amount."
   ]
  },
  {
   "cell_type": "code",
   "execution_count": null,
   "metadata": {
    "vscode": {
     "languageId": "sql"
    }
   },
   "outputs": [],
   "source": [
    "SELECT \n",
    "    CASE \n",
    "        WHEN c.company_name IN ('Flash Cab', 'Taxi Affiliation Services') THEN c.company_name \n",
    "        ELSE 'Other' \n",
    "    END AS company,\n",
    "    COUNT(t.trip_id) AS trips_amount\n",
    "FROM \n",
    "    cabs c\n",
    "JOIN \n",
    "    trips t ON c.cab_id = t.cab_id\n",
    "WHERE \n",
    "    DATE(t.start_ts) BETWEEN '2017-11-01' AND '2017-11-07'\n",
    "GROUP BY \n",
    "    CASE \n",
    "        WHEN c.company_name IN ('Flash Cab', 'Taxi Affiliation Services') THEN c.company_name \n",
    "        ELSE 'Other' \n",
    "    END\n",
    "ORDER BY \n",
    "    trips_amount DESC;\n"
   ]
  },
  {
   "cell_type": "markdown",
   "metadata": {},
   "source": [
    "**Ejercicio 4**\n",
    "\n",
    "Recupera los identificadores de los barrios de O'Hare y Loop de la tabla neighborhoods."
   ]
  },
  {
   "cell_type": "code",
   "execution_count": null,
   "metadata": {
    "vscode": {
     "languageId": "sql"
    }
   },
   "outputs": [],
   "source": [
    "SELECT neighborhood_id, name\n",
    "FROM neighborhoods\n",
    "WHERE name LIKE '%Hare' OR name LIKE 'Loop';"
   ]
  },
  {
   "cell_type": "markdown",
   "metadata": {},
   "source": [
    "**Ejercicio 5**\n",
    "\n",
    "Para cada hora recupera los registros de condiciones meteorológicas de la tabla weather_records. Usando el operador CASE, divide todas las horas en dos grupos: Bad si el campo description contiene las palabras rain o storm, y Good para los demás. Nombra el campo resultante weather_conditions. La tabla final debe incluir dos campos: fecha y hora (ts) y weather_conditions."
   ]
  },
  {
   "cell_type": "code",
   "execution_count": null,
   "metadata": {
    "vscode": {
     "languageId": "sql"
    }
   },
   "outputs": [],
   "source": [
    "SELECT \n",
    "    w.ts AS date_and_time,\n",
    "    CASE \n",
    "        WHEN w.description LIKE '%rain%' OR w.description LIKE '%storm%' THEN 'Bad' \n",
    "        ELSE 'Good' \n",
    "    END AS weather_conditions\n",
    "FROM \n",
    "    weather_records w;\n"
   ]
  },
  {
   "cell_type": "markdown",
   "metadata": {},
   "source": [
    "**Ejercicio 6**\n",
    "\n",
    "Recupera de la tabla de trips todos los viajes que comenzaron en el Loop (pickup_location_id: 50) el sábado y terminaron en O'Hare (dropoff_location_id: 63). Obtén las condiciones climáticas para cada viaje. Utiliza el método que aplicaste en la tarea anterior. Recupera también la duración de cada viaje. Ignora los viajes para los que no hay datos disponibles sobre las condiciones climáticas.\n",
    "\n",
    "Las columnas de la tabla deben estar en el siguiente orden:\n",
    "\n",
    "- start_ts\n",
    "- weather_conditions\n",
    "- duration_seconds\n",
    "\n",
    "Ordena por trip_id."
   ]
  },
  {
   "cell_type": "code",
   "execution_count": null,
   "metadata": {
    "vscode": {
     "languageId": "sql"
    }
   },
   "outputs": [],
   "source": [
    "SELECT\n",
    "    t.start_ts,\n",
    "    CASE\n",
    "        WHEN w.description LIKE '%rain%' OR w.description LIKE '%storm%' THEN 'Bad'\n",
    "        ELSE 'Good'\n",
    "    END AS weather_conditions,\n",
    "    t.duration_seconds\n",
    "FROM\n",
    "    trips t\n",
    "INNER JOIN neighborhoods n ON t.pickup_location_id = n.neighborhood_id\n",
    "INNER JOIN weather_records w ON DATE_TRUNC('hour', t.start_ts) = DATE_TRUNC('hour', w.ts)\n",
    "WHERE\n",
    "    n.name = 'Loop'\n",
    "    AND EXTRACT(DOW FROM t.start_ts) = 6\n",
    "    AND t.dropoff_location_id = 63\n",
    "ORDER BY\n",
    "    t.trip_id;\n"
   ]
  },
  {
   "cell_type": "markdown",
   "metadata": {},
   "source": [
    "## Análisis exploratorios de datos con PYTHON\n",
    "\n"
   ]
  },
  {
   "cell_type": "code",
   "execution_count": null,
   "metadata": {},
   "outputs": [],
   "source": [
    "#Importar todas las librerías utilizadas\n",
    "import pandas as pd"
   ]
  },
  {
   "cell_type": "code",
   "execution_count": 11,
   "metadata": {},
   "outputs": [
    {
     "name": "stdout",
     "output_type": "stream",
     "text": [
      "                      company_name  trips_amount\n",
      "0                        Flash Cab         19558\n",
      "1        Taxi Affiliation Services         11422\n",
      "2                 Medallion Leasin         10367\n",
      "3                       Yellow Cab          9888\n",
      "4  Taxi Affiliation Service Yellow          9299\n",
      "  dropoff_location_name  average_trips\n",
      "0                  Loop   10727.466667\n",
      "1           River North    9523.666667\n",
      "2         Streeterville    6664.666667\n",
      "3             West Loop    5163.666667\n",
      "4                O'Hare    2546.900000\n"
     ]
    }
   ],
   "source": [
    "import pandas as pd\n",
    "\n",
    "# Importar los archivos CSV\n",
    "df_company_trips = pd.read_csv(\"data_proyecto7/moved_project_sql_result_01.csv\")\n",
    "df_dropoff_locations = pd.read_csv(\"data_proyecto7/moved_project_sql_result_04.csv\")\n",
    "\n",
    "\n",
    "# Mostrar las primeras filas para verificar la importación\n",
    "\n",
    "print(df_company_trips.head())\n",
    "\n",
    "print(df_dropoff_locations.head())"
   ]
  },
  {
   "cell_type": "code",
   "execution_count": 12,
   "metadata": {},
   "outputs": [
    {
     "name": "stdout",
     "output_type": "stream",
     "text": [
      "\n",
      "Estadísticas descriptivas de df_company_trips:\n",
      "       trips_amount\n",
      "count     64.000000\n",
      "mean    2145.484375\n",
      "std     3812.310186\n",
      "min        2.000000\n",
      "25%       20.750000\n",
      "50%      178.500000\n",
      "75%     2106.500000\n",
      "max    19558.000000\n",
      "\n",
      "Estadísticas descriptivas de df_dropoff_locations:\n",
      "       average_trips\n",
      "count      94.000000\n",
      "mean      599.953728\n",
      "std      1714.591098\n",
      "min         1.800000\n",
      "25%        14.266667\n",
      "50%        52.016667\n",
      "75%       298.858333\n",
      "max     10727.466667\n",
      "\n",
      "Tipos de datos de df_company_trips:\n",
      "company_name    object\n",
      "trips_amount     int64\n",
      "dtype: object\n",
      "\n",
      "Tipos de datos de df_dropoff_locations:\n",
      "dropoff_location_name     object\n",
      "average_trips            float64\n",
      "dtype: object\n"
     ]
    }
   ],
   "source": [
    "# Visualizar algunas estadísticas descriptivas para entender la distribución de los datos\n",
    "print(\"\\nEstadísticas descriptivas de df_company_trips:\")\n",
    "print(df_company_trips.describe())\n",
    "\n",
    "print(\"\\nEstadísticas descriptivas de df_dropoff_locations:\")\n",
    "print(df_dropoff_locations.describe())\n",
    "\n",
    "# Asegurarse de que los tipos de datos sean correctos\n",
    "print(\"\\nTipos de datos de df_company_trips:\")\n",
    "print(df_company_trips.dtypes)\n",
    "\n",
    "print(\"\\nTipos de datos de df_dropoff_locations:\")\n",
    "print(df_dropoff_locations.dtypes)"
   ]
  },
  {
   "cell_type": "markdown",
   "metadata": {},
   "source": [
    "### Análisis:\n",
    "\n",
    "Para el DataFrame `df_company_trips`:\n",
    "- La cantidad de viajes (`trips_amount`) tiene un promedio de aproximadamente 2145 viajes, con una desviación estándar bastante alta de alrededor de 3812. Esto indica que hay una gran variabilidad en la cantidad de viajes entre las diferentes compañías de taxis.\n",
    "- El mínimo número de viajes es 2 y el máximo es 19558, lo que muestra la amplia gama de actividad entre las empresas de taxis durante esos dos días.\n",
    "- La mediana (50% de los datos) es 178.5 viajes, lo que indica que la mitad de las compañías de taxis tienen menos de esta cantidad de viajes y la otra mitad tienen más.\n",
    "\n",
    "Para el DataFrame `df_dropoff_locations`:\n",
    "- El promedio de viajes (`average_trips`) que finalizan en cada barrio es de alrededor de 599.95 viajes, pero la desviación estándar es alta (1714.59), lo que sugiere una variabilidad significativa en el número de viajes entre los diferentes barrios.\n",
    "- El mínimo número de viajes en un barrio es 1.8 y el máximo es 10727.47, lo que muestra una amplia disparidad en la popularidad de los barrios como destinos finales de viaje.\n",
    "- La mediana es de aproximadamente 52 viajes, lo que indica que la mitad de los barrios tienen menos de esta cantidad de viajes como promedio y la otra mitad tienen más.\n",
    "\n",
    "En cuanto a los tipos de datos, ambos DataFrames tienen los tipos adecuados para las columnas respectivas (`object` para nombres y `int64` / `float64` para cantidades). Los datos parecen estar en buen estado y listos para un análisis más detallado y la creación de gráficos."
   ]
  }
 ],
 "metadata": {
  "kernelspec": {
   "display_name": "Python 3",
   "language": "python",
   "name": "python3"
  },
  "language_info": {
   "codemirror_mode": {
    "name": "ipython",
    "version": 3
   },
   "file_extension": ".py",
   "mimetype": "text/x-python",
   "name": "python",
   "nbconvert_exporter": "python",
   "pygments_lexer": "ipython3",
   "version": "3.11.9"
  }
 },
 "nbformat": 4,
 "nbformat_minor": 2
}
