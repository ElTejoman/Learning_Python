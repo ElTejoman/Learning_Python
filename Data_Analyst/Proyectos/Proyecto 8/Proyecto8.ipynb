{
 "cells": [
  {
   "cell_type": "markdown",
   "metadata": {},
   "source": [
    "# **Proyecto SPRINT 8**"
   ]
  },
  {
   "cell_type": "markdown",
   "metadata": {},
   "source": [
    "# Descripción del proyecto\n",
    "Se te ha ido muy bien y te han ofrecido hacer prácticas en el departamento analítico de Y.Afisha. Tu primera tarea es ayudar a optimizar los gastos de marketing.\n",
    "\n",
    "Lo que tienes:\n",
    "\n",
    "- registros del servidor con datos sobre las visitas a Y.Afisha desde enero de 2017 hasta diciembre de 2018;\n",
    "- un archivo con los pedidos en este periodo;\n",
    "- estadísticas de gastos de marketing.\n",
    "  \n",
    "Lo que vas a investigar:\n",
    "\n",
    "- cómo los clientes usan el servicio;\n",
    "- cuándo empiezan a comprar;\n",
    "- cuánto dinero aporta cada cliente a la compañía;\n",
    "- cuándo los ingresos cubren el costo de adquisición de los clientes.\n",
    "\n",
    "### Instrucciones para completar el proyecto\n",
    "\n",
    "## Paso 1. Descarga los datos y prepáralos para el análisis\n",
    "\n",
    "Almacena los datos de visitas, pedidos y gastos en variables.  Optimiza los datos para el análisis. Asegúrate de que cada columna contenga el tipo de datos correcto.\n",
    "\n",
    "Rutas de archivos: \n",
    "\n",
    "- /datasets/visits_log_us.csv. \n",
    "- /datasets/orders_log_us.csv.\n",
    "- /datasets/costs_us.csv.\n",
    "\n",
    "## Paso 2. Haz informes y calcula métricas \n",
    "\n",
    "1. Visitas:\n",
    "- ¿Cuántas personas lo usan cada día, semana y mes?\n",
    "- ¿Cuántas sesiones hay por día? (Un/a usuario/a puede tener más de una sesión).\n",
    "- ¿Cuál es la duración de cada sesión?\n",
    "- ¿Con qué frecuencia los usuarios y las usuarias regresan?\n",
    "\n",
    "2. Ventas:\n",
    " \n",
    "- ¿Cuándo la gente empieza a comprar? (En el análisis de KPI, generalmente nos interesa saber el tiempo que transcurre entre el registro y la conversión, es decir, cuando el/la usuario/a se convierte en cliente. Por ejemplo, si el registro y la primera compra ocurren el mismo día, el/la usuario/a podría caer en la categoría Conversion 0d. Si la primera compra ocurre al día siguiente, será Conversion 1d.  Puedes usar cualquier enfoque que te permita comparar las conversiones de diferentes cohortes para que puedas determinar qué cohorte o canal de marketing es más efectivo).\n",
    "- ¿Cuántos pedidos hacen durante un período de tiempo dado?\n",
    "- ¿Cuál es el tamaño promedio de compra?\n",
    "- ¿Cuánto dinero traen? (LTV)\n",
    "\n",
    "3. Marketing:\n",
    " \n",
    "- ¿Cuánto dinero se gastó? (Total/por fuente de adquisición/a lo largo del tiempo)\n",
    "- ¿Cuál fue el costo de adquisición de clientes de cada una de las fuentes?\n",
    "- ¿Cuán rentables eran las inversiones? (ROMI)\n",
    "\n",
    "Traza gráficos para mostrar cómo difieren estas métricas para varios dispositivos y fuentes de anuncios y cómo cambian con el tiempo. \n",
    "\n",
    "## Paso 3. Escribe una conclusión: aconseja a los expertos de marketing cuánto dinero invertir y dónde\n",
    "\n",
    "¿Qué fuentes/plataformas recomendarías?  Fundamenta tu selección: ¿en qué métricas te enfocaste?  ¿Por qué? ¿Qué conclusiones sacaste después de encontrar los valores métricos?\n",
    "\n",
    "\n",
    "### Descripción de los datos\n",
    "\n",
    "1. La tabla visits (registros del servidor con datos sobre las visitas al sitio web):\n",
    "\n",
    "- Uid: identificador único del usuario;\n",
    "- Device: dispositivo del usuario;\n",
    "- Start Ts: fecha y hora de inicio de la sesión;\n",
    "- End Ts: fecha y hora de término de la sesión;\n",
    "- Source Id: identificador de la fuente de anuncios de la que proviene el usuario.\n",
    "\n",
    "Todas las fechas de esta tabla están en formato AAAA-MM-DD.\n",
    "\n",
    "2. La tabla orders (datos sobre pedidos):\n",
    "\n",
    "- Uid: identificador único del usuario que realiza un pedido;\n",
    "- Buy Ts: fecha y hora del pedido;\n",
    "- Revenue: ingresos de Y.Afisha de este pedido.\n",
    "\n",
    "3. La tabla costs (datos sobre gastos de marketing):\n",
    "\n",
    "- source_id: identificador de la fuente de anuncios\n",
    "- dt: fecha;\n",
    "- costs: gastos en esta fuente de anuncios en este día."
   ]
  },
  {
   "cell_type": "markdown",
   "metadata": {},
   "source": []
  },
  {
   "cell_type": "markdown",
   "metadata": {},
   "source": [
    "### Importamos las bibliotecas utilizadas"
   ]
  },
  {
   "cell_type": "code",
   "execution_count": null,
   "metadata": {},
   "outputs": [],
   "source": [
    "import pandas as pd"
   ]
  },
  {
   "cell_type": "code",
   "execution_count": 6,
   "metadata": {},
   "outputs": [],
   "source": [
    "# Cargar los datos de visitas, pedidos y gastos\n",
    "visits = pd.read_csv(\"datasets/visits_log_us.csv\")\n",
    "orders = pd.read_csv(\"datasets/orders_log_us.csv\")\n",
    "costs = pd.read_csv(\"datasets/costs_us.csv\")"
   ]
  },
  {
   "cell_type": "code",
   "execution_count": 10,
   "metadata": {},
   "outputs": [
    {
     "name": "stdout",
     "output_type": "stream",
     "text": [
      "    Device               End Ts  Source Id             Start Ts  \\\n",
      "0    touch  2017-12-20 17:38:00          4  2017-12-20 17:20:00   \n",
      "1  desktop  2018-02-19 17:21:00          2  2018-02-19 16:53:00   \n",
      "2    touch  2017-07-01 01:54:00          5  2017-07-01 01:54:00   \n",
      "3  desktop  2018-05-20 11:23:00          9  2018-05-20 10:59:00   \n",
      "4  desktop  2017-12-27 14:06:00          3  2017-12-27 14:06:00   \n",
      "\n",
      "                    Uid  \n",
      "0  16879256277535980062  \n",
      "1    104060357244891740  \n",
      "2   7459035603376831527  \n",
      "3  16174680259334210214  \n",
      "4   9969694820036681168  \n",
      "====================================================\n",
      "                Buy Ts  Revenue                   Uid\n",
      "0  2017-06-01 00:10:00    17.00  10329302124590727494\n",
      "1  2017-06-01 00:25:00     0.55  11627257723692907447\n",
      "2  2017-06-01 00:27:00     0.37  17903680561304213844\n",
      "3  2017-06-01 00:29:00     0.55  16109239769442553005\n",
      "4  2017-06-01 07:58:00     0.37  14200605875248379450\n",
      "====================================================\n",
      "   source_id          dt  costs\n",
      "0          1  2017-06-01  75.20\n",
      "1          1  2017-06-02  62.25\n",
      "2          1  2017-06-03  36.53\n",
      "3          1  2017-06-04  55.00\n",
      "4          1  2017-06-05  57.08\n"
     ]
    }
   ],
   "source": [
    "print(visits.head())\n",
    "print(\"====================================================\")\n",
    "print(orders.head())\n",
    "print(\"====================================================\")\n",
    "print(costs.head())"
   ]
  },
  {
   "cell_type": "code",
   "execution_count": 9,
   "metadata": {},
   "outputs": [
    {
     "name": "stdout",
     "output_type": "stream",
     "text": [
      "<class 'pandas.core.frame.DataFrame'>\n",
      "RangeIndex: 359400 entries, 0 to 359399\n",
      "Data columns (total 5 columns):\n",
      " #   Column     Non-Null Count   Dtype \n",
      "---  ------     --------------   ----- \n",
      " 0   Device     359400 non-null  object\n",
      " 1   End Ts     359400 non-null  object\n",
      " 2   Source Id  359400 non-null  int64 \n",
      " 3   Start Ts   359400 non-null  object\n",
      " 4   Uid        359400 non-null  uint64\n",
      "dtypes: int64(1), object(3), uint64(1)\n",
      "memory usage: 13.7+ MB\n",
      "None\n",
      "====================================================\n",
      "<class 'pandas.core.frame.DataFrame'>\n",
      "RangeIndex: 50415 entries, 0 to 50414\n",
      "Data columns (total 3 columns):\n",
      " #   Column   Non-Null Count  Dtype  \n",
      "---  ------   --------------  -----  \n",
      " 0   Buy Ts   50415 non-null  object \n",
      " 1   Revenue  50415 non-null  float64\n",
      " 2   Uid      50415 non-null  uint64 \n",
      "dtypes: float64(1), object(1), uint64(1)\n",
      "memory usage: 1.2+ MB\n",
      "None\n",
      "====================================================\n",
      "<class 'pandas.core.frame.DataFrame'>\n",
      "RangeIndex: 2542 entries, 0 to 2541\n",
      "Data columns (total 3 columns):\n",
      " #   Column     Non-Null Count  Dtype  \n",
      "---  ------     --------------  -----  \n",
      " 0   source_id  2542 non-null   int64  \n",
      " 1   dt         2542 non-null   object \n",
      " 2   costs      2542 non-null   float64\n",
      "dtypes: float64(1), int64(1), object(1)\n",
      "memory usage: 59.7+ KB\n",
      "None\n"
     ]
    }
   ],
   "source": [
    "# Verificar tipos de datos y ajustar si es necesario\n",
    "print(visits.info())\n",
    "print(\"====================================================\")\n",
    "print(orders.info())\n",
    "print(\"====================================================\")\n",
    "print(costs.info())"
   ]
  },
  {
   "cell_type": "code",
   "execution_count": 12,
   "metadata": {},
   "outputs": [
    {
     "name": "stdout",
     "output_type": "stream",
     "text": [
      "<class 'pandas.core.frame.DataFrame'>\n",
      "RangeIndex: 359400 entries, 0 to 359399\n",
      "Data columns (total 5 columns):\n",
      " #   Column     Non-Null Count   Dtype         \n",
      "---  ------     --------------   -----         \n",
      " 0   Device     359400 non-null  object        \n",
      " 1   End Ts     359400 non-null  datetime64[ns]\n",
      " 2   Source Id  359400 non-null  int64         \n",
      " 3   Start Ts   359400 non-null  datetime64[ns]\n",
      " 4   Uid        359400 non-null  object        \n",
      "dtypes: datetime64[ns](2), int64(1), object(2)\n",
      "memory usage: 13.7+ MB\n",
      "None\n",
      "====================================================\n",
      "<class 'pandas.core.frame.DataFrame'>\n",
      "RangeIndex: 50415 entries, 0 to 50414\n",
      "Data columns (total 3 columns):\n",
      " #   Column   Non-Null Count  Dtype         \n",
      "---  ------   --------------  -----         \n",
      " 0   Buy Ts   50415 non-null  datetime64[ns]\n",
      " 1   Revenue  50415 non-null  float64       \n",
      " 2   Uid      50415 non-null  object        \n",
      "dtypes: datetime64[ns](1), float64(1), object(1)\n",
      "memory usage: 1.2+ MB\n",
      "None\n",
      "====================================================\n",
      "<class 'pandas.core.frame.DataFrame'>\n",
      "RangeIndex: 2542 entries, 0 to 2541\n",
      "Data columns (total 3 columns):\n",
      " #   Column     Non-Null Count  Dtype         \n",
      "---  ------     --------------  -----         \n",
      " 0   source_id  2542 non-null   object        \n",
      " 1   dt         2542 non-null   datetime64[ns]\n",
      " 2   costs      2542 non-null   float64       \n",
      "dtypes: datetime64[ns](1), float64(1), object(1)\n",
      "memory usage: 59.7+ KB\n",
      "None\n"
     ]
    }
   ],
   "source": [
    "# Convertir columnas a tipos de datos adecuados\n",
    "visits[\"Start Ts\"] = pd.to_datetime(visits[\"Start Ts\"])\n",
    "visits[\"End Ts\"] = pd.to_datetime(visits[\"End Ts\"])\n",
    "orders[\"Buy Ts\"] = pd.to_datetime(orders[\"Buy Ts\"])\n",
    "costs[\"dt\"] = pd.to_datetime(costs[\"dt\"])\n",
    "\n",
    "# Asegurarse de que los identificadores sean del tipo string (si no lo son ya)\n",
    "visits[\"Uid\"] = visits[\"Uid\"].astype(str)\n",
    "orders[\"Uid\"] = orders[\"Uid\"].astype(str)\n",
    "costs[\"source_id\"] = costs[\"source_id\"].astype(str)\n",
    "\n",
    "# Verificar nuevamente los tipos de datos para asegurarse de que todo esté correcto\n",
    "print(visits.info())\n",
    "print(\"====================================================\")\n",
    "print(orders.info())\n",
    "print(\"====================================================\")\n",
    "print(costs.info())"
   ]
  }
 ],
 "metadata": {
  "kernelspec": {
   "display_name": "Python 3",
   "language": "python",
   "name": "python3"
  },
  "language_info": {
   "codemirror_mode": {
    "name": "ipython",
    "version": 3
   },
   "file_extension": ".py",
   "mimetype": "text/x-python",
   "name": "python",
   "nbconvert_exporter": "python",
   "pygments_lexer": "ipython3",
   "version": "3.11.9"
  }
 },
 "nbformat": 4,
 "nbformat_minor": 2
}
