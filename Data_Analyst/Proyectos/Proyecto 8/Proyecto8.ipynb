{
 "cells": [
  {
   "cell_type": "markdown",
   "metadata": {},
   "source": [
    "# **Proyecto SPRINT 8**"
   ]
  },
  {
   "cell_type": "markdown",
   "metadata": {},
   "source": [
    "# Descripción del proyecto\n",
    "Se te ha ido muy bien y te han ofrecido hacer prácticas en el departamento analítico de Y.Afisha. Tu primera tarea es ayudar a optimizar los gastos de marketing.\n",
    "\n",
    "Lo que tienes:\n",
    "\n",
    "- registros del servidor con datos sobre las visitas a Y.Afisha desde enero de 2017 hasta diciembre de 2018;\n",
    "- un archivo con los pedidos en este periodo;\n",
    "- estadísticas de gastos de marketing.\n",
    "  \n",
    "Lo que vas a investigar:\n",
    "\n",
    "- cómo los clientes usan el servicio;\n",
    "- cuándo empiezan a comprar;\n",
    "- cuánto dinero aporta cada cliente a la compañía;\n",
    "- cuándo los ingresos cubren el costo de adquisición de los clientes.\n",
    "\n",
    "### Instrucciones para completar el proyecto\n",
    "\n",
    "## Paso 1. Descarga los datos y prepáralos para el análisis\n",
    "\n",
    "Almacena los datos de visitas, pedidos y gastos en variables.  Optimiza los datos para el análisis. Asegúrate de que cada columna contenga el tipo de datos correcto.\n",
    "\n",
    "Rutas de archivos: \n",
    "\n",
    "- /datasets/visits_log_us.csv. \n",
    "- /datasets/orders_log_us.csv.\n",
    "- /datasets/costs_us.csv.\n",
    "\n",
    "## Paso 2. Haz informes y calcula métricas \n",
    "\n",
    "1. Visitas:\n",
    "- ¿Cuántas personas lo usan cada día, semana y mes?\n",
    "- ¿Cuántas sesiones hay por día? (Un/a usuario/a puede tener más de una sesión).\n",
    "- ¿Cuál es la duración de cada sesión?\n",
    "- ¿Con qué frecuencia los usuarios y las usuarias regresan?\n",
    "\n",
    "2. Ventas:\n",
    " \n",
    "- ¿Cuándo la gente empieza a comprar? (En el análisis de KPI, generalmente nos interesa saber el tiempo que transcurre entre el registro y la conversión, es decir, cuando el/la usuario/a se convierte en cliente. Por ejemplo, si el registro y la primera compra ocurren el mismo día, el/la usuario/a podría caer en la categoría Conversion 0d. Si la primera compra ocurre al día siguiente, será Conversion 1d.  Puedes usar cualquier enfoque que te permita comparar las conversiones de diferentes cohortes para que puedas determinar qué cohorte o canal de marketing es más efectivo).\n",
    "- ¿Cuántos pedidos hacen durante un período de tiempo dado?\n",
    "- ¿Cuál es el tamaño promedio de compra?\n",
    "- ¿Cuánto dinero traen? (LTV)\n",
    "\n",
    "3. Marketing:\n",
    " \n",
    "- ¿Cuánto dinero se gastó? (Total/por fuente de adquisición/a lo largo del tiempo)\n",
    "- ¿Cuál fue el costo de adquisición de clientes de cada una de las fuentes?\n",
    "- ¿Cuán rentables eran las inversiones? (ROMI)\n",
    "\n",
    "Traza gráficos para mostrar cómo difieren estas métricas para varios dispositivos y fuentes de anuncios y cómo cambian con el tiempo. \n",
    "\n",
    "## Paso 3. Escribe una conclusión: aconseja a los expertos de marketing cuánto dinero invertir y dónde\n",
    "\n",
    "¿Qué fuentes/plataformas recomendarías?  Fundamenta tu selección: ¿en qué métricas te enfocaste?  ¿Por qué? ¿Qué conclusiones sacaste después de encontrar los valores métricos?\n",
    "\n",
    "\n",
    "### Descripción de los datos\n",
    "\n",
    "1. La tabla visits (registros del servidor con datos sobre las visitas al sitio web):\n",
    "\n",
    "- Uid: identificador único del usuario;\n",
    "- Device: dispositivo del usuario;\n",
    "- Start Ts: fecha y hora de inicio de la sesión;\n",
    "- End Ts: fecha y hora de término de la sesión;\n",
    "- Source Id: identificador de la fuente de anuncios de la que proviene el usuario.\n",
    "\n",
    "Todas las fechas de esta tabla están en formato AAAA-MM-DD.\n",
    "\n",
    "2. La tabla orders (datos sobre pedidos):\n",
    "\n",
    "- Uid: identificador único del usuario que realiza un pedido;\n",
    "- Buy Ts: fecha y hora del pedido;\n",
    "- Revenue: ingresos de Y.Afisha de este pedido.\n",
    "\n",
    "3. La tabla costs (datos sobre gastos de marketing):\n",
    "\n",
    "- source_id: identificador de la fuente de anuncios\n",
    "- dt: fecha;\n",
    "- costs: gastos en esta fuente de anuncios en este día."
   ]
  },
  {
   "cell_type": "markdown",
   "metadata": {},
   "source": []
  },
  {
   "cell_type": "markdown",
   "metadata": {},
   "source": [
    "### Importamos las bibliotecas utilizadas"
   ]
  },
  {
   "cell_type": "code",
   "execution_count": 22,
   "metadata": {},
   "outputs": [],
   "source": [
    "import pandas as pd\n",
    "import matplotlib.pyplot as plt"
   ]
  },
  {
   "cell_type": "code",
   "execution_count": 23,
   "metadata": {},
   "outputs": [],
   "source": [
    "# Cargar los datos de visitas, pedidos y gastos\n",
    "visits = pd.read_csv(\"datasets/visits_log_us.csv\")\n",
    "orders = pd.read_csv(\"datasets/orders_log_us.csv\")\n",
    "costs = pd.read_csv(\"datasets/costs_us.csv\")"
   ]
  },
  {
   "cell_type": "code",
   "execution_count": 24,
   "metadata": {},
   "outputs": [
    {
     "name": "stdout",
     "output_type": "stream",
     "text": [
      "    Device               End Ts  Source Id             Start Ts  \\\n",
      "0    touch  2017-12-20 17:38:00          4  2017-12-20 17:20:00   \n",
      "1  desktop  2018-02-19 17:21:00          2  2018-02-19 16:53:00   \n",
      "2    touch  2017-07-01 01:54:00          5  2017-07-01 01:54:00   \n",
      "3  desktop  2018-05-20 11:23:00          9  2018-05-20 10:59:00   \n",
      "4  desktop  2017-12-27 14:06:00          3  2017-12-27 14:06:00   \n",
      "\n",
      "                    Uid  \n",
      "0  16879256277535980062  \n",
      "1    104060357244891740  \n",
      "2   7459035603376831527  \n",
      "3  16174680259334210214  \n",
      "4   9969694820036681168  \n",
      "====================================================\n",
      "                Buy Ts  Revenue                   Uid\n",
      "0  2017-06-01 00:10:00    17.00  10329302124590727494\n",
      "1  2017-06-01 00:25:00     0.55  11627257723692907447\n",
      "2  2017-06-01 00:27:00     0.37  17903680561304213844\n",
      "3  2017-06-01 00:29:00     0.55  16109239769442553005\n",
      "4  2017-06-01 07:58:00     0.37  14200605875248379450\n",
      "====================================================\n",
      "   source_id          dt  costs\n",
      "0          1  2017-06-01  75.20\n",
      "1          1  2017-06-02  62.25\n",
      "2          1  2017-06-03  36.53\n",
      "3          1  2017-06-04  55.00\n",
      "4          1  2017-06-05  57.08\n"
     ]
    }
   ],
   "source": [
    "print(visits.head())\n",
    "print(\"====================================================\")\n",
    "print(orders.head())\n",
    "print(\"====================================================\")\n",
    "print(costs.head())"
   ]
  },
  {
   "cell_type": "code",
   "execution_count": 25,
   "metadata": {},
   "outputs": [
    {
     "name": "stdout",
     "output_type": "stream",
     "text": [
      "<class 'pandas.core.frame.DataFrame'>\n",
      "RangeIndex: 359400 entries, 0 to 359399\n",
      "Data columns (total 5 columns):\n",
      " #   Column     Non-Null Count   Dtype \n",
      "---  ------     --------------   ----- \n",
      " 0   Device     359400 non-null  object\n",
      " 1   End Ts     359400 non-null  object\n",
      " 2   Source Id  359400 non-null  int64 \n",
      " 3   Start Ts   359400 non-null  object\n",
      " 4   Uid        359400 non-null  uint64\n",
      "dtypes: int64(1), object(3), uint64(1)\n",
      "memory usage: 13.7+ MB\n",
      "None\n",
      "====================================================\n",
      "<class 'pandas.core.frame.DataFrame'>\n",
      "RangeIndex: 50415 entries, 0 to 50414\n",
      "Data columns (total 3 columns):\n",
      " #   Column   Non-Null Count  Dtype  \n",
      "---  ------   --------------  -----  \n",
      " 0   Buy Ts   50415 non-null  object \n",
      " 1   Revenue  50415 non-null  float64\n",
      " 2   Uid      50415 non-null  uint64 \n",
      "dtypes: float64(1), object(1), uint64(1)\n",
      "memory usage: 1.2+ MB\n",
      "None\n",
      "====================================================\n",
      "<class 'pandas.core.frame.DataFrame'>\n",
      "RangeIndex: 2542 entries, 0 to 2541\n",
      "Data columns (total 3 columns):\n",
      " #   Column     Non-Null Count  Dtype  \n",
      "---  ------     --------------  -----  \n",
      " 0   source_id  2542 non-null   int64  \n",
      " 1   dt         2542 non-null   object \n",
      " 2   costs      2542 non-null   float64\n",
      "dtypes: float64(1), int64(1), object(1)\n",
      "memory usage: 59.7+ KB\n",
      "None\n"
     ]
    }
   ],
   "source": [
    "# Verificar tipos de datos y ajustar si es necesario\n",
    "print(visits.info())\n",
    "print(\"====================================================\")\n",
    "print(orders.info())\n",
    "print(\"====================================================\")\n",
    "print(costs.info())"
   ]
  },
  {
   "cell_type": "code",
   "execution_count": 26,
   "metadata": {},
   "outputs": [
    {
     "name": "stdout",
     "output_type": "stream",
     "text": [
      "<class 'pandas.core.frame.DataFrame'>\n",
      "RangeIndex: 359400 entries, 0 to 359399\n",
      "Data columns (total 5 columns):\n",
      " #   Column     Non-Null Count   Dtype         \n",
      "---  ------     --------------   -----         \n",
      " 0   Device     359400 non-null  object        \n",
      " 1   End Ts     359400 non-null  datetime64[ns]\n",
      " 2   Source Id  359400 non-null  int64         \n",
      " 3   Start Ts   359400 non-null  datetime64[ns]\n",
      " 4   Uid        359400 non-null  object        \n",
      "dtypes: datetime64[ns](2), int64(1), object(2)\n",
      "memory usage: 13.7+ MB\n",
      "None\n",
      "====================================================\n",
      "<class 'pandas.core.frame.DataFrame'>\n",
      "RangeIndex: 50415 entries, 0 to 50414\n",
      "Data columns (total 3 columns):\n",
      " #   Column   Non-Null Count  Dtype         \n",
      "---  ------   --------------  -----         \n",
      " 0   Buy Ts   50415 non-null  datetime64[ns]\n",
      " 1   Revenue  50415 non-null  float64       \n",
      " 2   Uid      50415 non-null  object        \n",
      "dtypes: datetime64[ns](1), float64(1), object(1)\n",
      "memory usage: 1.2+ MB\n",
      "None\n",
      "====================================================\n",
      "<class 'pandas.core.frame.DataFrame'>\n",
      "RangeIndex: 2542 entries, 0 to 2541\n",
      "Data columns (total 3 columns):\n",
      " #   Column     Non-Null Count  Dtype         \n",
      "---  ------     --------------  -----         \n",
      " 0   source_id  2542 non-null   object        \n",
      " 1   dt         2542 non-null   datetime64[ns]\n",
      " 2   costs      2542 non-null   float64       \n",
      "dtypes: datetime64[ns](1), float64(1), object(1)\n",
      "memory usage: 59.7+ KB\n",
      "None\n"
     ]
    }
   ],
   "source": [
    "# Convertir columnas a tipos de datos adecuados\n",
    "visits[\"Start Ts\"] = pd.to_datetime(visits[\"Start Ts\"])\n",
    "visits[\"End Ts\"] = pd.to_datetime(visits[\"End Ts\"])\n",
    "orders[\"Buy Ts\"] = pd.to_datetime(orders[\"Buy Ts\"])\n",
    "costs[\"dt\"] = pd.to_datetime(costs[\"dt\"])\n",
    "\n",
    "# Asegurarse de que los identificadores sean del tipo string (si no lo son ya)\n",
    "visits[\"Uid\"] = visits[\"Uid\"].astype(str)\n",
    "orders[\"Uid\"] = orders[\"Uid\"].astype(str)\n",
    "costs[\"source_id\"] = costs[\"source_id\"].astype(str)\n",
    "\n",
    "# Verificar nuevamente los tipos de datos para asegurarse de que todo esté correcto\n",
    "print(visits.info())\n",
    "print(\"====================================================\")\n",
    "print(orders.info())\n",
    "print(\"====================================================\")\n",
    "print(costs.info())"
   ]
  },
  {
   "cell_type": "code",
   "execution_count": 27,
   "metadata": {},
   "outputs": [],
   "source": [
    "# Renombraremos datos para dar más consistencia\n",
    "\n",
    "visits.rename(columns={\"Source Id\": \"source_id\"}, inplace=True)\n",
    "orders.rename(columns={\"Buy Ts\": \"buy_ts\", \"Revenue\": \"revenue\"}, inplace=True)\n",
    "costs.rename(columns={\"dt\": \"date\"}, inplace=True)"
   ]
  },
  {
   "cell_type": "markdown",
   "metadata": {},
   "source": [
    "### Interpretando Resultados\n",
    "\n",
    "1. **Tabla `visits`:**\n",
    "    - **Device:** Es un tipo `object`, lo cual es correcto ya que representa el dispositivo utilizado por el usuario.\n",
    "    - **End Ts:** Ahora es de tipo `datetime64[ns]`, lo cual es correcto ya que representa la fecha y hora de término de la sesión.\n",
    "    - **Source Id:** Es de tipo `int64`, lo cual es adecuado, aunque podría ser `object` si queremos tener consistencia con `costs`.\n",
    "    - **Start Ts:** Ahora es de tipo `datetime64[ns]`, lo cual es correcto ya que representa la fecha y hora de inicio de la sesión.\n",
    "    - **Uid:** Ahora es de tipo `object`, lo cual es correcto ya que representa un identificador único del usuario.\n",
    "\n",
    "2. **Tabla `orders`:**\n",
    "    - **Buy Ts:** Ahora es de tipo `datetime64[ns]`, lo cual es correcto ya que representa la fecha y hora del pedido.\n",
    "    - **Revenue:** Es de tipo `float64`, lo cual es correcto ya que representa los ingresos de Y.Afisha por este pedido.\n",
    "    - **Uid:** Ahora es de tipo `object`, lo cual es correcto ya que representa un identificador único del usuario.\n",
    "\n",
    "3. **Tabla `costs`:**\n",
    "    - **source_id:** Ahora es de tipo `object`, lo cual es correcto ya que representa un identificador de la fuente de anuncios.\n",
    "    - **dt:** Ahora es de tipo `datetime64[ns]`, lo cual es correcto ya que representa la fecha de los gastos de marketing.\n",
    "    - **costs:** Es de tipo `float64`, lo cual es correcto ya que representa los gastos en esta fuente de anuncios en este día.\n",
    "\n",
    "### Conclusión\n",
    "\n",
    "Todos los tipos de datos son correctos y están optimizados para el análisis. Las conversiones de las columnas de fecha y hora se realizaron correctamente a `datetime64[ns]` y los identificadores únicos se convirtieron a `object`. Esto nos permitirá realizar análisis temporales y de identificación de manera eficiente.\n"
   ]
  },
  {
   "cell_type": "markdown",
   "metadata": {},
   "source": [
    "### **Iniciamos con el PASO 2**\n",
    "### **1. Visitas**\n",
    "\n",
    "**¿Cuántas personas lo usan cada día, semana y mes?**\n"
   ]
  },
  {
   "cell_type": "code",
   "execution_count": 28,
   "metadata": {},
   "outputs": [
    {
     "name": "stdout",
     "output_type": "stream",
     "text": [
      "Visitas por día:\n",
      "Start Ts\n",
      "2017-06-01    605\n",
      "2017-06-02    608\n",
      "2017-06-03    445\n",
      "2017-06-04    476\n",
      "2017-06-05    820\n",
      "Name: Uid, dtype: int64\n",
      "\n",
      "Visitas por semana:\n",
      "week\n",
      "1    6918\n",
      "2    6703\n",
      "3    6972\n",
      "4    7060\n",
      "5    8111\n",
      "Name: Uid, dtype: int64\n",
      "\n",
      "Visitas por mes:\n",
      "Start Ts\n",
      "2017-06    13259\n",
      "2017-07    14183\n",
      "2017-08    11631\n",
      "2017-09    18975\n",
      "2017-10    29692\n",
      "Freq: M, Name: Uid, dtype: int64\n"
     ]
    }
   ],
   "source": [
    "\n",
    "\n",
    "# Convertir columnas de fecha y hora a datetime\n",
    "visits[\"Start Ts\"] = pd.to_datetime(visits[\"Start Ts\"])\n",
    "\n",
    "# Número de visitas por día\n",
    "visits_per_day = visits.groupby(visits[\"Start Ts\"].dt.date)[\"Uid\"].nunique()\n",
    "\n",
    "# Número de visitas por semana\n",
    "visits_per_week = visits.groupby(visits[\"Start Ts\"].dt.isocalendar().week)[\n",
    "    \"Uid\"\n",
    "].nunique()\n",
    "\n",
    "# Número de visitas por mes\n",
    "visits_per_month = visits.groupby(visits[\"Start Ts\"].dt.to_period(\"M\"))[\"Uid\"].nunique()\n",
    "\n",
    "# Mostrar resultados\n",
    "print(\"Visitas por día:\")\n",
    "print(visits_per_day.head())\n",
    "print(\"\\nVisitas por semana:\")\n",
    "print(visits_per_week.head())\n",
    "print(\"\\nVisitas por mes:\")\n",
    "print(visits_per_month.head())"
   ]
  },
  {
   "cell_type": "markdown",
   "metadata": {},
   "source": [
    "**Calcular el número de sesiones por día**"
   ]
  },
  {
   "cell_type": "code",
   "execution_count": 29,
   "metadata": {},
   "outputs": [
    {
     "name": "stdout",
     "output_type": "stream",
     "text": [
      "Sesiones por día:\n",
      "Start Ts\n",
      "2017-06-01    664\n",
      "2017-06-02    658\n",
      "2017-06-03    477\n",
      "2017-06-04    510\n",
      "2017-06-05    893\n",
      "Name: Uid, dtype: int64\n"
     ]
    }
   ],
   "source": [
    "# Número de sesiones por día\n",
    "sessions_per_day = visits.groupby(visits[\"Start Ts\"].dt.date)[\"Uid\"].count()\n",
    "\n",
    "# Mostrar resultados\n",
    "print(\"Sesiones por día:\")\n",
    "print(sessions_per_day.head())"
   ]
  },
  {
   "cell_type": "markdown",
   "metadata": {},
   "source": [
    "**Duración de cada sesión**"
   ]
  },
  {
   "cell_type": "code",
   "execution_count": 30,
   "metadata": {},
   "outputs": [
    {
     "name": "stdout",
     "output_type": "stream",
     "text": [
      "Duración promedio de sesión (en minutos):\n",
      "10.717094787608978\n"
     ]
    }
   ],
   "source": [
    "# Calcular la duración de cada sesión en minutos\n",
    "visits[\"session_duration\"] = (\n",
    "    visits[\"End Ts\"] - visits[\"Start Ts\"]\n",
    ").dt.total_seconds() / 60\n",
    "\n",
    "# Calcular la duración promedio de sesión\n",
    "average_session_duration = visits[\"session_duration\"].mean()\n",
    "\n",
    "# Mostrar resultados\n",
    "print(\"Duración promedio de sesión (en minutos):\")\n",
    "print(average_session_duration)"
   ]
  },
  {
   "cell_type": "markdown",
   "metadata": {},
   "source": [
    "**- ¿Con qué frecuencia los usuarios y las usuarias regresan?**"
   ]
  },
  {
   "cell_type": "code",
   "execution_count": 31,
   "metadata": {},
   "outputs": [
    {
     "name": "stdout",
     "output_type": "stream",
     "text": [
      "Frecuencia promedio de retorno de usuarios (días distintos por usuario):\n",
      "1.4485271881806907\n"
     ]
    }
   ],
   "source": [
    "# Convertir la columna 'Start Ts' a solo fechas (sin tiempo)\n",
    "visits[\"date\"] = visits[\"Start Ts\"].dt.date\n",
    "\n",
    "# Contar el número de días distintos que cada usuario ha visitado el sitio\n",
    "visits_per_user = visits.groupby(\"Uid\")[\"date\"].nunique()\n",
    "\n",
    "# Calcular la frecuencia promedio de retorno (promedio de días distintos por usuario)\n",
    "average_visits_per_user = visits_per_user.mean()\n",
    "\n",
    "# Mostrar resultados\n",
    "print(\"Frecuencia promedio de retorno de usuarios (días distintos por usuario):\")\n",
    "print(average_visits_per_user)"
   ]
  },
  {
   "cell_type": "markdown",
   "metadata": {},
   "source": [
    "### **2. Ventas**\n",
    "\n",
    "**¿Cuándo la gente empieza a comprar?**"
   ]
  },
  {
   "cell_type": "code",
   "execution_count": 33,
   "metadata": {},
   "outputs": [
    {
     "name": "stdout",
     "output_type": "stream",
     "text": [
      "Tiempo hasta la primera compra (días):\n",
      "Uid\n",
      "10000171586432207426      NaN\n",
      "10000344846682484395      NaN\n",
      "1000036778515242839       NaN\n",
      "10000460875579931334      NaN\n",
      "10000558740593440652      NaN\n",
      "10000584491997262943      NaN\n",
      "10000837700716403746   -148.0\n",
      "10000962813665337931      NaN\n",
      "10000996569639771286      NaN\n",
      "10000997030965831953      0.0\n",
      "10001016957011970065      NaN\n",
      "1000104625626262139       NaN\n",
      "10001063059357693918      NaN\n",
      "10001091218281033249      NaN\n",
      "10001106532052218620      NaN\n",
      "10001107248119799119      NaN\n",
      "10001167080632523065      NaN\n",
      "10001169102778973581      NaN\n",
      "10001199569370567060    -58.0\n",
      "10001265525405988161      NaN\n",
      "Name: time_to_first_purchase, dtype: float64\n"
     ]
    }
   ],
   "source": [
    "# Fusionar datos de visitas y pedidos para cada usuario\n",
    "merged_data = pd.merge(visits, orders, on=\"Uid\", how=\"left\")\n",
    "\n",
    "# Calcular tiempo hasta la primera compra para cada usuario\n",
    "merged_data[\"time_to_first_purchase\"] = (\n",
    "    merged_data[\"buy_ts\"] - merged_data[\"Start Ts\"]\n",
    ").dt.days\n",
    "\n",
    "# Obtener el tiempo mínimo hasta la primera compra para cada usuario\n",
    "time_to_first_purchase = merged_data.groupby(\"Uid\")[\"time_to_first_purchase\"].min()\n",
    "\n",
    "# Mostrar resultados\n",
    "print(\"Tiempo hasta la primera compra (días):\")\n",
    "print(time_to_first_purchase.head(20))"
   ]
  },
  {
   "cell_type": "markdown",
   "metadata": {},
   "source": [
    "El resultado muestra que para muchos usuarios (Uid), el valor de time_to_first_purchase es NaN, lo que indica que no hicieron una compra. Los valores negativos sugieren que hay un problema con los datos de tiempo, probablemente porque las marcas de tiempo (Start Ts y buy_ts) no están alineadas correctamente o tienen algún error."
   ]
  },
  {
   "cell_type": "code",
   "execution_count": 34,
   "metadata": {},
   "outputs": [
    {
     "name": "stdout",
     "output_type": "stream",
     "text": [
      "Columnas después de la fusión:\n",
      "Index(['Device', 'End Ts', 'source_id', 'Start Ts', 'Uid', 'session_duration',\n",
      "       'date', 'buy_ts', 'revenue', 'time_to_first_purchase'],\n",
      "      dtype='object')\n",
      "Filas con 'time_to_first_purchase' negativo:\n",
      "     Device              End Ts  source_id            Start Ts  \\\n",
      "3   desktop 2018-05-20 11:23:00          9 2018-05-20 10:59:00   \n",
      "14  desktop 2018-02-06 15:50:00          4 2018-02-06 15:45:00   \n",
      "15  desktop 2018-02-06 15:50:00          4 2018-02-06 15:45:00   \n",
      "16  desktop 2018-02-06 15:50:00          4 2018-02-06 15:45:00   \n",
      "17  desktop 2018-02-06 15:50:00          4 2018-02-06 15:45:00   \n",
      "\n",
      "                     Uid  session_duration        date              buy_ts  \\\n",
      "3   16174680259334210214              24.0  2018-05-20 2018-03-09 20:25:00   \n",
      "14   8056418121947262981               5.0  2018-02-06 2017-06-25 08:54:00   \n",
      "15   8056418121947262981               5.0  2018-02-06 2017-06-26 09:14:00   \n",
      "16   8056418121947262981               5.0  2018-02-06 2017-06-26 12:12:00   \n",
      "17   8056418121947262981               5.0  2018-02-06 2017-06-28 19:25:00   \n",
      "\n",
      "    revenue  time_to_first_purchase  \n",
      "3      2.33                   -72.0  \n",
      "14     3.67                  -227.0  \n",
      "15     3.67                  -226.0  \n",
      "16    12.22                  -226.0  \n",
      "17    23.22                  -223.0  \n",
      "Rango de fechas en 'visits':\n",
      "2017-06-01 00:01:00 2018-05-31 23:59:00\n",
      "Rango de fechas en 'orders':\n",
      "2017-06-01 00:10:00 2018-06-01 00:02:00\n",
      "Tiempo hasta la primera compra (días) - corregido:\n",
      "Uid\n",
      "10000837700716403746     0.0\n",
      "10000997030965831953     0.0\n",
      "10001199569370567060     0.0\n",
      "10002243978166172255     0.0\n",
      "10003351403065971701     0.0\n",
      "10003425910527970929     0.0\n",
      "10003843789561818935    66.0\n",
      "10003858247064282365     0.0\n",
      "10003922165532733227     0.0\n",
      "10004355444061692288     0.0\n",
      "10004520995298646917     0.0\n",
      "10004761330801662264     0.0\n",
      "10005299895892194284     0.0\n",
      "10005667729898166302     0.0\n",
      "10006027371336798977     0.0\n",
      "10006790280576154012     0.0\n",
      "10007139091993984098     0.0\n",
      "10008294309715110463     0.0\n",
      "1000920766094501476      1.0\n",
      "10009217442472660986     0.0\n",
      "Name: time_to_first_purchase, dtype: float64\n",
      "Revisar registros específicos con fechas problemáticas:\n",
      "         Device              End Ts  source_id            Start Ts  \\\n",
      "54772   desktop 2017-06-08 17:52:00          1 2017-06-08 17:39:00   \n",
      "60357   desktop 2017-06-08 10:20:00          4 2017-06-08 10:12:00   \n",
      "189474  desktop 2017-06-21 11:22:00          4 2017-06-21 11:13:00   \n",
      "208410  desktop 2017-06-20 10:43:00          1 2017-06-20 10:42:00   \n",
      "486113  desktop 2017-06-08 13:56:00          1 2017-06-08 13:33:00   \n",
      "610377  desktop 2017-06-20 10:52:00          5 2017-06-20 10:49:00   \n",
      "\n",
      "                         Uid  session_duration        date  \\\n",
      "54772   10000837700716403746              13.0  2017-06-08   \n",
      "60357   10000837700716403746               8.0  2017-06-08   \n",
      "189474  10000837700716403746               9.0  2017-06-21   \n",
      "208410  10000837700716403746               1.0  2017-06-20   \n",
      "486113  10000837700716403746              23.0  2017-06-08   \n",
      "610377  10000837700716403746               3.0  2017-06-20   \n",
      "\n",
      "                    buy_ts  revenue  time_to_first_purchase  \n",
      "54772  2017-06-21 16:12:00      2.2                    12.0  \n",
      "60357  2017-06-21 16:12:00      2.2                    13.0  \n",
      "189474 2017-06-21 16:12:00      2.2                     0.0  \n",
      "208410 2017-06-21 16:12:00      2.2                     1.0  \n",
      "486113 2017-06-21 16:12:00      2.2                    13.0  \n",
      "610377 2017-06-21 16:12:00      2.2                     1.0  \n",
      "       Device              End Ts  source_id            Start Ts  \\\n",
      "174380  touch 2017-11-26 00:32:00          9 2017-11-25 23:51:00   \n",
      "601284  touch 2017-11-25 17:36:00          4 2017-11-25 17:26:00   \n",
      "601285  touch 2017-11-25 17:36:00          4 2017-11-25 17:26:00   \n",
      "\n",
      "                         Uid  session_duration        date  \\\n",
      "174380  10001199569370567060              41.0  2017-11-25   \n",
      "601284  10001199569370567060              10.0  2017-11-25   \n",
      "601285  10001199569370567060              10.0  2017-11-25   \n",
      "\n",
      "                    buy_ts  revenue  time_to_first_purchase  \n",
      "174380 2017-11-25 23:57:00     0.27                     0.0  \n",
      "601284 2017-11-25 17:29:00     0.73                     0.0  \n",
      "601285 2017-11-25 23:57:00     0.27                     0.0  \n"
     ]
    }
   ],
   "source": [
    "# Fusionar datos de visitas y pedidos para cada usuario\n",
    "merged_data = pd.merge(visits, orders, on=\"Uid\", how=\"left\")\n",
    "\n",
    "# Calcular tiempo hasta la primera compra para cada usuario\n",
    "merged_data[\"time_to_first_purchase\"] = (\n",
    "    merged_data[\"buy_ts\"] - merged_data[\"Start Ts\"]\n",
    ").dt.days\n",
    "\n",
    "# Verificar las columnas después de la fusión\n",
    "print(\"Columnas después de la fusión:\")\n",
    "print(merged_data.columns)\n",
    "\n",
    "# Verificar algunas filas donde time_to_first_purchase es negativo\n",
    "print(\"Filas con 'time_to_first_purchase' negativo:\")\n",
    "print(merged_data[merged_data[\"time_to_first_purchase\"] < 0].head())\n",
    "\n",
    "# Mostrar las fechas mínimas y máximas para las columnas de tiempo\n",
    "print(\"Rango de fechas en 'visits':\")\n",
    "print(visits[\"Start Ts\"].min(), visits[\"Start Ts\"].max())\n",
    "print(\"Rango de fechas en 'orders':\")\n",
    "print(orders[\"buy_ts\"].min(), orders[\"buy_ts\"].max())\n",
    "\n",
    "# Filtrar registros donde la compra ocurre antes de la visita\n",
    "merged_data = merged_data[merged_data[\"time_to_first_purchase\"] >= 0]\n",
    "\n",
    "# Recalcular el tiempo mínimo hasta la primera compra para cada usuario\n",
    "time_to_first_purchase = merged_data.groupby(\"Uid\")[\"time_to_first_purchase\"].min()\n",
    "\n",
    "# Mostrar resultados corregidos\n",
    "print(\"Tiempo hasta la primera compra (días) - corregido:\")\n",
    "print(time_to_first_purchase.head(20))\n",
    "\n",
    "# Mostrar algunos registros específicos para revisar manualmente\n",
    "print(\"Revisar registros específicos con fechas problemáticas:\")\n",
    "print(merged_data[merged_data[\"Uid\"] == \"10000837700716403746\"])\n",
    "print(merged_data[merged_data[\"Uid\"] == \"10001199569370567060\"])"
   ]
  },
  {
   "cell_type": "markdown",
   "metadata": {},
   "source": [
    "\n",
    "Este bloque de código hará lo siguiente:\n",
    "1. Fusionará los datos de visitas y pedidos.\n",
    "2. Calculará el tiempo hasta la primera compra.\n",
    "3. Verificará las columnas y algunas filas con valores negativos en `time_to_first_purchase`.\n",
    "4. Mostrará los rangos de fechas en las columnas de tiempo.\n",
    "5. Filtrará los registros donde la compra ocurre antes de la visita.\n",
    "6. Recalculará el tiempo mínimo hasta la primera compra y mostrará los resultados corregidos.\n",
    "7. Mostrará algunos registros específicos para revisar manualmente.\n"
   ]
  },
  {
   "cell_type": "code",
   "execution_count": 36,
   "metadata": {},
   "outputs": [
    {
     "name": "stdout",
     "output_type": "stream",
     "text": [
      "Uid\n",
      "10000837700716403746     0.0\n",
      "10000997030965831953     0.0\n",
      "10001199569370567060     0.0\n",
      "10002243978166172255     0.0\n",
      "10003351403065971701     0.0\n",
      "10003425910527970929     0.0\n",
      "10003843789561818935    66.0\n",
      "10003858247064282365     0.0\n",
      "10003922165532733227     0.0\n",
      "10004355444061692288     0.0\n",
      "10004520995298646917     0.0\n",
      "10004761330801662264     0.0\n",
      "10005299895892194284     0.0\n",
      "10005667729898166302     0.0\n",
      "10006027371336798977     0.0\n",
      "10006790280576154012     0.0\n",
      "10007139091993984098     0.0\n",
      "10008294309715110463     0.0\n",
      "1000920766094501476      1.0\n",
      "10009217442472660986     0.0\n",
      "Name: time_to_first_purchase, dtype: float64\n"
     ]
    }
   ],
   "source": [
    "# Filtrar registros donde la compra ocurre antes de la visita\n",
    "merged_data = merged_data[merged_data[\"time_to_first_purchase\"] >= 0]\n",
    "\n",
    "print(time_to_first_purchase.head(20))"
   ]
  },
  {
   "cell_type": "markdown",
   "metadata": {},
   "source": []
  },
  {
   "cell_type": "code",
   "execution_count": 42,
   "metadata": {},
   "outputs": [
    {
     "name": "stdout",
     "output_type": "stream",
     "text": [
      "Número de pedidos durante el periodo de 2017-06-01 a 2017-06-30: 2272\n"
     ]
    }
   ],
   "source": [
    "\n",
    "# Definir el periodo de tiempo deseado (por ejemplo, junio de 2017)\n",
    "start_date = \"2017-06-01\"\n",
    "end_date = \"2017-06-30\"\n",
    "\n",
    "# Filtrar pedidos dentro del periodo de tiempo dado\n",
    "orders_within_period = orders[\n",
    "    (orders[\"buy_ts\"] >= start_date) & (orders[\"buy_ts\"] <= end_date)\n",
    "]\n",
    "\n",
    "# Contar el número de pedidos dentro del periodo\n",
    "num_orders_within_period = len(orders_within_period)\n",
    "\n",
    "# Mostrar resultados\n",
    "print(\n",
    "    \"Número de pedidos durante el periodo de {} a {}: {}\".format(\n",
    "        start_date, end_date, num_orders_within_period\n",
    "    )\n",
    ")"
   ]
  },
  {
   "cell_type": "markdown",
   "metadata": {},
   "source": []
  },
  {
   "cell_type": "code",
   "execution_count": 41,
   "metadata": {},
   "outputs": [
    {
     "name": "stdout",
     "output_type": "stream",
     "text": [
      "Número de pedidos durante el período de 2017-06-01 a 2017-06-30: 2272\n",
      "Número de pedidos durante el período de 2017-07-01 a 2017-07-31: 2308\n",
      "Número de pedidos durante el período de 2017-08-01 a 2017-08-31: 1704\n"
     ]
    }
   ],
   "source": [
    "# Supongamos que tienes una lista de períodos de tiempo en forma de tuplas (inicio, fin)\n",
    "periods = [\n",
    "    (\"2017-06-01\", \"2017-06-30\"),\n",
    "    (\"2017-07-01\", \"2017-07-31\"),\n",
    "    (\"2017-08-01\", \"2017-08-31\"),\n",
    "]\n",
    "\n",
    "# Convertir la columna 'buy_ts' a tipo datetime si aún no lo está\n",
    "orders[\"buy_ts\"] = pd.to_datetime(orders[\"buy_ts\"])\n",
    "\n",
    "# Iterar sobre cada período de tiempo y calcular el número de pedidos\n",
    "for start_date, end_date in periods:\n",
    "    # Filtrar pedidos dentro del período de tiempo actual\n",
    "    orders_within_period = orders[\n",
    "        (orders[\"buy_ts\"] >= start_date) & (orders[\"buy_ts\"] <= end_date)\n",
    "    ]\n",
    "    # Contar el número de pedidos dentro del período actual\n",
    "    num_orders_within_period = len(orders_within_period)\n",
    "    # Mostrar resultados\n",
    "    print(\n",
    "        \"Número de pedidos durante el período de {} a {}: {}\".format(\n",
    "            start_date, end_date, num_orders_within_period\n",
    "        )\n",
    "    )"
   ]
  },
  {
   "cell_type": "markdown",
   "metadata": {},
   "source": [
    "Estos resultados muestran la cantidad de pedidos realizados durante cada uno de los períodos de tiempo especificados:\n",
    "\n",
    "- Del 1 de junio de 2017 al 30 de junio de 2017, se realizaron 2272 pedidos.\n",
    "- Del 1 de julio de 2017 al 31 de julio de 2017, se realizaron 2308 pedidos.\n",
    "- Del 1 de agosto de 2017 al 31 de agosto de 2017, se realizaron 1704 pedidos.\n",
    "\n",
    "Estos números te dan una idea de cómo varía la cantidad de pedidos a lo largo de diferentes períodos de tiempo. Puedes utilizar esta información para realizar análisis más detallados sobre el comportamiento de las ventas en tu negocio durante esos períodos específicos."
   ]
  },
  {
   "cell_type": "markdown",
   "metadata": {},
   "source": [
    "**- ¿Cuántos pedidos hacen durante un período de tiempo dado?**"
   ]
  },
  {
   "cell_type": "code",
   "execution_count": 51,
   "metadata": {},
   "outputs": [
    {
     "name": "stdout",
     "output_type": "stream",
     "text": [
      "Pedidos por día:\n",
      "buy_ts\n",
      "2017-06-01     96\n",
      "2017-06-02    111\n",
      "2017-06-03     67\n",
      "2017-06-04     66\n",
      "2017-06-05    161\n",
      "2017-06-06    198\n",
      "2017-06-07    197\n",
      "2017-06-08    181\n",
      "2017-06-09    131\n",
      "2017-06-10     42\n",
      "Freq: D, dtype: int64\n",
      "\n",
      "Pedidos por semana:\n",
      "buy_ts\n",
      "2017-06-04    340\n",
      "2017-06-11    938\n",
      "2017-06-18    343\n",
      "2017-06-25    371\n",
      "2017-07-02    460\n",
      "2017-07-09    477\n",
      "2017-07-16    636\n",
      "2017-07-23    716\n",
      "2017-07-30    381\n",
      "2017-08-06    314\n",
      "Freq: W-SUN, dtype: int64\n",
      "\n",
      "Pedidos por mes:\n",
      "buy_ts\n",
      "2017-06-30    2354\n",
      "2017-07-31    2363\n",
      "2017-08-31    1807\n",
      "2017-09-30    3387\n",
      "2017-10-31    5679\n",
      "2017-11-30    5659\n",
      "2017-12-31    6218\n",
      "2018-01-31    4721\n",
      "2018-02-28    5281\n",
      "2018-03-31    5326\n",
      "Freq: M, dtype: int64\n"
     ]
    }
   ],
   "source": [
    "\n",
    "# Calcular el número de pedidos por día\n",
    "orders_per_day = orders.resample(\"D\", on=\"buy_ts\").size()\n",
    "\n",
    "# Calcular el número de pedidos por semana\n",
    "orders_per_week = orders.resample(\"W\", on=\"buy_ts\").size()\n",
    "\n",
    "# Calcular el número de pedidos por mes\n",
    "orders_per_month = orders.resample(\"M\", on=\"buy_ts\").size()\n",
    "\n",
    "# Mostrar resultados\n",
    "print(\"Pedidos por día:\")\n",
    "print(orders_per_day.head(10))  # Mostrar solo los primeros 10 días por ejemplo\n",
    "print(\"\\nPedidos por semana:\")\n",
    "print(orders_per_week.head(10))  # Mostrar solo las primeras 10 semanas por ejemplo\n",
    "print(\"\\nPedidos por mes:\")\n",
    "print(orders_per_month.head(10))  # Mostrar solo los primeros 10 meses por ejemplo"
   ]
  },
  {
   "cell_type": "markdown",
   "metadata": {},
   "source": [
    "- **Tamaño promedio de la compra**"
   ]
  },
  {
   "cell_type": "code",
   "execution_count": 53,
   "metadata": {},
   "outputs": [
    {
     "name": "stdout",
     "output_type": "stream",
     "text": [
      "Tamaño promedio de compra:\n",
      "4.999646930477041\n"
     ]
    }
   ],
   "source": [
    "# Calcular el tamaño promedio de compra\n",
    "average_order_size = orders[\"revenue\"].mean()\n",
    "\n",
    "# Mostrar resultado\n",
    "print(\"Tamaño promedio de compra:\")\n",
    "print(average_order_size)"
   ]
  },
  {
   "cell_type": "markdown",
   "metadata": {},
   "source": [
    "El tamaño promedio de compra es de aproximadamente \\$4.99. Esto significa que, en promedio, cada compra realizada tiene un valor cercano a ese monto. Puedes interpretarlo como el valor medio que los clientes gastan en cada transacción o pedido. Este número es útil para comprender el comportamiento de compra general de los clientes y para evaluar la salud financiera del negocio en términos de ingresos por compra."
   ]
  },
  {
   "cell_type": "markdown",
   "metadata": {},
   "source": [
    "- **¿Cuánto dinero traen? (LTV)**"
   ]
  },
  {
   "cell_type": "code",
   "execution_count": 55,
   "metadata": {},
   "outputs": [
    {
     "name": "stdout",
     "output_type": "stream",
     "text": [
      "LTV (Valor de Vida del Cliente):\n",
      "82.81593516414316\n"
     ]
    }
   ],
   "source": [
    "# Calcular ingreso total por cliente\n",
    "revenue_per_customer = orders.groupby(\"Uid\")[\"revenue\"].sum()\n",
    "\n",
    "# Calcular promedio de vida útil del cliente (en meses)\n",
    "average_customer_lifetime = 12  # Supongamos un promedio de 12 meses por cliente\n",
    "\n",
    "# Calcular LTV\n",
    "ltv = revenue_per_customer.mean() * average_customer_lifetime\n",
    "\n",
    "# Mostrar resultado\n",
    "print(\"LTV (Valor de Vida del Cliente):\")\n",
    "print(ltv)"
   ]
  },
  {
   "cell_type": "markdown",
   "metadata": {},
   "source": [
    "\n",
    "\n",
    "El resultado obtenido indica que, en promedio, se espera que cada cliente aporte un valor de aproximadamente 82.82 unidades monetarias (dólares, euros, etc.) durante toda su relación comercial con la empresa. Este valor representa la estimación del ingreso total que se espera recibir de cada cliente a lo largo de su vida como cliente de la empresa, basándose en un promedio de vida útil de 12 meses por cliente.\n",
    "\n",
    "Es importante tener en cuenta que el LTV puede variar significativamente según la industria, el tipo de negocio y las estrategias de retención de clientes utilizadas por la empresa. Un LTV más alto generalmente indica que los clientes generan más ingresos a lo largo de su vida, lo cual puede ser un indicador positivo de la efectividad de las estrategias de marketing y retención de clientes."
   ]
  },
  {
   "cell_type": "markdown",
   "metadata": {},
   "source": [
    "### 3. Marketing\n",
    "\n",
    "- **¿Cuánto dinero se gastó? (Total/por fuente de adquisición/a lo largo del tiempo)**"
   ]
  },
  {
   "cell_type": "code",
   "execution_count": 63,
   "metadata": {},
   "outputs": [
    {
     "name": "stdout",
     "output_type": "stream",
     "text": [
      "   source_id          dt  costs\n",
      "0          1  2017-06-01  75.20\n",
      "1          1  2017-06-02  62.25\n",
      "2          1  2017-06-03  36.53\n",
      "3          1  2017-06-04  55.00\n",
      "4          1  2017-06-05  57.08\n",
      "Index(['source_id', 'dt', 'costs'], dtype='object')\n",
      "Gasto total: 329131.62\n",
      "Gasto por fuente de adquisición:\n",
      "source_id\n",
      "1      20833.27\n",
      "2      42806.04\n",
      "3     141321.63\n",
      "4      61073.60\n",
      "5      51757.10\n",
      "9       5517.49\n",
      "10      5822.49\n",
      "Name: costs, dtype: float64\n"
     ]
    },
    {
     "data": {
      "image/png": "[encoded data removed]",
      "text/plain": [
       "<Figure size 1000x600 with 1 Axes>"
      ]
     },
     "metadata": {},
     "output_type": "display_data"
    }
   ],
   "source": [
    "\n",
    "# Cargar los datos de costos nuevamente\n",
    "costs = pd.read_csv(\"datasets/costs_us.csv\")\n",
    "\n",
    "# Verificar las primeras filas y las columnas del DataFrame\n",
    "print(costs.head())\n",
    "print(costs.columns)\n",
    "\n",
    "# Calcular el gasto total\n",
    "total_cost = costs[\"costs\"].sum()\n",
    "print(\"Gasto total:\", total_cost)\n",
    "\n",
    "# Calcular el gasto por fuente de adquisición\n",
    "costs_per_source = costs.groupby(\"source_id\")[\"costs\"].sum()\n",
    "print(\"Gasto por fuente de adquisición:\")\n",
    "print(costs_per_source)\n",
    "\n",
    "# Visualizar el gasto por fuente de adquisición a lo largo del tiempo\n",
    "costs[\"month\"] = pd.to_datetime(costs[\"dt\"]).dt.to_period(\"M\")\n",
    "costs_per_month_source = costs.groupby([\"month\", \"source_id\"])[\"costs\"].sum().unstack()\n",
    "\n",
    "# Graficar el gasto por fuente de adquisición a lo largo del tiempo\n",
    "costs_per_month_source.plot(kind=\"bar\", stacked=True, figsize=(10, 6))\n",
    "plt.title(\"Gasto por Fuente de Adquisición a lo largo del Tiempo\")\n",
    "plt.xlabel(\"Mes\")\n",
    "plt.ylabel(\"Gasto\")\n",
    "plt.legend(title=\"Fuente de Adquisición\")\n",
    "plt.xticks(rotation=45)\n",
    "plt.show()"
   ]
  },
  {
   "cell_type": "markdown",
   "metadata": {},
   "source": [
    "**- ¿Cuál fue el costo de adquisición de clientes de cada una de las fuentes?**"
   ]
  },
  {
   "cell_type": "code",
   "execution_count": 64,
   "metadata": {},
   "outputs": [
    {
     "name": "stdout",
     "output_type": "stream",
     "text": [
      "Costo de adquisición de clientes por fuente:\n",
      "source_id\n",
      "1     1.096546\n",
      "2     1.631017\n",
      "3     1.890439\n",
      "4     0.731201\n",
      "5     0.908434\n",
      "6          NaN\n",
      "7          NaN\n",
      "9     0.595584\n",
      "10    0.721766\n",
      "dtype: float64\n"
     ]
    },
    {
     "data": {
      "image/png": "[encoded data removed]",
      "text/plain": [
       "<Figure size 1000x600 with 1 Axes>"
      ]
     },
     "metadata": {},
     "output_type": "display_data"
    }
   ],
   "source": [
    "# Calcular el costo de adquisición de clientes por fuente\n",
    "cost_per_customer = (\n",
    "    costs.groupby(\"source_id\")[\"costs\"].sum()\n",
    "    / visits.groupby(\"source_id\")[\"Uid\"].nunique()\n",
    ")\n",
    "\n",
    "# Mostrar resultados\n",
    "print(\"Costo de adquisición de clientes por fuente:\")\n",
    "print(cost_per_customer)\n",
    "\n",
    "# Crear gráfico de barras\n",
    "plt.figure(figsize=(10, 6))\n",
    "cost_per_customer.plot(kind=\"bar\", color=\"skyblue\")\n",
    "plt.title(\"Costo de Adquisición de Clientes por Fuente\")\n",
    "plt.xlabel(\"Fuente de Adquisición (source_id)\")\n",
    "plt.ylabel(\"Costo de Adquisición\")\n",
    "plt.xticks(rotation=0)\n",
    "plt.grid(axis=\"y\")\n",
    "\n",
    "# Mostrar gráfico\n",
    "plt.tight_layout()\n",
    "plt.show()"
   ]
  },
  {
   "cell_type": "markdown",
   "metadata": {},
   "source": [
    "\n",
    "\n",
    "- Las fuentes 3, 2 y 1 tienen los mayores costos de adquisición por cliente, lo que sugiere que se ha invertido más dinero en adquirir clientes a través de estas fuentes en comparación con las otras.\n",
    "- Las fuentes 4 y 5 tienen costos de adquisición más bajos en comparación con las fuentes 1, 2 y 3, lo que indica que se han adquirido clientes a un costo menor a través de estas fuentes.\n",
    "- Las fuentes 6 y 7 no tienen datos disponibles, probablemente porque no se ha invertido nada en adquirir clientes a través de estas fuentes o los datos no están registrados.\n",
    "- Las fuentes 9 y 10 también tienen costos de adquisición relativamente bajos en comparación con las primeras tres fuentes.\n",
    "\n",
    "Esta información es crucial para evaluar la eficacia y eficiencia de las estrategias de adquisición de clientes de cada fuente de marketing."
   ]
  },
  {
   "cell_type": "markdown",
   "metadata": {},
   "source": [
    "**- Calcular el ROMI**"
   ]
  },
  {
   "cell_type": "code",
   "execution_count": 87,
   "metadata": {},
   "outputs": [],
   "source": [
    "# Convertir las columnas de fecha a objetos datetime si no lo están\n",
    "orders[\"buy_ts\"] = pd.to_datetime(orders[\"buy_ts\"])\n",
    "costs[\"dt\"] = pd.to_datetime(costs[\"dt\"])\n",
    "\n",
    "# Fusionar los DataFrames usando las columnas de fecha como claves\n",
    "merged_data = pd.merge(orders, costs, left_on=\"buy_ts\", right_on=\"dt\", how=\"left\")"
   ]
  },
  {
   "cell_type": "markdown",
   "metadata": {},
   "source": [
    "**Tendencia general**\n",
    "\n",
    "La tendencia general del gráfico es ascendente, lo que significa que el gasto diario de dinero ha ido aumentando a lo largo del tiempo. Existen algunas pequeñas caídas en el gráfico, pero la tendencia general es clara.\n",
    "\n",
    "**Tendencias específicas**\n",
    "\n",
    "2017: El gasto diario de dinero aumentó de manera constante de julio a noviembre de 2017.\n",
    "2018: El gasto diario de dinero continuó aumentando en 2018, pero a un ritmo más lento que en 2017. Hubo una pequeña caída en el gasto en marzo de 2018, pero el monto gastado por día se recuperó en abril y mayo."
   ]
  },
  {
   "cell_type": "markdown",
   "metadata": {},
   "source": [
    "**- ¿Cuál fue el costo de adquisición de clientes de cada una de las fuentes?**"
   ]
  },
  {
   "cell_type": "code",
   "execution_count": 93,
   "metadata": {},
   "outputs": [
    {
     "ename": "NameError",
     "evalue": "name 'revenue_per_source' is not defined",
     "output_type": "error",
     "traceback": [
      "\u001b[1;31m---------------------------------------------------------------------------\u001b[0m",
      "\u001b[1;31mNameError\u001b[0m                                 Traceback (most recent call last)",
      "Cell \u001b[1;32mIn[93], line 2\u001b[0m\n\u001b[0;32m      1\u001b[0m \u001b[38;5;66;03m# Fusionar los DataFrames 'orders' y 'costs' en función de 'source_id'\u001b[39;00m\n\u001b[1;32m----> 2\u001b[0m merged_data \u001b[38;5;241m=\u001b[39m pd\u001b[38;5;241m.\u001b[39mmerge(costs, \u001b[43mrevenue_per_source\u001b[49m, on\u001b[38;5;241m=\u001b[39m\u001b[38;5;124m\"\u001b[39m\u001b[38;5;124msource_id\u001b[39m\u001b[38;5;124m\"\u001b[39m, how\u001b[38;5;241m=\u001b[39m\u001b[38;5;124m\"\u001b[39m\u001b[38;5;124mleft\u001b[39m\u001b[38;5;124m\"\u001b[39m)\n\u001b[0;32m      4\u001b[0m \u001b[38;5;66;03m# Calcular el ROMI\u001b[39;00m\n\u001b[0;32m      5\u001b[0m merged_data[\u001b[38;5;124m\"\u001b[39m\u001b[38;5;124mromi\u001b[39m\u001b[38;5;124m\"\u001b[39m] \u001b[38;5;241m=\u001b[39m (merged_data[\u001b[38;5;124m\"\u001b[39m\u001b[38;5;124mrevenue\u001b[39m\u001b[38;5;124m\"\u001b[39m] \u001b[38;5;241m-\u001b[39m merged_data[\u001b[38;5;124m\"\u001b[39m\u001b[38;5;124mcosts\u001b[39m\u001b[38;5;124m\"\u001b[39m]) \u001b[38;5;241m/\u001b[39m merged_data[\n\u001b[0;32m      6\u001b[0m     \u001b[38;5;124m\"\u001b[39m\u001b[38;5;124mcosts\u001b[39m\u001b[38;5;124m\"\u001b[39m\n\u001b[0;32m      7\u001b[0m ]\n",
      "\u001b[1;31mNameError\u001b[0m: name 'revenue_per_source' is not defined"
     ]
    }
   ],
   "source": [
    "# Fusionar los DataFrames 'orders' y 'costs' en función de 'source_id'\n",
    "merged_data = pd.merge(costs, revenue_per_source, on=\"source_id\", how=\"left\")\n",
    "\n",
    "# Calcular el ROMI\n",
    "merged_data[\"romi\"] = (merged_data[\"revenue\"] - merged_data[\"costs\"]) / merged_data[\n",
    "    \"costs\"\n",
    "]\n",
    "\n",
    "# Mostrar el ROMI por fuente de adquisición\n",
    "romi_per_source = merged_data.groupby(\"source_id\")[\"romi\"].mean()\n",
    "print(\"ROMI por fuente de adquisición:\")\n",
    "print(romi_per_source)"
   ]
  },
  {
   "cell_type": "markdown",
   "metadata": {},
   "source": [
    "Aquí se muestran el gasto total en cada fuente de adquisición, lo que puede ser útil para evaluar la eficacia de las estrategias de adquisición y asignar recursos de manera más efectiva en el futuro.\n"
   ]
  },
  {
   "cell_type": "code",
   "execution_count": null,
   "metadata": {},
   "outputs": [
    {
     "name": "stdout",
     "output_type": "stream",
     "text": [
      "          Device              End Ts  source_id            Start Ts  \\\n",
      "0          touch 2017-12-20 17:38:00          4 2017-12-20 17:20:00   \n",
      "1        desktop 2018-02-19 17:21:00          2 2018-02-19 16:53:00   \n",
      "2          touch 2017-07-01 01:54:00          5 2017-07-01 01:54:00   \n",
      "3        desktop 2018-05-20 11:23:00          9 2018-05-20 10:59:00   \n",
      "4        desktop 2017-12-27 14:06:00          3 2017-12-27 14:06:00   \n",
      "...          ...                 ...        ...                 ...   \n",
      "1023808    touch 2018-01-25 17:38:19          1 2018-01-25 17:38:00   \n",
      "1023809    touch 2018-01-25 17:38:19          1 2018-01-25 17:38:00   \n",
      "1023810  desktop 2018-03-03 10:12:19          4 2018-03-03 10:12:00   \n",
      "1023811  desktop 2017-11-02 10:12:19          5 2017-11-02 10:12:00   \n",
      "1023812    touch 2017-09-10 13:13:19          2 2017-09-10 13:13:00   \n",
      "\n",
      "                          Uid  session_duration        date  \\\n",
      "0        16879256277535980062         18.000000  2017-12-20   \n",
      "1          104060357244891740         28.000000  2018-02-19   \n",
      "2         7459035603376831527          0.000000  2017-07-01   \n",
      "3        16174680259334210214         24.000000  2018-05-20   \n",
      "4         9969694820036681168          0.000000  2017-12-27   \n",
      "...                       ...               ...         ...   \n",
      "1023808  18370831553019119586          0.316667  2018-01-25   \n",
      "1023809  18370831553019119586          0.316667  2018-01-25   \n",
      "1023810  18387297585500748294          0.316667  2018-03-03   \n",
      "1023811  18388616944624776485          0.316667  2017-11-02   \n",
      "1023812  18396128934054549559          0.316667  2017-09-10   \n",
      "\n",
      "                     Buy Ts  Revenue  \n",
      "0                       NaT      NaN  \n",
      "1                       NaT      NaN  \n",
      "2                       NaT      NaN  \n",
      "3       2018-03-09 20:25:00     2.33  \n",
      "4                       NaT      NaN  \n",
      "...                     ...      ...  \n",
      "1023808 2018-01-25 17:38:00     2.93  \n",
      "1023809 2018-01-25 22:29:00     0.37  \n",
      "1023810 2018-03-03 10:12:00     0.61  \n",
      "1023811 2017-11-02 10:12:00     2.69  \n",
      "1023812 2017-09-10 13:13:00     1.22  \n",
      "\n",
      "[1023813 rows x 9 columns]\n"
     ]
    }
   ],
   "source": [
    "print(merged_visits_orders)"
   ]
  }
 ],
 "metadata": {
  "kernelspec": {
   "display_name": "Python 3",
   "language": "python",
   "name": "python3"
  },
  "language_info": {
   "codemirror_mode": {
    "name": "ipython",
    "version": 3
   },
   "file_extension": ".py",
   "mimetype": "text/x-python",
   "name": "python",
   "nbconvert_exporter": "python",
   "pygments_lexer": "ipython3",
   "version": "3.11.9"
  }
 },
 "nbformat": 4,
 "nbformat_minor": 2
}
