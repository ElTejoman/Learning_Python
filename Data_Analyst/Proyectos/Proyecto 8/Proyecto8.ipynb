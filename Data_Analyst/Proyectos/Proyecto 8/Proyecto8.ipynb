{
 "cells": [
  {
   "cell_type": "markdown",
   "metadata": {},
   "source": [
    "# **Proyecto SPRINT 8**"
   ]
  },
  {
   "cell_type": "markdown",
   "metadata": {},
   "source": [
    "# Descripción del proyecto\n",
    "Se te ha ido muy bien y te han ofrecido hacer prácticas en el departamento analítico de Y.Afisha. Tu primera tarea es ayudar a optimizar los gastos de marketing.\n",
    "\n",
    "Lo que tienes:\n",
    "\n",
    "- registros del servidor con datos sobre las visitas a Y.Afisha desde enero de 2017 hasta diciembre de 2018;\n",
    "- un archivo con los pedidos en este periodo;\n",
    "- estadísticas de gastos de marketing.\n",
    "  \n",
    "Lo que vas a investigar:\n",
    "\n",
    "- cómo los clientes usan el servicio;\n",
    "- cuándo empiezan a comprar;\n",
    "- cuánto dinero aporta cada cliente a la compañía;\n",
    "- cuándo los ingresos cubren el costo de adquisición de los clientes.\n",
    "\n",
    "### Instrucciones para completar el proyecto\n",
    "\n",
    "## Paso 1. Descarga los datos y prepáralos para el análisis\n",
    "\n",
    "Almacena los datos de visitas, pedidos y gastos en variables.  Optimiza los datos para el análisis. Asegúrate de que cada columna contenga el tipo de datos correcto.\n",
    "\n",
    "Rutas de archivos: \n",
    "\n",
    "- /datasets/visits_log_us.csv. \n",
    "- /datasets/orders_log_us.csv.\n",
    "- /datasets/costs_us.csv.\n",
    "\n",
    "## Paso 2. Haz informes y calcula métricas \n",
    "\n",
    "1. Visitas:\n",
    "- ¿Cuántas personas lo usan cada día, semana y mes?\n",
    "- ¿Cuántas sesiones hay por día? (Un/a usuario/a puede tener más de una sesión).\n",
    "- ¿Cuál es la duración de cada sesión?\n",
    "- ¿Con qué frecuencia los usuarios y las usuarias regresan?\n",
    "\n",
    "2. Ventas:\n",
    " \n",
    "- ¿Cuándo la gente empieza a comprar? (En el análisis de KPI, generalmente nos interesa saber el tiempo que transcurre entre el registro y la conversión, es decir, cuando el/la usuario/a se convierte en cliente. Por ejemplo, si el registro y la primera compra ocurren el mismo día, el/la usuario/a podría caer en la categoría Conversion 0d. Si la primera compra ocurre al día siguiente, será Conversion 1d.  Puedes usar cualquier enfoque que te permita comparar las conversiones de diferentes cohortes para que puedas determinar qué cohorte o canal de marketing es más efectivo).\n",
    "- ¿Cuántos pedidos hacen durante un período de tiempo dado?\n",
    "- ¿Cuál es el tamaño promedio de compra?\n",
    "- ¿Cuánto dinero traen? (LTV)\n",
    "\n",
    "3. Marketing:\n",
    " \n",
    "- ¿Cuánto dinero se gastó? (Total/por fuente de adquisición/a lo largo del tiempo)\n",
    "- ¿Cuál fue el costo de adquisición de clientes de cada una de las fuentes?\n",
    "- ¿Cuán rentables eran las inversiones? (ROMI)\n",
    "\n",
    "Traza gráficos para mostrar cómo difieren estas métricas para varios dispositivos y fuentes de anuncios y cómo cambian con el tiempo. \n",
    "\n",
    "## Paso 3. Escribe una conclusión: aconseja a los expertos de marketing cuánto dinero invertir y dónde\n",
    "\n",
    "¿Qué fuentes/plataformas recomendarías?  Fundamenta tu selección: ¿en qué métricas te enfocaste?  ¿Por qué? ¿Qué conclusiones sacaste después de encontrar los valores métricos?\n",
    "\n",
    "\n",
    "### Descripción de los datos\n",
    "\n",
    "1. La tabla visits (registros del servidor con datos sobre las visitas al sitio web):\n",
    "\n",
    "- Uid: identificador único del usuario;\n",
    "- Device: dispositivo del usuario;\n",
    "- Start Ts: fecha y hora de inicio de la sesión;\n",
    "- End Ts: fecha y hora de término de la sesión;\n",
    "- Source Id: identificador de la fuente de anuncios de la que proviene el usuario.\n",
    "\n",
    "Todas las fechas de esta tabla están en formato AAAA-MM-DD.\n",
    "\n",
    "2. La tabla orders (datos sobre pedidos):\n",
    "\n",
    "- Uid: identificador único del usuario que realiza un pedido;\n",
    "- Buy Ts: fecha y hora del pedido;\n",
    "- Revenue: ingresos de Y.Afisha de este pedido.\n",
    "\n",
    "3. La tabla costs (datos sobre gastos de marketing):\n",
    "\n",
    "- source_id: identificador de la fuente de anuncios\n",
    "- dt: fecha;\n",
    "- costs: gastos en esta fuente de anuncios en este día."
   ]
  },
  {
   "cell_type": "markdown",
   "metadata": {},
   "source": []
  },
  {
   "cell_type": "markdown",
   "metadata": {},
   "source": [
    "### Importamos las bibliotecas utilizadas"
   ]
  },
  {
   "cell_type": "code",
   "execution_count": null,
   "metadata": {},
   "outputs": [],
   "source": [
    "import pandas as pd"
   ]
  },
  {
   "cell_type": "code",
   "execution_count": 6,
   "metadata": {},
   "outputs": [],
   "source": [
    "# Cargar los datos de visitas, pedidos y gastos\n",
    "visits = pd.read_csv(\"datasets/visits_log_us.csv\")\n",
    "orders = pd.read_csv(\"datasets/orders_log_us.csv\")\n",
    "costs = pd.read_csv(\"datasets/costs_us.csv\")"
   ]
  },
  {
   "cell_type": "code",
   "execution_count": 10,
   "metadata": {},
   "outputs": [
    {
     "name": "stdout",
     "output_type": "stream",
     "text": [
      "    Device               End Ts  Source Id             Start Ts  \\\n",
      "0    touch  2017-12-20 17:38:00          4  2017-12-20 17:20:00   \n",
      "1  desktop  2018-02-19 17:21:00          2  2018-02-19 16:53:00   \n",
      "2    touch  2017-07-01 01:54:00          5  2017-07-01 01:54:00   \n",
      "3  desktop  2018-05-20 11:23:00          9  2018-05-20 10:59:00   \n",
      "4  desktop  2017-12-27 14:06:00          3  2017-12-27 14:06:00   \n",
      "\n",
      "                    Uid  \n",
      "0  16879256277535980062  \n",
      "1    104060357244891740  \n",
      "2   7459035603376831527  \n",
      "3  16174680259334210214  \n",
      "4   9969694820036681168  \n",
      "====================================================\n",
      "                Buy Ts  Revenue                   Uid\n",
      "0  2017-06-01 00:10:00    17.00  10329302124590727494\n",
      "1  2017-06-01 00:25:00     0.55  11627257723692907447\n",
      "2  2017-06-01 00:27:00     0.37  17903680561304213844\n",
      "3  2017-06-01 00:29:00     0.55  16109239769442553005\n",
      "4  2017-06-01 07:58:00     0.37  14200605875248379450\n",
      "====================================================\n",
      "   source_id          dt  costs\n",
      "0          1  2017-06-01  75.20\n",
      "1          1  2017-06-02  62.25\n",
      "2          1  2017-06-03  36.53\n",
      "3          1  2017-06-04  55.00\n",
      "4          1  2017-06-05  57.08\n"
     ]
    }
   ],
   "source": [
    "print(visits.head())\n",
    "print(\"====================================================\")\n",
    "print(orders.head())\n",
    "print(\"====================================================\")\n",
    "print(costs.head())"
   ]
  },
  {
   "cell_type": "code",
   "execution_count": 9,
   "metadata": {},
   "outputs": [
    {
     "name": "stdout",
     "output_type": "stream",
     "text": [
      "<class 'pandas.core.frame.DataFrame'>\n",
      "RangeIndex: 359400 entries, 0 to 359399\n",
      "Data columns (total 5 columns):\n",
      " #   Column     Non-Null Count   Dtype \n",
      "---  ------     --------------   ----- \n",
      " 0   Device     359400 non-null  object\n",
      " 1   End Ts     359400 non-null  object\n",
      " 2   Source Id  359400 non-null  int64 \n",
      " 3   Start Ts   359400 non-null  object\n",
      " 4   Uid        359400 non-null  uint64\n",
      "dtypes: int64(1), object(3), uint64(1)\n",
      "memory usage: 13.7+ MB\n",
      "None\n",
      "====================================================\n",
      "<class 'pandas.core.frame.DataFrame'>\n",
      "RangeIndex: 50415 entries, 0 to 50414\n",
      "Data columns (total 3 columns):\n",
      " #   Column   Non-Null Count  Dtype  \n",
      "---  ------   --------------  -----  \n",
      " 0   Buy Ts   50415 non-null  object \n",
      " 1   Revenue  50415 non-null  float64\n",
      " 2   Uid      50415 non-null  uint64 \n",
      "dtypes: float64(1), object(1), uint64(1)\n",
      "memory usage: 1.2+ MB\n",
      "None\n",
      "====================================================\n",
      "<class 'pandas.core.frame.DataFrame'>\n",
      "RangeIndex: 2542 entries, 0 to 2541\n",
      "Data columns (total 3 columns):\n",
      " #   Column     Non-Null Count  Dtype  \n",
      "---  ------     --------------  -----  \n",
      " 0   source_id  2542 non-null   int64  \n",
      " 1   dt         2542 non-null   object \n",
      " 2   costs      2542 non-null   float64\n",
      "dtypes: float64(1), int64(1), object(1)\n",
      "memory usage: 59.7+ KB\n",
      "None\n"
     ]
    }
   ],
   "source": [
    "# Verificar tipos de datos y ajustar si es necesario\n",
    "print(visits.info())\n",
    "print(\"====================================================\")\n",
    "print(orders.info())\n",
    "print(\"====================================================\")\n",
    "print(costs.info())"
   ]
  },
  {
   "cell_type": "code",
   "execution_count": 12,
   "metadata": {},
   "outputs": [
    {
     "name": "stdout",
     "output_type": "stream",
     "text": [
      "<class 'pandas.core.frame.DataFrame'>\n",
      "RangeIndex: 359400 entries, 0 to 359399\n",
      "Data columns (total 5 columns):\n",
      " #   Column     Non-Null Count   Dtype         \n",
      "---  ------     --------------   -----         \n",
      " 0   Device     359400 non-null  object        \n",
      " 1   End Ts     359400 non-null  datetime64[ns]\n",
      " 2   Source Id  359400 non-null  int64         \n",
      " 3   Start Ts   359400 non-null  datetime64[ns]\n",
      " 4   Uid        359400 non-null  object        \n",
      "dtypes: datetime64[ns](2), int64(1), object(2)\n",
      "memory usage: 13.7+ MB\n",
      "None\n",
      "====================================================\n",
      "<class 'pandas.core.frame.DataFrame'>\n",
      "RangeIndex: 50415 entries, 0 to 50414\n",
      "Data columns (total 3 columns):\n",
      " #   Column   Non-Null Count  Dtype         \n",
      "---  ------   --------------  -----         \n",
      " 0   Buy Ts   50415 non-null  datetime64[ns]\n",
      " 1   Revenue  50415 non-null  float64       \n",
      " 2   Uid      50415 non-null  object        \n",
      "dtypes: datetime64[ns](1), float64(1), object(1)\n",
      "memory usage: 1.2+ MB\n",
      "None\n",
      "====================================================\n",
      "<class 'pandas.core.frame.DataFrame'>\n",
      "RangeIndex: 2542 entries, 0 to 2541\n",
      "Data columns (total 3 columns):\n",
      " #   Column     Non-Null Count  Dtype         \n",
      "---  ------     --------------  -----         \n",
      " 0   source_id  2542 non-null   object        \n",
      " 1   dt         2542 non-null   datetime64[ns]\n",
      " 2   costs      2542 non-null   float64       \n",
      "dtypes: datetime64[ns](1), float64(1), object(1)\n",
      "memory usage: 59.7+ KB\n",
      "None\n"
     ]
    }
   ],
   "source": [
    "# Convertir columnas a tipos de datos adecuados\n",
    "visits[\"Start Ts\"] = pd.to_datetime(visits[\"Start Ts\"])\n",
    "visits[\"End Ts\"] = pd.to_datetime(visits[\"End Ts\"])\n",
    "orders[\"Buy Ts\"] = pd.to_datetime(orders[\"Buy Ts\"])\n",
    "costs[\"dt\"] = pd.to_datetime(costs[\"dt\"])\n",
    "\n",
    "# Asegurarse de que los identificadores sean del tipo string (si no lo son ya)\n",
    "visits[\"Uid\"] = visits[\"Uid\"].astype(str)\n",
    "orders[\"Uid\"] = orders[\"Uid\"].astype(str)\n",
    "costs[\"source_id\"] = costs[\"source_id\"].astype(str)\n",
    "\n",
    "# Verificar nuevamente los tipos de datos para asegurarse de que todo esté correcto\n",
    "print(visits.info())\n",
    "print(\"====================================================\")\n",
    "print(orders.info())\n",
    "print(\"====================================================\")\n",
    "print(costs.info())"
   ]
  },
  {
   "cell_type": "markdown",
   "metadata": {},
   "source": [
    "### Interpretando Resultados\n",
    "\n",
    "1. **Tabla `visits`:**\n",
    "    - **Device:** Es un tipo `object`, lo cual es correcto ya que representa el dispositivo utilizado por el usuario.\n",
    "    - **End Ts:** Ahora es de tipo `datetime64[ns]`, lo cual es correcto ya que representa la fecha y hora de término de la sesión.\n",
    "    - **Source Id:** Es de tipo `int64`, lo cual es adecuado, aunque podría ser `object` si queremos tener consistencia con `costs`.\n",
    "    - **Start Ts:** Ahora es de tipo `datetime64[ns]`, lo cual es correcto ya que representa la fecha y hora de inicio de la sesión.\n",
    "    - **Uid:** Ahora es de tipo `object`, lo cual es correcto ya que representa un identificador único del usuario.\n",
    "\n",
    "2. **Tabla `orders`:**\n",
    "    - **Buy Ts:** Ahora es de tipo `datetime64[ns]`, lo cual es correcto ya que representa la fecha y hora del pedido.\n",
    "    - **Revenue:** Es de tipo `float64`, lo cual es correcto ya que representa los ingresos de Y.Afisha por este pedido.\n",
    "    - **Uid:** Ahora es de tipo `object`, lo cual es correcto ya que representa un identificador único del usuario.\n",
    "\n",
    "3. **Tabla `costs`:**\n",
    "    - **source_id:** Ahora es de tipo `object`, lo cual es correcto ya que representa un identificador de la fuente de anuncios.\n",
    "    - **dt:** Ahora es de tipo `datetime64[ns]`, lo cual es correcto ya que representa la fecha de los gastos de marketing.\n",
    "    - **costs:** Es de tipo `float64`, lo cual es correcto ya que representa los gastos en esta fuente de anuncios en este día.\n",
    "\n",
    "### Conclusión\n",
    "\n",
    "Todos los tipos de datos son correctos y están optimizados para el análisis. Las conversiones de las columnas de fecha y hora se realizaron correctamente a `datetime64[ns]` y los identificadores únicos se convirtieron a `object`. Esto nos permitirá realizar análisis temporales y de identificación de manera eficiente.\n"
   ]
  },
  {
   "cell_type": "markdown",
   "metadata": {},
   "source": [
    "### **Iniciamos con el PASO 2**\n",
    "### **1. Visitas**\n",
    "\n",
    "**¿Cuántas personas lo usan cada día, semana y mes?**\n"
   ]
  },
  {
   "cell_type": "code",
   "execution_count": 14,
   "metadata": {},
   "outputs": [
    {
     "name": "stdout",
     "output_type": "stream",
     "text": [
      "Visitas por día:\n",
      "Start Ts\n",
      "2017-06-01    605\n",
      "2017-06-02    608\n",
      "2017-06-03    445\n",
      "2017-06-04    476\n",
      "2017-06-05    820\n",
      "Name: Uid, dtype: int64\n",
      "\n",
      "Visitas por semana:\n",
      "week\n",
      "1    6918\n",
      "2    6703\n",
      "3    6972\n",
      "4    7060\n",
      "5    8111\n",
      "Name: Uid, dtype: int64\n",
      "\n",
      "Visitas por mes:\n",
      "Start Ts\n",
      "2017-06    13259\n",
      "2017-07    14183\n",
      "2017-08    11631\n",
      "2017-09    18975\n",
      "2017-10    29692\n",
      "Freq: M, Name: Uid, dtype: int64\n"
     ]
    }
   ],
   "source": [
    "\n",
    "\n",
    "# Convertir columnas de fecha y hora a datetime\n",
    "visits[\"Start Ts\"] = pd.to_datetime(visits[\"Start Ts\"])\n",
    "\n",
    "# Número de visitas por día\n",
    "visits_per_day = visits.groupby(visits[\"Start Ts\"].dt.date)[\"Uid\"].nunique()\n",
    "\n",
    "# Número de visitas por semana\n",
    "visits_per_week = visits.groupby(visits[\"Start Ts\"].dt.isocalendar().week)[\n",
    "    \"Uid\"\n",
    "].nunique()\n",
    "\n",
    "# Número de visitas por mes\n",
    "visits_per_month = visits.groupby(visits[\"Start Ts\"].dt.to_period(\"M\"))[\"Uid\"].nunique()\n",
    "\n",
    "# Mostrar resultados\n",
    "print(\"Visitas por día:\")\n",
    "print(visits_per_day.head())\n",
    "print(\"\\nVisitas por semana:\")\n",
    "print(visits_per_week.head())\n",
    "print(\"\\nVisitas por mes:\")\n",
    "print(visits_per_month.head())"
   ]
  },
  {
   "cell_type": "markdown",
   "metadata": {},
   "source": [
    "**Calcular el número de sesiones por día**"
   ]
  },
  {
   "cell_type": "code",
   "execution_count": 15,
   "metadata": {},
   "outputs": [
    {
     "name": "stdout",
     "output_type": "stream",
     "text": [
      "Sesiones por día:\n",
      "Start Ts\n",
      "2017-06-01    664\n",
      "2017-06-02    658\n",
      "2017-06-03    477\n",
      "2017-06-04    510\n",
      "2017-06-05    893\n",
      "Name: Uid, dtype: int64\n"
     ]
    }
   ],
   "source": [
    "# Número de sesiones por día\n",
    "sessions_per_day = visits.groupby(visits[\"Start Ts\"].dt.date)[\"Uid\"].count()\n",
    "\n",
    "# Mostrar resultados\n",
    "print(\"Sesiones por día:\")\n",
    "print(sessions_per_day.head())"
   ]
  },
  {
   "cell_type": "markdown",
   "metadata": {},
   "source": [
    "**Duración de cada sesión**"
   ]
  },
  {
   "cell_type": "code",
   "execution_count": 16,
   "metadata": {},
   "outputs": [
    {
     "name": "stdout",
     "output_type": "stream",
     "text": [
      "Duración promedio de sesión (en minutos):\n",
      "10.717094787608978\n"
     ]
    }
   ],
   "source": [
    "# Calcular la duración de cada sesión en minutos\n",
    "visits[\"session_duration\"] = (\n",
    "    visits[\"End Ts\"] - visits[\"Start Ts\"]\n",
    ").dt.total_seconds() / 60\n",
    "\n",
    "# Calcular la duración promedio de sesión\n",
    "average_session_duration = visits[\"session_duration\"].mean()\n",
    "\n",
    "# Mostrar resultados\n",
    "print(\"Duración promedio de sesión (en minutos):\")\n",
    "print(average_session_duration)"
   ]
  },
  {
   "cell_type": "markdown",
   "metadata": {},
   "source": [
    "**- ¿Con qué frecuencia los usuarios y las usuarias regresan?**"
   ]
  },
  {
   "cell_type": "code",
   "execution_count": 18,
   "metadata": {},
   "outputs": [
    {
     "name": "stdout",
     "output_type": "stream",
     "text": [
      "Frecuencia promedio de retorno de usuarios (días distintos por usuario):\n",
      "1.4485271881806907\n"
     ]
    }
   ],
   "source": [
    "# Convertir la columna 'Start Ts' a solo fechas (sin tiempo)\n",
    "visits[\"date\"] = visits[\"Start Ts\"].dt.date\n",
    "\n",
    "# Contar el número de días distintos que cada usuario ha visitado el sitio\n",
    "visits_per_user = visits.groupby(\"Uid\")[\"date\"].nunique()\n",
    "\n",
    "# Calcular la frecuencia promedio de retorno (promedio de días distintos por usuario)\n",
    "average_visits_per_user = visits_per_user.mean()\n",
    "\n",
    "# Mostrar resultados\n",
    "print(\"Frecuencia promedio de retorno de usuarios (días distintos por usuario):\")\n",
    "print(average_visits_per_user)"
   ]
  },
  {
   "cell_type": "markdown",
   "metadata": {},
   "source": [
    "### **2. Ventas**\n",
    "\n",
    "**¿Cuándo la gente empieza a comprar?**"
   ]
  },
  {
   "cell_type": "code",
   "execution_count": 20,
   "metadata": {},
   "outputs": [
    {
     "name": "stdout",
     "output_type": "stream",
     "text": [
      "Tiempo hasta la primera compra (días):\n",
      "Uid\n",
      "10000171586432207426      NaN\n",
      "10000344846682484395      NaN\n",
      "1000036778515242839       NaN\n",
      "10000460875579931334      NaN\n",
      "10000558740593440652      NaN\n",
      "10000584491997262943      NaN\n",
      "10000837700716403746   -148.0\n",
      "10000962813665337931      NaN\n",
      "10000996569639771286      NaN\n",
      "10000997030965831953      0.0\n",
      "10001016957011970065      NaN\n",
      "1000104625626262139       NaN\n",
      "10001063059357693918      NaN\n",
      "10001091218281033249      NaN\n",
      "10001106532052218620      NaN\n",
      "10001107248119799119      NaN\n",
      "10001167080632523065      NaN\n",
      "10001169102778973581      NaN\n",
      "10001199569370567060    -58.0\n",
      "10001265525405988161      NaN\n",
      "Name: time_to_first_purchase, dtype: float64\n"
     ]
    }
   ],
   "source": [
    "\n",
    "# Fusionar datos de visitas y pedidos para cada usuario\n",
    "merged_data = pd.merge(visits, orders, on=\"Uid\", how=\"left\")\n",
    "\n",
    "# Calcular tiempo hasta la primera compra para cada usuario\n",
    "merged_data[\"time_to_first_purchase\"] = (\n",
    "    merged_data[\"Buy Ts\"] - merged_data[\"Start Ts\"]\n",
    ").dt.days\n",
    "\n",
    "# Obtener el tiempo mínimo hasta la primera compra para cada usuario\n",
    "time_to_first_purchase = merged_data.groupby(\"Uid\")[\"time_to_first_purchase\"].min()\n",
    "\n",
    "# Mostrar resultados\n",
    "print(\"Tiempo hasta la primera compra (días):\")\n",
    "print(time_to_first_purchase.head(20))"
   ]
  },
  {
   "cell_type": "markdown",
   "metadata": {},
   "source": [
    "Manejo de datos por Cohortes"
   ]
  },
  {
   "cell_type": "code",
   "execution_count": 22,
   "metadata": {},
   "outputs": [
    {
     "name": "stdout",
     "output_type": "stream",
     "text": [
      "Tiempo promedio hasta la primera compra por cohorte:\n",
      "cohort_month\n",
      "2017-06    112.509770\n",
      "2017-07     66.201128\n",
      "2017-08     61.013268\n",
      "2017-09     42.992637\n",
      "2017-10     29.554468\n",
      "2017-11     26.326425\n",
      "2017-12     17.581933\n",
      "2018-01     12.868271\n",
      "2018-02      8.798241\n",
      "2018-03      6.214386\n",
      "2018-04      4.835011\n",
      "2018-05      0.756560\n",
      "Freq: M, Name: time_to_first_purchase, dtype: float64\n"
     ]
    }
   ],
   "source": [
    "# Filtrar registros nulos en las fechas de compra\n",
    "orders = orders.dropna(subset=[\"Buy Ts\"])\n",
    "\n",
    "# Calcular la fecha de registro de cada usuario\n",
    "registration_dates = visits.groupby(\"Uid\")[\"Start Ts\"].min()\n",
    "\n",
    "# Unir la fecha de registro con los datos de compra\n",
    "merged_data = pd.merge(registration_dates, orders, on=\"Uid\", how=\"left\")\n",
    "\n",
    "# Calcular el tiempo hasta la primera compra para cada usuario y cohorte\n",
    "merged_data[\"time_to_first_purchase\"] = (\n",
    "    merged_data[\"Buy Ts\"] - merged_data[\"Start Ts\"]\n",
    ").dt.days\n",
    "\n",
    "# Obtener la cohorte de cada usuario\n",
    "merged_data[\"cohort_month\"] = merged_data[\"Start Ts\"].dt.to_period(\"M\")\n",
    "\n",
    "# Calcular el tiempo promedio hasta la primera compra por cohorte\n",
    "avg_time_to_first_purchase_by_cohort = merged_data.groupby(\"cohort_month\")[\n",
    "    \"time_to_first_purchase\"\n",
    "].mean()\n",
    "\n",
    "# Mostrar resultados\n",
    "print(\"Tiempo promedio hasta la primera compra por cohorte:\")\n",
    "print(avg_time_to_first_purchase_by_cohort)"
   ]
  },
  {
   "cell_type": "markdown",
   "metadata": {},
   "source": [
    "Estos resultados muestran cómo cambia el tiempo promedio hasta la primera compra para diferentes cohortes de usuarios que se registraron en diferentes meses. Puedes observar que en general, el tiempo hasta la primera compra tiende a disminuir a medida que avanzan los meses. Esto podría indicar una mejora en la conversión o en la efectividad de las estrategias de marketing con el tiempo."
   ]
  }
 ],
 "metadata": {
  "kernelspec": {
   "display_name": "Python 3",
   "language": "python",
   "name": "python3"
  },
  "language_info": {
   "codemirror_mode": {
    "name": "ipython",
    "version": 3
   },
   "file_extension": ".py",
   "mimetype": "text/x-python",
   "name": "python",
   "nbconvert_exporter": "python",
   "pygments_lexer": "ipython3",
   "version": "3.11.9"
  }
 },
 "nbformat": 4,
 "nbformat_minor": 2
}
