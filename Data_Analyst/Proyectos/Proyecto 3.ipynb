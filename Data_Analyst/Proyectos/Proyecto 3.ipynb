{
 "cells": [
  {
   "cell_type": "markdown",
   "id": "d2bf0d0d",
   "metadata": {},
   "source": [
    "Hola &#x1F600;\n",
    "\n",
    "Soy **Hesus Garcia**  como \"Jesús\" pero con H. Sé que puede ser confuso al principio, pero una vez que lo recuerdes, ¡nunca lo olvidarás! &#x1F31D;\t. Como revisor de código de Triple-Ten, estoy emocionado de examinar tus proyectos y ayudarte a mejorar tus habilidades en programación. si has cometido algún error, no te preocupes, pues ¡estoy aquí para ayudarte a corregirlo y hacer que tu código brille! &#x1F31F;. Si encuentro algún detalle en tu código, te lo señalaré para que lo corrijas, ya que mi objetivo es ayudarte a prepararte para un ambiente de trabajo real, donde el líder de tu equipo actuaría de la misma manera. Si no puedes solucionar el problema, te proporcionaré más información en la próxima oportunidad. Cuando encuentres un comentario,  **por favor, no los muevas, no los modifiques ni los borres**. \n",
    "\n",
    "Revisaré cuidadosamente todas las implementaciones que has realizado para cumplir con los requisitos y te proporcionaré mis comentarios de la siguiente manera:\n",
    "\n",
    "\n",
    "<div class=\"alert alert-block alert-success\">\n",
    "<b>Comentario del revisor</b> <a class=“tocSkip”></a>\n",
    "Si todo está perfecto.\n",
    "</div>\n",
    "\n",
    "<div class=\"alert alert-block alert-warning\">\n",
    "<b>Comentario del revisor</b> <a class=“tocSkip”></a>\n",
    "Si tu código está bien pero se puede mejorar o hay algún detalle que le hace falta.\n",
    "</div>\n",
    "\n",
    "<div class=\"alert alert-block alert-danger\">\n",
    "<b>Comentario del revisor</b> <a class=“tocSkip”></a>\n",
    "Si de pronto hace falta algo o existe algún problema con tu código o conclusiones.\n",
    "</div>\n",
    "\n",
    "Puedes responderme de esta forma:\n",
    "<div class=\"alert alert-block alert-info\">\n",
    "<b>Respuesta del estudiante</b> <a class=“tocSkip”></a>\n",
    "</div>\n",
    "\n",
    "</br>\n",
    "\n",
    "**¡Empecemos!**  &#x1F680;"
   ]
  },
  {
   "cell_type": "markdown",
   "id": "3Xg_RQfnafXz",
   "metadata": {
    "id": "3Xg_RQfnafXz"
   },
   "source": [
    "# ¡Llena ese carrito!"
   ]
  },
  {
   "cell_type": "markdown",
   "id": "mhIvmmkW414q",
   "metadata": {
    "id": "mhIvmmkW414q"
   },
   "source": [
    "# Introducción\n",
    "\n",
    "Instacart es una plataforma de entregas de comestibles donde la clientela puede registrar un pedido y hacer que se lo entreguen, similar a Uber Eats y Door Dash.\n",
    "El conjunto de datos que te hemos proporcionado tiene modificaciones del original. Redujimos el tamaño del conjunto para que tus cálculos se hicieran más rápido e introdujimos valores ausentes y duplicados. Tuvimos cuidado de conservar las distribuciones de los datos originales cuando hicimos los cambios.\n",
    "\n",
    "Debes completar tres pasos. Para cada uno de ellos, escribe una breve introducción que refleje con claridad cómo pretendes resolver cada paso, y escribe párrafos explicatorios que justifiquen tus decisiones al tiempo que avanzas en tu solución.  También escribe una conclusión que resuma tus hallazgos y elecciones.\n"
   ]
  },
  {
   "cell_type": "markdown",
   "id": "3MbyzpOQZ5Or",
   "metadata": {
    "id": "3MbyzpOQZ5Or"
   },
   "source": [
    "## Diccionario de datos\n",
    "\n",
    "Hay cinco tablas en el conjunto de datos, y tendrás que usarlas todas para hacer el preprocesamiento de datos y el análisis exploratorio de datos. A continuación se muestra un diccionario de datos que enumera las columnas de cada tabla y describe los datos que contienen.\n",
    "\n",
    "- `instacart_orders.csv`: cada fila corresponde a un pedido en la aplicación Instacart.\n",
    "    - `'order_id'`: número de ID que identifica de manera única cada pedido.\n",
    "    - `'user_id'`: número de ID que identifica de manera única la cuenta de cada cliente.\n",
    "    - `'order_number'`: el número de veces que este cliente ha hecho un pedido.\n",
    "    - `'order_dow'`: día de la semana en que se hizo el pedido (0 si es domingo).\n",
    "    - `'order_hour_of_day'`: hora del día en que se hizo el pedido.\n",
    "    - `'days_since_prior_order'`: número de días transcurridos desde que este cliente hizo su pedido anterior.\n",
    "- `products.csv`: cada fila corresponde a un producto único que pueden comprar los clientes.\n",
    "    - `'product_id'`: número ID que identifica de manera única cada producto.\n",
    "    - `'product_name'`: nombre del producto.\n",
    "    - `'aisle_id'`: número ID que identifica de manera única cada categoría de pasillo de víveres.\n",
    "    - `'department_id'`: número ID que identifica de manera única cada departamento de víveres.\n",
    "- `order_products.csv`: cada fila corresponde a un artículo pedido en un pedido.\n",
    "    - `'order_id'`: número de ID que identifica de manera única cada pedido.\n",
    "    - `'product_id'`: número ID que identifica de manera única cada producto.\n",
    "    - `'add_to_cart_order'`: el orden secuencial en el que se añadió cada artículo en el carrito.\n",
    "    - `'reordered'`: 0 si el cliente nunca ha pedido este producto antes, 1 si lo ha pedido.\n",
    "- `aisles.csv`\n",
    "    - `'aisle_id'`: número ID que identifica de manera única cada categoría de pasillo de víveres.\n",
    "    - `'aisle'`: nombre del pasillo.\n",
    "- `departments.csv`\n",
    "    - `'department_id'`: número ID que identifica de manera única cada departamento de víveres.\n",
    "    - `'department'`: nombre del departamento."
   ]
  },
  {
   "cell_type": "markdown",
   "id": "n3Ha_cNSZ8lK",
   "metadata": {
    "id": "n3Ha_cNSZ8lK"
   },
   "source": [
    "# Paso 1. Descripción de los datos\n",
    "\n",
    "Lee los archivos de datos (`/datasets/instacart_orders.csv`, `/datasets/products.csv`, `/datasets/aisles.csv`, `/datasets/departments.csv` y `/datasets/order_products.csv`) con `pd.read_csv()` usando los parámetros adecuados para leer los datos correctamente. Verifica la información para cada DataFrame creado.\n"
   ]
  },
  {
   "cell_type": "markdown",
   "id": "OmlQPLlyaAfR",
   "metadata": {
    "id": "OmlQPLlyaAfR"
   },
   "source": [
    "## Plan de solución\n",
    "\n",
    "Escribe aquí tu plan de solución para el Paso 1. Descripción de los datos.\n",
    "\n",
    "Inicialmente crearé variables para cada archivo de datos para poder trabajarlos por separado (y en el futuro quizá unirlos), verificaré que tipo de datos contiene, cuantas columnas posee, si contiene datos vacíos ó indicios que me ayuden a familiarizarme con los datos a analizar."
   ]
  },
  {
   "cell_type": "code",
   "execution_count": 1,
   "id": "fbf1adab",
   "metadata": {
    "id": "fbf1adab"
   },
   "outputs": [],
   "source": [
    "# importar librerías\n",
    "import pandas as pd"
   ]
  },
  {
   "cell_type": "code",
   "execution_count": 2,
   "id": "ad36396d",
   "metadata": {
    "id": "ad36396d"
   },
   "outputs": [],
   "source": [
    "# leer conjuntos de datos en los DataFrames\n",
    "df_orders = pd.read_csv('/datasets/instacart_orders.csv',delimiter=';')\n",
    "df_products = pd.read_csv('/datasets/products.csv', delimiter=';')\n",
    "df_aisles = pd.read_csv('/datasets/aisles.csv', delimiter=';')\n",
    "df_departments = pd.read_csv('/datasets/departments.csv', delimiter=';')\n",
    "df_order_products = pd.read_csv('/datasets/order_products.csv', delimiter=';')"
   ]
  },
  {
   "cell_type": "markdown",
   "id": "c03c6cc6",
   "metadata": {},
   "source": [
    "<div class=\"alert alert-block alert-success\">\n",
    "<b>Comentario del revisor</b> <a class=“tocSkip”></a>\n",
    "Buen trabajo con la carga y lectura de datos, bien por encontrar el separador ;  </div>"
   ]
  },
  {
   "cell_type": "code",
   "execution_count": 3,
   "id": "ad6a1efa",
   "metadata": {
    "id": "ad6a1efa"
   },
   "outputs": [
    {
     "name": "stdout",
     "output_type": "stream",
     "text": [
      "<class 'pandas.core.frame.DataFrame'>\n",
      "RangeIndex: 478967 entries, 0 to 478966\n",
      "Data columns (total 6 columns):\n",
      " #   Column                  Non-Null Count   Dtype  \n",
      "---  ------                  --------------   -----  \n",
      " 0   order_id                478967 non-null  int64  \n",
      " 1   user_id                 478967 non-null  int64  \n",
      " 2   order_number            478967 non-null  int64  \n",
      " 3   order_dow               478967 non-null  int64  \n",
      " 4   order_hour_of_day       478967 non-null  int64  \n",
      " 5   days_since_prior_order  450148 non-null  float64\n",
      "dtypes: float64(1), int64(5)\n",
      "memory usage: 21.9 MB\n"
     ]
    }
   ],
   "source": [
    "# mostrar información del DataFrame\n",
    "df_orders.info()"
   ]
  },
  {
   "cell_type": "code",
   "execution_count": 4,
   "id": "5130e05e",
   "metadata": {
    "id": "5130e05e"
   },
   "outputs": [
    {
     "name": "stdout",
     "output_type": "stream",
     "text": [
      "<class 'pandas.core.frame.DataFrame'>\n",
      "RangeIndex: 49694 entries, 0 to 49693\n",
      "Data columns (total 4 columns):\n",
      " #   Column         Non-Null Count  Dtype \n",
      "---  ------         --------------  ----- \n",
      " 0   product_id     49694 non-null  int64 \n",
      " 1   product_name   48436 non-null  object\n",
      " 2   aisle_id       49694 non-null  int64 \n",
      " 3   department_id  49694 non-null  int64 \n",
      "dtypes: int64(3), object(1)\n",
      "memory usage: 1.5+ MB\n"
     ]
    }
   ],
   "source": [
    "# mostrar información del DataFrame\n",
    "df_products.info()"
   ]
  },
  {
   "cell_type": "code",
   "execution_count": 5,
   "id": "d8370c05",
   "metadata": {
    "id": "d8370c05"
   },
   "outputs": [
    {
     "name": "stdout",
     "output_type": "stream",
     "text": [
      "<class 'pandas.core.frame.DataFrame'>\n",
      "RangeIndex: 134 entries, 0 to 133\n",
      "Data columns (total 2 columns):\n",
      " #   Column    Non-Null Count  Dtype \n",
      "---  ------    --------------  ----- \n",
      " 0   aisle_id  134 non-null    int64 \n",
      " 1   aisle     134 non-null    object\n",
      "dtypes: int64(1), object(1)\n",
      "memory usage: 2.2+ KB\n"
     ]
    }
   ],
   "source": [
    "# mostrar información del DataFrame\n",
    "df_aisles.info()"
   ]
  },
  {
   "cell_type": "code",
   "execution_count": 6,
   "id": "59e2090f",
   "metadata": {
    "id": "59e2090f"
   },
   "outputs": [
    {
     "name": "stdout",
     "output_type": "stream",
     "text": [
      "<class 'pandas.core.frame.DataFrame'>\n",
      "RangeIndex: 21 entries, 0 to 20\n",
      "Data columns (total 2 columns):\n",
      " #   Column         Non-Null Count  Dtype \n",
      "---  ------         --------------  ----- \n",
      " 0   department_id  21 non-null     int64 \n",
      " 1   department     21 non-null     object\n",
      "dtypes: int64(1), object(1)\n",
      "memory usage: 464.0+ bytes\n"
     ]
    }
   ],
   "source": [
    "# mostrar información del DataFrame\n",
    "df_departments.info()"
   ]
  },
  {
   "cell_type": "code",
   "execution_count": 7,
   "id": "6fc81694",
   "metadata": {
    "id": "6fc81694"
   },
   "outputs": [
    {
     "name": "stdout",
     "output_type": "stream",
     "text": [
      "<class 'pandas.core.frame.DataFrame'>\n",
      "RangeIndex: 4545007 entries, 0 to 4545006\n",
      "Data columns (total 4 columns):\n",
      " #   Column             Dtype  \n",
      "---  ------             -----  \n",
      " 0   order_id           int64  \n",
      " 1   product_id         int64  \n",
      " 2   add_to_cart_order  float64\n",
      " 3   reordered          int64  \n",
      "dtypes: float64(1), int64(3)\n",
      "memory usage: 138.7 MB\n"
     ]
    }
   ],
   "source": [
    "# mostrar información del DataFrame\n",
    "df_order_products.info()"
   ]
  },
  {
   "cell_type": "markdown",
   "id": "t75BD19oaR5f",
   "metadata": {
    "id": "t75BD19oaR5f"
   },
   "source": [
    "## Conclusiones\n",
    "\n",
    "Escribe aquí tus conclusiones intermedias sobre el Paso 1. Descripción de los datos.\n",
    "\n",
    "Inicialmente no podía leer correctamente los datos, revisando mis notas e investigando un poco intenté ocn \"delimiter\" y fué de gran ayuda. \n",
    "\n",
    "Además, veo que existen datos vacíos en distintas tablas. dependiendo de cómo se presenten los casos se puede manejar dicha información, aunque lo mejor sería trabajarlos desde un inicio. \n"
   ]
  },
  {
   "cell_type": "markdown",
   "id": "a90b176e",
   "metadata": {},
   "source": [
    "<div class=\"alert alert-block alert-success\">\n",
    "<b>Comentario del revisor</b> <a class=“tocSkip”></a>\n",
    "¡Felicitaciones por incluir conclusiones intermedias en su proyecto! Esto es una práctica excelente ya que ayuda a comprender mejor los datos y a tomar decisiones informadas en la siguiente etapa del análisis. Continúa haciendo esto en futuros proyectos.</div>"
   ]
  },
  {
   "cell_type": "markdown",
   "id": "8RJHqxVmaVsF",
   "metadata": {
    "id": "8RJHqxVmaVsF"
   },
   "source": [
    "# Paso 2. Preprocesamiento de los datos\n",
    "\n",
    "Preprocesa los datos de la siguiente manera:\n",
    "\n",
    "- Verifica y corrige los tipos de datos (por ejemplo, asegúrate de que las columnas de ID sean números enteros).\n",
    "- Identifica y completa los valores ausentes.\n",
    "- Identifica y elimina los valores duplicados.\n",
    "\n",
    "Asegúrate de explicar qué tipos de valores ausentes y duplicados encontraste, cómo los completaste o eliminaste y por qué usaste esos métodos. ¿Por qué crees que estos valores ausentes y duplicados pueden haber estado presentes en el conjunto de datos?\n",
    "\n",
    "**Los valores ausentes puede originarse a errores humanos al ingresar manualmente los datos, por lo que puede causar omisiones, también, el cliente pudo haber llenado el registro de una manera incompleta.**\n",
    "\n",
    "**Respecto a los valores duplicados, podrían ocurrir al comninar datos de diferentes fuentes/tablas, lo que conllevaría, nuevamente, a un error humano. Leí también que a veces ocurre por problemas en actualizaciones, ya que los registros pueden actualizarse.**"
   ]
  },
  {
   "cell_type": "markdown",
   "id": "p6poABZQaZYb",
   "metadata": {
    "id": "p6poABZQaZYb"
   },
   "source": [
    "## Plan de solución\n",
    "\n",
    "- **Verificar/convertir** \n",
    "\n",
    "    Los tipos de datos con astype() para serciorar que se trabajará con los tipos de Datos correctos.\n",
    "    \n",
    "- **Completar Valores nulos**\n",
    "    \n",
    "    luego completar valores nulos utilizando fillna() en tablas \"df_orders\" y \"df_products\", por ejemplo. Asimismo, se completaría con un valor 'Unknown'. \n",
    "\n",
    "- **Identificar y eliminar duplicados**\n",
    "    \n",
    "    Al centrarme en identificar los duplicados puedo, posteriormente eliminar/limpiar filas para una mejor lectura y comprension. Utilizaremos .duplicated().sum() y .drop_duplicates en ambos casos.\n",
    "    "
   ]
  },
  {
   "cell_type": "markdown",
   "id": "da9ee19c",
   "metadata": {},
   "source": [
    "<div class=\"alert alert-block alert-warning\">\n",
    "<b>Comentario del revisor:</b> <a class=\"tocSkip\"></a>\n",
    "Buen trabajo con el plan del proyecto, es claro y conciso. Te aconsejo sacar más partido a markdown usando opciones avanzadas. Prueba lo siguiente para usar listas y comunicar de mejor forma. \n",
    "```markdown\n",
    "## Plan de solución para el Paso 2: Preprocesamiento de los datos\n",
    "\n",
    "- **Verificar y Convertir Tipos de Datos:**\n",
    "  - Utilizar `astype()` para asegurar que los tipos de datos en los DataFrames sean correctos, especialmente para identificadores y categorías.\n",
    "\n",
    "- **Completar Valores Nulos:**\n",
    "  - Emplear `fillna()` para manejar los valores nulos en las tablas `df_orders` y `df_products`. Esto podría implicar el uso de valores promedio, medianos o un marcador como 'Desconocido'.\n",
    "\n",
    "- **Identificación y Eliminación de Duplicados:**\n",
    "  - Utilizar `.duplicated().sum()` para identificar filas duplicadas en los DataFrames necesarios.\n",
    "  - Aplicar `.drop_duplicates()` para eliminar estas filas duplicadas y limpiar los datos.\n",
    "\n",
    "Estas acciones formarán una base sólida para el análisis de datos en las siguientes etapas del proyecto.\n"
   ]
  },
  {
   "cell_type": "markdown",
   "id": "07357848-dc64-4156-9cc3-01ff4365226d",
   "metadata": {
    "id": "07357848-dc64-4156-9cc3-01ff4365226d"
   },
   "source": [
    "## Encuentra y elimina los valores duplicados (y describe cómo tomaste tus decisiones)."
   ]
  },
  {
   "cell_type": "markdown",
   "id": "f179f0a9",
   "metadata": {
    "id": "f179f0a9"
   },
   "source": [
    "### `orders` data frame"
   ]
  },
  {
   "cell_type": "code",
   "execution_count": 8,
   "id": "b99297a5-405a-463d-8535-9adc3da4ad74",
   "metadata": {
    "id": "b99297a5-405a-463d-8535-9adc3da4ad74"
   },
   "outputs": [
    {
     "name": "stdout",
     "output_type": "stream",
     "text": [
      "Los duplicados de Orders son:  15\n",
      "================================\n",
      "================================\n",
      "        order_id  user_id  order_number  order_dow  order_hour_of_day  \\\n",
      "145574    794638    50898            24          3                  2   \n",
      "223105   2160484   107525            16          3                  2   \n",
      "230807   1918001   188546            14          3                  2   \n",
      "266232   1782114   106752             1          3                  2   \n",
      "273805   1112182   202304            84          3                  2   \n",
      "284038   2845099    31189            11          3                  2   \n",
      "311713   1021560    53767             3          3                  2   \n",
      "321100    408114    68324             4          3                  2   \n",
      "323900   1919531   191501            32          3                  2   \n",
      "345917   2232988    82565             1          3                  2   \n",
      "371905    391768    57671            19          3                  2   \n",
      "394347    467134    63189            21          3                  2   \n",
      "411408   1286742   183220            48          3                  2   \n",
      "415163   2282673    86751            49          3                  2   \n",
      "441599   2125197    14050            48          3                  2   \n",
      "\n",
      "        days_since_prior_order  \n",
      "145574                     2.0  \n",
      "223105                    30.0  \n",
      "230807                    16.0  \n",
      "266232                     NaN  \n",
      "273805                     6.0  \n",
      "284038                     7.0  \n",
      "311713                     9.0  \n",
      "321100                    18.0  \n",
      "323900                     7.0  \n",
      "345917                     NaN  \n",
      "371905                    10.0  \n",
      "394347                     2.0  \n",
      "411408                     4.0  \n",
      "415163                     2.0  \n",
      "441599                     3.0  \n"
     ]
    }
   ],
   "source": [
    "# Revisa si hay pedidos duplicados\n",
    "\n",
    "print(\"Los duplicados de Orders son: \", df_orders.duplicated().sum())\n",
    "print('================================')\n",
    "print('================================')\n",
    "duplicates_df_orders = df_orders[df_orders.duplicated()]\n",
    "print(duplicates_df_orders)\n"
   ]
  },
  {
   "cell_type": "markdown",
   "id": "PEkwUX_gvt5A",
   "metadata": {
    "id": "PEkwUX_gvt5A"
   },
   "source": [
    "¿Tienes líneas duplicadas? Si sí, ¿qué tienen en común\n",
    "\n",
    "**Si, todas tienen en común que pertenecen al Miércoles (order_dow == 3)**"
   ]
  },
  {
   "cell_type": "code",
   "execution_count": 9,
   "id": "0d44de5d",
   "metadata": {
    "id": "0d44de5d"
   },
   "outputs": [
    {
     "data": {
      "text/html": [
       "<div>\n",
       "<style scoped>\n",
       "    .dataframe tbody tr th:only-of-type {\n",
       "        vertical-align: middle;\n",
       "    }\n",
       "\n",
       "    .dataframe tbody tr th {\n",
       "        vertical-align: top;\n",
       "    }\n",
       "\n",
       "    .dataframe thead th {\n",
       "        text-align: right;\n",
       "    }\n",
       "</style>\n",
       "<table border=\"1\" class=\"dataframe\">\n",
       "  <thead>\n",
       "    <tr style=\"text-align: right;\">\n",
       "      <th></th>\n",
       "      <th>order_id</th>\n",
       "      <th>user_id</th>\n",
       "      <th>order_number</th>\n",
       "      <th>order_dow</th>\n",
       "      <th>order_hour_of_day</th>\n",
       "      <th>days_since_prior_order</th>\n",
       "    </tr>\n",
       "  </thead>\n",
       "  <tbody>\n",
       "    <tr>\n",
       "      <th>4838</th>\n",
       "      <td>2766110</td>\n",
       "      <td>162084</td>\n",
       "      <td>41</td>\n",
       "      <td>3</td>\n",
       "      <td>2</td>\n",
       "      <td>16.0</td>\n",
       "    </tr>\n",
       "    <tr>\n",
       "      <th>5156</th>\n",
       "      <td>2190225</td>\n",
       "      <td>138285</td>\n",
       "      <td>18</td>\n",
       "      <td>3</td>\n",
       "      <td>2</td>\n",
       "      <td>11.0</td>\n",
       "    </tr>\n",
       "    <tr>\n",
       "      <th>15506</th>\n",
       "      <td>553049</td>\n",
       "      <td>58599</td>\n",
       "      <td>13</td>\n",
       "      <td>3</td>\n",
       "      <td>2</td>\n",
       "      <td>7.0</td>\n",
       "    </tr>\n",
       "    <tr>\n",
       "      <th>18420</th>\n",
       "      <td>382357</td>\n",
       "      <td>120200</td>\n",
       "      <td>19</td>\n",
       "      <td>3</td>\n",
       "      <td>2</td>\n",
       "      <td>11.0</td>\n",
       "    </tr>\n",
       "    <tr>\n",
       "      <th>24691</th>\n",
       "      <td>690242</td>\n",
       "      <td>77357</td>\n",
       "      <td>2</td>\n",
       "      <td>3</td>\n",
       "      <td>2</td>\n",
       "      <td>9.0</td>\n",
       "    </tr>\n",
       "  </tbody>\n",
       "</table>\n",
       "</div>"
      ],
      "text/plain": [
       "       order_id  user_id  order_number  order_dow  order_hour_of_day  \\\n",
       "4838    2766110   162084            41          3                  2   \n",
       "5156    2190225   138285            18          3                  2   \n",
       "15506    553049    58599            13          3                  2   \n",
       "18420    382357   120200            19          3                  2   \n",
       "24691    690242    77357             2          3                  2   \n",
       "\n",
       "       days_since_prior_order  \n",
       "4838                     16.0  \n",
       "5156                     11.0  \n",
       "15506                     7.0  \n",
       "18420                    11.0  \n",
       "24691                     9.0  "
      ]
     },
     "execution_count": 9,
     "metadata": {},
     "output_type": "execute_result"
    }
   ],
   "source": [
    "# Basándote en tus hallazgos,\n",
    "# Verifica todos los pedidos que se hicieron el miércoles a las 2:00 a.m.\n",
    "\n",
    "mier_2am_orders = df_orders[(df_orders['order_dow'] == 3) & (df_orders['order_hour_of_day'] == 2)]\n",
    "mier_2am_orders.head()\n"
   ]
  },
  {
   "cell_type": "markdown",
   "id": "8b4b3ac3",
   "metadata": {},
   "source": [
    "<div class=\"alert alert-block alert-warning\">\n",
    "<b>Comentario del revisor</b> <a class=“tocSkip”></a>\n",
    "\n",
    "<p>Buen trabajo, pero... Es esencial que revises todos los objetos de tipo dataframe y evites el uso de la función <code>print</code> para su visualización.</p>\n",
    "\n",
    "<p>En Jupyter Notebook, al ejecutar una celda que contiene el nombre de un dataframe, este se muestra automáticamente en un formato tabular bien estructurado, lo cual facilita su lectura y análisis. Por el contrario, cuando utilizas <code>print</code> para mostrar un dataframe, se pierde este formato, lo que resulta en una visualización menos clara y más difícil de interpretar.</p>\n",
    "\n",
    "<p>Por ejemplo, si tienes un dataframe llamado <code>df_order_products</code> y deseas visualizar sus primeras filas, simplemente escribe <code>df_order_products.head()</code> en una celda y ejecútala. Verás que el resultado es una tabla bien formateada, mucho más legible que si usaras <code>print(df_order_products.head())</code>.</p>\n",
    "\n",
    "<b>**Revisa y ajusta todos los dataframes en tu notebook para asegurar una presentación clara y profesional de tus datos.** Esta práctica no solo mejorará la estética de tu notebook, sino que también facilitará la comprensión y el análisis de los datos presentados.</b>\n",
    "\n",
    "<!-- Fin del Comentario del Revisor -->\n",
    "\n",
    "</div>"
   ]
  },
  {
   "cell_type": "markdown",
   "id": "vu2OWyoqwOx5",
   "metadata": {
    "id": "vu2OWyoqwOx5"
   },
   "source": [
    "¿Qué sugiere este resultado?\n",
    "\n",
    "que existen duplicados los días miercoles a las 2am. Sin embargo no existen duplicados en order_id"
   ]
  },
  {
   "cell_type": "code",
   "execution_count": 10,
   "id": "480563c7",
   "metadata": {
    "id": "480563c7"
   },
   "outputs": [],
   "source": [
    "# Elimina los pedidos duplicados\n",
    "df_orders = df_orders.drop_duplicates().reset_index(drop=True) #Corregido!\n"
   ]
  },
  {
   "cell_type": "markdown",
   "id": "aa826180",
   "metadata": {},
   "source": [
    "<div class=\"alert alert-block alert-danger\">\n",
    "<b>Comentario del revisor</b> <a class=“tocSkip”></a>\n",
    "Buen trabajo con utilizar la función, pero no olvides utilizar reset_index despues de operaciones destructivas a los dataframes, esto mantendrá la consistencia de los indices. </div>"
   ]
  },
  {
   "cell_type": "code",
   "execution_count": 11,
   "id": "0b2396a2",
   "metadata": {
    "id": "0b2396a2"
   },
   "outputs": [
    {
     "name": "stdout",
     "output_type": "stream",
     "text": [
      "0\n"
     ]
    }
   ],
   "source": [
    "# Vuelve a verificar si hay filas duplicadas\n",
    "print(df_orders.duplicated().sum())\n"
   ]
  },
  {
   "cell_type": "code",
   "execution_count": 12,
   "id": "f6113ef1",
   "metadata": {
    "id": "f6113ef1"
   },
   "outputs": [
    {
     "name": "stdout",
     "output_type": "stream",
     "text": [
      "0\n"
     ]
    }
   ],
   "source": [
    "# Vuelve a verificar únicamente si hay IDs duplicados de pedidos\n",
    "print(df_orders['order_id'].duplicated().sum())"
   ]
  },
  {
   "cell_type": "markdown",
   "id": "5e8905ae",
   "metadata": {
    "id": "5e8905ae"
   },
   "source": [
    "Describe brevemente tus hallazgos y lo que hiciste con ellos\n",
    "\n",
    "Primero se identificaron si existían duplicados, luego se descubrió que los duplicados, coincidentemente se presentaba los miercoles a las 2am. Luego, se eliminaron los duplicados del dataframe df_orders, posteriormente se hizo la verificación si aun quedaba duplicidad y si existían IDs duplicados de pedidos."
   ]
  },
  {
   "cell_type": "markdown",
   "id": "45e6bc46",
   "metadata": {
    "id": "45e6bc46"
   },
   "source": [
    "### `products` data frame"
   ]
  },
  {
   "cell_type": "code",
   "execution_count": 13,
   "id": "5f526b5b-8175-46fa-a0fd-441767d50e64",
   "metadata": {
    "id": "5f526b5b-8175-46fa-a0fd-441767d50e64"
   },
   "outputs": [
    {
     "name": "stdout",
     "output_type": "stream",
     "text": [
      "0\n",
      "Empty DataFrame\n",
      "Columns: [product_id, product_name, aisle_id, department_id]\n",
      "Index: []\n",
      "==================\n",
      "product_id          0\n",
      "product_name     1258\n",
      "aisle_id            0\n",
      "department_id       0\n",
      "dtype: int64\n"
     ]
    }
   ],
   "source": [
    "# Verifica si hay filas totalmente duplicadas\n",
    "print(df_products.duplicated().sum())\n",
    "print(df_products[df_products.duplicated()])\n",
    "print('==================')\n",
    "print(df_products.isnull().sum())"
   ]
  },
  {
   "cell_type": "code",
   "execution_count": 14,
   "id": "88daa4f4",
   "metadata": {
    "id": "88daa4f4"
   },
   "outputs": [
    {
     "name": "stdout",
     "output_type": "stream",
     "text": [
      "0\n"
     ]
    }
   ],
   "source": [
    "# Verifica únicamente si hay IDs duplicadas de productos\n",
    "print(df_products['product_id'].duplicated().sum())"
   ]
  },
  {
   "cell_type": "code",
   "execution_count": 15,
   "id": "c773f0bf",
   "metadata": {
    "id": "c773f0bf"
   },
   "outputs": [
    {
     "name": "stdout",
     "output_type": "stream",
     "text": [
      "1361\n"
     ]
    }
   ],
   "source": [
    "# Revisa únicamente si hay nombres duplicados de productos (convierte los nombres a letras mayúsculas para compararlos mejor)\n",
    "df_products['product_name_mayus']=df_products['product_name'].str.upper()\n",
    "dup_product_name = df_products['product_name_mayus'].duplicated().sum()\n",
    "print(dup_product_name)"
   ]
  },
  {
   "cell_type": "code",
   "execution_count": 16,
   "id": "01efd02e",
   "metadata": {
    "id": "01efd02e"
   },
   "outputs": [
    {
     "name": "stdout",
     "output_type": "stream",
     "text": [
      "104\n"
     ]
    }
   ],
   "source": [
    "# Revisa si hay nombres duplicados de productos no faltantes\n",
    "df_products_not_null = df_products.dropna(subset=['product_name'])\n",
    "dup_product_names_not_null = df_products_not_null['product_name_mayus'].duplicated().sum()\n",
    "print(dup_product_names_not_null)"
   ]
  },
  {
   "cell_type": "markdown",
   "id": "9da8d293",
   "metadata": {
    "id": "9da8d293"
   },
   "source": [
    "Describe brevemente tus hallazgos y lo que hiciste con ellos.\n",
    "\n",
    "Inicialmente no se encontraron filas enteramente duplicadas en df_products. La columna product_name contenía 1258 valores nulos. No hay IDs duplicadas en la columna product_id. Se identificaron 1361 productos. finalmente, al considerar nombres no faltantes se identificaron 104 nombres duplicados."
   ]
  },
  {
   "cell_type": "markdown",
   "id": "60f30db1",
   "metadata": {
    "id": "60f30db1"
   },
   "source": [
    "### `departments` data frame"
   ]
  },
  {
   "cell_type": "code",
   "execution_count": 17,
   "id": "fb410ad4-0fbf-4b80-bb09-23fdea79afe3",
   "metadata": {
    "id": "fb410ad4-0fbf-4b80-bb09-23fdea79afe3"
   },
   "outputs": [
    {
     "name": "stdout",
     "output_type": "stream",
     "text": [
      "0\n",
      "<class 'pandas.core.frame.DataFrame'>\n",
      "RangeIndex: 21 entries, 0 to 20\n",
      "Data columns (total 2 columns):\n",
      " #   Column         Non-Null Count  Dtype \n",
      "---  ------         --------------  ----- \n",
      " 0   department_id  21 non-null     int64 \n",
      " 1   department     21 non-null     object\n",
      "dtypes: int64(1), object(1)\n",
      "memory usage: 464.0+ bytes\n",
      "============\n",
      "Empty DataFrame\n",
      "Columns: [department_id, department]\n",
      "Index: []\n"
     ]
    }
   ],
   "source": [
    "# Revisa si hay filas totalmente duplicadas\n",
    "\n",
    "print(df_departments.duplicated().sum())\n",
    "df_departments.info()\n",
    "print('============')\n",
    "duplicates_df_departments = df_departments[df_departments.duplicated()] #en el anterior ejercicio lo he ejecutado directamente con un print. Me recomienda que cree una variable, como en este caso, o que lo llame con un print)\n",
    "print(duplicates_df_departments)\n"
   ]
  },
  {
   "cell_type": "code",
   "execution_count": 18,
   "id": "332b12bb",
   "metadata": {
    "id": "332b12bb"
   },
   "outputs": [
    {
     "name": "stdout",
     "output_type": "stream",
     "text": [
      "0\n"
     ]
    }
   ],
   "source": [
    "# Revisa únicamente si hay IDs duplicadas de productos\n",
    "print(df_departments['department_id'].duplicated().sum())"
   ]
  },
  {
   "cell_type": "markdown",
   "id": "bd30d78e",
   "metadata": {
    "id": "bd30d78e"
   },
   "source": [
    "Describe brevemente tus hallazgos y lo que hiciste con ellos.\n",
    "\n",
    "No se encontraron filas totalmente duplicadas en el DataFrame analizado. tampoco exsten ids duplicadas en la columna department_id del DataFrame df_departments."
   ]
  },
  {
   "cell_type": "markdown",
   "id": "889349c1",
   "metadata": {
    "id": "889349c1"
   },
   "source": [
    "### `aisles` data frame"
   ]
  },
  {
   "cell_type": "code",
   "execution_count": 19,
   "id": "9da89fb9-4679-40f5-ad0d-c34df753a3f8",
   "metadata": {
    "id": "9da89fb9-4679-40f5-ad0d-c34df753a3f8"
   },
   "outputs": [
    {
     "name": "stdout",
     "output_type": "stream",
     "text": [
      "Empty DataFrame\n",
      "Columns: [aisle_id, aisle]\n",
      "Index: []\n",
      "===============\n",
      "<class 'pandas.core.frame.DataFrame'>\n",
      "RangeIndex: 134 entries, 0 to 133\n",
      "Data columns (total 2 columns):\n",
      " #   Column    Non-Null Count  Dtype \n",
      "---  ------    --------------  ----- \n",
      " 0   aisle_id  134 non-null    int64 \n",
      " 1   aisle     134 non-null    object\n",
      "dtypes: int64(1), object(1)\n",
      "memory usage: 2.2+ KB\n"
     ]
    }
   ],
   "source": [
    "# Revisa si hay filas totalmente duplicadas\n",
    "duplicates_df_aisles = df_aisles[df_aisles.duplicated()]\n",
    "print(duplicates_df_aisles)\n",
    "print('===============')\n",
    "df_aisles.info() #intento llamarlo siempre para saber cómo está formado el df que analizo."
   ]
  },
  {
   "cell_type": "code",
   "execution_count": 20,
   "id": "da7c2822",
   "metadata": {
    "id": "da7c2822"
   },
   "outputs": [
    {
     "name": "stdout",
     "output_type": "stream",
     "text": [
      "0\n"
     ]
    }
   ],
   "source": [
    "# Revisa únicamente si hay IDs duplicadas de productos\n",
    "print(df_aisles['aisle_id'].duplicated().sum())"
   ]
  },
  {
   "cell_type": "markdown",
   "id": "ac63826f",
   "metadata": {
    "id": "ac63826f"
   },
   "source": [
    "Describe brevemente tus hallazgos y lo que hiciste con ellos.\n",
    "\n",
    "De la misma manera, no se encontraron filas totalmente duplicadas, asimismo, tampoco existen IDs duplicados en la columna correspondiente aisle_id."
   ]
  },
  {
   "cell_type": "markdown",
   "id": "274cd06a",
   "metadata": {
    "id": "274cd06a"
   },
   "source": [
    "### `order_products` data frame"
   ]
  },
  {
   "cell_type": "code",
   "execution_count": 21,
   "id": "52326689-84a8-4b8f-a881-7c68780f62c9",
   "metadata": {
    "id": "52326689-84a8-4b8f-a881-7c68780f62c9"
   },
   "outputs": [
    {
     "name": "stdout",
     "output_type": "stream",
     "text": [
      "Empty DataFrame\n",
      "Columns: [order_id, product_id, add_to_cart_order, reordered]\n",
      "Index: []\n",
      "===============\n",
      "<class 'pandas.core.frame.DataFrame'>\n",
      "RangeIndex: 4545007 entries, 0 to 4545006\n",
      "Data columns (total 4 columns):\n",
      " #   Column             Dtype  \n",
      "---  ------             -----  \n",
      " 0   order_id           int64  \n",
      " 1   product_id         int64  \n",
      " 2   add_to_cart_order  float64\n",
      " 3   reordered          int64  \n",
      "dtypes: float64(1), int64(3)\n",
      "memory usage: 138.7 MB\n"
     ]
    }
   ],
   "source": [
    "# Revisa si hay filas totalmente duplicadas\n",
    "duplicates_df_order_products = df_order_products[df_order_products.duplicated()]\n",
    "print(duplicates_df_order_products)\n",
    "print('===============')\n",
    "df_order_products.info()"
   ]
  },
  {
   "cell_type": "code",
   "execution_count": 22,
   "id": "7b861391",
   "metadata": {
    "id": "7b861391"
   },
   "outputs": [
    {
     "name": "stdout",
     "output_type": "stream",
     "text": [
      "Empty DataFrame\n",
      "Columns: [order_id, product_id, add_to_cart_order, reordered]\n",
      "Index: []\n"
     ]
    }
   ],
   "source": [
    "# Vuelve a verificar si hay cualquier otro duplicado engañoso\n",
    "\n",
    "# Verificar otros posibles duplicados engañosos\n",
    "other_dup_df_order_products = df_order_products[df_order_products.duplicated(subset=['order_id', 'product_id', 'add_to_cart_order', 'reordered'], keep=False)]\n",
    "print(other_dup_df_order_products)\n",
    "\n"
   ]
  },
  {
   "cell_type": "markdown",
   "id": "0b890492",
   "metadata": {
    "id": "0b890492"
   },
   "source": [
    "Describe brevemente tus hallazgos y lo que hiciste con ellos.\n",
    "\n",
    "No se encontraron filas totalmente duplicadas. También, no se encontraron posibles duplicados engañosos al considerar todas las columnas."
   ]
  },
  {
   "cell_type": "markdown",
   "id": "1e46de76",
   "metadata": {
    "id": "1e46de76"
   },
   "source": [
    "## Encuentra y elimina los valores ausentes\n",
    "\n",
    "Al trabajar con valores duplicados, pudimos observar que también nos falta investigar valores ausentes:\n",
    "\n",
    "* La columna `'product_name'` de la tabla products.\n",
    "* La columna `'days_since_prior_order'` de la tabla orders.\n",
    "* La columna `'add_to_cart_order'` de la tabla order_productos."
   ]
  },
  {
   "cell_type": "markdown",
   "id": "c0aebd78",
   "metadata": {
    "id": "c0aebd78"
   },
   "source": [
    "### `products` data frame"
   ]
  },
  {
   "cell_type": "code",
   "execution_count": 23,
   "id": "fe4a8b0f",
   "metadata": {
    "id": "fe4a8b0f"
   },
   "outputs": [
    {
     "name": "stdout",
     "output_type": "stream",
     "text": [
      "       product_id product_name  aisle_id  department_id product_name_mayus\n",
      "37             38          NaN       100             21                NaN\n",
      "71             72          NaN       100             21                NaN\n",
      "109           110          NaN       100             21                NaN\n",
      "296           297          NaN       100             21                NaN\n",
      "416           417          NaN       100             21                NaN\n",
      "...           ...          ...       ...            ...                ...\n",
      "49552       49553          NaN       100             21                NaN\n",
      "49574       49575          NaN       100             21                NaN\n",
      "49640       49641          NaN       100             21                NaN\n",
      "49663       49664          NaN       100             21                NaN\n",
      "49668       49669          NaN       100             21                NaN\n",
      "\n",
      "[1258 rows x 5 columns]\n"
     ]
    }
   ],
   "source": [
    "# Encuentra los valores ausentes en la columna 'product_name'\n",
    "\n",
    "miss_product_name = df_products[df_products['product_name'].isnull()]\n",
    "print(miss_product_name)"
   ]
  },
  {
   "cell_type": "markdown",
   "id": "-A6x1AbJhjkp",
   "metadata": {
    "id": "-A6x1AbJhjkp"
   },
   "source": [
    "Describe brevemente cuáles son tus hallazgos.\n",
    "\n",
    "Se encontraron 1258 filas de la tabla df_products que la columna 'product_name' tiene valores ausentes."
   ]
  },
  {
   "cell_type": "code",
   "execution_count": 24,
   "id": "e96167bc",
   "metadata": {
    "id": "e96167bc"
   },
   "outputs": [
    {
     "name": "stdout",
     "output_type": "stream",
     "text": [
      "       product_id product_name  aisle_id  department_id product_name_mayus\n",
      "37             38          NaN       100             21                NaN\n",
      "71             72          NaN       100             21                NaN\n",
      "109           110          NaN       100             21                NaN\n",
      "296           297          NaN       100             21                NaN\n",
      "416           417          NaN       100             21                NaN\n",
      "...           ...          ...       ...            ...                ...\n",
      "49552       49553          NaN       100             21                NaN\n",
      "49574       49575          NaN       100             21                NaN\n",
      "49640       49641          NaN       100             21                NaN\n",
      "49663       49664          NaN       100             21                NaN\n",
      "49668       49669          NaN       100             21                NaN\n",
      "\n",
      "[1258 rows x 5 columns]\n"
     ]
    }
   ],
   "source": [
    "#  ¿Todos los nombres de productos ausentes están relacionados con el pasillo con ID 100?\n",
    "\n",
    "miss_product_name_aisle100 = miss_product_name[miss_product_name['aisle_id']==100]\n",
    "print(miss_product_name_aisle100)"
   ]
  },
  {
   "cell_type": "markdown",
   "id": "WRpIfXRphpSL",
   "metadata": {
    "id": "WRpIfXRphpSL"
   },
   "source": [
    "Describe brevemente cuáles son tus hallazgos.\n",
    "\n",
    "Si, todos los nombres del pasillo id 100 son ausentes. "
   ]
  },
  {
   "cell_type": "code",
   "execution_count": 25,
   "id": "8fd0a541",
   "metadata": {
    "id": "8fd0a541"
   },
   "outputs": [
    {
     "name": "stdout",
     "output_type": "stream",
     "text": [
      "       product_id product_name  aisle_id  department_id product_name_mayus\n",
      "37             38          NaN       100             21                NaN\n",
      "71             72          NaN       100             21                NaN\n",
      "109           110          NaN       100             21                NaN\n",
      "296           297          NaN       100             21                NaN\n",
      "416           417          NaN       100             21                NaN\n",
      "...           ...          ...       ...            ...                ...\n",
      "49552       49553          NaN       100             21                NaN\n",
      "49574       49575          NaN       100             21                NaN\n",
      "49640       49641          NaN       100             21                NaN\n",
      "49663       49664          NaN       100             21                NaN\n",
      "49668       49669          NaN       100             21                NaN\n",
      "\n",
      "[1258 rows x 5 columns]\n"
     ]
    }
   ],
   "source": [
    "# ¿Todos los nombres de productos ausentes están relacionados con el departamento con ID 21?\n",
    "miss_product_name_dpt21 = miss_product_name[miss_product_name['department_id']==21]\n",
    "print(miss_product_name_dpt21)"
   ]
  },
  {
   "cell_type": "markdown",
   "id": "qDpdYn1Fht_I",
   "metadata": {
    "id": "qDpdYn1Fht_I"
   },
   "source": [
    "Describe brevemente cuáles son tus hallazgos.\n",
    "\n",
    "si, todos los nombres ausentes relacionados con department_id==21 son ausentes\n"
   ]
  },
  {
   "cell_type": "code",
   "execution_count": 26,
   "id": "325c3464",
   "metadata": {
    "id": "325c3464"
   },
   "outputs": [
    {
     "name": "stdout",
     "output_type": "stream",
     "text": [
      "       product_id product_name  aisle_id  department_id product_name_mayus\n",
      "37             38          NaN       100             21                NaN\n",
      "71             72          NaN       100             21                NaN\n",
      "109           110          NaN       100             21                NaN\n",
      "296           297          NaN       100             21                NaN\n",
      "416           417          NaN       100             21                NaN\n",
      "...           ...          ...       ...            ...                ...\n",
      "49552       49553          NaN       100             21                NaN\n",
      "49574       49575          NaN       100             21                NaN\n",
      "49640       49641          NaN       100             21                NaN\n",
      "49663       49664          NaN       100             21                NaN\n",
      "49668       49669          NaN       100             21                NaN\n",
      "\n",
      "[1258 rows x 5 columns]\n"
     ]
    }
   ],
   "source": [
    "# Usa las tablas department y aisle para revisar los datos del pasillo con ID 100 y el departamento con ID 21.\n",
    "miss_product_name_dpt21 = miss_product_name_aisle100[miss_product_name_aisle100['department_id']==21]\n",
    "print(miss_product_name_dpt21)\n"
   ]
  },
  {
   "cell_type": "markdown",
   "id": "nqhSTUPhhvEJ",
   "metadata": {
    "id": "nqhSTUPhhvEJ"
   },
   "source": [
    "Describe brevemente cuáles son tus hallazgos.\n",
    "\n",
    "\n",
    "Se puede concluir que todos los nombres de productos del aisle_id == 100 y al department_id == 21 están relacionados en que tienen valores ausentes"
   ]
  },
  {
   "cell_type": "code",
   "execution_count": 27,
   "id": "6b295120",
   "metadata": {
    "id": "6b295120"
   },
   "outputs": [
    {
     "name": "stdout",
     "output_type": "stream",
     "text": [
      "0\n",
      "===============\n",
      "product_id                 38\n",
      "product_name          Unknown\n",
      "aisle_id                  100\n",
      "department_id              21\n",
      "product_name_mayus    UNKNOWN\n",
      "Name: 37, dtype: object\n",
      "===============\n"
     ]
    }
   ],
   "source": [
    "# Completa los nombres de productos ausentes con 'Unknown'\n",
    "\n",
    "df_products['product_name'].fillna('Unknown', inplace=True)\n",
    "df_products['product_name_mayus'].fillna('UNKNOWN', inplace=True)\n",
    "print(df_products['product_name'].isnull().sum())\n",
    "print('===============')\n",
    "print(df_products.loc[37])\n",
    "print('===============')\n"
   ]
  },
  {
   "cell_type": "markdown",
   "id": "fc70e5ad",
   "metadata": {
    "id": "fc70e5ad"
   },
   "source": [
    "Describe brevemente tus hallazgos y lo que hiciste con ellos.\n",
    "\n",
    "Basicamente lo que se hizo fué cambiar todos los product_name NaN a Unknown respectivamente. Se aplicó lo mismo para la columna que creamos en mayúscula. "
   ]
  },
  {
   "cell_type": "markdown",
   "id": "7eb45c86",
   "metadata": {
    "id": "7eb45c86"
   },
   "source": [
    "### `orders` data frame"
   ]
  },
  {
   "cell_type": "code",
   "execution_count": 28,
   "id": "93e41d96",
   "metadata": {
    "id": "93e41d96"
   },
   "outputs": [
    {
     "name": "stdout",
     "output_type": "stream",
     "text": [
      "order_id                      0\n",
      "user_id                       0\n",
      "order_number                  0\n",
      "order_dow                     0\n",
      "order_hour_of_day             0\n",
      "days_since_prior_order    28817\n",
      "dtype: int64\n"
     ]
    }
   ],
   "source": [
    "# Encuentra los valores ausentes\n",
    "miss_df_orders = df_orders.isnull().sum()\n",
    "print(miss_df_orders)"
   ]
  },
  {
   "cell_type": "code",
   "execution_count": 29,
   "id": "166e5a86",
   "metadata": {
    "id": "166e5a86"
   },
   "outputs": [
    {
     "name": "stdout",
     "output_type": "stream",
     "text": [
      "Empty DataFrame\n",
      "Columns: [order_id, user_id, order_number, order_dow, order_hour_of_day, days_since_prior_order]\n",
      "Index: []\n"
     ]
    }
   ],
   "source": [
    "# ¿Hay algún valor ausente que no sea el primer pedido del cliente?\n",
    "miss_df_order_noprior = df_orders[(df_orders['days_since_prior_order'].isnull())&(df_orders['order_number']>1)]\n",
    "print(miss_df_order_noprior)"
   ]
  },
  {
   "cell_type": "markdown",
   "id": "4e23d089",
   "metadata": {
    "id": "4e23d089"
   },
   "source": [
    "Describe brevemente tus hallazgos y lo que hiciste con ellos.\n",
    "\n",
    "Los valores ausentes en esta columna corresponden al primer pedido de cada cliente. Esto puede ser útil si se desea tratar de una manera particular estos valores ausentes a diferencia del resto."
   ]
  },
  {
   "cell_type": "markdown",
   "id": "69dc9ca4",
   "metadata": {
    "id": "69dc9ca4"
   },
   "source": [
    "### `order_products` data frame"
   ]
  },
  {
   "cell_type": "code",
   "execution_count": 30,
   "id": "b8240253",
   "metadata": {
    "id": "b8240253"
   },
   "outputs": [
    {
     "name": "stdout",
     "output_type": "stream",
     "text": [
      "order_id               0\n",
      "product_id             0\n",
      "add_to_cart_order    836\n",
      "reordered              0\n",
      "dtype: int64\n"
     ]
    }
   ],
   "source": [
    "# Encuentra los valores ausentes\n",
    "miss_df_order_products = df_order_products.isnull().sum()\n",
    "print(miss_df_order_products)"
   ]
  },
  {
   "cell_type": "code",
   "execution_count": 31,
   "id": "9a78e5ee",
   "metadata": {
    "id": "9a78e5ee"
   },
   "outputs": [
    {
     "name": "stdout",
     "output_type": "stream",
     "text": [
      "1.0\n",
      "64.0\n"
     ]
    }
   ],
   "source": [
    "# ¿Cuáles son los valores mínimos y máximos en esta columna?\n",
    "minvalues_miss_df_order_products = df_order_products['add_to_cart_order'].min()\n",
    "maxvalues_miss_df_order_products = df_order_products['add_to_cart_order'].max()\n",
    "print(minvalues_miss_df_order_products)\n",
    "print(maxvalues_miss_df_order_products)"
   ]
  },
  {
   "cell_type": "markdown",
   "id": "-Z2Ja215jW78",
   "metadata": {
    "id": "-Z2Ja215jW78"
   },
   "source": [
    "Describe brevemente cuáles son tus hallazgos.\n",
    "\n",
    "El valor minimo para agregar al carrito es 1 y el máximo es 64. \n"
   ]
  },
  {
   "cell_type": "code",
   "execution_count": 32,
   "id": "ab9d0c2b",
   "metadata": {
    "id": "ab9d0c2b"
   },
   "outputs": [
    {
     "name": "stdout",
     "output_type": "stream",
     "text": [
      "[2449164 1968313 2926893 1717990 1959075  844733   61355  936852  264710\n",
      " 1564093  129627  293169 2849370 1386261 3308010  903110 2136777 3347453\n",
      " 1888628  165801 2094761 1038146 2997021  813364 2256933  171934 2409109\n",
      " 1730767 1169835  733526  404157 3125735  747668 1800005 1961723  871281\n",
      "  388234 1648217 1477139  102236 1021563 1832957 2721963  678116 1220886\n",
      " 1673227 2999801 1633337 2470674 2625444 1677118 2479011 3383594 1183255\n",
      " 1713430 2652650 1598369 1916118  854647 1302315  888470  180546 2621907\n",
      " 1308785 2729254    9310 2170451 2979697 1625713 1529171]\n"
     ]
    }
   ],
   "source": [
    "# Guarda todas las IDs de pedidos que tengan un valor ausente en 'add_to_cart_order'\n",
    "missing_add_to_cart_order_ids = df_order_products[df_order_products['add_to_cart_order'].isnull()]['order_id'].unique()\n",
    "print(missing_add_to_cart_order_ids)\n",
    "\n"
   ]
  },
  {
   "cell_type": "code",
   "execution_count": 33,
   "id": "54c31695",
   "metadata": {
    "id": "54c31695"
   },
   "outputs": [
    {
     "name": "stdout",
     "output_type": "stream",
     "text": [
      "True\n",
      "Valor mínimo del conteo de 'product_id' en pedidos con datos ausentes: 65\n"
     ]
    }
   ],
   "source": [
    "# ¿Todos los pedidos con valores ausentes tienen más de 64 productos?\n",
    "missing_add_to_cart_order_products = df_order_products[df_order_products['order_id'].isin(missing_add_to_cart_order_ids)]\n",
    "all_orders_have_more64p = all(missing_add_to_cart_order_products.groupby('order_id')['product_id'].count() > 64)\n",
    "print(all_orders_have_more64p)\n",
    "\n",
    "\n",
    "# Agrupa todos los pedidos con datos ausentes por su ID de pedido.\n",
    "missing_add_to_cart_order_groups = missing_add_to_cart_order_products.groupby('order_id')['product_id'].count()\n",
    "\n",
    "\n",
    "# Cuenta el número de 'product_id' en cada pedido y revisa el valor mínimo del conteo.\n",
    "min_missing_add_to_cart_order_count = missing_add_to_cart_order_groups.min()\n",
    "\n",
    "print(f\"Valor mínimo del conteo de 'product_id' en pedidos con datos ausentes: {min_missing_add_to_cart_order_count}\")"
   ]
  },
  {
   "cell_type": "markdown",
   "id": "p9V6pddtjglj",
   "metadata": {
    "id": "p9V6pddtjglj"
   },
   "source": [
    "Describe brevemente cuáles son tus hallazgos.\n",
    "\n",
    "El resultado indica que todos los pedidos con valores ausentes en 'add_to_cart_order' tienen más de 64 productos. El valor minimo de conteo de product_id en estos pedidos es 64. tal vez no se ingresaron correctamente en add_to_cart_order"
   ]
  },
  {
   "cell_type": "code",
   "execution_count": 34,
   "id": "7a987d08",
   "metadata": {
    "id": "7a987d08"
   },
   "outputs": [
    {
     "name": "stdout",
     "output_type": "stream",
     "text": [
      "0\n",
      "int64\n"
     ]
    }
   ],
   "source": [
    "# Remplaza los valores ausentes en la columna 'add_to_cart? con 999 y convierte la columna al tipo entero.\n",
    "df_order_products['add_to_cart_order'].fillna(999, inplace=True)\n",
    "df_order_products['add_to_cart_order'] = df_order_products['add_to_cart_order'].astype(int)\n",
    "\n",
    "print(df_order_products['add_to_cart_order'].isnull().sum())\n",
    "print(df_order_products['add_to_cart_order'].dtype)\n",
    "\n",
    "\n"
   ]
  },
  {
   "cell_type": "markdown",
   "id": "fea4bcc7",
   "metadata": {
    "id": "fea4bcc7"
   },
   "source": [
    "Describe brevemente tus hallazgos y lo que hiciste con ellos.\n",
    "\n",
    "Al tener valores nulos en 0 y el tipo de dato sea int64 indique que se realizó correctamente la sustitución de valores nulos por 999 y se convirtió en tipo de dato entero. "
   ]
  },
  {
   "cell_type": "markdown",
   "id": "e7c5d35a",
   "metadata": {},
   "source": [
    "<div class=\"alert alert-block alert-success\">\n",
    "<b>Comentario del revisor</b> <a class=“tocSkip”></a>\n",
    "¡Muy bien! 👏👏 Los cálculos de esta sección están correctos y eso es un gran logro. Sigue así y verás cómo poco a poco te irás convirtiendo en un experto en esta área. 💪💻</div>"
   ]
  },
  {
   "cell_type": "markdown",
   "id": "RnplPFY1gSrb",
   "metadata": {
    "id": "RnplPFY1gSrb"
   },
   "source": [
    "## Conclusiones\n",
    "\n",
    "Escribe aquí tus conclusiones intermedias sobre el Paso 2. Preprocesamiento de los datos\n",
    "\n",
    "Se verificaron y corrigieron los tipos de datos en los DF para asegurarse que las columnas ID sean numeros enteros. \n",
    "También se identidicaron y revisaron valores ausentes como en 'product_name' en el df de productos, 'days_since_prior_order' en df de pedidos y 'add_to_cart_order' en el df de pedidos. \n",
    "Se completaron valores ausentes utilizando diferentes estrategias como llenar con Unkown y 999 para que no existan datos vacíos. \n",
    "\n",
    "Se identificaron y eliminaron valores duplicados en varios DF, se utilizaron estrategias especificas como la verificacion de pedidos realizados en un día y una hora para determinar cierta duplicidad. \n",
    "\n",
    "En síntesis, el paso 2 fue exitoso en la corrección de datos, identificacion y manejo de valores ausentes, asi como la eliminacion de valores duplicados. \n",
    "\n",
    "Si bien es cierto, existe un mundo de posibilidades para saber qué hacer exactamente con los datos, las guías que proporcionan son de gran ayuda ya que uno va generando un criterio para ir encontrando respuestas."
   ]
  },
  {
   "cell_type": "markdown",
   "id": "UjrOIwTcz3ri",
   "metadata": {
    "id": "UjrOIwTcz3ri"
   },
   "source": [
    "# Paso 3. Análisis de los datos\n",
    "\n",
    "Una vez los datos estén procesados y listos, haz el siguiente análisis:"
   ]
  },
  {
   "cell_type": "markdown",
   "id": "turkish-kidney",
   "metadata": {
    "id": "turkish-kidney"
   },
   "source": [
    "# [A] Fácil (deben completarse todos para aprobar)\n",
    "\n",
    "1. Verifica que los valores en las columnas `'order_hour_of_day'` y `'order_dow'` en la tabla orders sean razonables (es decir, `'order_hour_of_day'` oscile entre 0 y 23 y `'order_dow'` oscile entre 0 y 6).\n",
    "2. Crea un gráfico que muestre el número de personas que hacen pedidos dependiendo de la hora del día.\n",
    "3. Crea un gráfico que muestre qué día de la semana la gente hace sus compras.\n",
    "4. Crea un gráfico que muestre el tiempo que la gente espera hasta hacer su siguiente pedido, y comenta sobre los valores mínimos y máximos."
   ]
  },
  {
   "cell_type": "markdown",
   "id": "short-capability",
   "metadata": {
    "id": "short-capability"
   },
   "source": [
    "### [A1] Verifica que los valores sean sensibles"
   ]
  },
  {
   "cell_type": "code",
   "execution_count": 35,
   "id": "growing-fruit",
   "metadata": {
    "id": "growing-fruit"
   },
   "outputs": [
    {
     "name": "stdout",
     "output_type": "stream",
     "text": [
      "Valores únicos en 'order_hour_of_day': [13 12 19 20 11  8 18 15 16  9 22 10  0 14 17  1  7  6  2 21  3 23  5  4]\n",
      "Valores únicos en 'order_dow': [6 5 0 4 3 1 2]\n"
     ]
    }
   ],
   "source": [
    "\n",
    "unique_hours = df_orders['order_hour_of_day'].unique()\n",
    "print(\"Valores únicos en 'order_hour_of_day':\", unique_hours)\n",
    "\n",
    "unique_days = df_orders['order_dow'].unique()\n",
    "print(\"Valores únicos en 'order_dow':\", unique_days)\n"
   ]
  },
  {
   "cell_type": "code",
   "execution_count": null,
   "id": "accessory-malaysia",
   "metadata": {
    "id": "accessory-malaysia"
   },
   "outputs": [],
   "source": []
  },
  {
   "cell_type": "markdown",
   "id": "hmR2GNQ6lCsX",
   "metadata": {
    "id": "hmR2GNQ6lCsX"
   },
   "source": [
    "Escribe aquí tus conclusiones\n",
    "\n",
    "Efectivamente, los valores en ambas columnas son razonables y se encuentran dentro del rango esperado. "
   ]
  },
  {
   "cell_type": "markdown",
   "id": "a6743a70",
   "metadata": {
    "id": "a6743a70"
   },
   "source": [
    "### [A2] Para cada hora del día, ¿cuántas personas hacen órdenes?"
   ]
  },
  {
   "cell_type": "code",
   "execution_count": 57,
   "id": "a36cca27",
   "metadata": {
    "id": "a36cca27"
   },
   "outputs": [
    {
     "data": {
      "image/png": "[encoded data removed]",
      "text/plain": [
       "<Figure size 432x288 with 1 Axes>"
      ]
     },
     "metadata": {
      "needs_background": "light"
     },
     "output_type": "display_data"
    }
   ],
   "source": [
    "\n",
    "# Crear un DataFrame con el conteo de pedidos por hora del día\n",
    "hourly_order_count = df_orders['order_hour_of_day'].value_counts().sort_index()\n",
    "df_hourly_order_count = pd.DataFrame({'Hora del Día': hourly_order_count.index, 'Número de Pedidos': hourly_order_count.values})\n",
    "\n",
    "# Gráfico de barras con el formato deseado\n",
    "df_hourly_order_count.plot(\n",
    "    x='Hora del Día',\n",
    "    y='Número de Pedidos',\n",
    "    kind='bar',\n",
    "    title='Número de Personas que Hacen Pedidos por Hora del Día',\n",
    "    xlabel='Hora del Día',\n",
    "    ylabel='Número de Pedidos',\n",
    "    legend=False  \n",
    ")\n",
    "\n",
    "plt.show()    #Corregido!\n",
    "\n"
   ]
  },
  {
   "cell_type": "markdown",
   "id": "1b310d1a",
   "metadata": {},
   "source": [
    "<div class=\"alert alert-block alert-danger\">\n",
    "<b>Comentario del revisor</b> <a class=“tocSkip”></a>\n",
    "¡Muy bien! la gráfica y la operación es correcta. Sin embargo, no olvides mantener la seccio4n de imports al inicio del notebook para evitar carga duplicada de paqueteds</div>"
   ]
  },
  {
   "cell_type": "markdown",
   "id": "11270eed",
   "metadata": {
    "id": "11270eed"
   },
   "source": [
    "Escribe aquí tus \n",
    "\n",
    "Existe, claramente, un alta significativa desde las 9 hasta las 5. Horas en las que las personas podrían pedir para su desayuno, almuerzo y merienda. Luego sufre una caída según pasan las horas, sin embargo, no llega a ser cero, ya que se refleja que hay personas que también piden de noche. "
   ]
  },
  {
   "cell_type": "markdown",
   "id": "documented-command",
   "metadata": {
    "id": "documented-command"
   },
   "source": [
    "### [A3] ¿Qué día de la semana compran víveres las personas?"
   ]
  },
  {
   "cell_type": "code",
   "execution_count": 58,
   "id": "chief-digit",
   "metadata": {
    "id": "chief-digit"
   },
   "outputs": [
    {
     "data": {
      "image/png": "[encoded data removed]",
      "text/plain": [
       "<Figure size 432x288 with 1 Axes>"
      ]
     },
     "metadata": {
      "needs_background": "light"
     },
     "output_type": "display_data"
    }
   ],
   "source": [
    "\n",
    "# conteo de pedidos por día de la semana\n",
    "weekday_order_count = df_orders['order_dow'].value_counts().sort_index()\n",
    "df_weekday_order_count = pd.DataFrame({'Día de la Semana': weekday_order_count.index, 'Número de Pedidos': weekday_order_count.values})\n",
    "\n",
    "# mapear días de la semana\n",
    "mapeo = {0: 'Domingo', 1: 'Lunes', 2: 'Martes', 3: 'Miércoles', 4: 'Jueves', 5: 'Viernes', 6: 'Sábado'}\n",
    "df_weekday_order_count['Día de la Semana'] = df_weekday_order_count['Día de la Semana'].map(mapeo)\n",
    "# curiosidad: el .map() lo ví por primera vez en kaggle y me pareció de gran ayuda en este caso\n",
    "\n",
    "# Gráfico de barras\n",
    "df_weekday_order_count.plot(\n",
    "    x='Día de la Semana',\n",
    "    y='Número de Pedidos',\n",
    "    kind='bar',\n",
    "    title='Número de Pedidos por Día de la Semana',\n",
    "    xlabel='Día de la Semana',\n",
    "    ylabel='Número de Pedidos',\n",
    "    legend=False  \n",
    ")\n",
    "\n",
    "plt.show()  #Corregido!\n"
   ]
  },
  {
   "cell_type": "markdown",
   "id": "2ac91fd2",
   "metadata": {},
   "source": [
    "<div class=\"alert alert-block alert-danger\">\n",
    "<b>Comentario del revisor</b> <a class=“tocSkip”></a>\n",
    "¡Muy bien! la gráfica y la operación es correcta. Sin embargo, no olvides mantener la seccio4n de imports al inicio del notebook para evitar carga duplicada de paqueteds</div>"
   ]
  },
  {
   "cell_type": "markdown",
   "id": "dominant-lightning",
   "metadata": {
    "id": "dominant-lightning"
   },
   "source": [
    "Escribe aquí tus conclusiones\n",
    "\n",
    "Los días en los que más se realizan compras son los domingos y lunes. y en los que menos los Miércoles y jueves. Teniendo estos opuestos se pueden tomar decisiones. "
   ]
  },
  {
   "cell_type": "markdown",
   "id": "cutting-concert",
   "metadata": {
    "id": "cutting-concert"
   },
   "source": [
    "### [A4] ¿Cuánto tiempo esperan las personas hasta hacer otro pedido? Comenta sobre los valores mínimos y máximos."
   ]
  },
  {
   "cell_type": "code",
   "execution_count": 59,
   "id": "c231f523",
   "metadata": {
    "id": "c231f523"
   },
   "outputs": [
    {
     "data": {
      "image/png": "[encoded data removed]",
      "text/plain": [
       "<Figure size 432x288 with 1 Axes>"
      ]
     },
     "metadata": {
      "needs_background": "light"
     },
     "output_type": "display_data"
    }
   ],
   "source": [
    "\n",
    "df_orders_cleaned = df_orders.dropna(subset=['days_since_prior_order'])\n",
    "\n",
    "#gráfico de barras\n",
    "plt.bar(df_orders_cleaned['days_since_prior_order'].value_counts().index,\n",
    "        df_orders_cleaned['days_since_prior_order'].value_counts().values,\n",
    "        color='skyblue')\n",
    "\n",
    "plt.title('Frecuencia del Tiempo hasta la Siguiente Orden')\n",
    "plt.xlabel('Días hasta la Siguiente Orden')\n",
    "plt.ylabel('Número de Pedidos')\n",
    "plt.grid(axis='y', linestyle='--', alpha=0.7)\n",
    "plt.show()\n",
    "\n",
    "\n",
    "#Corregido!\n"
   ]
  },
  {
   "cell_type": "markdown",
   "id": "discrete-vertex",
   "metadata": {
    "id": "discrete-vertex"
   },
   "source": [
    "Escribe aquí tus conclusiones\n",
    "\n",
    "Aproximadamente, en el día 7 y 30 es donde realizan más pedidos. y donde hacen menos es en el día 25"
   ]
  },
  {
   "cell_type": "markdown",
   "id": "47127da1",
   "metadata": {},
   "source": [
    "<div class=\"alert alert-block alert-success\">\n",
    "<b>Comentario del revisor</b> <a class=“tocSkip”></a>\n",
    "<p>Gran trabajo en esta sección. Las verificaciones y visualizaciones son claras y efectivas. Destaca el uso adecuado de <strong>value_counts</strong> y <strong>count</strong> para el análisis. Ahora, te animo a <strong>dedicar tiempo mejorar el estilo de código removiendo imports duplicados. </strong> para resaltar los hallazgos más significativos de tu análisis.</p>\n",
    "<p>¡Continúa con este excelente enfoque!</p></div>\n"
   ]
  },
  {
   "cell_type": "markdown",
   "id": "tight-staff",
   "metadata": {
    "id": "tight-staff"
   },
   "source": [
    "# [B] Intermedio (deben completarse todos para aprobar)\n",
    "\n",
    "1. ¿Existe alguna diferencia entre las distribuciones `'order_hour_of_day'` de los miércoles y los sábados? Traza gráficos de barra de `'order_hour_of_day'` para ambos días en la misma figura y describe las diferencias que observes.\n",
    "2. Grafica la distribución para el número de órdenes que hacen los clientes (es decir, cuántos clientes hicieron solo 1 pedido, cuántos hicieron 2, cuántos 3, y así sucesivamente...).\n",
    "3. ¿Cuáles son los 20 principales productos que se piden con más frecuencia (muestra su identificación y nombre)?"
   ]
  },
  {
   "cell_type": "markdown",
   "id": "packed-classic",
   "metadata": {
    "id": "packed-classic"
   },
   "source": [
    "### [B1] Diferencia entre miércoles y sábados para  `'order_hour_of_day'`. Traza gráficos de barra para los dos días y describe las diferencias que veas."
   ]
  },
  {
   "cell_type": "code",
   "execution_count": null,
   "id": "d89b8403",
   "metadata": {
    "id": "d89b8403"
   },
   "outputs": [],
   "source": []
  },
  {
   "cell_type": "code",
   "execution_count": 39,
   "id": "94e54e8a",
   "metadata": {
    "id": "94e54e8a"
   },
   "outputs": [
    {
     "data": {
      "image/png": "[encoded data removed]",
      "text/plain": [
       "<Figure size 432x288 with 1 Axes>"
      ]
     },
     "metadata": {
      "needs_background": "light"
     },
     "output_type": "display_data"
    }
   ],
   "source": [
    "import pandas as pd\n",
    "import matplotlib.pyplot as plt\n",
    "\n",
    "# obtener solo los miércoles y sábados\n",
    "df_wednesday = df_orders[df_orders['order_dow'] == 3]  \n",
    "df_saturday = df_orders[df_orders['order_dow'] == 5]   \n",
    "\n",
    "# Crea un gráfico de barras para comparar las distribuciones\n",
    "plt.bar(df_wednesday['order_hour_of_day'].value_counts().index,\n",
    "        df_wednesday['order_hour_of_day'].value_counts().values,\n",
    "        color='red',\n",
    "        alpha=0.7,\n",
    "        label='Miércoles')\n",
    "\n",
    "plt.bar(df_saturday['order_hour_of_day'].value_counts().index,\n",
    "        df_saturday['order_hour_of_day'].value_counts().values,\n",
    "        color='green',\n",
    "        alpha=0.7,\n",
    "        label='Sábado')\n",
    "\n",
    "plt.title('Distribución de pedidos/hora entre Miércoles y Sábado')\n",
    "plt.xlabel('Hora del Día')\n",
    "plt.ylabel('Número de Pedidos')\n",
    "plt.legend()\n",
    "plt.show()\n"
   ]
  },
  {
   "cell_type": "code",
   "execution_count": null,
   "id": "797c90a8",
   "metadata": {
    "id": "797c90a8"
   },
   "outputs": [],
   "source": []
  },
  {
   "cell_type": "code",
   "execution_count": null,
   "id": "35bcea30",
   "metadata": {
    "id": "35bcea30"
   },
   "outputs": [],
   "source": []
  },
  {
   "cell_type": "markdown",
   "id": "charitable-congo",
   "metadata": {
    "id": "charitable-congo"
   },
   "source": [
    "Escribe aquí tus conclusiones\n",
    "\n",
    "Se observa que el numero de pedidos, en los días Miércoles y sábado son similares, sin embargo, en los puntos máximos de pedidos de ambos días (de 10hrs a 15hrs en ambos casos), el día sábado lo supera por poco. "
   ]
  },
  {
   "cell_type": "markdown",
   "id": "e3891143",
   "metadata": {
    "id": "e3891143"
   },
   "source": [
    "### [B2] ¿Cuál es la distribución para el número de pedidos por cliente?"
   ]
  },
  {
   "cell_type": "code",
   "execution_count": 40,
   "id": "d8c26c23",
   "metadata": {
    "id": "d8c26c23"
   },
   "outputs": [
    {
     "data": {
      "image/png": "[encoded data removed]",
      "text/plain": [
       "<Figure size 432x288 with 1 Axes>"
      ]
     },
     "metadata": {
      "needs_background": "light"
     },
     "output_type": "display_data"
    }
   ],
   "source": [
    "import pandas as pd\n",
    "import matplotlib.pyplot as plt\n",
    "\n",
    "# Asegúrate de que df_orders contenga la columna 'user_id' y 'order_number'\n",
    "# df_orders = ...\n",
    "\n",
    "# Calcula el número de órdenes por cliente\n",
    "orders_per_user = df_orders.groupby('user_id')['order_number'].max()\n",
    "\n",
    "# Cuenta la frecuencia de cada número de órdenes\n",
    "order_counts = orders_per_user.value_counts().sort_index()\n",
    "\n",
    "# Crea un gráfico de barras para la distribución\n",
    "plt.bar(order_counts.index, order_counts.values, color='green', alpha=0.7)\n",
    "plt.title('Distribución del Número de Órdenes por Cliente')\n",
    "plt.xlabel('Número de Órdenes')\n",
    "plt.ylabel('Número de Clientes')\n",
    "plt.show()\n"
   ]
  },
  {
   "cell_type": "code",
   "execution_count": null,
   "id": "00e69a66",
   "metadata": {
    "id": "00e69a66"
   },
   "outputs": [],
   "source": []
  },
  {
   "cell_type": "markdown",
   "id": "d2eff7d5",
   "metadata": {
    "id": "d2eff7d5"
   },
   "source": [
    "Escribe aquí tus conclusiones\n",
    "\n",
    "El numero de ordenes por clientes es mayor al inicio. Posee una tendencia de mayor uso del servicio al inicio. Teniendo su clientela recurrente del servicio muy baja en el transcurso del tiempo, ya que pocos son los que sobrepasan las 20 ordenes por cliente. "
   ]
  },
  {
   "cell_type": "markdown",
   "id": "54a0319c",
   "metadata": {
    "id": "54a0319c"
   },
   "source": [
    "### [B3] ¿Cuáles son los 20 productos más populares (muestra su ID y nombre)?"
   ]
  },
  {
   "cell_type": "code",
   "execution_count": null,
   "id": "exterior-arizona",
   "metadata": {
    "id": "exterior-arizona",
    "scrolled": true
   },
   "outputs": [],
   "source": []
  },
  {
   "cell_type": "code",
   "execution_count": 41,
   "id": "universal-facial",
   "metadata": {
    "id": "universal-facial"
   },
   "outputs": [
    {
     "name": "stdout",
     "output_type": "stream",
     "text": [
      "       product_id              product_name\n",
      "5875         5876             Organic Lemon\n",
      "8276         8277  Apple Honeycrisp Organic\n",
      "13175       13176    Bag of Organic Bananas\n",
      "16796       16797              Strawberries\n",
      "21136       21137      Organic Strawberries\n",
      "21902       21903      Organic Baby Spinach\n",
      "22934       22935      Organic Yellow Onion\n",
      "24851       24852                    Banana\n",
      "24963       24964            Organic Garlic\n",
      "26208       26209                     Limes\n",
      "27844       27845        Organic Whole Milk\n",
      "27965       27966       Organic Raspberries\n",
      "28203       28204        Organic Fuji Apple\n",
      "39274       39275       Organic Blueberries\n",
      "40705       40706    Organic Grape Tomatoes\n",
      "45006       45007          Organic Zucchini\n",
      "47208       47209      Organic Hass Avocado\n",
      "47625       47626               Large Lemon\n",
      "47765       47766           Organic Avocado\n",
      "49682       49683            Cucumber Kirby\n"
     ]
    }
   ],
   "source": [
    "import pandas as pd\n",
    "\n",
    "# Combinando df_order_products y df_products para obtener información sobre los productos\n",
    "merged_df = pd.merge(df_order_products, df_products[['product_id', 'product_name']], on='product_id', how='inner')\n",
    "\n",
    "# frecuencia de cada producto\n",
    "top_products = merged_df['product_id'].value_counts().head(20)\n",
    "\n",
    "# Muestra la identificación y el nombre de los 20 principales productos\n",
    "top_products_info = df_products[df_products['product_id'].isin(top_products.index)][['product_id', 'product_name']].drop_duplicates()\n",
    "\n",
    "print(top_products_info)\n"
   ]
  },
  {
   "cell_type": "markdown",
   "id": "e154691c",
   "metadata": {
    "id": "bbcdd20b"
   },
   "source": [
    "<div class=\"alert alert-block alert-success\">\n",
    "<b>Comentario del revisor</b> <a class=“tocSkip”></a>\n",
    "<p>Gran trabajo. La respuesta es correcta. Bien hecho al hacer los merge y manejar el conteo. "
   ]
  },
  {
   "cell_type": "markdown",
   "id": "7df00f47",
   "metadata": {
    "id": "7df00f47"
   },
   "source": [
    "Escribe aquí tus conclusiones\n",
    "\n",
    "Los 20 productos mas populares se muestran en la lista. Todos liderados por el Limon orgánico con el product_od 5876. "
   ]
  },
  {
   "cell_type": "markdown",
   "id": "gross-theme",
   "metadata": {
    "id": "gross-theme"
   },
   "source": [
    "# [C] Difícil (deben completarse todos para aprobar)\n",
    "\n",
    "1. ¿Cuántos artículos suelen comprar las personas en un pedido? ¿Cómo es la distribución?\n",
    "2. ¿Cuáles son los 20 principales artículos que vuelven a pedirse con mayor frecuencia (muestra sus nombres e IDs de los productos)?\n",
    "3. Para cada producto, ¿cuál es la tasa de repetición del pedido (número de repeticiones de pedido/total de pedidos?\n",
    "4. Para cada cliente, ¿qué proporción de los productos que pidió ya los había pedido? Calcula la tasa de repetición de pedido para cada usuario en lugar de para cada producto.\n",
    "5. ¿Cuáles son los 20 principales artículos que la gente pone primero en sus carritos (muestra las IDs de los productos, sus nombres, y el número de veces en que fueron el primer artículo en añadirse al carrito)?"
   ]
  },
  {
   "cell_type": "markdown",
   "id": "romantic-deposit",
   "metadata": {
    "id": "romantic-deposit"
   },
   "source": [
    "### [C1] ¿Cuántos artículos compran normalmente las personas en un pedido? ¿Cómo es la distribución?"
   ]
  },
  {
   "cell_type": "code",
   "execution_count": 60,
   "id": "virtual-punch",
   "metadata": {
    "id": "virtual-punch"
   },
   "outputs": [],
   "source": [
    "\n",
    "products_per_order = df_order_products.groupby('order_id')['product_id'].count()"
   ]
  },
  {
   "cell_type": "code",
   "execution_count": 61,
   "id": "sensitive-breathing",
   "metadata": {
    "id": "sensitive-breathing",
    "scrolled": true
   },
   "outputs": [
    {
     "data": {
      "image/png": "[encoded data removed]",
      "text/plain": [
       "<Figure size 720x432 with 1 Axes>"
      ]
     },
     "metadata": {
      "needs_background": "light"
     },
     "output_type": "display_data"
    }
   ],
   "source": [
    "# Visualiza la distribución con un histograma\n",
    "plt.figure(figsize=(10, 6))\n",
    "plt.hist(products_per_order, bins=30, color='skyblue', edgecolor='black')\n",
    "plt.title('Distribución del número de productos por pedido')\n",
    "plt.xlabel('Número de productos por pedido')\n",
    "plt.ylabel('Frecuencia')\n",
    "plt.grid(axis='y', linestyle='--', alpha=0.7)\n",
    "plt.show()"
   ]
  },
  {
   "cell_type": "code",
   "execution_count": 62,
   "id": "completed-frank",
   "metadata": {
    "id": "completed-frank"
   },
   "outputs": [
    {
     "name": "stdout",
     "output_type": "stream",
     "text": [
      "count    450046.000000\n",
      "mean         10.098983\n",
      "std           7.540206\n",
      "min           1.000000\n",
      "25%           5.000000\n",
      "50%           8.000000\n",
      "75%          14.000000\n",
      "max         127.000000\n",
      "Name: product_id, dtype: float64\n"
     ]
    }
   ],
   "source": [
    "print(products_per_order.describe())"
   ]
  },
  {
   "cell_type": "markdown",
   "id": "designed-mortality",
   "metadata": {
    "id": "designed-mortality"
   },
   "source": [
    "Escribe aquí tus conclusiones\n",
    "\n",
    "Se puede observar que la frecuencia de numero de productos por pedidos es cada vez más alta al inicio. Asimismo, en promedio es de 10 teniendo en cuenta que el pedido minimo es de 1 y máximo de 127."
   ]
  },
  {
   "cell_type": "markdown",
   "id": "5e6b5537",
   "metadata": {
    "id": "5e6b5537"
   },
   "source": [
    "### [C2] ¿Cuáles son los 20 principales artículos que vuelven a pedirse con mayor frecuencia (muestra sus nombres e IDs de los productos)?"
   ]
  },
  {
   "cell_type": "code",
   "execution_count": 63,
   "id": "9374e55a",
   "metadata": {
    "id": "9374e55a"
   },
   "outputs": [],
   "source": [
    "import pandas as pd\n",
    "\n",
    "# Agrupa por producto y cuenta la frecuencia de reorden\n",
    "product_reordered_counts = df_order_products.groupby('product_id')['reordered'].mean()  #Corregido!\n",
    "\n",
    "# Ordena los productos por frecuencia de reorden en orden descendente\n",
    "top_reordered_products = product_reordered_counts.sort_values(ascending=False).head(20)"
   ]
  },
  {
   "cell_type": "markdown",
   "id": "ef1ee56f",
   "metadata": {},
   "source": [
    "<div class=\"alert alert-block alert-danger\">\n",
    "<b>Comentario del revisor</b> <a class=“tocSkip”></a>\n",
    "Reorder nos indica una <b>proporción</b> por lo tanto debes usar la función mean() y no sum()</div>\n"
   ]
  },
  {
   "cell_type": "code",
   "execution_count": 64,
   "id": "possible-change",
   "metadata": {
    "id": "possible-change",
    "scrolled": true
   },
   "outputs": [],
   "source": [
    "# Fusiona las tablas df_products y top_reordered_products \n",
    "top_products_info = df_products[df_products['product_id'].isin(top_reordered_products.index)]\n",
    "# Fusiona las tablas 'top_reordered_products' y 'top_products_info' en función del ID del producto\n",
    "result = pd.merge(top_reordered_products, top_products_info, left_index=True, right_on='product_id')"
   ]
  },
  {
   "cell_type": "code",
   "execution_count": 65,
   "id": "professional-surfing",
   "metadata": {
    "id": "professional-surfing",
    "scrolled": true
   },
   "outputs": [],
   "source": [
    "result = result[['product_id', 'reordered', 'product_name']]\n",
    "result.columns = ['ID del Producto', 'Frecuencia de Reorden', 'Nombre del Producto']"
   ]
  },
  {
   "cell_type": "code",
   "execution_count": 48,
   "id": "48dd3658",
   "metadata": {
    "id": "48dd3658",
    "scrolled": true
   },
   "outputs": [
    {
     "name": "stdout",
     "output_type": "stream",
     "text": [
      "       ID del Producto  Frecuencia de Reorden  \\\n",
      "14720            14721                    1.0   \n",
      "20948            20949                    1.0   \n",
      "6722              6723                    1.0   \n",
      "6731              6732                    1.0   \n",
      "45087            45088                    1.0   \n",
      "45077            45078                    1.0   \n",
      "21015            21016                    1.0   \n",
      "21004            21005                    1.0   \n",
      "35191            35192                    1.0   \n",
      "35196            35197                    1.0   \n",
      "6809              6810                    1.0   \n",
      "45039            45040                    1.0   \n",
      "45034            45035                    1.0   \n",
      "27372            27373                    1.0   \n",
      "30747            30748                    1.0   \n",
      "45030            45031                    1.0   \n",
      "35136            35137                    1.0   \n",
      "30746            30747                    1.0   \n",
      "35227            35228                    1.0   \n",
      "35228            35229                    1.0   \n",
      "\n",
      "                                     Nombre del Producto  \n",
      "14720                            Bone Strength Take Care  \n",
      "20948                           Vanilla Sandwich Cookies  \n",
      "6722                                    Palmiers- Petite  \n",
      "6731                   Naturally Sparkling Mineral Water  \n",
      "45087  California Dill Pollen & Garlic Goat Cheese & ...  \n",
      "45077                                       Pomegranatea  \n",
      "21015       Parchment Lined 8 in x 3.75 in x 2.5 in Pans  \n",
      "21004                        Peanut Butter Pie Ice Cream  \n",
      "35191                         Chocolate Soy Milk Singles  \n",
      "35196  Mocha Chocolate Chip  Organic Non-Dairy Frozen...  \n",
      "6809                         Raspberry Goji Paleo Prints  \n",
      "45039                                 Head Lock Mega Gel  \n",
      "45034                               Coffee Flavor Yogurt  \n",
      "27372                                     Meat Loaf Meal  \n",
      "30747                           Cheese & Garlic Croutons  \n",
      "45030                 Sugar Free Hazelnut Coffee Creamer  \n",
      "35136  Superior Preference Fade-Defying Color + Shine...  \n",
      "30746                   Dentotape® Unflavored Waxed Tape  \n",
      "35227                       Marvelous Muffins Baking Mix  \n",
      "35228                             Bean & Cheese Burritos  \n"
     ]
    }
   ],
   "source": [
    "print(result)\n"
   ]
  },
  {
   "cell_type": "markdown",
   "id": "80e70c74",
   "metadata": {
    "id": "80e70c74"
   },
   "source": [
    "Escribe aquí tus conclusiones\n",
    "\n",
    "El producto BANANA es el producto que se vuelve a pedir con mas frecuencia. Tambien que la mayoria de productos son organicos. Con esta información son muy útiles para estrategias de mkt y gestión de inventarios."
   ]
  },
  {
   "cell_type": "markdown",
   "id": "9d312b14",
   "metadata": {
    "id": "9d312b14"
   },
   "source": [
    "### [C3] Para cada producto, ¿cuál es la proporción de las veces que se pide y que se vuelve a pedir?"
   ]
  },
  {
   "cell_type": "code",
   "execution_count": 49,
   "id": "8ae9f4b1",
   "metadata": {
    "id": "8ae9f4b1"
   },
   "outputs": [],
   "source": [
    "import pandas as pd\n",
    "\n",
    "# Calcular la frecuencia de repeticiones de pedido por producto\n",
    "reorder_counts = df_order_products.groupby('product_id')['reordered'].sum()\n",
    "total_counts = df_order_products.groupby('product_id')['reordered'].count()\n",
    "\n",
    "# Calcular la tasa de repetición del pedido\n",
    "reorder_ratio = reorder_counts / total_counts"
   ]
  },
  {
   "cell_type": "code",
   "execution_count": 50,
   "id": "103e7fe1",
   "metadata": {
    "id": "103e7fe1"
   },
   "outputs": [],
   "source": [
    "# Crear un DataFrame con los resultados\n",
    "result_df = pd.DataFrame({\n",
    "    'product_id': reorder_ratio.index,\n",
    "    'reorder_ratio': reorder_ratio.values\n",
    "})\n",
    "\n",
    "result_df = pd.merge(result_df, df_products[['product_id', 'product_name']], on='product_id')"
   ]
  },
  {
   "cell_type": "code",
   "execution_count": 51,
   "id": "social-individual",
   "metadata": {
    "id": "social-individual"
   },
   "outputs": [
    {
     "name": "stdout",
     "output_type": "stream",
     "text": [
      "   product_id  reorder_ratio  \\\n",
      "0           1       0.564286   \n",
      "1           2       0.000000   \n",
      "2           3       0.738095   \n",
      "3           4       0.510204   \n",
      "4           7       0.500000   \n",
      "\n",
      "                                        product_name  \n",
      "0                         Chocolate Sandwich Cookies  \n",
      "1                                   All-Seasons Salt  \n",
      "2               Robust Golden Unsweetened Oolong Tea  \n",
      "3  Smart Ones Classic Favorites Mini Rigatoni Wit...  \n",
      "4                     Pure Coconut Water With Orange  \n"
     ]
    }
   ],
   "source": [
    "print(result_df.head())"
   ]
  },
  {
   "cell_type": "markdown",
   "id": "I10dEIAyldcO",
   "metadata": {
    "id": "I10dEIAyldcO"
   },
   "source": [
    "Escribe aquí tus conclusiones\n",
    "\n",
    "Este análisis proporciona información valiosa sobre el comportamiento de compra de los clientes con respecto a cada producto, sin embargo, me gustaría, por favor, que el revisor de mi proyecto me guíe en cómo podría obtener el user id sin que se modifique. cuando"
   ]
  },
  {
   "cell_type": "markdown",
   "id": "subject-boxing",
   "metadata": {
    "id": "subject-boxing"
   },
   "source": [
    "### [C4] Para cada cliente, ¿qué proporción de sus productos ya los había pedido?"
   ]
  },
  {
   "cell_type": "code",
   "execution_count": 52,
   "id": "medical-couple",
   "metadata": {
    "id": "medical-couple",
    "scrolled": true
   },
   "outputs": [
    {
     "name": "stdout",
     "output_type": "stream",
     "text": [
      "   user_id  average_reorder_ratio\n",
      "0        2               0.040000\n",
      "1        4               0.000000\n",
      "2        5               0.000000\n",
      "3        6               0.000000\n",
      "4        7               0.076923\n"
     ]
    }
   ],
   "source": [
    "import pandas as pd\n",
    "\n",
    "# Conectar las tablas para obtener información de usuario en df_order_products\n",
    "df_order_info = pd.merge(df_order_products, df_orders[['order_id', 'user_id']], on='order_id', how='left')\n",
    "\n",
    "# Crear un DataFrame con la frecuencia de pedido por usuario y producto\n",
    "user_product_counts = df_order_info.groupby(['user_id', 'product_id'])['order_id'].count().reset_index()\n",
    "\n",
    "# Crear una columna que indique si el producto fue pedido más de una vez\n",
    "user_product_counts['reordered'] = user_product_counts['order_id'].apply(lambda x: 1 if x > 1 else 0)\n",
    "\n",
    "# Calcular la tasa de repetición de pedido por usuario\n",
    "average_reorder_ratio_user = user_product_counts.groupby('user_id')['reordered'].mean().reset_index()\n",
    "\n",
    "# Crear un DataFrame con los resultados\n",
    "result_user_df = pd.DataFrame({\n",
    "    'user_id': average_reorder_ratio_user['user_id'],\n",
    "    'average_reorder_ratio': average_reorder_ratio_user['reordered']\n",
    "})\n",
    "\n",
    "# Mostrar los resultados\n",
    "print(result_user_df.head())\n"
   ]
  },
  {
   "cell_type": "code",
   "execution_count": null,
   "id": "8892e4b4",
   "metadata": {
    "id": "8892e4b4"
   },
   "outputs": [],
   "source": []
  },
  {
   "cell_type": "markdown",
   "id": "BgJSvXDsleXz",
   "metadata": {
    "id": "BgJSvXDsleXz"
   },
   "source": [
    "Escribe aquí tus conclusiones\n",
    "\n",
    "Por favor algún indicio para resolver esta parte. Según yo, debería de resultarme el user_id sin modificarse (pero cuando no utilizo el reset index me sale error)\n"
   ]
  },
  {
   "cell_type": "markdown",
   "id": "92d35137",
   "metadata": {
    "id": "92d35137"
   },
   "source": [
    "### [C5] ¿Cuáles son los 20 principales artículos que las personas ponen primero en sus carritos?"
   ]
  },
  {
   "cell_type": "code",
   "execution_count": 53,
   "id": "0ae57274",
   "metadata": {
    "id": "0ae57274",
    "scrolled": true
   },
   "outputs": [],
   "source": [
    "import pandas as pd\n",
    "\n",
    "# Obtener los productos más comunes en la posición 1 del carrito\n",
    "top_first_cart_items = df_order_products[df_order_products['add_to_cart_order'] == 1]['product_id'].value_counts().head(20)"
   ]
  },
  {
   "cell_type": "code",
   "execution_count": 54,
   "id": "forty-netherlands",
   "metadata": {
    "id": "forty-netherlands",
    "scrolled": true
   },
   "outputs": [],
   "source": [
    "# Fusionar las tablas df_products y top_first_cart_items para obtener información del producto\n",
    "result = pd.merge(top_first_cart_items.reset_index(), df_products[['product_id', 'product_name']], left_on='index', right_on='product_id')"
   ]
  },
  {
   "cell_type": "code",
   "execution_count": 55,
   "id": "08e41ec2",
   "metadata": {
    "id": "08e41ec2"
   },
   "outputs": [
    {
     "name": "stdout",
     "output_type": "stream",
     "text": [
      "    ID del Producto  Cantidad en Primer Carrito  ID del Producto  \\\n",
      "0             24852                       15562            24852   \n",
      "1             13176                       11026            13176   \n",
      "2             27845                        4363            27845   \n",
      "3             21137                        3946            21137   \n",
      "4             47209                        3390            47209   \n",
      "5             21903                        3336            21903   \n",
      "6             47766                        3044            47766   \n",
      "7             19660                        2336            19660   \n",
      "8             16797                        2308            16797   \n",
      "9             27966                        2024            27966   \n",
      "10            44632                        1914            44632   \n",
      "11            49235                        1797            49235   \n",
      "12            47626                        1737            47626   \n",
      "13              196                        1733              196   \n",
      "14            38689                        1397            38689   \n",
      "15            26209                        1370            26209   \n",
      "16            12341                        1340            12341   \n",
      "17             5785                        1310             5785   \n",
      "18            27086                        1309            27086   \n",
      "19            22935                        1246            22935   \n",
      "\n",
      "            Nombre del Producto  \n",
      "0                        Banana  \n",
      "1        Bag of Organic Bananas  \n",
      "2            Organic Whole Milk  \n",
      "3          Organic Strawberries  \n",
      "4          Organic Hass Avocado  \n",
      "5          Organic Baby Spinach  \n",
      "6               Organic Avocado  \n",
      "7                  Spring Water  \n",
      "8                  Strawberries  \n",
      "9           Organic Raspberries  \n",
      "10   Sparkling Water Grapefruit  \n",
      "11          Organic Half & Half  \n",
      "12                  Large Lemon  \n",
      "13                         Soda  \n",
      "14     Organic Reduced Fat Milk  \n",
      "15                        Limes  \n",
      "16                Hass Avocados  \n",
      "17  Organic Reduced Fat 2% Milk  \n",
      "18                  Half & Half  \n",
      "19         Organic Yellow Onion  \n"
     ]
    }
   ],
   "source": [
    "result.columns = ['ID del Producto', 'Cantidad en Primer Carrito', 'ID del Producto', 'Nombre del Producto']\n",
    "\n",
    "# Mostrar los resultados\n",
    "print(result)"
   ]
  },
  {
   "cell_type": "markdown",
   "id": "28ce9872",
   "metadata": {
    "id": "28ce9872"
   },
   "source": [
    "Escribe aquí tus conclusiones\n",
    "\n",
    "Porporciona información valiosa respecto a los patrones de compra. Lo cual, puede servir para impulsar los mismos productos, nuevos productos y verse interrelacionado con distintos canales de produccion/distribución para tener más a la mano los productos más solicitados/intención de compra."
   ]
  },
  {
   "cell_type": "markdown",
   "id": "uITbFCEoDosC",
   "metadata": {
    "id": "uITbFCEoDosC"
   },
   "source": [
    "### Conclusion general del proyecto:\n",
    "\n",
    "##### Resumen de Hallazgos Clave\n",
    "\n",
    "- Se identificaron patrones de compra, preferencias de productos y comportamientos de los clientes en la plataforma Instacart.\n",
    "- Se destacaron los productos más pedidos, la frecuencia de repetición y los artículos más comunes en los primeros carritos de compra.\n",
    "\n",
    "##### Impacto de las elecciones en el Procesamiento de Datos\n",
    "\n",
    "- En general, las elecciones tomadas al momento de la limpieza y procesamiento de datos influyeron en la calidad de los resultados. La resolucion de problemas como índices incorrectos, manipulacion de datos o repetición de los mismos ayudará a tomar decisiones futuras.\n",
    "\n",
    "##### Relación con los Objetivos iniciales\n",
    "\n",
    "- El análisis en general se relaciona claramente con los objetivos iniciales ya que, en el proceso, se comprende el comportamiento de compra de los lcientes y proporciona información útil para mejoras futuras.\n",
    "\n",
    "##### Relevancia de los Hallazgos\n",
    "\n",
    "- Dichos hallazgos son importantes para la toma de decisiones, a mi parecer, estratégicas en áreas de marketing, operaciones y hasta distribucion. Porque se comprende qué productos son populares y cómo los clientes interactúan con la plataforma es esencial para el éxito comercial.\n",
    "\n",
    "##### Sugerencias y Recomendaciones\n",
    "\n",
    "- Se sugiere a la app técnicas de recomendación entre productos para aumentar KPIs básicos para el seguimiento de objetivos. Asimismo, mejorará la experiencia del cliente.\n",
    "- La atención contínua de la calidad de los datos y la exploracion de nuevas fuentes de datos (por ejemplo, se puede realizar campañas para obtener aún más datos) enriquecería aún más el análisis. \n",
    "\n",
    "##### Reflexiones finales\n",
    "\n",
    "- A pesar de los desafíos encontrados, en primer lugar, la comprensión correcta del diccionario de datos, luego, la utilización de merge, tambien el reseteo de los índices... junto con iteración constante, ayudaron a resolver y trazar un camino por el cual son fundamentales para proporcionar insights significativos.\n",
    "\n",
    "##### Recomendaciones Personales\n",
    "\n",
    "- Me gustaría añadir que, el app estudiado, podría implementar un algoritmo predictivo que se involucre estrictamente con el inventario. Si bien es cierto, se sabe cuáles son los productos más pedidos (hasta los días y las horas), dicho algoritmo ayudaría a gestionar de manera mas efectiva el inventario reduciendo la posibilidad el agotamiento ó el overstock. Recordemos que nos referimos a productos perecibles, por lo tanto, el agotamiento significaría menos ventas y el overstock podría generar una degradación y merma con el paso de tiempo. \n",
    "\n",
    "- Asimismo explorar colaboración con agricultores y productores locales. Esto no solo promoverá un negocio sustentable, sino también brindará a los usuarios la opción de elegir productos más frescos y locales. \n",
    "\n"
   ]
  },
  {
   "cell_type": "code",
   "execution_count": 56,
   "id": "Nk-4GS7mDwqY",
   "metadata": {
    "id": "Nk-4GS7mDwqY"
   },
   "outputs": [],
   "source": []
  },
  {
   "cell_type": "markdown",
   "id": "2a690e81",
   "metadata": {},
   "source": [
    "<div class=\"alert alert-block alert-danger\">\n",
    "<b>Comentario del Final</b> <a class=\"tocSkip\"></a>|\n",
    "Al escribir las conclusiones finales, considera las siguientes pautas para que reflejen efectivamente tus hallazgos y decisiones:</b>\n",
    "<br>\n",
    "<b>🔍 Resumen de los Hallazgos Clave:</b> Incluye un resumen conciso de tus descubrimientos más importantes. Por ejemplo, menciona patrones interesantes, tendencias o anomalías que hayas identificado en los datos de Instacart.\n",
    "<br>|\n",
    "<b>🤔 Impacto de tus Elecciones de Procesamiento de Datos:</b> Reflexiona sobre cómo tus decisiones, como la forma en que manejaste los valores ausentes o duplicados, influyeron en los resultados. Explica cómo estas elecciones pudieron haber afectado tus hallazgos.\n",
    "<br>\n",
    "<b>🎯 Relación con los Objetivos Iniciales:</b> Relaciona tus conclusiones con los objetivos del proyecto. ¿Cómo tus hallazgos responden a las preguntas iniciales o cumplen con los objetivos del proyecto? Por ejemplo, si uno de los objetivos era entender los patrones de compra, explica cómo tu análisis abordó este punto.\n",
    "<br>\n",
    "<b>💡 Relevancia de los Hallazgos:</b> Discute la importancia de tus hallazgos en el contexto de Instacart como plataforma de entrega de comestibles. ¿Qué implicaciones tienen tus resultados para la empresa o sus usuarios?\n",
    "<br>\n",
    "<b>🚀 Sugerencias y Recomendaciones:</b> Basado en tus análisis, proporciona cualquier sugerencia o recomendación que podrías tener para Instacart. Por ejemplo, si identificaste un pasillo específico con alta frecuencia de pedidos, podrías sugerir estrategias de marketing centradas en ese pasillo.\n",
    "<br>\n",
    "<b>📝 Reflexiones Finales:</b> Concluye con tus pensamientos finales sobre el proyecto, incluyendo cualquier desafío que enfrentaste y lo que aprendiste en el proceso.\n",
    "<br>\n",
    "<b>Recuerda, una buena conclusión no solo resume tus hallazgos, sino que también ofrece insights y reflexiones sobre el impacto y relevancia de tu trabajo. Buena suerte con la etapa final de tu proyecto.</b>\n",
    "</div>\n"
   ]
  },
  {
   "cell_type": "markdown",
   "id": "0311bd4f",
   "metadata": {},
   "source": [
    "\n",
    "<div class=\"alert alert-block alert-success\">\n",
    "<b>Comentario Final</b> <a class=\"tocSkip\"></a>\n",
    "<p>He revisado tu proyecto de Instacart y aquí van mis observaciones:</p>\n",
    "<ul>\n",
    "    <li>Excelente trabajo en el análisis de los datos. Tu enfoque ha sido meticuloso y bien pensado.</li>\n",
    "    <li>Tus gráficos y visualizaciones son claros y efectivos, mostrando con precisión las tendencias y patrones.</li>\n",
    "    <li><strong>Para aprobar el proyecto.:</strong> Te sugiero completar la pregunta C2 y  las secciones de conclusiones finales de acuerdo a la pauta que te indico. . Esto te ayudará a destacar los hallazgos clave y demostrará tu habilidad para sintetizar la información.</li>\n",
    "    <li><strong>Si quieres mejorar más:</strong> Dale un vistazo a las correcciones sugeridas en amarillo, especialmente en lo que respecta al uso de funciones print y la asignación en tu código. Esto hará que tu trabajo sea aún más pulido.</li>\n",
    "</ul>\n",
    "<p>¡Estás haciendo un gran progreso en la ciencia de datos! Mantén el buen trabajo &#x1F680;.</p>\n",
    "</div>\n",
    "\n",
    "</div>\n"
   ]
  },
  {
   "cell_type": "code",
   "execution_count": null,
   "id": "fc1fe842",
   "metadata": {},
   "outputs": [],
   "source": []
  }
 ],
 "metadata": {
  "colab": {
   "provenance": []
  },
  "kernelspec": {
   "display_name": "Python 3 (ipykernel)",
   "language": "python",
   "name": "python3"
  },
  "language_info": {
   "codemirror_mode": {
    "name": "ipython",
    "version": 3
   },
   "file_extension": ".py",
   "mimetype": "text/x-python",
   "name": "python",
   "nbconvert_exporter": "python",
   "pygments_lexer": "ipython3",
   "version": "3.9.5"
  },
  "toc": {
   "base_numbering": 1,
   "nav_menu": {},
   "number_sections": true,
   "sideBar": true,
   "skip_h1_title": true,
   "title_cell": "Table of Contents",
   "title_sidebar": "Contents",
   "toc_cell": false,
   "toc_position": {},
   "toc_section_display": true,
   "toc_window_display": false
  },
  "vscode": {
   "interpreter": {
    "hash": "01a7be9ec63e704a62cefc5fe7a4756944464ee731be31632bdf42a4cb4688cf"
   }
  }
 },
 "nbformat": 4,
 "nbformat_minor": 5
}
