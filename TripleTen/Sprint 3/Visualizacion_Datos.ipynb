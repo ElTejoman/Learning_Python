{
 "cells": [
  {
   "cell_type": "markdown",
   "metadata": {},
   "source": [
    "# **CREAR GRAFICAS EN PYTHON CON MATPLOTLIB**\n",
    "\n",
    "## **Método plot() y plt.show()**\n",
    "\n",
    "método plot() de pandas y el método show() de la biblioteca pyplot de Matplotlib. Aquí hay un ejemplo de cómo podemos llamar plot() para crear una gráfica en pandas y después usar show() para mostrar claramente una gráfica."
   ]
  },
  {
   "cell_type": "code",
   "execution_count": 3,
   "metadata": {},
   "outputs": [
    {
     "ename": "ModuleNotFoundError",
     "evalue": "No module named 'matplotlib'",
     "output_type": "error",
     "traceback": [
      "\u001b[1;31m---------------------------------------------------------------------------\u001b[0m",
      "\u001b[1;31mModuleNotFoundError\u001b[0m                       Traceback (most recent call last)",
      "Cell \u001b[1;32mIn[3], line 2\u001b[0m\n\u001b[0;32m      1\u001b[0m \u001b[38;5;28;01mimport\u001b[39;00m \u001b[38;5;21;01mpandas\u001b[39;00m \u001b[38;5;28;01mas\u001b[39;00m \u001b[38;5;21;01mpd\u001b[39;00m\n\u001b[1;32m----> 2\u001b[0m \u001b[38;5;28;01mfrom\u001b[39;00m \u001b[38;5;21;01mmatplotlib\u001b[39;00m \u001b[38;5;28;01mimport\u001b[39;00m pyplot \u001b[38;5;28;01mas\u001b[39;00m plt\n\u001b[0;32m      4\u001b[0m df \u001b[38;5;241m=\u001b[39m pd\u001b[38;5;241m.\u001b[39mDataFrame({\u001b[38;5;124m\"\u001b[39m\u001b[38;5;124ma\u001b[39m\u001b[38;5;124m\"\u001b[39m: [\u001b[38;5;241m2\u001b[39m, \u001b[38;5;241m3\u001b[39m, \u001b[38;5;241m4\u001b[39m, \u001b[38;5;241m5\u001b[39m], \u001b[38;5;124m\"\u001b[39m\u001b[38;5;124mb\u001b[39m\u001b[38;5;124m\"\u001b[39m: [\u001b[38;5;241m4\u001b[39m, \u001b[38;5;241m9\u001b[39m, \u001b[38;5;241m16\u001b[39m, \u001b[38;5;241m25\u001b[39m]})\n\u001b[0;32m      5\u001b[0m \u001b[38;5;28mprint\u001b[39m(df)\n",
      "\u001b[1;31mModuleNotFoundError\u001b[0m: No module named 'matplotlib'"
     ]
    }
   ],
   "source": [
    "import pandas as pd\n",
    "from matplotlib import pyplot as plt\n",
    "\n",
    "df = pd.DataFrame({\"a\": [2, 3, 4, 5], \"b\": [4, 9, 16, 25]})\n",
    "print(df)\n",
    "\n",
    "df.plot()\n",
    "plt.show()"
   ]
  },
  {
   "cell_type": "code",
   "execution_count": 2,
   "metadata": {},
   "outputs": [
    {
     "ename": "ModuleNotFoundError",
     "evalue": "No module named 'plotly'",
     "output_type": "error",
     "traceback": [
      "\u001b[1;31m---------------------------------------------------------------------------\u001b[0m",
      "\u001b[1;31mModuleNotFoundError\u001b[0m                       Traceback (most recent call last)",
      "Cell \u001b[1;32mIn[2], line 3\u001b[0m\n\u001b[0;32m      1\u001b[0m \u001b[38;5;28;01mimport\u001b[39;00m \u001b[38;5;21;01mpandas\u001b[39;00m \u001b[38;5;28;01mas\u001b[39;00m \u001b[38;5;21;01mpd\u001b[39;00m\n\u001b[0;32m      2\u001b[0m \u001b[38;5;28;01mimport\u001b[39;00m \u001b[38;5;21;01mnumpy\u001b[39;00m \u001b[38;5;28;01mas\u001b[39;00m \u001b[38;5;21;01mnp\u001b[39;00m\n\u001b[1;32m----> 3\u001b[0m \u001b[38;5;28;01mimport\u001b[39;00m \u001b[38;5;21;01mplotly\u001b[39;00m\u001b[38;5;21;01m.\u001b[39;00m\u001b[38;5;21;01mexpress\u001b[39;00m \u001b[38;5;28;01mas\u001b[39;00m \u001b[38;5;21;01mpx\u001b[39;00m\n\u001b[0;32m      5\u001b[0m cases \u001b[38;5;241m=\u001b[39m [\u001b[38;5;241m33\u001b[39m, \u001b[38;5;241m61\u001b[39m, \u001b[38;5;241m86\u001b[39m, \u001b[38;5;241m112\u001b[39m, \u001b[38;5;241m116\u001b[39m, \u001b[38;5;241m129\u001b[39m, \u001b[38;5;241m192\u001b[39m, \u001b[38;5;241m174\u001b[39m, \u001b[38;5;241m344\u001b[39m, \u001b[38;5;241m304\u001b[39m, \u001b[38;5;241m327\u001b[39m, \u001b[38;5;241m246\u001b[39m, \u001b[38;5;241m320\u001b[39m, \u001b[38;5;241m339\u001b[39m, \u001b[38;5;241m376\u001b[39m]\n\u001b[0;32m      7\u001b[0m dates \u001b[38;5;241m=\u001b[39m [\u001b[38;5;124m\"\u001b[39m\u001b[38;5;124mMarch<br>\u001b[39m\u001b[38;5;124m\"\u001b[39m] \u001b[38;5;241m*\u001b[39m \u001b[38;5;28mlen\u001b[39m(cases)\n",
      "\u001b[1;31mModuleNotFoundError\u001b[0m: No module named 'plotly'"
     ]
    }
   ],
   "source": [
    "import pandas as pd\n",
    "import numpy as np\n",
    "import plotly.express as px\n",
    "\n",
    "cases = [33, 61, 86, 112, 116, 129, 192, 174, 344, 304, 327, 246, 320, 339, 376]\n",
    "\n",
    "dates = [\"March<br>\"] * len(cases)\n",
    "day = 18\n",
    "for i in range(len(dates)):\n",
    "    dates[i] = dates[i] + str(day)\n",
    "    day = day + 1\n",
    "dates[-1] = \"April<br>1\"\n",
    "\n",
    "labels = dict(date=\"Date\", cases=\"Number of cases\")\n",
    "markers = dict(size=30, line=dict(width=2, color=\"black\"), color=\"white\")\n",
    "title = dict(text=\"New Cases Per Day\", font=dict(color=\"white\", size=30))\n",
    "yaxis = dict(tickmode=\"linear\", tick0=30, dtick=30)\n",
    "\n",
    "df = pd.DataFrame({\"cases\": cases, \"date\": dates})\n",
    "\n",
    "fig = px.line(\n",
    "    df,\n",
    "    y=\"cases\",\n",
    "    x=\"date\",\n",
    "    text=\"cases\",\n",
    "    markers=True,\n",
    "    labels=labels,\n",
    "    title=\"New Cases Per Day\",\n",
    ")\n",
    "\n",
    "fig.update_xaxes(showgrid=False, color=\"white\", tickangle=0)\n",
    "fig.update_yaxes(color=\"white\", gridcolor=\"#5c5a5c\", gridwidth=2, range=[15, 400])\n",
    "fig.update_traces(marker=markers, line_color=\"white\", line_width=6)\n",
    "fig.update_layout(\n",
    "    title=title,\n",
    "    title_x=0.5,\n",
    "    paper_bgcolor=\"#070230\",\n",
    "    plot_bgcolor=\"#070230\",\n",
    "    yaxis=yaxis,\n",
    "    xaxis_type=\"category\",\n",
    ")\n",
    "fig.add_annotation(\n",
    "    text=\"TOTAL CASES\",\n",
    "    align=\"right\",\n",
    "    showarrow=False,\n",
    "    font=dict(color=\"white\", size=12),\n",
    "    xref=\"paper\",\n",
    "    yref=\"paper\",\n",
    "    x=1.08,\n",
    "    y=1.25,\n",
    ")\n",
    "fig.add_annotation(\n",
    "    text=\"3,342\",\n",
    "    align=\"right\",\n",
    "    showarrow=False,\n",
    "    font=dict(color=\"white\", size=23),\n",
    "    xref=\"paper\",\n",
    "    yref=\"paper\",\n",
    "    x=1.071,\n",
    "    y=1.2,\n",
    ")\n",
    "\n",
    "fig.show()\n"
   ]
  }
 ],
 "metadata": {
  "kernelspec": {
   "display_name": "Python 3",
   "language": "python",
   "name": "python3"
  },
  "language_info": {
   "codemirror_mode": {
    "name": "ipython",
    "version": 3
   },
   "file_extension": ".py",
   "mimetype": "text/x-python",
   "name": "python",
   "nbconvert_exporter": "python",
   "pygments_lexer": "ipython3",
   "version": "3.11.7"
  }
 },
 "nbformat": 4,
 "nbformat_minor": 2
}
