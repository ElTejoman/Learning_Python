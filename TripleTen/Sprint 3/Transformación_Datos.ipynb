{
 "cells": [
  {
   "cell_type": "markdown",
   "metadata": {},
   "source": [
    "# **Transformación de datos**\n",
    "\n",
    "## Procesamiento de datos agrupados con agg()\n",
    "\n",
    "Utilizaremos la misma BD de Videojuegos\n",
    "\n",
    "\n",
    "```python\n",
    "import pandas as pd\n",
    "\n",
    "df = pd.read_csv('/datasets/vg_sales.csv')\n",
    "df.dropna(inplace=True)\n",
    "\n",
    "print(df.head())\n",
    "\n",
    "#Resultado =================================\n",
    "                    name platform  year_of_release     genre publisher  \\\n",
    "0             Wii Sports      Wii           2006.0    Sports  Nintendo   \n",
    "2         Mario Kart Wii      Wii           2008.0    Racing  Nintendo   \n",
    "3      Wii Sports Resort      Wii           2009.0    Sports  Nintendo   \n",
    "6  New Super Mario Bros.       DS           2006.0  Platform  Nintendo   \n",
    "7               Wii Play      Wii           2006.0      Misc  Nintendo   \n",
    "\n",
    "  developer  na_sales  eu_sales  jp_sales  critic_score  user_score  \n",
    "0  Nintendo     41.36     28.96      3.77          76.0         8.0  \n",
    "2  Nintendo     15.68     12.76      3.79          82.0         8.3  \n",
    "3  Nintendo     15.61     10.93      3.28          80.0         8.0  \n",
    "6  Nintendo     11.28      9.14      6.50          89.0         8.5  \n",
    "7  Nintendo     13.96      9.18      2.93          58.0         6.6\n",
    "```\n"
   ]
  }
 ],
 "metadata": {
  "language_info": {
   "name": "python"
  }
 },
 "nbformat": 4,
 "nbformat_minor": 2
}
