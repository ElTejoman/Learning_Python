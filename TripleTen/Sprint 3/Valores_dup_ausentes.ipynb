{
 "cells": [
  {
   "cell_type": "markdown",
   "metadata": {},
   "source": [
    "# **Contar Valores ausentes**\n",
    "\n",
    "En las próximas lecciones, trabajaremos con un conjunto de datos de marketing de una empresa de comercio electrónico. Los datos están en un archivo CSV llamado visit_log.csv y cada fila representa una visita al sitio web de una empresa. Hay cuatro columnas:\n",
    "\n",
    "- 'user_id': identificador único para cada persona que visita el sitio web.\n",
    "- 'source': fuente de tráfico de la visita al sitio web. Aquí nos interesan tres categorías para la fuente:\n",
    "Visitas desde enlaces de marketing por correo electrónico: 'email'\n",
    "\n",
    "Visitas de anuncios contextuales en línea: 'context'\n",
    "\n",
    "Visitas de cualquier otra fuente: 'other'\n",
    "- 'email': dirección de correo electrónico encriptada asociada con la persona que visita el sitio.\n",
    "- 'purchase': indica si la persona compró algo en esa visita (1 en caso afirmativo, 0 en caso negativo).\n",
    "\n",
    "Tu objetivo es determinar la tasa de conversión para cada fuente, que es la proporción de visitas en las que se realizó una compra con respecto al número total de visitas en general. Comparar la tasa de conversión para cada fuente te permitirá determinar cuál de ellas genera la mayor cantidad de ventas.\n",
    "\n",
    "Pero antes de profundizar en los cálculos, necesitamos revisar el conjunto de datos para buscar valores ausentes y decidir qué hacer con ellos.\n"
   ]
  },
  {
   "cell_type": "markdown",
   "metadata": {},
   "source": [
    "### **BUSCAR VALORES AUSENTES**\n",
    "\n",
    "- **USAR EL MÉTODO INFO YA QUE TE DA LA INFORMACIÓN DE LOS NO SON AUSENTES, POR LO TANTO, TENDRÁS POR DESCARTE LOS AUSENTES**"
   ]
  },
  {
   "cell_type": "markdown",
   "metadata": {},
   "source": [
    "```python\n",
    "import pandas as pd\n",
    "\n",
    "df_logs = pd.read_csv('/datasets/visit_log.csv')\n",
    "\n",
    "print(df_logs.info())\n",
    "\n",
    "# RESULTADO =============================\n",
    "\n",
    "<class 'pandas.core.frame.DataFrame'>\n",
    "RangeIndex: 200000 entries, 0 to 199999\n",
    "Data columns (total 4 columns):\n",
    " #   Column    Non-Null Count   Dtype \n",
    "---  ------    --------------   ----- \n",
    " 0   user_id   200000 non-null  int64 \n",
    " 1   source    198326 non-null  object\n",
    " 2   email     13953 non-null   object\n",
    " 3   purchase  200000 non-null  int64 \n",
    "dtypes: int64(2), object(2)\n",
    "memory usage: 6.1+ MB\n",
    "None\n",
    "```"
   ]
  },
  {
   "cell_type": "markdown",
   "metadata": {},
   "source": [
    "- **PERO TAMBIEN PUEDES UTILIZAR ISNULL().SUM()**\n",
    "\n",
    "```python\n",
    "import pandas as pd\n",
    "\n",
    "df_logs = pd.read_csv('/datasets/visit_log.csv')\n",
    "print(df_logs.isnull().sum())\n",
    "\n",
    "#RESULTADO====================================================\n",
    "\n",
    "user_id          0\n",
    "source        1674\n",
    "email       186047\n",
    "purchase         0\n",
    "dtype: int64\n",
    "```"
   ]
  },
  {
   "cell_type": "markdown",
   "metadata": {},
   "source": [
    "### **Contar los valores ausentes con value_counts()**\n",
    "\n",
    "En vez de sumar los valores obtenidos con isna(), podemos contar los valores ausentes con el método value_counts(). Al llamarlo en una sola columna (es decir, un Series), devuelve la cantidad de veces que cada valor único aparece en esa columna.\n",
    "\n",
    "Este método tiene un parámetro llamado dropna=, que se establece por defecto en True. Esto significa que value_counts() excluirá los valores None o NaN a menos que establezcas dropna=False.\n",
    "\n",
    "Utilicémoslo en la columna 'source' de nuestro DataFrame, asegurándonos de incluir los valores ausentes:"
   ]
  },
  {
   "cell_type": "markdown",
   "metadata": {},
   "source": [
    "```python\n",
    "import pandas as pd\n",
    "\n",
    "df_logs = pd.read_csv('/datasets/visit_log.csv')\n",
    "print(df_logs['source'].value_counts(dropna = False))\n",
    "\n",
    "#Resultado===================================================\n",
    "other      133834\n",
    "context     52032\n",
    "email       12279\n",
    "NaN          1674\n",
    "undef         181\n",
    "Name: source, dtype: int64\n",
    "\n",
    "#Ahora tenemos un recuento de todos esos valores de NaN.\n",
    "```"
   ]
  },
  {
   "cell_type": "markdown",
   "metadata": {},
   "source": [
    "Como puedes ver, cuando imprimimos df_logs['source'].value_counts(dropna=False), la salida se ordena en orden descendente según el recuento de cada valor. Alternativamente, podemos ordenar la salida alfabéticamente según los nombres de los valores. Para hacerlo, podemos utilizar el método sort_index().\n",
    "\n",
    "```python\n",
    "import pandas as pd\n",
    "\n",
    "df_logs = pd.read_csv('/datasets/visit_log.csv')\n",
    "print(df_logs['source'].value_counts(dropna=False).sort_index())\n",
    "\n",
    "#RESULTADO =================================\n",
    "source\n",
    "context     52032\n",
    "email       12279\n",
    "other      133834\n",
    "undef         181\n",
    "NaN          1674\n",
    "Name: count, dtype: int64\n",
    "\n",
    "```\n"
   ]
  },
  {
   "cell_type": "markdown",
   "metadata": {},
   "source": [
    "## **Resumen**\n",
    "\n",
    "Hay muchas formas de encontrar y contar valores ausentes en pandas. En esta lección aprendiste tres maneras:\n",
    "- Llamar a info() en un DataFrame.\n",
    "- Llamar a isna().sum() en un DataFrame o un Series.\n",
    "- Llamar a value_counts(dropna=False) en un Series.\n",
    "\n",
    "### Ejercicios\n",
    "\n",
    "**Ejercicio 1**\n",
    "\n",
    "Ahora aplica el método value_counts() a la columna 'email' y almacena el resultado en la variable email_values. Esta vez, no incluyas los valores ausentes en la salida. Imprime el resultado."
   ]
  },
  {
   "cell_type": "markdown",
   "metadata": {},
   "source": [
    "```python\n",
    "import pandas as pd\n",
    "\n",
    "df_logs = pd.read_csv('/datasets/visit_log.csv')\n",
    "\n",
    "email_values = df_logs['email'].value_counts()\n",
    "\n",
    "print(email_values)\n",
    "\n",
    "#Resultado============================\n",
    "\n",
    "4526cc437a    9\n",
    "410a2a3c23    9\n",
    "17c4fb26f9    8\n",
    "5a4c033120    7\n",
    "33f8a3d521    7\n",
    "             ..\n",
    "05d06bf263    1\n",
    "5e66f8634e    1\n",
    "35264deaa4    1\n",
    "fad76d6955    1\n",
    "7516495ced    1\n",
    "Name: email, Length: 6062, dtype: int64\n",
    "\n",
    "#Ahora vemos cómo quedan los valores de la columna 'email'. ¡Hay muchos! Parece que no es el mejor enfoque para examinar los valores ausentes en esta columna. Y sin embargo, ¡no está de más saberlo!\n",
    "```"
   ]
  },
  {
   "cell_type": "markdown",
   "metadata": {},
   "source": [
    "**Ejercicio 2**\n",
    "\n",
    "Ahora intentemos ordenar los resultados por índice en lugar de valores para ver si se añade algún significado a los valores de la columna 'email'. Vuelve a escribir la variable email_values utilizando la ordenación e imprime el resultado."
   ]
  }
 ],
 "metadata": {
  "language_info": {
   "name": "python"
  }
 },
 "nbformat": 4,
 "nbformat_minor": 2
}
