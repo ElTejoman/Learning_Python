{
 "cells": [
  {
   "cell_type": "markdown",
   "metadata": {},
   "source": [
    "# **ESTUDIO DE CASO**\n",
    "\n",
    "presenta un conjunto de mini prácticas para que las resuelvas usando un nuevo conjunto de datos que contiene información sobre los pasajeros del Titanic."
   ]
  },
  {
   "cell_type": "markdown",
   "metadata": {},
   "source": [
    "## Ejercicio 1\n",
    "\n",
    "El conjunto de datos ya se leyó. Llama al método info() para tener una mejor idea de los datos que tienes disponibles.\n",
    "\n",
    "```python\n",
    "import pandas as pd\n",
    "\n",
    "df = pd.read_csv('/datasets/titanic.csv')\n",
    "\n",
    "df.info()\n",
    "\n",
    "#Resultado==========================\n",
    "\n",
    "<class 'pandas.core.frame.DataFrame'>\n",
    "RangeIndex: 891 entries, 0 to 890\n",
    "Data columns (total 15 columns):\n",
    " #   Column       Non-Null Count  Dtype\n",
    "---  ------       --------------  -----\n",
    " 0   survived     891 non-null    int64\n",
    " 1   pclass       891 non-null    int64\n",
    " 2   sex          891 non-null    object\n",
    " 3   age          714 non-null    float64\n",
    " 4   sibsp        891 non-null    int64\n",
    " 5   parch        891 non-null    int64\n",
    " 6   fare         891 non-null    float64\n",
    " 7   embarked     889 non-null    object\n",
    " 8   class        891 non-null    object\n",
    " 9   who          891 non-null    object\n",
    " 10  adult_male   891 non-null    bool\n",
    " 11  deck         203 non-null    object\n",
    " 12  embark_town  889 non-null    object\n",
    " 13  alive        891 non-null    object\n",
    " 14  alone        891 non-null    bool\n",
    "dtypes: bool(2), float64(2), int64(4), object(7)\n",
    "memory usage: 92.4+ KB\n",
    "```"
   ]
  },
  {
   "cell_type": "markdown",
   "metadata": {},
   "source": [
    "## Ejercicio 2\n",
    "\n",
    "Podemos ver que las columnas 'deck' y 'age' son las que tienen la mayoría de los valores ausentes. Utiliza el filtrado para obtener las filas con valores ausentes en la columna 'deck' o en la columna 'age'. Almacena los resultados en la variable mis_val_rows y muéstrala."
   ]
  }
 ],
 "metadata": {
  "language_info": {
   "name": "python"
  }
 },
 "nbformat": 4,
 "nbformat_minor": 2
}
