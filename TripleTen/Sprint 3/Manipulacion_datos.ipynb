{
 "cells": [
  {
   "cell_type": "markdown",
   "metadata": {},
   "source": [
    "# **DATA WRANGLING**"
   ]
  },
  {
   "cell_type": "markdown",
   "metadata": {},
   "source": [
    "### SOLUCIONAR PROBLEMAS CON ARCHIVOS CSV"
   ]
  },
  {
   "cell_type": "code",
   "execution_count": null,
   "metadata": {},
   "outputs": [],
   "source": [
    "import pandas as pd\n",
    "\n",
    "data = pd.read_csv(\"/datasets/gpp_modified.csv\")\n",
    "\n",
    "print(data.head())"
   ]
  },
  {
   "cell_type": "markdown",
   "metadata": {},
   "source": [
    "```python\n",
    "  Afghanistan|Kajaki Hydroelectric Power Plant Afghanistan|33   0|32   322|65   119|Hydro|\n",
    "0                                 Afghanistan|Kandahar DOG|10   0|31    67|65   795|Solar|\n",
    "1                                 Afghanistan|Kandahar JOL|10   0|31   623|65   792|Solar|\n",
    "2           Afghanistan|Mahipar Hydroelectric Power Plant ...   0|34   556|69  4787|Hydro|\n",
    "3           Afghanistan|Naghlu Dam Hydroelectric Power Pla...   0|34   641|69   717|Hydro|\n",
    "4           Afghanistan|Nangarhar (Darunta) Hydroelectric ...  55|34  4847|70  3633|Hydro|\n",
    "```"
   ]
  },
  {
   "cell_type": "markdown",
   "metadata": {},
   "source": [
    "### **El parámetro sep=**\n",
    "\n",
    "El archivo definitivamente tiene comas, pero parece que el delimitador es en realidad el carácter |. Podemos considerar esto cuando leemos los datos utilizando el parámetro sep= en read_csv(). El argumento por defecto para sep= es ',', lo que explica la estructura de columnas que hemos observado antes. En su lugar, usemos '|' como argumento y veamos cómo afecta eso al DataFrame:"
   ]
  },
  {
   "cell_type": "code",
   "execution_count": null,
   "metadata": {},
   "outputs": [],
   "source": [
    "import pandas as pd\n",
    "\n",
    "data = pd.read_csv(\"/datasets/gpp_modified.csv\", sep=\"|\")\n",
    "\n",
    "print(data.head())"
   ]
  },
  {
   "cell_type": "markdown",
   "metadata": {},
   "source": [
    "```python\n",
    "   Afghanistan       Kajaki Hydroelectric Power Plant Afghanistan   33,0   32,322   65,119  Hydro  Unnamed: 6\n",
    "0  Afghanistan                                       Kandahar DOG   10,0    31,67   65,795  Solar         NaN\n",
    "1  Afghanistan                                       Kandahar JOL   10,0   31,623   65,792  Solar         NaN\n",
    "2  Afghanistan      Mahipar Hydroelectric Power Plant Afghanistan   66,0   34,556  69,4787  Hydro         NaN\n",
    "3  Afghanistan   Naghlu Dam Hydroelectric Power Plant Afghanistan  100,0   34,641   69,717  Hydro         NaN\n",
    "4  Afghanistan  Nangarhar (Darunta) Hydroelectric Power Plant ...  11,55  34,4847  70,3633  Hydro         NaN\n",
    "```"
   ]
  },
  {
   "cell_type": "markdown",
   "metadata": {},
   "source": [
    "### **Los parámetros header= y names=**\n",
    "\n",
    "El argumento por defecto es header='infer', que le dice a pandas que intente adivinar los nombres de las columnas. En nuestro caso, pandas adivinó que la primera fila de datos supuestamente son los nombres de las columnas. Podemos arreglarlo pasando header=None de la siguiente manera:\n"
   ]
  },
  {
   "cell_type": "markdown",
   "metadata": {},
   "source": [
    "```python\n",
    "import pandas as pd\n",
    "\n",
    "data = pd.read_csv('/datasets/gpp_modified.csv', sep='|', header=None)\n",
    "\n",
    "print(data.head())\n",
    "```\n",
    "\n",
    "```python\n",
    "             0                                                  1      2        3        4      5    6    \n",
    "0  Afghanistan       Kajaki Hydroelectric Power Plant Afghanistan   33,0   32,322   65,119  Hydro  NaN\n",
    "1  Afghanistan                                       Kandahar DOG   10,0    31,67   65,795  Solar  NaN\n",
    "2  Afghanistan                                       Kandahar JOL   10,0   31,623   65,792  Solar  NaN\n",
    "3  Afghanistan      Mahipar Hydroelectric Power Plant Afghanistan   66,0   34,556  69,4787  Hydro  NaN\n",
    "4  Afghanistan   Naghlu Dam Hydroelectric Power Plant Afghanistan  100,0   34,641   69,717  Hydro  NaN\n",
    "```"
   ]
  },
  {
   "cell_type": "markdown",
   "metadata": {},
   "source": [
    "Podríamos renombrar las columnas después de leer los datos usando el atributo columns del DataFrame o el método rename(), pero también podemos definir los nombres mientras leemos los datos usando el parámetro opcional names= en read_csv(). Si pasas una lista de nombres de columnas al parámetro names=, pandas asignará esos nombres a las columnas en el orden en que aparecen en la lista."
   ]
  },
  {
   "cell_type": "markdown",
   "metadata": {},
   "source": [
    "```python\n",
    "import pandas as pd\n",
    "\n",
    "column_names = [\n",
    "    'country',\n",
    "    'name',\n",
    "    'capacity_mw',\n",
    "    'latitude',\n",
    "    'longitude',\n",
    "    'primary_fuel',\n",
    "    'owner'\n",
    "]\n",
    "data = pd.read_csv('/datasets/gpp_modified.csv', sep='|', header=None, names=column_names)\n",
    "\n",
    "print(data.head())\n",
    "```\n",
    "\n",
    "**RESULTADO**\n",
    "\n",
    "```python\n",
    "       country                                              name capacity_mw latitude longitude primary_fuel owner     \n",
    "0  Afghanistan      Kajaki Hydroelectric Power Plant Afghanistan        33,0   32,322    65,119        Hydro   NaN\n",
    "1  Afghanistan                                      Kandahar DOG        10,0    31,67    65,795        Solar   NaN\n",
    "2  Afghanistan                                      Kandahar JOL        10,0   31,623    65,792        Solar   NaN\n",
    "3  Afghanistan     Mahipar Hydroelectric Power Plant Afghanistan        66,0   34,556   69,4787        Hydro   NaN\n",
    "4  Afghanistan  Naghlu Dam Hydroelectric Power Plant Afghanistan       100,0   34,641    69,717        Hydro   NaN\n",
    "```"
   ]
  },
  {
   "cell_type": "markdown",
   "metadata": {},
   "source": [
    "### **El parámetro decimal=**\n",
    "\n",
    "En read_csv() podemos usar el parámetro decimal= y pasarle ',' como argumento. Por defecto, read_csv() utiliza decimal='.', por lo que no reconoció los valores numéricos de nuestro conjunto de datos como números de coma flotante.\n",
    "\n",
    "Para ponerlo todo en orden, leamos el conjunto de datos por última vez:"
   ]
  },
  {
   "cell_type": "code",
   "execution_count": 9,
   "metadata": {},
   "outputs": [
    {
     "ename": "PermissionError",
     "evalue": "[Errno 13] Permission denied: 'D:\\\\DATA SCIENCE\\\\global_power_plant_database_v_1_3'",
     "output_type": "error",
     "traceback": [
      "\u001b[1;31m---------------------------------------------------------------------------\u001b[0m",
      "\u001b[1;31mPermissionError\u001b[0m                           Traceback (most recent call last)",
      "\u001b[1;32mc:\\Users\\User\\Desktop\\Learning_Python\\Learning_Python\\TripleTen\\Sprint 3\\Manipulacion_datos.ipynb Cell 13\u001b[0m line \u001b[0;36m3\n\u001b[0;32m      <a href='vscode-notebook-cell:/c%3A/Users/User/Desktop/Learning_Python/Learning_Python/TripleTen/Sprint%203/Manipulacion_datos.ipynb#X16sZmlsZQ%3D%3D?line=0'>1</a>\u001b[0m \u001b[39mimport\u001b[39;00m \u001b[39mpandas\u001b[39;00m \u001b[39mas\u001b[39;00m \u001b[39mpd\u001b[39;00m\n\u001b[1;32m----> <a href='vscode-notebook-cell:/c%3A/Users/User/Desktop/Learning_Python/Learning_Python/TripleTen/Sprint%203/Manipulacion_datos.ipynb#X16sZmlsZQ%3D%3D?line=2'>3</a>\u001b[0m data \u001b[39m=\u001b[39m pd\u001b[39m.\u001b[39;49mread_excel(\u001b[39m\"\u001b[39;49m\u001b[39mD:\u001b[39;49m\u001b[39m\\\u001b[39;49m\u001b[39mDATA SCIENCE\u001b[39;49m\u001b[39m\\\u001b[39;49m\u001b[39mglobal_power_plant_database_v_1_3\u001b[39;49m\u001b[39m\"\u001b[39;49m)\n\u001b[0;32m      <a href='vscode-notebook-cell:/c%3A/Users/User/Desktop/Learning_Python/Learning_Python/TripleTen/Sprint%203/Manipulacion_datos.ipynb#X16sZmlsZQ%3D%3D?line=4'>5</a>\u001b[0m \u001b[39mprint\u001b[39m(data\u001b[39m.\u001b[39mhead())\n",
      "File \u001b[1;32m~\\AppData\\Local\\Packages\\PythonSoftwareFoundation.Python.3.11_qbz5n2kfra8p0\\LocalCache\\local-packages\\Python311\\site-packages\\pandas\\io\\excel\\_base.py:504\u001b[0m, in \u001b[0;36mread_excel\u001b[1;34m(io, sheet_name, header, names, index_col, usecols, dtype, engine, converters, true_values, false_values, skiprows, nrows, na_values, keep_default_na, na_filter, verbose, parse_dates, date_parser, date_format, thousands, decimal, comment, skipfooter, storage_options, dtype_backend, engine_kwargs)\u001b[0m\n\u001b[0;32m    502\u001b[0m \u001b[39mif\u001b[39;00m \u001b[39mnot\u001b[39;00m \u001b[39misinstance\u001b[39m(io, ExcelFile):\n\u001b[0;32m    503\u001b[0m     should_close \u001b[39m=\u001b[39m \u001b[39mTrue\u001b[39;00m\n\u001b[1;32m--> 504\u001b[0m     io \u001b[39m=\u001b[39m ExcelFile(\n\u001b[0;32m    505\u001b[0m         io,\n\u001b[0;32m    506\u001b[0m         storage_options\u001b[39m=\u001b[39;49mstorage_options,\n\u001b[0;32m    507\u001b[0m         engine\u001b[39m=\u001b[39;49mengine,\n\u001b[0;32m    508\u001b[0m         engine_kwargs\u001b[39m=\u001b[39;49mengine_kwargs,\n\u001b[0;32m    509\u001b[0m     )\n\u001b[0;32m    510\u001b[0m \u001b[39melif\u001b[39;00m engine \u001b[39mand\u001b[39;00m engine \u001b[39m!=\u001b[39m io\u001b[39m.\u001b[39mengine:\n\u001b[0;32m    511\u001b[0m     \u001b[39mraise\u001b[39;00m \u001b[39mValueError\u001b[39;00m(\n\u001b[0;32m    512\u001b[0m         \u001b[39m\"\u001b[39m\u001b[39mEngine should not be specified when passing \u001b[39m\u001b[39m\"\u001b[39m\n\u001b[0;32m    513\u001b[0m         \u001b[39m\"\u001b[39m\u001b[39man ExcelFile - ExcelFile already has the engine set\u001b[39m\u001b[39m\"\u001b[39m\n\u001b[0;32m    514\u001b[0m     )\n",
      "File \u001b[1;32m~\\AppData\\Local\\Packages\\PythonSoftwareFoundation.Python.3.11_qbz5n2kfra8p0\\LocalCache\\local-packages\\Python311\\site-packages\\pandas\\io\\excel\\_base.py:1563\u001b[0m, in \u001b[0;36mExcelFile.__init__\u001b[1;34m(self, path_or_buffer, engine, storage_options, engine_kwargs)\u001b[0m\n\u001b[0;32m   1561\u001b[0m     ext \u001b[39m=\u001b[39m \u001b[39m\"\u001b[39m\u001b[39mxls\u001b[39m\u001b[39m\"\u001b[39m\n\u001b[0;32m   1562\u001b[0m \u001b[39melse\u001b[39;00m:\n\u001b[1;32m-> 1563\u001b[0m     ext \u001b[39m=\u001b[39m inspect_excel_format(\n\u001b[0;32m   1564\u001b[0m         content_or_path\u001b[39m=\u001b[39;49mpath_or_buffer, storage_options\u001b[39m=\u001b[39;49mstorage_options\n\u001b[0;32m   1565\u001b[0m     )\n\u001b[0;32m   1566\u001b[0m     \u001b[39mif\u001b[39;00m ext \u001b[39mis\u001b[39;00m \u001b[39mNone\u001b[39;00m:\n\u001b[0;32m   1567\u001b[0m         \u001b[39mraise\u001b[39;00m \u001b[39mValueError\u001b[39;00m(\n\u001b[0;32m   1568\u001b[0m             \u001b[39m\"\u001b[39m\u001b[39mExcel file format cannot be determined, you must specify \u001b[39m\u001b[39m\"\u001b[39m\n\u001b[0;32m   1569\u001b[0m             \u001b[39m\"\u001b[39m\u001b[39man engine manually.\u001b[39m\u001b[39m\"\u001b[39m\n\u001b[0;32m   1570\u001b[0m         )\n",
      "File \u001b[1;32m~\\AppData\\Local\\Packages\\PythonSoftwareFoundation.Python.3.11_qbz5n2kfra8p0\\LocalCache\\local-packages\\Python311\\site-packages\\pandas\\io\\excel\\_base.py:1419\u001b[0m, in \u001b[0;36minspect_excel_format\u001b[1;34m(content_or_path, storage_options)\u001b[0m\n\u001b[0;32m   1416\u001b[0m \u001b[39mif\u001b[39;00m \u001b[39misinstance\u001b[39m(content_or_path, \u001b[39mbytes\u001b[39m):\n\u001b[0;32m   1417\u001b[0m     content_or_path \u001b[39m=\u001b[39m BytesIO(content_or_path)\n\u001b[1;32m-> 1419\u001b[0m \u001b[39mwith\u001b[39;00m get_handle(\n\u001b[0;32m   1420\u001b[0m     content_or_path, \u001b[39m\"\u001b[39;49m\u001b[39mrb\u001b[39;49m\u001b[39m\"\u001b[39;49m, storage_options\u001b[39m=\u001b[39;49mstorage_options, is_text\u001b[39m=\u001b[39;49m\u001b[39mFalse\u001b[39;49;00m\n\u001b[0;32m   1421\u001b[0m ) \u001b[39mas\u001b[39;00m handle:\n\u001b[0;32m   1422\u001b[0m     stream \u001b[39m=\u001b[39m handle\u001b[39m.\u001b[39mhandle\n\u001b[0;32m   1423\u001b[0m     stream\u001b[39m.\u001b[39mseek(\u001b[39m0\u001b[39m)\n",
      "File \u001b[1;32m~\\AppData\\Local\\Packages\\PythonSoftwareFoundation.Python.3.11_qbz5n2kfra8p0\\LocalCache\\local-packages\\Python311\\site-packages\\pandas\\io\\common.py:872\u001b[0m, in \u001b[0;36mget_handle\u001b[1;34m(path_or_buf, mode, encoding, compression, memory_map, is_text, errors, storage_options)\u001b[0m\n\u001b[0;32m    863\u001b[0m         handle \u001b[39m=\u001b[39m \u001b[39mopen\u001b[39m(\n\u001b[0;32m    864\u001b[0m             handle,\n\u001b[0;32m    865\u001b[0m             ioargs\u001b[39m.\u001b[39mmode,\n\u001b[1;32m   (...)\u001b[0m\n\u001b[0;32m    868\u001b[0m             newline\u001b[39m=\u001b[39m\u001b[39m\"\u001b[39m\u001b[39m\"\u001b[39m,\n\u001b[0;32m    869\u001b[0m         )\n\u001b[0;32m    870\u001b[0m     \u001b[39melse\u001b[39;00m:\n\u001b[0;32m    871\u001b[0m         \u001b[39m# Binary mode\u001b[39;00m\n\u001b[1;32m--> 872\u001b[0m         handle \u001b[39m=\u001b[39m \u001b[39mopen\u001b[39;49m(handle, ioargs\u001b[39m.\u001b[39;49mmode)\n\u001b[0;32m    873\u001b[0m     handles\u001b[39m.\u001b[39mappend(handle)\n\u001b[0;32m    875\u001b[0m \u001b[39m# Convert BytesIO or file objects passed with an encoding\u001b[39;00m\n",
      "\u001b[1;31mPermissionError\u001b[0m: [Errno 13] Permission denied: 'D:\\\\DATA SCIENCE\\\\global_power_plant_database_v_1_3'"
     ]
    }
   ],
   "source": [
    "import pandas as pd\n",
    "\n",
    "data = pd.read_excel(\"D:\\DATA SCIENCE\\global_power_plant_database_v_1_3\")\n",
    "\n",
    "print(data.head())"
   ]
  },
  {
   "cell_type": "markdown",
   "metadata": {},
   "source": [
    "```python\n",
    "import pandas as pd\n",
    "\n",
    "column_names = [\n",
    "    'country',\n",
    "    'name',\n",
    "    'capacity_mw',\n",
    "    'latitude',\n",
    "    'longitude',\n",
    "    'primary_fuel',\n",
    "    'owner'\n",
    "]\n",
    "data = pd.read_csv(\n",
    "    '/datasets/gpp_modified.csv',\n",
    "    sep='|',\n",
    "    header=None,\n",
    "    names=column_names,\n",
    "    decimal=',',\n",
    ")\n",
    "\n",
    "print(data.head())\n",
    "```"
   ]
  },
  {
   "cell_type": "markdown",
   "metadata": {},
   "source": [
    "```python\n",
    "       country                                              name capacity_mw latitude longitude primary_fuel owner      \n",
    "0  Afghanistan      Kajaki Hydroelectric Power Plant Afghanistan        33.0   32.322    65.119        Hydro   NaN\n",
    "1  Afghanistan                                      Kandahar DOG        10.0    31.67    65.795        Solar   NaN\n",
    "2  Afghanistan                                      Kandahar JOL        10.0   31.623    65.792        Solar   NaN\n",
    "3  Afghanistan     Mahipar Hydroelectric Power Plant Afghanistan        66.0   34.556   69.4787        Hydro   NaN\n",
    "4  Afghanistan  Naghlu Dam Hydroelectric Power Plant Afghanistan       100.0   34.641    69.717        Hydro   NaN\n",
    "```"
   ]
  },
  {
   "cell_type": "markdown",
   "metadata": {},
   "source": [
    "### **RESUMEN**\n",
    "\n",
    "Aquí está la lista de parámetros READ_CSV() que se aprendió en esta lección:\n",
    "\n",
    "- **sep=** ---> Para especificar el delimitador correcto.\n",
    "- **decimal=** ---> para leer decimales correctamente.\n",
    "- **header=None** ---> para especificar que el archivo no contiene nombres de columna.\n",
    "- **names=** ---> para establecer los nombres de las columnas manualmente.\n",
    "\n"
   ]
  },
  {
   "cell_type": "markdown",
   "metadata": {},
   "source": [
    "## **Ejercicios**\n",
    "\n",
    "**Ejercicio 1**\n",
    "\n",
    "El conjunto de datos está disponible en /datasets/letters_colors_decimals.csv. Los valores en dicho dataset están separados por $, y a se utiliza como punto decimal. \n",
    "Léelo de tal manera que:\n",
    "\n",
    "- La primera fila se convierta en el encabezado.\n",
    "- Las columnas estén separadas correctamente.\n",
    "- Los decimales se lean correctamente.\n",
    "\n",
    "Muestra el DataFrame."
   ]
  },
  {
   "cell_type": "code",
   "execution_count": null,
   "metadata": {},
   "outputs": [],
   "source": [
    "import pandas as pd\n",
    "\n",
    "df = pd.read_csv(\n",
    "    \"/datasets/letters_colors_decimals.csv\",\n",
    "    sep=\"$\",\n",
    "    # header = None,\n",
    "    decimal=\"a\",\n",
    ")\n",
    "\n",
    "print(df)"
   ]
  },
  {
   "cell_type": "markdown",
   "metadata": {},
   "source": [
    "### **Leer archivos Excel**\n",
    "\n",
    "Como ya sabes, pandas proporciona la función read_excel() para leer archivos Excel. Por defecto, esta función carga la primera hoja, pero un archivo Excel puede contener varias hojas.\n",
    "\n",
    "Como puedes ver en la imagen siguiente, tenemos un dataset de reseñas de productos que contiene cuatro hojas: reviews, reviewers, products y product_categories.\n",
    "\n",
    "Vamos a leer el archivo Excel utilizando únicamente la ruta de archivo /datasets/product_reviews.xlsx:\n",
    "\n"
   ]
  },
  {
   "cell_type": "markdown",
   "metadata": {},
   "source": [
    "```python\n",
    "import pandas as pd\n",
    "\n",
    "df = pd.read_excel('/datasets/product_reviews.xlsx')\n",
    "\n",
    "print(df.head())\n",
    "\n",
    "#Resultado\n",
    "\n",
    "           id reviewer_id  product_id  review\n",
    "0  2546305677    cG441617  5003186430       3\n",
    "1  2603422798    cH443811  7130698135       1\n",
    "2  2598103631    bF100137  4023404310       4\n",
    "3  2632674394    cF786880  7130698135       4\n",
    "4  2594782880    aF649317  5003186430       5\n",
    "```"
   ]
  },
  {
   "cell_type": "markdown",
   "metadata": {},
   "source": [
    "### **El parámetro sheet_name=**\n",
    "\n",
    "Si necesitas una hoja diferente a la predeterminada, debes pasar dos argumentos: la ruta del archivo (una cadena) y sheet_name= con el nombre de la hoja (también una cadena). Intentemos leer la hoja reviewers.\n"
   ]
  },
  {
   "cell_type": "markdown",
   "metadata": {},
   "source": [
    "```python\n",
    "import pandas as pd\n",
    "\n",
    "df = pd.read_excel('/datasets/product_reviews.xlsx', sheet_name='reviewers')\n",
    "\n",
    "print(df.head())\n",
    "\n",
    "#resultado\n",
    "\n",
    "         id date_joined  zipcode\n",
    "0  aF195825  2012-06-21    91914\n",
    "1  aF249047  2019-03-26    91915\n",
    "2  aF362092  2012-01-05    91941\n",
    "3  aF484180  2019-06-11    91941\n",
    "4  aF539111  2011-03-04    92003\n",
    "```"
   ]
  },
  {
   "cell_type": "markdown",
   "metadata": {},
   "source": [
    "También podemos utilizar el índice de la hoja en lugar de su nombre en el segundo argumento: sheet_name=0 nos da la primera hoja; sheet_name=1, la segunda; etc.\n"
   ]
  },
  {
   "cell_type": "markdown",
   "metadata": {},
   "source": [
    "### **Ejercicios**\n",
    "\n",
    "**Ejercicio 1**\n",
    "\n",
    "Calcula la puntuación promedio de las opiniones siguiendo estos pasos:\n",
    "- Lee la primera hoja del fichero Excel ubicado en /datasets/product_reviews.xlsx y guárdala en una variable llamada df_reviews.\n",
    "- Selecciona la columna 'review' de df_reviews.\n",
    "- Aplica el método adecuado para calcular el valor medio.\n",
    " -Muestra el resultado en la pantalla."
   ]
  },
  {
   "cell_type": "markdown",
   "metadata": {},
   "source": [
    "```python\n",
    "import pandas as pd\n",
    "\n",
    "df_reviews = pd.read_excel('/datasets/product_reviews.xlsx')\n",
    "print(df_reviews['review'].mean())\n",
    "```"
   ]
  },
  {
   "cell_type": "markdown",
   "metadata": {},
   "source": [
    "**Ejercicio 2**\n",
    "\n",
    "Para obtener más información sobre los productos de este conjunto de datos, lee la hoja products del archivo Excel en una variable llamada df_products. \n",
    "\n",
    "A continuación, ordena el DataFrame por la columna 'id' en orden ascendente utilizando el método apropiado y guárdalo en la variable sorted_df_products. Si no recuerdas el nombre del método, no te preocupes, tenemos una pista que te ayudará.\n",
    "\n",
    "Por último, no olvides imprimir el dataframe ordenado."
   ]
  },
  {
   "cell_type": "markdown",
   "metadata": {},
   "source": [
    "```python\n",
    "import pandas as pd\n",
    "\n",
    "df_products = pd.read_excel('/datasets/product_reviews.xlsx', sheet_name= 'products')\n",
    "\n",
    "sorted_df_products = df_products.sort_values(by = 'id' ,ascending = True)\n",
    "\n",
    "print(sorted_df_products)\n",
    "```"
   ]
  },
  {
   "cell_type": "markdown",
   "metadata": {},
   "source": [
    "**Ejercicio 3**\n",
    "\n",
    "Además de los nombres de los productos, el dataset también contiene información sobre cómo se clasifican los productos. Por eso había una columna 'category_id' en la tabla del último ejercicio.\n",
    "\n",
    "Lee la hoja final de product_categories en una variable llamada df_categories. Luego simplemente muestra df_categories en la pantalla."
   ]
  },
  {
   "cell_type": "markdown",
   "metadata": {},
   "source": [
    "```python\n",
    "df_products = pd.read_excel('/datasets/product_reviews.xlsx', sheet_name= 'product_categories')\n",
    "Print(df_products)\n",
    "```"
   ]
  },
  {
   "cell_type": "markdown",
   "metadata": {},
   "source": [
    "### **Observación de datos**\n",
    "\n",
    "#### **Revisión del método info()**\n",
    "\n",
    "Nunca es mala idea llamar al método info() cada vez que empieces a trabajar con un nuevo DataFrame. El método info() no devuelve nada, sino que imprime información general sobre el DataFrame (lo que significa que no es necesario utilizar print() con info()).\n",
    "\n",
    "Leamos de nuevo los datos de la central y llamemos a info() para ver qué información nos brinda:\n"
   ]
  },
  {
   "cell_type": "markdown",
   "metadata": {},
   "source": [
    "```python\n",
    "import pandas as pd\n",
    "\n",
    "column_names = [\n",
    "    'country',\n",
    "    'name',\n",
    "    'capacity_mw',\n",
    "    'latitude',\n",
    "    'longitude',\n",
    "    'primary_fuel',\n",
    "    'owner'\n",
    "]\n",
    "data = pd.read_csv(\n",
    "    '/datasets/gpp_modified.csv',\n",
    "    sep='|',\n",
    "    header=None,\n",
    "    names=column_names,\n",
    "    decimal=',',\n",
    ")\n",
    "\n",
    "data.info()\n",
    "\n",
    "#RESULTADO\n",
    "\n",
    "<class 'pandas.core.frame.DataFrame'>\n",
    "RangeIndex: 34936 entries, 0 to 34935\n",
    "Data columns (total 7 columns):\n",
    " #   Column        Non-Null Count  Dtype  \n",
    "---  ------        --------------  -----  \n",
    " 0   country       34936 non-null  object \n",
    " 1   name          34936 non-null  object \n",
    " 2   capacity_mw   34936 non-null  float64\n",
    " 3   latitude      34936 non-null  float64\n",
    " 4   longitude     34936 non-null  float64\n",
    " 5   primary_fuel  34936 non-null  object \n",
    " 6   owner         20868 non-null  object \n",
    "dtypes: float64(3), object(4)\n",
    "memory usage: 1.9+ MB\n",
    "```"
   ]
  },
  {
   "cell_type": "markdown",
   "metadata": {},
   "source": [
    "Solo con este método, obtenemos la siguiente información:\n",
    "\n",
    "- el número de filas (RangeIndex: 34936 entries);\n",
    "- el número de columnas (total 7 columns);\n",
    "- el nombre de cada columna (Column);\n",
    "- el número de valores de cada columna que no están ausentes (Non-Null Count);\n",
    "- el tipo de datos de cada columna (Dtype).\n",
    "\n",
    "Ten en cuenta: no se puede acceder directamente a la información mostrada por info() para almacenarla en variables o utilizarla en cálculos porque info() no devuelve nada, solo muestra en la pantalla. Si necesitas asignar un atributo del DataFrame a una variable para utilizarla más tarde, tendrás que acceder a ese atributo directamente.\n",
    "\n",
    "Si quieres almacenar el número de filas y columnas como variables, puedes utilizar el atributo shape. Este atributo devuelve tanto el número de filas como el número de columnas en el dataset. Así es como puede utilizarse:"
   ]
  },
  {
   "cell_type": "markdown",
   "metadata": {},
   "source": [
    "```python\n",
    "import pandas as pd\n",
    "\n",
    "column_names = [\n",
    "    'country',\n",
    "    'name',\n",
    "    'capacity_mw',\n",
    "    'latitude',\n",
    "    'longitude',\n",
    "    'primary_fuel',\n",
    "    'owner'\n",
    "]\n",
    "data = pd.read_csv(\n",
    "    '/datasets/gpp_modified.csv',\n",
    "    sep='|',\n",
    "    header=None,\n",
    "    names=column_names,\n",
    "    decimal=',',\n",
    ")\n",
    "\n",
    "n_rows, n_cols = data.shape\n",
    "\n",
    "print(f\"El DataFrame tiene {n_rows} filas y {n_cols} columnas\")\n",
    "\n",
    "#RESULTADO\n",
    "\n",
    "El DataFrame tiene 34936 filas y 7 columnas\n",
    "```"
   ]
  },
  {
   "cell_type": "markdown",
   "metadata": {},
   "source": [
    "#### **El método sample()**\n",
    "\n",
    "El método info() es estupendo, pero puedes obtener una visión aún más completa de tus datos combinando info() con la impresión de algunas filas de DataFrame. Recuerda que podemos hacerlo con los métodos head() o tail(). Por ahora vamos a empezar con head():"
   ]
  },
  {
   "cell_type": "markdown",
   "metadata": {},
   "source": [
    "```python\n",
    "import pandas as pd\n",
    "\n",
    "column_names = [\n",
    "    'country',\n",
    "    'name',\n",
    "    'capacity_mw',\n",
    "    'latitude',\n",
    "    'longitude',\n",
    "    'primary_fuel',\n",
    "    'owner'\n",
    "]\n",
    "data = pd.read_csv(\n",
    "    '/datasets/gpp_modified.csv',\n",
    "    sep='|',\n",
    "    header=None,\n",
    "    names=column_names,\n",
    "    decimal=',',\n",
    ")\n",
    "\n",
    "print(data.head())\n",
    "\n",
    "#RESULTADO\n",
    "\n",
    "       country                                              name capacity_mw latitude longitude primary_fuel owner   \n",
    "0  Afghanistan      Kajaki Hydroelectric Power Plant Afghanistan        33.0   32.322    65.119        Hydro   NaN\n",
    "1  Afghanistan                                      Kandahar DOG        10.0    31.67    65.795        Solar   NaN\n",
    "2  Afghanistan                                      Kandahar JOL        10.0   31.623    65.792        Solar   NaN\n",
    "3  Afghanistan     Mahipar Hydroelectric Power Plant Afghanistan        66.0   34.556   69.4787        Hydro   NaN\n",
    "4  Afghanistan  Naghlu Dam Hydroelectric Power Plant Afghanistan       100.0   34.641    69.717        Hydro   NaN\n",
    "```"
   ]
  },
  {
   "cell_type": "markdown",
   "metadata": {},
   "source": [
    "El método sample() selecciona filas aleatorias del DataFrame en lugar de filas consecutivas del principio o del final del DataFrame. Vamos a utilizarlo para imprimir 5 filas de nuestros datos:"
   ]
  },
  {
   "cell_type": "markdown",
   "metadata": {},
   "source": [
    "```python\n",
    "import pandas as pd\n",
    "\n",
    "column_names = [\n",
    "    'country',\n",
    "    'name',\n",
    "    'capacity_mw',\n",
    "    'latitude',\n",
    "    'longitude',\n",
    "    'primary_fuel',\n",
    "    'owner'\n",
    "]\n",
    "data = pd.read_csv(\n",
    "    '/datasets/gpp_modified.csv',\n",
    "    sep='|',\n",
    "    header=None,\n",
    "    names=column_names,\n",
    "    decimal=',',\n",
    ")\n",
    "\n",
    "print(data.sample(5))\n",
    "\n",
    "#RESULTADO\n",
    "\n",
    "                        country                         name  capacity_mw  latitude  longitude primary_fuel                   owner \n",
    "5208                      China  Bayanur Wuliji Wind Phase 2         49.0   41.5333   106.4167         Wind                     NaN  \n",
    "29010  United States of America          J Robert Massengale         84.0   33.6039  -101.8408          Gas  City of Lubbock - (TX) \n",
    "611                   Australia        Mugga Lane Solar Park         13.0  -35.3989   149.1460        Solar       Maoneng Australia\n",
    "5350                      China           Changli Datan Wind         48.0   39.5050   119.1797         Wind                     NaN\n",
    "4419                     Canada                       Rawdon          2.5   46.0458   -73.7294        Hydro         Algonquin Power\n",
    "```"
   ]
  }
 ],
 "metadata": {
  "kernelspec": {
   "display_name": "Python 3",
   "language": "python",
   "name": "python3"
  },
  "language_info": {
   "codemirror_mode": {
    "name": "ipython",
    "version": 3
   },
   "file_extension": ".py",
   "mimetype": "text/x-python",
   "name": "python",
   "nbconvert_exporter": "python",
   "pygments_lexer": "ipython3",
   "version": "3.11.6"
  }
 },
 "nbformat": 4,
 "nbformat_minor": 2
}
