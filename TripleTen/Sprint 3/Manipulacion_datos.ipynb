{
 "cells": [
  {
   "cell_type": "markdown",
   "metadata": {},
   "source": [
    "# **DATA WRANGLING**"
   ]
  },
  {
   "cell_type": "markdown",
   "metadata": {},
   "source": [
    "### SOLUCIONAR PROBLEMAS CON ARCHIVOS CSV"
   ]
  },
  {
   "cell_type": "code",
   "execution_count": null,
   "metadata": {},
   "outputs": [],
   "source": [
    "import pandas as pd\n",
    "\n",
    "data = pd.read_csv(\"/datasets/gpp_modified.csv\")\n",
    "\n",
    "print(data.head())"
   ]
  },
  {
   "cell_type": "markdown",
   "metadata": {},
   "source": [
    "```python\n",
    "  Afghanistan|Kajaki Hydroelectric Power Plant Afghanistan|33   0|32   322|65   119|Hydro|\n",
    "0                                 Afghanistan|Kandahar DOG|10   0|31    67|65   795|Solar|\n",
    "1                                 Afghanistan|Kandahar JOL|10   0|31   623|65   792|Solar|\n",
    "2           Afghanistan|Mahipar Hydroelectric Power Plant ...   0|34   556|69  4787|Hydro|\n",
    "3           Afghanistan|Naghlu Dam Hydroelectric Power Pla...   0|34   641|69   717|Hydro|\n",
    "4           Afghanistan|Nangarhar (Darunta) Hydroelectric ...  55|34  4847|70  3633|Hydro|\n",
    "```"
   ]
  },
  {
   "cell_type": "markdown",
   "metadata": {},
   "source": [
    "### **El parámetro sep=**\n",
    "\n",
    "El archivo definitivamente tiene comas, pero parece que el delimitador es en realidad el carácter |. Podemos considerar esto cuando leemos los datos utilizando el parámetro sep= en read_csv(). El argumento por defecto para sep= es ',', lo que explica la estructura de columnas que hemos observado antes. En su lugar, usemos '|' como argumento y veamos cómo afecta eso al DataFrame:"
   ]
  },
  {
   "cell_type": "code",
   "execution_count": null,
   "metadata": {},
   "outputs": [],
   "source": [
    "import pandas as pd\n",
    "\n",
    "data = pd.read_csv(\"/datasets/gpp_modified.csv\", sep=\"|\")\n",
    "\n",
    "print(data.head())"
   ]
  },
  {
   "cell_type": "markdown",
   "metadata": {},
   "source": [
    "```python\n",
    "   Afghanistan       Kajaki Hydroelectric Power Plant Afghanistan   33,0   32,322   65,119  Hydro  Unnamed: 6\n",
    "0  Afghanistan                                       Kandahar DOG   10,0    31,67   65,795  Solar         NaN\n",
    "1  Afghanistan                                       Kandahar JOL   10,0   31,623   65,792  Solar         NaN\n",
    "2  Afghanistan      Mahipar Hydroelectric Power Plant Afghanistan   66,0   34,556  69,4787  Hydro         NaN\n",
    "3  Afghanistan   Naghlu Dam Hydroelectric Power Plant Afghanistan  100,0   34,641   69,717  Hydro         NaN\n",
    "4  Afghanistan  Nangarhar (Darunta) Hydroelectric Power Plant ...  11,55  34,4847  70,3633  Hydro         NaN\n",
    "```"
   ]
  },
  {
   "cell_type": "markdown",
   "metadata": {},
   "source": [
    "### **Los parámetros header= y names=**\n",
    "\n",
    "El argumento por defecto es header='infer', que le dice a pandas que intente adivinar los nombres de las columnas. En nuestro caso, pandas adivinó que la primera fila de datos supuestamente son los nombres de las columnas. Podemos arreglarlo pasando header=None de la siguiente manera:\n"
   ]
  },
  {
   "cell_type": "markdown",
   "metadata": {},
   "source": [
    "```python\n",
    "import pandas as pd\n",
    "\n",
    "data = pd.read_csv('/datasets/gpp_modified.csv', sep='|', header=None)\n",
    "\n",
    "print(data.head())\n",
    "```\n",
    "\n",
    "```python\n",
    "             0                                                  1      2        3        4      5    6    \n",
    "0  Afghanistan       Kajaki Hydroelectric Power Plant Afghanistan   33,0   32,322   65,119  Hydro  NaN\n",
    "1  Afghanistan                                       Kandahar DOG   10,0    31,67   65,795  Solar  NaN\n",
    "2  Afghanistan                                       Kandahar JOL   10,0   31,623   65,792  Solar  NaN\n",
    "3  Afghanistan      Mahipar Hydroelectric Power Plant Afghanistan   66,0   34,556  69,4787  Hydro  NaN\n",
    "4  Afghanistan   Naghlu Dam Hydroelectric Power Plant Afghanistan  100,0   34,641   69,717  Hydro  NaN\n",
    "```"
   ]
  },
  {
   "cell_type": "markdown",
   "metadata": {},
   "source": []
  }
 ],
 "metadata": {
  "language_info": {
   "name": "python"
  }
 },
 "nbformat": 4,
 "nbformat_minor": 2
}
