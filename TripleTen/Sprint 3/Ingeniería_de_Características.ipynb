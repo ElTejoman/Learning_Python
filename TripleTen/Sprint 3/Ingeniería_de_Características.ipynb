{
 "cells": [
  {
   "cell_type": "markdown",
   "metadata": {},
   "source": [
    "# **Ingeniería de características**\n",
    "\n",
    "### Crear nuevas columbas con base en valores de otras\n",
    "\n",
    "Nos centramos en esta nueva DataFRame\n",
    "\n",
    "```python\n",
    "import pandas as pd\n",
    "\n",
    "df = pd.read_csv('/datasets/vg_sales.csv')\n",
    "print(df.head())\n",
    "\n",
    "#Resultado ===================================\n",
    "\n",
    "                       name platform  year_of_release         genre publisher  \\\n",
    "0                Wii Sports      Wii           2006.0        Sports  Nintendo   \n",
    "1         Super Mario Bros.      NES           1985.0      Platform  Nintendo   \n",
    "2            Mario Kart Wii      Wii           2008.0        Racing  Nintendo   \n",
    "3         Wii Sports Resort      Wii           2009.0        Sports  Nintendo   \n",
    "4  Pokemon Red/Pokemon Blue       GB           1996.0  Role-Playing  Nintendo   \n",
    "\n",
    "  developer  na_sales  eu_sales  jp_sales  critic_score  user_score  \n",
    "0  Nintendo     41.36     28.96      3.77          76.0         8.0  \n",
    "1       NaN     29.08      3.58      6.81           NaN         NaN  \n",
    "2  Nintendo     15.68     12.76      3.79          82.0         8.3  \n",
    "3  Nintendo     15.61     10.93      3.28          80.0         8.0  \n",
    "4       NaN     11.27      8.89     10.22           NaN         NaN\n",
    "```"
   ]
  },
  {
   "cell_type": "markdown",
   "metadata": {},
   "source": [
    "## Transformaciones de columnas mediante operadores aritméticos\n",
    "\n",
    "Fíjate que el DataFrame de arriba incluye las ventas de tres regiones: NA (Norteamérica), EU (Europa) y Japón (JPN). Para crear una columna llamada 'total_sales', tenemos que generarla a partir de las otras columnas. Afortunadamente, es fácil de hacer:\n",
    "\n",
    "```python\n",
    "import pandas as pd\n",
    "\n",
    "df = pd.read_csv('/datasets/vg_sales.csv')\n",
    "\n",
    "df['total_sales'] = df['na_sales'] + df['eu_sales'] + df['jp_sales']\n",
    "print(df['total_sales'].head())\n",
    "\n",
    "#Resultado ===================================\n",
    "0    74.09\n",
    "1    39.47\n",
    "2    32.23\n",
    "3    29.82\n",
    "4    30.38\n",
    "Name: total_sales, dtype: float64\n",
    "```"
   ]
  },
  {
   "cell_type": "markdown",
   "metadata": {},
   "source": [
    "Podemos aprovechar este método para crear columnas a partir de fórmulas útiles. Por ejemplo, si queremos calcular la parte de las ventas totales que proceden de la UE, podemos hacerlo así:\n",
    "\n",
    "```python\n",
    "import pandas as pd\n",
    "\n",
    "df = pd.read_csv('/datasets/vg_sales.csv')\n",
    "# crear la columna total_ventas y rellenarla\n",
    "df['total_sales'] = df['na_sales'] + df['eu_sales'] + df['jp_sales']\n",
    "\n",
    "# crear la columna eu_sales_share y rellenarla\n",
    "df['eu_sales_share'] = df['eu_sales'] / df['total_sales']\n",
    "print(df['eu_sales_share'].head())\n",
    "\n",
    "#Resultado ===================================\n",
    "\n",
    "0    0.390876\n",
    "1    0.090702\n",
    "2    0.395904\n",
    "3    0.366533\n",
    "4    0.292627\n",
    "Name: eu_sales_share, dtype: float64\n",
    "```\n"
   ]
  }
 ],
 "metadata": {
  "language_info": {
   "name": "python"
  }
 },
 "nbformat": 4,
 "nbformat_minor": 2
}
