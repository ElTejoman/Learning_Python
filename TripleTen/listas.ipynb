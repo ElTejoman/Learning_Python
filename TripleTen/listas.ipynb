{
 "cells": [
  {
   "cell_type": "markdown",
   "metadata": {},
   "source": [
    "PROPIEDADES BÁSICAS DE LAS LISTAS"
   ]
  },
  {
   "cell_type": "code",
   "execution_count": 1,
   "metadata": {},
   "outputs": [
    {
     "name": "stdout",
     "output_type": "stream",
     "text": [
      "[]\n",
      "<class 'list'>\n",
      "0\n"
     ]
    }
   ],
   "source": [
    "#CREAR UNA LISTA\n",
    "#Las listas se crean utilizando corchetes. Podemos crear una lista vacía poniendo los corchetes sin ningún valor dentro:\n",
    "my_list = [] # crear una lista\n",
    "\n",
    "print(my_list) # mostrar la lista\n",
    "print(type(my_list)) # comprobar el tipo\n",
    "print(len(my_list))  # comprobar la longitud"
   ]
  },
  {
   "cell_type": "code",
   "execution_count": 2,
   "metadata": {},
   "outputs": [
    {
     "name": "stdout",
     "output_type": "stream",
     "text": [
      "['The Graduate', 'Reservoir Dogs', 'Fear and Loathing in Las Vegas']\n",
      "<class 'list'>\n",
      "3\n"
     ]
    }
   ],
   "source": [
    "favorite_films = ['The Graduate', 'Reservoir Dogs', 'Fear and Loathing in Las Vegas']\n",
    "\n",
    "print(favorite_films)\n",
    "print(type(favorite_films))\n",
    "print(len(favorite_films)) "
   ]
  },
  {
   "cell_type": "code",
   "execution_count": 4,
   "metadata": {},
   "outputs": [
    {
     "name": "stdout",
     "output_type": "stream",
     "text": [
      "['<3', 77, 3.89, True, False, ['sub', 'list', 0.2]]\n",
      "6\n"
     ]
    }
   ],
   "source": [
    "#LAS LISTAS NO TIENEN POR QUÉ CONTENER VALORES DEL MISMO TIPO... PUEDEN TENER:\n",
    "\n",
    "my_list = ['<3', 77, 3.89, True, False, ['sub', 'list', 0.2]]\n",
    "\n",
    "print(my_list)\n",
    "print(len(my_list))"
   ]
  },
  {
   "cell_type": "code",
   "execution_count": 5,
   "metadata": {},
   "outputs": [
    {
     "name": "stdout",
     "output_type": "stream",
     "text": [
      "['Fight Club', 1999, ['thriller', 'drama', 'crime'], 139, 8.644]\n"
     ]
    }
   ],
   "source": [
    "#Con esto creemos que sabes lo suficiente como para hacer tus propias listas. A continuación se muestran algunas variables (title, year, etc.) que almacenan información sobre la película \"Fight Club\". Crea una lista llamada movie_info que contenga todas estas variables como elementos. Una vez creada, muestra la lista en la pantalla.\n",
    "\n",
    "title = 'Fight Club'\n",
    "year = 1999\n",
    "genre = ['thriller', 'drama', 'crime']\n",
    "duration = 139\n",
    "rating = 8.644\n",
    "\n",
    "movie_info =[title, year,genre, duration, rating]\n",
    "print(movie_info)\n"
   ]
  }
 ],
 "metadata": {
  "kernelspec": {
   "display_name": "Python 3",
   "language": "python",
   "name": "python3"
  },
  "language_info": {
   "codemirror_mode": {
    "name": "ipython",
    "version": 3
   },
   "file_extension": ".py",
   "mimetype": "text/x-python",
   "name": "python",
   "nbconvert_exporter": "python",
   "pygments_lexer": "ipython3",
   "version": "3.11.6"
  }
 },
 "nbformat": 4,
 "nbformat_minor": 2
}
