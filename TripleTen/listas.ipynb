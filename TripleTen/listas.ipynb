{
 "cells": [
  {
   "cell_type": "markdown",
   "metadata": {},
   "source": [
    "PROPIEDADES BÁSICAS DE LAS LISTAS"
   ]
  },
  {
   "cell_type": "code",
   "execution_count": 1,
   "metadata": {},
   "outputs": [
    {
     "name": "stdout",
     "output_type": "stream",
     "text": [
      "[]\n",
      "<class 'list'>\n",
      "0\n"
     ]
    }
   ],
   "source": [
    "#CREAR UNA LISTA\n",
    "#Las listas se crean utilizando corchetes. Podemos crear una lista vacía poniendo los corchetes sin ningún valor dentro:\n",
    "my_list = [] # crear una lista\n",
    "\n",
    "print(my_list) # mostrar la lista\n",
    "print(type(my_list)) # comprobar el tipo\n",
    "print(len(my_list))  # comprobar la longitud"
   ]
  },
  {
   "cell_type": "code",
   "execution_count": 2,
   "metadata": {},
   "outputs": [
    {
     "name": "stdout",
     "output_type": "stream",
     "text": [
      "['The Graduate', 'Reservoir Dogs', 'Fear and Loathing in Las Vegas']\n",
      "<class 'list'>\n",
      "3\n"
     ]
    }
   ],
   "source": [
    "favorite_films = ['The Graduate', 'Reservoir Dogs', 'Fear and Loathing in Las Vegas']\n",
    "\n",
    "print(favorite_films)\n",
    "print(type(favorite_films))\n",
    "print(len(favorite_films)) "
   ]
  },
  {
   "cell_type": "code",
   "execution_count": 4,
   "metadata": {},
   "outputs": [
    {
     "name": "stdout",
     "output_type": "stream",
     "text": [
      "['<3', 77, 3.89, True, False, ['sub', 'list', 0.2]]\n",
      "6\n"
     ]
    }
   ],
   "source": [
    "#LAS LISTAS NO TIENEN POR QUÉ CONTENER VALORES DEL MISMO TIPO... PUEDEN TENER:\n",
    "\n",
    "my_list = ['<3', 77, 3.89, True, False, ['sub', 'list', 0.2]]\n",
    "\n",
    "print(my_list)\n",
    "print(len(my_list))"
   ]
  },
  {
   "cell_type": "code",
   "execution_count": 5,
   "metadata": {},
   "outputs": [
    {
     "name": "stdout",
     "output_type": "stream",
     "text": [
      "['Fight Club', 1999, ['thriller', 'drama', 'crime'], 139, 8.644]\n"
     ]
    }
   ],
   "source": [
    "#Con esto creemos que sabes lo suficiente como para hacer tus propias listas. A continuación se muestran algunas variables (title, year, etc.) que almacenan información sobre la película \"Fight Club\". Crea una lista llamada movie_info que contenga todas estas variables como elementos. Una vez creada, muestra la lista en la pantalla.\n",
    "\n",
    "title = 'Fight Club'\n",
    "year = 1999\n",
    "genre = ['thriller', 'drama', 'crime']\n",
    "duration = 139\n",
    "rating = 8.644\n",
    "\n",
    "movie_info =[title, year,genre, duration, rating]\n",
    "print(movie_info)\n"
   ]
  },
  {
   "cell_type": "markdown",
   "metadata": {},
   "source": [
    "INDICES Y SLICES"
   ]
  },
  {
   "cell_type": "code",
   "execution_count": 10,
   "metadata": {},
   "outputs": [
    {
     "name": "stdout",
     "output_type": "stream",
     "text": [
      "Fight Club\n",
      "<class 'str'>\n"
     ]
    }
   ],
   "source": [
    "movie_info = ['Fight Club', 1999, ['thriller', 'drama', 'crime'], 139, 8.644]\n",
    "\n",
    "print(movie_info[0])\n",
    "print(type(movie_info[0])) "
   ]
  },
  {
   "cell_type": "code",
   "execution_count": 11,
   "metadata": {},
   "outputs": [
    {
     "name": "stdout",
     "output_type": "stream",
     "text": [
      "[1999, ['thriller', 'drama', 'crime'], 139]\n",
      "<class 'list'>\n",
      "3\n"
     ]
    }
   ],
   "source": [
    "movie_info = ['Fight Club', 1999, ['thriller', 'drama', 'crime'], 139, 8.644]\n",
    "\n",
    "print(movie_info[1:4])\n",
    "print(type(movie_info[1:4]))\n",
    "print(len(movie_info[1:4])) "
   ]
  },
  {
   "cell_type": "code",
   "execution_count": null,
   "metadata": {},
   "outputs": [],
   "source": [
    "movie_info = ['Fight Club', 1999, ['thriller', 'drama', 'crime'], 139, 8.644]\n",
    "\n",
    "print(movie_info[2:100])\n",
    "print(len(movie_info[2:100])) "
   ]
  },
  {
   "cell_type": "code",
   "execution_count": 13,
   "metadata": {},
   "outputs": [
    {
     "name": "stdout",
     "output_type": "stream",
     "text": [
      "[1999, ['thriller', 'drama', 'crime'], 139, 8.644]\n",
      "4\n"
     ]
    }
   ],
   "source": [
    "#un poco mas resumida\n",
    "\n",
    "movie_info = ['Fight Club', 1999, ['thriller', 'drama', 'crime'], 139, 8.644]\n",
    "\n",
    "print(movie_info[1:])\n",
    "print(len(movie_info[1:]))\n"
   ]
  },
  {
   "cell_type": "code",
   "execution_count": 15,
   "metadata": {},
   "outputs": [
    {
     "name": "stdout",
     "output_type": "stream",
     "text": [
      "['USA', 1994, 'drama']\n",
      "['The Shawshank Redemption', 'USA', 1994]\n",
      "[1994, 'drama', 142, 9.111]\n"
     ]
    }
   ],
   "source": [
    "movies_info = ['The Shawshank Redemption', 'USA', 1994, 'drama', 142, 9.111]\n",
    "# corta los elementos del 1 al 3:\n",
    "print(movies_info[1:4]) \n",
    "# cortando los elementos del 0 al 2:\n",
    "print(movies_info[0:3]) \n",
    "# corta los elementos del 2 al último:\n",
    "print(movies_info[2:])"
   ]
  },
  {
   "cell_type": "markdown",
   "metadata": {},
   "source": [
    "MODIFICACION DE LISTAS"
   ]
  },
  {
   "cell_type": "markdown",
   "metadata": {},
   "source": [
    "Se utilizará\n",
    "\n",
    ".append() - añadir elemento al final de la lista. incrementa en +1\n",
    "\n",
    ".extend() - añadimos varios elementos al final de la lista\n",
    "\n",
    ".insert() - añadir en la posicion que yo desee y el valor del mismo.    Solo inserta un elemento\n",
    "\n",
    ".pop() - Se elimina el último elemento de la lista ó poner su índice exacto como argumento\n"
   ]
  },
  {
   "cell_type": "code",
   "execution_count": 16,
   "metadata": {},
   "outputs": [
    {
     "name": "stdout",
     "output_type": "stream",
     "text": [
      "['The Shawshank Redemption', 'USA', 1994, 'drama', 142, 9.111, 'Frank Darabont']\n"
     ]
    }
   ],
   "source": [
    "#Vamos a modificar la lista shawshank_movie añadiéndole el nombre del director de esta película. Su nombre es 'Frank Darabont'.\n",
    "\n",
    "shawshank_movie = ['The Shawshank Redemption', 'USA', 1994, 'drama', 142, 9.111]\n",
    "shawshank_movie.append(\"Frank Darabont\") # escribe tu código aquí\n",
    "print(shawshank_movie)"
   ]
  },
  {
   "cell_type": "code",
   "execution_count": 17,
   "metadata": {},
   "outputs": [
    {
     "name": "stdout",
     "output_type": "stream",
     "text": [
      "['The Godfather', 'USA', 1972, 'Francis Ford Coppola', 'Nino Rota']\n"
     ]
    }
   ],
   "source": [
    "#Este método se llama sobre una lista, a la que pasamos otra lista cuyos elementos queremos añadir como argumento. Al igual que append(), extend() modifica la lista original en lugar de devolver una nueva.\n",
    "\n",
    "godfather_movie = ['The Godfather', 'USA', 1972]\n",
    "# agregamos los nombres del director y compositor al final de la lista\n",
    "godfather_movie.extend(['Francis Ford Coppola', 'Nino Rota'])\n",
    "print(godfather_movie)"
   ]
  },
  {
   "cell_type": "code",
   "execution_count": 21,
   "metadata": {},
   "outputs": [
    {
     "name": "stdout",
     "output_type": "stream",
     "text": [
      "['Titanic', 'USA', 1997, 'drama', 194]\n"
     ]
    }
   ],
   "source": [
    "#Es hora de practicar! A continuación encontrarás una variable llamada titanic_movie que contiene información sobre la película Titanic: el nombre, el país de origen y el año de estreno. Como ves, esta información se almacena en forma de list. Nuestro objetivo es añadir a la lista datos sobre el género de la película (’drama’) y su duración (194):\n",
    "\n",
    "titanic_movie = ['Titanic', 'USA', 1997]\n",
    "titanic_movie.extend([\"drama\", 194]) # añade el género y la duración de la película al final de la lista\n",
    "print(titanic_movie)"
   ]
  },
  {
   "cell_type": "code",
   "execution_count": 22,
   "metadata": {},
   "outputs": [
    {
     "name": "stdout",
     "output_type": "stream",
     "text": [
      "['The Dark Knight', 'USA', 2008, 'fantasy, action, thriller', 152]\n"
     ]
    }
   ],
   "source": [
    "#Vamos a añadir el año de lanzamiento de The Dark Knight a la lista, justo después del país. Como el país está en el índice 1, nuestro nuevo elemento debe insertarse en el índice 2:\n",
    "\n",
    "dark_knight_movie = ['The Dark Knight', 'USA', 'fantasy, action, thriller', 152]\n",
    "dark_knight_movie.insert(2, 2008)\n",
    "print(dark_knight_movie)"
   ]
  },
  {
   "cell_type": "code",
   "execution_count": 23,
   "metadata": {},
   "outputs": [
    {
     "name": "stdout",
     "output_type": "stream",
     "text": [
      "['Titanic', 'USA', 1997, 'James Cameron', 'drama', 194]\n"
     ]
    }
   ],
   "source": [
    "#Añade el nombre del director ('James Cameron') antes del género de la película:\n",
    "\n",
    "titanic_movie = ['Titanic', 'USA', 1997, 'drama', 194]\n",
    "\n",
    "titanic_movie.insert(3, \"James Cameron\")\n",
    "\n",
    "# añade el nombre del director antes del género de la película:\n",
    "print(titanic_movie)"
   ]
  },
  {
   "cell_type": "code",
   "execution_count": 24,
   "metadata": {},
   "outputs": [
    {
     "name": "stdout",
     "output_type": "stream",
     "text": [
      "['Matrix', 'Matrix 2']\n"
     ]
    }
   ],
   "source": [
    "#Saber cómo se añaden elementos a una lista es solo una parte del trabajo. A veces, necesitamos hacer lo contrario: eliminar un elemento de una lista. Para ello se puede utilizar el método pop(). \n",
    "#Cuando se aplica sin argumentos, este método elimina un elemento del final de la lista. A continuación te mostramos un ejemplo:\n",
    "\n",
    "movies = ['Matrix', 'Matrix 2', 'Matrix 3']\n",
    "movies.pop()\n",
    "print(movies)"
   ]
  },
  {
   "cell_type": "code",
   "execution_count": 25,
   "metadata": {},
   "outputs": [
    {
     "name": "stdout",
     "output_type": "stream",
     "text": [
      "Matrix 2\n"
     ]
    }
   ],
   "source": [
    "#También se puede eliminar un elemento concreto de la lista pasando su índice exacto como argumento.\n",
    "\n",
    "movies = ['Matrix', 'Matrix 2', 'Matrix 3']\n",
    "popped_value = movies.pop(1)\n",
    "print(popped_value)"
   ]
  },
  {
   "cell_type": "code",
   "execution_count": 26,
   "metadata": {},
   "outputs": [
    {
     "name": "stdout",
     "output_type": "stream",
     "text": [
      "['Titanic', 'USA', 1997, 'drama', 194]\n"
     ]
    }
   ],
   "source": [
    "# Acabamos de añadir el nombre del director ('James Cameron') antes del género de la película. Ahora queremos volver a la versión original. Para ello, tenemos que eliminar el nombre del director.\n",
    "\n",
    "titanic_movie = ['Titanic', 'USA', 1997, 'James Cameron', 'drama', 194]\n",
    "# añade el género y la duración de la película al final de la lista\n",
    "titanic_movie.pop(3)\n",
    "print(titanic_movie)"
   ]
  },
  {
   "cell_type": "markdown",
   "metadata": {},
   "source": [
    "METODO SORT Y SORTED\n",
    "\n",
    "SORT - ordena la lista en ascendente, de menor a mayor y si se desea de mayor a menor se debe utilizar ---> variable.sort(reverse=True)"
   ]
  },
  {
   "cell_type": "code",
   "execution_count": 27,
   "metadata": {},
   "outputs": [
    {
     "name": "stdout",
     "output_type": "stream",
     "text": [
      "[1994, 1972, 2008, 1993, 2003, 1994, 1966, 1999, 1962, 1997]\n",
      "[1962, 1966, 1972, 1993, 1994, 1994, 1997, 1999, 2003, 2008]\n"
     ]
    }
   ],
   "source": [
    "#ejemplo de sort ascendente\n",
    "\n",
    "years = [1994, 1972, 2008, 1993, 2003, 1994, 1966, 1999, 1962, 1997]\n",
    "print(years)\n",
    "\n",
    "years.sort()\n",
    "print(years) "
   ]
  },
  {
   "cell_type": "code",
   "execution_count": 28,
   "metadata": {},
   "outputs": [
    {
     "name": "stdout",
     "output_type": "stream",
     "text": [
      "[2008, 2003, 1999, 1997, 1994, 1994, 1993, 1972, 1966, 1962]\n"
     ]
    }
   ],
   "source": [
    "# Si queremos ordenar por orden descendente, debemos pasar al método el parámetro reverse= y asignarle el valor True. A continuación te mostramos un ejemplo:\n",
    "years = [1994, 1972, 2008, 1993, 2003, 1994, 1966, 1999, 1962, 1997]\n",
    "\n",
    "years.sort(reverse=True)\n",
    "print(years) \n"
   ]
  },
  {
   "cell_type": "code",
   "execution_count": 29,
   "metadata": {},
   "outputs": [],
   "source": [
    "#ejemplo ordenamiento de strings\n",
    "\n",
    "movies = ['The Shawshank Redemption', 'The Godfather', 'The Dark Knight', 'Schindler\\'s List']\n",
    "movies.sort()\n",
    "print(movies) "
   ]
  }
 ],
 "metadata": {
  "kernelspec": {
   "display_name": "Python 3",
   "language": "python",
   "name": "python3"
  },
  "language_info": {
   "codemirror_mode": {
    "name": "ipython",
    "version": 3
   },
   "file_extension": ".py",
   "mimetype": "text/x-python",
   "name": "python",
   "nbconvert_exporter": "python",
   "pygments_lexer": "ipython3",
   "version": "3.11.6"
  }
 },
 "nbformat": 4,
 "nbformat_minor": 2
}
