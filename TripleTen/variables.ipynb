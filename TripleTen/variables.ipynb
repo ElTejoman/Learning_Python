{
 "cells": [
  {
   "cell_type": "code",
   "execution_count": null,
   "metadata": {},
   "outputs": [],
   "source": [
    "pets = 2\n",
    "pets = 4# escribe tu código aquí\n",
    "print(pets)"
   ]
  },
  {
   "cell_type": "code",
   "execution_count": null,
   "metadata": {},
   "outputs": [],
   "source": [
    "first_variable = 42\n",
    "second_variable = first_variable\n",
    "print(second_variable)"
   ]
  },
  {
   "cell_type": "markdown",
   "metadata": {},
   "source": [
    "Operaciones Aritméticas con variables:"
   ]
  },
  {
   "cell_type": "code",
   "execution_count": null,
   "metadata": {},
   "outputs": [],
   "source": [
    "french_speakers = 284.9\n",
    "german_speakers = 132.0\n",
    "\n",
    "total_speakers = french_speakers + german_speakers\n",
    "\n",
    "print(\"Millones de personas que hablan francés o alemán:\", total_speakers)"
   ]
  },
  {
   "cell_type": "code",
   "execution_count": null,
   "metadata": {},
   "outputs": [],
   "source": [
    "english_speakers = 1121\n",
    "russian_speakers = 264.3# busca el valor en la tabla y escríbelo aquí\n",
    "\n",
    "total_speakers = english_speakers + russian_speakers     \n",
    "print(total_speakers)# crea la variable total_speakers y realiza los cálculos debajo de esta línea"
   ]
  },
  {
   "cell_type": "code",
   "execution_count": null,
   "metadata": {},
   "outputs": [],
   "source": [
    "total_italian = 67.8 # busca el valor en la tabla y escríbelo aquí\n",
    "native_italian = 64.8 # busca el valor en la tabla y escríbelo aquí\n",
    "share_native = native_italian / total_italian\n",
    "# crea la variable share_native y realiza los cálculos debajo de esta línea\n",
    "print(share_native)"
   ]
  },
  {
   "cell_type": "code",
   "execution_count": null,
   "metadata": {},
   "outputs": [],
   "source": [
    "native_japanese = 128.2 # busca el valor en la tabla y escríbelo aquí\n",
    "native_french = 76.7 # busca el valor en la tabla y escríbelo aquí\n",
    "speaker_diff = native_japanese - native_french\n",
    "\n",
    "print(speaker_diff)\n",
    "# termina tu código aquí abajo"
   ]
  }
 ],
 "metadata": {
  "language_info": {
   "name": "python"
  },
  "orig_nbformat": 4
 },
 "nbformat": 4,
 "nbformat_minor": 2
}
