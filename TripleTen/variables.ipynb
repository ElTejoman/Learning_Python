{
 "cells": [
  {
   "cell_type": "code",
   "execution_count": null,
   "metadata": {},
   "outputs": [],
   "source": [
    "pets = 2\n",
    "pets = 4# escribe tu código aquí\n",
    "print(pets)"
   ]
  },
  {
   "cell_type": "code",
   "execution_count": null,
   "metadata": {},
   "outputs": [],
   "source": [
    "first_variable = 42\n",
    "second_variable = first_variable\n",
    "print(second_variable)"
   ]
  },
  {
   "cell_type": "markdown",
   "metadata": {},
   "source": [
    "Operaciones Aritméticas con variables:"
   ]
  },
  {
   "cell_type": "code",
   "execution_count": null,
   "metadata": {},
   "outputs": [],
   "source": [
    "french_speakers = 284.9\n",
    "german_speakers = 132.0\n",
    "\n",
    "total_speakers = french_speakers + german_speakers\n",
    "\n",
    "print(\"Millones de personas que hablan francés o alemán:\", total_speakers)"
   ]
  },
  {
   "cell_type": "code",
   "execution_count": null,
   "metadata": {},
   "outputs": [],
   "source": [
    "english_speakers = 1121\n",
    "russian_speakers = 264.3# busca el valor en la tabla y escríbelo aquí\n",
    "\n",
    "total_speakers = english_speakers + russian_speakers     \n",
    "print(total_speakers)# crea la variable total_speakers y realiza los cálculos debajo de esta línea"
   ]
  },
  {
   "cell_type": "code",
   "execution_count": null,
   "metadata": {},
   "outputs": [],
   "source": [
    "total_italian = 67.8 # busca el valor en la tabla y escríbelo aquí\n",
    "native_italian = 64.8 # busca el valor en la tabla y escríbelo aquí\n",
    "share_native = native_italian / total_italian\n",
    "# crea la variable share_native y realiza los cálculos debajo de esta línea\n",
    "print(share_native)"
   ]
  },
  {
   "cell_type": "code",
   "execution_count": null,
   "metadata": {},
   "outputs": [],
   "source": [
    "native_japanese = 128.2 # busca el valor en la tabla y escríbelo aquí\n",
    "native_french = 76.7 # busca el valor en la tabla y escríbelo aquí\n",
    "speaker_diff = native_japanese - native_french\n",
    "\n",
    "print(speaker_diff)\n",
    "# termina tu código aquí abajo"
   ]
  },
  {
   "cell_type": "markdown",
   "metadata": {},
   "source": [
    "TRABAJEMOS EN TIPOS DE DATOS"
   ]
  },
  {
   "cell_type": "code",
   "execution_count": null,
   "metadata": {},
   "outputs": [],
   "source": [
    "language = 'Chino'\n",
    "website_share = 0.017\n",
    "native_speakers = 908.7\n",
    "total_speakers = 1107\n",
    "majority_native = True\n",
    "\n",
    "print(type(language))\n",
    "print(type(website_share))\n",
    "print(type(native_speakers))\n",
    "print(type(total_speakers)) # imprime el tipo de datos para total_speakers\n",
    "print(type(majority_native)) # imprime el tipo de datos para majority_native"
   ]
  },
  {
   "cell_type": "code",
   "execution_count": null,
   "metadata": {},
   "outputs": [],
   "source": [
    "# strings\n",
    "ch_language = 'Chino'\n",
    "en_language = 'Inglés'\n",
    "\n",
    "# flotantes\n",
    "ch_website_share = 0.017\n",
    "en_website_share = 0.539\n",
    "\n",
    "# enteros\n",
    "ch_total_speakers = 1107\n",
    "en_total_speakers = 1121\n",
    "\n",
    "# booleanos\n",
    "ch_majority_native = True\n",
    "en_majority_native = False\n",
    "\n",
    "print(ch_language + en_language)\n",
    "print(ch_website_share + en_website_share)\n",
    "print(ch_total_speakers + en_total_speakers)\n",
    "print(ch_majority_native + en_majority_native)"
   ]
  },
  {
   "cell_type": "code",
   "execution_count": null,
   "metadata": {},
   "outputs": [],
   "source": [
    "str1 = 'sombrero'\n",
    "str2 = 'gato'\n",
    "str3 = 'el'\n",
    "str4 = 'en'\n",
    "str5 = ' '\n",
    "\n",
    "# escribe tu código dentro de la función print()\n",
    "print(str3+str5+str2+str5+str4+str5+str3+str5+str1)"
   ]
  },
  {
   "cell_type": "code",
   "execution_count": null,
   "metadata": {},
   "outputs": [],
   "source": [
    "print(' 123ABC ' * 6)"
   ]
  },
  {
   "cell_type": "markdown",
   "metadata": {},
   "source": [
    "CONVERSION TIPOS DE DATOS"
   ]
  },
  {
   "cell_type": "code",
   "execution_count": 1,
   "metadata": {},
   "outputs": [
    {
     "name": "stdout",
     "output_type": "stream",
     "text": [
      "10.6\n",
      "10\n"
     ]
    }
   ],
   "source": [
    "cz_total_speakers = 10.6# busca el valor en la tabla y escríbelo aquí\n",
    "print(cz_total_speakers)\n",
    "\n",
    "cz_total_speakers = int(cz_total_speakers)\n",
    "print(cz_total_speakers)\n",
    "#print(type(cz_total_speakers))"
   ]
  },
  {
   "cell_type": "code",
   "execution_count": 3,
   "metadata": {},
   "outputs": [
    {
     "name": "stdout",
     "output_type": "stream",
     "text": [
      "1117\n",
      "<class 'int'>\n"
     ]
    }
   ],
   "source": [
    "#Si queremos realizar operaciones aritméticas con ch_total_speakers, tenemos que convertirlo en un tipo de datos numérico. En este caso, vamos a convertirlo en un entero:\n",
    "\n",
    "ch_total_speakers = '1107'\n",
    "ch_total_speakers = int(ch_total_speakers)\n",
    "\n",
    "ch_total_speakers = ch_total_speakers + 10\n",
    "print(ch_total_speakers)\n",
    "print(type(ch_total_speakers))"
   ]
  },
  {
   "cell_type": "code",
   "execution_count": null,
   "metadata": {},
   "outputs": [],
   "source": [
    "#Ahora te toca a ti realizar la conversión de datos. Ejecuta el siguiente código y examina el mensaje de error. A continuación, convierte la variable share_english en tipo float y vuelve a ejecutar el código antes de enviar tu respuesta.\n",
    "\n",
    "share_english = '0.539'\n",
    "\n",
    "share_english = float(share_english)    # escribe tu código aquí\n",
    "\n",
    "print(type(share_english))\n",
    "print(share_english + 0.1)"
   ]
  },
  {
   "cell_type": "code",
   "execution_count": null,
   "metadata": {},
   "outputs": [],
   "source": [
    "zipcode = 90210\n",
    "print(type(zipcode))\n",
    "\n",
    "zipcode = str(zipcode)\n",
    "print(type(zipcode))"
   ]
  },
  {
   "cell_type": "markdown",
   "metadata": {},
   "source": [
    "MENSAJES DE ERROR"
   ]
  },
  {
   "cell_type": "code",
   "execution_count": null,
   "metadata": {},
   "outputs": [],
   "source": [
    "apple_price = 1.25\n",
    "banana_price = 0.99\n",
    "#kiwi_price = 1.49\n",
    "\n",
    "total_price = apple_price + banana_price + kiwi_price\n",
    "print(\"Precio total:\", total_price)"
   ]
  },
  {
   "cell_type": "markdown",
   "metadata": {},
   "source": [
    "MANEJO DE ERRORES"
   ]
  },
  {
   "cell_type": "code",
   "execution_count": 5,
   "metadata": {},
   "outputs": [
    {
     "name": "stdout",
     "output_type": "stream",
     "text": [
      "¡No podemos dividir entre cero!\n",
      "¡Sigamos adelante!\n"
     ]
    }
   ],
   "source": [
    "#Cuando Python encuentra un error, termina el programa. Esto es lo que sucede cuando estás jugando a un videojuego o utilizando una aplicación y el programa de repente se bloquea.\n",
    "#Podemos evitar los errores aplicando el operador de manejo de excepciones try-except:\n",
    "\n",
    "try:\n",
    "    print(777 / 0)\n",
    "except:\n",
    "    print('¡No podemos dividir entre cero!')\n",
    "    print('¡Sigamos adelante!')"
   ]
  },
  {
   "cell_type": "code",
   "execution_count": null,
   "metadata": {},
   "outputs": [],
   "source": [
    "#Primero, ejecuta el programa de abajo para asegurarte de que se produzca el error ZeroDivisionError.\n",
    "#Después, cambia el código para que contenga un bloque try-except. Si hay un error, imprime el mensaje '¡División entre cero!'.\n",
    "#No es necesario cambiar los valores de las variables.\n",
    "\n",
    "\n",
    "ja_total_speakers = 0\n",
    "ja_native_speakers = 128.2\n",
    "try:\n",
    "    print((ja_total_speakers - ja_native_speakers) / ja_total_speakers)\n",
    "except:\n",
    "    print('¡División entre cero!')"
   ]
  }
 ],
 "metadata": {
  "kernelspec": {
   "display_name": "Python 3",
   "language": "python",
   "name": "python3"
  },
  "language_info": {
   "codemirror_mode": {
    "name": "ipython",
    "version": 3
   },
   "file_extension": ".py",
   "mimetype": "text/x-python",
   "name": "python",
   "nbconvert_exporter": "python",
   "pygments_lexer": "ipython3",
   "version": "3.11.6"
  },
  "orig_nbformat": 4
 },
 "nbformat": 4,
 "nbformat_minor": 2
}
