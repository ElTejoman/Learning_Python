{
 "cells": [
  {
   "cell_type": "markdown",
   "metadata": {},
   "source": [
    "OPERACIONES CON STRINGS\n"
   ]
  },
  {
   "cell_type": "code",
   "execution_count": 1,
   "metadata": {},
   "outputs": [
    {
     "name": "stdout",
     "output_type": "stream",
     "text": [
      "And then she said, \"hey, that's it!\" before grabbing the cat's tail.\n"
     ]
    }
   ],
   "source": [
    "#En este caso, el carácter de escape es \\'. Observa en la salida que Python no incluye \\ en el propio string: simplemente está ahí para que Python sepa que queremos que nuestro string incluya el carácter '. Del mismo modo, podemos utilizar \\\" para incluir el carácter \" en un string que está entre comillas dobles.\n",
    "#Ejecuta el siguiente código y examina el mensaje de error. A continuación, usa caracteres de escape para corregir la sintaxis.\n",
    "\n",
    "print(\"And then she said, \\\"hey, that's it!\\\" before grabbing the cat\\'s tail.\")"
   ]
  },
  {
   "cell_type": "code",
   "execution_count": null,
   "metadata": {},
   "outputs": [],
   "source": [
    "#Además de las comillas simples y dobles, hay varios otros caracteres de escape. La mayoría de ellos se utilizan para formatear texto, siendo los dos más comunes:\n",
    "#\\n: el carácter de nueva línea, para agregar un salto de línea, haciendo que tu string continúe en la siguiente línea.\n",
    "#\\t: el carácter de tabulación, para agregar tabulación a tu string."
   ]
  },
  {
   "cell_type": "code",
   "execution_count": null,
   "metadata": {},
   "outputs": [],
   "source": [
    "print(\"My shopping list: \\n 2 packs of milk, \\n breakfast cereal, \\n eggs, \\n bread\")"
   ]
  },
  {
   "cell_type": "markdown",
   "metadata": {},
   "source": [
    "pROPIEDADES BÁSICAS DE STRINGS \n"
   ]
  },
  {
   "cell_type": "code",
   "execution_count": null,
   "metadata": {},
   "outputs": [],
   "source": [
    "#Python nos permite crear strings de varias líneas! Para hacerlo, envuelve el string en tres comillas simples ’’’ o dobles ”””. Aquí tienes un ejemplo:\n",
    "\n",
    "shopping_list = \"\"\"Mi lista de compras:\n",
    "2 cartones de leche,\n",
    "cereales de desayuno,\n",
    "huevos, \n",
    "pan\"\"\"\n",
    "\n",
    "print(shopping_list)"
   ]
  },
  {
   "cell_type": "code",
   "execution_count": 3,
   "metadata": {},
   "outputs": [
    {
     "name": "stdout",
     "output_type": "stream",
     "text": [
      "Then let not winter's ragged hand deface,\n",
      "In thee thy summer, ere thou be distilled:\n",
      "Make sweet some vial; treasure thou some place\n",
      "With beauty's treasure ere it be self-killed.\n",
      "That use is not forbidden usury,\n",
      "Which happies those that pay the willing loan;\n",
      "That's for thy self to breed another thee,\n",
      "Or ten times happier, be it ten for one;\n",
      "Ten times thy self were happier than thou art,\n",
      "If ten of thine ten times refigured thee:\n",
      "Then what could death do if thou shouldst depart,\n",
      "Leaving thee living in posterity?\n",
      "Be not self-willed, for thou art much too fair\n",
      "To be death's conquest and make worms thine heir.\n",
      "\n",
      "611\n"
     ]
    }
   ],
   "source": [
    "#SABER LONGITUD DEL STRING\n",
    "\n",
    "sonnet = \"Then let not winter's ragged hand deface,\\nIn thee thy summer, ere thou be distilled:\\nMake sweet some vial; treasure thou some place\\nWith beauty's treasure ere it be self-killed.\\nThat use is not forbidden usury,\\nWhich happies those that pay the willing loan;\\nThat's for thy self to breed another thee,\\nOr ten times happier, be it ten for one;\\nTen times thy self were happier than thou art,\\nIf ten of thine ten times refigured thee:\\nThen what could death do if thou shouldst depart,\\nLeaving thee living in posterity?\\nBe not self-willed, for thou art much too fair\\nTo be death's conquest and make worms thine heir.\"\n",
    "\n",
    "print(sonnet)\n",
    "print()\n",
    "print(len(sonnet))"
   ]
  },
  {
   "cell_type": "code",
   "execution_count": 4,
   "metadata": {},
   "outputs": [
    {
     "name": "stdout",
     "output_type": "stream",
     "text": [
      "9\n",
      "10\n",
      "10\n"
     ]
    }
   ],
   "source": [
    "string_1 = \"HolaAdiós\"\n",
    "string_2 = \"Hola Adiós\"\n",
    "string_3 = \"Hola\\nAdiós\"\n",
    "print(len(string_1))\n",
    "print(len(string_2))\n",
    "print(len(string_3))"
   ]
  },
  {
   "cell_type": "code",
   "execution_count": 5,
   "metadata": {},
   "outputs": [
    {
     "name": "stdout",
     "output_type": "stream",
     "text": [
      "c\n"
     ]
    }
   ],
   "source": [
    "word = 'supercalifragilisticexpialidocious'\n",
    "letter = word[5] # extraer el sexto carácter del string\n",
    "print(letter)"
   ]
  },
  {
   "cell_type": "code",
   "execution_count": 6,
   "metadata": {},
   "outputs": [
    {
     "name": "stdout",
     "output_type": "stream",
     "text": [
      "s o\n"
     ]
    }
   ],
   "source": [
    "#INDEXACION NEGATIVA\n",
    "\n",
    "word = 'supercalifragilisticexpialidocious'\n",
    "\n",
    "last_letter = word[-1] # extraer la última letra\n",
    "third_from_end = word[-3] # extraer el tercer carácter del final\n",
    "print(last_letter, third_from_end)"
   ]
  },
  {
   "cell_type": "code",
   "execution_count": null,
   "metadata": {},
   "outputs": [],
   "source": [
    "#Muestra el último carácter del string almacenado en la variable phrase mediante la función len() con indexación positiva, luego muestra el primer carácter del string almacenado en la variable phrase mediante la función len() con indexación negativa.\n",
    "\n",
    "phrase = 'Olivia ama a su pequeño patito amarillo'\n",
    "print(phrase)\n",
    "print(phrase[38])\n",
    "\n",
    "print(phrase[len(phrase)-1])\n",
    "print(phrase[-len(phrase)])\n",
    "# muestra aquí el último carácter usando la función len() y la indexación positiva\n",
    "# muestra aquí el último carácter usando la función len() y la indexación negativa"
   ]
  },
  {
   "cell_type": "markdown",
   "metadata": {},
   "source": [
    "SLICES"
   ]
  },
  {
   "cell_type": "code",
   "execution_count": null,
   "metadata": {},
   "outputs": [],
   "source": [
    "# Los slices acceden a varios caracteres\n",
    "#El slicing te permite seleccionar varios caracteres de un string en lugar de solo uno, para que puedas acceder a tus datos más rápido y trabajar de manera más eficiente.\n",
    "#Al final de esta lección, podrás usar slices para acceder a cualquier subconjunto de caracteres de un string.\n",
    "#Para dividir un string, usamos la indexación, pero hay un poco más de lo que aprendimos en la última lección. Para los slices, necesitamos colocar los índices inicial y final dentro de los corchetes, separados por dos puntos. Ejecuta el siguiente código para ver cómo funciona.\n",
    "\n",
    "city = 'Rio de Janeiro, Brazil'\n",
    "substring = city[7:14]\n",
    "print(substring)"
   ]
  },
  {
   "cell_type": "code",
   "execution_count": 7,
   "metadata": {},
   "outputs": [
    {
     "name": "stdout",
     "output_type": "stream",
     "text": [
      "de Janeiro, Brazil\n",
      "Janeiro, Brazil\n",
      "\n"
     ]
    }
   ],
   "source": [
    "city = 'Rio de Janeiro, Brazil'\n",
    "\n",
    "print(city[4:1000])\n",
    "print(city[-15:500])\n",
    "print(city[4:0])\n",
    "\n",
    "#Python ignora los valores de índice fuera del rango real:\n",
    "#El substring city[4:1000] contendrá los caracteres desde el índice 4 hasta el final del string.\n",
    "#city[-15:500] contendrá el substring, comenzando en J, que tiene el índice -15, hasta el final del string.\n",
    "#En el caso de city[4:0], dado que el primer índice es mayor que el segundo, el slice devolverá un string vacío."
   ]
  },
  {
   "cell_type": "code",
   "execution_count": null,
   "metadata": {},
   "outputs": [],
   "source": [
    "#Obtén el substring de los primeros cuatro caracteres de la variable spell y muéstralo.\n",
    "\n",
    "spell = 'abracadabra'\n",
    "print(spell[:4])\n",
    "# escribe tu código aquí"
   ]
  },
  {
   "cell_type": "markdown",
   "metadata": {},
   "source": [
    "STRINGS FORMATEADOS"
   ]
  },
  {
   "cell_type": "code",
   "execution_count": null,
   "metadata": {},
   "outputs": [],
   "source": [
    "name = 'Alejandro'\n",
    "age = 28\n",
    "height = 180\n",
    "\n",
    "message = f\"{name} tiene {age} años y mide {height} cm\"\n",
    "print(message)"
   ]
  },
  {
   "cell_type": "code",
   "execution_count": null,
   "metadata": {},
   "outputs": [],
   "source": [
    "name = 'Victoria'\n",
    "age = 23\n",
    "\n",
    "message = f\"El próximo año, {name} tendrá {age + 1} años\"\n",
    "print(message) "
   ]
  },
  {
   "cell_type": "code",
   "execution_count": null,
   "metadata": {},
   "outputs": [],
   "source": [
    "#Fíjate que la variable age almacena 25 como valor, pero el string anterior que te pedimos que imprimas muestra 20. Usa una operación aritmética dentro del f-string para calcular la edad.\n",
    "\n",
    "name = 'Olivia'\n",
    "age = 25\n",
    "\n",
    "message = f\"Hace cinco años, {name} tenía {age -5} años\"\n",
    "print(message)"
   ]
  },
  {
   "cell_type": "markdown",
   "metadata": {},
   "source": [
    "METODO FORMAT\n"
   ]
  },
  {
   "cell_type": "code",
   "execution_count": null,
   "metadata": {},
   "outputs": [],
   "source": [
    "name = 'Victoria'\n",
    "age = 23\n",
    "height = 157\n",
    "\n",
    "message = \"{} tiene {} años y mide {} cm\".format(name, age, height)\n",
    "print(message) "
   ]
  },
  {
   "cell_type": "code",
   "execution_count": null,
   "metadata": {},
   "outputs": [],
   "source": [
    "name = 'Victoria'\n",
    "age = 23\n",
    "height = 157\n",
    "\n",
    "message = \"{n} tiene {a} años y mide {h} cm\".format(h=height, n=name, a=age)\n",
    "print(message) "
   ]
  },
  {
   "cell_type": "code",
   "execution_count": null,
   "metadata": {},
   "outputs": [],
   "source": [
    "name = 'Olivia'\n",
    "age = 25\n",
    "\n",
    "message = \"{} tiene {} años\".format(name, age)\n",
    "print(message)"
   ]
  },
  {
   "cell_type": "markdown",
   "metadata": {},
   "source": [
    "METODOS STRING\n",
    "\n",
    "El uso de métodos de string para procesar strings es una parte fundamental del análisis y el modelado de datos de texto. Al final de esta lección, podrás utilizar los siguientes métodos como parte de tu código:\n",
    "upper() convierte todos los caracteres a mayúsculas;\n",
    "lower() convierte todos los caracteres a minúsculas;\n",
    "replace() reemplaza partes de un string por otro string;\n",
    "strip() elimina los espacios al principio y al final del string.\n"
   ]
  },
  {
   "cell_type": "code",
   "execution_count": null,
   "metadata": {},
   "outputs": [],
   "source": [
    "message = \"¡Hola, me llamo Han Solo!\"\n",
    "\n",
    "print(message)\n",
    "message_new = message.upper()\n",
    "print(message_new) "
   ]
  },
  {
   "cell_type": "code",
   "execution_count": null,
   "metadata": {},
   "outputs": [],
   "source": [
    "shopping_list = '''MANZANAS\n",
    "naranjas\n",
    "leche\n",
    "Manzanas\n",
    "pan\n",
    "helado\n",
    "manzanas\n",
    "ACEITE DE OLIVA\n",
    "Pan'''\n",
    "\n",
    "shopping_list = shopping_list.lower()\n",
    "print(shopping_list)"
   ]
  },
  {
   "cell_type": "markdown",
   "metadata": {},
   "source": [
    "HACER SUBSTRING\n",
    "\n",
    "Reemplazar un substring\n",
    "Otra parte común del procesamiento de datos de texto es eliminar o reemplazar partes de strings. Por ejemplo, tal vez necesitemos corregir errores tipográficos en los números de teléfono de los clientes y las clientas o eliminar los nombres de dominio de las direcciones de correo electrónico. Como sabes, los objetos de string son inmutables, por lo que si quisiéramos hacer algunos cambios, tendríamos que reasignar todo el string. Afortunadamente, podemos usar el método replace() para eliminar o reemplazar substrings (partes de strings).\n",
    "El método replace() toma dos argumentos:\n",
    "el substring que queremos reemplazar;\n",
    "el string por el que queremos reemplazarlo."
   ]
  },
  {
   "cell_type": "code",
   "execution_count": null,
   "metadata": {},
   "outputs": [],
   "source": [
    "#Usemos replace() para corregir algunos errores tipográficos en una lista de compras diferente donde accidentalmente escribimos mal la palabra “aceite” un par de veces:\n",
    "\n",
    "shopping_list = '''aciete de colza\n",
    "aceite de girasol\n",
    "aceite de aguacate\n",
    "aciete de cacahuete'''\n",
    "\n",
    "print(shopping_list.replace('aciete', 'aceite'))"
   ]
  },
  {
   "cell_type": "code",
   "execution_count": null,
   "metadata": {},
   "outputs": [],
   "source": [
    "#También podemos usar replace() para eliminar substrings sin reemplazarlos. Para ello, simplemente pasamos el string vacío '' como segundo argumento. Vamos a utilizar replace() para eliminar los guiones bajos de un string:\n",
    "\n",
    "user_ids = \"_151234_, _792051_, _955247_\"\n",
    "user_ids = user_ids.replace('_', '')\n",
    "\n",
    "print(user_ids)"
   ]
  },
  {
   "cell_type": "code",
   "execution_count": null,
   "metadata": {},
   "outputs": [],
   "source": [
    "#Usa replace() para reemplazar todas las ocurrencias de 'manzana' por 'naranja' en el siguiente string y asigna el string modificado a la variable new_string. Muestra new_string.\n",
    "\n",
    "old_string = \"Yo tengo una manzana, ella tiene una manzana, él tiene una manzana, todos tenemos manzanas.\"\n",
    "new_string = # escribe tu código aquí\n",
    "\n",
    "print(new_string)\n",
    "\n",
    "old_string = \"Yo tengo una manzana, ella tiene una manzana, él tiene una manzana, todos tenemos manzanas.\"\n",
    "new_string = old_string.replace(\"manzana\", \"naranja\")\n",
    "\n",
    "print(new_string)\n"
   ]
  },
  {
   "cell_type": "code",
   "execution_count": null,
   "metadata": {},
   "outputs": [],
   "source": [
    "column_name = '     fecha de compra  '\n",
    "\n",
    "print(column_name)\n",
    "print(len(column_name))\n",
    "print()\n",
    "print(column_name.strip())\n",
    "print(len(column_name.strip()))"
   ]
  },
  {
   "cell_type": "code",
   "execution_count": null,
   "metadata": {},
   "outputs": [],
   "source": [
    "#Te han dado un string sentence que tiene espacios extra antes del texto. Usa el método strip() para eliminar estos espacios y luego reemplaza todos los espacios en el string por un guion -.\n",
    "#Asigna el string modificado a una nueva variable llamada new_sentence y muéstrala.\n",
    "\n",
    "sentence = \"   Python es un lenguaje de programación interpretado, de alto nivel y de propósito general.   \"\n",
    "new_sentence = sentence.strip()\n",
    "new_sentence = new_sentence.replace(\" \",\"-\")\n",
    "# muestra tu string aquí\n",
    "print(new_sentence)\n"
   ]
  },
  {
   "cell_type": "markdown",
   "metadata": {},
   "source": [
    "PRACTICANDO\n",
    "<!--  -->"
   ]
  },
  {
   "cell_type": "code",
   "execution_count": null,
   "metadata": {},
   "outputs": [],
   "source": [
    "string = 'En cierto modo, programar es como pintar. Comienzas con un lienzo en blanco y algunas materias primas básicas. Usas una combinación de ciencia, arte y artesanía para determinar qué hacer con ellos'\n",
    "print(len(string))\n",
    "# escribe tu código aquí"
   ]
  },
  {
   "cell_type": "code",
   "execution_count": null,
   "metadata": {},
   "outputs": [],
   "source": [
    "#A continuación, obtén el cuarto elemento del string desde el principio haciendo referencia a su índice e imprímelo. Luego, obtén el cuarto elemento desde el final e imprímelo también.\n",
    "\n",
    "string = 'En cierto modo, programar es como pintar. Comienzas con un lienzo en blanco y algunas materias primas básicas. Usas una combinación de ciencia, arte y artesanía para determinar qué hacer con ellos'\n",
    "print(string[3])\n",
    "print(string[-4])\n",
    "# escribe tu código aquí"
   ]
  },
  {
   "cell_type": "code",
   "execution_count": null,
   "metadata": {},
   "outputs": [],
   "source": [
    "#Reemplaza el substring 'corto' por el substring ‘breve’ en el string quote. Muestra quote cuando realices este cambio.\n",
    "\n",
    "quote = 'La vida es demasiado corta para no divertirse; estamos aquí por un corto tiempo en comparación con el Sol y la Luna y todo eso'\n",
    "quote = quote.replace(\"corto\", \"breve\")\n",
    "print(quote)\n",
    "# escribe tu código aquí"
   ]
  },
  {
   "cell_type": "code",
   "execution_count": null,
   "metadata": {},
   "outputs": [],
   "source": [
    "#Supongamos que estás creando un programa que recibe la entrada del usuario o la usuaria y la guarda en una base de datos. Quieres asegurarte de que todas las letras en su entrada estén en mayúsculas y sin espacios en blanco adicionales.\n",
    "#Completa el siguiente precódigo para obtener el string de entrada de usuario o usuaria limpio:\n",
    "\n",
    "user_input = \" MaRaDoNa \"\n",
    "clean_input = user_input.upper()\n",
    "clean_input = clean_input.strip()\n",
    "# escribe tu código aquí\n",
    "\n",
    "print(clean_input)"
   ]
  }
 ],
 "metadata": {
  "kernelspec": {
   "display_name": "Python 3",
   "language": "python",
   "name": "python3"
  },
  "language_info": {
   "codemirror_mode": {
    "name": "ipython",
    "version": 3
   },
   "file_extension": ".py",
   "mimetype": "text/x-python",
   "name": "python",
   "nbconvert_exporter": "python",
   "pygments_lexer": "ipython3",
   "version": "3.11.6"
  },
  "orig_nbformat": 4
 },
 "nbformat": 4,
 "nbformat_minor": 2
}
