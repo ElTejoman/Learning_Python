{
 "cells": [
  {
   "cell_type": "markdown",
   "metadata": {},
   "source": [
    "IF ELSE - SENTENCIAS CONDICIONALES\n",
    "\n",
    "\n",
    "Hay varios tipos de expresiones en Python que devuelven True o False:\n",
    "Expresiones que contienen operadores de comparación: ==, !=, >, <, >=, <=.\n",
    "Expresiones que contienen operadores lógicos: and, or, not.\n",
    "Funciones de predicado."
   ]
  },
  {
   "cell_type": "code",
   "execution_count": null,
   "metadata": {},
   "outputs": [],
   "source": [
    "#SEGUIREMOS USANDO LA MISMA LISTA\n",
    "\n",
    "movies_info = [\n",
    "    ['The Shawshank Redemption', 'USA', 1994, 'drama', 142, 9.111],\n",
    "    ['The Godfather', 'USA', 1972, 'drama, crime', 175, 8.730],\n",
    "    ['The Dark Knight', 'USA', 2008, 'fantasy, action, thriller', 152, 8.499],\n",
    "    [\"Schindler's List\", 'USA', 1993, 'drama', 195, 8.818],\n",
    "    ['The Lord of the Rings: The Return of the King', 'New Zealand', 2003, 'fantasy, adventure, drama', 201, 8.625],\n",
    "    ['Pulp Fiction', 'USA', 1994, 'thriller, comedy, crime', 154, 8.619],\n",
    "    ['The Good, the Bad and the Ugly', 'Italy', 1966, 'western', 178, 8.521],\n",
    "    ['Fight Club', 'USA', 1999, 'thriller, drama, crime', 139, 8.644],\n",
    "    ['Harakiri', 'Japan', 1962, 'drama, action, history', 133, 8.106],\n",
    "    ['Good Will Hunting', 'USA', 1997, 'drama, romance', 126, 8.077]\n",
    "]"
   ]
  },
  {
   "cell_type": "code",
   "execution_count": 1,
   "metadata": {},
   "outputs": [
    {
     "name": "stdout",
     "output_type": "stream",
     "text": [
      "False\n"
     ]
    }
   ],
   "source": [
    "movie_info = ['Fight Club', 'USA', 1999, 'thriller, drama, crime', 139, 8.644]\n",
    "\n",
    "print(movie_info[2] > 1996 and movie_info[2] < 1998)"
   ]
  },
  {
   "cell_type": "code",
   "execution_count": 2,
   "metadata": {},
   "outputs": [
    {
     "name": "stdout",
     "output_type": "stream",
     "text": [
      "True\n"
     ]
    }
   ],
   "source": [
    "movie_info = ['Fight Club', 'USA', 1999, 'thriller, drama, crime', 139, 8.644]\n",
    "\n",
    "print(movie_info[2] > 1996 or movie_info[2] < 1998)"
   ]
  },
  {
   "cell_type": "markdown",
   "metadata": {},
   "source": [
    "FUNCIONES DE PREDICADO\n",
    "\n",
    "Una función de predicado es cualquier función que devuelve True o False. Por ejemplo, estos son algunos métodos de cadena que comprueban si los caracteres de una cadena cumplen ciertas condiciones:\n",
    "\n",
    "islower() devuelve True si todos los caracteres alfabéticos de la cadena están en minúsculas;\n",
    "\n",
    "isdigit() devuelve True si una cadena contiene solo números;\n",
    "\n",
    "isalpha() devuelve True si una cadena contiene solo letras. Si una cadena contiene signos de puntuación o espacios, devolverá False.\n"
   ]
  },
  {
   "cell_type": "markdown",
   "metadata": {},
   "source": [
    "IF/ELSE\n"
   ]
  },
  {
   "cell_type": "code",
   "execution_count": 3,
   "metadata": {},
   "outputs": [
    {
     "name": "stdout",
     "output_type": "stream",
     "text": [
      "llevar un sombrero\n",
      "¡vamos!\n"
     ]
    }
   ],
   "source": [
    "weather = 'sol'\n",
    "\n",
    "# condicional\n",
    "if weather == 'lluvia':\n",
    "    print('llevar paraguas')\n",
    "else:\n",
    "    print('llevar un sombrero')\n",
    "print('¡vamos!')"
   ]
  }
 ],
 "metadata": {
  "kernelspec": {
   "display_name": "Python 3",
   "language": "python",
   "name": "python3"
  },
  "language_info": {
   "codemirror_mode": {
    "name": "ipython",
    "version": 3
   },
   "file_extension": ".py",
   "mimetype": "text/x-python",
   "name": "python",
   "nbconvert_exporter": "python",
   "pygments_lexer": "ipython3",
   "version": "3.11.6"
  }
 },
 "nbformat": 4,
 "nbformat_minor": 2
}
