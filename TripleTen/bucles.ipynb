{
 "cells": [
  {
   "cell_type": "markdown",
   "metadata": {},
   "source": [
    "BUCLES!\n",
    "\n",
    "Funciones integradas como\n",
    "\n",
    "min()\n",
    "\n",
    "max()\n",
    "\n",
    "sum()\n",
    "\n"
   ]
  }
 ],
 "metadata": {
  "language_info": {
   "name": "python"
  }
 },
 "nbformat": 4,
 "nbformat_minor": 2
}
