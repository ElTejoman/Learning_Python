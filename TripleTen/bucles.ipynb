{
 "cells": [
  {
   "cell_type": "markdown",
   "metadata": {},
   "source": [
    "##BUCLES!\n",
    "\n",
    "Funciones integradas como\n",
    "\n",
    "min() ---.> Se usa para encontrar el valor minimo de la lista\n",
    "\n",
    "max() ---.> Se usa para encontrar el valor maximo de la lista\n",
    "\n",
    "sum() ----> Toma la lista como argumento y devuelve la suma de sus elementos\n",
    "\n"
   ]
  },
  {
   "cell_type": "code",
   "execution_count": 1,
   "metadata": {},
   "outputs": [
    {
     "name": "stdout",
     "output_type": "stream",
     "text": [
      "287.4\n"
     ]
    }
   ],
   "source": [
    "#OPERADORES DE ASIGNACION AUMENTADA\n",
    "fr_speakers = 284.9\n",
    "fr_speakers += 2.5\n",
    "print(fr_speakers)"
   ]
  },
  {
   "cell_type": "code",
   "execution_count": 2,
   "metadata": {},
   "outputs": [
    {
     "name": "stdout",
     "output_type": "stream",
     "text": [
      "15\n",
      "10\n",
      "30\n",
      "6.0\n"
     ]
    }
   ],
   "source": [
    "#¡Lo conseguimos de nuevo! Los operadores de asignación aumentada funcionan de la misma manera que otros operadores aritméticos. Compruébalo por tu cuenta. Ejecuta el siguiente código para ver cómo las asignaciones aumentadas cambian el valor original de items.\n",
    "\n",
    "items = 10\n",
    "\n",
    "items += 5 # igual que items = items + 5\n",
    "print(items)\n",
    "\n",
    "items -= 5 # igual que items = items - 5\n",
    "print(items)\n",
    "\n",
    "items *= 3 # igual que items = items * 3\n",
    "print(items)\n",
    "\n",
    "items /= 5 # igual que items = items / 5\n",
    "print(items)\n"
   ]
  },
  {
   "cell_type": "code",
   "execution_count": 3,
   "metadata": {},
   "outputs": [
    {
     "name": "stdout",
     "output_type": "stream",
     "text": [
      "72.8\n"
     ]
    }
   ],
   "source": [
    "#Ejercicio 1\n",
    "#Cambia el valor de it_speakers: agrégale 5 utilizando la asignación aumentada. Muestra el nuevo valor.\n",
    "\n",
    "it_speakers = 67.8\n",
    "it_speakers += 5\n",
    "\n",
    "print(it_speakers)\n",
    "# actualiza aquí el valor de la variable\n",
    "# imprime aquí el valor de la variable"
   ]
  },
  {
   "cell_type": "markdown",
   "metadata": {},
   "source": [
    "FUNCIONES INTEGRADAS"
   ]
  },
  {
   "cell_type": "code",
   "execution_count": 4,
   "metadata": {},
   "outputs": [
    {
     "name": "stdout",
     "output_type": "stream",
     "text": [
      "1595\n",
      "201\n",
      "126\n"
     ]
    }
   ],
   "source": [
    "movies_duration = [142, 175, 152, 195, 201, 154, 178, 139, 133, 126]\n",
    "\n",
    "total_duration = sum(movies_duration) #suma todos los elementos de la lista\n",
    "max_duration = max(movies_duration) #obtiene el elemento más grande en la lista\n",
    "min_duration = min(movies_duration) #obtiene el elemento más pequeño en la lista\n",
    "\n",
    "\n",
    "print(total_duration)\n",
    "print(max_duration)\n",
    "print(min_duration)"
   ]
  },
  {
   "cell_type": "markdown",
   "metadata": {},
   "source": [
    "BUCLES FOR"
   ]
  },
  {
   "cell_type": "code",
   "execution_count": 6,
   "metadata": {},
   "outputs": [
    {
     "name": "stdout",
     "output_type": "stream",
     "text": [
      "scifi\n",
      "drama\n",
      "thriller\n",
      "comedy\n",
      "action\n"
     ]
    }
   ],
   "source": [
    "film_genres = ['scifi','drama','thriller','comedy','action']\n",
    "for i in film_genres:\n",
    "    print(i)"
   ]
  },
  {
   "cell_type": "code",
   "execution_count": 7,
   "metadata": {},
   "outputs": [
    {
     "name": "stdout",
     "output_type": "stream",
     "text": [
      "56\n",
      "65\n",
      "64\n",
      "63\n"
     ]
    }
   ],
   "source": [
    "#Escribe bucle for para que los elementos de payers se impriman\n",
    "\n",
    "payers = [56, 65, 64, 63]\n",
    "\n",
    "for i in payers:\n",
    "  print(i)\n",
    "# escribe tu código aquí"
   ]
  },
  {
   "cell_type": "code",
   "execution_count": null,
   "metadata": {},
   "outputs": [],
   "source": [
    "actors = ['John Travolta', 'Bonnie Hunt', 'Jason Bateman', 'Idris Elba']\n",
    "for actor in actors:  #el codigo no presentaba los 2 puntos\n",
    "    print(actor)        #tampoco tenía la indentacion necesaria"
   ]
  },
  {
   "cell_type": "code",
   "execution_count": 8,
   "metadata": {},
   "outputs": [
    {
     "name": "stdout",
     "output_type": "stream",
     "text": [
      "42\n",
      "hello\n",
      "0.5\n",
      "-999\n",
      "world\n"
     ]
    }
   ],
   "source": [
    "#Los bucles funcionan con todo tipo de listas. Escribe un bucle que imprima todos los elementos de la lista elements.\n",
    "\n",
    "elements = [42, 'hello', 0.5, -999, 'world']\n",
    "\n",
    "for i in elements:\n",
    "  print(i)\n",
    "# escribe tu código aquí"
   ]
  },
  {
   "cell_type": "code",
   "execution_count": 9,
   "metadata": {},
   "outputs": [
    {
     "name": "stdout",
     "output_type": "stream",
     "text": [
      "機\n",
      "械\n",
      "翻\n",
      "訳\n",
      "は\n",
      "通\n",
      "常\n",
      "良\n",
      "く\n",
      "あ\n",
      "り\n",
      "ま\n",
      "せ\n",
      "ん\n"
     ]
    }
   ],
   "source": [
    "#Crea un bucle que muestre todos los caracteres del string message_japanese uno por uno.\n",
    "\n",
    "message_japanese = '機械翻訳は通常良くありません'\n",
    "\n",
    "for i in message_japanese:\n",
    "  print(i)\n",
    "# escribe tu código aquí"
   ]
  },
  {
   "cell_type": "markdown",
   "metadata": {},
   "source": [
    "BUCLES CON LISTAS ANIDADAS!"
   ]
  },
  {
   "cell_type": "code",
   "execution_count": 10,
   "metadata": {},
   "outputs": [
    {
     "name": "stdout",
     "output_type": "stream",
     "text": [
      "['The Shawshank Redemption', 'USA', 1994, 'drama', 142, 9.111]\n",
      "['The Godfather', 'USA', 1972, 'drama, crime', 175, 8.73]\n",
      "['The Dark Knight', 'USA', 2008, 'fantasy, action, thriller', 152, 8.499]\n",
      "[\"Schindler's List\", 'USA', 1993, 'drama', 195, 8.818]\n",
      "['The Lord of the Rings: The Return of the King', 'New Zealand', 2003, 'fantasy, adventure, drama', 201, 8.625]\n",
      "['Pulp Fiction', 'USA', 1994, 'thriller, comedy, crime', 154, 8.619]\n",
      "['The Good, the Bad and the Ugly', 'Italy', 1966, 'western', 178, 8.521]\n",
      "['Fight Club', 'USA', 1999, 'thriller, drama, crime', 139, 8.644]\n",
      "['Harakiri', 'Japan', 1962, 'drama, action, history', 133, 8.106]\n",
      "['Good Will Hunting', 'USA', 1997, 'drama, romance', 126, 8.077]\n"
     ]
    }
   ],
   "source": [
    "#En cada iteración, el bucle almacena un elemento de la lista en la variable row. Ese elemento es otra lista, pero no tienes que preocuparte por eso. La función print() en el cuerpo del bucle muestra los elementos de la lista uno por uno hasta mostrar la lista completa, ¡tal como lo hiciste con una lista simple!\n",
    "\n",
    "movies_info = [\n",
    "    ['The Shawshank Redemption', 'USA', 1994, 'drama', 142, 9.111],\n",
    "    ['The Godfather', 'USA', 1972, 'drama, crime', 175, 8.730],\n",
    "    ['The Dark Knight', 'USA', 2008, 'fantasy, action, thriller', 152, 8.499],\n",
    "    [\"Schindler's List\", 'USA', 1993, 'drama', 195, 8.818],\n",
    "    ['The Lord of the Rings: The Return of the King', 'New Zealand', 2003, 'fantasy, adventure, drama', 201, 8.625],\n",
    "    ['Pulp Fiction', 'USA', 1994, 'thriller, comedy, crime', 154, 8.619],\n",
    "    ['The Good, the Bad and the Ugly', 'Italy', 1966, 'western', 178, 8.521],\n",
    "    ['Fight Club', 'USA', 1999, 'thriller, drama, crime', 139, 8.644],\n",
    "    ['Harakiri', 'Japan', 1962, 'drama, action, history', 133, 8.106],\n",
    "    ['Good Will Hunting', 'USA', 1997, 'drama, romance', 126, 8.077]\n",
    "]\n",
    "\n",
    "for row in movies_info:\n",
    "    print(row) # imprimirá una fila completa en cada iteración"
   ]
  },
  {
   "cell_type": "code",
   "execution_count": 11,
   "metadata": {},
   "outputs": [
    {
     "name": "stdout",
     "output_type": "stream",
     "text": [
      "The Shawshank Redemption\n",
      "The Godfather\n",
      "The Dark Knight\n",
      "Schindler's List\n",
      "The Lord of the Rings: The Return of the King\n",
      "Pulp Fiction\n",
      "The Good, the Bad and the Ugly\n",
      "Fight Club\n",
      "Harakiri\n",
      "Good Will Hunting\n"
     ]
    }
   ],
   "source": [
    "#Lo bueno de obtener otra lista como elemento de tu bucle es que puedes acceder a su contenido mediante sus índices.\n",
    "\n",
    "movies_info = [\n",
    "    ['The Shawshank Redemption', 'USA', 1994, 'drama', 142, 9.111],\n",
    "    ['The Godfather', 'USA', 1972, 'drama, crime', 175, 8.730],\n",
    "    ['The Dark Knight', 'USA', 2008, 'fantasy, action, thriller', 152, 8.499],\n",
    "    [\"Schindler's List\", 'USA', 1993, 'drama', 195, 8.818],\n",
    "    ['The Lord of the Rings: The Return of the King', 'New Zealand', 2003, 'fantasy, adventure, drama', 201, 8.625],\n",
    "    ['Pulp Fiction', 'USA', 1994, 'thriller, comedy, crime', 154, 8.619],\n",
    "    ['The Good, the Bad and the Ugly', 'Italy', 1966, 'western', 178, 8.521],\n",
    "    ['Fight Club', 'USA', 1999, 'thriller, drama, crime', 139, 8.644],\n",
    "    ['Harakiri', 'Japan', 1962, 'drama, action, history', 133, 8.106],\n",
    "    ['Good Will Hunting', 'USA', 1997, 'drama, romance', 126, 8.077]\n",
    "]\n",
    "\n",
    "for row in movies_info:\n",
    "    print(row[0]) # imprime los títulos. Necesitamos la primera columna, por lo que el índice es 0."
   ]
  },
  {
   "cell_type": "code",
   "execution_count": 12,
   "metadata": {},
   "outputs": [
    {
     "name": "stdout",
     "output_type": "stream",
     "text": [
      "drama\n",
      "drama, crime\n",
      "fantasy, action, thriller\n",
      "drama\n",
      "fantasy, adventure, drama\n",
      "thriller, comedy, crime\n",
      "western\n",
      "thriller, drama, crime\n",
      "drama, action, history\n",
      "drama, romance\n"
     ]
    }
   ],
   "source": [
    "#Ya hemos mostrado los títulos de las películas. Intentemos mostrar los géneros de las películas de la tabla movies_info. Cada valor debe estar en una nueva línea.\n",
    "\n",
    "movies_info = [\n",
    "    ['The Shawshank Redemption', 'USA', 1994, 'drama', 142, 9.111],\n",
    "    ['The Godfather', 'USA', 1972, 'drama, crime', 175, 8.730],\n",
    "    ['The Dark Knight', 'USA', 2008, 'fantasy, action, thriller', 152, 8.499],\n",
    "    [\"Schindler's List\", 'USA', 1993, 'drama', 195, 8.818],\n",
    "    ['The Lord of the Rings: The Return of the King', 'New Zealand', 2003, 'fantasy, adventure, drama', 201, 8.625],\n",
    "    ['Pulp Fiction', 'USA', 1994, 'thriller, comedy, crime', 154, 8.619],\n",
    "    ['The Good, the Bad and the Ugly', 'Italy', 1966, 'western', 178, 8.521],\n",
    "    ['Fight Club', 'USA', 1999, 'thriller, drama, crime', 139, 8.644],\n",
    "    ['Harakiri', 'Japan', 1962, 'drama, action, history', 133, 8.106],\n",
    "    ['Good Will Hunting', 'USA', 1997, 'drama, romance', 126, 8.077]\n",
    "]\n",
    "\n",
    "for i in movies_info:\n",
    "  print(i[3])"
   ]
  },
  {
   "cell_type": "code",
   "execution_count": 15,
   "metadata": {},
   "outputs": [
    {
     "name": "stdout",
     "output_type": "stream",
     "text": [
      "2.3666666666666667\n",
      "2.9166666666666665\n",
      "2.533333333333333\n",
      "3.25\n",
      "3.35\n",
      "2.566666666666667\n",
      "2.966666666666667\n",
      "2.316666666666667\n",
      "2.216666666666667\n",
      "2.1\n"
     ]
    }
   ],
   "source": [
    "#Todas las películas tienen una duración en minutos. Para convertirla en horas, itera sobre movies_info, extrae la duración y guárdala en la variable runtime. Luego, utiliza la [asignación aumentada] para actualizar la variable runtime. Una vez actualizada, muestra la duración en horas.\n",
    "\n",
    "movies_info = [\n",
    "    ['The Shawshank Redemption', 'USA', 1994, 'drama', 142, 9.111],\n",
    "    ['The Godfather', 'USA', 1972, 'drama, crime', 175, 8.730],\n",
    "    ['The Dark Knight', 'USA', 2008, 'fantasy, action, thriller', 152, 8.499],\n",
    "    [\"Schindler's List\", 'USA', 1993, 'drama', 195, 8.818],\n",
    "    ['The Lord of the Rings: The Return of the King', 'New Zealand', 2003, 'fantasy, adventure, drama', 201, 8.625],\n",
    "    ['Pulp Fiction', 'USA', 1994, 'thriller, comedy, crime', 154, 8.619],\n",
    "    ['The Good, the Bad and the Ugly', 'Italy', 1966, 'western', 178, 8.521],\n",
    "    ['Fight Club', 'USA', 1999, 'thriller, drama, crime', 139, 8.644],\n",
    "    ['Harakiri', 'Japan', 1962, 'drama, action, history', 133, 8.106],\n",
    "    ['Good Will Hunting', 'USA', 1997, 'drama, romance', 126, 8.077]\n",
    "]\n",
    "\n",
    "for row in movies_info:\n",
    "    runtime = row[4]\n",
    "    runtime /= 60 # convierte la duración extraída a horas\n",
    "    print(runtime)\n"
   ]
  },
  {
   "cell_type": "markdown",
   "metadata": {},
   "source": [
    "BUCLES WHILE"
   ]
  },
  {
   "cell_type": "code",
   "execution_count": 16,
   "metadata": {},
   "outputs": [
    {
     "name": "stdout",
     "output_type": "stream",
     "text": [
      "Entra una persona. Carga del ascensor: 112\n",
      "Entra una persona. Carga del ascensor: 227\n",
      "Entra una persona. Carga del ascensor: 287\n",
      "Entra una persona. Carga del ascensor: 342\n",
      "Entra una persona. Carga del ascensor: 416\n",
      "¡Lo sentimos! El ascensor está lleno. Tendrás que esperar al siguiente.\n"
     ]
    }
   ],
   "source": [
    "#En este experimento, supondremos que el peso en kilogramos de cada nueva persona es un valor aleatorio de 30 a 120. Los valores aleatorios pueden asignarse a las variables usando la función randint() de la librería random. Hablaremos de la generación de números aleatorios y las librerías con más detalle más adelante. Por ahora, supongamos que podemos importar randint() desde la caja de herramientas random y usarla como herramienta para nuestras necesidades.\n",
    "\n",
    "from random import randint # importamos la función randint de la librería random\n",
    "\n",
    "capacity = 400 # capacidad del ascensor en kg\n",
    "total_weight = 0 # variable que almacena el peso total\n",
    "\n",
    "while total_weight < capacity: # mientras que el peso total es menor que la capacidad máxima\n",
    "    person_weight = randint(30, 120) # generamos un número aleatorio de 30 a 120\n",
    "    total_weight += person_weight # el peso generado se agrega al peso total\n",
    "    print(f'Entra una persona. Carga del ascensor: {total_weight}')\n",
    "    \n",
    "print('¡Lo sentimos! El ascensor está lleno. Tendrás que esperar al siguiente.')"
   ]
  },
  {
   "cell_type": "markdown",
   "metadata": {},
   "source": [
    "USO DE CONTADORES\n"
   ]
  },
  {
   "cell_type": "code",
   "execution_count": 17,
   "metadata": {},
   "outputs": [
    {
     "name": "stdout",
     "output_type": "stream",
     "text": [
      "Entra una persona. Carga del ascensor: 1\n",
      "Entra una persona. Carga del ascensor: 2\n",
      "Entra una persona. Carga del ascensor: 3\n",
      "Entra una persona. Carga del ascensor: 4\n",
      "Entra una persona. Carga del ascensor: 5\n",
      "Entra una persona. Carga del ascensor: 6\n",
      "Entra una persona. Carga del ascensor: 7\n",
      "Entra una persona. Carga del ascensor: 8\n",
      "Entra una persona. Carga del ascensor: 9\n",
      "Entra una persona. Carga del ascensor: 10\n",
      "¡Lo sentimos! El ascensor está lleno. Tendrás que esperar al siguiente.\n"
     ]
    }
   ],
   "source": [
    "#Veamos de nuevo el ejemplo del ascensor, pero esta vez queremos evitar que más de 10 personas entren en el ascensor. \n",
    "\n",
    "num_people = 0 # comienza en 0 y no hay nadie dentro\n",
    "capacity = 10 # variable que almacena el límite de personas\n",
    "\n",
    "while num_people < capacity: # mientras que el número de personas es menor que la capacidad máxima\n",
    "    num_people += 1 # una persona entra\n",
    "    print(f'Entra una persona. Carga del ascensor: {num_people}')\n",
    "    \n",
    "print('¡Lo sentimos! El ascensor está lleno. Tendrás que esperar al siguiente.')"
   ]
  },
  {
   "cell_type": "code",
   "execution_count": 22,
   "metadata": {},
   "outputs": [
    {
     "name": "stdout",
     "output_type": "stream",
     "text": [
      "Entra una persona. Carga del ascensor: 37\n",
      "Entra una persona. Carga del ascensor: 122\n",
      "Entra una persona. Carga del ascensor: 171\n",
      "Entra una persona. Carga del ascensor: 239\n",
      "Entra una persona. Carga del ascensor: 314\n",
      "Entra una persona. Carga del ascensor: 406\n",
      "¡Lo sentimos! El ascensor está lleno. Tendrás que esperar al siguiente. \n",
      "Hay 6 personas dentro\n"
     ]
    }
   ],
   "source": [
    "#Puedes ver que en cada iteración el código muestra la cantidad de personas en el ascensor. El último número mostrado es 10. Después de eso, no se imprimen números, lo que significa que el bucle finalizó.\n",
    "\n",
    "#Luego, vamos a ver cómo podemos determinar la cantidad de personas necesaria para que el ascensor alcance su carga máxima. ¡Ejecútalo varias veces y verás la función randint() en acción!\n",
    "\n",
    "from random import randint\n",
    "\n",
    "capacity = 400 # capacidad del ascensor en kg\n",
    "total_weight = 0 # variable que almacena el peso total\n",
    "num_people= 0 # comienza en 0, no hay nadie dentro\n",
    "\n",
    "while total_weight < capacity: # mientras que el peso total es menor que la capacidad máxima\n",
    "    person_weight = randint(30, 120) # generamos un número aleatorio de 30 a 120\n",
    "    total_weight += person_weight # el peso generado se agrega al peso total\n",
    "    num_people += 1 # una persona entra\n",
    "    print(f'Entra una persona. Carga del ascensor: {total_weight}')\n",
    "    \n",
    "print(f'¡Lo sentimos! El ascensor está lleno. Tendrás que esperar al siguiente. \\nHay {num_people} personas dentro')"
   ]
  },
  {
   "cell_type": "markdown",
   "metadata": {},
   "source": [
    "PRACTICANDO!"
   ]
  },
  {
   "cell_type": "code",
   "execution_count": null,
   "metadata": {},
   "outputs": [],
   "source": [
    "#El banco analizó la lista de sus clientes y encontró más clientes de interés para prestar servicios bancarios privilegiados. Se agregaron a nuestra lista anterior.\n",
    "\n",
    "clients = [\n",
    "    [32456, \"Jack Wilson\", 32, 150000, \"Healthcare\"],\n",
    "    [34591, \"Nina Brown\", 45, 250000, \"Telecom\"],\n",
    "    [37512, \"Alex Smith\", 39, 210000, \"IT\"],\n",
    "    [39591, \"Brian Perez\", 29, 340000, \"Transportation\"],\n",
    "    [45123, \"Sarah Lee\", 28, 120000, \"Marketing\"],\n",
    "    [47635, \"David Kim\", 36, 180000, \"Finance\"],\n",
    "    [49571, \"Samantha Chen\", 42, 220000, \"Retail\"],\n",
    "    [50391, \"Juan Rodriguez\", 31, 160000, \"Architecture\"],\n",
    "]\n"
   ]
  },
  {
   "cell_type": "code",
   "execution_count": 23,
   "metadata": {},
   "outputs": [
    {
     "name": "stdout",
     "output_type": "stream",
     "text": [
      "Jack Wilson\n",
      "Nina Brown\n",
      "Alex Smith\n",
      "Brian Perez\n",
      "Sarah Lee\n",
      "David Kim\n",
      "Samantha Chen\n",
      "Juan Rodriguez\n"
     ]
    }
   ],
   "source": [
    "#Ejercicio 1\n",
    "#Los departamentos de seguridad del banco no quedaron satisfechos con la forma en la que presentamos la lista de clientes la última vez. Esta vez nos pidieron que proporcionáramos los nombres de los clientes y las clientas, actualizados con la última información disponible, con cada nombre en una línea separada.\n",
    "#Haz un bucle en nuestra lista de clientes y muestra sus nombres.\n",
    "\n",
    "clients = [\n",
    "    [32456, \"Jack Wilson\", 32, 150000, \"Healthcare\"],\n",
    "    [34591, \"Nina Brown\", 45, 250000, \"Telecom\"],\n",
    "    [37512, \"Alex Smith\", 39, 210000, \"IT\"],\n",
    "    [39591, \"Brian Perez\", 29, 340000, \"Transportation\"],\n",
    "    [45123, \"Sarah Lee\", 28, 120000, \"Marketing\"],\n",
    "    [47635, \"David Kim\", 36, 180000, \"Finance\"],\n",
    "    [49571, \"Samantha Chen\", 42, 220000, \"Retail\"],\n",
    "    [50391, \"Juan Rodriguez\", 31, 160000, \"Architecture\"],\n",
    "]\n",
    "\n",
    "for i in clients:\n",
    "  print(i[1])\n"
   ]
  },
  {
   "cell_type": "code",
   "execution_count": 45,
   "metadata": {},
   "outputs": [
    {
     "name": "stdout",
     "output_type": "stream",
     "text": [
      "35.25\n"
     ]
    }
   ],
   "source": [
    "#Ejercicio 2\n",
    "#El departamento de marketing del Banco ABC está interesado en conocer la edad promedio de sus clientes privilegiados. Ayuda a encontrar la edad promedio de los clientes en la lista clients. Utiliza las operaciones de asignación aumentada.\n",
    "#Las variables total_age y num_clients ya están declaradas para que hagas tus cálculos con ellas. Debes sumar las edades en total_age y usar num_clients como contador para conocer la cantidad de clientes en la lista.\n",
    "\n",
    "clients = [\n",
    "    [32456, \"Jack Wilson\", 32, 150000, \"Healthcare\"],\n",
    "    [34591, \"Nina Brown\", 45, 250000, \"Telecom\"],\n",
    "    [37512, \"Alex Smith\", 39, 210000, \"IT\"],\n",
    "    [39591, \"Brian Perez\", 29, 340000, \"Transportation\"],\n",
    "    [45123, \"Sarah Lee\", 28, 120000, \"Marketing\"],\n",
    "    [47635, \"David Kim\", 36, 180000, \"Finance\"],\n",
    "    [49571, \"Samantha Chen\", 42, 220000, \"Retail\"],\n",
    "    [50391, \"Juan Rodriguez\", 31, 160000, \"Architecture\"]\n",
    "]\n",
    "\n",
    "total_age = 0\n",
    "num_clients = 0\n",
    "\n",
    "for i in clients:\n",
    "  total_age += i[2]\n",
    "  num_clients += 1\n",
    "\n",
    "average_age = total_age / num_clients\n",
    "print(average_age)\n",
    "\n",
    "# escribe tu código aquí"
   ]
  },
  {
   "cell_type": "code",
   "execution_count": 46,
   "metadata": {},
   "outputs": [
    {
     "name": "stdout",
     "output_type": "stream",
     "text": [
      "7\n"
     ]
    }
   ],
   "source": [
    "#Ejercicio 3\n",
    "#La gerencia está interesada en saber cuándo un cliente o una clienta alcanza un millón en ingresos totales y te pidieron que escribieras un código que calcule la cantidad de años que necesita un cliente o una clienta para alcanzar este número. Para empezar, te pidieron que probaras tu código para 'Jack Wilson', que gana 150000 al año. Escribe un bucle while que sume los ingresos anuales totales de Jack hasta que llegue a un millón. Una vez que lo alcance, muestra el número de años que tardó en alcanzar este ingreso total.\n",
    "\n",
    "annual_income = 150000 # ingreso anual de Jack\n",
    "target_income = 1000000 # ingreso objetivo\n",
    "\n",
    "total_income_sum = 0 # ingresos totales que se actualizarán para cada año\n",
    "years_to_million = 0 # cantidad de años que también se actualizará\n",
    "\n",
    "while total_income_sum < target_income:\n",
    "\ttotal_income_sum += 150000\n",
    "\tyears_to_million += 1\n",
    "\n",
    "print(years_to_million)"
   ]
  }
 ],
 "metadata": {
  "kernelspec": {
   "display_name": "Python 3",
   "language": "python",
   "name": "python3"
  },
  "language_info": {
   "codemirror_mode": {
    "name": "ipython",
    "version": 3
   },
   "file_extension": ".py",
   "mimetype": "text/x-python",
   "name": "python",
   "nbconvert_exporter": "python",
   "pygments_lexer": "ipython3",
   "version": "3.11.6"
  }
 },
 "nbformat": 4,
 "nbformat_minor": 2
}
