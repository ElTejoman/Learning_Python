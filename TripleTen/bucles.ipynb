{
 "cells": [
  {
   "cell_type": "markdown",
   "metadata": {},
   "source": [
    "##BUCLES!\n",
    "\n",
    "Funciones integradas como\n",
    "\n",
    "min() ---.> Se usa para encontrar el valor minimo de la lista\n",
    "\n",
    "max() ---.> Se usa para encontrar el valor maximo de la lista\n",
    "\n",
    "sum() ----> Toma la lista como argumento y devuelve la suma de sus elementos\n",
    "\n"
   ]
  },
  {
   "cell_type": "code",
   "execution_count": 1,
   "metadata": {},
   "outputs": [
    {
     "name": "stdout",
     "output_type": "stream",
     "text": [
      "287.4\n"
     ]
    }
   ],
   "source": [
    "#OPERADORES DE ASIGNACION AUMENTADA\n",
    "fr_speakers = 284.9\n",
    "fr_speakers += 2.5\n",
    "print(fr_speakers)"
   ]
  },
  {
   "cell_type": "code",
   "execution_count": 2,
   "metadata": {},
   "outputs": [
    {
     "name": "stdout",
     "output_type": "stream",
     "text": [
      "15\n",
      "10\n",
      "30\n",
      "6.0\n"
     ]
    }
   ],
   "source": [
    "#¡Lo conseguimos de nuevo! Los operadores de asignación aumentada funcionan de la misma manera que otros operadores aritméticos. Compruébalo por tu cuenta. Ejecuta el siguiente código para ver cómo las asignaciones aumentadas cambian el valor original de items.\n",
    "\n",
    "items = 10\n",
    "\n",
    "items += 5 # igual que items = items + 5\n",
    "print(items)\n",
    "\n",
    "items -= 5 # igual que items = items - 5\n",
    "print(items)\n",
    "\n",
    "items *= 3 # igual que items = items * 3\n",
    "print(items)\n",
    "\n",
    "items /= 5 # igual que items = items / 5\n",
    "print(items)\n"
   ]
  },
  {
   "cell_type": "code",
   "execution_count": 3,
   "metadata": {},
   "outputs": [
    {
     "name": "stdout",
     "output_type": "stream",
     "text": [
      "72.8\n"
     ]
    }
   ],
   "source": [
    "#Ejercicio 1\n",
    "#Cambia el valor de it_speakers: agrégale 5 utilizando la asignación aumentada. Muestra el nuevo valor.\n",
    "\n",
    "it_speakers = 67.8\n",
    "it_speakers += 5\n",
    "\n",
    "print(it_speakers)\n",
    "# actualiza aquí el valor de la variable\n",
    "# imprime aquí el valor de la variable"
   ]
  },
  {
   "cell_type": "markdown",
   "metadata": {},
   "source": [
    "FUNCIONES INTEGRADAS"
   ]
  },
  {
   "cell_type": "code",
   "execution_count": 4,
   "metadata": {},
   "outputs": [
    {
     "name": "stdout",
     "output_type": "stream",
     "text": [
      "1595\n",
      "201\n",
      "126\n"
     ]
    }
   ],
   "source": [
    "movies_duration = [142, 175, 152, 195, 201, 154, 178, 139, 133, 126]\n",
    "\n",
    "total_duration = sum(movies_duration) #suma todos los elementos de la lista\n",
    "max_duration = max(movies_duration) #obtiene el elemento más grande en la lista\n",
    "min_duration = min(movies_duration) #obtiene el elemento más pequeño en la lista\n",
    "\n",
    "\n",
    "print(total_duration)\n",
    "print(max_duration)\n",
    "print(min_duration)"
   ]
  },
  {
   "cell_type": "markdown",
   "metadata": {},
   "source": [
    "BUCLES FOR"
   ]
  },
  {
   "cell_type": "code",
   "execution_count": 6,
   "metadata": {},
   "outputs": [
    {
     "name": "stdout",
     "output_type": "stream",
     "text": [
      "scifi\n",
      "drama\n",
      "thriller\n",
      "comedy\n",
      "action\n"
     ]
    }
   ],
   "source": [
    "film_genres = ['scifi','drama','thriller','comedy','action']\n",
    "for i in film_genres:\n",
    "    print(i)"
   ]
  },
  {
   "cell_type": "code",
   "execution_count": 7,
   "metadata": {},
   "outputs": [
    {
     "name": "stdout",
     "output_type": "stream",
     "text": [
      "56\n",
      "65\n",
      "64\n",
      "63\n"
     ]
    }
   ],
   "source": [
    "#Escribe bucle for para que los elementos de payers se impriman\n",
    "\n",
    "payers = [56, 65, 64, 63]\n",
    "\n",
    "for i in payers:\n",
    "  print(i)\n",
    "# escribe tu código aquí"
   ]
  },
  {
   "cell_type": "code",
   "execution_count": null,
   "metadata": {},
   "outputs": [],
   "source": [
    "actors = ['John Travolta', 'Bonnie Hunt', 'Jason Bateman', 'Idris Elba']\n",
    "for actor in actors:  #el codigo no presentaba los 2 puntos\n",
    "    print(actor)        #tampoco tenía la indentacion necesaria"
   ]
  }
 ],
 "metadata": {
  "kernelspec": {
   "display_name": "Python 3",
   "language": "python",
   "name": "python3"
  },
  "language_info": {
   "codemirror_mode": {
    "name": "ipython",
    "version": 3
   },
   "file_extension": ".py",
   "mimetype": "text/x-python",
   "name": "python",
   "nbconvert_exporter": "python",
   "pygments_lexer": "ipython3",
   "version": "3.11.6"
  }
 },
 "nbformat": 4,
 "nbformat_minor": 2
}
