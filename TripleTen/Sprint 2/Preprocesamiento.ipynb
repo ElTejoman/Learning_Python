{
 "cells": [
  {
   "cell_type": "markdown",
   "metadata": {},
   "source": [
    "# **INTRODUCCIÓN AL PREPROCESAMIENTO DE DATOS Y AL ANÁLISIS INICIAL**\n",
    "\n",
    "Como profesional de los datos, probablemente pasarás la mayor parte de tu tiempo trabajando con datos en las fases de preprocesamiento y exploración. La limpieza adecuada de los datos es fundamental para sacar conclusiones fiables de ellos.\n",
    "\n",
    "Después de estudiar este capítulo, serás capaz de utilizar diferentes métodos para:\n",
    "\n",
    "- Cambiar el nombre de las columnas.\n",
    "- Procesar valores ausentes.\n",
    "- Trabajar con duplicados.\n",
    "- Entender la agrupación.\n",
    "- Identificar las etapas de la agrupación.\n",
    "- Agrupar datos en pandas.\n",
    "- Ordenar datos para hallar valores atípicos.\n",
    "- Utilizar las características de los datos tales como valores máximos y mínimos, mediana y media."
   ]
  },
  {
   "cell_type": "markdown",
   "metadata": {},
   "source": [
    "### **Problemas con los datos: entra basura, sale basura**\n",
    "\n",
    "Los valores ausentes son valores en filas que no tenemos disponibles por alguna razón. Esto podría deberse a que la persona no respondió a una de las preguntas en una consulta, ya sea por problemas técnicos o cualquier otra razón. En los DataFrames de pandas, estos valores suelen indicarse con NaN. NaN significa \"not a number\" (\"no es un número\") y es una forma común de marcar valores ausentes.\n",
    "\n",
    "### **Errores de presentación**\n",
    "\n",
    "Es difícil determinar la cantidad de espacios visualmente, por lo que generalmente es mejor evitar usar espacios en los nombres de las columnas. Si el nombre de una columna consta de varias palabras, lo mejor es usar snake_case.\n",
    "\n",
    "Snake case (estilizado como snakecase) se refiere al estilo de escritura en el que cada espacio se reemplaza por un guion bajo () y la primera letra de cada palabra se escribe en minúsculas.\n",
    "\n",
    "Los caracteres no deseados, como los espacios, se pueden introducir de forma inesperada en los procesos de importación o exportación de datos. Esto es exactamente lo que pasó con el nombre de nuestra columna ' user_id'.\n",
    "\n",
    "Todos los temas tratados en esta lección requieren nuestra atención. Debemos abordarlos antes de proceder al análisis en sí. ¡Te enseñaremos cómo hacerlo en las próximas lecciones!\n",
    "\n",
    "### **Renombrar columnas**\n",
    "\n",
    "**Por dónde empezar**\n",
    "\n",
    "El primer paso es comprobar si realmente tienes en tus columnas un problema con la asignación de nombres. Recomendamos empezar con el método info() para obtener una idea general sobre el dataset.\n",
    "\n",
    "Recordemos cómo usarlo:\n"
   ]
  },
  {
   "cell_type": "code",
   "execution_count": null,
   "metadata": {},
   "outputs": [],
   "source": [
    "print(df.info())"
   ]
  },
  {
   "cell_type": "markdown",
   "metadata": {},
   "source": [
    "Este método muestra no solo los nombres de las columnas, sino también información sobre los tipos de datos en la tabla y la cantidad de objetos no nulos en cada columna. Es un excelente punto de partida.\n",
    "\n",
    "Como alternativa, puedes usar el atributo .columns que solo muestra los nombres de las columnas y nada más.\n",
    "\n",
    "Para ilustrar cómo funciona el atributo .columns, creemos una tabla que contenga las distancias entre la Tierra y varios cuerpos celestes. Crearemos un DataFrame a partir de estos datos."
   ]
  },
  {
   "cell_type": "code",
   "execution_count": 1,
   "metadata": {},
   "outputs": [],
   "source": [
    "import pandas as pd\n",
    "\n",
    "# las medidas se almacenan en una lista de listas\n",
    "measurements = [['Sun', 146, 152],\n",
    "                                ['Moon', 0.36, 0.41], \n",
    "                                ['Mercury', 82, 217], \n",
    "                                ['Venus', 38, 261],\n",
    "                                ['Mars', 56, 401],\n",
    "                                ['Jupiter', 588, 968],\n",
    "                                ['Saturn', 1195, 1660],\n",
    "                                ['Uranus', 2750, 3150],\n",
    "                                ['Neptune', 4300, 4700],\n",
    "                                ['Halley\\'s comet', 6, 5400]]\n",
    "\n",
    "# los nombres de las columnas se almacenan en la variable header\n",
    "header = ['Celestial bodies ','MIN', 'MAX'] \n",
    "\n",
    "# guardar el DataFrame en la variable celestial\n",
    "celestial = pd.DataFrame(data=measurements, columns=header)"
   ]
  },
  {
   "cell_type": "markdown",
   "metadata": {},
   "source": [
    "Para revisar los nombres de las columnas, vamos a mostrar el atributo columns del DataFrame.\n"
   ]
  },
  {
   "cell_type": "code",
   "execution_count": 2,
   "metadata": {},
   "outputs": [
    {
     "name": "stdout",
     "output_type": "stream",
     "text": [
      "Index(['Celestial bodies ', 'MIN', 'MAX'], dtype='object')\n"
     ]
    }
   ],
   "source": [
    "print(celestial.columns)\n"
   ]
  },
  {
   "cell_type": "markdown",
   "metadata": {},
   "source": [
    "Aquí tenemos tres problemas:\n",
    "\n",
    "- 'Celestial bodies ' contiene dos espacios: entre las palabras y al final.\n",
    "- 'MIN' y 'MAX' se escriben en mayúsculas, mientras que en 'Celestial bodies ' solo se escribe con mayúscula el primer carácter. Este tipo de inconsistencia puede causar problemas.\n",
    "- Los nombres 'MIN' y 'MAX' no son muy descriptivos. Necesitamos nombres más explícitos para transmitir con claridad su significado."
   ]
  },
  {
   "cell_type": "markdown",
   "metadata": {},
   "source": [
    "Para cambiar el nombre de las columnas, llama al método rename() con un diccionario como parámetro de columns. Las claves del diccionario deben ser los nombres anteriores de las columnas, y los valores correspondientes deben ser los nuevos nombres. De este modo:"
   ]
  },
  {
   "cell_type": "code",
   "execution_count": 4,
   "metadata": {},
   "outputs": [
    {
     "name": "stdout",
     "output_type": "stream",
     "text": [
      "Index(['celestial_bodies', 'min_distance', 'max_distance'], dtype='object')\n",
      "<class 'pandas.core.frame.DataFrame'>\n",
      "RangeIndex: 10 entries, 0 to 9\n",
      "Data columns (total 3 columns):\n",
      " #   Column            Non-Null Count  Dtype  \n",
      "---  ------            --------------  -----  \n",
      " 0   celestial_bodies  10 non-null     object \n",
      " 1   min_distance      10 non-null     float64\n",
      " 2   max_distance      10 non-null     float64\n",
      "dtypes: float64(2), object(1)\n",
      "memory usage: 372.0+ bytes\n",
      "None\n"
     ]
    }
   ],
   "source": [
    "# Declara un diccionario con el nombre anterior de la columna como claves\n",
    "# y los nombres nuevos de la columna como los valores\n",
    "columns_new ={\n",
    "    \"Celestial bodies \": \"celestial_bodies\",\n",
    "    \"MIN\": \"min_distance\",\n",
    "    \"MAX\": \"max_distance\",\n",
    "    }\n",
    "\n",
    "# Llama al método rename y pasa\n",
    "# el diccionario como un argumento al parámetro columns\n",
    "celestial = celestial.rename(columns = columns_new)\n",
    "print(celestial.columns)\n",
    "print(celestial.info())"
   ]
  },
  {
   "cell_type": "markdown",
   "metadata": {},
   "source": [
    "Antes te mostramos cómo cambiar los nombres de las columnas y reasignar la variable celestial vapara reflejar los cambios. Si no reasignas la variable, los nombres de las columnas no cambiarán.\n",
    "\n",
    "Sin embargo, hay una forma más elegante de renombrar columnas que no requiere reasignación como hicimos anteriormente. Solo necesitamos especificar el parámetro inplace y establecerlo en True."
   ]
  },
  {
   "cell_type": "code",
   "execution_count": 5,
   "metadata": {},
   "outputs": [
    {
     "name": "stdout",
     "output_type": "stream",
     "text": [
      "Index(['celestial_bodies', 'min_distance', 'max_distance'], dtype='object')\n"
     ]
    }
   ],
   "source": [
    "# Declara un diccionario con el nombre anterior de la columna como claves\n",
    "# y los nombres nuevos de la columna como los valores\n",
    "columns_new ={\n",
    "    \"Celestial bodies \": \"celestial_bodies\",\n",
    "    \"MIN\": \"min_distance\",\n",
    "    \"MAX\": \"max_distance\",\n",
    "    }\n",
    "\n",
    "# Llama al método rename y pasa\n",
    "# el diccionario como un argumento al parámetro columns\n",
    "# y True como un argumento al parámetro inplace\n",
    "celestial.rename(columns = columns_new, inplace = True)\n",
    "print(celestial.columns)"
   ]
  },
  {
   "cell_type": "markdown",
   "metadata": {},
   "source": [
    "## **EJERCICIOS**\n",
    "\n",
    "Primero, debes ver si algo está mal con los nombres de las columnas y qué es. Así que comienza por mostrar los nombres de columna de la tabla df."
   ]
  },
  {
   "cell_type": "code",
   "execution_count": null,
   "metadata": {},
   "outputs": [],
   "source": [
    "import pandas as pd\n",
    "\n",
    "df = pd.read_csv('/datasets/music_log_raw.csv')\n",
    "\n",
    "print(df.columns)\n",
    "#print(df)\n",
    "# escribe tu código aquí"
   ]
  },
  {
   "cell_type": "markdown",
   "metadata": {},
   "source": [
    "Debes identificar tres problemas en los nombres de las columnas '  user_id', 'total play' y 'Artist'. Adelante, corrígelos.\n",
    "\n",
    "Renombra las siguientes tres columnas en df:\n",
    "\n",
    "- '  user_id' → 'user_id'\n",
    "- 'total play' → 'total_play'\n",
    "- 'Artist' → 'artist'\n",
    "\n",
    "Crea un diccionario con los nombres antiguos y los nuevos, y después llama al método rename() en df y pasa a este tu diccionario.\n",
    "\n",
    "En el diccionario, utiliza los nombres de columna anteriores como claves y los nuevos como valores.\n",
    "\n",
    "Luego, muestra el atributo columns para df para confirmar que los cambios se han aplicado."
   ]
  },
  {
   "cell_type": "code",
   "execution_count": null,
   "metadata": {},
   "outputs": [],
   "source": [
    "import pandas as pd\n",
    "\n",
    "df = pd.read_csv('/datasets/music_log_raw.csv')\n",
    "\n",
    "columns_new = {\n",
    "    \"  user_id\":\"user_id\",\n",
    "    \"total play\":\"total_play\",\n",
    "    \"Artist\":\"artist\",\n",
    "}\n",
    "\n",
    "df.rename(columns = columns_new , inplace = True)\n",
    "\n",
    "\n",
    "print(df.columns)"
   ]
  },
  {
   "cell_type": "markdown",
   "metadata": {},
   "source": [
    "### **Forma automatizada de renombrar columnas**\n",
    "\n",
    "A veces, la cantidad de columnas en un dataset puede ser grande, por lo que es poco práctico asignar manualmente nuevos valores a los nombres de las columnas. Y de hecho, podría ser difícil ver los problemas en un nombre de columna. En estos casos, los bucles y los métodos de string pueden ser muy útiles.\n",
    " \n",
    "Echa un vistazo al siguiente fragmento de código que itera sobre los antiguos nombres de la columna, cámbialos y guarda los resultados en la lista new_col_names, que más tarde se asigna como los nuevos nombres de columna:"
   ]
  },
  {
   "cell_type": "code",
   "execution_count": null,
   "metadata": {},
   "outputs": [],
   "source": [
    "new_col_names = []\n",
    "\n",
    "for old_name in celestial.columns:\n",
    "    # Primero, elimina los espacios al principio y al final\n",
    "    name_stripped = old_name.strip()\n",
    "    # Luego, pon todas las letras en minúsculas\n",
    "    name_lowered = name_stripped.lower()\n",
    "    # Por último, reemplaza los espacios entre palabras por guiones bajos\n",
    "    name_no_spaces = name_lowered.replace(' ', '_')\n",
    "    # Agrega el nuevo nombre a la lista de nuevos nombres de columna\n",
    "    new_col_names.append(name_no_spaces)\n",
    "\n",
    "# Reemplaza los nombres anteriores por los nuevos\n",
    "celestial.columns = new_col_names\n"
   ]
  },
  {
   "cell_type": "markdown",
   "metadata": {},
   "source": [
    "Como resultado, obtenemos un DataFrame en el que todos los nombres de las columnas se ajustan a nuestro formato deseado.\n",
    "\n",
    "¡Es muy claro! Recorre los nombres de tus columnas; elimina todos los espacios iniciales y finales usando el método strip(); haz que todo esté en minúsculas con el método lower(); remplaza cualquier espacio entre palabras con guiones bajos aplicando el método replace(); y después agrega el nuevo nombre (más claro) a la nueva lista.\n",
    "\n",
    "Ahora es tu turno nuevamente. Volvamos a nuestro dataset music_log_raw.csv."
   ]
  },
  {
   "cell_type": "markdown",
   "metadata": {},
   "source": [
    "## **EJERCICIOS!!**\n",
    "\n",
    "Ahora queremos que hagas el mismo cambio de nombre, pero usando 3 métodos de string: strip(), lower() y replace(). Coloca los nuevos nombres de columna en la lista new_col_names.\n",
    "\n",
    "Luego, muestra el atributo columns para df para confirmar que los cambios se han aplicado."
   ]
  },
  {
   "cell_type": "code",
   "execution_count": null,
   "metadata": {},
   "outputs": [],
   "source": [
    "import pandas as pd\n",
    "\n",
    "df = pd.read_csv('/datasets/music_log_raw.csv')\n",
    "\n",
    "new_col_names = []\n",
    "\n",
    "for i in df:\n",
    "    stripped = i.strip()\n",
    "    lower = stripped.lower()\n",
    "    spaces= lower.replace(\" \",\"_\")\n",
    "    new_col_names.append(spaces)\n",
    "\n",
    "df.columns = new_col_names\n",
    "print(df.columns)"
   ]
  },
  {
   "cell_type": "markdown",
   "metadata": {},
   "source": [
    "### **Procesar valores ausentes**\n",
    "\n",
    "Ahora que hemos corregido los nombres de las columnas, podemos mostrarte cómo preprocesar los valores ausentes en los propios datos. Al final de esta lección, podrás\n",
    "\n",
    "comprobar rápidamente qué columnas tienen valores ausentes usando el método **isna()**,\n",
    " \n",
    "completar los valores ausentes con el método ***fillna()** y \n",
    "\n",
    "eliminar filas o columnas con valores ausentes utilizando el método **dropna()**.\n",
    "\n",
    "**Buscar valores ausentes**\n",
    "\n",
    "Para encontrar todos los valores ausentes en una tabla, puedes utilizar el método \n",
    "isna(). Funciona de manera bastante sencilla: si se encuentra un valor ausente, devuelve True; si no, devuelve False.\n",
    "\n",
    "isna() no es tan útil por sí solo. Generalmente usamos el método isna() junto con el método sum(). La función sum() cuenta todos los valores True y devuelve su suma total:"
   ]
  },
  {
   "cell_type": "code",
   "execution_count": null,
   "metadata": {},
   "outputs": [],
   "source": [
    "print(cholera.isna().sum())"
   ]
  },
  {
   "cell_type": "markdown",
   "metadata": {},
   "source": [
    "**Sustituir valores**\n",
    "\n",
    "Para conservar todas las filas con datos valiosos, reemplazaremos los valores NaN en la columna 'imported_cases' por ceros.\n",
    "\n",
    "Podemos lograr esto utilizando el método fillna(), que devuelve una copia de la columna original con todos los valores NaN reemplazados por un valor específico."
   ]
  },
  {
   "cell_type": "code",
   "execution_count": null,
   "metadata": {},
   "outputs": [],
   "source": [
    "cholera['imported_cases'] = cholera['imported_cases'].fillna(0)\n",
    "\n",
    "print(cholera)"
   ]
  },
  {
   "cell_type": "markdown",
   "metadata": {},
   "source": [
    "La columna 'imported_cases' ahora tiene todos sus valores ausentes reemplazados por ceros. De manera alternativa, podrías haber establecido el argumento inplace=True para que no tuvieras que asignar una nueva columna en lugar de la antigua."
   ]
  },
  {
   "cell_type": "code",
   "execution_count": null,
   "metadata": {},
   "outputs": [],
   "source": [
    "cholera['imported_cases'].fillna(0, inplace=True)"
   ]
  },
  {
   "cell_type": "markdown",
   "metadata": {},
   "source": [
    "Por cierto, incluso puedes usar aquí el bucle for para remplazar los valores ausentes. Todo lo que necesitas es crear una lista que contenga todas las columnas en donde quieres hacer el remplazo, y después iterar sobre esos nombres para hacer realmente el cambio."
   ]
  },
  {
   "cell_type": "code",
   "execution_count": null,
   "metadata": {},
   "outputs": [],
   "source": [
    "# recorrer nombres de columna y remplazar los valores ausentes con ceros\n",
    "columns_to_replace = ['imported_cases']\n",
    "\n",
    "for col in columns_to_replace:\n",
    "    cholera[col].fillna(0, inplace=True)"
   ]
  },
  {
   "cell_type": "markdown",
   "metadata": {},
   "source": [
    "### **EJERCICIOS!**\n",
    "\n",
    "Escribe código que sume la cantidad de valores ausentes en todas las columnas del dataset. Guarda el resultado en la variable mis_val y muéstralo."
   ]
  },
  {
   "cell_type": "code",
   "execution_count": null,
   "metadata": {},
   "outputs": [],
   "source": [
    "import pandas as pd\n",
    "\n",
    "df = pd.read_csv('/datasets/music_log_raw.csv')\n",
    "\n",
    "mis_val = df.isna().sum()\n",
    "\n",
    "print(mis_val)"
   ]
  },
  {
   "cell_type": "markdown",
   "metadata": {},
   "source": [
    "### **Eliminar filas**\n",
    "\n",
    "Para eliminar filas con valores ausentes en un DataFrame de pandas, usa el método dropna(). Este método elimina las filas con al menos un valor ausente. También puedes especificar una lista de columnas en su parámetro subset= para que elimine filas con valores nulos solo en esas columnas."
   ]
  },
  {
   "cell_type": "code",
   "execution_count": null,
   "metadata": {},
   "outputs": [],
   "source": [
    "cholera = cholera.dropna(subset=['total_cases', 'deaths', 'case_fatality_rate'])\n",
    "print(cholera)"
   ]
  },
  {
   "cell_type": "markdown",
   "metadata": {},
   "source": [
    "Ahora eliminemos toda la columna 'notes', que consiste casi en su totalidad en valores ausentes.\n",
    "\n",
    "Usaremos el método dropna() de nuevo, pero esta vez agregaremos otro argumento: axis=. Este argumento nos permite especificar si queremos eliminar filas o columnas. Si pasamos el string 'columns' a axis=, eliminará las columnas que tengan valores ausentes. Dado que 'notes' es la única columna que contiene valores ausentes, podemos usar esta opción de forma segura para eliminarla."
   ]
  },
  {
   "cell_type": "code",
   "execution_count": null,
   "metadata": {},
   "outputs": [],
   "source": [
    "cholera = cholera.dropna(axis='columns')\n",
    "print(cholera)"
   ]
  },
  {
   "cell_type": "markdown",
   "metadata": {},
   "source": [
    "Debes saber que si tienes varias columnas con valores ausentes, cholera.dropna(axis='columns') las eliminará todas. No es siempre lo que queremos. En su lugar, puedes usar el método drop() para controlar qué columnas quieres eliminar. Esto es lo que debes hacer si solo quieres eliminar la columna 'notes' utilizando el método drop():"
   ]
  },
  {
   "cell_type": "code",
   "execution_count": null,
   "metadata": {},
   "outputs": [],
   "source": [
    "cholera = cholera.drop(labels=['notes'], axis='columns')"
   ]
  },
  {
   "cell_type": "markdown",
   "metadata": {},
   "source": [
    "### **Ejercicios**\n",
    "**Ejercicio 2**\n",
    "\n",
    "Escribe código para recorrer las columnas genre, Artist y track del DataFrame df y reemplaza cualquier valor ausente con el string 'no_info'. La lista de columnas a reemplazar se almacena en la variable columns_to_replace.\n",
    "\n",
    "Después de realizar los reemplazos, comprueba la cantidad de valores ausentes nuevamente usando isna().sum()"
   ]
  },
  {
   "cell_type": "code",
   "execution_count": null,
   "metadata": {},
   "outputs": [],
   "source": [
    "import pandas as pd\n",
    "\n",
    "df = pd.read_csv('/datasets/music_log_raw.csv')\n",
    "\n",
    "columns_to_replace = ['genre', 'Artist', 'track']\n",
    "\n",
    "for col in columns_to_replace:\n",
    "    df[col].fillna(\"no_info\", inplace = True)\n",
    "\t\n",
    "\n",
    "print(df.isna().sum())"
   ]
  },
  {
   "cell_type": "markdown",
   "metadata": {},
   "source": [
    "**Ejercicio 3**\n",
    "\n",
    "Ahora, eliminemos los NaNs en la columna total play remplazándolos con 0.\n",
    "Después de realizar los reemplazos, comprueba la cantidad de valores ausentes nuevamente usando isna().sum()"
   ]
  },
  {
   "cell_type": "code",
   "execution_count": null,
   "metadata": {},
   "outputs": [],
   "source": [
    "import pandas as pd\n",
    "\n",
    "df = pd.read_csv('/datasets/music_log_raw.csv')\n",
    "\n",
    "df[\"total play\"].fillna(0,inplace = True)\n",
    "\n",
    "\n",
    "print(df.isna().sum())"
   ]
  }
 ],
 "metadata": {
  "kernelspec": {
   "display_name": "Python 3",
   "language": "python",
   "name": "python3"
  },
  "language_info": {
   "codemirror_mode": {
    "name": "ipython",
    "version": 3
   },
   "file_extension": ".py",
   "mimetype": "text/x-python",
   "name": "python",
   "nbconvert_exporter": "python",
   "pygments_lexer": "ipython3",
   "version": "3.11.6"
  }
 },
 "nbformat": 4,
 "nbformat_minor": 2
}
