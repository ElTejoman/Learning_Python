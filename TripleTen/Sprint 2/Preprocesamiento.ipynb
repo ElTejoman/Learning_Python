{
 "cells": [
  {
   "cell_type": "markdown",
   "metadata": {},
   "source": [
    "# **INTRODUCCIÓN AL PREPROCESAMIENTO DE DATOS Y AL ANÁLISIS INICIAL**\n",
    "\n",
    "Como profesional de los datos, probablemente pasarás la mayor parte de tu tiempo trabajando con datos en las fases de preprocesamiento y exploración. La limpieza adecuada de los datos es fundamental para sacar conclusiones fiables de ellos.\n",
    "\n",
    "Después de estudiar este capítulo, serás capaz de utilizar diferentes métodos para:\n",
    "\n",
    "- Cambiar el nombre de las columnas.\n",
    "- Procesar valores ausentes.\n",
    "- Trabajar con duplicados.\n",
    "- Entender la agrupación.\n",
    "- Identificar las etapas de la agrupación.\n",
    "- Agrupar datos en pandas.\n",
    "- Ordenar datos para hallar valores atípicos.\n",
    "- Utilizar las características de los datos tales como valores máximos y mínimos, mediana y media."
   ]
  },
  {
   "cell_type": "markdown",
   "metadata": {},
   "source": [
    "### **Problemas con los datos: entra basura, sale basura**\n",
    "\n"
   ]
  },
  {
   "cell_type": "code",
   "execution_count": null,
   "metadata": {},
   "outputs": [],
   "source": []
  }
 ],
 "metadata": {
  "language_info": {
   "name": "python"
  }
 },
 "nbformat": 4,
 "nbformat_minor": 2
}
