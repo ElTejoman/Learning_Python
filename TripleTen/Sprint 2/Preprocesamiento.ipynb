{
 "cells": [
  {
   "cell_type": "markdown",
   "metadata": {},
   "source": [
    "# **INTRODUCCIÓN AL PREPROCESAMIENTO DE DATOS Y AL ANÁLISIS INICIAL**\n",
    "\n",
    "Como profesional de los datos, probablemente pasarás la mayor parte de tu tiempo trabajando con datos en las fases de preprocesamiento y exploración. La limpieza adecuada de los datos es fundamental para sacar conclusiones fiables de ellos.\n",
    "\n",
    "Después de estudiar este capítulo, serás capaz de utilizar diferentes métodos para:\n",
    "\n",
    "- Cambiar el nombre de las columnas.\n",
    "- Procesar valores ausentes.\n",
    "- Trabajar con duplicados.\n",
    "- Entender la agrupación.\n",
    "- Identificar las etapas de la agrupación.\n",
    "- Agrupar datos en pandas.\n",
    "- Ordenar datos para hallar valores atípicos.\n",
    "- Utilizar las características de los datos tales como valores máximos y mínimos, mediana y media."
   ]
  },
  {
   "cell_type": "markdown",
   "metadata": {},
   "source": [
    "### **Problemas con los datos: entra basura, sale basura**\n",
    "\n",
    "Los valores ausentes son valores en filas que no tenemos disponibles por alguna razón. Esto podría deberse a que la persona no respondió a una de las preguntas en una consulta, ya sea por problemas técnicos o cualquier otra razón. En los DataFrames de pandas, estos valores suelen indicarse con NaN. NaN significa \"not a number\" (\"no es un número\") y es una forma común de marcar valores ausentes.\n",
    "\n",
    "### **Errores de presentación**\n",
    "\n",
    "Es difícil determinar la cantidad de espacios visualmente, por lo que generalmente es mejor evitar usar espacios en los nombres de las columnas. Si el nombre de una columna consta de varias palabras, lo mejor es usar snake_case.\n",
    "\n",
    "Snake case (estilizado como snakecase) se refiere al estilo de escritura en el que cada espacio se reemplaza por un guion bajo () y la primera letra de cada palabra se escribe en minúsculas.\n",
    "\n",
    "Los caracteres no deseados, como los espacios, se pueden introducir de forma inesperada en los procesos de importación o exportación de datos. Esto es exactamente lo que pasó con el nombre de nuestra columna ' user_id'.\n",
    "\n",
    "Todos los temas tratados en esta lección requieren nuestra atención. Debemos abordarlos antes de proceder al análisis en sí. ¡Te enseñaremos cómo hacerlo en las próximas lecciones!\n",
    "\n",
    "### **Renombrar columnas**\n",
    "\n",
    "**Por dónde empezar**\n",
    "\n",
    "El primer paso es comprobar si realmente tienes en tus columnas un problema con la asignación de nombres. Recomendamos empezar con el método info() para obtener una idea general sobre el dataset.\n",
    "\n",
    "Recordemos cómo usarlo:\n"
   ]
  },
  {
   "cell_type": "code",
   "execution_count": null,
   "metadata": {},
   "outputs": [],
   "source": [
    "print(df.info())"
   ]
  },
  {
   "cell_type": "markdown",
   "metadata": {},
   "source": [
    "Este método muestra no solo los nombres de las columnas, sino también información sobre los tipos de datos en la tabla y la cantidad de objetos no nulos en cada columna. Es un excelente punto de partida.\n",
    "\n",
    "Como alternativa, puedes usar el atributo .columns que solo muestra los nombres de las columnas y nada más.\n",
    "\n",
    "Para ilustrar cómo funciona el atributo .columns, creemos una tabla que contenga las distancias entre la Tierra y varios cuerpos celestes. Crearemos un DataFrame a partir de estos datos."
   ]
  },
  {
   "cell_type": "code",
   "execution_count": null,
   "metadata": {},
   "outputs": [],
   "source": [
    "import pandas as pd\n",
    "\n",
    "# las medidas se almacenan en una lista de listas\n",
    "measurements = [['Sun', 146, 152],\n",
    "                                ['Moon', 0.36, 0.41], \n",
    "                                ['Mercury', 82, 217], \n",
    "                                ['Venus', 38, 261],\n",
    "                                ['Mars', 56, 401],\n",
    "                                ['Jupiter', 588, 968],\n",
    "                                ['Saturn', 1195, 1660],\n",
    "                                ['Uranus', 2750, 3150],\n",
    "                                ['Neptune', 4300, 4700],\n",
    "                                ['Halley\\'s comet', 6, 5400]]\n",
    "\n",
    "# los nombres de las columnas se almacenan en la variable header\n",
    "header = ['Celestial bodies ','MIN', 'MAX'] \n",
    "\n",
    "# guardar el DataFrame en la variable celestial\n",
    "celestial = pd.DataFrame(data=measurements, columns=header)"
   ]
  }
 ],
 "metadata": {
  "language_info": {
   "name": "python"
  }
 },
 "nbformat": 4,
 "nbformat_minor": 2
}
