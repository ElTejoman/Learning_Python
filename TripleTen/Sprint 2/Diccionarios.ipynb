{
 "cells": [
  {
   "cell_type": "markdown",
   "metadata": {},
   "source": [
    "# **Diccionarios**\n",
    "\n",
    "Ingresa una consulta de búsqueda y obtendrás un resultado. Inicia sesión en una aplicación y podrás ver tus mensajes. Busca una palabra y recibirás una definición.\n",
    "\n",
    "¿Qué tienen en común estas acciones? Se reducen a dos cosas: \"entregar información de identificación (clave), recibir los datos correspondientes (valor)\", con la información proporcionada por los diccionarios de Python de manera eficaz y eficiente.\n",
    "\n",
    "Cada entrada del diccionario de Python tiene dos partes: una clave y un valor.\n",
    "Clave: un string o número que identifica el valor.\n",
    "Valor: los datos asociados a la clave"
   ]
  },
  {
   "cell_type": "code",
   "execution_count": 1,
   "metadata": {},
   "outputs": [
    {
     "name": "stdout",
     "output_type": "stream",
     "text": [
      "{'SU2222': '12.06.18 12:30', 'SU1111': '12.06.18 14:05', 'SU0777': '12.06.18 17:00'}\n"
     ]
    }
   ],
   "source": [
    "#Vamos a crear un diccionario que contenga información de vuelos. La clave será el número de vuelo, y el valor será la fecha y hora de salida:\n",
    "\n",
    "schedule = {                    \n",
    "    'SU2222': '12.06.18 12:30', # a la izquierda de los dos puntos está la clave,\n",
    "    'SU1111': '12.06.18 14:05',    # a la derecha está el valor.\n",
    "    'SU0777': '12.06.18 17:00' \n",
    "}\n",
    "\n",
    "print(schedule)"
   ]
  }
 ],
 "metadata": {
  "kernelspec": {
   "display_name": "Python 3",
   "language": "python",
   "name": "python3"
  },
  "language_info": {
   "codemirror_mode": {
    "name": "ipython",
    "version": 3
   },
   "file_extension": ".py",
   "mimetype": "text/x-python",
   "name": "python",
   "nbconvert_exporter": "python",
   "pygments_lexer": "ipython3",
   "version": "3.11.6"
  }
 },
 "nbformat": 4,
 "nbformat_minor": 2
}
