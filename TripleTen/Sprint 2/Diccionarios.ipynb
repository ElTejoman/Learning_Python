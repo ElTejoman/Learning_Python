{
 "cells": [
  {
   "cell_type": "markdown",
   "metadata": {},
   "source": [
    "# **Diccionarios**\n",
    "\n",
    "Ingresa una consulta de búsqueda y obtendrás un resultado. Inicia sesión en una aplicación y podrás ver tus mensajes. Busca una palabra y recibirás una definición.\n",
    "\n",
    "¿Qué tienen en común estas acciones? Se reducen a dos cosas: \"entregar información de identificación (clave), recibir los datos correspondientes (valor)\", con la información proporcionada por los diccionarios de Python de manera eficaz y eficiente.\n",
    "\n",
    "Cada entrada del diccionario de Python tiene dos partes: una clave y un valor.\n",
    "Clave: un string o número que identifica el valor.\n",
    "Valor: los datos asociados a la clave"
   ]
  },
  {
   "cell_type": "code",
   "execution_count": 9,
   "metadata": {},
   "outputs": [
    {
     "name": "stdout",
     "output_type": "stream",
     "text": [
      "{'SU2222': '12.06.18 12:30', 'SU1111': '12.06.18 14:05', 'SU0777': '12.06.18 17:00'}\n"
     ]
    }
   ],
   "source": [
    "#Vamos a crear un diccionario que contenga información de vuelos. La clave será el número de vuelo, y el valor será la fecha y hora de salida:\n",
    "\n",
    "schedule = {                    \n",
    "    'SU2222': '12.06.18 12:30', # a la izquierda de los dos puntos está la clave,\n",
    "    'SU1111': '12.06.18 14:05',    # a la derecha está el valor.\n",
    "    'SU0777': '12.06.18 17:00' \n",
    "}\n",
    "\n",
    "print(schedule)"
   ]
  },
  {
   "cell_type": "markdown",
   "metadata": {},
   "source": [
    "### Diccionarios y listas\n",
    "\n",
    "Como ya sabes, en un diccionario, cada valor está relacionado con su clave, mientras que las listas utilizan índices. Hay algunas diferencias más entre los diccionarios y las listas:\n",
    "\n",
    "-La recuperación de datos de los diccionarios es más rápida, pero un diccionario ocupa más espacio en la memoria.\n",
    "\n",
    "-Al igual que las listas, los diccionarios pueden almacenar datos de cualquier tipo, pero las claves solo pueden ser tipos de datos inmutables, como strings y números (enteros y de coma \n",
    "flotante).\n",
    "\n",
    "¡Pero no todo son diferencias! De manera similar a las listas, podemos pasar diccionarios a len() para obtener el número de elementos."
   ]
  },
  {
   "cell_type": "code",
   "execution_count": 10,
   "metadata": {},
   "outputs": [
    {
     "name": "stdout",
     "output_type": "stream",
     "text": [
      "5\n"
     ]
    }
   ],
   "source": [
    "# clave - nombre del goleador : valor - número de goles marcados en 2019\n",
    "players_result = {\n",
    "    'Cristiano Ronaldo': 39,\n",
    "    'Robert Lewandowski': 54,\n",
    "    'Lionel Messi': 50,\n",
    "    'Harry Kane': 36,\n",
    "    'Karim Benzema': 35\n",
    "}\n",
    "print(len(players_result))"
   ]
  },
  {
   "cell_type": "markdown",
   "metadata": {},
   "source": [
    "### **Extraer valores de diccionarios**\n",
    "\n",
    "Ahora que has creado tu primer diccionario, exploremos cómo podemos recuperar y agregar valores. Antes de continuar, recapitulemos que existen tres reglas básicas para la sintaxis del diccionario:\n",
    "\n",
    "-Los diccionarios se escriben con llaves: {}.\n",
    "\n",
    "-Las comas separan los elementos (pares clave-valor) dentro del diccionario.\n",
    "\n",
    "-Una clave y un valor dentro de un par se separan por dos puntos.\n",
    "\n",
    "Con esto en mente, vamos a aprender cómo recuperar valores de un diccionario.\n",
    "\n",
    "##### **Recuperación de valores del diccionario.**\n",
    "\n",
    "Hay dos formas de acceder a un valor: usando la clave directamente y usando el método get(). \n",
    "Usaremos un diccionario en el que las claves son los nombres de las empresas y los valores son los respectivos precios de sus acciones."
   ]
  },
  {
   "cell_type": "code",
   "execution_count": 11,
   "metadata": {},
   "outputs": [
    {
     "name": "stdout",
     "output_type": "stream",
     "text": [
      "93.23\n"
     ]
    }
   ],
   "source": [
    "financial_info = {\n",
    "    'American Express': 93.23,\n",
    "    'Boeing': 178.44,\n",
    "    'Coca-Cola': 45.15,\n",
    "    'Nike': 97.99,\n",
    "    'JPMorgan':96.27,\n",
    "    'Walmart': 130.68 \n",
    "}\n",
    "\n",
    "pay_with_card = financial_info[\"American Express\"]\n",
    "\n",
    "print(pay_with_card)"
   ]
  },
  {
   "cell_type": "code",
   "execution_count": 12,
   "metadata": {},
   "outputs": [
    {
     "name": "stdout",
     "output_type": "stream",
     "text": [
      "130.68\n"
     ]
    }
   ],
   "source": [
    "#Recupera el precio de las acciones de 'Walmart' accediendo al valor correspondiente del diccionario usando la clave y luego asígnalo a la variable walmart_price. Muestra walmart_price cuando se extraiga el precio.\n",
    "\n",
    "\n",
    "financial_info = {\n",
    "    'American Express': 93.23,\n",
    "    'Boeing': 178.44,\n",
    "    'Coca-Cola': 45.15,\n",
    "    'Walt Disney': 119.34,\n",
    "    'Nike': 97.99,\n",
    "    'JPMorgan':96.27,\n",
    "    'Walmart': 130.68 \n",
    "}\n",
    "\n",
    "walmart_price = financial_info[\"Walmart\"]\n",
    "print(walmart_price)"
   ]
  },
  {
   "cell_type": "code",
   "execution_count": 13,
   "metadata": {},
   "outputs": [
    {
     "ename": "KeyError",
     "evalue": "'Pepsi'",
     "output_type": "error",
     "traceback": [
      "\u001b[1;31m---------------------------------------------------------------------------\u001b[0m",
      "\u001b[1;31mKeyError\u001b[0m                                  Traceback (most recent call last)",
      "\u001b[1;32mc:\\Users\\Usuario\\Learning_Python\\TripleTen\\Sprint 2\\Diccionarios.ipynb Celda 8\u001b[0m line \u001b[0;36m1\n\u001b[0;32m      <a href='vscode-notebook-cell:/c%3A/Users/Usuario/Learning_Python/TripleTen/Sprint%202/Diccionarios.ipynb#X24sZmlsZQ%3D%3D?line=0'>1</a>\u001b[0m \u001b[39m#Extraer valores por el nombre de la clave es un método sencillo, pero tiene un problema. Si hacemos referencia a una clave que no está en nuestro diccionario, el código dará como resultado un error. Ejecuta el siguiente código que intenta recuperar un precio para la empresa 'Pepsi' que no forma parte del diccionario financial_info.\u001b[39;00m\n\u001b[0;32m      <a href='vscode-notebook-cell:/c%3A/Users/Usuario/Learning_Python/TripleTen/Sprint%202/Diccionarios.ipynb#X24sZmlsZQ%3D%3D?line=2'>3</a>\u001b[0m financial_info \u001b[39m=\u001b[39m {\n\u001b[0;32m      <a href='vscode-notebook-cell:/c%3A/Users/Usuario/Learning_Python/TripleTen/Sprint%202/Diccionarios.ipynb#X24sZmlsZQ%3D%3D?line=3'>4</a>\u001b[0m     \u001b[39m'\u001b[39m\u001b[39mAmerican Express\u001b[39m\u001b[39m'\u001b[39m: \u001b[39m93.23\u001b[39m,\n\u001b[0;32m      <a href='vscode-notebook-cell:/c%3A/Users/Usuario/Learning_Python/TripleTen/Sprint%202/Diccionarios.ipynb#X24sZmlsZQ%3D%3D?line=4'>5</a>\u001b[0m     \u001b[39m'\u001b[39m\u001b[39mBoeing\u001b[39m\u001b[39m'\u001b[39m: \u001b[39m178.44\u001b[39m,\n\u001b[1;32m   (...)\u001b[0m\n\u001b[0;32m     <a href='vscode-notebook-cell:/c%3A/Users/Usuario/Learning_Python/TripleTen/Sprint%202/Diccionarios.ipynb#X24sZmlsZQ%3D%3D?line=9'>10</a>\u001b[0m \n\u001b[0;32m     <a href='vscode-notebook-cell:/c%3A/Users/Usuario/Learning_Python/TripleTen/Sprint%202/Diccionarios.ipynb#X24sZmlsZQ%3D%3D?line=10'>11</a>\u001b[0m }\n\u001b[1;32m---> <a href='vscode-notebook-cell:/c%3A/Users/Usuario/Learning_Python/TripleTen/Sprint%202/Diccionarios.ipynb#X24sZmlsZQ%3D%3D?line=11'>12</a>\u001b[0m pepsi_price \u001b[39m=\u001b[39m financial_info[\u001b[39m'\u001b[39;49m\u001b[39mPepsi\u001b[39;49m\u001b[39m'\u001b[39;49m]\n\u001b[0;32m     <a href='vscode-notebook-cell:/c%3A/Users/Usuario/Learning_Python/TripleTen/Sprint%202/Diccionarios.ipynb#X24sZmlsZQ%3D%3D?line=12'>13</a>\u001b[0m \u001b[39mprint\u001b[39m(pepsi_price)\n\u001b[0;32m     <a href='vscode-notebook-cell:/c%3A/Users/Usuario/Learning_Python/TripleTen/Sprint%202/Diccionarios.ipynb#X24sZmlsZQ%3D%3D?line=15'>16</a>\u001b[0m \u001b[39m#Con KeyError Python te está indicando que la clave especificada no se encuentra en el diccionario.\u001b[39;00m\n\u001b[0;32m     <a href='vscode-notebook-cell:/c%3A/Users/Usuario/Learning_Python/TripleTen/Sprint%202/Diccionarios.ipynb#X24sZmlsZQ%3D%3D?line=16'>17</a>\u001b[0m \u001b[39m#En la vida real, es posible que necesites recuperar un valor de un diccionario sin saber si la clave requerida está presente. Por esa razón, Python proporciona un método especial llamado get().\u001b[39;00m\n",
      "\u001b[1;31mKeyError\u001b[0m: 'Pepsi'"
     ]
    }
   ],
   "source": [
    "#Extraer valores por el nombre de la clave es un método sencillo, pero tiene un problema. Si hacemos referencia a una clave que no está en nuestro diccionario, el código dará como resultado un error. Ejecuta el siguiente código que intenta recuperar un precio para la empresa 'Pepsi' que no forma parte del diccionario financial_info.\n",
    "\n",
    "financial_info = {\n",
    "    'American Express': 93.23,\n",
    "    'Boeing': 178.44,\n",
    "    'Coca-Cola': 45.15,\n",
    "    'Nike': 97.99,\n",
    "    'JPMorgan':96.27,\n",
    "    'Walmart': 130.68\n",
    "\n",
    "}\n",
    "pepsi_price = financial_info['Pepsi']\n",
    "print(pepsi_price)\n",
    "\n",
    "\n",
    "#Con KeyError Python te está indicando que la clave especificada no se encuentra en el diccionario.\n",
    "#En la vida real, es posible que necesites recuperar un valor de un diccionario sin saber si la clave requerida está presente. Por esa razón, Python proporciona un método especial llamado get()."
   ]
  },
  {
   "cell_type": "markdown",
   "metadata": {},
   "source": [
    "### **Usar get()**\n",
    "\n",
    "El método get() toma la clave como argumento. Si la clave se encuentra en el diccionario, get() devuelve el valor correspondiente. En caso contrario, devuelve el valor predeterminado, que es None."
   ]
  },
  {
   "cell_type": "code",
   "execution_count": null,
   "metadata": {},
   "outputs": [
    {
     "name": "stdout",
     "output_type": "stream",
     "text": [
      "None\n",
      "97.99\n",
      "None\n"
     ]
    }
   ],
   "source": [
    "# buscamos el valor para la clave 'Pepsi':\n",
    "pepsi_price = financial_info.get('Pepsi')\n",
    "# buscamos el valor para la clave 'Nike':\n",
    "nike_price = financial_info.get('Nike')\n",
    "adidas_price = financial_info.get(\"Adidas\")\n",
    "\n",
    "print(pepsi_price)\n",
    "print(nike_price)\n",
    "print(adidas_price)"
   ]
  },
  {
   "cell_type": "code",
   "execution_count": null,
   "metadata": {},
   "outputs": [
    {
     "name": "stdout",
     "output_type": "stream",
     "text": [
      "Necesitas actualizar tus diccionarios\n"
     ]
    }
   ],
   "source": [
    "if financial_info.get('Pepsi') == None:\n",
    "    print(\"Necesitas actualizar tus diccionarios\")# hacemos algo"
   ]
  },
  {
   "cell_type": "code",
   "execution_count": null,
   "metadata": {},
   "outputs": [
    {
     "name": "stdout",
     "output_type": "stream",
     "text": [
      "-1\n",
      "97.99\n",
      "-1\n",
      "<class 'int'>\n"
     ]
    }
   ],
   "source": [
    "# Ahora el método devuelve -1 si la clave no está en el diccionario:\n",
    "pepsi_price = financial_info.get('Pepsi', -1)\n",
    "nike_price = financial_info.get('Nike', -1)\n",
    "adidas_price = financial_info.get(\"Adidas\", -1)\n",
    "print(pepsi_price)\n",
    "print(nike_price) \n",
    "print(adidas_price)\n",
    "print(type(pepsi_price))"
   ]
  },
  {
   "cell_type": "code",
   "execution_count": null,
   "metadata": {},
   "outputs": [
    {
     "name": "stdout",
     "output_type": "stream",
     "text": [
      "97.99\n"
     ]
    }
   ],
   "source": [
    "financial_info = {\n",
    "    \"American Express\": 93.23,\n",
    "    \"Boeing\": 178.44,\n",
    "    \"Coca-Cola\": 45.15,\n",
    "    \"Walt Disney\": 119.34,\n",
    "    \"Nike\": 97.99,\n",
    "    \"JPMorgan\": 96.27,\n",
    "    \"Walmart\": 130.68,\n",
    "}\n",
    "\n",
    "nike_price = financial_info.get(\"Nike\")  # escribe tu código aquí\n",
    "print(nike_price)"
   ]
  },
  {
   "cell_type": "markdown",
   "metadata": {},
   "source": [
    "## **Agregar y eliminar elementos**\n",
    "\n",
    "#### Añadir elementos\n",
    "\n",
    "Recuerda que se pueden agregar elementos al final de una lista con el método append(). El método insert() se puede utilizar para elegir el lugar para un nuevo elemento en una lista.\n",
    "\n",
    " Escribe el nombre del diccionario seguido de la clave entre corchetes y luego configúralo igual al valor que elijas. Por ejemplo, si queremos agregar el precio de las acciones de Walt Disney a nuestro diccionario financial_info, hacemos lo siguiente:"
   ]
  },
  {
   "cell_type": "code",
   "execution_count": null,
   "metadata": {},
   "outputs": [
    {
     "name": "stdout",
     "output_type": "stream",
     "text": [
      "{'American Express': 93.23, 'Boeing': 178.44, 'Coca-Cola': 45.15, 'Walt Disney': 119.34, 'Nike': 97.99, 'JPMorgan': 96.27, 'Walmart': 130.68}\n"
     ]
    }
   ],
   "source": [
    "financial_info['Walt Disney'] = 119.34\n",
    "\n",
    "print(financial_info)"
   ]
  },
  {
   "cell_type": "code",
   "execution_count": null,
   "metadata": {},
   "outputs": [
    {
     "name": "stdout",
     "output_type": "stream",
     "text": [
      "{'American Express': 93.23, 'Boeing': 178.44, 'Coca-Cola': 45.15, 'Walt Disney': 132.14, 'Nike': 97.99, 'JPMorgan': 96.27, 'Walmart': 130.68}\n"
     ]
    }
   ],
   "source": [
    "#A veces, antes de añadir un elemento a un diccionario, queremos comprobar si la clave que queremos utilizar ya existe en el diccionario. Si la clave no existe, la agregamos. Sin embargo, si la clave ya existe, puede que queramos actualizar su valor. Hagámoslo con 'Walt Disney':\n",
    "\n",
    "if financial_info.get('Walt Disney') == None: # comprobamos si Walt Disney existe\n",
    "    financial_info['Walt Disney'] = 119.34 # si no, la agregamos\n",
    "else: # si existe\n",
    "    financial_info['Walt Disney'] += 3.2 # actualizamos el valor\n",
    "\n",
    "print(financial_info)"
   ]
  }
 ],
 "metadata": {
  "kernelspec": {
   "display_name": "Python 3",
   "language": "python",
   "name": "python3"
  },
  "language_info": {
   "codemirror_mode": {
    "name": "ipython",
    "version": 3
   },
   "file_extension": ".py",
   "mimetype": "text/x-python",
   "name": "python",
   "nbconvert_exporter": "python",
   "pygments_lexer": "ipython3",
   "version": "3.11.6"
  }
 },
 "nbformat": 4,
 "nbformat_minor": 2
}
