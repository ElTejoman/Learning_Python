{
 "cells": [
  {
   "cell_type": "markdown",
   "metadata": {},
   "source": [
    "# **PANDAS**\n",
    "\n",
    "Pandas es la librería de Python más utilizada para procesar datos. Tiene varias funcionalidades, entre ellas:\n",
    "\n",
    "- recuperar datos de distintas fuentes y fusionarlos;\n",
    "- solucionar problemas con los datos, por ejemplo, eliminar datos duplicados o completar valores ausentes;\n",
    "- agregar, eliminar o modificar datos de la tabla;\n",
    "- agrupar datos y calcular estadísticas para grupos."
   ]
  },
  {
   "cell_type": "markdown",
   "metadata": {},
   "source": [
    "### Estructura del DATAFRAME\n",
    "\n",
    "Un DataFrame es una estructura de datos bidimensional, que es esencialmente una tabla donde cada elemento tiene dos coordenadas: una fila y una columna. Se accede a las filas por los índices y a las columnas por sus nombres."
   ]
  },
  {
   "cell_type": "code",
   "execution_count": 8,
   "metadata": {},
   "outputs": [],
   "source": [
    "import pandas as pd\n"
   ]
  },
  {
   "cell_type": "markdown",
   "metadata": {},
   "source": [
    "### **Creación de un DataFrame**\n",
    "\n",
    "Para utilizar pandas, debes convertir tus datos a un DataFrame. Para ello puedes utilizar la clase DataFrame().\n",
    "\n",
    "Una clase es como una plantilla para crear objetos, y hay muchas clases en pandas. La clase DataFrame() es la que más se utiliza.\n",
    "\n",
    "La clase DataFrame() toma dos argumentos: data y columns.\n",
    "\n",
    "- data espera una lista que contenga los datos.\n",
    "- columns espera una lista de nombres de columnas que correspondan a la lista de datos."
   ]
  },
  {
   "cell_type": "markdown",
   "metadata": {},
   "source": [
    "Imagina que tienes un conjunto de datos simple: una lista anidada que contiene los nombres de los países y sus capitales. Así que tenemos una variable llamada atlas, que almacena esta información:\n"
   ]
  },
  {
   "cell_type": "code",
   "execution_count": 9,
   "metadata": {},
   "outputs": [],
   "source": [
    "atlas = [  \n",
    "        ['France', 'Paris'],  \n",
    "        ['Russia', 'Moscow'],  \n",
    "        ['China', 'Beijing'],  \n",
    "        ['Mexico', 'Mexico City'],  \n",
    "        ['Egypt', 'Cairo']  \n",
    "]"
   ]
  },
  {
   "cell_type": "markdown",
   "metadata": {},
   "source": [
    " Podemos utilizarla como valor para el argumento data."
   ]
  },
  {
   "cell_type": "code",
   "execution_count": 10,
   "metadata": {},
   "outputs": [
    {
     "ename": "SyntaxError",
     "evalue": "invalid syntax (3462023912.py, line 1)",
     "output_type": "error",
     "traceback": [
      "\u001b[1;36m  Cell \u001b[1;32mIn[10], line 1\u001b[1;36m\u001b[0m\n\u001b[1;33m    pd.DataFrame(data = atlas, columns = )\u001b[0m\n\u001b[1;37m                                         ^\u001b[0m\n\u001b[1;31mSyntaxError\u001b[0m\u001b[1;31m:\u001b[0m invalid syntax\n"
     ]
    }
   ],
   "source": [
    "pd.DataFrame(data = atlas, columns = )"
   ]
  },
  {
   "cell_type": "markdown",
   "metadata": {},
   "source": [
    "Como puedes ver, todavía debemos darle un valor al argumento columns. Vamos a crear una lista que contenga los nombres de columnas 'country' y 'capital':"
   ]
  },
  {
   "cell_type": "code",
   "execution_count": null,
   "metadata": {},
   "outputs": [],
   "source": [
    "geography = ['country', 'capital']"
   ]
  },
  {
   "cell_type": "markdown",
   "metadata": {},
   "source": [
    "Ahora tenemos dos argumentos y podemos convertir nuestra lista anidada en un DataFrame y almacenarlo en la variable world_map:\n"
   ]
  },
  {
   "cell_type": "code",
   "execution_count": null,
   "metadata": {},
   "outputs": [
    {
     "ename": "NameError",
     "evalue": "name 'pd' is not defined",
     "output_type": "error",
     "traceback": [
      "\u001b[1;31m---------------------------------------------------------------------------\u001b[0m",
      "\u001b[1;31mNameError\u001b[0m                                 Traceback (most recent call last)",
      "\u001b[1;32mc:\\Users\\User\\Desktop\\Learning_Python\\Learning_Python\\TripleTen\\Sprint 2\\Pandas.ipynb Cell 12\u001b[0m line \u001b[0;36m1\n\u001b[1;32m----> <a href='vscode-notebook-cell:/c%3A/Users/User/Desktop/Learning_Python/Learning_Python/TripleTen/Sprint%202/Pandas.ipynb#X15sZmlsZQ%3D%3D?line=0'>1</a>\u001b[0m world_map \u001b[39m=\u001b[39m pd\u001b[39m.\u001b[39mDataFrame(data\u001b[39m=\u001b[39matlas, columns\u001b[39m=\u001b[39mgeography)\n",
      "\u001b[1;31mNameError\u001b[0m: name 'pd' is not defined"
     ]
    }
   ],
   "source": [
    "world_map = pd.DataFrame(data=atlas, columns=geography)"
   ]
  },
  {
   "cell_type": "markdown",
   "metadata": {},
   "source": [
    "Como DataFrame() es una clase dentro de la librería pandas, va precedida de pd cuando la llamamos.\n",
    "\n",
    "El código completo se verá así:"
   ]
  },
  {
   "cell_type": "code",
   "execution_count": null,
   "metadata": {},
   "outputs": [
    {
     "name": "stdout",
     "output_type": "stream",
     "text": [
      "  country      capital\n",
      "0  France        Paris\n",
      "1  Russia       Moscow\n",
      "2   China      Beijing\n",
      "3  Mexico  Mexico City\n",
      "4   Egypt        Cairo\n"
     ]
    }
   ],
   "source": [
    "import pandas as pd\n",
    "\n",
    "# preparamos los datos y los nombres de las columnas\n",
    "atlas = [\n",
    "        ['France', 'Paris'],  \n",
    "        ['Russia', 'Moscow'],  \n",
    "        ['China', 'Beijing'],  \n",
    "        ['Mexico', 'Mexico City'],  \n",
    "        ['Egypt', 'Cairo'],\n",
    "]\n",
    "geography = ['country', 'capital']\n",
    "\n",
    "# creamos un DataFrame\n",
    "world_map = pd.DataFrame(data=atlas , columns=geography)\n",
    "\n",
    "# mostrando el DataFrame\n",
    "print(world_map)\n",
    "\n",
    "# SE TUVO QUE INSTALAR PANDAS EN LA TERMINAL PONER PIP INSTAL PANDAS Y LISTO"
   ]
  },
  {
   "cell_type": "markdown",
   "metadata": {},
   "source": [
    "## Ejercicios\n",
    "**Ejercicio 1**\n",
    "\n",
    "Importa pandas para poder acceder a la librería con pd. Crea una lista anidada, music, con cuatro elementos. Cada sublista debe almacenar dos valores de tipo string: artista y nombre de la canción:\n",
    "\n",
    "'Bob Dylan' — 'Like A Rolling Stone'\n",
    "\n",
    "'John Lennon' — 'Imagine'\n",
    "\n",
    "'The Beatles' — 'Hey Jude'\n",
    "\n",
    "'Nirvana' — 'Smells Like Teen Spirit'"
   ]
  },
  {
   "cell_type": "code",
   "execution_count": null,
   "metadata": {},
   "outputs": [],
   "source": [
    "import pandas as pd\n",
    "\n",
    "music = [\n",
    "  ['Bob Dylan','Like A Rolling Stone'],\n",
    "  ['John Lennon', 'Imagine'],\n",
    "  ['The Beatles','Hey Jude' ],\n",
    "  ['Nirvana', 'Smells Like Teen Spirit']\n",
    "]"
   ]
  },
  {
   "cell_type": "markdown",
   "metadata": {},
   "source": [
    "**Ejercicio 2**\n",
    "\n",
    "Crea una lista llamada entries que tenga dos elementos: los nombres de las columnas 'artist' y 'track'. Luego, utiliza DataFrame() para crear una tabla a partir de las listas music y entries. Guarda el resultado en la variable playlist y luego muéstralo."
   ]
  },
  {
   "cell_type": "code",
   "execution_count": null,
   "metadata": {},
   "outputs": [
    {
     "name": "stdout",
     "output_type": "stream",
     "text": [
      "        artist                    track\n",
      "0    Bob Dylan     Like A Rolling Stone\n",
      "1  John Lennon                  Imagine\n",
      "2  The Beatles                 Hey Jude\n",
      "3      Nirvana  Smells Like Teen Spirit\n",
      "============\n",
      "<class 'pandas.core.frame.DataFrame'>\n",
      "RangeIndex: 4 entries, 0 to 3\n",
      "Data columns (total 2 columns):\n",
      " #   Column  Non-Null Count  Dtype \n",
      "---  ------  --------------  ----- \n",
      " 0   artist  4 non-null      object\n",
      " 1   track   4 non-null      object\n",
      "dtypes: object(2)\n",
      "memory usage: 196.0+ bytes\n",
      "None\n"
     ]
    }
   ],
   "source": [
    "import pandas as pd\n",
    "\n",
    "music = [\n",
    "    ['Bob Dylan', 'Like A Rolling Stone'],\n",
    "    ['John Lennon', 'Imagine'],\n",
    "    ['The Beatles', 'Hey Jude'],\n",
    "    ['Nirvana', 'Smells Like Teen Spirit'],\n",
    "]\n",
    "\n",
    "entries = [\"artist\",\"track\"]\n",
    "\n",
    "playlist = pd.DataFrame(data=music,columns=entries)\n",
    "print(playlist)\n",
    "print(\"============\")\n",
    "print(playlist.info())\n",
    "# escribe tu código aquí"
   ]
  },
  {
   "cell_type": "markdown",
   "metadata": {},
   "source": [
    "## **PANDAS PARA ARCHIVOS DE EXCEL Y CSV**\n",
    "\n"
   ]
  },
  {
   "cell_type": "markdown",
   "metadata": {},
   "source": [
    "Tratarás principalmente con archivos CSV (\"comma-separated value\", por sus siglas en inglés), aunque también habrá algunos archivos de Excel.\n",
    "\n",
    "En los archivos CSV, las comas separan los valores de diferentes columnas. Pandas lee estos archivos y transfiere los datos a un DataFrame.\n",
    "\n",
    "Como ya se mencionó, un DataFrame requiere datos y nombres de columna, los cuales se proporcionan en archivos CSV:\n",
    "\n",
    "- La primera línea contiene los nombres de las columnas.\n",
    "- Cada línea siguiente contiene los datos que corresponden a una fila de la tabla.\n",
    "\n",
    "Para leer un archivo CSV utilizando pandas, necesitamos llamar a la función read_csv(). Esta función solo requiere un argumento, es decir, la ruta del archivo:"
   ]
  },
  {
   "cell_type": "code",
   "execution_count": null,
   "metadata": {},
   "outputs": [
    {
     "ename": "FileNotFoundError",
     "evalue": "[Errno 2] No such file or directory: '/datasets/music_log_chpt_11.csv'",
     "output_type": "error",
     "traceback": [
      "\u001b[1;31m---------------------------------------------------------------------------\u001b[0m",
      "\u001b[1;31mFileNotFoundError\u001b[0m                         Traceback (most recent call last)",
      "\u001b[1;32mc:\\Users\\User\\Desktop\\Learning_Python\\Learning_Python\\TripleTen\\Sprint 2\\Pandas.ipynb Cell 21\u001b[0m line \u001b[0;36m3\n\u001b[0;32m      <a href='vscode-notebook-cell:/c%3A/Users/User/Desktop/Learning_Python/Learning_Python/TripleTen/Sprint%202/Pandas.ipynb#X26sZmlsZQ%3D%3D?line=0'>1</a>\u001b[0m \u001b[39mimport\u001b[39;00m \u001b[39mpandas\u001b[39;00m \u001b[39mas\u001b[39;00m \u001b[39mpd\u001b[39;00m\n\u001b[1;32m----> <a href='vscode-notebook-cell:/c%3A/Users/User/Desktop/Learning_Python/Learning_Python/TripleTen/Sprint%202/Pandas.ipynb#X26sZmlsZQ%3D%3D?line=2'>3</a>\u001b[0m df \u001b[39m=\u001b[39m pd\u001b[39m.\u001b[39;49mread_csv(\u001b[39m'\u001b[39;49m\u001b[39m/datasets/music_log_chpt_11.csv\u001b[39;49m\u001b[39m'\u001b[39;49m) \u001b[39m# el argumento es una ruta de archivo\u001b[39;00m\n",
      "File \u001b[1;32m~\\AppData\\Local\\Packages\\PythonSoftwareFoundation.Python.3.11_qbz5n2kfra8p0\\LocalCache\\local-packages\\Python311\\site-packages\\pandas\\io\\parsers\\readers.py:948\u001b[0m, in \u001b[0;36mread_csv\u001b[1;34m(filepath_or_buffer, sep, delimiter, header, names, index_col, usecols, dtype, engine, converters, true_values, false_values, skipinitialspace, skiprows, skipfooter, nrows, na_values, keep_default_na, na_filter, verbose, skip_blank_lines, parse_dates, infer_datetime_format, keep_date_col, date_parser, date_format, dayfirst, cache_dates, iterator, chunksize, compression, thousands, decimal, lineterminator, quotechar, quoting, doublequote, escapechar, comment, encoding, encoding_errors, dialect, on_bad_lines, delim_whitespace, low_memory, memory_map, float_precision, storage_options, dtype_backend)\u001b[0m\n\u001b[0;32m    935\u001b[0m kwds_defaults \u001b[39m=\u001b[39m _refine_defaults_read(\n\u001b[0;32m    936\u001b[0m     dialect,\n\u001b[0;32m    937\u001b[0m     delimiter,\n\u001b[1;32m   (...)\u001b[0m\n\u001b[0;32m    944\u001b[0m     dtype_backend\u001b[39m=\u001b[39mdtype_backend,\n\u001b[0;32m    945\u001b[0m )\n\u001b[0;32m    946\u001b[0m kwds\u001b[39m.\u001b[39mupdate(kwds_defaults)\n\u001b[1;32m--> 948\u001b[0m \u001b[39mreturn\u001b[39;00m _read(filepath_or_buffer, kwds)\n",
      "File \u001b[1;32m~\\AppData\\Local\\Packages\\PythonSoftwareFoundation.Python.3.11_qbz5n2kfra8p0\\LocalCache\\local-packages\\Python311\\site-packages\\pandas\\io\\parsers\\readers.py:611\u001b[0m, in \u001b[0;36m_read\u001b[1;34m(filepath_or_buffer, kwds)\u001b[0m\n\u001b[0;32m    608\u001b[0m _validate_names(kwds\u001b[39m.\u001b[39mget(\u001b[39m\"\u001b[39m\u001b[39mnames\u001b[39m\u001b[39m\"\u001b[39m, \u001b[39mNone\u001b[39;00m))\n\u001b[0;32m    610\u001b[0m \u001b[39m# Create the parser.\u001b[39;00m\n\u001b[1;32m--> 611\u001b[0m parser \u001b[39m=\u001b[39m TextFileReader(filepath_or_buffer, \u001b[39m*\u001b[39;49m\u001b[39m*\u001b[39;49mkwds)\n\u001b[0;32m    613\u001b[0m \u001b[39mif\u001b[39;00m chunksize \u001b[39mor\u001b[39;00m iterator:\n\u001b[0;32m    614\u001b[0m     \u001b[39mreturn\u001b[39;00m parser\n",
      "File \u001b[1;32m~\\AppData\\Local\\Packages\\PythonSoftwareFoundation.Python.3.11_qbz5n2kfra8p0\\LocalCache\\local-packages\\Python311\\site-packages\\pandas\\io\\parsers\\readers.py:1448\u001b[0m, in \u001b[0;36mTextFileReader.__init__\u001b[1;34m(self, f, engine, **kwds)\u001b[0m\n\u001b[0;32m   1445\u001b[0m     \u001b[39mself\u001b[39m\u001b[39m.\u001b[39moptions[\u001b[39m\"\u001b[39m\u001b[39mhas_index_names\u001b[39m\u001b[39m\"\u001b[39m] \u001b[39m=\u001b[39m kwds[\u001b[39m\"\u001b[39m\u001b[39mhas_index_names\u001b[39m\u001b[39m\"\u001b[39m]\n\u001b[0;32m   1447\u001b[0m \u001b[39mself\u001b[39m\u001b[39m.\u001b[39mhandles: IOHandles \u001b[39m|\u001b[39m \u001b[39mNone\u001b[39;00m \u001b[39m=\u001b[39m \u001b[39mNone\u001b[39;00m\n\u001b[1;32m-> 1448\u001b[0m \u001b[39mself\u001b[39m\u001b[39m.\u001b[39m_engine \u001b[39m=\u001b[39m \u001b[39mself\u001b[39;49m\u001b[39m.\u001b[39;49m_make_engine(f, \u001b[39mself\u001b[39;49m\u001b[39m.\u001b[39;49mengine)\n",
      "File \u001b[1;32m~\\AppData\\Local\\Packages\\PythonSoftwareFoundation.Python.3.11_qbz5n2kfra8p0\\LocalCache\\local-packages\\Python311\\site-packages\\pandas\\io\\parsers\\readers.py:1705\u001b[0m, in \u001b[0;36mTextFileReader._make_engine\u001b[1;34m(self, f, engine)\u001b[0m\n\u001b[0;32m   1703\u001b[0m     \u001b[39mif\u001b[39;00m \u001b[39m\"\u001b[39m\u001b[39mb\u001b[39m\u001b[39m\"\u001b[39m \u001b[39mnot\u001b[39;00m \u001b[39min\u001b[39;00m mode:\n\u001b[0;32m   1704\u001b[0m         mode \u001b[39m+\u001b[39m\u001b[39m=\u001b[39m \u001b[39m\"\u001b[39m\u001b[39mb\u001b[39m\u001b[39m\"\u001b[39m\n\u001b[1;32m-> 1705\u001b[0m \u001b[39mself\u001b[39m\u001b[39m.\u001b[39mhandles \u001b[39m=\u001b[39m get_handle(\n\u001b[0;32m   1706\u001b[0m     f,\n\u001b[0;32m   1707\u001b[0m     mode,\n\u001b[0;32m   1708\u001b[0m     encoding\u001b[39m=\u001b[39;49m\u001b[39mself\u001b[39;49m\u001b[39m.\u001b[39;49moptions\u001b[39m.\u001b[39;49mget(\u001b[39m\"\u001b[39;49m\u001b[39mencoding\u001b[39;49m\u001b[39m\"\u001b[39;49m, \u001b[39mNone\u001b[39;49;00m),\n\u001b[0;32m   1709\u001b[0m     compression\u001b[39m=\u001b[39;49m\u001b[39mself\u001b[39;49m\u001b[39m.\u001b[39;49moptions\u001b[39m.\u001b[39;49mget(\u001b[39m\"\u001b[39;49m\u001b[39mcompression\u001b[39;49m\u001b[39m\"\u001b[39;49m, \u001b[39mNone\u001b[39;49;00m),\n\u001b[0;32m   1710\u001b[0m     memory_map\u001b[39m=\u001b[39;49m\u001b[39mself\u001b[39;49m\u001b[39m.\u001b[39;49moptions\u001b[39m.\u001b[39;49mget(\u001b[39m\"\u001b[39;49m\u001b[39mmemory_map\u001b[39;49m\u001b[39m\"\u001b[39;49m, \u001b[39mFalse\u001b[39;49;00m),\n\u001b[0;32m   1711\u001b[0m     is_text\u001b[39m=\u001b[39;49mis_text,\n\u001b[0;32m   1712\u001b[0m     errors\u001b[39m=\u001b[39;49m\u001b[39mself\u001b[39;49m\u001b[39m.\u001b[39;49moptions\u001b[39m.\u001b[39;49mget(\u001b[39m\"\u001b[39;49m\u001b[39mencoding_errors\u001b[39;49m\u001b[39m\"\u001b[39;49m, \u001b[39m\"\u001b[39;49m\u001b[39mstrict\u001b[39;49m\u001b[39m\"\u001b[39;49m),\n\u001b[0;32m   1713\u001b[0m     storage_options\u001b[39m=\u001b[39;49m\u001b[39mself\u001b[39;49m\u001b[39m.\u001b[39;49moptions\u001b[39m.\u001b[39;49mget(\u001b[39m\"\u001b[39;49m\u001b[39mstorage_options\u001b[39;49m\u001b[39m\"\u001b[39;49m, \u001b[39mNone\u001b[39;49;00m),\n\u001b[0;32m   1714\u001b[0m )\n\u001b[0;32m   1715\u001b[0m \u001b[39massert\u001b[39;00m \u001b[39mself\u001b[39m\u001b[39m.\u001b[39mhandles \u001b[39mis\u001b[39;00m \u001b[39mnot\u001b[39;00m \u001b[39mNone\u001b[39;00m\n\u001b[0;32m   1716\u001b[0m f \u001b[39m=\u001b[39m \u001b[39mself\u001b[39m\u001b[39m.\u001b[39mhandles\u001b[39m.\u001b[39mhandle\n",
      "File \u001b[1;32m~\\AppData\\Local\\Packages\\PythonSoftwareFoundation.Python.3.11_qbz5n2kfra8p0\\LocalCache\\local-packages\\Python311\\site-packages\\pandas\\io\\common.py:863\u001b[0m, in \u001b[0;36mget_handle\u001b[1;34m(path_or_buf, mode, encoding, compression, memory_map, is_text, errors, storage_options)\u001b[0m\n\u001b[0;32m    858\u001b[0m \u001b[39melif\u001b[39;00m \u001b[39misinstance\u001b[39m(handle, \u001b[39mstr\u001b[39m):\n\u001b[0;32m    859\u001b[0m     \u001b[39m# Check whether the filename is to be opened in binary mode.\u001b[39;00m\n\u001b[0;32m    860\u001b[0m     \u001b[39m# Binary mode does not support 'encoding' and 'newline'.\u001b[39;00m\n\u001b[0;32m    861\u001b[0m     \u001b[39mif\u001b[39;00m ioargs\u001b[39m.\u001b[39mencoding \u001b[39mand\u001b[39;00m \u001b[39m\"\u001b[39m\u001b[39mb\u001b[39m\u001b[39m\"\u001b[39m \u001b[39mnot\u001b[39;00m \u001b[39min\u001b[39;00m ioargs\u001b[39m.\u001b[39mmode:\n\u001b[0;32m    862\u001b[0m         \u001b[39m# Encoding\u001b[39;00m\n\u001b[1;32m--> 863\u001b[0m         handle \u001b[39m=\u001b[39m \u001b[39mopen\u001b[39;49m(\n\u001b[0;32m    864\u001b[0m             handle,\n\u001b[0;32m    865\u001b[0m             ioargs\u001b[39m.\u001b[39;49mmode,\n\u001b[0;32m    866\u001b[0m             encoding\u001b[39m=\u001b[39;49mioargs\u001b[39m.\u001b[39;49mencoding,\n\u001b[0;32m    867\u001b[0m             errors\u001b[39m=\u001b[39;49merrors,\n\u001b[0;32m    868\u001b[0m             newline\u001b[39m=\u001b[39;49m\u001b[39m\"\u001b[39;49m\u001b[39m\"\u001b[39;49m,\n\u001b[0;32m    869\u001b[0m         )\n\u001b[0;32m    870\u001b[0m     \u001b[39melse\u001b[39;00m:\n\u001b[0;32m    871\u001b[0m         \u001b[39m# Binary mode\u001b[39;00m\n\u001b[0;32m    872\u001b[0m         handle \u001b[39m=\u001b[39m \u001b[39mopen\u001b[39m(handle, ioargs\u001b[39m.\u001b[39mmode)\n",
      "\u001b[1;31mFileNotFoundError\u001b[0m: [Errno 2] No such file or directory: '/datasets/music_log_chpt_11.csv'"
     ]
    }
   ],
   "source": [
    "import pandas as pd\n",
    "\n",
    "df = pd.read_csv('/datasets/music_log_chpt_11.csv') # el argumento es una ruta de archivo"
   ]
  },
  {
   "cell_type": "markdown",
   "metadata": {},
   "source": [
    "¿Cuál es el código correcto para leer el archivo data.csv ubicado en la carpeta datasets? La carpeta se encuentra en el directorio raíz.\n",
    "\n",
    "```python\n",
    "df = pd.read_excel(\"data.xlsx\")\n",
    "```\n",
    "\n",
    "Sí, funcionará si estamos en el directorio datasets y leemos el archivo directamente desde aquí.\n",
    "\n",
    "```python\n",
    "df = pd.read_excel(/datasets/data.xlsx\")\n",
    "```\n",
    "\n",
    "Es correcto. Pasaste una ruta absoluta a un archivo."
   ]
  },
  {
   "cell_type": "markdown",
   "metadata": {},
   "source": [
    "### **Lectura de archivos excel**\n",
    "\n",
    "El proceso de crear un DataFrame a partir de un archivo Excel es similar a lo que hicimos con los archivos CSV. Pandas proporciona una función integrada read_excel() para leer archivos de Excel que también espera una ruta como argumento. Así es como se hace:"
   ]
  },
  {
   "cell_type": "code",
   "execution_count": null,
   "metadata": {},
   "outputs": [],
   "source": [
    "import pandas as pd\n",
    "\n",
    "df = pd.read_excel('/datasets/music_log.xlsx') # el argumento es una ruta de archivo"
   ]
  },
  {
   "cell_type": "markdown",
   "metadata": {},
   "source": [
    "### **Métodos HEAD y TAIL**\n",
    "\n",
    "Pandas ofrece dos métodos para mostrar el principio o el final de un conjunto de datos: head() y tail(). Como sugieren sus nombres, \n",
    "\n",
    "**head()** muestra las primeras filas de una tabla, mientras que \n",
    "\n",
    "**tail()** muestra las últimas filas.\n"
   ]
  },
  {
   "cell_type": "markdown",
   "metadata": {},
   "source": [
    "Ahora veamos estos métodos en acción. Como sabes, un método es algo que podemos aplicar a un objeto, en nuestro caso, a un DataFrame. Comencemos por aplicar el método head() y mostrar el resultado."
   ]
  },
  {
   "cell_type": "code",
   "execution_count": 11,
   "metadata": {},
   "outputs": [
    {
     "ename": "FileNotFoundError",
     "evalue": "[Errno 2] No such file or directory: '/datasets/music_log_chpt_11.csv'",
     "output_type": "error",
     "traceback": [
      "\u001b[1;31m---------------------------------------------------------------------------\u001b[0m",
      "\u001b[1;31mFileNotFoundError\u001b[0m                         Traceback (most recent call last)",
      "\u001b[1;32mc:\\Users\\User\\Desktop\\Learning_Python\\Learning_Python\\TripleTen\\Sprint 2\\Pandas.ipynb Cell 27\u001b[0m line \u001b[0;36m3\n\u001b[0;32m      <a href='vscode-notebook-cell:/c%3A/Users/User/Desktop/Learning_Python/Learning_Python/TripleTen/Sprint%202/Pandas.ipynb#X35sZmlsZQ%3D%3D?line=0'>1</a>\u001b[0m \u001b[39mimport\u001b[39;00m \u001b[39mpandas\u001b[39;00m \u001b[39mas\u001b[39;00m \u001b[39mpd\u001b[39;00m\n\u001b[1;32m----> <a href='vscode-notebook-cell:/c%3A/Users/User/Desktop/Learning_Python/Learning_Python/TripleTen/Sprint%202/Pandas.ipynb#X35sZmlsZQ%3D%3D?line=2'>3</a>\u001b[0m df \u001b[39m=\u001b[39m pd\u001b[39m.\u001b[39;49mread_csv(\u001b[39m'\u001b[39;49m\u001b[39m/datasets/music_log_chpt_11.csv\u001b[39;49m\u001b[39m'\u001b[39;49m)\n\u001b[0;32m      <a href='vscode-notebook-cell:/c%3A/Users/User/Desktop/Learning_Python/Learning_Python/TripleTen/Sprint%202/Pandas.ipynb#X35sZmlsZQ%3D%3D?line=4'>5</a>\u001b[0m \u001b[39mprint\u001b[39m(df\u001b[39m.\u001b[39mhead())\n",
      "File \u001b[1;32m~\\AppData\\Local\\Packages\\PythonSoftwareFoundation.Python.3.11_qbz5n2kfra8p0\\LocalCache\\local-packages\\Python311\\site-packages\\pandas\\io\\parsers\\readers.py:948\u001b[0m, in \u001b[0;36mread_csv\u001b[1;34m(filepath_or_buffer, sep, delimiter, header, names, index_col, usecols, dtype, engine, converters, true_values, false_values, skipinitialspace, skiprows, skipfooter, nrows, na_values, keep_default_na, na_filter, verbose, skip_blank_lines, parse_dates, infer_datetime_format, keep_date_col, date_parser, date_format, dayfirst, cache_dates, iterator, chunksize, compression, thousands, decimal, lineterminator, quotechar, quoting, doublequote, escapechar, comment, encoding, encoding_errors, dialect, on_bad_lines, delim_whitespace, low_memory, memory_map, float_precision, storage_options, dtype_backend)\u001b[0m\n\u001b[0;32m    935\u001b[0m kwds_defaults \u001b[39m=\u001b[39m _refine_defaults_read(\n\u001b[0;32m    936\u001b[0m     dialect,\n\u001b[0;32m    937\u001b[0m     delimiter,\n\u001b[1;32m   (...)\u001b[0m\n\u001b[0;32m    944\u001b[0m     dtype_backend\u001b[39m=\u001b[39mdtype_backend,\n\u001b[0;32m    945\u001b[0m )\n\u001b[0;32m    946\u001b[0m kwds\u001b[39m.\u001b[39mupdate(kwds_defaults)\n\u001b[1;32m--> 948\u001b[0m \u001b[39mreturn\u001b[39;00m _read(filepath_or_buffer, kwds)\n",
      "File \u001b[1;32m~\\AppData\\Local\\Packages\\PythonSoftwareFoundation.Python.3.11_qbz5n2kfra8p0\\LocalCache\\local-packages\\Python311\\site-packages\\pandas\\io\\parsers\\readers.py:611\u001b[0m, in \u001b[0;36m_read\u001b[1;34m(filepath_or_buffer, kwds)\u001b[0m\n\u001b[0;32m    608\u001b[0m _validate_names(kwds\u001b[39m.\u001b[39mget(\u001b[39m\"\u001b[39m\u001b[39mnames\u001b[39m\u001b[39m\"\u001b[39m, \u001b[39mNone\u001b[39;00m))\n\u001b[0;32m    610\u001b[0m \u001b[39m# Create the parser.\u001b[39;00m\n\u001b[1;32m--> 611\u001b[0m parser \u001b[39m=\u001b[39m TextFileReader(filepath_or_buffer, \u001b[39m*\u001b[39;49m\u001b[39m*\u001b[39;49mkwds)\n\u001b[0;32m    613\u001b[0m \u001b[39mif\u001b[39;00m chunksize \u001b[39mor\u001b[39;00m iterator:\n\u001b[0;32m    614\u001b[0m     \u001b[39mreturn\u001b[39;00m parser\n",
      "File \u001b[1;32m~\\AppData\\Local\\Packages\\PythonSoftwareFoundation.Python.3.11_qbz5n2kfra8p0\\LocalCache\\local-packages\\Python311\\site-packages\\pandas\\io\\parsers\\readers.py:1448\u001b[0m, in \u001b[0;36mTextFileReader.__init__\u001b[1;34m(self, f, engine, **kwds)\u001b[0m\n\u001b[0;32m   1445\u001b[0m     \u001b[39mself\u001b[39m\u001b[39m.\u001b[39moptions[\u001b[39m\"\u001b[39m\u001b[39mhas_index_names\u001b[39m\u001b[39m\"\u001b[39m] \u001b[39m=\u001b[39m kwds[\u001b[39m\"\u001b[39m\u001b[39mhas_index_names\u001b[39m\u001b[39m\"\u001b[39m]\n\u001b[0;32m   1447\u001b[0m \u001b[39mself\u001b[39m\u001b[39m.\u001b[39mhandles: IOHandles \u001b[39m|\u001b[39m \u001b[39mNone\u001b[39;00m \u001b[39m=\u001b[39m \u001b[39mNone\u001b[39;00m\n\u001b[1;32m-> 1448\u001b[0m \u001b[39mself\u001b[39m\u001b[39m.\u001b[39m_engine \u001b[39m=\u001b[39m \u001b[39mself\u001b[39;49m\u001b[39m.\u001b[39;49m_make_engine(f, \u001b[39mself\u001b[39;49m\u001b[39m.\u001b[39;49mengine)\n",
      "File \u001b[1;32m~\\AppData\\Local\\Packages\\PythonSoftwareFoundation.Python.3.11_qbz5n2kfra8p0\\LocalCache\\local-packages\\Python311\\site-packages\\pandas\\io\\parsers\\readers.py:1705\u001b[0m, in \u001b[0;36mTextFileReader._make_engine\u001b[1;34m(self, f, engine)\u001b[0m\n\u001b[0;32m   1703\u001b[0m     \u001b[39mif\u001b[39;00m \u001b[39m\"\u001b[39m\u001b[39mb\u001b[39m\u001b[39m\"\u001b[39m \u001b[39mnot\u001b[39;00m \u001b[39min\u001b[39;00m mode:\n\u001b[0;32m   1704\u001b[0m         mode \u001b[39m+\u001b[39m\u001b[39m=\u001b[39m \u001b[39m\"\u001b[39m\u001b[39mb\u001b[39m\u001b[39m\"\u001b[39m\n\u001b[1;32m-> 1705\u001b[0m \u001b[39mself\u001b[39m\u001b[39m.\u001b[39mhandles \u001b[39m=\u001b[39m get_handle(\n\u001b[0;32m   1706\u001b[0m     f,\n\u001b[0;32m   1707\u001b[0m     mode,\n\u001b[0;32m   1708\u001b[0m     encoding\u001b[39m=\u001b[39;49m\u001b[39mself\u001b[39;49m\u001b[39m.\u001b[39;49moptions\u001b[39m.\u001b[39;49mget(\u001b[39m\"\u001b[39;49m\u001b[39mencoding\u001b[39;49m\u001b[39m\"\u001b[39;49m, \u001b[39mNone\u001b[39;49;00m),\n\u001b[0;32m   1709\u001b[0m     compression\u001b[39m=\u001b[39;49m\u001b[39mself\u001b[39;49m\u001b[39m.\u001b[39;49moptions\u001b[39m.\u001b[39;49mget(\u001b[39m\"\u001b[39;49m\u001b[39mcompression\u001b[39;49m\u001b[39m\"\u001b[39;49m, \u001b[39mNone\u001b[39;49;00m),\n\u001b[0;32m   1710\u001b[0m     memory_map\u001b[39m=\u001b[39;49m\u001b[39mself\u001b[39;49m\u001b[39m.\u001b[39;49moptions\u001b[39m.\u001b[39;49mget(\u001b[39m\"\u001b[39;49m\u001b[39mmemory_map\u001b[39;49m\u001b[39m\"\u001b[39;49m, \u001b[39mFalse\u001b[39;49;00m),\n\u001b[0;32m   1711\u001b[0m     is_text\u001b[39m=\u001b[39;49mis_text,\n\u001b[0;32m   1712\u001b[0m     errors\u001b[39m=\u001b[39;49m\u001b[39mself\u001b[39;49m\u001b[39m.\u001b[39;49moptions\u001b[39m.\u001b[39;49mget(\u001b[39m\"\u001b[39;49m\u001b[39mencoding_errors\u001b[39;49m\u001b[39m\"\u001b[39;49m, \u001b[39m\"\u001b[39;49m\u001b[39mstrict\u001b[39;49m\u001b[39m\"\u001b[39;49m),\n\u001b[0;32m   1713\u001b[0m     storage_options\u001b[39m=\u001b[39;49m\u001b[39mself\u001b[39;49m\u001b[39m.\u001b[39;49moptions\u001b[39m.\u001b[39;49mget(\u001b[39m\"\u001b[39;49m\u001b[39mstorage_options\u001b[39;49m\u001b[39m\"\u001b[39;49m, \u001b[39mNone\u001b[39;49;00m),\n\u001b[0;32m   1714\u001b[0m )\n\u001b[0;32m   1715\u001b[0m \u001b[39massert\u001b[39;00m \u001b[39mself\u001b[39m\u001b[39m.\u001b[39mhandles \u001b[39mis\u001b[39;00m \u001b[39mnot\u001b[39;00m \u001b[39mNone\u001b[39;00m\n\u001b[0;32m   1716\u001b[0m f \u001b[39m=\u001b[39m \u001b[39mself\u001b[39m\u001b[39m.\u001b[39mhandles\u001b[39m.\u001b[39mhandle\n",
      "File \u001b[1;32m~\\AppData\\Local\\Packages\\PythonSoftwareFoundation.Python.3.11_qbz5n2kfra8p0\\LocalCache\\local-packages\\Python311\\site-packages\\pandas\\io\\common.py:863\u001b[0m, in \u001b[0;36mget_handle\u001b[1;34m(path_or_buf, mode, encoding, compression, memory_map, is_text, errors, storage_options)\u001b[0m\n\u001b[0;32m    858\u001b[0m \u001b[39melif\u001b[39;00m \u001b[39misinstance\u001b[39m(handle, \u001b[39mstr\u001b[39m):\n\u001b[0;32m    859\u001b[0m     \u001b[39m# Check whether the filename is to be opened in binary mode.\u001b[39;00m\n\u001b[0;32m    860\u001b[0m     \u001b[39m# Binary mode does not support 'encoding' and 'newline'.\u001b[39;00m\n\u001b[0;32m    861\u001b[0m     \u001b[39mif\u001b[39;00m ioargs\u001b[39m.\u001b[39mencoding \u001b[39mand\u001b[39;00m \u001b[39m\"\u001b[39m\u001b[39mb\u001b[39m\u001b[39m\"\u001b[39m \u001b[39mnot\u001b[39;00m \u001b[39min\u001b[39;00m ioargs\u001b[39m.\u001b[39mmode:\n\u001b[0;32m    862\u001b[0m         \u001b[39m# Encoding\u001b[39;00m\n\u001b[1;32m--> 863\u001b[0m         handle \u001b[39m=\u001b[39m \u001b[39mopen\u001b[39;49m(\n\u001b[0;32m    864\u001b[0m             handle,\n\u001b[0;32m    865\u001b[0m             ioargs\u001b[39m.\u001b[39;49mmode,\n\u001b[0;32m    866\u001b[0m             encoding\u001b[39m=\u001b[39;49mioargs\u001b[39m.\u001b[39;49mencoding,\n\u001b[0;32m    867\u001b[0m             errors\u001b[39m=\u001b[39;49merrors,\n\u001b[0;32m    868\u001b[0m             newline\u001b[39m=\u001b[39;49m\u001b[39m\"\u001b[39;49m\u001b[39m\"\u001b[39;49m,\n\u001b[0;32m    869\u001b[0m         )\n\u001b[0;32m    870\u001b[0m     \u001b[39melse\u001b[39;00m:\n\u001b[0;32m    871\u001b[0m         \u001b[39m# Binary mode\u001b[39;00m\n\u001b[0;32m    872\u001b[0m         handle \u001b[39m=\u001b[39m \u001b[39mopen\u001b[39m(handle, ioargs\u001b[39m.\u001b[39mmode)\n",
      "\u001b[1;31mFileNotFoundError\u001b[0m: [Errno 2] No such file or directory: '/datasets/music_log_chpt_11.csv'"
     ]
    }
   ],
   "source": [
    "import pandas as pd\n",
    "\n",
    "df = pd.read_csv('/datasets/music_log_chpt_11.csv')\n",
    "\n",
    "print(df.head())"
   ]
  },
  {
   "cell_type": "markdown",
   "metadata": {},
   "source": [
    "### **Indexación de un DataFrame**\n",
    "\n",
    "**INDEXACIÓN POR COORDENADAS**\n",
    "\n",
    "La indexación permite acceder a una celda determinada de la tabla utilizando dos coordenadas: el número de la fila y el nombre de la columna.\n",
    "\n",
    "Para acceder a los valores de una tabla en un DataFrame, tenemos a nuestra disposición el atributo **loc[]: df.loc[row, column]**. La row (fila) y la column (columna) del valor en cuestión deben especificarse entre corchetes después de loc.\n",
    "\n",
    "Por ejemplo, para obtener el contenido de la celda situada en la quinta fila de la columna 'genre', utiliza **df.loc[4, 'genre']**. Observa que la indexación comienza en 0, como es habitual."
   ]
  },
  {
   "cell_type": "code",
   "execution_count": 12,
   "metadata": {},
   "outputs": [
    {
     "ename": "FileNotFoundError",
     "evalue": "[Errno 2] No such file or directory: '/datasets/music_log_chpt_11.csv'",
     "output_type": "error",
     "traceback": [
      "\u001b[1;31m---------------------------------------------------------------------------\u001b[0m",
      "\u001b[1;31mFileNotFoundError\u001b[0m                         Traceback (most recent call last)",
      "\u001b[1;32mc:\\Users\\User\\Desktop\\Learning_Python\\Learning_Python\\TripleTen\\Sprint 2\\Pandas.ipynb Cell 29\u001b[0m line \u001b[0;36m3\n\u001b[0;32m      <a href='vscode-notebook-cell:/c%3A/Users/User/Desktop/Learning_Python/Learning_Python/TripleTen/Sprint%202/Pandas.ipynb#X41sZmlsZQ%3D%3D?line=0'>1</a>\u001b[0m \u001b[39mimport\u001b[39;00m \u001b[39mpandas\u001b[39;00m \u001b[39mas\u001b[39;00m \u001b[39mpd\u001b[39;00m\n\u001b[1;32m----> <a href='vscode-notebook-cell:/c%3A/Users/User/Desktop/Learning_Python/Learning_Python/TripleTen/Sprint%202/Pandas.ipynb#X41sZmlsZQ%3D%3D?line=2'>3</a>\u001b[0m df \u001b[39m=\u001b[39m pd\u001b[39m.\u001b[39;49mread_csv(\u001b[39m'\u001b[39;49m\u001b[39m/datasets/music_log_chpt_11.csv\u001b[39;49m\u001b[39m'\u001b[39;49m)\n\u001b[0;32m      <a href='vscode-notebook-cell:/c%3A/Users/User/Desktop/Learning_Python/Learning_Python/TripleTen/Sprint%202/Pandas.ipynb#X41sZmlsZQ%3D%3D?line=3'>4</a>\u001b[0m result \u001b[39m=\u001b[39m df\u001b[39m.\u001b[39mloc[\u001b[39m4\u001b[39m, \u001b[39m'\u001b[39m\u001b[39mgenre\u001b[39m\u001b[39m'\u001b[39m]\n\u001b[0;32m      <a href='vscode-notebook-cell:/c%3A/Users/User/Desktop/Learning_Python/Learning_Python/TripleTen/Sprint%202/Pandas.ipynb#X41sZmlsZQ%3D%3D?line=4'>5</a>\u001b[0m \u001b[39mprint\u001b[39m(result)\n",
      "File \u001b[1;32m~\\AppData\\Local\\Packages\\PythonSoftwareFoundation.Python.3.11_qbz5n2kfra8p0\\LocalCache\\local-packages\\Python311\\site-packages\\pandas\\io\\parsers\\readers.py:948\u001b[0m, in \u001b[0;36mread_csv\u001b[1;34m(filepath_or_buffer, sep, delimiter, header, names, index_col, usecols, dtype, engine, converters, true_values, false_values, skipinitialspace, skiprows, skipfooter, nrows, na_values, keep_default_na, na_filter, verbose, skip_blank_lines, parse_dates, infer_datetime_format, keep_date_col, date_parser, date_format, dayfirst, cache_dates, iterator, chunksize, compression, thousands, decimal, lineterminator, quotechar, quoting, doublequote, escapechar, comment, encoding, encoding_errors, dialect, on_bad_lines, delim_whitespace, low_memory, memory_map, float_precision, storage_options, dtype_backend)\u001b[0m\n\u001b[0;32m    935\u001b[0m kwds_defaults \u001b[39m=\u001b[39m _refine_defaults_read(\n\u001b[0;32m    936\u001b[0m     dialect,\n\u001b[0;32m    937\u001b[0m     delimiter,\n\u001b[1;32m   (...)\u001b[0m\n\u001b[0;32m    944\u001b[0m     dtype_backend\u001b[39m=\u001b[39mdtype_backend,\n\u001b[0;32m    945\u001b[0m )\n\u001b[0;32m    946\u001b[0m kwds\u001b[39m.\u001b[39mupdate(kwds_defaults)\n\u001b[1;32m--> 948\u001b[0m \u001b[39mreturn\u001b[39;00m _read(filepath_or_buffer, kwds)\n",
      "File \u001b[1;32m~\\AppData\\Local\\Packages\\PythonSoftwareFoundation.Python.3.11_qbz5n2kfra8p0\\LocalCache\\local-packages\\Python311\\site-packages\\pandas\\io\\parsers\\readers.py:611\u001b[0m, in \u001b[0;36m_read\u001b[1;34m(filepath_or_buffer, kwds)\u001b[0m\n\u001b[0;32m    608\u001b[0m _validate_names(kwds\u001b[39m.\u001b[39mget(\u001b[39m\"\u001b[39m\u001b[39mnames\u001b[39m\u001b[39m\"\u001b[39m, \u001b[39mNone\u001b[39;00m))\n\u001b[0;32m    610\u001b[0m \u001b[39m# Create the parser.\u001b[39;00m\n\u001b[1;32m--> 611\u001b[0m parser \u001b[39m=\u001b[39m TextFileReader(filepath_or_buffer, \u001b[39m*\u001b[39;49m\u001b[39m*\u001b[39;49mkwds)\n\u001b[0;32m    613\u001b[0m \u001b[39mif\u001b[39;00m chunksize \u001b[39mor\u001b[39;00m iterator:\n\u001b[0;32m    614\u001b[0m     \u001b[39mreturn\u001b[39;00m parser\n",
      "File \u001b[1;32m~\\AppData\\Local\\Packages\\PythonSoftwareFoundation.Python.3.11_qbz5n2kfra8p0\\LocalCache\\local-packages\\Python311\\site-packages\\pandas\\io\\parsers\\readers.py:1448\u001b[0m, in \u001b[0;36mTextFileReader.__init__\u001b[1;34m(self, f, engine, **kwds)\u001b[0m\n\u001b[0;32m   1445\u001b[0m     \u001b[39mself\u001b[39m\u001b[39m.\u001b[39moptions[\u001b[39m\"\u001b[39m\u001b[39mhas_index_names\u001b[39m\u001b[39m\"\u001b[39m] \u001b[39m=\u001b[39m kwds[\u001b[39m\"\u001b[39m\u001b[39mhas_index_names\u001b[39m\u001b[39m\"\u001b[39m]\n\u001b[0;32m   1447\u001b[0m \u001b[39mself\u001b[39m\u001b[39m.\u001b[39mhandles: IOHandles \u001b[39m|\u001b[39m \u001b[39mNone\u001b[39;00m \u001b[39m=\u001b[39m \u001b[39mNone\u001b[39;00m\n\u001b[1;32m-> 1448\u001b[0m \u001b[39mself\u001b[39m\u001b[39m.\u001b[39m_engine \u001b[39m=\u001b[39m \u001b[39mself\u001b[39;49m\u001b[39m.\u001b[39;49m_make_engine(f, \u001b[39mself\u001b[39;49m\u001b[39m.\u001b[39;49mengine)\n",
      "File \u001b[1;32m~\\AppData\\Local\\Packages\\PythonSoftwareFoundation.Python.3.11_qbz5n2kfra8p0\\LocalCache\\local-packages\\Python311\\site-packages\\pandas\\io\\parsers\\readers.py:1705\u001b[0m, in \u001b[0;36mTextFileReader._make_engine\u001b[1;34m(self, f, engine)\u001b[0m\n\u001b[0;32m   1703\u001b[0m     \u001b[39mif\u001b[39;00m \u001b[39m\"\u001b[39m\u001b[39mb\u001b[39m\u001b[39m\"\u001b[39m \u001b[39mnot\u001b[39;00m \u001b[39min\u001b[39;00m mode:\n\u001b[0;32m   1704\u001b[0m         mode \u001b[39m+\u001b[39m\u001b[39m=\u001b[39m \u001b[39m\"\u001b[39m\u001b[39mb\u001b[39m\u001b[39m\"\u001b[39m\n\u001b[1;32m-> 1705\u001b[0m \u001b[39mself\u001b[39m\u001b[39m.\u001b[39mhandles \u001b[39m=\u001b[39m get_handle(\n\u001b[0;32m   1706\u001b[0m     f,\n\u001b[0;32m   1707\u001b[0m     mode,\n\u001b[0;32m   1708\u001b[0m     encoding\u001b[39m=\u001b[39;49m\u001b[39mself\u001b[39;49m\u001b[39m.\u001b[39;49moptions\u001b[39m.\u001b[39;49mget(\u001b[39m\"\u001b[39;49m\u001b[39mencoding\u001b[39;49m\u001b[39m\"\u001b[39;49m, \u001b[39mNone\u001b[39;49;00m),\n\u001b[0;32m   1709\u001b[0m     compression\u001b[39m=\u001b[39;49m\u001b[39mself\u001b[39;49m\u001b[39m.\u001b[39;49moptions\u001b[39m.\u001b[39;49mget(\u001b[39m\"\u001b[39;49m\u001b[39mcompression\u001b[39;49m\u001b[39m\"\u001b[39;49m, \u001b[39mNone\u001b[39;49;00m),\n\u001b[0;32m   1710\u001b[0m     memory_map\u001b[39m=\u001b[39;49m\u001b[39mself\u001b[39;49m\u001b[39m.\u001b[39;49moptions\u001b[39m.\u001b[39;49mget(\u001b[39m\"\u001b[39;49m\u001b[39mmemory_map\u001b[39;49m\u001b[39m\"\u001b[39;49m, \u001b[39mFalse\u001b[39;49;00m),\n\u001b[0;32m   1711\u001b[0m     is_text\u001b[39m=\u001b[39;49mis_text,\n\u001b[0;32m   1712\u001b[0m     errors\u001b[39m=\u001b[39;49m\u001b[39mself\u001b[39;49m\u001b[39m.\u001b[39;49moptions\u001b[39m.\u001b[39;49mget(\u001b[39m\"\u001b[39;49m\u001b[39mencoding_errors\u001b[39;49m\u001b[39m\"\u001b[39;49m, \u001b[39m\"\u001b[39;49m\u001b[39mstrict\u001b[39;49m\u001b[39m\"\u001b[39;49m),\n\u001b[0;32m   1713\u001b[0m     storage_options\u001b[39m=\u001b[39;49m\u001b[39mself\u001b[39;49m\u001b[39m.\u001b[39;49moptions\u001b[39m.\u001b[39;49mget(\u001b[39m\"\u001b[39;49m\u001b[39mstorage_options\u001b[39;49m\u001b[39m\"\u001b[39;49m, \u001b[39mNone\u001b[39;49;00m),\n\u001b[0;32m   1714\u001b[0m )\n\u001b[0;32m   1715\u001b[0m \u001b[39massert\u001b[39;00m \u001b[39mself\u001b[39m\u001b[39m.\u001b[39mhandles \u001b[39mis\u001b[39;00m \u001b[39mnot\u001b[39;00m \u001b[39mNone\u001b[39;00m\n\u001b[0;32m   1716\u001b[0m f \u001b[39m=\u001b[39m \u001b[39mself\u001b[39m\u001b[39m.\u001b[39mhandles\u001b[39m.\u001b[39mhandle\n",
      "File \u001b[1;32m~\\AppData\\Local\\Packages\\PythonSoftwareFoundation.Python.3.11_qbz5n2kfra8p0\\LocalCache\\local-packages\\Python311\\site-packages\\pandas\\io\\common.py:863\u001b[0m, in \u001b[0;36mget_handle\u001b[1;34m(path_or_buf, mode, encoding, compression, memory_map, is_text, errors, storage_options)\u001b[0m\n\u001b[0;32m    858\u001b[0m \u001b[39melif\u001b[39;00m \u001b[39misinstance\u001b[39m(handle, \u001b[39mstr\u001b[39m):\n\u001b[0;32m    859\u001b[0m     \u001b[39m# Check whether the filename is to be opened in binary mode.\u001b[39;00m\n\u001b[0;32m    860\u001b[0m     \u001b[39m# Binary mode does not support 'encoding' and 'newline'.\u001b[39;00m\n\u001b[0;32m    861\u001b[0m     \u001b[39mif\u001b[39;00m ioargs\u001b[39m.\u001b[39mencoding \u001b[39mand\u001b[39;00m \u001b[39m\"\u001b[39m\u001b[39mb\u001b[39m\u001b[39m\"\u001b[39m \u001b[39mnot\u001b[39;00m \u001b[39min\u001b[39;00m ioargs\u001b[39m.\u001b[39mmode:\n\u001b[0;32m    862\u001b[0m         \u001b[39m# Encoding\u001b[39;00m\n\u001b[1;32m--> 863\u001b[0m         handle \u001b[39m=\u001b[39m \u001b[39mopen\u001b[39;49m(\n\u001b[0;32m    864\u001b[0m             handle,\n\u001b[0;32m    865\u001b[0m             ioargs\u001b[39m.\u001b[39;49mmode,\n\u001b[0;32m    866\u001b[0m             encoding\u001b[39m=\u001b[39;49mioargs\u001b[39m.\u001b[39;49mencoding,\n\u001b[0;32m    867\u001b[0m             errors\u001b[39m=\u001b[39;49merrors,\n\u001b[0;32m    868\u001b[0m             newline\u001b[39m=\u001b[39;49m\u001b[39m\"\u001b[39;49m\u001b[39m\"\u001b[39;49m,\n\u001b[0;32m    869\u001b[0m         )\n\u001b[0;32m    870\u001b[0m     \u001b[39melse\u001b[39;00m:\n\u001b[0;32m    871\u001b[0m         \u001b[39m# Binary mode\u001b[39;00m\n\u001b[0;32m    872\u001b[0m         handle \u001b[39m=\u001b[39m \u001b[39mopen\u001b[39m(handle, ioargs\u001b[39m.\u001b[39mmode)\n",
      "\u001b[1;31mFileNotFoundError\u001b[0m: [Errno 2] No such file or directory: '/datasets/music_log_chpt_11.csv'"
     ]
    }
   ],
   "source": [
    "import pandas as pd\n",
    "\n",
    "df = pd.read_csv('/datasets/music_log_chpt_11.csv')\n",
    "result = df.loc[4, 'genre']\n",
    "print(result)"
   ]
  },
  {
   "cell_type": "markdown",
   "metadata": {},
   "source": [
    "Escribe código que devuelva el nombre de la canción de la octava fila del conjunto de datos. Los nombres de las canciones se ubican en la columna 'track'. Asigna el valor recuperado a la variable result y muéstralo."
   ]
  },
  {
   "cell_type": "code",
   "execution_count": null,
   "metadata": {},
   "outputs": [],
   "source": [
    "import pandas as pd\n",
    "\n",
    "df = pd.read_csv('/datasets/music_log_chpt_11.csv')\n",
    "\n",
    "result =df.loc[7,\"track\"]\n",
    "\n",
    "print(result)\n",
    "\n",
    "#Result: Riviera\n"
   ]
  },
  {
   "cell_type": "markdown",
   "metadata": {},
   "source": [
    "De forma similar a la segmentación de listas, puedes obtener un rango de valores de una tabla especificando el principio y el final de una segmentación, separados por dos puntos : . Esta sintaxis funciona tanto para las filas como para las columnas de la tabla.\n",
    "\n",
    "¡Importante! A diferencia de las listas, los límites de los rangos también incluyen el segmento de filas. La solicitud df.loc[2:4] devolverá las filas con los índices 2, 3 y 4.\n",
    "\n",
    "Aquí están los ejemplos de indexación:\n",
    "\n",
    "- **Una celda**\t  ***.loc[7, 'genre']***\t  El valor se extrae de la celda situada en la columna 'genre' y en la octava fila (su índice es 7).\n",
    "\n",
    "- **Una columna**\t***.loc[:, 'genre']***\tLos valores se extraen de todas las celdas de la columna 'genre'.\n",
    "\n",
    "- **Columnas múltiples**\t***.loc[:, ['Artist', 'genre']]***\tExtraer todos los valores de todas las celdas de las columnas 'Artist' y 'genre'.\n",
    "\n",
    "- **Múltiples columnas consecutivas (slice)**\t ***.loc[:, 'user_id': 'genre']***\tSe extraen todos los valores de todas las celdas de las columnas empezando por la columna 'user_id' y terminando por la columna 'genre'.\n",
    "\n",
    "- **Una fila**\t***.loc[1]***\tSe extraen los valores de la segunda fila (su índice es 1)\n",
    "\n",
    "- **Todas las filas, empezando por la fila dada**\t***.loc[1:]***\tSe extraen todos los valores desde la segunda hasta la última fila.\n",
    "\n",
    "- **Todas las filas, hasta la fila dada**\t***.loc[:3]***\tSe extraen todos los valores de las cuatro primeras filas (desde la fila con índice 0 hasta la fila con índice 3).\n",
    "\n",
    "- **Múltiples filas consecutivas (slice)**\t***.loc[2:5]***\tSe extraen todos los valores de las celdas entre la tercera y la quinta fila.\n"
   ]
  },
  {
   "cell_type": "markdown",
   "metadata": {},
   "source": [
    "**PRACTIQUEMOS**\n",
    "\n",
    "Segmenta el DataFrame df, extrayendo todos los valores de la columna 'genre' entre la tercera y la undécima fila. Almacena los valores extraídos en la variable index_res y muéstralos."
   ]
  },
  {
   "cell_type": "code",
   "execution_count": null,
   "metadata": {},
   "outputs": [],
   "source": [
    "import pandas as pd\n",
    "\n",
    "df = pd.read_csv('/datasets/music_log_chpt_11.csv')\n",
    "\n",
    "index_res = df.loc[2:10 , \"genre\"]\n",
    "\n",
    "\n",
    "print(index_res)"
   ]
  },
  {
   "cell_type": "markdown",
   "metadata": {},
   "source": [
    "Segmenta el DataFrame df extrayendo celdas de la sexta fila para las columnas comprendidas entre 'total play' y 'genre'. Almacena los valores extraídos en la variable index_res y muéstralos.\n"
   ]
  },
  {
   "cell_type": "code",
   "execution_count": null,
   "metadata": {},
   "outputs": [],
   "source": [
    "import pandas as pd\n",
    "\n",
    "df = pd.read_csv('/datasets/music_log_chpt_11.csv')\n",
    "\n",
    "index_res = df.loc [5,\"total play\":\"genre\"]\n",
    "\n",
    "print(index_res)"
   ]
  },
  {
   "cell_type": "markdown",
   "metadata": {},
   "source": [
    "### **Notación Abreviada**\n",
    "\n",
    "En la práctica, un método comúnmente utilizado para la indexación es el de la notación abreviada. En lugar de llamar explícitamente al atributo .loc[], podemos pasar tranquilamente los índices objetivo deseados o los nombres de las columnas colocándolos entre corchetes de la variable DataFrame. Si, por ejemplo, quieres dos columnas, utiliza corchetes dobles. Este enfoque simplificado permite acceder de forma más concisa y eficaz a los elementos de datos necesarios dentro de un conjunto de datos."
   ]
  },
  {
   "cell_type": "code",
   "execution_count": null,
   "metadata": {},
   "outputs": [],
   "source": [
    "import pandas as pd\n",
    "\n",
    "df = pd.read_csv('/datasets/music_log_chpt_11.csv')\n",
    "\n",
    "index_res = df.loc[:,\"user_id\"]# escribe tu código aquí\n",
    "\n",
    "print(index_res)\n"
   ]
  },
  {
   "cell_type": "markdown",
   "metadata": {},
   "source": [
    "Recupera las columnas 'user_id' y 'track' del DataFrame df utilizando la notación abreviada y almacénalas en la variable index_res. Muestra index_res al final."
   ]
  },
  {
   "cell_type": "code",
   "execution_count": null,
   "metadata": {},
   "outputs": [],
   "source": [
    "import pandas as pd\n",
    "\n",
    "df = pd.read_csv('/datasets/music_log_chpt_11.csv')\n",
    "\n",
    "index_res = df.loc[:,[\"user_id\",\"track\"]] # escribe tu código aquí\n",
    "\n",
    "print(index_res)"
   ]
  },
  {
   "cell_type": "markdown",
   "metadata": {},
   "source": [
    "Extrae las filas 10 a 20, ambas incluidas, del DataFrame df utilizando la notación abreviada y almacena el resultado en la variable index_res. Muestra index_res al final."
   ]
  },
  {
   "cell_type": "code",
   "execution_count": null,
   "metadata": {},
   "outputs": [],
   "source": [
    "import pandas as pd\n",
    "\n",
    "df = pd.read_csv('/datasets/music_log_chpt_11.csv')\n",
    "\n",
    "index_res = df.loc[9:19] # escribe tu código aquí\n",
    "\n",
    "print(index_res)"
   ]
  },
  {
   "cell_type": "markdown",
   "metadata": {},
   "source": [
    "## **FILTRADO CON INDEXACION LOGICA**\n",
    "\n",
    "### **Indexacion booleana**\n",
    "\n",
    "La indexación puede ser más eficaz si se incluye una expresión lógica. En el capítulo \"Sentencias condicionales\" escribiste algunos filtros sin utilizar pandas. Este es el procedimiento que seguiste:\n",
    "\n",
    "- hiciste un bucle a partir de una lista anidada;\n",
    "- utilizaste if para comprobar si se cumplió la condición;\n",
    "- realizaste la acción deseada.\n",
    "\n",
    "En pandas, este complicado algoritmo puede llevarse a cabo en una línea de código. El procedimiento se denomina indexación lógica o indexación booleana, y funciona de la siguiente manera:\n",
    "\n",
    "Primero, encontraremos todas las filas en las que se cumple cierta condición. Por ejemplo, podríamos comprobar si la columna 'genre' es igual a 'pop' basándonos en el conjunto de datos music_log_chpt_11.csv con el que hemos trabajado anteriormente. Podemos utilizar la notación abreviada de esta forma:"
   ]
  },
  {
   "cell_type": "code",
   "execution_count": null,
   "metadata": {},
   "outputs": [],
   "source": [
    "print(df['genre'] == 'pop')\n",
    " "
   ]
  },
  {
   "cell_type": "markdown",
   "metadata": {},
   "source": [
    "Otra alternativa es utilizar el atributo loc:"
   ]
  },
  {
   "cell_type": "code",
   "execution_count": null,
   "metadata": {},
   "outputs": [],
   "source": [
    "print(df.loc[:, 'genre'] == 'pop')\n",
    " "
   ]
  },
  {
   "cell_type": "markdown",
   "metadata": {},
   "source": [
    "Como puedes ver, para cada fila (o índice) en la columna 'genre', obtenemos un valor booleano. True indica que la condición se cumplió en esa fila en particular, lo que significa que 'genre' es en realidad 'pop'.\n",
    "\n",
    "Ahora podemos utilizar el resultado obtenido en el paso anterior para filtrar la tabla original. Debemos obtener una tabla filtrada que contenga solamente canciones 'pop'. Para hacerlo, debemos utilizar el atributo .loc una vez más, pasando los valores booleanos obtenidos en el paso anterior:"
   ]
  },
  {
   "cell_type": "code",
   "execution_count": null,
   "metadata": {},
   "outputs": [],
   "source": [
    "print(df.loc[df.loc[:, 'genre'] == 'pop'])\n",
    " \n",
    " "
   ]
  },
  {
   "cell_type": "markdown",
   "metadata": {},
   "source": [
    " Otra posibilidad sería utilizar la notación abreviada para obtener los valores booleanos, lo que da como resultado el siguiente código: "
   ]
  },
  {
   "cell_type": "code",
   "execution_count": null,
   "metadata": {},
   "outputs": [],
   "source": [
    "print(df.loc[df['genre'] == 'pop'])\n",
    " \n",
    " "
   ]
  },
  {
   "cell_type": "markdown",
   "metadata": {},
   "source": [
    "**Ejercicio 1**\n",
    "\n",
    "Utiliza la indexación lógica para filtrar el DataFrame almacenado en la variable df. La tabla resultante solo debe contener filas con 'genre' igual a 'jazz'. Almacena la tabla filtrada en la variable jazz_df y muéstrala."
   ]
  },
  {
   "cell_type": "code",
   "execution_count": null,
   "metadata": {},
   "outputs": [],
   "source": [
    "import pandas as pd\n",
    "\n",
    "df = pd.read_csv('/datasets/music_log_chpt_11.csv')\n",
    "\n",
    "jazz_df = # escribe tu código aquí\n",
    "\n",
    "print(jazz_df)"
   ]
  },
  {
   "cell_type": "markdown",
   "metadata": {},
   "source": [
    "**Ejercicio 2**\n",
    "\n",
    "Ahora vamos a utilizar la indexación lógica para filtrar el DataFrame de nuevo. Filtra la tabla original para incluir solo las canciones que tengan 'total play' mayor que 90 segundos. Almacena la tabla filtrada en la variable high_total_play_df y muéstrala."
   ]
  },
  {
   "cell_type": "code",
   "execution_count": null,
   "metadata": {},
   "outputs": [],
   "source": [
    "import pandas as pd\n",
    "\n",
    "df = pd.read_csv('/datasets/music_log_chpt_11.csv')\n",
    "\n",
    "high_total_play_df = df[df[\"total play\"]>90]# escribe tu código aquí\n",
    "\n",
    "print(high_total_play_df)"
   ]
  },
  {
   "cell_type": "markdown",
   "metadata": {},
   "source": [
    "Por cierto, para aplicar varias condiciones, primero podemos aplicar la primera condición y almacenar el resultado. Luego, podemos llamar a la indexación lógica con la segunda condición. Observa el ejemplo a continuación y ejecuta el código para comprobar el resultado."
   ]
  },
  {
   "cell_type": "code",
   "execution_count": null,
   "metadata": {},
   "outputs": [],
   "source": [
    "import pandas as pd\n",
    "\n",
    "df = pd.read_csv('/datasets/music_log_chpt_11.csv')\n",
    "\n",
    "# selecciona las filas en las que el género es el jazz y el tiempo total de reproducción oscila entre 80 y 130\n",
    "df = df[df['total play'] >= 80]\n",
    "df = df[df['total play'] <= 130]\n",
    "df = df[df['genre'] == 'jazz']\n",
    "\n",
    "print(df)"
   ]
  },
  {
   "cell_type": "markdown",
   "metadata": {},
   "source": [
    "## **COUNT & SUM**\n",
    "\n",
    "\n",
    "Aquí tenemos un ejemplo de análisis que podemos realizar. Por ejemplo, si quieres saber cuánto tiempo, de promedio, reproduce un usuario o una usuaria una canción pop, empieza por obtener una tabla filtrada que contenga solo canciones 'pop': \n"
   ]
  },
  {
   "cell_type": "code",
   "execution_count": null,
   "metadata": {},
   "outputs": [],
   "source": [
    "import pandas as pd\n",
    "\n",
    "df = pd.read_csv('/datasets/music_log_chpt_11.csv')\n",
    "\n",
    "pop_df = df[df['genre'] == 'pop']\n"
   ]
  },
  {
   "cell_type": "markdown",
   "metadata": {},
   "source": [
    "Ahora tenemos la variable pop_df que contiene una tabla filtrada de canciones pop. Sin embargo, esta tabla es solo la mitad del trabajo. Nuestro objetivo es determinar la duración promedio. Para lograrlo, necesitamos extraer la columna 'total play', que contiene la cantidad de tiempo (en segundos) que el usuario o la usuaria reprodujo una canción."
   ]
  },
  {
   "cell_type": "code",
   "execution_count": null,
   "metadata": {},
   "outputs": [],
   "source": [
    "import pandas as pd\n",
    "\n",
    "df = pd.read_csv('/datasets/music_log_chpt_11.csv')\n",
    "\n",
    "pop_df = df[df['genre'] == 'pop']\n",
    "\n",
    "# extrae la columna total play (reproducción total) del DataFrame filtrado\n",
    "pop_duration = pop_df['total play']\n",
    "\n",
    "print(pop_duration)"
   ]
  },
  {
   "cell_type": "markdown",
   "metadata": {},
   "source": [
    "### **MÉTODO MEAN**\n",
    "\n",
    "Imagina que quieres calcular un promedio. Para lograrlo, simplemente aplica el método mean() y hará todo el trabajo duro por ti. Así:"
   ]
  },
  {
   "cell_type": "code",
   "execution_count": null,
   "metadata": {},
   "outputs": [],
   "source": [
    "mean_duration = pop_duration.mean()\n",
    "print(mean_duration)\n",
    "\n",
    "#EL RESULTADO SERÁ \n",
    "#90.37219914513818"
   ]
  },
  {
   "cell_type": "markdown",
   "metadata": {},
   "source": [
    "Este es el código completo que escribimos para calcular y mostrar la media:"
   ]
  },
  {
   "cell_type": "code",
   "execution_count": null,
   "metadata": {},
   "outputs": [],
   "source": [
    "import pandas as pd\n",
    "\n",
    "df = pd.read_csv('/datasets/music_log_chpt_11.csv')\n",
    "\n",
    "pop_df = df[df['genre'] == 'pop']\n",
    "\n",
    "pop_duration = pop_df['total play']\n",
    "\n",
    "mean_duration = pop_duration.mean()\n",
    "\n",
    "print(mean_duration)"
   ]
  },
  {
   "cell_type": "markdown",
   "metadata": {},
   "source": [
    "La duración promedio de una canción pop es de unos 90 segundos. Invertimos una cantidad considerable de código para calcular este valor. / Una parte considerable de nuestro código está dedicada solo al cálculo de este valor. ¿Hay alguna forma de resolver esta tarea de una manera más directa, sin tener que declarar todas estas variables? Sí, la hay. Descubre cómo puedes hacerlo:"
   ]
  },
  {
   "cell_type": "code",
   "execution_count": null,
   "metadata": {},
   "outputs": [],
   "source": [
    "import pandas as pd\n",
    "\n",
    "df = pd.read_csv('/datasets/music_log_chpt_11.csv')\n",
    "\n",
    "mean_duration = df[df['genre'] == 'pop']['total play'].mean()\n",
    "\n",
    "print(mean_duration)"
   ]
  },
  {
   "cell_type": "markdown",
   "metadata": {},
   "source": [
    "En escenarios de la vida real, las empresas a menudo quieren tener respuestas a preguntas específicas. Por ejemplo, podrían necesitar analizar los datos de un usuario o una usuaria cuyo 'user_id' sea igual a '5D9AAD37'. Para lograrlo, filtrarían la tabla para extraer solo las filas relevantes para el usuario objetivo y, luego, calcularían la duración media de las canciones que este ha escuchado. Muestra este valor después de calcularlo."
   ]
  },
  {
   "cell_type": "code",
   "execution_count": null,
   "metadata": {},
   "outputs": [],
   "source": [
    "import pandas as pd\n",
    "\n",
    "df = pd.read_csv('/datasets/music_log_chpt_11.csv')\n",
    "\n",
    "user_mean_dur = # escribe tu código aquí.\n",
    "\n",
    "print(user_mean_dur)"
   ]
  },
  {
   "cell_type": "markdown",
   "metadata": {},
   "source": [
    "### ** MÉTODO COUNT()**\n",
    "\n",
    "mean() es un método que comúnmente se utiliza en el análisis de datos. count() es otro método útil, que hace un recuento del número de filas que cumplen un criterio particular. Por ejemplo, podemos utilizarlo para calcular el número de canciones que "
   ]
  },
  {
   "cell_type": "code",
   "execution_count": null,
   "metadata": {},
   "outputs": [],
   "source": [
    "import pandas as pd\n",
    "\n",
    "df = pd.read_csv('/datasets/music_log_chpt_11.csv')\n",
    "\n",
    "duration_threshold = 180\n",
    "\n",
    "long_songs = df[df['total play'] > duration_threshold]['total play'].count()\n",
    "\n",
    "print(long_songs)"
   ]
  },
  {
   "cell_type": "markdown",
   "metadata": {},
   "source": [
    "Escribe el código para contar el número de canciones donde 'Aura' es el artista, y almacena el resultado en la variable aura_count. No olvides mostrar este número."
   ]
  },
  {
   "cell_type": "code",
   "execution_count": null,
   "metadata": {},
   "outputs": [],
   "source": [
    "import pandas as pd\n",
    "\n",
    "df = pd.read_csv('/datasets/music_log_chpt_11.csv')\n",
    "\n",
    "aura_count = df[df[\"Artist\"]==\"Aura\"][\"Artist\"].count()# escribe tu código aquí\n",
    "\n",
    "print(aura_count)"
   ]
  },
  {
   "cell_type": "markdown",
   "metadata": {},
   "source": [
    "### **MÉTODO SUM()**\n",
    "\n",
    "Finalmente, te mostraremos cómo funciona el método sum(). Es parecido a los métodos mean() y count() que acabamos de analizar. Este método suma los valores en una columna especificada.\n",
    "\n",
    "Por ejemplo, podemos utilizar el método sum() para calcular el tiempo total que pasa un usuario o una usuaria escuchando música. Calculemos este tiempo para el usuario cuyo 'user_id' es '174C0ED6':\n"
   ]
  },
  {
   "cell_type": "code",
   "execution_count": null,
   "metadata": {},
   "outputs": [],
   "source": [
    "import pandas as pd\n",
    "\n",
    "df = pd.read_csv('/datasets/music_log_chpt_11.csv')\n",
    "\n",
    "user_sum_dur = df[df['user_id'] == '174C0ED6']['total play'].sum()\n",
    "\n",
    "print(user_sum_dur)\n",
    "\n",
    "##RESULTADO 1003.6256215980322"
   ]
  },
  {
   "cell_type": "markdown",
   "metadata": {},
   "source": [
    "Escribe un código que calcule el número total de segundos que nuestros usuarios y usuarias escucharon canciones del artista 'Zodiac'. Almacena el resultado en la variable zodiac_total y muéstralo."
   ]
  },
  {
   "cell_type": "code",
   "execution_count": null,
   "metadata": {},
   "outputs": [],
   "source": [
    "import pandas as pd\n",
    "\n",
    "df = pd.read_csv('/datasets/music_log_chpt_11.csv')\n",
    "\n",
    "zodiac_total = df[df[\"Artist\"]==\"Zodiac\"][\"total play\"].sum()\n",
    "# escribe tu código aquí\n",
    "\n",
    "print(zodiac_total)\n"
   ]
  },
  {
   "cell_type": "markdown",
   "metadata": {},
   "source": [
    "### **OBJETO SERIES**\n",
    "\n",
    "Supongamos ahora que solo deseas recuperar una columna. Puedes hacerlo fácilmente pasando el nombre de la columna entre corchetes: esto devolverá un objeto Series. Observa:"
   ]
  },
  {
   "cell_type": "code",
   "execution_count": null,
   "metadata": {},
   "outputs": [],
   "source": [
    "import pandas as pd\n",
    "\n",
    "df = pd.read_csv('/datasets/music_log_chpt_11.csv')\n",
    "\n",
    "part_df = df['Artist']\n",
    "print(type(part_df))\n",
    "\n",
    "#resultado\n",
    "\n",
    "# <class 'pandas.core.series.Series'>"
   ]
  },
  {
   "cell_type": "markdown",
   "metadata": {},
   "source": [
    "También, los objetos Series tienen un atributo name:"
   ]
  },
  {
   "cell_type": "code",
   "execution_count": null,
   "metadata": {},
   "outputs": [],
   "source": [
    "import pandas as pd\n",
    "\n",
    "df = pd.read_csv('/datasets/music_log_chpt_11.csv')\n",
    "\n",
    "part_df = df['Artist']\n",
    "print(part_df.name)\n",
    "\n",
    "#RESULTADO\n",
    "#Artist"
   ]
  },
  {
   "cell_type": "markdown",
   "metadata": {},
   "source": [
    "Cuando extraes una columna de un DataFrame a un objeto Series, el atributo name adopta el nombre de la columna, como puedes ver arriba. Asimismo, cuando se construye un DataFrame a partir de Series individuales, el nombre de un objeto Series se convierte en el nombre de la columna. Además del nombre, un Series tiene longitud, es decir, el número total de celdas.\n",
    "\n",
    "Se puede acceder a la longitud mediante el atributo size."
   ]
  },
  {
   "cell_type": "code",
   "execution_count": null,
   "metadata": {},
   "outputs": [],
   "source": [
    "import pandas as pd\n",
    "\n",
    "df = pd.read_csv('/datasets/music_log_chpt_11.csv')\n",
    "\n",
    "part_df = df['Artist']\n",
    "print(part_df.size)\n",
    "\n",
    "#RESULTADO\n",
    "#67963"
   ]
  },
  {
   "cell_type": "markdown",
   "metadata": {},
   "source": [
    "Este Series tiene 67 963 elementos, o celdas.\n",
    "Por supuesto, existen otros atributos para Series, pero name y size son los que más utilizamos."
   ]
  },
  {
   "cell_type": "markdown",
   "metadata": {},
   "source": [
    "### **INDEXACIÓN EN UN SERIES**\n",
    "\n",
    "La indexación de un Series es similar a la indexación de una lista. Para extraer un valor de una celda en función de su índice, simplemente pasa el valor del índice entre corchetes:"
   ]
  },
  {
   "cell_type": "code",
   "execution_count": null,
   "metadata": {},
   "outputs": [],
   "source": [
    "import pandas as pd\n",
    "df = pd.read_csv('/datasets/music_log_chpt_11.csv')\n",
    "\n",
    "# obtenemos un objeto Series a partir del DataFrame\n",
    "artist = df['Artist']\n",
    "\n",
    "# obtenemos una celda de un Series con una sola coordenada\n",
    "print(artist[0])\n",
    "\n",
    "#RESULTADO\n",
    "#Marina Rei"
   ]
  },
  {
   "cell_type": "markdown",
   "metadata": {},
   "source": [
    "Como puedes ver, hemos extraído el primer elemento del Series al pasar el índice 0. Esto significa que, al igual que ocurre con las listas, la indexación de los objetos Series también empieza en 0.\n",
    "\n",
    "La indexación de Series es similar a la indexación de DataFrame en lo que respecta a la utilización del atributo loc y una notación abreviada. "
   ]
  },
  {
   "cell_type": "markdown",
   "metadata": {},
   "source": [
    "### **PRACTIQUEMOS!**\n",
    "\n",
    "Extrae la columna 'track' del DataFrame original y almacénala en la variabletracks. Este será tu Series. A continuación, obtén los primeros 20 elementos de este Series y guárdalos en la variable top20. Muestra la variable."
   ]
  },
  {
   "cell_type": "code",
   "execution_count": null,
   "metadata": {},
   "outputs": [],
   "source": [
    "import pandas as pd\n",
    "\n",
    "df = pd.read_csv('/datasets/music_log_chpt_11.csv')\n",
    "\n",
    "tracks = df[\"track\"]\n",
    "top20 = tracks.loc[:19]\n",
    "\n",
    "print(top20)\n"
   ]
  },
  {
   "cell_type": "markdown",
   "metadata": {},
   "source": [
    "### **Filtración de un Series**\n",
    "\n",
    "La indexación lógica funciona también para Series y es más simple que la de DataFrames. En un Series, no es necesario indicar la columna de la que proceden los datos, basta con indicar una sola condición lógica. A continuación, se muestra un ejemplo en el que comprobamos, utilizando una notación abreviada, que el valor de 'total play' sea inferior a 20:\n"
   ]
  },
  {
   "cell_type": "code",
   "execution_count": null,
   "metadata": {},
   "outputs": [],
   "source": [
    "import pandas as pd\n",
    "\n",
    "df = pd.read_csv('/datasets/music_log_chpt_11.csv')\n",
    "\n",
    "total_play = df['total play']\n",
    "lower_20 = total_play < 20\n",
    "\n",
    "print(lower_20)"
   ]
  },
  {
   "cell_type": "markdown",
   "metadata": {},
   "source": [
    "RESULTADO\n",
    "\n",
    "0        False\n",
    "1        False\n",
    "2        False\n",
    "3         True\n",
    "4        False\n",
    "         ...  \n",
    "67958    False\n",
    "67959    False\n",
    "67960    False\n",
    "67961     True\n",
    "67962     True\n",
    "Name: total play, Length: 67963, dtype: bool"
   ]
  },
  {
   "cell_type": "markdown",
   "metadata": {},
   "source": [
    "El resultado muestra el índice de cada canción del Series junto con el valor booleano que puede ser True, si la canción ha sido reproducida durante menos de 20 segundos, o False, en caso contrario.\n",
    "\n",
    "Si solo necesitas analizar una columna de la tabla, puede ser una buena idea almacenar esta columna en una variable separada (como lo hicimos con la variable total_play); de esta forma, no necesitarás indicar el nombre de la columna cada vez que desees analizarla.\n",
    "\n",
    "Es interesante que ahora podemos utilizar este nuevo Series con valores booleanos para filtrar el DataFrame original. Así es como puedes hacerlo:"
   ]
  },
  {
   "cell_type": "code",
   "execution_count": null,
   "metadata": {},
   "outputs": [],
   "source": [
    "import pandas as pd\n",
    "\n",
    "df = pd.read_csv('/datasets/music_log_chpt_11.csv')\n",
    "\n",
    "total_play = df['total play']\n",
    "lower_20 = total_play < 20\n",
    "\n",
    "df_lower20_only = df[lower_20]\n",
    "\n",
    "print(df_lower20_only)"
   ]
  },
  {
   "cell_type": "markdown",
   "metadata": {},
   "source": [
    "RESULTADO\n",
    "\n",
    "                user_id  total play                                  Artist   \n",
    "3      EF15C7BA    8.966000                                     NaN  \\\n",
    "5      4166D680    3.007000  Henry Hall & His Gleneagles Hotel Band   \n",
    "6       F4F5677    0.100000                                     NaN   \n",
    "8      A5E0D927    3.161000                   Andrew Paul Woodworth   \n",
    "10     D3DD8D00    8.836000                          Steve Campbell   \n",
    "...         ...         ...                                     ...   \n",
    "67951  A6E13637    1.318000                             Julien Mier   \n",
    "67953  A06381D8    2.502000                             Flip Grater   \n",
    "67956  816FBC10    2.000000                                   89ers   \n",
    "67961  DB0038A8   11.529112                            Less Chapell   \n",
    "67962  FE8684F6    0.100000                                     NaN   \n",
    "\n",
    "              genre                                 track  \n",
    "3             dance                   Loving Every Minute  \n",
    "5              jazz                                  Home  \n",
    "6      classicmetal                                   NaN  \n",
    "8               pop  The Name of This Next Song Is Called  \n",
    "10             jazz                           Morning Dew  \n",
    "...             ...                                   ...  \n",
    "67951         dance                                Nearby  \n",
    "67953          folk                          My Old Shoes  \n",
    "67956         dance                              Go Go Go  \n",
    "67961           pop                                  Home  \n",
    "67962           NaN                                   NaN  \n",
    "\n",
    "[33868 rows x 5 columns]"
   ]
  },
  {
   "cell_type": "markdown",
   "metadata": {},
   "source": [
    "Como resultado, la tabla original ahora se filtra de forma que solo contenga filas en las que los valores de la columna 'total play' sean inferiores a 20. Y aquí tenemos 33 868 canciones, de las 67 963 que figuran en nuestro conjunto de datos. Eso significa que casi la mitad de nuestras canciones no han sido prácticamente escuchadas.\n",
    "\n",
    "Otra opción sería filtrar el Series y obtener solo los valores que cumplan con tus criterios. Por ejemplo, cuando obtenemos un Series con valores booleanos, podemos utilizarlo para filtrar el Series original total_play:"
   ]
  },
  {
   "cell_type": "code",
   "execution_count": null,
   "metadata": {},
   "outputs": [],
   "source": [
    "import pandas as pd\n",
    "\n",
    "df = pd.read_csv('/datasets/music_log_chpt_11.csv')\n",
    "\n",
    "total_play = df['total play']\n",
    "lower_20 = total_play < 20\n",
    "\n",
    "series_lower20_only = total_play[lower_20]\n",
    "\n",
    "print(series_lower20_only)"
   ]
  },
  {
   "cell_type": "markdown",
   "metadata": {},
   "source": [
    "RESULTADO\n",
    "\n",
    "3         8.966000\n",
    "5         3.007000\n",
    "6         0.100000\n",
    "8         3.161000\n",
    "10        8.836000\n",
    "           ...    \n",
    "67951     1.318000\n",
    "67953     2.502000\n",
    "67956     2.000000\n",
    "67961    11.529112\n",
    "67962     0.100000\n",
    "Name: total play, Length: 33868, dtype: float64"
   ]
  },
  {
   "cell_type": "markdown",
   "metadata": {},
   "source": [
    "Mediante este proceso de filtrado, recuperamos solamente los valores que cumplen con nuestros criterios; en otras palabras, obtenemos un Series en el que todos los valores son menores que 20.\n",
    "\n",
    "Ahora vamos a practicar el filtrado de un Series.\n",
    "\n",
    "Para extraer la columna 'genre' del DataFrame original, almacénala en la variable genre. De este modo se creará un Series. Ahora comprueba que los valores del Series sean iguales a 'pop'. Almacena el resultado de esta comprobación en la variable pop_genre_check. Finalmente, utiliza la variable pop_genre_check para filtrar el DataFrame original df para incluir solo las canciones pop. Almacena este DataFrame filtrado en la variable pop_df y muéstrala."
   ]
  },
  {
   "cell_type": "code",
   "execution_count": null,
   "metadata": {},
   "outputs": [],
   "source": [
    "import pandas as pd\n",
    "\n",
    "df = pd.read_csv('/datasets/music_log_chpt_11.csv')\n",
    "\n",
    "genre = df[\"genre\"]\n",
    "pop_genre_check = genre == \"pop\" \n",
    "pop_df = df[pop_genre_check]\n",
    "\n",
    "print(pop_df)\n"
   ]
  }
 ],
 "metadata": {
  "kernelspec": {
   "display_name": "Python 3",
   "language": "python",
   "name": "python3"
  },
  "language_info": {
   "codemirror_mode": {
    "name": "ipython",
    "version": 3
   },
   "file_extension": ".py",
   "mimetype": "text/x-python",
   "name": "python",
   "nbconvert_exporter": "python",
   "pygments_lexer": "ipython3",
   "version": "3.11.6"
  }
 },
 "nbformat": 4,
 "nbformat_minor": 2
}
