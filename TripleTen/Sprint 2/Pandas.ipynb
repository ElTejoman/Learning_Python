{
 "cells": [
  {
   "cell_type": "markdown",
   "metadata": {},
   "source": [
    "# **PANDAS**\n",
    "\n",
    "Pandas es la librería de Python más utilizada para procesar datos. Tiene varias funcionalidades, entre ellas:\n",
    "\n",
    "- recuperar datos de distintas fuentes y fusionarlos;\n",
    "- solucionar problemas con los datos, por ejemplo, eliminar datos duplicados o completar valores ausentes;\n",
    "- agregar, eliminar o modificar datos de la tabla;\n",
    "- agrupar datos y calcular estadísticas para grupos."
   ]
  },
  {
   "cell_type": "markdown",
   "metadata": {},
   "source": [
    "### Estructura del DATAFRAME\n",
    "\n",
    "Un DataFrame es una estructura de datos bidimensional, que es esencialmente una tabla donde cada elemento tiene dos coordenadas: una fila y una columna. Se accede a las filas por los índices y a las columnas por sus nombres."
   ]
  },
  {
   "cell_type": "code",
   "execution_count": 3,
   "metadata": {},
   "outputs": [
    {
     "ename": "ModuleNotFoundError",
     "evalue": "No module named 'pandas'",
     "output_type": "error",
     "traceback": [
      "\u001b[1;31m---------------------------------------------------------------------------\u001b[0m",
      "\u001b[1;31mModuleNotFoundError\u001b[0m                       Traceback (most recent call last)",
      "\u001b[1;32mc:\\Users\\User\\Desktop\\Learning_Python\\Learning_Python\\TripleTen\\Sprint 2\\Pandas.ipynb Cell 3\u001b[0m line \u001b[0;36m1\n\u001b[1;32m----> <a href='vscode-notebook-cell:/c%3A/Users/User/Desktop/Learning_Python/Learning_Python/TripleTen/Sprint%202/Pandas.ipynb#W2sZmlsZQ%3D%3D?line=0'>1</a>\u001b[0m \u001b[39mimport\u001b[39;00m \u001b[39mpandas\u001b[39;00m \u001b[39mas\u001b[39;00m \u001b[39mpd\u001b[39;00m\n",
      "\u001b[1;31mModuleNotFoundError\u001b[0m: No module named 'pandas'"
     ]
    }
   ],
   "source": [
    "import pandas as pd\n"
   ]
  },
  {
   "cell_type": "markdown",
   "metadata": {},
   "source": [
    "### **Creación de un DataFrame**\n",
    "\n",
    "Para utilizar pandas, debes convertir tus datos a un DataFrame. Para ello puedes utilizar la clase DataFrame().\n",
    "\n",
    "Una clase es como una plantilla para crear objetos, y hay muchas clases en pandas. La clase DataFrame() es la que más se utiliza.\n",
    "\n",
    "La clase DataFrame() toma dos argumentos: data y columns.\n",
    "\n",
    "- data espera una lista que contenga los datos.\n",
    "- columns espera una lista de nombres de columnas que correspondan a la lista de datos."
   ]
  },
  {
   "cell_type": "markdown",
   "metadata": {},
   "source": [
    "Imagina que tienes un conjunto de datos simple: una lista anidada que contiene los nombres de los países y sus capitales. Así que tenemos una variable llamada atlas, que almacena esta información:\n"
   ]
  },
  {
   "cell_type": "code",
   "execution_count": null,
   "metadata": {},
   "outputs": [],
   "source": [
    "atlas = [  \n",
    "        ['France', 'Paris'],  \n",
    "        ['Russia', 'Moscow'],  \n",
    "        ['China', 'Beijing'],  \n",
    "        ['Mexico', 'Mexico City'],  \n",
    "        ['Egypt', 'Cairo']  \n",
    "]"
   ]
  },
  {
   "cell_type": "markdown",
   "metadata": {},
   "source": [
    " Podemos utilizarla como valor para el argumento data."
   ]
  },
  {
   "cell_type": "code",
   "execution_count": null,
   "metadata": {},
   "outputs": [],
   "source": [
    "pd.DataFrame(data = atlas, columns = )"
   ]
  },
  {
   "cell_type": "markdown",
   "metadata": {},
   "source": [
    "Como puedes ver, todavía debemos darle un valor al argumento columns. Vamos a crear una lista que contenga los nombres de columnas 'country' y 'capital':"
   ]
  },
  {
   "cell_type": "code",
   "execution_count": null,
   "metadata": {},
   "outputs": [],
   "source": [
    "geography = ['country', 'capital']"
   ]
  },
  {
   "cell_type": "markdown",
   "metadata": {},
   "source": [
    "Ahora tenemos dos argumentos y podemos convertir nuestra lista anidada en un DataFrame y almacenarlo en la variable world_map:\n"
   ]
  },
  {
   "cell_type": "code",
   "execution_count": null,
   "metadata": {},
   "outputs": [],
   "source": [
    "world_map = pd.DataFrame(data=atlas, columns=geography)"
   ]
  },
  {
   "cell_type": "markdown",
   "metadata": {},
   "source": [
    "Como DataFrame() es una clase dentro de la librería pandas, va precedida de pd cuando la llamamos.\n",
    "\n",
    "El código completo se verá así:"
   ]
  },
  {
   "cell_type": "code",
   "execution_count": null,
   "metadata": {},
   "outputs": [],
   "source": [
    "import pandas as pd\n",
    "\n",
    "# preparamos los datos y los nombres de las columnas\n",
    "atlas = [\n",
    "        ['France', 'Paris'],  \n",
    "        ['Russia', 'Moscow'],  \n",
    "        ['China', 'Beijing'],  \n",
    "        ['Mexico', 'Mexico City'],  \n",
    "        ['Egypt', 'Cairo'],\n",
    "]\n",
    "geography = ['country', 'capital']\n",
    "\n",
    "# creamos un DataFrame\n",
    "world_map = pd.DataFrame(data=atlas , columns=geography)\n",
    "\n",
    "# mostrando el DataFrame\n",
    "print(world_map)"
   ]
  }
 ],
 "metadata": {
  "kernelspec": {
   "display_name": "Python 3",
   "language": "python",
   "name": "python3"
  },
  "language_info": {
   "codemirror_mode": {
    "name": "ipython",
    "version": 3
   },
   "file_extension": ".py",
   "mimetype": "text/x-python",
   "name": "python",
   "nbconvert_exporter": "python",
   "pygments_lexer": "ipython3",
   "version": "3.11.6"
  }
 },
 "nbformat": 4,
 "nbformat_minor": 2
}
