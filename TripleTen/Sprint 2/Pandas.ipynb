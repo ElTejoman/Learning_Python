{
 "cells": [
  {
   "cell_type": "markdown",
   "metadata": {},
   "source": [
    "# **PANDAS**\n",
    "\n",
    "Pandas es la librería de Python más utilizada para procesar datos. Tiene varias funcionalidades, entre ellas:\n",
    "\n",
    "- recuperar datos de distintas fuentes y fusionarlos;\n",
    "- solucionar problemas con los datos, por ejemplo, eliminar datos duplicados o completar valores ausentes;\n",
    "- agregar, eliminar o modificar datos de la tabla;\n",
    "- agrupar datos y calcular estadísticas para grupos."
   ]
  },
  {
   "cell_type": "markdown",
   "metadata": {},
   "source": [
    "### Estructura del DATAFRAME\n",
    "\n",
    "Un DataFrame es una estructura de datos bidimensional, que es esencialmente una tabla donde cada elemento tiene dos coordenadas: una fila y una columna. Se accede a las filas por los índices y a las columnas por sus nombres."
   ]
  },
  {
   "cell_type": "code",
   "execution_count": 1,
   "metadata": {},
   "outputs": [],
   "source": [
    "import pandas as pd\n"
   ]
  },
  {
   "cell_type": "markdown",
   "metadata": {},
   "source": [
    "### **Creación de un DataFrame**\n",
    "\n",
    "Para utilizar pandas, debes convertir tus datos a un DataFrame. Para ello puedes utilizar la clase DataFrame().\n",
    "\n",
    "Una clase es como una plantilla para crear objetos, y hay muchas clases en pandas. La clase DataFrame() es la que más se utiliza.\n",
    "\n",
    "La clase DataFrame() toma dos argumentos: data y columns.\n",
    "\n",
    "- data espera una lista que contenga los datos.\n",
    "- columns espera una lista de nombres de columnas que correspondan a la lista de datos."
   ]
  },
  {
   "cell_type": "markdown",
   "metadata": {},
   "source": [
    "Imagina que tienes un conjunto de datos simple: una lista anidada que contiene los nombres de los países y sus capitales. Así que tenemos una variable llamada atlas, que almacena esta información:\n"
   ]
  },
  {
   "cell_type": "code",
   "execution_count": 2,
   "metadata": {},
   "outputs": [],
   "source": [
    "atlas = [  \n",
    "        ['France', 'Paris'],  \n",
    "        ['Russia', 'Moscow'],  \n",
    "        ['China', 'Beijing'],  \n",
    "        ['Mexico', 'Mexico City'],  \n",
    "        ['Egypt', 'Cairo']  \n",
    "]"
   ]
  },
  {
   "cell_type": "markdown",
   "metadata": {},
   "source": [
    " Podemos utilizarla como valor para el argumento data."
   ]
  },
  {
   "cell_type": "code",
   "execution_count": 3,
   "metadata": {},
   "outputs": [
    {
     "ename": "SyntaxError",
     "evalue": "invalid syntax (3462023912.py, line 1)",
     "output_type": "error",
     "traceback": [
      "\u001b[1;36m  Cell \u001b[1;32mIn[3], line 1\u001b[1;36m\u001b[0m\n\u001b[1;33m    pd.DataFrame(data = atlas, columns = )\u001b[0m\n\u001b[1;37m                                         ^\u001b[0m\n\u001b[1;31mSyntaxError\u001b[0m\u001b[1;31m:\u001b[0m invalid syntax\n"
     ]
    }
   ],
   "source": [
    "pd.DataFrame(data = atlas, columns = )"
   ]
  },
  {
   "cell_type": "markdown",
   "metadata": {},
   "source": [
    "Como puedes ver, todavía debemos darle un valor al argumento columns. Vamos a crear una lista que contenga los nombres de columnas 'country' y 'capital':"
   ]
  },
  {
   "cell_type": "code",
   "execution_count": null,
   "metadata": {},
   "outputs": [],
   "source": [
    "geography = ['country', 'capital']"
   ]
  },
  {
   "cell_type": "markdown",
   "metadata": {},
   "source": [
    "Ahora tenemos dos argumentos y podemos convertir nuestra lista anidada en un DataFrame y almacenarlo en la variable world_map:\n"
   ]
  },
  {
   "cell_type": "code",
   "execution_count": null,
   "metadata": {},
   "outputs": [
    {
     "ename": "NameError",
     "evalue": "name 'pd' is not defined",
     "output_type": "error",
     "traceback": [
      "\u001b[1;31m---------------------------------------------------------------------------\u001b[0m",
      "\u001b[1;31mNameError\u001b[0m                                 Traceback (most recent call last)",
      "\u001b[1;32mc:\\Users\\User\\Desktop\\Learning_Python\\Learning_Python\\TripleTen\\Sprint 2\\Pandas.ipynb Cell 12\u001b[0m line \u001b[0;36m1\n\u001b[1;32m----> <a href='vscode-notebook-cell:/c%3A/Users/User/Desktop/Learning_Python/Learning_Python/TripleTen/Sprint%202/Pandas.ipynb#X15sZmlsZQ%3D%3D?line=0'>1</a>\u001b[0m world_map \u001b[39m=\u001b[39m pd\u001b[39m.\u001b[39mDataFrame(data\u001b[39m=\u001b[39matlas, columns\u001b[39m=\u001b[39mgeography)\n",
      "\u001b[1;31mNameError\u001b[0m: name 'pd' is not defined"
     ]
    }
   ],
   "source": [
    "world_map = pd.DataFrame(data=atlas, columns=geography)"
   ]
  },
  {
   "cell_type": "markdown",
   "metadata": {},
   "source": [
    "Como DataFrame() es una clase dentro de la librería pandas, va precedida de pd cuando la llamamos.\n",
    "\n",
    "El código completo se verá así:"
   ]
  },
  {
   "cell_type": "code",
   "execution_count": null,
   "metadata": {},
   "outputs": [
    {
     "name": "stdout",
     "output_type": "stream",
     "text": [
      "  country      capital\n",
      "0  France        Paris\n",
      "1  Russia       Moscow\n",
      "2   China      Beijing\n",
      "3  Mexico  Mexico City\n",
      "4   Egypt        Cairo\n"
     ]
    }
   ],
   "source": [
    "import pandas as pd\n",
    "\n",
    "# preparamos los datos y los nombres de las columnas\n",
    "atlas = [\n",
    "        ['France', 'Paris'],  \n",
    "        ['Russia', 'Moscow'],  \n",
    "        ['China', 'Beijing'],  \n",
    "        ['Mexico', 'Mexico City'],  \n",
    "        ['Egypt', 'Cairo'],\n",
    "]\n",
    "geography = ['country', 'capital']\n",
    "\n",
    "# creamos un DataFrame\n",
    "world_map = pd.DataFrame(data=atlas , columns=geography)\n",
    "\n",
    "# mostrando el DataFrame\n",
    "print(world_map)\n",
    "\n",
    "# SE TUVO QUE INSTALAR PANDAS EN LA TERMINAL PONER PIP INSTAL PANDAS Y LISTO"
   ]
  },
  {
   "cell_type": "markdown",
   "metadata": {},
   "source": [
    "## Ejercicios\n",
    "**Ejercicio 1**\n",
    "\n",
    "Importa pandas para poder acceder a la librería con pd. Crea una lista anidada, music, con cuatro elementos. Cada sublista debe almacenar dos valores de tipo string: artista y nombre de la canción:\n",
    "\n",
    "'Bob Dylan' — 'Like A Rolling Stone'\n",
    "\n",
    "'John Lennon' — 'Imagine'\n",
    "\n",
    "'The Beatles' — 'Hey Jude'\n",
    "\n",
    "'Nirvana' — 'Smells Like Teen Spirit'"
   ]
  },
  {
   "cell_type": "code",
   "execution_count": null,
   "metadata": {},
   "outputs": [],
   "source": [
    "import pandas as pd\n",
    "\n",
    "music = [\n",
    "  ['Bob Dylan','Like A Rolling Stone'],\n",
    "  ['John Lennon', 'Imagine'],\n",
    "  ['The Beatles','Hey Jude' ],\n",
    "  ['Nirvana', 'Smells Like Teen Spirit']\n",
    "]"
   ]
  },
  {
   "cell_type": "markdown",
   "metadata": {},
   "source": [
    "**Ejercicio 2**\n",
    "\n",
    "Crea una lista llamada entries que tenga dos elementos: los nombres de las columnas 'artist' y 'track'. Luego, utiliza DataFrame() para crear una tabla a partir de las listas music y entries. Guarda el resultado en la variable playlist y luego muéstralo."
   ]
  },
  {
   "cell_type": "code",
   "execution_count": 6,
   "metadata": {},
   "outputs": [
    {
     "name": "stdout",
     "output_type": "stream",
     "text": [
      "        artist                    track\n",
      "0    Bob Dylan     Like A Rolling Stone\n",
      "1  John Lennon                  Imagine\n",
      "2  The Beatles                 Hey Jude\n",
      "3      Nirvana  Smells Like Teen Spirit\n",
      "============\n",
      "<class 'pandas.core.frame.DataFrame'>\n",
      "RangeIndex: 4 entries, 0 to 3\n",
      "Data columns (total 2 columns):\n",
      " #   Column  Non-Null Count  Dtype \n",
      "---  ------  --------------  ----- \n",
      " 0   artist  4 non-null      object\n",
      " 1   track   4 non-null      object\n",
      "dtypes: object(2)\n",
      "memory usage: 196.0+ bytes\n",
      "None\n"
     ]
    }
   ],
   "source": [
    "import pandas as pd\n",
    "\n",
    "music = [\n",
    "    ['Bob Dylan', 'Like A Rolling Stone'],\n",
    "    ['John Lennon', 'Imagine'],\n",
    "    ['The Beatles', 'Hey Jude'],\n",
    "    ['Nirvana', 'Smells Like Teen Spirit'],\n",
    "]\n",
    "\n",
    "entries = [\"artist\",\"track\"]\n",
    "\n",
    "playlist = pd.DataFrame(data=music,columns=entries)\n",
    "print(playlist)\n",
    "print(\"============\")\n",
    "print(playlist.info())\n",
    "# escribe tu código aquí"
   ]
  },
  {
   "cell_type": "markdown",
   "metadata": {},
   "source": [
    "## **PANDAS PARA ARCHIVOS DE EXCEL Y CSV**\n",
    "\n"
   ]
  }
 ],
 "metadata": {
  "kernelspec": {
   "display_name": "Python 3",
   "language": "python",
   "name": "python3"
  },
  "language_info": {
   "codemirror_mode": {
    "name": "ipython",
    "version": 3
   },
   "file_extension": ".py",
   "mimetype": "text/x-python",
   "name": "python",
   "nbconvert_exporter": "python",
   "pygments_lexer": "ipython3",
   "version": "3.11.6"
  }
 },
 "nbformat": 4,
 "nbformat_minor": 2
}
