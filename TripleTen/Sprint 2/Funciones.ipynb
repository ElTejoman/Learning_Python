{
 "cells": [
  {
   "cell_type": "markdown",
   "metadata": {},
   "source": [
    "# **FUNCIONES**\n",
    "\n",
    "#### **Sintaxis de funciones**\n",
    "\n",
    "Ahora que hemos hablado de lo que es una función, es hora de intentar construir una.\n",
    "\n",
    "1. Primero viene el encabezado de la función.\n",
    "2. La palabra clave def se utiliza para especificar el nombre de la función.\n",
    "3. Los parámetros se especifican entre paréntesis.\n",
    "4. El encabezado termina con dos puntos.\n",
    "5. A continuación, se define el cuerpo espaciando cada instrucción en cuatro espacios. El cuerpo es el lugar donde se realizan las manipulaciones concretas que le pedimos a una función.\n",
    "6. La palabra clave return indica el valor que devolverá la función cuando esta haya hecho lo que se le pidió."
   ]
  },
  {
   "cell_type": "code",
   "execution_count": 2,
   "metadata": {},
   "outputs": [
    {
     "name": "stdout",
     "output_type": "stream",
     "text": [
      "¡La tortilla está lista! Huevos utilizados: 2\n",
      "¡La tortilla está lista! Huevos utilizados: 3\n"
     ]
    }
   ],
   "source": [
    "def omelet(eggs_number):\n",
    "    result = '¡La tortilla está lista! Huevos utilizados: ' + str(eggs_number)\n",
    "    return result\n",
    "\n",
    "# llamada a la función con 2 huevos, su resultado se asigna a la variable omelet_type\n",
    "omelet_type = omelet(2)\n",
    "print(omelet_type) # imprime el resultado de la instrucción anterior\n",
    "print(omelet(3)) # imprime el resultado de una nueva llamada con 3 huevos"
   ]
  },
  {
   "cell_type": "markdown",
   "metadata": {},
   "source": [
    "### **Uso de funciones para simplificar el codigo**\n",
    "\n",
    "A continuación, vamos a estudiar un caso que utilizaremos a lo largo de esta lección. Una tienda virtual necesita escribir un programa que automatice los descuentos. Si un usuario gasta más de cien dólares en comprar un producto determinado, recibirá un descuento del 5% en ese producto.\n",
    "Dos variables describen cada elemento del pedido:\n",
    "- [number]_item_price es el precio del artículo.\n",
    "- [number]_item_number es la cantidad.\n",
    "\n",
    "Digamos que hay tres artículos en el carrito de un usuario."
   ]
  },
  {
   "cell_type": "code",
   "execution_count": null,
   "metadata": {},
   "outputs": [],
   "source": [
    "first_item_price = 10.0\n",
    "first_item_quantity = 3 \n",
    "\n",
    "second_item_price = 51.0\n",
    "second_item_quantity = 2 # El total suma más de $100. Descuento aplicado\n",
    "\n",
    "third_item_price = 4.0\n",
    "third_item_quantity = 10\n"
   ]
  },
  {
   "cell_type": "markdown",
   "metadata": {},
   "source": [
    "Primero, vamos a hacer este ejercicio sin crear una función.\n",
    "\n",
    "**Sin una función definida por el usuario**\n",
    "\n",
    "Para cada artículo del carrito:\n",
    "\n",
    "- Encuentra el total.\n",
    "\n",
    "- En una sentencia condicional, compara el total con 100.\n",
    "\n",
    "- Si el total es superior a 100, resta el 5% del total.\n",
    "\n",
    "Este es el programa resultante:"
   ]
  },
  {
   "cell_type": "code",
   "execution_count": 3,
   "metadata": {},
   "outputs": [
    {
     "name": "stdout",
     "output_type": "stream",
     "text": [
      "30.0\n",
      "96.9\n",
      "40.0\n"
     ]
    }
   ],
   "source": [
    "first_item_price = 10.0\n",
    "first_item_quantity = 3\n",
    "\n",
    "second_item_price = 51.0\n",
    "second_item_quantity = 2\n",
    "\n",
    "third_item_price = 4.0\n",
    "third_item_quantity = 10\n",
    "\n",
    "# encuentra el total para el primer elemento\n",
    "first_item_total = first_item_quantity * first_item_price\n",
    "if first_item_total > 100: # si es superior a 100,\n",
    "    first_item_total -= first_item_total * 0.05 # entonces resta el 5 %\n",
    "print(first_item_total)\n",
    "\n",
    "# encuentra el total del segundo artículo\n",
    "second_item_total = second_item_quantity * second_item_price \n",
    "if second_item_total > 100: # si es superior a 100,\n",
    "    second_item_total -= second_item_total * 0.05 # entonces resta el 5 %\n",
    "print(second_item_total)\n",
    "\n",
    "# encuentra el total del tercer artículo\n",
    "third_item_total = third_item_quantity * third_item_price\n",
    "if third_item_total > 100: # si es superior a 100,\n",
    "    third_item_total -= third_item_total * 0.05 # entonces resta el 5 %\n",
    "print(third_item_total)"
   ]
  },
  {
   "cell_type": "markdown",
   "metadata": {},
   "source": [
    "En el código de arriba se pueden hacer mejoras como:\n",
    "\n",
    "- Es difícil de editar. Si la tienda quiere cambiar el importe del descuento, tendrá que cambiarlo tres veces, en cada bloque repetido.\n",
    "\n",
    "- Es difícil de ampliar. Si un cliente o una clienta pide más de tres artículos, el código calculará el descuento únicamente para los tres primeros artículos. Además, si el usuario compra menos de tres artículos diferentes, habrá variables sin asignar, lo que provocará un error.\n",
    "\n",
    "- Es difícil de leer. Hay que comparar tres bloques de código repetidos y buscar las diferencias."
   ]
  },
  {
   "cell_type": "markdown",
   "metadata": {},
   "source": [
    "En el algoritmo de descuento del 5 %, las variables cambian, pero los cálculos siguen siendo los mismos. En una función definida por el usuario:\n",
    "\n",
    "- Las variables se convertirán en parámetros.\n",
    "- Las instrucciones de cálculo se convertirán en el cuerpo.\n",
    "\n",
    "#### **Con una función definida por el usuario**\n",
    "\n",
    "Vamos a crear una función:\n",
    "\n",
    "1. que contenga dos parámetros: el precio y la cantidad del artículo;\n",
    "en cuyo cuerpo:\n",
    "2. se calcule el precio total del artículo en el carrito;\n",
    "3. el total se compare con 100 en una sentencia condicional;\n",
    "4. se reste el 5 % si el total es superior a 100;\n",
    "que devuelva el total."
   ]
  },
  {
   "cell_type": "code",
   "execution_count": 4,
   "metadata": {},
   "outputs": [
    {
     "name": "stdout",
     "output_type": "stream",
     "text": [
      "30.0\n",
      "96.9\n",
      "40.0\n"
     ]
    }
   ],
   "source": [
    "def calculate_total_price(price, quantity):\n",
    "    total = price * quantity # calcula el total del artículo en el carrito\n",
    "    if total > 100: # compara el total con 100\n",
    "        total -= total * 0.05 # if tsi el total es superior a 100, resta el 5 %\n",
    "    return total # devuelve el total\n",
    "\n",
    "first_item_quantity = 3\n",
    "first_item_price = 10.0\n",
    "\n",
    "second_item_quantity = 2\n",
    "second_item_price = 51.0\n",
    "\n",
    "third_item_quantity = 10\n",
    "third_item_price = 4.0\n",
    "\n",
    "# Llama a la función tres veces.\n",
    "# Almacena el resultado de cada llamada en una variable.\n",
    "first_item_total = calculate_total_price(first_item_price, first_item_quantity)\n",
    "second_item_total = calculate_total_price(second_item_price, second_item_quantity)\n",
    "third_item_total = calculate_total_price(third_item_price, third_item_quantity)\n",
    "\n",
    "print(first_item_total)\n",
    "print(second_item_total)\n",
    "print(third_item_total)"
   ]
  }
 ],
 "metadata": {
  "kernelspec": {
   "display_name": "Python 3",
   "language": "python",
   "name": "python3"
  },
  "language_info": {
   "codemirror_mode": {
    "name": "ipython",
    "version": 3
   },
   "file_extension": ".py",
   "mimetype": "text/x-python",
   "name": "python",
   "nbconvert_exporter": "python",
   "pygments_lexer": "ipython3",
   "version": "3.11.6"
  }
 },
 "nbformat": 4,
 "nbformat_minor": 2
}
