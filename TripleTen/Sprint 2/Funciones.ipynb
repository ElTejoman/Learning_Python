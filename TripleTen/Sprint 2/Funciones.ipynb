{
 "cells": [
  {
   "cell_type": "markdown",
   "metadata": {},
   "source": [
    "# **FUNCIONES**\n",
    "\n",
    "#### **Sintaxis de funciones**\n",
    "\n",
    "Ahora que hemos hablado de lo que es una función, es hora de intentar construir una.\n",
    "\n",
    "1. Primero viene el encabezado de la función.\n",
    "2. La palabra clave def se utiliza para especificar el nombre de la función.\n",
    "3. Los parámetros se especifican entre paréntesis.\n",
    "4. El encabezado termina con dos puntos.\n",
    "5. A continuación, se define el cuerpo espaciando cada instrucción en cuatro espacios. El cuerpo es el lugar donde se realizan las manipulaciones concretas que le pedimos a una función.\n",
    "6. La palabra clave return indica el valor que devolverá la función cuando esta haya hecho lo que se le pidió."
   ]
  },
  {
   "cell_type": "code",
   "execution_count": 2,
   "metadata": {},
   "outputs": [
    {
     "name": "stdout",
     "output_type": "stream",
     "text": [
      "¡La tortilla está lista! Huevos utilizados: 2\n",
      "¡La tortilla está lista! Huevos utilizados: 3\n"
     ]
    }
   ],
   "source": [
    "def omelet(eggs_number):\n",
    "    result = '¡La tortilla está lista! Huevos utilizados: ' + str(eggs_number)\n",
    "    return result\n",
    "\n",
    "# llamada a la función con 2 huevos, su resultado se asigna a la variable omelet_type\n",
    "omelet_type = omelet(2)\n",
    "print(omelet_type) # imprime el resultado de la instrucción anterior\n",
    "print(omelet(3)) # imprime el resultado de una nueva llamada con 3 huevos"
   ]
  },
  {
   "cell_type": "markdown",
   "metadata": {},
   "source": [
    "### **Uso de funciones para simplificar el codigo**\n",
    "\n",
    "A continuación, vamos a estudiar un caso que utilizaremos a lo largo de esta lección. Una tienda virtual necesita escribir un programa que automatice los descuentos. Si un usuario gasta más de cien dólares en comprar un producto determinado, recibirá un descuento del 5% en ese producto.\n",
    "Dos variables describen cada elemento del pedido:\n",
    "- [number]_item_price es el precio del artículo.\n",
    "- [number]_item_number es la cantidad.\n",
    "\n",
    "Digamos que hay tres artículos en el carrito de un usuario."
   ]
  },
  {
   "cell_type": "code",
   "execution_count": null,
   "metadata": {},
   "outputs": [],
   "source": [
    "first_item_price = 10.0\n",
    "first_item_quantity = 3 \n",
    "\n",
    "second_item_price = 51.0\n",
    "second_item_quantity = 2 # El total suma más de $100. Descuento aplicado\n",
    "\n",
    "third_item_price = 4.0\n",
    "third_item_quantity = 10\n"
   ]
  },
  {
   "cell_type": "markdown",
   "metadata": {},
   "source": [
    "Primero, vamos a hacer este ejercicio sin crear una función.\n",
    "\n",
    "**Sin una función definida por el usuario**\n",
    "\n",
    "Para cada artículo del carrito:\n",
    "\n",
    "- Encuentra el total.\n",
    "\n",
    "- En una sentencia condicional, compara el total con 100.\n",
    "\n",
    "- Si el total es superior a 100, resta el 5% del total.\n",
    "\n",
    "Este es el programa resultante:"
   ]
  },
  {
   "cell_type": "code",
   "execution_count": 3,
   "metadata": {},
   "outputs": [
    {
     "name": "stdout",
     "output_type": "stream",
     "text": [
      "30.0\n",
      "96.9\n",
      "40.0\n"
     ]
    }
   ],
   "source": [
    "first_item_price = 10.0\n",
    "first_item_quantity = 3\n",
    "\n",
    "second_item_price = 51.0\n",
    "second_item_quantity = 2\n",
    "\n",
    "third_item_price = 4.0\n",
    "third_item_quantity = 10\n",
    "\n",
    "# encuentra el total para el primer elemento\n",
    "first_item_total = first_item_quantity * first_item_price\n",
    "if first_item_total > 100: # si es superior a 100,\n",
    "    first_item_total -= first_item_total * 0.05 # entonces resta el 5 %\n",
    "print(first_item_total)\n",
    "\n",
    "# encuentra el total del segundo artículo\n",
    "second_item_total = second_item_quantity * second_item_price \n",
    "if second_item_total > 100: # si es superior a 100,\n",
    "    second_item_total -= second_item_total * 0.05 # entonces resta el 5 %\n",
    "print(second_item_total)\n",
    "\n",
    "# encuentra el total del tercer artículo\n",
    "third_item_total = third_item_quantity * third_item_price\n",
    "if third_item_total > 100: # si es superior a 100,\n",
    "    third_item_total -= third_item_total * 0.05 # entonces resta el 5 %\n",
    "print(third_item_total)"
   ]
  },
  {
   "cell_type": "markdown",
   "metadata": {},
   "source": [
    "En el código de arriba se pueden hacer mejoras como:\n",
    "\n",
    "- Es difícil de editar. Si la tienda quiere cambiar el importe del descuento, tendrá que cambiarlo tres veces, en cada bloque repetido.\n",
    "\n",
    "- Es difícil de ampliar. Si un cliente o una clienta pide más de tres artículos, el código calculará el descuento únicamente para los tres primeros artículos. Además, si el usuario compra menos de tres artículos diferentes, habrá variables sin asignar, lo que provocará un error.\n",
    "\n",
    "- Es difícil de leer. Hay que comparar tres bloques de código repetidos y buscar las diferencias."
   ]
  },
  {
   "cell_type": "markdown",
   "metadata": {},
   "source": [
    "En el algoritmo de descuento del 5 %, las variables cambian, pero los cálculos siguen siendo los mismos. En una función definida por el usuario:\n",
    "\n",
    "- Las variables se convertirán en parámetros.\n",
    "- Las instrucciones de cálculo se convertirán en el cuerpo.\n",
    "\n",
    "#### **Con una función definida por el usuario**\n",
    "\n",
    "Vamos a crear una función:\n",
    "\n",
    "1. que contenga dos parámetros: el precio y la cantidad del artículo;\n",
    "en cuyo cuerpo:\n",
    "2. se calcule el precio total del artículo en el carrito;\n",
    "3. el total se compare con 100 en una sentencia condicional;\n",
    "4. se reste el 5 % si el total es superior a 100;\n",
    "que devuelva el total."
   ]
  },
  {
   "cell_type": "code",
   "execution_count": 4,
   "metadata": {},
   "outputs": [
    {
     "name": "stdout",
     "output_type": "stream",
     "text": [
      "30.0\n",
      "96.9\n",
      "40.0\n"
     ]
    }
   ],
   "source": [
    "def calculate_total_price(price, quantity):\n",
    "    total = price * quantity # calcula el total del artículo en el carrito\n",
    "    if total > 100: # compara el total con 100\n",
    "        total -= total * 0.05 # if tsi el total es superior a 100, resta el 5 %\n",
    "    return total # devuelve el total\n",
    "\n",
    "first_item_quantity = 3\n",
    "first_item_price = 10.0\n",
    "\n",
    "second_item_quantity = 2\n",
    "second_item_price = 51.0\n",
    "\n",
    "third_item_quantity = 10\n",
    "third_item_price = 4.0\n",
    "\n",
    "# Llama a la función tres veces.\n",
    "# Almacena el resultado de cada llamada en una variable.\n",
    "first_item_total = calculate_total_price(first_item_price, first_item_quantity)\n",
    "second_item_total = calculate_total_price(second_item_price, second_item_quantity)\n",
    "third_item_total = calculate_total_price(third_item_price, third_item_quantity)\n",
    "\n",
    "print(first_item_total)\n",
    "print(second_item_total)\n",
    "print(third_item_total)"
   ]
  },
  {
   "cell_type": "markdown",
   "metadata": {},
   "source": [
    "Practiquemos\n",
    "\n",
    "El siguiente fragmento de código contiene operaciones repetitivas. En concreto, calcula el total multiplicando el número de artículos por su precio. Podemos hacer un 10% de descuento si la cantidad es superior a 5. Para ello, multiplicamos el total por 0.9. Tu objetivo es escribir una función que elimine la redundancia y pueda utilizarse en los tres casos presentados a continuación."
   ]
  },
  {
   "cell_type": "code",
   "execution_count": 1,
   "metadata": {},
   "outputs": [],
   "source": [
    "item_price_1 = 20.0\n",
    "item_quantity_1 = 20\n",
    "\n",
    "item_price_2 = 30.0\n",
    "item_quantity_2 = 1\n",
    "\n",
    "item_price_3 = 10.0\n",
    "item_quantity_3 = 6\n",
    "\n",
    "# Calcula el total para el primer artículo\n",
    "item_total_1 = item_price_1 * item_quantity_1\n",
    "\n",
    "# Aplica el descuento del 10% si la cantidad es superior a 5\n",
    "if item_quantity_1 > 5:\n",
    "    item_total_1 *= 0.9\n",
    "\n",
    "# Calcula el total para el segundo artículo\n",
    "item_total_2 = item_price_2 * item_quantity_2\n",
    "\n",
    "# Aplica el descuento del 10% si la cantidad es superior a 5\n",
    "if item_quantity_2 > 5:\n",
    "    item_total_2 *= 0.9\n",
    "\n",
    "# Calcula el total para el tercer artículo\n",
    "item_total_3 = item_price_3 * item_quantity_3\n",
    "\n",
    "# Aplica el descuento del 10% si la cantidad es superior a 5\n",
    "if item_quantity_3 > 5:\n",
    "    item_total_3 *= 0.9\n"
   ]
  },
  {
   "cell_type": "code",
   "execution_count": 8,
   "metadata": {},
   "outputs": [
    {
     "name": "stdout",
     "output_type": "stream",
     "text": [
      "360.0\n",
      "30.0\n",
      "54.0\n"
     ]
    }
   ],
   "source": [
    "# escribe aquí tu código para definir una función\n",
    "def calculate_total_price(price, quantity):\n",
    "  total = price * quantity\n",
    "  if quantity > 5:\n",
    "    total *=  0.9\n",
    "  return total\n",
    "\n",
    "\n",
    "# Define los precios y la cantidad de los tres artículos\n",
    "item_price_1 = 20.0\n",
    "item_quantity_1 = 20\n",
    "\n",
    "item_price_2 = 30.0\n",
    "item_quantity_2 = 1\n",
    "\n",
    "item_price_3 = 10.0\n",
    "item_quantity_3 = 6\n",
    "\n",
    "\n",
    "# Llama a la función para cada artículo y almacena el resultado en una variable\n",
    "item_total_1 = calculate_total_price(item_price_1 , item_quantity_1)\n",
    "item_total_2 = calculate_total_price(item_price_2 , item_quantity_2)\n",
    "item_total_3 = calculate_total_price(item_price_3 , item_quantity_3)\n",
    "\n",
    "\n",
    "# Imprime el precio total de cada artículo del carrito\n",
    "print(item_total_1)\n",
    "print(item_total_2)\n",
    "print(item_total_3)\n"
   ]
  },
  {
   "cell_type": "markdown",
   "metadata": {},
   "source": [
    "## **FUNCIONES DE FILTRO**\n",
    "\n",
    "Anteriormente, utilizaste el bucle for y las sentencias condicionales con el fin de crear un filtro para tu tabla de películas. Este filtro tenía que devolver películas con una duración superior a 180 min:"
   ]
  },
  {
   "cell_type": "code",
   "execution_count": 9,
   "metadata": {},
   "outputs": [
    {
     "name": "stdout",
     "output_type": "stream",
     "text": [
      "[\"Schindler's List\", 'USA', 1993, 'drama', 195, 8.818]\n",
      "['The Lord of the Rings: The Return of the King', 'New Zealand', 2003, 'fantasy, adventure, drama', 201, 8.625]\n"
     ]
    }
   ],
   "source": [
    "movies_info = [\n",
    "    ['The Shawshank Redemption', 'USA', 1994, 'drama', 142, 9.111],\n",
    "    ['The Godfather', 'USA', 1972, 'drama, crime', 175, 8.730],\n",
    "    ['The Dark Knight', 'USA', 2008, 'fantasy, action, thriller', 152, 8.499],\n",
    "    [\"Schindler's List\", 'USA', 1993, 'drama', 195, 8.818],\n",
    "    ['The Lord of the Rings: The Return of the King', 'New Zealand', 2003, 'fantasy, adventure, drama', 201, 8.625],\n",
    "    ['Pulp Fiction', 'USA', 1994, 'thriller, comedy, crime', 154, 8.619],\n",
    "    ['The Good, the Bad and the Ugly', 'Italy', 1966, 'western', 178, 8.521],\n",
    "    ['Fight Club', 'USA', 1999, 'thriller, drama, crime', 139, 8.644],\n",
    "    ['Harakiri', 'Japan', 1962, 'drama, action, history', 133, 8.106],\n",
    "    ['Good Will Hunting', 'USA', 1997, 'drama, romance', 126, 8.077]\n",
    "]\n",
    "\n",
    "movies_filtered = [] # lista vacía para almacenar el resultado\n",
    "\n",
    "for movie in movies_info: # recorre en bucle las filas de la tabla original\n",
    "    if movie[4] > 180: # si una película dura más de 180 minutos\n",
    "        movies_filtered.append(movie) # agrega la fila a movies_filtered\n",
    "\n",
    "for movie in movies_filtered: # muestra el contenido de movies_filtered\n",
    "    print(movie) "
   ]
  },
  {
   "cell_type": "markdown",
   "metadata": {},
   "source": [
    "Vamos a mejorar nuestra solución con la ayuda de las funciones. Para ello, podemos tomar fragmentos de código, como el de arriba, y crear una función que sirva para cualquier consulta, no para una sola.\n",
    "\n",
    "Vamos a hacer que nuestro código sea más simple y flexible, para que podamos manejar toneladas de consultas en el futuro sin tener que copiar y pegar o reescribir nada.\n",
    "\n",
    "Dividiremos el código en bloques lógicos y crearemos dos funciones:\n",
    "\n",
    "- Una para filtrar las películas.\n",
    "- Otra para imprimir los nombres de las películas que obtuvimos después de filtrar."
   ]
  },
  {
   "cell_type": "code",
   "execution_count": 10,
   "metadata": {},
   "outputs": [
    {
     "name": "stdout",
     "output_type": "stream",
     "text": [
      "[\"Schindler's List\", 'USA', 1993, 'drama', 195, 8.818]\n",
      "['The Lord of the Rings: The Return of the King', 'New Zealand', 2003, 'fantasy, adventure, drama', 201, 8.625]\n"
     ]
    }
   ],
   "source": [
    "# función que devuelve una copia filtrada de una lista anidada\n",
    "def filter_by_timing(data, target_duration): \n",
    "    filtered_result = []\n",
    "    for row in data:\n",
    "        if row[4] > target_duration:\n",
    "            filtered_result.append(row)\n",
    "    return filtered_result \n",
    "# devuelve los resultados filtrados\n",
    "\n",
    "# esta función acepta la lista anidada como entrada y la muestra, sin devolver nada\n",
    "def print_movie_info(data):\n",
    "    for movie in data:\n",
    "        print(movie)\n",
    "\n",
    "# llamemos a la función sobre movies_info:\n",
    "\n",
    "movies_info = [\n",
    "    ['The Shawshank Redemption', 'USA', 1994, 'drama', 142, 9.111],\n",
    "    ['The Godfather', 'USA', 1972, 'drama, crime', 175, 8.730],\n",
    "    ['The Dark Knight', 'USA', 2008, 'fantasy, action, thriller', 152, 8.499],\n",
    "    [\"Schindler's List\", 'USA', 1993, 'drama', 195, 8.818],\n",
    "    ['The Lord of the Rings: The Return of the King', 'New Zealand', 2003, 'fantasy, adventure, drama', 201, 8.625],\n",
    "    ['Pulp Fiction', 'USA', 1994, 'thriller, comedy, crime', 154, 8.619],\n",
    "    ['The Good, the Bad and the Ugly', 'Italy', 1966, 'western', 178, 8.521],\n",
    "    ['Fight Club', 'USA', 1999, 'thriller, drama, crime', 139, 8.644],\n",
    "    ['Harakiri', 'Japan', 1962, 'drama, action, history', 133, 8.106],\n",
    "    ['Good Will Hunting', 'USA', 1997, 'drama, romance', 126, 8.077]\n",
    "]\n",
    "\n",
    "movies_filtered = filter_by_timing(movies_info, 180)\n",
    "print_movie_info(movies_filtered)"
   ]
  },
  {
   "cell_type": "markdown",
   "metadata": {},
   "source": [
    "### **Ejercicios**\n",
    "\n",
    "**Ejercicio 1**\n",
    "\n",
    "Utiliza las funciones para filtrar las películas de más de 140 minutos de duración e imprimir el resultado."
   ]
  },
  {
   "cell_type": "code",
   "execution_count": 10,
   "metadata": {},
   "outputs": [
    {
     "name": "stdout",
     "output_type": "stream",
     "text": [
      "['The Shawshank Redemption', 'USA', 1994, 'drama', 142, 9.111]\n",
      "['The Godfather', 'USA', 1972, 'drama, crime', 175, 8.73]\n",
      "['The Dark Knight', 'USA', 2008, 'fantasy, action, thriller', 152, 8.499]\n",
      "[\"Schindler's List\", 'USA', 1993, 'drama', 195, 8.818]\n",
      "['The Lord of the Rings: The Return of the King', 'New Zealand', 2003, 'fantasy, adventure, drama', 201, 8.625]\n",
      "['Pulp Fiction', 'USA', 1994, 'thriller, comedy, crime', 154, 8.619]\n",
      "['The Good, the Bad and the Ugly', 'Italy', 1966, 'western', 178, 8.521]\n"
     ]
    }
   ],
   "source": [
    "def filter_by_timing(data, target_duration): \n",
    "    filtered_result = []\n",
    "    for row in data:\n",
    "        if row[4] > target_duration:\n",
    "            filtered_result.append(row)\n",
    "    return filtered_result \n",
    "\n",
    "def print_movie_info(data):\n",
    "    for movie in data:\n",
    "        print(movie)\n",
    "\n",
    "movies_info = [\n",
    "    ['The Shawshank Redemption', 'USA', 1994, 'drama', 142, 9.111],\n",
    "    ['The Godfather', 'USA', 1972, 'drama, crime', 175, 8.730],\n",
    "    ['The Dark Knight', 'USA', 2008, 'fantasy, action, thriller', 152, 8.499],\n",
    "    [\"Schindler's List\", 'USA', 1993, 'drama', 195, 8.818],\n",
    "    ['The Lord of the Rings: The Return of the King', 'New Zealand', 2003, 'fantasy, adventure, drama', 201, 8.625],\n",
    "    ['Pulp Fiction', 'USA', 1994, 'thriller, comedy, crime', 154, 8.619],\n",
    "    ['The Good, the Bad and the Ugly', 'Italy', 1966, 'western', 178, 8.521],\n",
    "    ['Fight Club', 'USA', 1999, 'thriller, drama, crime', 139, 8.644],\n",
    "    ['Harakiri', 'Japan', 1962, 'drama, action, history', 133, 8.106],\n",
    "    ['Good Will Hunting', 'USA', 1997, 'drama, romance', 126, 8.077]\n",
    "]\n",
    "\n",
    "duration=filter_by_timing(movies_info,140)\n",
    "print_movie_info(duration)"
   ]
  }
 ],
 "metadata": {
  "kernelspec": {
   "display_name": "Python 3",
   "language": "python",
   "name": "python3"
  },
  "language_info": {
   "codemirror_mode": {
    "name": "ipython",
    "version": 3
   },
   "file_extension": ".py",
   "mimetype": "text/x-python",
   "name": "python",
   "nbconvert_exporter": "python",
   "pygments_lexer": "ipython3",
   "version": "3.11.6"
  }
 },
 "nbformat": 4,
 "nbformat_minor": 2
}
