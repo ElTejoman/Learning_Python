{
 "cells": [
  {
   "cell_type": "markdown",
   "metadata": {},
   "source": [
    "# **FUNCIONES**\n",
    "\n",
    "#### **Sintaxis de funciones**\n",
    "\n",
    "Ahora que hemos hablado de lo que es una función, es hora de intentar construir una.\n",
    "\n",
    "1. Primero viene el encabezado de la función.\n",
    "2. La palabra clave def se utiliza para especificar el nombre de la función.\n",
    "3. Los parámetros se especifican entre paréntesis.\n",
    "4. El encabezado termina con dos puntos.\n",
    "5. A continuación, se define el cuerpo espaciando cada instrucción en cuatro espacios. El cuerpo es el lugar donde se realizan las manipulaciones concretas que le pedimos a una función.\n",
    "6. La palabra clave return indica el valor que devolverá la función cuando esta haya hecho lo que se le pidió."
   ]
  },
  {
   "cell_type": "code",
   "execution_count": 50,
   "metadata": {},
   "outputs": [
    {
     "name": "stdout",
     "output_type": "stream",
     "text": [
      "¡La tortilla está lista! Huevos utilizados: 2\n",
      "¡La tortilla está lista! Huevos utilizados: 3\n"
     ]
    }
   ],
   "source": [
    "def omelet(eggs_number):\n",
    "    result = '¡La tortilla está lista! Huevos utilizados: ' + str(eggs_number)\n",
    "    return result\n",
    "\n",
    "# llamada a la función con 2 huevos, su resultado se asigna a la variable omelet_type\n",
    "omelet_type = omelet(2)\n",
    "print(omelet_type) # imprime el resultado de la instrucción anterior\n",
    "print(omelet(3)) # imprime el resultado de una nueva llamada con 3 huevos"
   ]
  },
  {
   "cell_type": "markdown",
   "metadata": {},
   "source": [
    "### **Uso de funciones para simplificar el codigo**\n",
    "\n",
    "A continuación, vamos a estudiar un caso que utilizaremos a lo largo de esta lección. Una tienda virtual necesita escribir un programa que automatice los descuentos. Si un usuario gasta más de cien dólares en comprar un producto determinado, recibirá un descuento del 5% en ese producto.\n",
    "Dos variables describen cada elemento del pedido:\n",
    "- [number]_item_price es el precio del artículo.\n",
    "- [number]_item_number es la cantidad.\n",
    "\n",
    "Digamos que hay tres artículos en el carrito de un usuario."
   ]
  },
  {
   "cell_type": "code",
   "execution_count": 51,
   "metadata": {},
   "outputs": [],
   "source": [
    "first_item_price = 10.0\n",
    "first_item_quantity = 3 \n",
    "\n",
    "second_item_price = 51.0\n",
    "second_item_quantity = 2 # El total suma más de $100. Descuento aplicado\n",
    "\n",
    "third_item_price = 4.0\n",
    "third_item_quantity = 10\n"
   ]
  },
  {
   "cell_type": "markdown",
   "metadata": {},
   "source": [
    "Primero, vamos a hacer este ejercicio sin crear una función.\n",
    "\n",
    "**Sin una función definida por el usuario**\n",
    "\n",
    "Para cada artículo del carrito:\n",
    "\n",
    "- Encuentra el total.\n",
    "\n",
    "- En una sentencia condicional, compara el total con 100.\n",
    "\n",
    "- Si el total es superior a 100, resta el 5% del total.\n",
    "\n",
    "Este es el programa resultante:"
   ]
  },
  {
   "cell_type": "code",
   "execution_count": 52,
   "metadata": {},
   "outputs": [
    {
     "name": "stdout",
     "output_type": "stream",
     "text": [
      "30.0\n",
      "96.9\n",
      "40.0\n"
     ]
    }
   ],
   "source": [
    "first_item_price = 10.0\n",
    "first_item_quantity = 3\n",
    "\n",
    "second_item_price = 51.0\n",
    "second_item_quantity = 2\n",
    "\n",
    "third_item_price = 4.0\n",
    "third_item_quantity = 10\n",
    "\n",
    "# encuentra el total para el primer elemento\n",
    "first_item_total = first_item_quantity * first_item_price\n",
    "if first_item_total > 100: # si es superior a 100,\n",
    "    first_item_total -= first_item_total * 0.05 # entonces resta el 5 %\n",
    "print(first_item_total)\n",
    "\n",
    "# encuentra el total del segundo artículo\n",
    "second_item_total = second_item_quantity * second_item_price \n",
    "if second_item_total > 100: # si es superior a 100,\n",
    "    second_item_total -= second_item_total * 0.05 # entonces resta el 5 %\n",
    "print(second_item_total)\n",
    "\n",
    "# encuentra el total del tercer artículo\n",
    "third_item_total = third_item_quantity * third_item_price\n",
    "if third_item_total > 100: # si es superior a 100,\n",
    "    third_item_total -= third_item_total * 0.05 # entonces resta el 5 %\n",
    "print(third_item_total)"
   ]
  },
  {
   "cell_type": "markdown",
   "metadata": {},
   "source": [
    "En el código de arriba se pueden hacer mejoras como:\n",
    "\n",
    "- Es difícil de editar. Si la tienda quiere cambiar el importe del descuento, tendrá que cambiarlo tres veces, en cada bloque repetido.\n",
    "\n",
    "- Es difícil de ampliar. Si un cliente o una clienta pide más de tres artículos, el código calculará el descuento únicamente para los tres primeros artículos. Además, si el usuario compra menos de tres artículos diferentes, habrá variables sin asignar, lo que provocará un error.\n",
    "\n",
    "- Es difícil de leer. Hay que comparar tres bloques de código repetidos y buscar las diferencias."
   ]
  },
  {
   "cell_type": "markdown",
   "metadata": {},
   "source": [
    "En el algoritmo de descuento del 5 %, las variables cambian, pero los cálculos siguen siendo los mismos. En una función definida por el usuario:\n",
    "\n",
    "- Las variables se convertirán en parámetros.\n",
    "- Las instrucciones de cálculo se convertirán en el cuerpo.\n",
    "\n",
    "#### **Con una función definida por el usuario**\n",
    "\n",
    "Vamos a crear una función:\n",
    "\n",
    "1. que contenga dos parámetros: el precio y la cantidad del artículo;\n",
    "en cuyo cuerpo:\n",
    "2. se calcule el precio total del artículo en el carrito;\n",
    "3. el total se compare con 100 en una sentencia condicional;\n",
    "4. se reste el 5 % si el total es superior a 100;\n",
    "que devuelva el total."
   ]
  },
  {
   "cell_type": "code",
   "execution_count": 53,
   "metadata": {},
   "outputs": [
    {
     "name": "stdout",
     "output_type": "stream",
     "text": [
      "30.0\n",
      "96.9\n",
      "40.0\n"
     ]
    }
   ],
   "source": [
    "def calculate_total_price(price, quantity):\n",
    "    total = price * quantity # calcula el total del artículo en el carrito\n",
    "    if total > 100: # compara el total con 100\n",
    "        total -= total * 0.05 # if tsi el total es superior a 100, resta el 5 %\n",
    "    return total # devuelve el total\n",
    "\n",
    "first_item_quantity = 3\n",
    "first_item_price = 10.0\n",
    "\n",
    "second_item_quantity = 2\n",
    "second_item_price = 51.0\n",
    "\n",
    "third_item_quantity = 10\n",
    "third_item_price = 4.0\n",
    "\n",
    "# Llama a la función tres veces.\n",
    "# Almacena el resultado de cada llamada en una variable.\n",
    "first_item_total = calculate_total_price(first_item_price, first_item_quantity)\n",
    "second_item_total = calculate_total_price(second_item_price, second_item_quantity)\n",
    "third_item_total = calculate_total_price(third_item_price, third_item_quantity)\n",
    "\n",
    "print(first_item_total)\n",
    "print(second_item_total)\n",
    "print(third_item_total)"
   ]
  },
  {
   "cell_type": "markdown",
   "metadata": {},
   "source": [
    "Practiquemos\n",
    "\n",
    "El siguiente fragmento de código contiene operaciones repetitivas. En concreto, calcula el total multiplicando el número de artículos por su precio. Podemos hacer un 10% de descuento si la cantidad es superior a 5. Para ello, multiplicamos el total por 0.9. Tu objetivo es escribir una función que elimine la redundancia y pueda utilizarse en los tres casos presentados a continuación."
   ]
  },
  {
   "cell_type": "code",
   "execution_count": 54,
   "metadata": {},
   "outputs": [],
   "source": [
    "item_price_1 = 20.0\n",
    "item_quantity_1 = 20\n",
    "\n",
    "item_price_2 = 30.0\n",
    "item_quantity_2 = 1\n",
    "\n",
    "item_price_3 = 10.0\n",
    "item_quantity_3 = 6\n",
    "\n",
    "# Calcula el total para el primer artículo\n",
    "item_total_1 = item_price_1 * item_quantity_1\n",
    "\n",
    "# Aplica el descuento del 10% si la cantidad es superior a 5\n",
    "if item_quantity_1 > 5:\n",
    "    item_total_1 *= 0.9\n",
    "\n",
    "# Calcula el total para el segundo artículo\n",
    "item_total_2 = item_price_2 * item_quantity_2\n",
    "\n",
    "# Aplica el descuento del 10% si la cantidad es superior a 5\n",
    "if item_quantity_2 > 5:\n",
    "    item_total_2 *= 0.9\n",
    "\n",
    "# Calcula el total para el tercer artículo\n",
    "item_total_3 = item_price_3 * item_quantity_3\n",
    "\n",
    "# Aplica el descuento del 10% si la cantidad es superior a 5\n",
    "if item_quantity_3 > 5:\n",
    "    item_total_3 *= 0.9\n"
   ]
  },
  {
   "cell_type": "code",
   "execution_count": 55,
   "metadata": {},
   "outputs": [
    {
     "name": "stdout",
     "output_type": "stream",
     "text": [
      "360.0\n",
      "30.0\n",
      "54.0\n"
     ]
    }
   ],
   "source": [
    "# escribe aquí tu código para definir una función\n",
    "def calculate_total_price(price, quantity):\n",
    "  total = price * quantity\n",
    "  if quantity > 5:\n",
    "    total *=  0.9\n",
    "  return total\n",
    "\n",
    "\n",
    "# Define los precios y la cantidad de los tres artículos\n",
    "item_price_1 = 20.0\n",
    "item_quantity_1 = 20\n",
    "\n",
    "item_price_2 = 30.0\n",
    "item_quantity_2 = 1\n",
    "\n",
    "item_price_3 = 10.0\n",
    "item_quantity_3 = 6\n",
    "\n",
    "\n",
    "# Llama a la función para cada artículo y almacena el resultado en una variable\n",
    "item_total_1 = calculate_total_price(item_price_1 , item_quantity_1)\n",
    "item_total_2 = calculate_total_price(item_price_2 , item_quantity_2)\n",
    "item_total_3 = calculate_total_price(item_price_3 , item_quantity_3)\n",
    "\n",
    "\n",
    "# Imprime el precio total de cada artículo del carrito\n",
    "print(item_total_1)\n",
    "print(item_total_2)\n",
    "print(item_total_3)\n"
   ]
  },
  {
   "cell_type": "markdown",
   "metadata": {},
   "source": [
    "## **FUNCIONES DE FILTRO**\n",
    "\n",
    "Anteriormente, utilizaste el bucle for y las sentencias condicionales con el fin de crear un filtro para tu tabla de películas. Este filtro tenía que devolver películas con una duración superior a 180 min:"
   ]
  },
  {
   "cell_type": "code",
   "execution_count": 56,
   "metadata": {},
   "outputs": [
    {
     "name": "stdout",
     "output_type": "stream",
     "text": [
      "[\"Schindler's List\", 'USA', 1993, 'drama', 195, 8.818]\n",
      "['The Lord of the Rings: The Return of the King', 'New Zealand', 2003, 'fantasy, adventure, drama', 201, 8.625]\n"
     ]
    }
   ],
   "source": [
    "movies_info = [\n",
    "    ['The Shawshank Redemption', 'USA', 1994, 'drama', 142, 9.111],\n",
    "    ['The Godfather', 'USA', 1972, 'drama, crime', 175, 8.730],\n",
    "    ['The Dark Knight', 'USA', 2008, 'fantasy, action, thriller', 152, 8.499],\n",
    "    [\"Schindler's List\", 'USA', 1993, 'drama', 195, 8.818],\n",
    "    ['The Lord of the Rings: The Return of the King', 'New Zealand', 2003, 'fantasy, adventure, drama', 201, 8.625],\n",
    "    ['Pulp Fiction', 'USA', 1994, 'thriller, comedy, crime', 154, 8.619],\n",
    "    ['The Good, the Bad and the Ugly', 'Italy', 1966, 'western', 178, 8.521],\n",
    "    ['Fight Club', 'USA', 1999, 'thriller, drama, crime', 139, 8.644],\n",
    "    ['Harakiri', 'Japan', 1962, 'drama, action, history', 133, 8.106],\n",
    "    ['Good Will Hunting', 'USA', 1997, 'drama, romance', 126, 8.077]\n",
    "]\n",
    "\n",
    "movies_filtered = [] # lista vacía para almacenar el resultado\n",
    "\n",
    "for movie in movies_info: # recorre en bucle las filas de la tabla original\n",
    "    if movie[4] > 180: # si una película dura más de 180 minutos\n",
    "        movies_filtered.append(movie) # agrega la fila a movies_filtered\n",
    "\n",
    "for movie in movies_filtered: # muestra el contenido de movies_filtered\n",
    "    print(movie) "
   ]
  },
  {
   "cell_type": "markdown",
   "metadata": {},
   "source": [
    "Vamos a mejorar nuestra solución con la ayuda de las funciones. Para ello, podemos tomar fragmentos de código, como el de arriba, y crear una función que sirva para cualquier consulta, no para una sola.\n",
    "\n",
    "Vamos a hacer que nuestro código sea más simple y flexible, para que podamos manejar toneladas de consultas en el futuro sin tener que copiar y pegar o reescribir nada.\n",
    "\n",
    "Dividiremos el código en bloques lógicos y crearemos dos funciones:\n",
    "\n",
    "- Una para filtrar las películas.\n",
    "- Otra para imprimir los nombres de las películas que obtuvimos después de filtrar."
   ]
  },
  {
   "cell_type": "code",
   "execution_count": 57,
   "metadata": {},
   "outputs": [
    {
     "name": "stdout",
     "output_type": "stream",
     "text": [
      "[\"Schindler's List\", 'USA', 1993, 'drama', 195, 8.818]\n",
      "['The Lord of the Rings: The Return of the King', 'New Zealand', 2003, 'fantasy, adventure, drama', 201, 8.625]\n"
     ]
    }
   ],
   "source": [
    "# función que devuelve una copia filtrada de una lista anidada\n",
    "def filter_by_timing(data, target_duration): \n",
    "    filtered_result = []\n",
    "    for row in data:\n",
    "        if row[4] > target_duration:\n",
    "            filtered_result.append(row)\n",
    "    return filtered_result \n",
    "# devuelve los resultados filtrados\n",
    "\n",
    "# esta función acepta la lista anidada como entrada y la muestra, sin devolver nada\n",
    "def print_movie_info(data):\n",
    "    for movie in data:\n",
    "        print(movie)\n",
    "\n",
    "# llamemos a la función sobre movies_info:\n",
    "\n",
    "movies_info = [\n",
    "    ['The Shawshank Redemption', 'USA', 1994, 'drama', 142, 9.111],\n",
    "    ['The Godfather', 'USA', 1972, 'drama, crime', 175, 8.730],\n",
    "    ['The Dark Knight', 'USA', 2008, 'fantasy, action, thriller', 152, 8.499],\n",
    "    [\"Schindler's List\", 'USA', 1993, 'drama', 195, 8.818],\n",
    "    ['The Lord of the Rings: The Return of the King', 'New Zealand', 2003, 'fantasy, adventure, drama', 201, 8.625],\n",
    "    ['Pulp Fiction', 'USA', 1994, 'thriller, comedy, crime', 154, 8.619],\n",
    "    ['The Good, the Bad and the Ugly', 'Italy', 1966, 'western', 178, 8.521],\n",
    "    ['Fight Club', 'USA', 1999, 'thriller, drama, crime', 139, 8.644],\n",
    "    ['Harakiri', 'Japan', 1962, 'drama, action, history', 133, 8.106],\n",
    "    ['Good Will Hunting', 'USA', 1997, 'drama, romance', 126, 8.077]\n",
    "]\n",
    "\n",
    "movies_filtered = filter_by_timing(movies_info, 180)\n",
    "print_movie_info(movies_filtered)"
   ]
  },
  {
   "cell_type": "markdown",
   "metadata": {},
   "source": [
    "### **Ejercicios**\n",
    "\n",
    "**Ejercicio 1**\n",
    "\n",
    "Utiliza las funciones para filtrar las películas de más de 140 minutos de duración e imprimir el resultado."
   ]
  },
  {
   "cell_type": "code",
   "execution_count": 58,
   "metadata": {},
   "outputs": [
    {
     "name": "stdout",
     "output_type": "stream",
     "text": [
      "['The Shawshank Redemption', 'USA', 1994, 'drama', 142, 9.111]\n",
      "['The Godfather', 'USA', 1972, 'drama, crime', 175, 8.73]\n",
      "['The Dark Knight', 'USA', 2008, 'fantasy, action, thriller', 152, 8.499]\n",
      "[\"Schindler's List\", 'USA', 1993, 'drama', 195, 8.818]\n",
      "['The Lord of the Rings: The Return of the King', 'New Zealand', 2003, 'fantasy, adventure, drama', 201, 8.625]\n",
      "['Pulp Fiction', 'USA', 1994, 'thriller, comedy, crime', 154, 8.619]\n",
      "['The Good, the Bad and the Ugly', 'Italy', 1966, 'western', 178, 8.521]\n"
     ]
    }
   ],
   "source": [
    "def filter_by_timing(data, target_duration): \n",
    "    filtered_result = []\n",
    "    for row in data:\n",
    "        if row[4] > target_duration:\n",
    "            filtered_result.append(row)\n",
    "    return filtered_result \n",
    "\n",
    "def print_movie_info(data):\n",
    "    for movie in data:\n",
    "        print(movie)\n",
    "\n",
    "movies_info = [\n",
    "    ['The Shawshank Redemption', 'USA', 1994, 'drama', 142, 9.111],\n",
    "    ['The Godfather', 'USA', 1972, 'drama, crime', 175, 8.730],\n",
    "    ['The Dark Knight', 'USA', 2008, 'fantasy, action, thriller', 152, 8.499],\n",
    "    [\"Schindler's List\", 'USA', 1993, 'drama', 195, 8.818],\n",
    "    ['The Lord of the Rings: The Return of the King', 'New Zealand', 2003, 'fantasy, adventure, drama', 201, 8.625],\n",
    "    ['Pulp Fiction', 'USA', 1994, 'thriller, comedy, crime', 154, 8.619],\n",
    "    ['The Good, the Bad and the Ugly', 'Italy', 1966, 'western', 178, 8.521],\n",
    "    ['Fight Club', 'USA', 1999, 'thriller, drama, crime', 139, 8.644],\n",
    "    ['Harakiri', 'Japan', 1962, 'drama, action, history', 133, 8.106],\n",
    "    ['Good Will Hunting', 'USA', 1997, 'drama, romance', 126, 8.077]\n",
    "]\n",
    "\n",
    "duration=filter_by_timing(movies_info,140)\n",
    "print_movie_info(duration)"
   ]
  },
  {
   "cell_type": "markdown",
   "metadata": {},
   "source": [
    "### **Ejercicio 2**\n",
    "\n",
    "Basándote en la función anterior, escribe una nueva filter_by_year() que filtre las películas por año de estreno. La nueva función debe tener dos parámetros:\n",
    "\n",
    "-data=: datos sobre las películas.\n",
    "\n",
    "-year=: criterio de filtrado.\n",
    "\n",
    "La función debe devolver una lista anidada que solo contenga películas estrenadas después de year=."
   ]
  },
  {
   "cell_type": "code",
   "execution_count": 59,
   "metadata": {},
   "outputs": [
    {
     "name": "stdout",
     "output_type": "stream",
     "text": [
      "['The Shawshank Redemption', 'USA', 1994, 'drama', 142, 9.111]\n",
      "['The Dark Knight', 'USA', 2008, 'fantasy, action, thriller', 152, 8.499]\n",
      "[\"Schindler's List\", 'USA', 1993, 'drama', 195, 8.818]\n",
      "['The Lord of the Rings: The Return of the King', 'New Zealand', 2003, 'fantasy, adventure, drama', 201, 8.625]\n",
      "['Pulp Fiction', 'USA', 1994, 'thriller, comedy, crime', 154, 8.619]\n",
      "['Fight Club', 'USA', 1999, 'thriller, drama, crime', 139, 8.644]\n",
      "['Good Will Hunting', 'USA', 1997, 'drama, romance', 126, 8.077]\n"
     ]
    }
   ],
   "source": [
    "# esta función imprime la tabla filtrada\n",
    "def print_movie_info(data):\n",
    "    for movie in data:\n",
    "        print(movie)\n",
    "\n",
    "def filter_by_year(data,year):\n",
    "    filtered_movie = []\n",
    "    for row in data:\n",
    "        if row[2]  > year:\n",
    "            filtered_movie.append(row)\n",
    "    return filtered_movie\n",
    "# define la función filter_by_year aquí\n",
    "\n",
    "movies_info = [\n",
    "    ['The Shawshank Redemption', 'USA', 1994, 'drama', 142, 9.111],\n",
    "    ['The Godfather', 'USA', 1972, 'drama, crime', 175, 8.730],\n",
    "    ['The Dark Knight', 'USA', 2008, 'fantasy, action, thriller', 152, 8.499],\n",
    "    [\"Schindler's List\", 'USA', 1993, 'drama', 195, 8.818],\n",
    "    ['The Lord of the Rings: The Return of the King', 'New Zealand', 2003, 'fantasy, adventure, drama', 201, 8.625],\n",
    "    ['Pulp Fiction', 'USA', 1994, 'thriller, comedy, crime', 154, 8.619],\n",
    "    ['The Good, the Bad and the Ugly', 'Italy', 1966, 'western', 178, 8.521],\n",
    "    ['Fight Club', 'USA', 1999, 'thriller, drama, crime', 139, 8.644],\n",
    "    ['Harakiri', 'Japan', 1962, 'drama, action, history', 133, 8.106],\n",
    "    ['Good Will Hunting', 'USA', 1997, 'drama, romance', 126, 8.077]\n",
    "]\n",
    "\n",
    "movies_filtered = filter_by_year(movies_info, 1990)\n",
    "print_movie_info(movies_filtered)"
   ]
  },
  {
   "cell_type": "code",
   "execution_count": 60,
   "metadata": {},
   "outputs": [],
   "source": [
    "#REPASANDO\n",
    "\n",
    "# función que extrae el año y lo compara\n",
    "def filter_by_year(data, year):\n",
    "    filtered_result = []\n",
    "    for row in data:\n",
    "        if row[2] > year:\n",
    "            filtered_result.append(row)\n",
    "    return filtered_result\n",
    "\n",
    "# función que imprime solamente el nombre de la película\n",
    "def print_movie_info(data):\n",
    "    for movie in data:\n",
    "        print(movie)"
   ]
  },
  {
   "cell_type": "markdown",
   "metadata": {},
   "source": [
    "### **PARÁMETROS Y VALORES PREDETERMINADOS**"
   ]
  },
  {
   "cell_type": "code",
   "execution_count": 61,
   "metadata": {},
   "outputs": [],
   "source": [
    "# función que extrae el año y lo compara\n",
    "def filter_by_year(data, year):\n",
    "    filtered_result = []\n",
    "    for row in data:\n",
    "        if row[2] > year:\n",
    "            filtered_result.append(row)\n",
    "    return filtered_result\n",
    "\n",
    "# función que imprime solamente el nombre de la película\n",
    "def print_movie_info(data):\n",
    "    for movie in data:\n",
    "        print(movie)"
   ]
  },
  {
   "cell_type": "markdown",
   "metadata": {},
   "source": [
    "Imagina que estás en una cafetería y te pides una tortilla, ¿crees que el camarero se confundirá si no especificas cuántos huevos quieres? Lo más probable es que te tomen el pedido con un número \"estándar\" de huevos. Esto es lo mismo que un parámetro por defecto.\n",
    "Así es como podemos agregar un valor predeterminado a este parámetro para nuestro código:"
   ]
  },
  {
   "cell_type": "code",
   "execution_count": 62,
   "metadata": {},
   "outputs": [
    {
     "name": "stdout",
     "output_type": "stream",
     "text": [
      "¡La tortilla está lista! Huevos utilizados: 7\n"
     ]
    }
   ],
   "source": [
    "# añade un valor por defecto para eggs_number al parámetro\n",
    "\n",
    "def omelet(eggs_number= 7):\n",
    "    result = '¡La tortilla está lista! Huevos utilizados: ' + str(eggs_number)\n",
    "    return result\n",
    "\n",
    "print(omelet())"
   ]
  },
  {
   "cell_type": "markdown",
   "metadata": {},
   "source": [
    "**¡Importante**\n",
    "\n",
    "**Al definir una función, los parámetros opcionales deben ir después de los obligatorios, aquellos que no tienen un valor por defecto asignado. En caso contrario, obtendrás un error cuando llames a la función.**"
   ]
  },
  {
   "cell_type": "markdown",
   "metadata": {},
   "source": [
    "Veamos cómo debería ser en el ejemplo siguiente, que tiene dos parámetros:\n",
    "\n",
    "- cheese (queso), que es un parámetro obligatorio.\n",
    "- eggs_number (número de huevos) que es un parámetro opcional. Tiene un valor predeterminado de 2."
   ]
  },
  {
   "cell_type": "code",
   "execution_count": 63,
   "metadata": {},
   "outputs": [
    {
     "name": "stdout",
     "output_type": "stream",
     "text": [
      "¡La tortilla está lista! Huevos utilizados: 2, sin queso\n"
     ]
    }
   ],
   "source": [
    "# añade un valor por defecto para eggs_number al parámetro\n",
    "def omelet(cheese, eggs_number=2):\n",
    "    result = '¡La tortilla está lista! Huevos utilizados: ' + str(eggs_number)\n",
    "    if cheese == True:\n",
    "        result = result + ', con queso'\n",
    "    else:\n",
    "        result = result + ', sin queso'\n",
    "    return result\n",
    "\n",
    "print(omelet(False))"
   ]
  },
  {
   "cell_type": "markdown",
   "metadata": {},
   "source": [
    "¡Llegó el momento de practicar!\n",
    "\n",
    "Escribe una función, filter_by_genre(), con dos parámetros:\n",
    "\n",
    "-  genre=: nombre del género, 'drama' como predeterminado.\n",
    "- data=: datos sobre las películas, sin valor por defecto.\n",
    "\n",
    "La función debe devolver una lista anidada que solo contenga sublistas de aquellas películas cuyo género esté en genre=."
   ]
  },
  {
   "cell_type": "code",
   "execution_count": 64,
   "metadata": {},
   "outputs": [
    {
     "name": "stdout",
     "output_type": "stream",
     "text": [
      "['The Shawshank Redemption', 'USA', 1994, 'drama', 142, 9.111]\n",
      "['The Godfather', 'USA', 1972, 'drama, crime', 175, 8.73]\n",
      "[\"Schindler's List\", 'USA', 1993, 'drama', 195, 8.818]\n",
      "['The Lord of the Rings: The Return of the King', 'New Zealand', 2003, 'fantasy, adventure, drama', 201, 8.625]\n",
      "['Fight Club', 'USA', 1999, 'thriller, drama, crime', 139, 8.644]\n",
      "['Harakiri', 'Japan', 1962, 'drama, action, history', 133, 8.106]\n",
      "['Good Will Hunting', 'USA', 1997, 'drama, romance', 126, 8.077]\n"
     ]
    }
   ],
   "source": [
    "# esta función imprime las tablas filtradas\n",
    "def print_movie_info(data):\n",
    "    for movie in data:\n",
    "        print(movie)\n",
    "\n",
    "\n",
    "# define la función filter_by_genre() aquí\n",
    "def filter_by_genre(data, genre=\"drama\"):\n",
    "    list_result = []\n",
    "    for row in data:\n",
    "        if genre in row[3]:  # Verifica si el género está presente en la cadena de géneros de la película\n",
    "            list_result.append(row)\n",
    "    return list_result  # Devuelve la lista filtrada\n",
    "\n",
    "\n",
    "\n",
    "\n",
    "\n",
    "\n",
    "movies_info = [\n",
    "    ['The Shawshank Redemption', 'USA', 1994, 'drama', 142, 9.111],\n",
    "    ['The Godfather', 'USA', 1972, 'drama, crime', 175, 8.730],\n",
    "    ['The Dark Knight', 'USA', 2008, 'fantasy, action, thriller', 152, 8.499],\n",
    "    [\"Schindler's List\", 'USA', 1993, 'drama', 195, 8.818],\n",
    "    ['The Lord of the Rings: The Return of the King', 'New Zealand', 2003, 'fantasy, adventure, drama', 201, 8.625],\n",
    "    ['Pulp Fiction', 'USA', 1994, 'thriller, comedy, crime', 154, 8.619],\n",
    "    ['The Good, the Bad and the Ugly', 'Italy', 1966, 'western', 178, 8.521],\n",
    "    ['Fight Club', 'USA', 1999, 'thriller, drama, crime', 139, 8.644],\n",
    "    ['Harakiri', 'Japan', 1962, 'drama, action, history', 133, 8.106],\n",
    "    ['Good Will Hunting', 'USA', 1997, 'drama, romance', 126, 8.077]\n",
    "]\n",
    "\n",
    "# a continuación ejecutamos dos funciones para obtener resultados\n",
    "movies_filtered = filter_by_genre(movies_info)\n",
    "print_movie_info(movies_filtered)"
   ]
  },
  {
   "cell_type": "markdown",
   "metadata": {},
   "source": [
    "### **Argumentos posicionales y de palabra clave**\n",
    "\n",
    "Ahora conocemos los parámetros obligatorios y opcionales (o predeterminados) de una función. Recuerda que el parámetro es lo que pasamos entre los paréntesis de una función cuando la creamos. Los parámetros obligatorios deben pasarse para ejecutar una función, mientras que los opcionales, si no se pasan, serán sustituidos por valores por defecto.\n",
    "\n",
    "Introducción\n",
    "\n",
    "En esta lección, vamos a analizar dos formas de pasar argumentos a una función. La diferencia clave entre los parámetros y los argumentos es que un parámetro es la variable que aparece entre paréntesis en la definición de la función. Un argumento es el valor que se envía a la función al llamarla.\n",
    "\n",
    "Como hemos visto antes, pasar argumentos a una función es un aspecto crucial de la programación, ya que permite a la función recibir valores específicos sobre los que puede operar."
   ]
  },
  {
   "cell_type": "code",
   "execution_count": 65,
   "metadata": {},
   "outputs": [
    {
     "name": "stdout",
     "output_type": "stream",
     "text": [
      "¡La tortilla está lista! Huevos utilizados: 3, con queso\n"
     ]
    }
   ],
   "source": [
    "# añade un valor por defecto para eggs_number al parámetro\n",
    "def omelet(cheese, eggs_number=2):\n",
    "    result = '¡La tortilla está lista! Huevos utilizados: ' + str(eggs_number)\n",
    "    if cheese == True:\n",
    "        result = result + ', con queso'\n",
    "    else:\n",
    "        result = result + ', sin queso'\n",
    "    return result\n",
    "\n",
    "# llamar a la función e imprimir el resultado\n",
    "print(omelet(True, 3))"
   ]
  },
  {
   "cell_type": "code",
   "execution_count": 66,
   "metadata": {},
   "outputs": [
    {
     "name": "stdout",
     "output_type": "stream",
     "text": [
      "¡La tortilla está lista! Huevos utilizados: True, sin queso\n"
     ]
    }
   ],
   "source": [
    "def omelet(cheese, eggs_number=2):\n",
    "    result = '¡La tortilla está lista! Huevos utilizados: ' + str(eggs_number)\n",
    "    if cheese == True:\n",
    "        result = result + ', con queso'\n",
    "    else:\n",
    "        result = result + ', sin queso'\n",
    "    return result\n",
    "\n",
    "# llamar a la función e imprimir el resultado\n",
    "print(omelet(3, True))"
   ]
  },
  {
   "cell_type": "code",
   "execution_count": 67,
   "metadata": {},
   "outputs": [
    {
     "name": "stdout",
     "output_type": "stream",
     "text": [
      "¡La tortilla está lista! Huevos utilizados: 3, con queso\n"
     ]
    }
   ],
   "source": [
    "# añade un valor por defecto para eggs_number al parámetro\n",
    "def omelet(cheese, eggs_number=2):\n",
    "    result = '¡La tortilla está lista! Huevos utilizados: ' + str(eggs_number)\n",
    "    if cheese == True:\n",
    "        result = result + ', con queso'\n",
    "    else:\n",
    "        result = result + ', sin queso'\n",
    "    return result\n",
    "\n",
    "# llamar a la función e imprimir el resultado\n",
    "print(omelet(eggs_number=3, cheese=True))"
   ]
  },
  {
   "cell_type": "markdown",
   "metadata": {},
   "source": [
    "### **Combinación de argumentos posicionales y de palabra clave**\n"
   ]
  },
  {
   "cell_type": "code",
   "execution_count": 68,
   "metadata": {},
   "outputs": [
    {
     "name": "stdout",
     "output_type": "stream",
     "text": [
      "2\n"
     ]
    }
   ],
   "source": [
    "# definiendo la función\n",
    "def multiplication(first_number, second_number): \n",
    "    result = first_number * second_number\n",
    "    print(result)\n",
    "\n",
    "# llamando a la función\n",
    "multiplication(2, second_number=1)"
   ]
  },
  {
   "cell_type": "markdown",
   "metadata": {},
   "source": [
    "Aquí, la función multiplication() toma dos argumentos y los multiplica. El parámetro first_number= obtuvo su valor de un argumento posicional, mientras que second_number= lo obtuvo de un argumento de palabra clave.\n",
    "\n",
    "Estas combinaciones son especialmente útiles cuando la función tiene parámetros obligatorios y varios opcionales.\n",
    "\n",
    "Pero si colocas los argumentos de palabra clave antes que los posicionales obtendrás un error:"
   ]
  },
  {
   "cell_type": "code",
   "execution_count": 69,
   "metadata": {},
   "outputs": [
    {
     "ename": "SyntaxError",
     "evalue": "positional argument follows keyword argument (4050525956.py, line 7)",
     "output_type": "error",
     "traceback": [
      "\u001b[1;36m  Cell \u001b[1;32mIn[69], line 7\u001b[1;36m\u001b[0m\n\u001b[1;33m    multiplication(second_number=1, 2)\u001b[0m\n\u001b[1;37m                                     ^\u001b[0m\n\u001b[1;31mSyntaxError\u001b[0m\u001b[1;31m:\u001b[0m positional argument follows keyword argument\n"
     ]
    }
   ],
   "source": [
    "# definiendo la función\n",
    "def multiplication(first_number, second_number): \n",
    "    result = first_number * second_number\n",
    "    print(result)\n",
    "\n",
    "# llamando a la función\n",
    "multiplication(second_number=1, 2)"
   ]
  },
  {
   "cell_type": "markdown",
   "metadata": {},
   "source": [
    "Vamos a incluir dos parámetros más en la definición de la función multiplication():\n",
    "\n",
    "- message= es una cadena con el texto de mensaje a mostrar;\n",
    "- show_message= es un valor booleano que determina si se mostrará el mensaje.\n",
    " \n",
    "Haremos que nuestro programa muestre el mensaje si show_message es True. Ejecuta el siguiente código para ver cómo funciona."
   ]
  },
  {
   "cell_type": "code",
   "execution_count": null,
   "metadata": {},
   "outputs": [
    {
     "name": "stdout",
     "output_type": "stream",
     "text": [
      "Result:\n",
      "4\n"
     ]
    }
   ],
   "source": [
    "# definiendo la función\n",
    "def multiplication(first_number, second_number, message=\"Result:\", show_message=True):\n",
    "    result = first_number * second_number\n",
    "\n",
    "    # mostrando el mensaje predeterminado\n",
    "    if show_message == True:\n",
    "        print(message)\n",
    "    print(result)\n",
    "\n",
    "\n",
    "# llamando a la función\n",
    "multiplication(2, 2)"
   ]
  },
  {
   "cell_type": "markdown",
   "metadata": {},
   "source": [
    "Digamos que no queremos mostrar el texto. En este caso, simplemente tendremos que establecer el parámetro show_message= en False cuando llamemos a la función:"
   ]
  },
  {
   "cell_type": "code",
   "execution_count": null,
   "metadata": {},
   "outputs": [
    {
     "name": "stdout",
     "output_type": "stream",
     "text": [
      "4\n"
     ]
    }
   ],
   "source": [
    "# definiendo la función\n",
    "def multiplication(first_number, second_number, message=\"Result:\", show_message=True):\n",
    "    result = first_number * second_number\n",
    "\n",
    "    if show_message == True:\n",
    "        print(message)\n",
    "    print(result)\n",
    "\n",
    "\n",
    "# desactivando el mensaje de texto\n",
    "multiplication(2, 2, show_message=False)"
   ]
  },
  {
   "cell_type": "markdown",
   "metadata": {},
   "source": [
    "Si llamamos a una función utilizando solamente los argumentos de palabra clave, la escritura de los parámetros obligatorios nos llevará un poco más de tiempo:"
   ]
  },
  {
   "cell_type": "code",
   "execution_count": null,
   "metadata": {},
   "outputs": [
    {
     "ename": "TypeError",
     "evalue": "multiplication() got an unexpected keyword argument 'show_message'",
     "output_type": "error",
     "traceback": [
      "\u001b[1;31m---------------------------------------------------------------------------\u001b[0m",
      "\u001b[1;31mTypeError\u001b[0m                                 Traceback (most recent call last)",
      "\u001b[1;32mc:\\Users\\User\\Desktop\\Learning_Python\\Learning_Python\\TripleTen\\Sprint 2\\Funciones.ipynb Cell 44\u001b[0m line \u001b[0;36m1\n\u001b[1;32m----> <a href='vscode-notebook-cell:/c%3A/Users/User/Desktop/Learning_Python/Learning_Python/TripleTen/Sprint%202/Funciones.ipynb#X64sZmlsZQ%3D%3D?line=0'>1</a>\u001b[0m multiplication(first_number\u001b[39m=\u001b[39;49m\u001b[39m2\u001b[39;49m, second_number\u001b[39m=\u001b[39;49m\u001b[39m2\u001b[39;49m, show_message\u001b[39m=\u001b[39;49m\u001b[39mFalse\u001b[39;49;00m)\n",
      "\u001b[1;31mTypeError\u001b[0m: multiplication() got an unexpected keyword argument 'show_message'"
     ]
    }
   ],
   "source": [
    "multiplication(first_number=2, second_number=2, show_message=False)"
   ]
  },
  {
   "cell_type": "markdown",
   "metadata": {},
   "source": [
    "En cambio, si utilizamos únicamente los argumentos posicionales, tendremos que enumerar los cuatro parámetros, aunque solo queramos definir el primero, el segundo y el cuarto. \n"
   ]
  },
  {
   "cell_type": "code",
   "execution_count": null,
   "metadata": {},
   "outputs": [],
   "source": [
    "multiplication(2, 2, 'Result:', False)"
   ]
  },
  {
   "cell_type": "markdown",
   "metadata": {},
   "source": [
    "### Practicando"
   ]
  },
  {
   "cell_type": "markdown",
   "metadata": {},
   "source": [
    "Aquí tenemos la función que eleva al cuadrado un valor pasado e imprime el resultado si se solicita."
   ]
  },
  {
   "cell_type": "code",
   "execution_count": 70,
   "metadata": {},
   "outputs": [],
   "source": [
    "def square_value(x, display=True):\n",
    "    result = x ** 2\n",
    "    if display:\n",
    "        print(f'Squared value is {2}')\n",
    "    return result"
   ]
  },
  {
   "cell_type": "markdown",
   "metadata": {},
   "source": [
    "## **Variables globales y locales**\n",
    "\n",
    "Al escribir funciones en Python es importante entender la diferencia entre las variables locales y las globales. Las variables locales permiten organizar el código y evitar conflictos de nombres. Las variables globales, en cambio, pueden ser útiles cuando necesitas compartir datos entre diferentes partes de tu código.\n",
    "\n",
    "**VARIABLES LOCALES**\n",
    "\n",
    "Las variables locales se definen dentro de una función y pueden accederse únicamente dentro de la misma. Se crean cuando se llama a la función y se destruyen cuando esta termina de ejecutarse. Las variables locales solo se pueden acceder dentro del scope de la función en la que están definidas. Esto significa que si una variable se define dentro de una función, es imposible acceder a ella fuera de esa función.\n",
    "\n",
    "Aquí está nuestra función omelet que utiliza variables locales:\n"
   ]
  },
  {
   "cell_type": "code",
   "execution_count": null,
   "metadata": {},
   "outputs": [],
   "source": [
    "def omelet(cheese, eggs_number=2):\n",
    "    result = '¡La tortilla está lista! Huevos utilizados: ' + str(eggs_number)\n",
    "    if cheese == True:\n",
    "        result = result + ', con queso'\n",
    "    else:\n",
    "        result = result + ', sin queso'\n",
    "    return result\n",
    "\n",
    "print(omelet(eggs_number=3, cheese=True))\n"
   ]
  },
  {
   "cell_type": "markdown",
   "metadata": {},
   "source": [
    "En este ejemplo, result es una variable local. Se define dentro de la función omelet y solo se puede acceder a ella dentro de esa función. Cuando se llama a omelet, se crea result y se le asigna una cadena. La función devuelve el valor de result. \n",
    "\n",
    "Si intentas imprimirlo desde fuera de la función, se producirá un error NameError: name 'result' is not defined:"
   ]
  },
  {
   "cell_type": "code",
   "execution_count": 71,
   "metadata": {},
   "outputs": [
    {
     "ename": "NameError",
     "evalue": "name 'result' is not defined",
     "output_type": "error",
     "traceback": [
      "\u001b[1;31m---------------------------------------------------------------------------\u001b[0m",
      "\u001b[1;31mNameError\u001b[0m                                 Traceback (most recent call last)",
      "\u001b[1;32mc:\\Users\\User\\Desktop\\Learning_Python\\Learning_Python\\TripleTen\\Sprint 2\\Funciones.ipynb Cell 53\u001b[0m line \u001b[0;36m1\n\u001b[0;32m      <a href='vscode-notebook-cell:/c%3A/Users/User/Desktop/Learning_Python/Learning_Python/TripleTen/Sprint%202/Funciones.ipynb#Y110sZmlsZQ%3D%3D?line=6'>7</a>\u001b[0m     \u001b[39mreturn\u001b[39;00m result\n\u001b[0;32m      <a href='vscode-notebook-cell:/c%3A/Users/User/Desktop/Learning_Python/Learning_Python/TripleTen/Sprint%202/Funciones.ipynb#Y110sZmlsZQ%3D%3D?line=8'>9</a>\u001b[0m omelet(eggs_number\u001b[39m=\u001b[39m\u001b[39m3\u001b[39m, cheese\u001b[39m=\u001b[39m\u001b[39mTrue\u001b[39;00m)\n\u001b[1;32m---> <a href='vscode-notebook-cell:/c%3A/Users/User/Desktop/Learning_Python/Learning_Python/TripleTen/Sprint%202/Funciones.ipynb#Y110sZmlsZQ%3D%3D?line=9'>10</a>\u001b[0m \u001b[39mprint\u001b[39m(result)\n",
      "\u001b[1;31mNameError\u001b[0m: name 'result' is not defined"
     ]
    }
   ],
   "source": [
    "def omelet(cheese, eggs_number=2):\n",
    "    result = '¡La tortilla está lista! Huevos utilizados: ' + str(eggs_number)\n",
    "    if cheese == True:\n",
    "        result = result + ', con queso'\n",
    "    else:\n",
    "        result = result + ', sin queso'\n",
    "    return result\n",
    "\n",
    "omelet(eggs_number=3, cheese=True)\n",
    "print(result)\n"
   ]
  },
  {
   "cell_type": "markdown",
   "metadata": {},
   "source": [
    "**Variables globales**\n",
    "\n",
    "En cambio, se puede acceder a las variables globales desde cualquier parte del código, incluso desde dentro de las funciones. Se definen fuera de cualquier función y pueden utilizarse en todo el programa. Se puede acceder a las variables globales y modificarlas desde cualquier parte del programa. Sin embargo, es importante utilizar las variables globales con precaución, ya que pueden dificultar la comprensión y el mantenimiento del código.\n",
    "\n",
    "Hagamos unas tortillas \"globales\" con 50 ml de leche \"global\":"
   ]
  },
  {
   "cell_type": "code",
   "execution_count": 74,
   "metadata": {},
   "outputs": [
    {
     "name": "stdout",
     "output_type": "stream",
     "text": [
      "¡La tortilla está lista! Huevos utilizados: 3, con queso y leche (ml): 50\n"
     ]
    }
   ],
   "source": [
    "milk = 50 #declarada como una variable global\n",
    "\n",
    "def omelet(cheese, eggs_number=2):\n",
    "    result = '¡La tortilla está lista! Huevos utilizados: ' + str(eggs_number)\n",
    "    if cheese == True:\n",
    "        result = result + ', con queso'\n",
    "    else:\n",
    "        result = result + ', sin queso'\n",
    "    result = result + ' y leche (ml): ' + str(milk) #accedemos a la variable global\n",
    "    print(result)\n",
    "\n",
    "omelet(eggs_number=3, cheese=True)"
   ]
  },
  {
   "cell_type": "markdown",
   "metadata": {},
   "source": [
    "### **Conjunto de variables locales y globales**\n",
    "\n",
    "Es posible utilizar variables locales y globales con el mismo nombre dentro de la misma función. En este caso, la variable local tiene prioridad sobre la variable global."
   ]
  },
  {
   "cell_type": "code",
   "execution_count": 75,
   "metadata": {},
   "outputs": [
    {
     "name": "stdout",
     "output_type": "stream",
     "text": [
      "¡La tortilla está lista! Huevos utilizados: 3, con queso\n",
      "¡La tortilla está lista!\n"
     ]
    }
   ],
   "source": [
    "result = '¡La tortilla está lista!' #declarada como una variable global\n",
    "\n",
    "def omelet(cheese, eggs_number=2):\n",
    "    result = '¡La tortilla está lista! Huevos utilizados: ' + str(eggs_number)\n",
    "    if cheese == True:\n",
    "        result = result + ', con queso'\n",
    "    else:\n",
    "        result = result + ', sin queso'\n",
    "    print(result)\n",
    "\n",
    "omelet(eggs_number=3, cheese=True)\n",
    "print(result)"
   ]
  },
  {
   "cell_type": "markdown",
   "metadata": {},
   "source": [
    "En este ejemplo, la función omelet define la variable local result que tiene prioridad sobre la variable global result. Cuando llamamos a la función omelet, esta devuelve el valor de la variable local result. La sentencia print fuera de la función muestra el valor de la variable global result.\n",
    "\n",
    "Al escribir funciones en Python es importante entender la diferencia entre las variables locales y las globales. Las variables locales permiten organizar el código y evitar conflictos de nombres. Las variables globales, en cambio, pueden ser útiles cuando necesitas compartir datos entre diferentes partes de tu código.\n",
    "\n",
    "Ahora, vamos a comprobar si lo has entendido."
   ]
  }
 ],
 "metadata": {
  "kernelspec": {
   "display_name": "Python 3",
   "language": "python",
   "name": "python3"
  },
  "language_info": {
   "codemirror_mode": {
    "name": "ipython",
    "version": 3
   },
   "file_extension": ".py",
   "mimetype": "text/x-python",
   "name": "python",
   "nbconvert_exporter": "python",
   "pygments_lexer": "ipython3",
   "version": "3.11.6"
  }
 },
 "nbformat": 4,
 "nbformat_minor": 2
}
