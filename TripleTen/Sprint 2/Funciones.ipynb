{
 "cells": [
  {
   "cell_type": "markdown",
   "metadata": {},
   "source": [
    "# **FUNCIONES**\n",
    "\n",
    "#### **Sintaxis de funciones**\n",
    "\n",
    "Ahora que hemos hablado de lo que es una función, es hora de intentar construir una.\n",
    "\n",
    "1. Primero viene el encabezado de la función.\n",
    "2. La palabra clave def se utiliza para especificar el nombre de la función.\n",
    "3. Los parámetros se especifican entre paréntesis.\n",
    "4. El encabezado termina con dos puntos.\n",
    "5. A continuación, se define el cuerpo espaciando cada instrucción en cuatro espacios. El cuerpo es el lugar donde se realizan las manipulaciones concretas que le pedimos a una función.\n",
    "6. La palabra clave return indica el valor que devolverá la función cuando esta haya hecho lo que se le pidió."
   ]
  },
  {
   "cell_type": "code",
   "execution_count": 2,
   "metadata": {},
   "outputs": [
    {
     "name": "stdout",
     "output_type": "stream",
     "text": [
      "¡La tortilla está lista! Huevos utilizados: 2\n",
      "¡La tortilla está lista! Huevos utilizados: 3\n"
     ]
    }
   ],
   "source": [
    "def omelet(eggs_number):\n",
    "    result = '¡La tortilla está lista! Huevos utilizados: ' + str(eggs_number)\n",
    "    return result\n",
    "\n",
    "# llamada a la función con 2 huevos, su resultado se asigna a la variable omelet_type\n",
    "omelet_type = omelet(2)\n",
    "print(omelet_type) # imprime el resultado de la instrucción anterior\n",
    "print(omelet(3)) # imprime el resultado de una nueva llamada con 3 huevos"
   ]
  },
  {
   "cell_type": "markdown",
   "metadata": {},
   "source": [
    "### **Uso de funciones para simplificar el codigo**\n",
    "\n",
    "A continuación, vamos a estudiar un caso que utilizaremos a lo largo de esta lección. Una tienda virtual necesita escribir un programa que automatice los descuentos. Si un usuario gasta más de cien dólares en comprar un producto determinado, recibirá un descuento del 5% en ese producto.\n",
    "Dos variables describen cada elemento del pedido:\n",
    "- [number]_item_price es el precio del artículo.\n",
    "- [number]_item_number es la cantidad.\n",
    "\n",
    "Digamos que hay tres artículos en el carrito de un usuario."
   ]
  },
  {
   "cell_type": "code",
   "execution_count": null,
   "metadata": {},
   "outputs": [],
   "source": [
    "first_item_price = 10.0\n",
    "first_item_quantity = 3 \n",
    "\n",
    "second_item_price = 51.0\n",
    "second_item_quantity = 2 # El total suma más de $100. Descuento aplicado\n",
    "\n",
    "third_item_price = 4.0\n",
    "third_item_quantity = 10\n"
   ]
  },
  {
   "cell_type": "markdown",
   "metadata": {},
   "source": [
    "Primero, vamos a hacer este ejercicio sin crear una función.\n",
    "\n",
    "**Sin una función definida por el usuario**\n",
    "\n",
    "Para cada artículo del carrito:\n",
    "\n",
    "- Encuentra el total.\n",
    "\n",
    "- En una sentencia condicional, compara el total con 100.\n",
    "\n",
    "- Si el total es superior a 100, resta el 5% del total.\n",
    "\n",
    "Este es el programa resultante:"
   ]
  }
 ],
 "metadata": {
  "kernelspec": {
   "display_name": "Python 3",
   "language": "python",
   "name": "python3"
  },
  "language_info": {
   "codemirror_mode": {
    "name": "ipython",
    "version": 3
   },
   "file_extension": ".py",
   "mimetype": "text/x-python",
   "name": "python",
   "nbconvert_exporter": "python",
   "pygments_lexer": "ipython3",
   "version": "3.11.6"
  }
 },
 "nbformat": 4,
 "nbformat_minor": 2
}
