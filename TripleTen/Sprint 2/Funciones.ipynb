{
 "cells": [
  {
   "cell_type": "markdown",
   "metadata": {},
   "source": [
    "# **FUNCIONES**\n",
    "\n",
    "#### **Sintaxis de funciones**\n",
    "\n",
    "Ahora que hemos hablado de lo que es una función, es hora de intentar construir una.\n",
    "\n",
    "1. Primero viene el encabezado de la función.\n",
    "2. La palabra clave def se utiliza para especificar el nombre de la función.\n",
    "3. Los parámetros se especifican entre paréntesis.\n",
    "4. El encabezado termina con dos puntos.\n",
    "5. A continuación, se define el cuerpo espaciando cada instrucción en cuatro espacios. El cuerpo es el lugar donde se realizan las manipulaciones concretas que le pedimos a una función.\n",
    "6. La palabra clave return indica el valor que devolverá la función cuando esta haya hecho lo que se le pidió."
   ]
  },
  {
   "cell_type": "code",
   "execution_count": 1,
   "metadata": {},
   "outputs": [],
   "source": []
  }
 ],
 "metadata": {
  "kernelspec": {
   "display_name": "Python 3",
   "language": "python",
   "name": "python3"
  },
  "language_info": {
   "codemirror_mode": {
    "name": "ipython",
    "version": 3
   },
   "file_extension": ".py",
   "mimetype": "text/x-python",
   "name": "python",
   "nbconvert_exporter": "python",
   "pygments_lexer": "ipython3",
   "version": "3.11.6"
  }
 },
 "nbformat": 4,
 "nbformat_minor": 2
}
