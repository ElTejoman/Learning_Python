{
 "cells": [
  {
   "cell_type": "markdown",
   "metadata": {},
   "source": [
    "IF ELSE - SENTENCIAS CONDICIONALES\n",
    "\n",
    "Hay varios tipos de expresiones en Python que devuelven True o False:\n",
    "Expresiones que contienen operadores de comparación: ==, !=, >, <, >=, <=.\n",
    "Expresiones que contienen operadores lógicos: and, or, not.\n",
    "Funciones de predicado.\n"
   ]
  },
  {
   "cell_type": "code",
   "execution_count": 9,
   "metadata": {},
   "outputs": [],
   "source": [
    "#SEGUIREMOS USANDO LA MISMA LISTA\n",
    "\n",
    "movies_info = [\n",
    "    ['The Shawshank Redemption', 'USA', 1994, 'drama', 142, 9.111],\n",
    "    ['The Godfather', 'USA', 1972, 'drama, crime', 175, 8.730],\n",
    "    ['The Dark Knight', 'USA', 2008, 'fantasy, action, thriller', 152, 8.499],\n",
    "    [\"Schindler's List\", 'USA', 1993, 'drama', 195, 8.818],\n",
    "    ['The Lord of the Rings: The Return of the King', 'New Zealand', 2003, 'fantasy, adventure, drama', 201, 8.625],\n",
    "    ['Pulp Fiction', 'USA', 1994, 'thriller, comedy, crime', 154, 8.619],\n",
    "    ['The Good, the Bad and the Ugly', 'Italy', 1966, 'western', 178, 8.521],\n",
    "    ['Fight Club', 'USA', 1999, 'thriller, drama, crime', 139, 8.644],\n",
    "    ['Harakiri', 'Japan', 1962, 'drama, action, history', 133, 8.106],\n",
    "    ['Good Will Hunting', 'USA', 1997, 'drama, romance', 126, 8.077]\n",
    "]"
   ]
  },
  {
   "cell_type": "code",
   "execution_count": 10,
   "metadata": {},
   "outputs": [
    {
     "name": "stdout",
     "output_type": "stream",
     "text": [
      "False\n"
     ]
    }
   ],
   "source": [
    "movie_info = ['Fight Club', 'USA', 1999, 'thriller, drama, crime', 139, 8.644]\n",
    "\n",
    "print(movie_info[2] > 1996 and movie_info[2] < 1998)"
   ]
  },
  {
   "cell_type": "code",
   "execution_count": 11,
   "metadata": {},
   "outputs": [
    {
     "name": "stdout",
     "output_type": "stream",
     "text": [
      "True\n"
     ]
    }
   ],
   "source": [
    "movie_info = ['Fight Club', 'USA', 1999, 'thriller, drama, crime', 139, 8.644]\n",
    "\n",
    "print(movie_info[2] > 1996 or movie_info[2] < 1998)"
   ]
  },
  {
   "cell_type": "markdown",
   "metadata": {},
   "source": [
    "FUNCIONES DE PREDICADO\n",
    "\n",
    "Una función de predicado es cualquier función que devuelve True o False. Por ejemplo, estos son algunos métodos de cadena que comprueban si los caracteres de una cadena cumplen ciertas condiciones:\n",
    "\n",
    "islower() devuelve True si todos los caracteres alfabéticos de la cadena están en minúsculas;\n",
    "\n",
    "isdigit() devuelve True si una cadena contiene solo números;\n",
    "\n",
    "isalpha() devuelve True si una cadena contiene solo letras. Si una cadena contiene signos de puntuación o espacios, devolverá False.\n"
   ]
  },
  {
   "cell_type": "markdown",
   "metadata": {},
   "source": [
    "IF/ELSE\n"
   ]
  },
  {
   "cell_type": "code",
   "execution_count": 12,
   "metadata": {},
   "outputs": [
    {
     "name": "stdout",
     "output_type": "stream",
     "text": [
      "llevar un sombrero\n",
      "¡vamos!\n"
     ]
    }
   ],
   "source": [
    "weather = 'sol'\n",
    "\n",
    "# condicional\n",
    "if weather == 'lluvia':\n",
    "    print('llevar paraguas')\n",
    "else:\n",
    "    print('llevar un sombrero')\n",
    "print('¡vamos!')"
   ]
  },
  {
   "cell_type": "code",
   "execution_count": 13,
   "metadata": {},
   "outputs": [
    {
     "name": "stdout",
     "output_type": "stream",
     "text": [
      "High rating\n"
     ]
    }
   ],
   "source": [
    "#Utiliza una sentencia condicional para comprobar la puntuación de The Godfather. Si es mayor o igual a 8.5, muestra el mensaje 'High rating' (puntuación alta). Si no, muestra 'Average rating' (puntuación media).\n",
    "\n",
    "movie_rating = 8.73 # Puntuación de The Godfather\n",
    "# escribe tu código aquí\n",
    "if movie_rating >= 8.5:\n",
    "  print (\"High rating\")\n",
    "else:\n",
    "  print(\"Average rating\")"
   ]
  },
  {
   "cell_type": "markdown",
   "metadata": {},
   "source": [
    "COMPROBACION DE SUBCADENA\n",
    "\n",
    "Para utilizar este operador, simplemente escribe la subcadena que estás buscando, seguida del operador in, seguido de la cadena más grande dentro de la cual deseas buscar. Si la subcadena está presente dentro de la cadena más grande, el operador devolverá True; de lo contrario, devolverá False.\n"
   ]
  },
  {
   "cell_type": "code",
   "execution_count": 14,
   "metadata": {},
   "outputs": [
    {
     "name": "stdout",
     "output_type": "stream",
     "text": [
      "Aquí estoy yo en el equipo\n"
     ]
    }
   ],
   "source": [
    "equipo = \"Aquí estoy yo en el equipo\"\n",
    "\n",
    "if \"estoy\" in equipo:\n",
    "    print(\"Aquí estoy yo en el equipo\")\n",
    "else:\n",
    "    print(\"Es verdad, no hay yo en el equipo.\")"
   ]
  },
  {
   "cell_type": "code",
   "execution_count": 15,
   "metadata": {},
   "outputs": [
    {
     "name": "stdout",
     "output_type": "stream",
     "text": [
      "Donde hay progreso, ¡hay queso!\n"
     ]
    }
   ],
   "source": [
    "quote = \"El progreso es imposible sin cambio y aquellos que no pueden cambiar de opinión no pueden cambiar nada.\"\n",
    "if \"ogres\" in quote:\n",
    "    print(\"Donde hay progreso, ¡hay queso!\")\n",
    "else:\n",
    "    print(\"¡Aquí no, pequeño bromista!\")"
   ]
  },
  {
   "cell_type": "markdown",
   "metadata": {},
   "source": [
    "SENTENCIA ELIF\n",
    "\n",
    "El uso de la palabra clave elif nos permite agregar cualquier número de ramas. Sin embargo, solo se ejecutará una rama: aquella cuya condición se cumpla primero. Todas las demás ramas serán ignoradas.\n",
    "Por eso es importante ordenar correctamente las ramas, con las condiciones más específicas primero y las más generales al final. Al hacer esto, podemos asegurarnos de que el código se comporte como esperamos y que se cubran todos los casos posibles.\n"
   ]
  },
  {
   "cell_type": "code",
   "execution_count": 16,
   "metadata": {},
   "outputs": [
    {
     "name": "stdout",
     "output_type": "stream",
     "text": [
      "lluvia\n",
      "nada\n"
     ]
    }
   ],
   "source": [
    "weather = 'lluvia'\n",
    "\n",
    "if weather == 'lluvia':\n",
    "    item_to_take = 'paraguas'\n",
    "if weather == 'sol':\n",
    "    item_to_take = 'sombrero'\n",
    "if weather == 'nieve':\n",
    "    item_to_take = 'gorro y bufanda'\n",
    "else:\n",
    "    item_to_take = 'nada'\n",
    "\n",
    "print(weather)\n",
    "print(item_to_take)\n",
    "\n",
    "#el codigo no funcionara bien debido a que no se esta utilizando el ELIF"
   ]
  },
  {
   "cell_type": "code",
   "execution_count": 17,
   "metadata": {},
   "outputs": [
    {
     "name": "stdout",
     "output_type": "stream",
     "text": [
      "lluvia\n",
      "paraguas\n"
     ]
    }
   ],
   "source": [
    "weather = 'lluvia'\n",
    "\n",
    "if weather == 'lluvia':\n",
    "    item_to_take = 'paraguas'\n",
    "elif weather == 'sol':\n",
    "    item_to_take = 'sombrero'\n",
    "elif weather == 'nieve':\n",
    "    item_to_take = 'gorro y bufanda'\n",
    "else:\n",
    "    item_to_take = 'nada'\n",
    "\n",
    "print(weather)\n",
    "print(item_to_take)"
   ]
  },
  {
   "cell_type": "markdown",
   "metadata": {},
   "source": [
    "CONDICIONALES EN BUCLES FOR\n",
    "\n",
    "En combinación con un bucle for, las sentencias condicionales se convierten en una herramienta indispensable para los especialistas y las especialistas en datos; con ellas puedes comprobar cada elemento de la lista para una condición.\n"
   ]
  },
  {
   "cell_type": "code",
   "execution_count": 18,
   "metadata": {},
   "outputs": [
    {
     "name": "stdout",
     "output_type": "stream",
     "text": [
      "La película se estrenó en la década de 1990.\n",
      "La película se estrenó en la década de 1970.\n",
      "La película se estrenó en la década de los 2000.\n",
      "La película se estrenó en la década de 1990.\n",
      "La película se estrenó en la década de los 2000.\n",
      "La película se estrenó en la década de 1990.\n",
      "La película se estrenó en la década de 1960.\n",
      "La película se estrenó en la década de 1990.\n",
      "La película se estrenó en la década de 1960.\n",
      "La película se estrenó en la década de 1990.\n"
     ]
    }
   ],
   "source": [
    "#Echa un vistazo a la lista years, que almacena los años de estreno de películas. Mostraremos la década correspondiente a cada año. Para hacerlo, revisaremos varios rangos que cubren los años desde 1960 hasta 2009:\n",
    "\n",
    "years = [1994, 1972, 2008, 1993, 2003, 1994, 1966, 1999, 1962, 1997]\n",
    "\n",
    "for year in years: \n",
    "    if 1960 <= year <= 1969: \n",
    "        print('La película se estrenó en la década de 1960.') \n",
    "    elif 1970 <= year <= 1979:\n",
    "        print('La película se estrenó en la década de 1970.') \n",
    "    elif 1980 <= year <= 1989: \n",
    "        print('La película se estrenó en la década de 1980.') \n",
    "    elif 1990 <= year <= 1999: \n",
    "        print('La película se estrenó en la década de 1990.') \n",
    "    elif 2000 <= year <= 2009:\n",
    "        print('La película se estrenó en la década de los 2000.') \n",
    "    else: \n",
    "        print('Tiempo no definido.')"
   ]
  },
  {
   "cell_type": "code",
   "execution_count": 19,
   "metadata": {},
   "outputs": [
    {
     "name": "stdout",
     "output_type": "stream",
     "text": [
      "Le film est sorti en France.\n",
      "Il film e stato rilasciato in Italia.\n",
      "Il film e stato rilasciato in Italia.\n",
      "Le film est sorti en France.\n",
      "The movie was released in the USA.\n"
     ]
    }
   ],
   "source": [
    "#En el precódigo, tienes una lista de countries en la que se almacenan los países donde se estrenaron determinadas películas. Escribe un bucle for que itere sobre los elementos de la lista of countries y que imprima el mensaje correspondiente para cada uno de sus elementos:\n",
    "#Para USA, imprimamos 'The movie was released in the USA.'\n",
    "#Para Francia: 'Le film est sorti en France.'\n",
    "#Para Italia: 'Il film e stato rilasciato in Italia.'\n",
    "#Para cualquier otro país: 'Country not defined.' ('País no definido.')\n",
    "\n",
    "countries = ['Francia', 'Italia', 'Nueva Zelanda', 'Italia', 'Francia', 'EE. UU.']\n",
    "\n",
    "# empieza a escribir tu bucle for aquí\n",
    "for country in countries:\n",
    "    if country == \"EE. UU.\":\n",
    "        print(\"The movie was released in the USA.\")\n",
    "    elif country == \"Francia\":\n",
    "        print(\"Le film est sorti en France.\")\n",
    "    elif country == \"Italia\":\n",
    "        print(\"Il film e stato rilasciato in Italia.\")"
   ]
  },
  {
   "cell_type": "code",
   "execution_count": 20,
   "metadata": {},
   "outputs": [
    {
     "name": "stdout",
     "output_type": "stream",
     "text": [
      "5\n",
      "2\n",
      "3\n",
      "5\n",
      "4\n",
      "5\n"
     ]
    }
   ],
   "source": [
    "#Las puntuaciones de las películas se almacenan en la variable ratings (puntuaciones). Utiliza un bucle y una sentencia condicional para convertir estas puntuaciones de un sistema de 100 puntos a un sistema de 5 puntos, de acuerdo con las siguientes reglas:\n",
    "#2: de 0 a 59 puntos\n",
    "#3: de 60 a 72 puntos\n",
    "#4: de 73 a 84 puntos\n",
    "#5: de 85 a 100 puntos\n",
    "#Muestra el resultado de cada iteración como hicimos en el ejemplo anterior; muestra cada puntuación en una nueva línea.\n",
    "\n",
    "ratings = [91, 35, 65, 89, 78, 93]\n",
    "\n",
    "# empieza a escribir tu bucle for aquí\n",
    "for i in ratings:\n",
    "  if 59 >= i >= 0:\n",
    "    print(2)\n",
    "  elif 72 >= i >= 60:\n",
    "    print(3)\n",
    "  elif 84 >= i >= 73:\n",
    "    print (4)\n",
    "  else:\n",
    "    print(5)"
   ]
  },
  {
   "cell_type": "markdown",
   "metadata": {},
   "source": [
    "MODIFICACION DE TABLAS\n"
   ]
  },
  {
   "cell_type": "code",
   "execution_count": 21,
   "metadata": {},
   "outputs": [],
   "source": [
    "#La modificación de valores en una tabla es una operación común en el procesamiento de datos. Podemos utilizar bucles para modificar valores en una tabla. Imaginemos que tenemos una tabla de películas con el siguiente formato:\n",
    "\n",
    "movies = [\n",
    "    [\"The Shawshank Redemption\", 1994, \"Frank Darabont\"],\n",
    "    [\"The Godfather\", 1972, \"Francis Ford Coppola\"],\n",
    "    [\"The Dark Knight\", 2008, \"Christopher Nolan\"],\n",
    "    [\"12 Angry Men\", 1957, \"Sidney Lumet\"],\n",
    "    [\"Schindler's List\", 1994, \"Steven Spielberg\"],\n",
    "    [\"The Lord of the Rings: The Return of the King\", 2003, \"Peter Jackson\"]\n",
    "]\n"
   ]
  },
  {
   "cell_type": "code",
   "execution_count": 22,
   "metadata": {},
   "outputs": [
    {
     "name": "stdout",
     "output_type": "stream",
     "text": [
      "['The Shawshank Redemption', 1994, 'Frank Darabont']\n",
      "['The Godfather', 1972, 'Francis Ford Coppola']\n",
      "['The Dark Knight', 2008, 'Christopher Nolan']\n",
      "['12 Angry Men', 1957, 'Sidney Lumet']\n",
      "[\"Schindler's List\", 1993, 'Steven Spielberg']\n",
      "['The Lord of the Rings: The Return of the King', 2003, 'Peter Jackson']\n"
     ]
    }
   ],
   "source": [
    "#Supongamos que queremos cambiar el año de lanzamiento de \"Schindler's List\" de 1994 a 1993. Podemos utilizar el siguiente código:\n",
    "\n",
    "movies = [\n",
    "    [\"The Shawshank Redemption\", 1994, \"Frank Darabont\"],\n",
    "    [\"The Godfather\", 1972, \"Francis Ford Coppola\"],\n",
    "    [\"The Dark Knight\", 2008, \"Christopher Nolan\"],\n",
    "    [\"12 Angry Men\", 1957, \"Sidney Lumet\"],\n",
    "    [\"Schindler's List\", 1994, \"Steven Spielberg\"],\n",
    "    [\"The Lord of the Rings: The Return of the King\", 2003, \"Peter Jackson\"]\n",
    "]\n",
    "\n",
    "movie_name = \"Schindler's List\"\n",
    "correct_year = 1993\n",
    "\n",
    "for movie in movies: # haz un bucle por todas las películas\n",
    "    if movie[0] == movie_name: # si el título de la película es el que queremos arreglar\n",
    "        movie[1] = correct_year # asigna el valor deseado\n",
    "\n",
    "\n",
    "for movie in movies: # haz un bucle por todas las películas\n",
    "    print(movie)"
   ]
  },
  {
   "cell_type": "code",
   "execution_count": 23,
   "metadata": {},
   "outputs": [
    {
     "name": "stdout",
     "output_type": "stream",
     "text": [
      "['The Shawshank Redemption', 1994, 'Frank Darabont']\n",
      "['The Godfather', 1972, 'Francis Ford Coppola']\n",
      "['The Dark Knight', 2008, 'Christopher Nolan']\n",
      "['12 Angry Men', 1957, 'Sidney Lumet']\n",
      "[\"Schindler's List\", 1994, 'Steven Spielberg']\n",
      "['The Lord of the Rings: The Return of the King', 2003, 'Alejandro Espinoza']\n"
     ]
    }
   ],
   "source": [
    "movies = [\n",
    "    [\"The Shawshank Redemption\", 1994, \"Frank Darabont\"],\n",
    "    [\"The Godfather\", 1972, \"Francis Ford Coppola\"],\n",
    "    [\"The Dark Knight\", 2008, \"Christopher Nolan\"],\n",
    "    [\"12 Angry Men\", 1957, \"Sidney Lumet\"],\n",
    "    [\"Schindler's List\", 1994, \"Steven Spielberg\"],\n",
    "    [\"The Lord of the Rings: The Return of the King\", 2003, \"Peter Jackson\"]\n",
    "]\n",
    "\n",
    "movie_name1= \"The Lord of the Rings: The Return of the King\"\n",
    "real_director = \"Alejandro Espinoza\"\n",
    "\n",
    "for director in movies:\n",
    "  if director[0] == movie_name1:\n",
    "    director[2] = real_director\n",
    "\n",
    "for i in movies:\n",
    "  print(i)"
   ]
  },
  {
   "cell_type": "code",
   "execution_count": 24,
   "metadata": {},
   "outputs": [
    {
     "name": "stdout",
     "output_type": "stream",
     "text": [
      "['The Shawshank Redemption', 1994, 'Frank Darabont']\n",
      "['The Godfather', 1972, 'Francis Ford Coppola']\n",
      "['The Dark Knight', 2008, 'Christopher Nolan']\n",
      "['12 Angry Men', 1957, 'Sidney Lumet']\n",
      "[\"Schindler's List\", 1993, 'Steven Spielberg']\n",
      "['The Lord of the Rings: The Fellowship of the Ring', 2001, 'Peter Jackson']\n"
     ]
    }
   ],
   "source": [
    "#Ahora debes modificar la tabla para cambiar la última película a la primera de Lord of the Rings.\n",
    "#Su nombre completo es “The Lord of the Rings: The Fellowship of the Ring” y fue lanzada en 2001.\n",
    "#Para realizar los cambios, escribe un bucle for que recorra los elementos de la lista movies. Cuando llegues a una sublista que tenga \"The Lord of the Rings: The Return of the King\", sustituye tanto el nombre como el año de estreno.\n",
    "\n",
    "\n",
    "movies = [\n",
    "    [\"The Shawshank Redemption\", 1994, \"Frank Darabont\"],\n",
    "    [\"The Godfather\", 1972, \"Francis Ford Coppola\"],\n",
    "    [\"The Dark Knight\", 2008, \"Christopher Nolan\"],\n",
    "    [\"12 Angry Men\", 1957, \"Sidney Lumet\"],\n",
    "    [\"Schindler's List\", 1993, \"Steven Spielberg\"],\n",
    "    [\"The Lord of the Rings: The Return of the King\", 2003, \"Peter Jackson\"]\n",
    "]\n",
    "\n",
    "movie_to_change = \"The Lord of the Rings: The Return of the King\"\n",
    "new_movie = \"The Lord of the Rings: The Fellowship of the Ring\"\n",
    "new_year = 2001\n",
    "\n",
    "for movie in movies:\n",
    "\tif movie[0] == movie_to_change:\n",
    "            movie[0] = new_movie\n",
    "            movie[1] = new_year\n",
    "\n",
    "\n",
    "\n",
    "# no modifiques el código de abajo, ya que imprime el resultado\n",
    "for movie in movies:\n",
    "    print(movie)"
   ]
  },
  {
   "cell_type": "markdown",
   "metadata": {},
   "source": [
    "FILTRAT TABLAS\n",
    "\n",
    "Partes de un filtro\n",
    "Un filtro para una tabla consta de tres partes:\n",
    "\n",
    "Una variable con una lista vacía para agregar filas coincidentes.\n",
    "\n",
    "Un bucle que recorre la tabla original.\n",
    "\n",
    "Una sentencia condicional con if. Si una sublista cumple la condición, se agregará a la variable que almacena elementos que cumplen con nuestro filtro.\n"
   ]
  },
  {
   "cell_type": "code",
   "execution_count": 25,
   "metadata": {},
   "outputs": [
    {
     "name": "stdout",
     "output_type": "stream",
     "text": [
      "[\"Schindler's List\", 'USA', 1993, 'drama', 195, 8.818]\n",
      "['The Lord of the Rings: The Return of the King', 'New Zealand', 2003, 'fantasy, adventure, drama', 201, 8.625]\n"
     ]
    }
   ],
   "source": [
    "#Vamos a crear un filtro que almacene películas con una duración mayor a 180 minutos en una nueva lista anidada. Ejecuta el código de abajo y luego lo comentaremos.\n",
    "\n",
    "movies_info = [\n",
    "    ['The Shawshank Redemption', 'USA', 1994, 'drama', 142, 9.111],\n",
    "    ['The Godfather', 'USA', 1972, 'drama, crime', 175, 8.730],\n",
    "    ['The Dark Knight', 'USA', 2008, 'fantasy, action, thriller', 152, 8.499],\n",
    "    [\"Schindler's List\", 'USA', 1993, 'drama', 195, 8.818],\n",
    "    ['The Lord of the Rings: The Return of the King', 'New Zealand', 2003, 'fantasy, adventure, drama', 201, 8.625],\n",
    "    ['Pulp Fiction', 'USA', 1994, 'thriller, comedy, crime', 154, 8.619],\n",
    "    ['The Good, the Bad and the Ugly', 'Italy', 1966, 'western', 178, 8.521],\n",
    "    ['Fight Club', 'USA', 1999, 'thriller, drama, crime', 139, 8.644],\n",
    "    ['Harakiri', 'Japan', 1962, 'drama, action, history', 133, 8.106],\n",
    "    ['Good Will Hunting', 'USA', 1997, 'drama, romance', 126, 8.077]\n",
    "]\n",
    "\n",
    "movies_filtered = [] # lista vacía para almacenar el resultado\n",
    "\n",
    "for movie in movies_info: # recorre en bucle las filas de la tabla original\n",
    "    if movie[4] > 180: # si una película dura más de 180 minutos\n",
    "        movies_filtered.append(movie) # agrega la fila a movies_filtered\n",
    "\n",
    "for movie in movies_filtered: # muestra el contenido de movies_filtered\n",
    "    print(movie) "
   ]
  },
  {
   "cell_type": "code",
   "execution_count": 26,
   "metadata": {},
   "outputs": [
    {
     "name": "stdout",
     "output_type": "stream",
     "text": [
      "['Harakiri', 'Japan', 1962, 'drama, action, history', 133, 8.106]\n"
     ]
    }
   ],
   "source": [
    "#Creemos otro filtro para almacenar todas las películas japonesas en una nueva lista. Examina el código que aparece a continuación y ejecútalo para ver cuál será el resultado.\n",
    "\n",
    "movies_info = [\n",
    "    ['The Shawshank Redemption', 'USA', 1994, 'drama', 142, 9.111],\n",
    "    ['The Godfather', 'USA', 1972, 'drama, crime', 175, 8.730],\n",
    "    ['The Dark Knight', 'USA', 2008, 'fantasy, action, thriller', 152, 8.499],\n",
    "    [\"Schindler's List\", 'USA', 1993, 'drama', 195, 8.818],\n",
    "    ['The Lord of the Rings: The Return of the King', 'New Zealand', 2003, 'fantasy, adventure, drama', 201, 8.625],\n",
    "    ['Pulp Fiction', 'USA', 1994, 'thriller, comedy, crime', 154, 8.619],\n",
    "    ['The Good, the Bad and the Ugly', 'Italy', 1966, 'western', 178, 8.521],\n",
    "    ['Fight Club', 'USA', 1999, 'thriller, drama, crime', 139, 8.644],\n",
    "    ['Harakiri', 'Japan', 1962, 'drama, action, history', 133, 8.106],\n",
    "    ['Good Will Hunting', 'USA', 1997, 'drama, romance', 126, 8.077]\n",
    "]\n",
    "\n",
    "movies_filtered = [] # lista vacía para almacenar el resultado\n",
    "country= \"Japan\"\n",
    "\n",
    "for movie in movies_info: # recorre en bucle las filas de la tabla original\n",
    "    if movie[1] == country: # si la película es de Japón,\n",
    "        movies_filtered.append(movie) # agrega esta fila a movies_filtered\n",
    "\n",
    "for movie in movies_filtered: # muestra el contenido de movies_filtered\n",
    "    print(movie) "
   ]
  },
  {
   "cell_type": "code",
   "execution_count": 27,
   "metadata": {},
   "outputs": [
    {
     "name": "stdout",
     "output_type": "stream",
     "text": [
      "['The Shawshank Redemption', 'USA', 1994, 'drama', 142, 9.111]\n",
      "['The Godfather', 'USA', 1972, 'drama, crime', 175, 8.73]\n",
      "['The Dark Knight', 'USA', 2008, 'fantasy, action, thriller', 152, 8.499]\n",
      "[\"Schindler's List\", 'USA', 1993, 'drama', 195, 8.818]\n",
      "['Pulp Fiction', 'USA', 1994, 'thriller, comedy, crime', 154, 8.619]\n",
      "['Fight Club', 'USA', 1999, 'thriller, drama, crime', 139, 8.644]\n",
      "['Good Will Hunting', 'USA', 1997, 'drama, romance', 126, 8.077]\n"
     ]
    }
   ],
   "source": [
    "\n",
    "#Ejercicio 1\n",
    "#Obtén todas las películas americanas de la tabla movies_info utilizando un filtro. Guarda el resultado en movies_filtered.\n",
    "\n",
    "movies_info = [\n",
    "    ['The Shawshank Redemption', 'USA', 1994, 'drama', 142, 9.111],\n",
    "    ['The Godfather', 'USA', 1972, 'drama, crime', 175, 8.730],\n",
    "    ['The Dark Knight', 'USA', 2008, 'fantasy, action, thriller', 152, 8.499],\n",
    "    [\"Schindler's List\", 'USA', 1993, 'drama', 195, 8.818],\n",
    "    ['The Lord of the Rings: The Return of the King', 'New Zealand', 2003, 'fantasy, adventure, drama', 201, 8.625],\n",
    "    ['Pulp Fiction', 'USA', 1994, 'thriller, comedy, crime', 154, 8.619],\n",
    "    ['The Good, the Bad and the Ugly', 'Italy', 1966, 'western', 178, 8.521],\n",
    "    ['Fight Club', 'USA', 1999, 'thriller, drama, crime', 139, 8.644],\n",
    "    ['Harakiri', 'Japan', 1962, 'drama, action, history', 133, 8.106],\n",
    "    ['Good Will Hunting', 'USA', 1997, 'drama, romance', 126, 8.077]\n",
    "]\n",
    "\n",
    "movies_filtered = [] # lista vacía para almacenar el resultado\n",
    "\n",
    "for i in movies_info:\n",
    "  if i[1] == \"USA\":\n",
    "    movies_filtered.append(i)\n",
    "\n",
    "for i in movies_filtered:\n",
    "  print(i)\n",
    "\n",
    "\n",
    "#muestra el resultado\n",
    "#print(movies_filtered)\n"
   ]
  },
  {
   "cell_type": "markdown",
   "metadata": {},
   "source": [
    "OPERADORES LOGICOS Y FILTROS\n"
   ]
  },
  {
   "cell_type": "code",
   "execution_count": 28,
   "metadata": {},
   "outputs": [
    {
     "name": "stdout",
     "output_type": "stream",
     "text": [
      "['The Shawshank Redemption', 'USA', 1994, 'drama', 142, 9.111]\n",
      "['The Dark Knight', 'USA', 2008, 'fantasy, action, thriller', 152, 8.499]\n",
      "[\"Schindler's List\", 'USA', 1993, 'drama', 195, 8.818]\n",
      "['Pulp Fiction', 'USA', 1994, 'thriller, comedy, crime', 154, 8.619]\n",
      "['Fight Club', 'USA', 1999, 'thriller, drama, crime', 139, 8.644]\n",
      "['Good Will Hunting', 'USA', 1997, 'drama, romance', 126, 8.077]\n"
     ]
    }
   ],
   "source": [
    "#Vamos a comprobar dos condiciones para obtener las películas que se estrenaron en los EE. UU. después de 1990. Examina el código que aparece a continuación y ejecútalo. Lo comentaremos enseguida.\n",
    "\n",
    "movies_info = [\n",
    "    ['The Shawshank Redemption', 'USA', 1994, 'drama', 142, 9.111],\n",
    "    ['The Godfather', 'USA', 1972, 'drama, crime', 175, 8.730],\n",
    "    ['The Dark Knight', 'USA', 2008, 'fantasy, action, thriller', 152, 8.499],\n",
    "    [\"Schindler's List\", 'USA', 1993, 'drama', 195, 8.818],\n",
    "    ['The Lord of the Rings: The Return of the King', 'New Zealand', 2003, 'fantasy, adventure, drama', 201, 8.625],\n",
    "    ['Pulp Fiction', 'USA', 1994, 'thriller, comedy, crime', 154, 8.619],\n",
    "    ['The Good, the Bad and the Ugly', 'Italy', 1966, 'western', 178, 8.521],\n",
    "    ['Fight Club', 'USA', 1999, 'thriller, drama, crime', 139, 8.644],\n",
    "    ['Harakiri', 'Japan', 1962, 'drama, action, history', 133, 8.106],\n",
    "    ['Good Will Hunting', 'USA', 1997, 'drama, romance', 126, 8.077]\n",
    "]\n",
    "\n",
    "movies_filtered = [] \n",
    "\n",
    "for movie in movies_info: # un bucle sobre cada película\n",
    "    if movie[2] > 1990 and movie[1] == 'USA': # si la película se estrenó después de 1990 y en los EE. UU.,\n",
    "        movies_filtered.append(movie) # la agregamos a la nueva lista\n",
    "\n",
    "for movie in movies_filtered:\n",
    "    print(movie) "
   ]
  },
  {
   "cell_type": "code",
   "execution_count": 29,
   "metadata": {},
   "outputs": [
    {
     "name": "stdout",
     "output_type": "stream",
     "text": [
      "['The Shawshank Redemption', 'USA', 1994, 'drama', 142, 9.111]\n",
      "['The Dark Knight', 'USA', 2008, 'fantasy, action, thriller', 152, 8.499]\n",
      "['Pulp Fiction', 'USA', 1994, 'thriller, comedy, crime', 154, 8.619]\n",
      "['Harakiri', 'Japan', 1962, 'drama, action, history', 133, 8.106]\n",
      "['Good Will Hunting', 'USA', 1997, 'drama, romance', 126, 8.077]\n"
     ]
    }
   ],
   "source": [
    "#Crea la lista movies_filtered y añádele aquellas películas que se estrenaron en 1994 o que tienen una puntuación inferior a 8.5.\n",
    "\n",
    "movies_info = [\n",
    "    ['The Shawshank Redemption', 'USA', 1994, 'drama', 142, 9.111],\n",
    "    ['The Godfather', 'USA', 1972, 'drama, crime', 175, 8.730],\n",
    "    ['The Dark Knight', 'USA', 2008, 'fantasy, action, thriller', 152, 8.499],\n",
    "    [\"Schindler's List\", 'USA', 1993, 'drama', 195, 8.818],\n",
    "    ['The Lord of the Rings: The Return of the King', 'New Zealand', 2003, 'fantasy, adventure, drama', 201, 8.625],\n",
    "    ['Pulp Fiction', 'USA', 1994, 'thriller, comedy, crime', 154, 8.619],\n",
    "    ['The Good, the Bad and the Ugly', 'Italy', 1966, 'western', 178, 8.521],\n",
    "    ['Fight Club', 'USA', 1999, 'thriller, drama, crime', 139, 8.644],\n",
    "    ['Harakiri', 'Japan', 1962, 'drama, action, history', 133, 8.106],\n",
    "    ['Good Will Hunting', 'USA', 1997, 'drama, romance', 126, 8.077]\n",
    "]\n",
    "\n",
    "movies_filtered = []\n",
    "\n",
    "for i in movies_info:\n",
    "    if i[2] == 1994 or i[-1] < 8.5:\n",
    "        movies_filtered.append(i)\n",
    "\n",
    "# no modifiques el código de abajo ya que imprime el resultado final\n",
    "for movie in movies_filtered:\n",
    "    print(movie) "
   ]
  },
  {
   "cell_type": "markdown",
   "metadata": {},
   "source": [
    "AHORA A PRACTICAR\n"
   ]
  },
  {
   "cell_type": "code",
   "execution_count": 30,
   "metadata": {},
   "outputs": [
    {
     "name": "stdout",
     "output_type": "stream",
     "text": [
      "[[34591, 'Nina Brown', 45, 250000, 'Telecom'], [37512, 'Alex Smith', 39, 210000, 'IT'], [39591, 'Brian Perez', 29, 340000, 'Transportation'], [49571, 'Samantha Chen', 42, 220000, 'Retail']]\n"
     ]
    }
   ],
   "source": [
    "\n",
    "#El Banco ABC ha presentado una nueva cuenta Elite diseñada para clientes y clientas de alto poder adquisitivo que ganan más de $200 000 al año. Escribe código para iterar sobre los clientes y las clientas, comprueba que sus ingresos anuales superen los $200 000 y agrega la sublista sobre un cliente o una clienta elegible a la variable elite_clients, que es una lista de clientes ricos. Muestra la variable elite_clients al final.\n",
    "\n",
    "clients = [\n",
    "    [32456, \"Jack Wilson\", 32, 150000, \"Healthcare\"],\n",
    "    [34591, \"Nina Brown\", 45, 250000, \"Telecom\"],\n",
    "    [37512, \"Alex Smith\", 39, 210000, \"IT\"],\n",
    "    [39591, \"Brian Perez\", 29, 340000, \"Transportation\"],\n",
    "    [45123, \"Sarah Lee\", 28, 120000, \"Marketing\"],\n",
    "    [47635, \"David Kim\", 36, 180000, \"Finance\"],\n",
    "    [49571, \"Samantha Chen\", 42, 220000, \"Retail\"],\n",
    "    [50391, \"Juan Rodriguez\", 31, 160000, \"Architecture\"]\n",
    "]\n",
    "\n",
    "elite_clients = [] # añade la variable elite_clients aquí\n",
    "\n",
    "for i in clients:\n",
    "  if i[3] > 200000:\n",
    "    elite_clients.append(i)\n",
    "\n",
    "\n",
    "print(elite_clients)"
   ]
  },
  {
   "cell_type": "code",
   "execution_count": 31,
   "metadata": {},
   "outputs": [
    {
     "name": "stdout",
     "output_type": "stream",
     "text": [
      "[[39591, 'Brian Perez', 29, 340000, 'Transportation'], [101321, 'Olivia Wilson', 44, 310000, 'Telecom'], [107512, 'Michael Perez', 53, 415000, 'Transportation']]\n"
     ]
    }
   ],
   "source": [
    "#El departamento de marketing quiere una lista de todos los clientes y las clientas del banco, dividida en cuatro segmentos de cuenta. Te han pedido que les presentes la lista. Divide a todos los clientes y las clientas del Banco ABC en cuatro segmentos: cuenta Standard para clientes y clientas con ingresos inferiores a $100 000, cuenta Plus para ingresos de $100 000 a $200 000, cuenta Elite para ingresos de $200 000 a $300 000 y cuenta ejecutiva para ingresos de $300 000 o más.\n",
    "#En el precódigo a continuación, verás cuatro variables con las listas: standard, plus, elite y executive. Escribe código para iterar sobre los clientes y las clientas, comprueba a qué categoría pertenecen sus ingresos y agrégalos a la lista correspondiente. Muestra la lista de clientes y clientas executive al final.\n",
    "\n",
    "clients = [\n",
    "    [32456, \"Jack Wilson\", 32, 150000, \"Healthcare\"],\n",
    "    [34591, \"Nina Brown\", 45, 250000, \"Telecom\"],\n",
    "    [37512, \"Alex Smith\", 39, 210000, \"IT\"],\n",
    "    [39591, \"Brian Perez\", 29, 340000, \"Transportation\"],\n",
    "    [45123, \"Sarah Lee\", 28, 120000, \"Marketing\"],\n",
    "    [47635, \"David Kim\", 36, 180000, \"Finance\"],\n",
    "    [49571, \"Samantha Chen\", 42, 220000, \"Retail\"],\n",
    "    [50391, \"Juan Rodriguez\", 31, 160000, \"Architecture\"],\n",
    "    [34556, \"Lucas Hernandez\", 37, 75000, \"Education\"],\n",
    "    [64291, \"Jessica Li\", 25, 125000, \"IT\"],\n",
    "    [74512, \"Emma Davis\", 47, 197000, \"Finance\"],\n",
    "    [83191, \"Sophia Perez\", 34, 225000, \"Transportation\"],\n",
    "    [91023, \"Liam Kim\", 29, 98000, \"Retail\"],\n",
    "    [96435, \"Ava Chen\", 31, 175000, \"Marketing\"],\n",
    "    [100571, \"Noah Rodriguez\", 28, 85000, \"Architecture\"],\n",
    "    [101321, \"Olivia Wilson\", 44, 310000, \"Telecom\"],\n",
    "    [104556, \"William Brown\", 38, 289000, \"Finance\"],\n",
    "    [105491, \"Emily Smith\", 29, 193000, \"Healthcare\"],\n",
    "    [107512, \"Michael Perez\", 53, 415000, \"Transportation\"]\n",
    "]\n",
    "\n",
    "# listas vacías para agregar clientes y clientas\n",
    "standard = []\n",
    "plus = []\n",
    "elite = []\n",
    "executive = []\n",
    "\n",
    "for i in clients:\n",
    "  if i[3] < 100000:\n",
    "    standard.append(i)\n",
    "  elif 10000 < i[3] <= 200000:\n",
    "    plus.append(i)\n",
    "  elif 200000 < i[3] <= 300000:\n",
    "    elite.append(i)\n",
    "  else:\n",
    "    executive.append(i)\n",
    "\n",
    "\n",
    "print(executive)"
   ]
  },
  {
   "cell_type": "code",
   "execution_count": 38,
   "metadata": {},
   "outputs": [
    {
     "name": "stdout",
     "output_type": "stream",
     "text": [
      "[]\n"
     ]
    }
   ],
   "source": [
    "#Es el Día de la Juventud y el equipo de marketing desea enviar un correo electrónico para atraer a nuestros clientes y clientas jóvenes.\n",
    "#Para mejorar la solución anterior, debemos actualizar los criterios de edad para identificar a los clientes y las clientas jóvenes. Para los clientes y las clientas standard, consideramos jóvenes a todos los menores de 40 años; para clientes y clientas no standard, consideramos jóvenes a todos los menores de 35 años.\n",
    "#Proporciona listas actualizadas con base en estas reglas y luego vuelve a mostrar la lista incluyendo los clientes y las clientas executive.\n",
    "#Los comentarios que aparecen en el precódigo te ayudarán a realizar los cambios necesarios. Por favor, préstales atención. Si tienes dificultades, no dudes en consultar la pista que te hemos dejado.\n",
    "\n",
    "clients = [\n",
    "    [32456, \"Jack Wilson\", 32, 150000, \"Healthcare\"],\n",
    "    [34591, \"Nina Brown\", 45, 250000, \"Telecom\"],\n",
    "    [37512, \"Alex Smith\", 39, 210000, \"IT\"],\n",
    "    [39591, \"Brian Perez\", 29, 340000, \"Transportation\"],\n",
    "    [45123, \"Sarah Lee\", 28, 120000, \"Marketing\"],\n",
    "    [47635, \"David Kim\", 36, 180000, \"Finance\"],\n",
    "    [49571, \"Samantha Chen\", 42, 220000, \"Retail\"],\n",
    "    [50391, \"Juan Rodriguez\", 31, 160000, \"Architecture\"],\n",
    "    [34556, \"Lucas Hernandez\", 37, 75000, \"Education\"],\n",
    "    [64291, \"Jessica Li\", 25, 125000, \"IT\"],\n",
    "    [74512, \"Emma Davis\", 47, 197000, \"Finance\"],\n",
    "    [83191, \"Sophia Perez\", 34, 225000, \"Transportation\"],\n",
    "    [91023, \"Liam Kim\", 29, 98000, \"Retail\"],\n",
    "    [96435, \"Ava Chen\", 31, 175000, \"Marketing\"],\n",
    "    [100571, \"Noah Rodriguez\", 28, 85000, \"Architecture\"],\n",
    "    [101321, \"Olivia Wilson\", 44, 310000, \"Telecom\"],\n",
    "    [104556, \"William Brown\", 38, 289000, \"Finance\"],\n",
    "    [105491, \"Emily Smith\", 29, 193000, \"Healthcare\"],\n",
    "    [107512, \"Michael Perez\", 53, 415000, \"Transportation\"]\n",
    "]\n",
    "\n",
    "standard = []\n",
    "plus = []\n",
    "elite = []\n",
    "executive = []\n",
    "\n",
    "for client in clients:\n",
    "    if client[3] < 100000 & client[2] <= 40: \n",
    "        standard.append(client)\n",
    "    elif client[3] > 100000 & client[2] <= 35: \n",
    "        plus.append(client)\n",
    "    elif client[3] > 200000 & client[2] <= 35: \n",
    "        elite.append(client)\n",
    "    elif client[3] >= 300000 & client[2] <= 35: \n",
    "        executive.append(client)\n",
    "\n",
    "# no modifiques nada por debajo de esta línea\n",
    "print(executive)"
   ]
  },
  {
   "cell_type": "markdown",
   "metadata": {},
   "source": []
  },
  {
   "cell_type": "code",
   "execution_count": 37,
   "metadata": {},
   "outputs": [
    {
     "name": "stdout",
     "output_type": "stream",
     "text": [
      "[]\n"
     ]
    }
   ],
   "source": [
    "clients = [ \n",
    "  [32456, \"Jack Wilson\", 32, 150000, \"Healthcare\"], \n",
    "  [34591, \"Nina Brown\", 45, 250000, \"Telecom\"], \n",
    "  [37512, \"Alex Smith\", 39, 210000, \"IT\"], \n",
    "  [39591, \"Brian Perez\", 29, 340000, \"Transportation\"], [45123, \"Sarah Lee\", 28, 120000, \"Marketing\"], \n",
    "  [47635, \"David Kim\", 36, 180000, \"Finance\"], \n",
    "  [49571, \"Samantha Chen\", 42, 220000, \"Retail\"], \n",
    "  [50391, \"Juan Rodriguez\", 31, 160000, \"Architecture\"], [34556, \"Lucas Hernandez\", 37, 75000, \"Education\"], \n",
    "  [64291, \"Jessica Li\", 25, 125000, \"IT\"], \n",
    "  [74512, \"Emma Davis\", 47, 197000, \"Finance\"], \n",
    "  [83191, \"Sophia Perez\", 34, 225000, \"Transportation\"], [91023, \"Liam Kim\", 29, 98000, \"Retail\"], \n",
    "  [96435, \"Ava Chen\", 31, 175000, \"Marketing\"], \n",
    "  [100571, \"Noah Rodriguez\", 28, 85000, \"Architecture\"], [101321, \"Olivia Wilson\", 44, 310000, \"Telecom\"], \n",
    "  [104556, \"William Brown\", 38, 289000, \"Finance\"], \n",
    "  [105491, \"Emily Smith\", 29, 193000, \"Healthcare\"], \n",
    "  [107512, \"Michael Perez\", 53, 415000, \"Transportation\"] \n",
    "  ] \n",
    "\n",
    "standard = [] \n",
    "plus = [] \n",
    "elite = [] \n",
    "executive = [] \n",
    "\n",
    "for client in clients: \n",
    "  if client[3] < 100000 and client[2] <= 40: \n",
    "    standard.append(client) \n",
    "  elif 100000 <= client[3] and client[2] <= 35: \n",
    "    plus.append(client) \n",
    "  elif 200000 <= client[3] and client[2] <= 35: \n",
    "    elite.append(client) \n",
    "  elif client[3] >= 300000 and client[2] <= 35:\n",
    "     executive.append(client) \n",
    "     \n",
    "print(executive)"
   ]
  }
 ],
 "metadata": {
  "kernelspec": {
   "display_name": "Python 3",
   "language": "python",
   "name": "python3"
  },
  "language_info": {
   "codemirror_mode": {
    "name": "ipython",
    "version": 3
   },
   "file_extension": ".py",
   "mimetype": "text/x-python",
   "name": "python",
   "nbconvert_exporter": "python",
   "pygments_lexer": "ipython3",
   "version": "3.11.6"
  }
 },
 "nbformat": 4,
 "nbformat_minor": 2
}
