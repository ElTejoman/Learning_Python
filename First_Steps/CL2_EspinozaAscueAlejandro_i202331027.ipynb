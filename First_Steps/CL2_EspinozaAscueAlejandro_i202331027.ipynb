{
 "cells": [
  {
   "cell_type": "markdown",
   "metadata": {},
   "source": [
    "# **Exámen CL2**\n",
    "\n",
    "a.\tHacer una función que calcule la suma de dos números y mediante una función decoradora validar el ingreso de estos números, los cuales deben ser sólo números."
   ]
  },
  {
   "cell_type": "code",
   "execution_count": 3,
   "metadata": {},
   "outputs": [
    {
     "ename": "TypeError",
     "evalue": "unsupported operand type(s) for +: 'int' and 'str'",
     "output_type": "error",
     "traceback": [
      "\u001b[1;31m---------------------------------------------------------------------------\u001b[0m",
      "\u001b[1;31mTypeError\u001b[0m                                 Traceback (most recent call last)",
      "Cell \u001b[1;32mIn[3], line 17\u001b[0m\n\u001b[0;32m     13\u001b[0m \u001b[38;5;129m@validar_numeros\u001b[39m\n\u001b[0;32m     14\u001b[0m \u001b[38;5;28;01mdef\u001b[39;00m \u001b[38;5;21msuma_numeros\u001b[39m(a, b):\n\u001b[0;32m     15\u001b[0m     \u001b[38;5;28;01mreturn\u001b[39;00m a \u001b[38;5;241m+\u001b[39m b\n\u001b[1;32m---> 17\u001b[0m resultado \u001b[38;5;241m=\u001b[39m \u001b[43msuma_numeros\u001b[49m\u001b[43m(\u001b[49m\u001b[38;5;241;43m5\u001b[39;49m\u001b[43m,\u001b[49m\u001b[38;5;124;43m\"\u001b[39;49m\u001b[38;5;124;43m10\u001b[39;49m\u001b[38;5;124;43m\"\u001b[39;49m\u001b[43m)\u001b[49m\n\u001b[0;32m     18\u001b[0m \u001b[38;5;28mprint\u001b[39m(resultado)\n",
      "Cell \u001b[1;32mIn[3], line 10\u001b[0m, in \u001b[0;36mvalidar_numeros.<locals>.wrapper\u001b[1;34m(*args)\u001b[0m\n\u001b[0;32m      8\u001b[0m     \u001b[38;5;28;01mif\u001b[39;00m \u001b[38;5;129;01mnot\u001b[39;00m \u001b[38;5;28mstr\u001b[39m(arg)\u001b[38;5;241m.\u001b[39misdigit():\n\u001b[0;32m      9\u001b[0m         \u001b[38;5;28;01mreturn\u001b[39;00m \u001b[38;5;124m\"\u001b[39m\u001b[38;5;124mError: Los argumentos deben ser números.\u001b[39m\u001b[38;5;124m\"\u001b[39m\n\u001b[1;32m---> 10\u001b[0m \u001b[38;5;28;01mreturn\u001b[39;00m \u001b[43mfunc\u001b[49m\u001b[43m(\u001b[49m\u001b[38;5;241;43m*\u001b[39;49m\u001b[43margs\u001b[49m\u001b[43m)\u001b[49m\n",
      "Cell \u001b[1;32mIn[3], line 15\u001b[0m, in \u001b[0;36msuma_numeros\u001b[1;34m(a, b)\u001b[0m\n\u001b[0;32m     13\u001b[0m \u001b[38;5;129m@validar_numeros\u001b[39m\n\u001b[0;32m     14\u001b[0m \u001b[38;5;28;01mdef\u001b[39;00m \u001b[38;5;21msuma_numeros\u001b[39m(a, b):\n\u001b[1;32m---> 15\u001b[0m     \u001b[38;5;28;01mreturn\u001b[39;00m \u001b[43ma\u001b[49m\u001b[43m \u001b[49m\u001b[38;5;241;43m+\u001b[39;49m\u001b[43m \u001b[49m\u001b[43mb\u001b[49m\n",
      "\u001b[1;31mTypeError\u001b[0m: unsupported operand type(s) for +: 'int' and 'str'"
     ]
    }
   ],
   "source": [
    "def suma_numeros(a,b):\n",
    "  return a+b\n",
    "\n",
    "# Creamos función decoradora\n",
    "def validar_numeros(func):\n",
    "    def wrapper(*args):\n",
    "        for arg in args:\n",
    "            if not str(arg).isdigit():\n",
    "                return \"Error: Los argumentos deben ser números.\"\n",
    "        return func(*args)\n",
    "    return wrapper\n",
    "\n",
    "@validar_numeros\n",
    "def suma_numeros(a, b):\n",
    "    return a + b\n",
    "\n",
    "resultado = suma_numeros(5,\"10\")\n",
    "print(resultado)\n",
    "\n",
    "#SALDRÁ ERROR PORQUE ESTOY PIDIENDO QUE SUME UN ENTERO CON UN STRING"
   ]
  },
  {
   "cell_type": "markdown",
   "metadata": {},
   "source": [
    "b.\tSe tiene la siguiente función que registra clientes y el producto comprado, se desea almacenar los últimos tres registros como atributo de la misma función, pero como la función ya está creada se requiere que esta nueva funcionalidad sea añada con una función decoradora."
   ]
  },
  {
   "cell_type": "code",
   "execution_count": 11,
   "metadata": {},
   "outputs": [
    {
     "name": "stdout",
     "output_type": "stream",
     "text": [
      "Últimos registros:\n",
      "{'nombre': 'Luis', 'apellido': 'Martinez', 'producto': 'pantalones'}\n",
      "{'nombre': 'ana', 'apellido': 'rodriguez', 'producto': 'bufanda'}\n",
      "{'nombre': 'Alejandro', 'apellido': 'Espinoza', 'producto': 'Lentes'}\n"
     ]
    }
   ],
   "source": [
    "def registrar_cliente(nombre, apellido, producto):\n",
    "    return {'nombre': nombre, 'apellido': apellido, 'producto': producto}\n",
    "\n",
    "# Decorador para almacenar \n",
    "def almacenar_ultimos_registros(func):\n",
    "    ultimos_registros = []\n",
    "\n",
    "    def wrapper(nombre, apellido, producto):\n",
    "        resultado = func(nombre, apellido, producto)\n",
    "        ultimos_registros.append(resultado)\n",
    "        \n",
    "        if len(ultimos_registros) > 3:\n",
    "            ultimos_registros.pop(0)\n",
    "\n",
    "        wrapper.ultimos_registros = ultimos_registros\n",
    "        return resultado\n",
    "    return wrapper\n",
    "\n",
    "# Decoramos la función original\n",
    "@almacenar_ultimos_registros\n",
    "def registrar_cliente(nombre, apellido, producto):\n",
    "    return {'nombre': nombre, 'apellido': apellido, 'producto': producto}\n",
    "\n",
    "# Ejemplo de uso\n",
    "cliente1 = registrar_cliente(\"juan\", \"Perez\", \"camiseta\")\n",
    "cliente2 = registrar_cliente(\"María\", \"Gonzales\", \"zapatos\")\n",
    "cliente3 = registrar_cliente(\"Luis\", \"Martinez\", \"pantalones\")\n",
    "cliente4 = registrar_cliente(\"ana\", \"rodriguez\", \"bufanda\")\n",
    "cliente5 = registrar_cliente(\"Alejandro\", \"Espinoza\", \"Lentes\")\n",
    "\n",
    "# Imprimimos los últimos registros almacenados\n",
    "print(\"Últimos registros:\")\n",
    "for registro in registrar_cliente.ultimos_registros:\n",
    "    print(registro)"
   ]
  }
 ],
 "metadata": {
  "kernelspec": {
   "display_name": "Python 3",
   "language": "python",
   "name": "python3"
  },
  "language_info": {
   "codemirror_mode": {
    "name": "ipython",
    "version": 3
   },
   "file_extension": ".py",
   "mimetype": "text/x-python",
   "name": "python",
   "nbconvert_exporter": "python",
   "pygments_lexer": "ipython3",
   "version": "3.11.8"
  }
 },
 "nbformat": 4,
 "nbformat_minor": 2
}
