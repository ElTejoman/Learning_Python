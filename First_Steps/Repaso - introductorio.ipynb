{
  "nbformat": 4,
  "nbformat_minor": 0,
  "metadata": {
    "colab": {
      "provenance": []
    },
    "kernelspec": {
      "name": "python3",
      "display_name": "Python 3"
    },
    "language_info": {
      "name": "python"
    }
  },
  "cells": [
    {
      "cell_type": "markdown",
      "source": [
        "# Ejercicios anteriones\n",
        "' spacious '.strip()"
      ],
      "metadata": {
        "id": "cZLCF7zQv6x2"
      }
    },
    {
      "cell_type": "code",
      "source": [
        "# 1 Hacer una función, donde ingresada una cadena, determine cuantas veces se\n",
        "# repite las letras que conforman esa palabra\n",
        "# a = \"hola como estas\"\n",
        "\n",
        "a = \"hola como estas, cuantos años tienes\""
      ],
      "metadata": {
        "id": "w0QpGLwkhvD4"
      },
      "execution_count": 1,
      "outputs": []
    },
    {
      "cell_type": "code",
      "source": [
        "out = \"\"# almacenar mis resultados (letras únicas)\n",
        "\n",
        "for i in range(len(a)): # range(0,len(a),1): 0,1,2,3...len(a)\n",
        "  if a[i] in out or a[i]==\" \":\n",
        "    continue#no hace nada, pero marca la opcion de colcoar mas argumentos\n",
        "  else:\n",
        "    out = out+a[i]\n",
        "\n",
        "out\n"
      ],
      "metadata": {
        "colab": {
          "base_uri": "https://localhost:8080/",
          "height": 36
        },
        "id": "9o67Fnnh5MNb",
        "outputId": "c595dfc0-17ed-45f2-818c-ce4d87874e48"
      },
      "execution_count": 2,
      "outputs": [
        {
          "output_type": "execute_result",
          "data": {
            "text/plain": [
              "'holacmest,unñi'"
            ],
            "application/vnd.google.colaboratory.intrinsic+json": {
              "type": "string"
            }
          },
          "metadata": {},
          "execution_count": 2
        }
      ]
    },
    {
      "cell_type": "code",
      "source": [
        "for i in out:\n",
        "  res = a.count(i)\n",
        "  print(\"la letra \", i, \"se repite \",res, \"veces\")\n"
      ],
      "metadata": {
        "colab": {
          "base_uri": "https://localhost:8080/"
        },
        "id": "TWV6QTqsH0eS",
        "outputId": "98a67db7-df77-4c2b-b880-28f766f3995d"
      },
      "execution_count": null,
      "outputs": [
        {
          "output_type": "stream",
          "name": "stdout",
          "text": [
            "la letra  h se repite  1 veces\n",
            "la letra  o se repite  5 veces\n",
            "la letra  l se repite  1 veces\n",
            "la letra  a se repite  4 veces\n",
            "la letra  c se repite  2 veces\n",
            "la letra  m se repite  1 veces\n",
            "la letra  e se repite  3 veces\n",
            "la letra  s se repite  5 veces\n",
            "la letra  t se repite  3 veces\n",
            "la letra  , se repite  1 veces\n",
            "la letra  u se repite  1 veces\n",
            "la letra  n se repite  2 veces\n",
            "la letra  ñ se repite  1 veces\n",
            "la letra  i se repite  1 veces\n"
          ]
        }
      ]
    },
    {
      "cell_type": "code",
      "source": [
        "# 2 Se sabe que en una oración sin errores tipográficos una la palabra inicia\n",
        "# luego de un espacio y termina cuando empieza otro espacio, hacer una función\n",
        "# que imprima todas las palabras que contengan una cadena\n",
        "cadena = \"Hola que tal, cómo estás\"\n",
        "cadena.split(\" \")\n"
      ],
      "metadata": {
        "colab": {
          "base_uri": "https://localhost:8080/"
        },
        "id": "FDIPLSSce9iR",
        "outputId": "413b6431-65da-4890-aaea-49f403775451"
      },
      "execution_count": 3,
      "outputs": [
        {
          "output_type": "execute_result",
          "data": {
            "text/plain": [
              "['Hola', 'que', 'tal,', 'cómo', 'estás']"
            ]
          },
          "metadata": {},
          "execution_count": 3
        }
      ]
    },
    {
      "cell_type": "code",
      "source": [
        "# 3 Se tiene una cadena que alberga una lista de palabras separadas por un guion\n",
        "# \"-\", hacer una funcion que separe en palabras\n",
        "cadena = \"pera-manzana-durazno-mango-papaya\"\n",
        "cadena.split(\"-\")"
      ],
      "metadata": {
        "colab": {
          "base_uri": "https://localhost:8080/"
        },
        "id": "rlop8fucfRDr",
        "outputId": "b6486d83-a613-41f1-c4a4-fd65a070db1e"
      },
      "execution_count": 4,
      "outputs": [
        {
          "output_type": "execute_result",
          "data": {
            "text/plain": [
              "['pera', 'manzana', 'durazno', 'mango', 'papaya']"
            ]
          },
          "metadata": {},
          "execution_count": 4
        }
      ]
    },
    {
      "cell_type": "code",
      "source": [
        "# 4 Escribir un programa que pregunte por consola por los productos de una cesta\n",
        "# de la compra, separados por comas, y muestre por pantalla cada uno de los\n",
        "# productos en una línea distinta.\n",
        "cadena = \"pera-manzana-durazno-mango-papaya\"\n",
        "lista1 = cadena.split(\"-\")\n",
        "\n",
        "for i in lista1:\n",
        "  print(i)\n",
        "\n"
      ],
      "metadata": {
        "colab": {
          "base_uri": "https://localhost:8080/"
        },
        "id": "a6OIzNLmgZpd",
        "outputId": "abfa47a2-1736-4a3e-e749-2d3857b77a44"
      },
      "execution_count": 5,
      "outputs": [
        {
          "output_type": "stream",
          "name": "stdout",
          "text": [
            "pera\n",
            "manzana\n",
            "durazno\n",
            "mango\n",
            "papaya\n"
          ]
        }
      ]
    },
    {
      "cell_type": "code",
      "source": [
        "# 5 Escribir un programa que pregunte al usuario la fecha de su nacimiento en\n",
        "# formato dd/mm/aaaa  y que en pantalla imprima su edad\n",
        "from datetime import datetime\n",
        "\n",
        "dt_str = '12/01/1987' # \"01/12/1987\"\n",
        "\n",
        "dt_obj = datetime.strptime(dt_str, '%d/%m/%Y')\n",
        "print(dt_obj.date())"
      ],
      "metadata": {
        "colab": {
          "base_uri": "https://localhost:8080/"
        },
        "id": "ZkykN0wulswa",
        "outputId": "41705ca8-aeae-44c1-8c01-b0565c8a562a"
      },
      "execution_count": null,
      "outputs": [
        {
          "output_type": "stream",
          "name": "stdout",
          "text": [
            "1987-01-12\n"
          ]
        }
      ]
    },
    {
      "cell_type": "code",
      "source": [
        "# 5 Escribir un programa que pregunte al usuario la fecha de su nacimiento en\n",
        "# formato dd/mm/aaaa  y que en pantalla imprima su edad\n",
        "from datetime import datetime\n",
        "\n",
        "dt_str = '12/01/1987' # \"01/12/1987\"\n",
        "\n",
        "dt_obj = datetime.strptime(dt_str, '%d/%m/%Y').date()\n",
        "ahora = datetime.now().date()\n",
        "days1 = ahora-dt_obj#tiempo en días\n",
        "age = days1.days//365\n",
        "\n",
        "print(\"Ahora: \",ahora)\n",
        "print(\"Fecha de Nacimiento: \",dt_obj)\n",
        "print(\"Edad: \",age)\n"
      ],
      "metadata": {
        "id": "UT9Ep_Pvljjt",
        "outputId": "cc03333f-3b8c-44c6-b821-d2820c062d6c",
        "colab": {
          "base_uri": "https://localhost:8080/"
        }
      },
      "execution_count": null,
      "outputs": [
        {
          "output_type": "stream",
          "name": "stdout",
          "text": [
            "Ahora:  2022-09-19\n",
            "Fecha de Nacimiento:  1987-01-12\n",
            "Edad:  35\n"
          ]
        }
      ]
    },
    {
      "cell_type": "code",
      "source": [
        "# 6 Escribir un programa que pregunte el nombre del usuario en la\n",
        "# consola y un número entero e imprima por pantalla en líneas distintas el\n",
        "# nombre del usuario tantas veces como el número introducido."
      ],
      "metadata": {
        "id": "TSeb2OsHGEC8"
      },
      "execution_count": null,
      "outputs": []
    },
    {
      "cell_type": "code",
      "source": [
        "a.count(\" \")"
      ],
      "metadata": {
        "id": "dmg4zbpJ5kTH",
        "outputId": "90d0f01b-5672-492b-faf6-e0ad4601c75f",
        "colab": {
          "base_uri": "https://localhost:8080/"
        }
      },
      "execution_count": null,
      "outputs": [
        {
          "output_type": "execute_result",
          "data": {
            "text/plain": [
              "2"
            ]
          },
          "metadata": {},
          "execution_count": 8
        }
      ]
    },
    {
      "cell_type": "markdown",
      "source": [
        "# Listas [...]"
      ],
      "metadata": {
        "id": "7kBMw6run8bL"
      }
    },
    {
      "cell_type": "code",
      "source": [
        "lista1 = ['A', 'B', 'C',6,9]\n",
        "type(lista1)"
      ],
      "metadata": {
        "colab": {
          "base_uri": "https://localhost:8080/"
        },
        "id": "OcaAgD0rM23C",
        "outputId": "38013a71-73cc-4d11-f0eb-ed2f034f0f43"
      },
      "execution_count": 7,
      "outputs": [
        {
          "output_type": "execute_result",
          "data": {
            "text/plain": [
              "list"
            ]
          },
          "metadata": {},
          "execution_count": 7
        }
      ]
    },
    {
      "cell_type": "code",
      "source": [
        "\n",
        "lista_copy = lista1.copy()\n",
        "lista_copy\n"
      ],
      "metadata": {
        "colab": {
          "base_uri": "https://localhost:8080/"
        },
        "id": "VZj_6ZMtMxwJ",
        "outputId": "81145032-2aa6-463d-dacc-c7c6c2957795"
      },
      "execution_count": 8,
      "outputs": [
        {
          "output_type": "execute_result",
          "data": {
            "text/plain": [
              "['A', 'B', 'C', 6, 9]"
            ]
          },
          "metadata": {},
          "execution_count": 8
        }
      ]
    },
    {
      "cell_type": "code",
      "source": [
        "\n",
        "lista1.clear()\n",
        "lista1"
      ],
      "metadata": {
        "colab": {
          "base_uri": "https://localhost:8080/"
        },
        "id": "PAeXbf3nM0CM",
        "outputId": "d11365af-e938-4da5-f06c-e3f5bbfdbc40"
      },
      "execution_count": 9,
      "outputs": [
        {
          "output_type": "execute_result",
          "data": {
            "text/plain": [
              "[]"
            ]
          },
          "metadata": {},
          "execution_count": 9
        }
      ]
    },
    {
      "cell_type": "markdown",
      "source": [
        "## Operaciones con Listas Listas numéricas\n",
        "\n",
        "\n",
        "\n",
        "*   len()\n",
        "*   min(), max()\n",
        "\n",
        "\n",
        "\n",
        "\n"
      ],
      "metadata": {
        "id": "6cx9cSdjoASP"
      }
    },
    {
      "cell_type": "code",
      "execution_count": null,
      "metadata": {
        "colab": {
          "base_uri": "https://localhost:8080/"
        },
        "id": "Ljr6vBXvnhpb",
        "outputId": "8bbce1f0-cd8f-4114-d84b-8807b0e110c2"
      },
      "outputs": [
        {
          "output_type": "stream",
          "name": "stdout",
          "text": [
            "Lista numérica :  [3, 2, 5, 6, 1, 4, 5, 7, 8, 6, 7, 4]\n",
            "suma :  58\n",
            "n :  12\n",
            "mínimo :  1\n",
            "máximo :  8\n",
            "Data ordenada :  [1, 2, 3, 4, 4, 5, 5, 6, 6, 7, 7, 8]\n",
            "5\n"
          ]
        }
      ],
      "source": [
        "list_num = [3,2,5,6,1,4,5,7,8,6,7,4]#lista numerica\n",
        "\n",
        "print(\"Lista numérica : \",list_num)\n",
        "print(\"suma : \",sum(list_num))\n",
        "print(\"n : \",len(list_num))\n",
        "print(\"mínimo : \",min(list_num))\n",
        "print(\"máximo : \",max(list_num))\n",
        "print(\"Data ordenada : \",sorted(list_num))\n",
        "print(list_num[0]+list_num[1])"
      ]
    },
    {
      "cell_type": "markdown",
      "source": [
        "### Ejercicios\n",
        "\n",
        "#### Funciones matemáticas\n",
        "- Crear una función que dada una lista numérica, calcule su sumatoria.\n",
        "- Crear una función que dada una lista numérica, calcule su productoria.\n",
        "\n",
        "#### Funciones Estadísticas\n",
        "- Crear una función que dada una lista numérica, estime la desviación estandar.\n",
        "$$s = \\sqrt{\\frac{\\sum_{i=1}^{n} (x_i-\\bar{x})^2} {n-1}}$$\n",
        "\n",
        "- Crear una funcion que estime el promedio.\n",
        "- Crear una función que estime la mediana o valor central.\n"
      ],
      "metadata": {
        "id": "EFXHPNOkrlOf"
      }
    },
    {
      "cell_type": "markdown",
      "source": [
        "## Listas anidadas\n",
        "\n",
        "Podemos colocar datos de diferente naturaleza (numéricas, strings, incluso otras listas)"
      ],
      "metadata": {
        "id": "_uINKXgs4A4E"
      }
    },
    {
      "cell_type": "code",
      "source": [
        "list1 = [4,5,[3,4,4],[\"python\",\"R\",\"julia\"],\"Datos\",\n",
        " (\"tupla\",5,2,8),{\"key1\":\"diccionario\", \"key2\":8}]\n",
        "for i in range(len(list1)):\n",
        "  print(list1[i])"
      ],
      "metadata": {
        "colab": {
          "base_uri": "https://localhost:8080/"
        },
        "id": "bJ5WBd0h4MNc",
        "outputId": "4a3bc44a-4c52-4df1-f4ad-f1f31e8cf3a6"
      },
      "execution_count": null,
      "outputs": [
        {
          "output_type": "stream",
          "name": "stdout",
          "text": [
            "4\n",
            "5\n",
            "[3, 4, 4]\n",
            "['python', 'R', 'julia']\n",
            "Datos\n",
            "('tupla', 5, 2, 8)\n",
            "{'key1': 'diccionario', 'key2': 8}\n"
          ]
        }
      ]
    },
    {
      "cell_type": "markdown",
      "source": [
        "## Indexación y Slices o segmentos de listas"
      ],
      "metadata": {
        "id": "7Ni2UlQY5abx"
      }
    },
    {
      "cell_type": "markdown",
      "source": [
        "![image.png](data:image/png;base64,iVBORw0KGgoAAAANSUhEUgAAAg0AAACbCAIAAABu2j+0AAAgAElEQVR4Ae19D1BU173/bcO+dmmYkinv4TCz050J7ezQROLO22lp+XXT0Nn3+pjhbbB2YaSSSI1rg1Qg7vO9nRCJaMDZMa6LKJqNUE3QwYg8DHaDVTSiJKuANutgumNeKWEQB7PpKgFluT/lG4/He3fv3n8Ld/XcOQPn3nvuOZ/zOeeez/meP3cpmhyEAQkM5L/i+telm/916eafLKtlu5+9uDGSe3ZFjSD376vrRLtnLI5frnIyXG7ZNrbLf8XFdgX/vR13v311B+5eXN+Iu5dqduPu5bo9yP3B0Yxc5Zv7kPuDo/nZFTUMeL9c5WTDyy3bxoaX/4oLhwd+6Qj/4GhGCCvf3PfsipqfLKtlgFQUwoL/3s5GyJ9GuTh8uW4PKmUGhy/X7cl/xfVy3R6c2Mo39/13/f6wrnrXobCutqmT4ba2HIvkdr7Xw3a72s7vajvvbu93t/c3dQw0dQzs7bwI7t2jnwyNfsloEijGOTklDAhi4BmLQ2d2PWNxgHv611vAZeRvBaczu5Tgnv71lkgIM/K3KgFhRv5WBsKnf71FUTQqHOFPltUqvCo+/estSqhpUTG8XNvJaASITjAIIafCGHjG4vjZixtpOpGPu01/B7lJ+vFJ+vEbt792/5h6HNwXXyUhd/3G42PB744FvzsSeAK5ofHvIfd/1/75/679s//qvyB3+fMF4HxDaeBW1b2oM7t2/a9RHEIEkj/CkcATDIQ4SDbCba2/1JldVbvzhSK8TX8nLI2IwC++SkIcRqIROAyL8PLnC4BDz7kf6cyuVXUv8kFI04molPkg/OKrJChlKQh9Q2k/e3GjzuwSjVBEQaNSHhr/Hp+qWFRVClWRUUV9Q2kXPtMgd97/fXAfXdaCO3PpSXAffvID5Lov/rD74g//3KdDznPuR+De730ad4dPP4Pceyf1yB04bkBuX9eP93X9uKHtOZ3ZteL1DkYrQHSCQQg5FcaAIJ3g+Q7LG8y23cJfJ+RNmmds753U89cJnnHKG+z/rv2zzuz6w5bfyhutvLEJ0gl5k+YZ2/INK3Vm1/u9T/MMP/fBRgJPEJ0Q1gKS0HwYeMbieHZFzdxXaP4pEp3gz1WkkP6r/0J0IhI5/K8rXyeGxr9HdIJPu0fCCGOA6AT/ZiJSyAPHDQq3J+JFJzLyt0YiWQnX40UnVtYcYbQCZNyJQQg5FcZAvOjEns6fKaGlCIuB6ERYWoRe/NmLG4lOCCWNER7sCaITwhpBEjoqA0QnGG+aiFOiEyJIYz8SLzrhOfcjNniFXAGdWLXpfcaLT+wJBiHkVBgDT/96y3PWVxVSy8PCgPkJYk+EJYfnRTLuxJMo7mAw7kR0QlgTQ0I/BAwQneBuGvjc3df1Y4XPT1z+fIHy57F/sqw2LsadlKwTsLCN2BMPQcusrCwQneCjBNxhiE5w88Pz7k+W1T796y08A89LMOXbE0QnlNW8PjRolK8Tf9jyW53ZpeRxJ6ITsrTaRCek0wg6QfZjPzTts1IyEi86sa/rx9LfohjFADqxoSkvRvFLjzZexp3iwp74c59OeonEKAaiE0ppWB8yHEQnpL+xezp/pjO7lKwTvqG0uJifIDohsTbCggViTzxkrfT8Z4fohMQ3k6YTiU5I55CmE5U/7gTfd1KyPQE6sXrzUUbLQtbFMgghp8IYIDohvY2LF52wbbdIz2zsYvjJstpnLI7YxS89ZqITwhoXEvqhYSBedOLAcYP09zxGMRCdkIVYohPSaYwPeyIUmnloGtBHJCNP/3rLv69eJ72Cxi4GWO9EdEIKwzA/IdqeGAt+d/2GBOSu33hcCphIz8aLTnRf/GGkLMz7ddCJNQ4Po/ma/3Enn89XVlaWk5OTlpZGUVRycnJGRkZhYWFXVxcDq9JOBwcHfT5fMBhUGrC5xJORv1WKTvwq9xu/yHnA/Sr3G7/K/cYLyx9bvyHhxIfflv7mPFI68XGfGrmx4HelswcxSNSJCz41hR2Xr6jlAobHQ3QCZ0OcHxa2KUsnpm7dstvtavUDdQirTpRGo+nr75vLVo9/WqHQDEBt3NXI/6mHL6REnUhMxAs8jH9hJnXBJ6lZUb5O7Ppfo87sqtv3H+LebfwpnM/6nSr8lhQ/0Qkp7KFnYX5CyfaEEnUiOzsbGoakpCSbzdbS0tLT09O4q9FqtYJtQVHUobZDymxbiU5AucRaJyiKWrCAktIDhd+ze++kHr2uSvPESCfebpZNJy58ptGZXaLHnebGnoDfaVda4eJ4iE4IbszdbjeIRFZW1tDQEOP5mzdvVlZWqlQJRCcYzCjtVEadWLCAgjGoBQuYhsWvcr+Bv2+C/EQnBNEVNjDRibC0CL0IOvHhJz8Q+uCchVeWPTF+fTw5OZmiqKSkpPHr45HaPp/PNzw8DHdbWlqsVqvJZMrMzExPT8/KysrLy3O73ZNTk/jjk1OTpbPHwIUBmqZ9Pl99fX1ZWZndbr89PU3TNM94IM6urq6ysjKj0ZiRkWEymcrLy2EcrPtkd2lpKTRmRqMRUiwtLW1oaMDB0DR9qO1QcXGxXq/XaDRGo7GiogLPb1S0EBt3JChFj8dTVFSUlZWVnp5uNBqLi4ubm5t5Tp/4/X7IhdBhNBl14jcF30Tvwzv7/wnXigULKHRLqAd04vDpZ4Q+SNOJ9TtVS3/72NLfPvbC8sfWrnuMEYPjzYSVv38MnOPNBMZd/qfwo8QSx53ebr4LVaVKQLz9NPvuNA+4kWuSxu4k6sTHfQ+MLV++oj7d++0Xlj+2MPOusfjT7G9IYQ/xLJc90X7kW78p+ObCTCoxkXriibvwXlj+2OleGabKJOrE0IgaqiKU6Vjwu7LTCDpRueUD1KqAZ37msZubm6E2OxwOBqBIp1qtFr0AuCczMxOXikAgAHfr6+stFgse8ubNmzRN84wnGAwWFxfjjyN/3eyBTnGP0WhE+IPBYGFhIX4X/CkpKd0nuyFYVLR8IqFpOhSaycvLY6dFUVRubi6CxOHp6uqCx3NycjiCsW/JqBNLf/tAQ7ww84EMffFVEmoRBHmk6ITjzfvNLkU9MFPyj6nH8cmA9RvmWSeW/vaxB/h68ETKwB1NJ8qrE7/I+caD6O6eSTEZoT5I14mRa+pf5YbBBmhfWP7YP6YkrdSSqBMMuY0FjTARpRSdsNlsQP3IyAi76Ql7RTt7WK1Wp9PZ0tJSX1+PpjfKysrQI6jlRRUxOTlZq9WqVAkTExOgE1qtNmo8qIk3GAwOh8PtdpeWlmo0Goqi7HZ7T08PyoLJZLLdO5qbmxGSoqIiiqJUqgSr1drV1eX1ep1OJ1hRWq0WjJuoaPlEQtN0XV0d5DcnJ6e+vv5Q26Hq6mqj0RjXOvHT7PtvrEqVcJv+jiB5QIGl6MT1Gw+IQdma+0r2drMK1TGVKkFKh10WeyKOdALxxvC0H/kWKjURHuk6gVc5BjY4fWH5/QogAqHlf/6gM7tEjzsxdCIsQoqipNCoLJ2Azq9arUatalTP2LUxRphQaAakQq/Xo1t4y1tUVDQ4OAi30M4MPvF0n+yGMigqKkIP0jQ9OTVZXV1dX18PXXgIE3agpqenB+7iykHTtNfrhetut5umaW60PCOhaRp40Gg0U7duISpomu7p6QG0+MWw/p6enuTZIz8/P2yASBd1ZpeUdbF4lxy3J44c/RYQBX+ffHJ+xp1oOvE3Bd9ESPDhL7w3J7EvLItOfHD82/U7Vfi4028Kvul4MwGcxC0L8toTd9anLMy8a0AwJqJW/l5SKyxRJ+p33hd+iqJ+U/DNj/vUJz78NkM8pKzVll0nZKdRWTqRkZFBUVRGRkak1of7ejAYHBwc7OnpgV5/UlISCo9aXj4jWpHigV4899wJ93onGLMyGAwIGPLo9XqKosrLy3GdCIuWZyQ0TWdlZVEUlZKSAjYTSmsOPBJ1Am/XnnySWvn7x2BoGDXN4JEyfg32xPu9T4voANJ04gfHv42D+eD43XHqkWtqHDlcFBc/TSeCTmzZ/2+iY0AP4ror43qn8/7vS1nvxOgII7qu33j8iSfusytRbv916eafLKtFVAj14HqA90sYNqUUkwJ04sylJ4Vig/BzQCPoxNqtzL1r8zM/Ae1aWlqaoIaspaWlqKgIBn/uVy6Kwu0SpBMtLS2RIo8aj8FgoCjKZDJFiiGqPQEZTE1NzWUdMPSUl5eH60RYtDwjoWna4XAAIcnJyaWlpa2trewlZBx5kXJLZ3b9Z+V/iav3NJ2It7Z4meL+hZmU6EEnmk6UqBM0nYh3e2GyHZ+3wNsUcTxsa/2lzuxSvk5U7c4Xl0FGAzc0cn9SHTfLfpotflUbTSdK1AlcsRhrFvBJCykg5dWJWNCoLJ1AU8Qwtxy1nZqYmGBMSqelpWVmZoJm8NcJnvFAU15SUsIBjNueSE1NxVs6th9mvLlVjWckNE2PXRsDEw1PKD093eFw4ONmHNkRfSvWOiF98hB+REy0PUHTiXc+OIGITUyk/jH1OD7HLsXWgWb3UdYJfFhPShMsUSdGrj2wIouxRXHl7++vEXjiCfFDoLHTCbloVJZOoHnXnp4ePi1UdXU1vKjZ2dndJ7vR6IrT6aSE2BM844FdfsXFxRzYuHUiJSUFLJKeCAdMnHDrBM9IAOTk1KTb7TaZTPAUateqXqviyIX0WzLqRGIi9eSTX7tf5Hxj7brHpIwFo56vdJ0YGnmgEVm77n6rkZhISRz6p+lEGXUCt8/e2f9PiASJno8ua6X8gjeHPYFPv8+jTnzxVRJ6ZSiKYmj/na/IoLv4HJVQVmOnE3LRCBNRShl38ng8wDv32A5qxWCeVqvVoivgEaoTPOOBlULZ2dmM5PBTpBPsPRM0TfOJIeq4E89IcFTg9/v9d+bbQTDYpLHDi74SCs3IqBNSRn453ljpOkHTifjwCGoyKIrC5945MHDfipFOyDg/IVEnTvc+MMeDD5jI1cCBPfGzFzdyU81xFx9dZMyo46X/ixzxg2MSdWIOaASdWLftGKNNmJ/5iVBoBuYAKIoKOzQPbWhJSQlsNYBvQLGX4sC4PP9xJ57xWK1WWNLq8/kYfNE0jXauQWw1NTXsMLALT6VK6O3tZd+laRoWJnHbEzwjAa7YqSCjjc9cRTAY7J09/H4/O6pIV6TrBN7mxlQnPOd+xNFGRL3F2PeHYH/cd3+oPWokkQJs2f9vsZifwFfxRkqa53V5dQJfQ4zrhJQmWLpO4GLwxBP3zUTGR0eksLpk3Ss6s+ujy1qetDOCMXQiFjQqSydomh64MIBs5NLSUjSUBA1xc3MzdIfhux0w+K5Wq9F+i9vT0w6HA1pq/jrBMx6fzwfYMjMz8UZ2cHDQZDLZ7XZoN2HLnl6vZ6xGpWna7/cDNq1Wyxhb6+npycrKqq6ujmpP8IyEpum0tLSSkhJEDsADc0StVsNejUhtPVwXt88OdCJ/bTmjQvM/RQ0uRVFK1onb9HfweU6AvTBT/FA1TpGMOvHkk/cZVakSflPwzZW/v7vtGW9T8KR5+uNCJ56xOKTYE4xWeMECau26u5vw8SVkiYkUbgzxZA8FIzrB3QqFv+t0OqExhTkG+DYGY7806ASaV6AoKjMz02AwoAfFzU9EjQdto1Or1UajsbCwENazwj47yA+YHRRFabXa3NxcvV6Pb2ZGa5AoitLr9RaLxWg0wgw5RVF8dAJfyMQRCU3ToKlqtVqv1xcXF1sslvT0dGgwrFZrePYfvPrQ64T0H5ssW3N/kBq4Zcx2ouZAqAd0YlvrL4U+yA7PBglQpbRuNJ34KOgETSfi89X39RbzSSzxeNEJ+/bjDzYP9PyMOyEQg4OD0O3FyuJrb3p6utPphAVRt6en2d+lyMjIgI0O/O0J/vGEQjNOpzMp6YHZLYq6+6nzjo4OwD92bSwz84GPS+Df7aBp+nD7YfYqXoqi0tPTOzs7o9oTkErUSGiatlgsyDhDTKpUCSUlJXyMCZqmxenE7elpndkVF/aEdJ1gjD8kJlI3bkv6igNq5WXUiX9MPY6Pn6DKIFEnzlx6Uso8NqOrjhs3Mo47SbQnoDjqd6pwAwIRuGAB1domabs4TScSnUAtvxiP3+/v6Oioq6uzWq02m61xVyPaR41H19nZabPZiouLbTZbV1dXKDQzPDzc2dmJ/6JRKDTTOXuw912jqPjEA4HHr48DMJvN5nQ6u092M5aZhkIzh9sP19TUVL1WVV9fDx8fRAnBFu7uk92NuxorKirsdrvb7cZ/UYMP2qiRIKiH2g45HI7S0lJICB8xwyGF9QcCAeANhxc2JH5Ruk4cOfqtI0e/1X7krpP4OxOo2WV4YB5buk5cvvLAqifGVCcjUUGnMuoEpHu69+7ebBg2Wb8hobXtW1I2oNB0okSduH7jcbygJ+n7+vpxn7q17VvgJH5rTxadgE2U7+z/p7Xr7m75vLPeFAiUpU8gUSfmgEbYUKk4ewJvdIg/7hiQrhOC2lNxgeHja9J1gjEoIfHLenhe6vb9h87skmXcCY9WRj/oxIamPBnjlD0quXRCdmAoQtCJ8/7voytK8xCdiLtGOA4Ax5FOSPwRMcbXYSWu9Ge0DkQnGISIO33G4nh2RY24Z+fmKaITcdCoEYiyMzB165bE+Yk5eD8lfswZEOIf6qAoSsYtbDSdCDrR0PbcHLAhLol4sSeITogrX/QU2BNVO04w2op5nsdmoCGn8cXAo6MTP83+xhNP3P3VmieeuLtjXOJwP3otwaN8nfjwkx/ozC7ljzvFhU5c+EzDqADKOf16YRvRifhqiBWO9tHRiZi+yUQnZKE3XsadiE4ovFkj8GRmIHhzSmd2Wf7nD7K85zGKBMadRH/MOUao8Gg3NOXpzC4ljzvFhT3x9K+3PGd9FSdWaX6YnyA6IXMzRKJTOANEJ2RpiYhOyEKj8nXiPyv/S2d2KV8n1jd+/cPMqP0h8xOICuIRzADRCVkaOKITstBIdEI6jTA/QXRCcFNIHuBgIBD8SvnjTvCRTtEfX5P+7kWNAXRi1/8ao4acrwDdF3+oM7vq9v3HfAHgky7RCT4scYeBhW1EJzgaPXJLMANEJ7jfOp53iU7wJIo7GNEJbn743CU6IbgRJA9EZWD8ywliT/B5/bjDEJ3g5ofn3XjRCd9QGs8czX2wrzfKvHWS8e6T+QkGIeRUAAOgE0VVpXNfofmnCONOSv5YQtXufJ3ZRcad+Jdp2JBEJ8LSIugi0QkBzR8JypMBohOCXsJIgZWvE3/u05H5iUjFx/86rHci9gTP5oUEe0gYuHr9hs7sIvYE/5YibEiiE2FpEXqR2BNCGWOHh40yG92nGC0UGXdiEEJOBTAAOvGc9dV9XT8Gd+C44cBxw3sn9YdPP3P49DPv9z79fu/TnnM/+nOf7s99uu6LP+y++MMzl5786LL2o8va8/7vn/d//8JnGt9Q2uXPF1z+fIH/6r/837V/Hhr/3kjgibHgd6/fePyLr5L+MfX4JP21u01/Bzl2LQ97JX9tOYzqMGB8+MkPzlx6EoEBPBc+0wAe31AaAxUCBthweBIRgk7YtlsQQuDqw09+wACJMxYJIWKPgfDGbfEcgj2xqu5F/ggRjXjJAodshFDKUhDSdGJG/tafvbiRgbD74g8jcchAiFc/QIgqIaqHEgta+fYE0QkBzR8JypOBq9dvGJY26syuOXYZz9cj99Ti7cgtXNLAcIsKdi4q2DnH8CA5/ggXLmlQDsKnFm9ncAinGc/Xzz3IsByGRbioYGfWst3ziDDj+XpUDyMhXFSwk8Et1M+wfw1LGyO5rGW72e7/vdgY1f3ipZ1R3VOLt6+sOcJoAYg9wSCEnApjAKr+6s1HX67tfLm2c9Wm98GtrDmy4vUOcMvXt4Nb9mobckvt74ErWHcQ3BJb6xJb6+JXDoAzV+wHl7emJW9NS+7qd3FnWrUPuZyVf8xZ+cfnXmp+7qXmZ3/X9Ozvmn6+fM/Pl+/JfsGd/YIbWuHc1e8CSBwhAokQLl/fjhAue7WNgbBg3UEc4eJXDuAIGSARPNOqfZEQAkhQsudeambQuLLmCEK44vUOBJKNcKn9PRE04ggBJHAINAKHgBCa4J8v36MohIyChi7L6s1H2QXNXRXZBc1dFUUUNFRFKOisZbtxbrNfcOONPq4NuH4ggQE1AgWNkS7mrn6X0QoQnWAQQk6FMbCoYGf2C25hz8xtaPv243fHndrOz22yAlJrOzGoM7vYPyImIIoYB73y+Rc6s+vl2rs/1qvYI/sFt87sUiw8mqZXvN6hM7uOfPip7CBDoRlwt6enb09PT926BS54cwq5QPArcONfToC7ev0GciNjwZGxYP/lUZ3ZteL1r3/aGeEkOoGoIB4xDChfJ9ZtO6ZwnWg9donohJjK9+Azj7JOPMiE+LORsSDRCfH0kScjMbCoYOfPl++JdFcJ1+NFJ9g/DqME9gAD2BOrNx9VDiQ2EqITbE6EXhka/ZLohFDSSPjoDCxc0hAXOuFu74+emXkKAfYE0QmJ9MMkisRIYvr48vXtMRp3kgs26ASZx5aLTxLP1wwoXyfWbu3SmV1K1on9Hp/O7FKyTnw6NK4zuxRuT2Qt253xfL2S30zQiT+d8SsWJNEJxRZNfANbuKTh2d81KTkPyteJd49+QnRCehUiOiGdQ9CJVZveZ0RF5rEZhJBTYQzEi040dQwIy9gchgadYH/MeQ4hREkK7Ik1Dk+UcPN6m+iEdPqJTkjnkMQQhgHl60Tllg90ZhfRiTCFx/tSvOjEU4u3887TPASMl3EnYk/MQ+V4uJNcuKThuZealZxH5evE3s6LOrOL2BMSa1HWst1EJyRyCAvbiE4IphFtYBH85KPxANEJ6eVMdEI6hzRNx4tOHPv4iiz5jUUkkTZUkvkJLraDwWBycjJFUWq1emhoiCvoo3pP+TqxxuHRmV17Oy8qtohAJzawfhxGOYAvXbmmM7uUPz+xcEmDckhjI4FxJ6ITbGbi+0pdXR01e7jdiv40xTyy/NTi7Tkr/ziPAKImrXydaOoY0JldyteJyi0fRGV7HgNkLdutcJ1Y9mqbzuxSvk6wF0ATeyJixZ6cmkxJSaEoKj8/P2KgR/5GvOjEu0c/UWxZEZ2QpWiITkinMdLGe6ITEbl1Op0URWk0mkAgEDHQI3+D6IT0KgA6wf5xGOkxyxUDjDsRe0Iin2BPnDj3mcR4Yvd4pA2VRCcict7a2lpTUzNwQbnr7iNCn8MbTy3eblq1bw4TFJzU6s1H73x+eb/HJ/jJuXrA3d6vM7uUrxNrt3bNFSVi0jEsbVxUsFPMk3P1DNGJuWL6YUmnurq66rWqvv6+eM+Q7Dpxe3paXk5AJ1qPXZI3Whljk10nYJGejAj/8terOrNLRp2YnJoMhWZkREjTNNEJ6XxG2ihD7Ikw3DocDiPr8Hq9YYKKvQTT4w0N95dn+P3+9Nmjvl7R36hh5FgWnfB6vcXFxQaDISkpSaVKSE9Pz8/PdzgcsjQl8uqEz+fLysrKnj3y8vIYbIg73dV2Xmd2bXr7tLjHaZoOBALNzc1FRUUGgyEtLU2lSlCpEjQaTXZ2ttPpnJyaFB0zPChdJ/r6+6peqzKZTOnp6bCGUKVKSE1N1ev1NpttcHBQIsJY6ITT6TTNHrmzR1eXVHNKuj1RV1eXgx0ADweZm5vbuKtRNJlEJwRQV1xcDO04/rejg/nbHQJiZAVl68TAhQG4WPVaFSu4ci9kPF8vcdzJ6XSq1WqcauQ3Go3j18clZv7l2k6d2SWLPXF7etpisSB4qampErHB46ATb+wRrxNWqxWhYntSU1MlWq4SdWJyapKNCr+iVqs7O6X+CJK89kRHRweOkKKo5map+0mX2t/TmV2n+v4mutoUFRUxULFPrVar6PiJTgigbnBw0OPxoHevpaXF4/HIO5sNpYvbE8PDw5bZ41DbIQFY5zuoRJ1o3NXIruj4lYyMDIlZlK4TwWDQZrMVFxdrNBocm7w6UdvUIzqnqK7i8HB/WlpaMBgUHT/oxLptx8TFEFUnYIvS8PCwuPjhKRl1wufzJSUl4QTGkU6UlpaKppHohGDqYL0TRVGjo6OCH472AFRBXCeiPaHQ+1J0IhSaSU9Px99Gq9VaU1Oj1WrxixJ7mqs2va8zu9pOiB/ZGB4exvEgv1w6sePgOZ3ZJUUnSkpKAJVWq83Pz7dYLLCkG0GlKGrv3r2i65BEnZiYmAAkKlWCXq8vLCysqKjIzc1l2JESO+xy6UQgEGDUQAAvER5N09LticLCQlSmSUlJ+ntHJnbU1dWJLuhIGyrJ/ERESiPpxOTUZOnsMXBhYGhoqLKyMjs7G8aC6+rqwg6pu93u/Px8rVabnp5uMpmam5uhsHGduD09XVZWVlpayh4i6OrqKisrMxqNGRkZJpOpvLycHeZQ26Hi4mK9Xq/RaIxGY0VFBf8RG7/fDzkSMbKZ8Xw9+1fXI3L64A2GaW+z2eC+3+/HWxCTyfTgc8LOpOvE0NAQejlxT1pamjAoEUJL1wmr1WowGDye+99zDYVm8vLycLRShiPgZ5Ol2BMajaayspLxUYPuk904QokjroaljYal4ofmoXBCoZmcnBxApVIl4PCUphM5OTkRKpT4y5EWQBOdiMhpJJ0IBAJQe4xGI96cwcXc3Fw8xkAgkJubi9c23I/rBOpz4dUxGAyGnSy5Y6ejXkMwGMR7GSj+lJSU7pPdOJhI/q6uLnhKRM3TmV2idaKyshKhpSgKn8w0Go3ollqtjoScz/WVNUck2hOBQKCioqJ89sjIyEDAlKMTYXnweDwIKkVRUoYjJOpEWHg0Tfv9fhxhS0tLpJB8rsuiExUVFQgS6s/BFSkGGeCXbk/g02Mi3taoNBKdiEoRM0BUnYDak52dbbPZysvLkaWPd+vQvJNer6+pqXG73Xa7HbU1UXUCCYDBYHA4HG63u7S0FEbJ7XY7IIYkVKoEq9Xa1dXl9QJlxmcAACAASURBVHqdTicsKdFqtXyWmc6XTuCVPjk5GS8Am82GXleKoqSMrUvXCRwYGuGhKEpendjcfAZPSLp/7969OIdS5r1AJ+zbj0tHNTg42H2y2+PxOJ1OfNRRq9VO3bolJX7pOoEzVvVaFeoRyqsTpwf+Ljqb+CujUiVkzB5Go7G4uLi5uXliYkJ0zPAg0QnBBEbViczMzN7eXhTv4OAg1KeKigq42NvbC1csFgujvYbr3DqBrPKioiJ8OGtyarK6uhqWz/b09EBUuBVC07TX64XrfL5M1dPTkzx7iPhCiRR7Ijs7G0BSFKXVahGTNE2jL2tBANzUwIPx8curE7h5J5dO1B/w6swu2XXCZDIhelWqBClaK6NOoK4PwkZRVFFR0di1MT6lyRFGok54vV40PAArnmXXiYJ1B3Vml1w6gRMI/uTkZLxF4uAq0i2iE5GYiXg9qk6wzWQwFFBrW1paCgs52DPhUK7cOgGGQlJSEsdMAzRbBoOBnQ29Xk9RVHl5OfuWjFek6ATenczMzMRRIfKBqJ4e8WuBVrzeIeOP1+M6odFocMyi/bHQiZqaGrwdkbjVQ0adwHvEgDA1NbW6ulqKjAHzUnRidHQ0LS0N8GRkZACY8evjOIfs911oicdaJyiKSkpKYk9e8scZaQE0mZ+IyCFqqhitPOplsOsNjKqjcUOYEDMajew0oP5x64TBYKAoinsWNysri6Ko1NTUXNYBQ08SGwg2csYVKTqRmZmJ3kPG+ldEPgSQ0ktSvk5sa/lIZ3Y59p5lcCv6tKWlBRFLUVRKSgqjDguN2XtpRGd2yTLuxNYJgKrRaK5evSoUGB5etE5M3boF7xFFUcnJyX6/H6KNkU6cvSh++S+sZMvJySkpKbHZbFarFX+JgMmSkhKcFkF+ohOC6LobGDVVjHeMQydgyhrpBEwkFBcXs9OGEuXWCWjouUs9NTUVbxHY/rAqxcYj+orO7MpbI3L6ER8YYYzhVFdX43mRsrL+UdOJhoYGfKGOxA4mVAwZdWLq1q2bN28GAoG+/j4wuFFBFxUVia6HNE0vKtiZtWy3iBjQFleKomCXeGpqalpaGuPlSklJ0Wg0aFWeiITAnpCiE2ET7erqQiNmFEUxulxhH4l0kehEJGYiXpeuE2DJitYJjscRaJg8N5lMPREOKSP7KBUOjxSdwMdw1Go1Po2J31KpEvDpGQ4wYW/J+6PEODC5xp3AnnjznftzXWEzEvViKDTDmP+/Y2jK8r0Z0ImqHSeiYhAaAI32UBSVnp4u9HE8vCw6gUQrkifs64zD4PDHSCdomsan+qSsD4y0UYaMO0UsVuk6AcYsMi/wlKAWctsTMIqVnZ2NP8jw8wnDeETG01BoRopO2O12/G3EV/HiG50YpoZQ/PLqBFrAxp57FwoMhZdFJ8avj+P2GUVRmZmZjP0KKEWhHok60dvbG3aGKRSaQasE4Rv+QoHh4UXrRF9/H14Puf3zqBPDw8MdHR3sPtPt6Wn8fZEit0Qn8BrFyy9dJ2AoVq1WM775EQrN8NEJ+BiDSpXg84X5JjZMtYHlrlIlRBrBxzvpkbIdDAZ7Zw80MhspJOO6RJ1AK8SADYPBAF+sQ8zDdbR+jJE6z1Pl68Sb7/TqzC4p9kRvby/eMacoSq/X9/b2DlwY8GEHox7yJPDu8rnZ+QnR9gTUUr1e37irceDCAKz96+vvY+wERAtA+APDQ4rWibFrY457Rx12MPoxFoulurpaynfeJNoTsC9Vo9E4HI6+/j745q7X62Xs0LJYLDgtgvyRNsoQeyIijai1Ej0/0dnZCS1dfn4+aq97e3thJRJFUdz2hM/ng4FmRsdwcHDQZDLB/gm0dVmr1TK6bD09PVlZWdXV1RFzeO+G6P0ToBPmiv33YhL8n9EFTkpKwntGMF4ssVMsXSf8fn/KvQMfCFapEtLuHfimGaEsSNSJmzdv4qigyoX9y1g8zR8n6MT6Rl7bNtnRMj4/BZ+zZSMUDQ9SFK0TbMBwZXR0FAfZ2toaKSTP60tsrXfWfXgvjfAMzwjG+H5BWBpVqgRGO8CIhPuU6AQ3Pw/cdTqdOTk5aNVmVlZWTk4OGuflP49N0zSShOTkZIPBwJgZ49YJmqbRcLNarTYajYWFhShCtM/O4XCg2qzX6y0Wi9FohDlwiqIUrhNerxdBRbnAPZWVlQ+UjfAT0AkpP0rMsHtweMgvZRcb6MS2lo+EZ+7uE8FgEMHg9ohuiM9eHNaZXXLpRFiQ3Os1+DCzqGBn9gty/o79yMgIDnXedeJw+2EcT1g/+kwDH8bYYSItgCb2BJsrGp+rRIWB7E1BOjEyMoJadohKrVajte1RdSIUmnE6nexPV2o0GoSHpunD7YcZnzKFtNLT0/l8RE+0PXF7elpndkmxJ2iaHhoaYlCEiBLdruGFKv2j/3x04nD7YTxRQX7H3rM6s0u0TqAKiepqJI9oPiXqROOuRo7eQEpKSk1NDWMjqiACIXCsdUJKVwAQSrQnvF4vo6OJF3RGRoZ0hEQnBFQ8n8/XyTrQZrdQaAZusneQ9vX3dXZ2Mva5TE5Ntra2VlZWlpWVud1uGEXxeDydnZ34ck8ULWOYi6bp8evjHR0ddXV1NpvN6XR2n+xmz2VNTk12n+xu3NVYUVFht9vdbjcDBkf+A4EA5Ij/IxCbLDpB0/Tt6Wmv19u4q9FqtVoslqrXqg61HWLzwJEFjlvSdSIYDHbMHofbDx9qO4Rc672jpaVlZETkYAJN05ubz0jRidvT0wCvo6ODA2FLS4voETyJOkHTdCg009vb63a7q6uroZQLCwvtdntLS4v0n1GC0pddJyYmJppnD/fsIZo9VDkl6gTE09ff53a7a2pqgMaysjKn0+nxeNhtAkqXv4foBH+uSEi+DIBOLH7lAN8H5iOcdJ2INWqJOhFreDRNg05seOvkHKQlOgnZdUI0kkgPLn7lgJT5iUjRyngdJqLYGyrJuJOMJD9yUU3duqUzu4hOSCz42qYeKfaExNT5PB4vOvHz5Xv4ZGe+whCdmC/mSbrzyUAc6YSUH5uMNcWgE/UH5PwBdnkxnx74u87sUr49ERc60X9Z/t89k6u4Iy2AJvaEXAw/ivHEhU5I/+h/rIv2jT2ndWYX0QmJPC9c0kB0QiKHRCckEkgeD8NAHOmElI85h8m5rJdAJ3YcPCdrrHJGdqrvbzqza6P7lJyRyh0X0QnpjBKdkM4hiYHJQPDmlM7sWmKTuv+IGa+s52BPKFknNr19154gOiGx2BcuaXj2d00SI4np4zA/QcadYkoyiVxxDMSRTsj+kU4ZC2Oj+1Rc6MSmt0/LmGvZoyI6IZ3SSAugyfyEdG4f3RhAJwrWHVQyBRI/qjMHWdvw1sm40Ik39ihdJ557qXkOykt0EuaK/XfWB/7lr5J+ZkN06nweJDrBhyUSRhgDgeBXOrOL6IQw1lihiU6wKBFzYeGSBqITYojDniE6gZFBvDIxQHRCFiLXN3brzK5dbedliS0WkZw495nO7KptEv/rs7FAxYiT6ASDEBGnoBPsBdBk3EkEmeSRrxkY/3IiXuwJ0R/pnIPCJjohC8lPLd5O7AmJTBKdkEggeTwMA3GhE7J8VCdM5uW7RHRCFi6fWrw9Z+UfZYkqRpEof34i0oZKYk/EqEo8EtFevX5DZ3Yttb+n5NyCTih5MWLVjhNxMe60ufmMkgta+TqRt6ZFZ3ZdunJNsTQSnVBs0cQxMKITshQe0QlZaHxq8XbTqn2yRBWjSJSvE5E2VBJ7IkZV4pGI9ur1G08t3m5Y2mhatS939btsl7emxVyxH9ziVw4sfuXAElvrEltrwbqD4Jba31tqf2/Zq23glq9vB7fi9Y4Vr3esrDmyatP7L9d2vlzbuXrz0dWbj65xeNY4PJVbPqjc8sHarV3rth1bt+2Yffvxqh0nqnacWN/Yvb6xe8NbJze6T72x5/Qbe05vbj6TtWx3xvP1BesOQpx4zKs2vQ/x45Hj8eNJ2LcfxxPa8NZJSGij+1RtU09tU8/m5jObm8+8+U4vuG0tH21r+aj+gHfHwXM7Dp7b1XZ+V9t5d3u/u72/qWMA3N7Oi3s7Ly61vwdtHAMhZB9HyGAAJwF4wBEiKoANhNCx92xYhGFBAsKqHSeeWrz92d81KRbhu0c/eWrx9kUFO8UhDFvQeHVCHAKNiMM33+nFS5mDw3ePfvLs75p0Ztcbe07jpf/u0U/ePfrJfo+v9dil1mOX2k4Mtp0YPPLhp+D+dMYP7tjHV06c++zEuc9O9f3tVN/fTg/8/ezF4bMXh72XRryXRvovj/ZfHv3LX6/+5a9XL125dunKtU+Hxj8dGr/y+RdXPv9iaPTLodEvR8aCI2PBq9dvXL1+Y/zLiUDwq0Dwq+DNqalbt8Ddnp6GBQvsjfdEJx6JBj1GmQwEv1pUsFNndhFHGJh3BrKW7Z53DNwAFi5p4A6gkLvsLywQnYhRE/qoRLuoYKdhaSN0heAv9I/gL/RGUfe5qWMAOtTQuYa/0N3ecfBc/QFv/QEvdMO3tXyEOuaOvWehqw7d9jf2nN709umN7lMb3aegUw/9vvWN3WBVQMcf/q7bdsy0ap/O7Fq9+SgCud/jQyAB4d7OiwgkIHS39yOQfBACSEBY29SDQALCDW+dBJCAsGrHCQRy3bZjsBNwqf29sAjfPfoJg0YOhEAj4hDR6Nh7VgqNL9d2wg8X8kTILmjEYYwQrtt2DHQCIWw9dold0KiU2Qh3tZ1HIHlWxdqmHu6qyCjo515q1pldy15tw0sfbOK1W7vWbu0CQ7lyywdgN69xeMDSXb35KFjVYAGvrDmysuYIWE7IBF++vh3Z5ctebQNLHRnuBesOLrG1gk0Pf8HKz1vTAg4GA+BlITrxqDTfc5ZP5f84jH37cYXPEredGNSZXewfh5mzQoya0JXPv9CZXS/XdkYNOY8Bsl9w68yueQQQNekVr3fozK4jH34aNeR8BRgZC+rMrhWvdzAAEHuCQQg5FcbAooKdCv+Y87ptxxSuE3d6vkQnhFW7cKGJToRjRdg1ohPC+CKheTJAdIInURzBQCeqdpzgCDO/t8CeWL356PzC4E6d6AQ3P3zuDo1+qTO7VtYcYQQm9gSDEHIqjAHlf/Qf7Al3e7+wjM1haOXrxKdD4zDHM4esCE4K5icEPzaHDyxf367wcSeiE3NYHR6lpJSvE2u3dunMLiXrxH6PT2d2KdmeiBedyHi+XskvH+jEn874FQuS6IRiiya+gSn/o//K14k7y+fjQifWODxKrqywUUbJCONFJ1Ztep9BIxl3YhBCToUxEC860dQxICxjcxgadGJ9Y/ccpiksKbAnlK8TTy3eLixjcxua6MTc8k1SUwwDyv+Yc+WWD3RmF9EJKVWG6IQU9tCzRCcQFcTzaDFAdEJ6ee/tvKgzu4g9IZHJrGW7iT0hkUNY2BZl3CkUmgEnMTHy+KPDANEJ6WUNOsH+cRjpMcsVA7EnZGFy2attOrPr2MdXZIktFpFE2lB5f34iGAwmJydTFKVWq4eGhmIBgsT58DGg/B+HWePw6MyuvZ0XFUt+U8eAzuxSsk5cunJNZ3ZVbvlAsRzSNJ21bPfCJQ1KRvgw6ERdXR01e7jdbiVzTbApigHlf/QfdOLdo58oijccDNEJnA3RfqIToqlDD0baUPm1PTE5NZmSkkJRVH5+PnqGeAgDURkgOhGVoqgBiE5EpYhPgHjRiRPnPuOTnXkJE0UnnE4nRVEajSYQCMwLPpJonDJAdEJ6wYFOsD/6Lz1muWIg406yMAnjTkrWiUgbKr+2J1pbW2tqagYuKHeNuSzlRCKRnQHl/4jY6s1H73zWf7/HJ3ve5YrQ3d6vM7uUrxNrt3bJleVYxGNY2rioYGcsYpYrzrjXCbmICBtPdXV11WtVff19Ye+Si3HNQLzoROuxS4rlWfk68Ze/XtWZXbHTicmpyVBoRmIBxVQnZFkIGi86wd5QSTkcDiPr8Hq9EssMfxymxxsa7i9F8Pv96bNHff3cfY9lXhLFeXgo/bHTiY6ODrvdnpeXl56erp49UlNTs7KyhNII9oRcOlFXV5eDHSbsyL13NO5qFARyV9t5ndm16e3Tgp4SFNjpdAJSwNjVJcwykF0n+vr7ql6rMplM6enpsMxSpUpITU3V6/U2m21wcFBQ7iCwvDoRCASam5uLiooMBkNaWppKlaBSJWg0muzsbKfTOTk1KQJh7HTC5/NlZWVlzx55eXkisMEjkRZAU8XFxdCO4387Opi/UyE6YZqm2ToxcGEALla9ViUlZkHPzkuighDGY+CM5+tl//H60dHR3NxcvEIiv1qtFsoS/BabXDpRVFSEwETyWK1WQSBBJ97YEyud6OjoYEBtbm4WhFBenZicmmTgYZyq1erOTsG/iSSvTlitVgYq/DQ1NVXEAMlS+3s6s+tU398EkR818O3paYvFguClpqZGfSRSgIg6MTg46PF4ECktLS0ej0fe2WzIAG5PDA8PW2aPQ22HIiGW/fq8JCp7LpQWoew64fF4oIOJ6j3uiQudKC0tFVRMoBO1TT2CnuIZ2OfzJSUl4RxSFCVOJ9ZtO8YzUe5gUXUCdnENDw9zx8O4O5c6QVFUWlpaMBhkYOA+lVcngsGgzWYrLi7WaDR4+cZEJyBjsN6JoqjR0VHurIq4C3nAdUJEJOQRZTIgr05MTk2mpaXhlT4jI8NmszU0NDgcjqKioszMTKE8rNr0vs7sajshZiiDnVZhYSGCl5SUpL93ZGJHXV0d+0GOKzsOntOZXbHQiUAgoNVqEWDkEaoT/ZdHdWaXXDoxMTEBSFSqBL1eX1hYWFFRkZubq1arEUIRYiavTpSUlAAYrVabn59vsVhg5wCOcO/evRzFyr4lr04MDw/jYJBfik7AwrYw8xOQmUg6MTk1WTp7DFwYGBoaqqyszM7OhkG6urq6sFNPbrc7Pz9fq9Wmp6ebTKbm5mbIAK4Tt6eny8rKSktL2bZbV1dXWVmZ0WjMyMgwmUzl5eXsMIfaDhUXF+v1eo1GYzQaKyoqxq+Ps0uFcSVsojwz2NPTAzz4/WG+HX+4/XBpaWlZWRmDkKg48dRpmvb5fPX19WVlZXa7/fb09J0tph6Pp6ioKCsrKz093Wg0FhcXNzc3M3oxodBMfX19fn4+TPlYLJbGXY0MJAwqGKd+vx9yJ3RgnaZpndmVu/pdRoSiT2tqalB1pyiqpqZGUEbCphs7ncjJyQmbotCLMdKJUGgmJycH+FSpEnBi51cnJqcmNRpNZWUl47sP3Se7cZBCB6UNSxsNS4XNDHGUlNVqNRgMHs/9T6mHQjN5eXk4QqEDjPLqxNDQEA4G+dPS0jjyxX0r0gLor9fFRtKJQCAAyRuNRobaUxSVm5uLpxoIBCINK1MUhesE6lDg9TUYDIadLLljhKIOWjAYxDt0iJqUlJTuk1E+yxw2UZ4ZHBwchLQqKyvxLIM/PT2doih8ipUnTpR6fX09PsJIUVQwGGRUSpRZnPbh4eGsrCx0C3mMRuPVq1fZUMNe6erqggdFNHwy6kQwGMRHSNB03Ni1MYY0hs1FpIsra47IaE/gxSSCrrAgY6QTFRUVqD6g7hpcEdoRBnvCvv14WPxyXfT7/QgwRVEtLS2CYpZXJ8Im7fF4cIRCBxjl1YlAIFBRUVE+e2RkZCBg86kTACI7O9tms5WXlyMTDNdbNMWn1+tramrcbrfdbkcZiKoTSAAMBoPD4XC73aWlpTD0ZrfbodggCZUqwWq1dnV1eb1ep9MJw9larRb64GELmKZpbp2ImsHs7GyKolJTUxmp9PT0wLO45vHEiXQClXFycrJWq1WpElDPOicnp76+/lDboerqaqPRyJBnuEJRVFFRUcvsgRoyXE4icQLXFaITvb29iIc7Q6BWqzU7OxspR0pKSnl5+di1Me68sO/GTidUqoSM2QOZehMTE2wAUa+ATmxuPhM1JP8Ae/fuRWRWvVbFqGnK0YnBwcHuk90ej8fpdEJ/C2BrtdqpW7f455em6TnQCZxViqKETq+CTpwe+LugfPEJjEbJYOKEzyNhw0i1JzIzM3t7e1HUqH9dUVEBF9FLbrFYGC0pFDy3TiCTs6ioCB9qmJyarK6uhuWzYVtkmqa9Xi8kwf1lKm6diJpBVEUYlQNsoOTkZFSt+ePE396ioiK0HDAUmgFZ0mg0KFrguaenBy0mRutYampqUNHcUUSbzQaERLWxUJzJs4eIr7YIsieC946bN29OTExMTk1OTk1O3boFFQYxDODD/s3IyBBqW4BOHPnwU5yiSP57AINhEdI0jWQ4LLzk5GT8NYmUCuN6/QGvzuzirxNRQXq9XmT9g1mG1zSKomKtE1ERIgZQ7xDns6ioSESHQJBO8EeIoNI0bTKZEE6VKkFoVSxYd1BndvHUCUEI8ZEY6fYEe6MM33Entg0IhgJqWUpLS2GVAnsmHJjl1gnogCclJXHMNAAXBoMBLznw6/V6iqLKy8vZt9AVbp2ImsGpW7fAisL76WioBE+aP0709jocDoQTPDCalJKSwtFFhTYrJSWFsZobffq3pKSEEa3sp4J0gjFHjV45WMVUXV2NrnB4UJXjmZcVr3fw//F6boRRdYKiqKSkJPaMGjdU0AnH3rPcwdBdbpCjo6MoAJLV8evjOKXs2o4iD+vxXhrRmV38x50QADxRaB8Y8bN1NzU1tbq6WmgTTNP0ooKd/Ocn+CNEgJGJD5lC46IoQFSPIJ0QhBDXCY1GExVJpACRFkCL1wkY8UBDtDBjZjQa2QiAVm6dMBgMFEWZTCb24+gKNJ2pqam5rAOGnrhLTqhOMDJI03R5eTlFUSpVwsjICKByu92QO2QK3P2+8eyEAR+cSCfY763D4YCYk5OTS0tLW1tbGZN+dw3tWdJw3UJcAfiwxYHCyOKRUSdw2xmGp/1+v8/ns9vtQAX8VavVuMUZNRey60RKSkpOTk5JSYnNZrNarZmZmTg8iqKEyvO2lo90ZpcsOjF16xaar0pOTkbLLuJIJ4BMjUbDf4IN6kBMdaKlpQUv5ZSUFHaHOGpVBJ04e5HXet+HRCdgyhrpBEwkFBcXs8kCfrl1Ahp67hcsNTUVLyq2n7tZFKoTjAzSNI1G26qrqyGb8E4y0uWPk0Mnxq6NoakdlNP09HSHw4FaSbBvwi66gG6aVqtlF4e8V3RmV94avvON3FUfDZdBfvHRS7S/B24J+hAZ/Ngkz3EnboSRqOvq6kLjPBRFZWRkRAoZ9rqMOoE2k0KHJnX2SEtLY9TJlJQUjUZjs9nC4mFfBHuiascJ9q2wV/jTOHXr1s2bNwOBQF9/H4xJoNpeVFQUNvJIFxcV7MxatjvSXcZ1/ghpmm5oaMAXjIkwGSF1ohM08C5aJzgeRwUMzaLJZOqJcOCdevQU8kjXCZqmoZ8O7S+SDYY1wB8nh07QNH1n+aDb7TaZTBAhen/QekEO0kAn0tPTUfZj5BGkE06ns6ampvreUfVaFTjQXWScQU5RX5imacZyHcYUEXfWBP0oMTdCjoRgPgmQC90MCDrx5jv35/84EqJpmgMkrhOowkTyhH1bwyYtVCc4EIaNH13Em2+htVeQTvBEGArNMLovd8YJRH/WSJBO8EQI1Mk77sTeKCN+3InR3YaeNTIvUMGH/W4Hu8mG9jc7Oxt/kOHnE4bxCH7KTpSmaY6WmpFBiAqZn11dXbDuMCUlBe/5Ii3hzgvExpE6jpymab/ff2c+HwQDWQnQNjGsGXgQioN7HI+RhIjTUGhGkE5wJ4Hm/6Fdw8UAjcLBLZ9PwMdfBekEN8Lh4eGOjg5kz6HAt6en8e1sQhu4N9/p1Zld/HUCpcv29PX3RVIF9vXY6QQbGH6lt7e3pyfM5vM7O4HwLpHQcXZBOoHjieQfvz6OT1xTFJWZmcke/o30OPu6IJ1gP85xBa01pSgKtQ8c4SPdgvmJGOoEdGDVajXjmx+h0AxUUO5xJxhYUKkSwjYBMKkFZqlKlRBpSQljaRCDC1l04vb0NFTl/Px88LCNd/44OXSCQSPkBf3mIFRWGNBXq9WMLxz4/X4wk/HZdQYb+GkwGOydPfAuPB4gkl9enQgEAvjojV6vhxZ56tYtfAhO6PyEjDoBC8w0Go3D4ejr74OvnHq9XuhSoIbYYrFEYizsdRl1YuzamOPeUYcdjDkei8VSXV3N/zNuQu2JsNlEF+EF0ev1jbsaBy4MQDerr7+PsWFI6IIFeXWit7cXN24oitLr9b29vQMXBnzYEfY9RTlleEAnvJe+nt1k3JVyKpdORNp4L5s90dnZCe9Jfn4+aq97e3thJVLUfXY+nw+aNoZiDw4Omkwm2D/h9/uhHdFqtYz+SE9PT1ZWFpo2CMu4LDpB03RlZSVqEVSqBHb/gj9ODp1IS0srKSlBE+aQI7Co1Go1vFqINJPJhNaHBAIBFIxnuy96/wTohLlif1jCRVxEQggMZ2ZmlpaW4svqKYoSurlJdp3ASx8ftobrKlUCo3JG5QF0YlvLR1FDig4wOjqKYFMU1draKigq0In1jVG2svKMkzHbBJ9ixeGBH9+QxCdmGXXi5s2beJeFjQ1dEQRyia31zroPuXTC7/en3DtwtCpVQtq9A9/fxofDiDrhdDpzcnLQq5iVlZWTk4MG4DgaMvawDJKE5ORkg8HAmDrjtifwVf9qtdpoNBYWFqII0T47fPxBr9dbLBaj0Yg+Gzc3OoHvGo00sMMTJwe9YKyo1Wq9Xl9cXGyxWFAZ4RPX6JXTaDRFswfqBIXdOh62rojWidvT0zqzS0aduD09jZsO6G1EnoyMDMYi4LA5wi/Cx5yPfXwFvyjOf7j9MEISyYO+HcA/CcfeszqzK6Y6MTIyggMWqhNnLw7rzK4Y6QQODPm5l7SE5XZRwc7sF9xhbwm9GAwGERJuzzzqBJof5UCID97yISHSxvso3xXnaMjYZqKzngAAB1RJREFUOjEyMoJadoCuVqvRouOoOhEKzTidTrT/FmVeo9HgBvLh9sOM7yNCyPT0dO5vEctlT6AZCO4NmXxwctBrsVjC9lVLSkrw6ZBQaKbqtSpGSJUqIdLXt8LWFeXoBE3T49fHS0pKGDmC1TtWq1WQmQ+ZlfGj/16vl9H7QbUUljkJfS0B4dzrhFCc8upE465G1LfDCQR/SkpKTU0NXsnDVlr2RRl1Ar2YbHiMKwrXicPth9lEcVyJqBM+n6+TdaDNbqHQDNxkb4/s6+/r7OxkbCmanJpsbW2trKwsKytzu90wJuPxeDo7O/ExdBQtew3y+PXxjo6Ouro6m83mdDq7T3azpw0npya7T3Y37mqsqKiw2+1ut5sBIywRYRNFF3lmEGL2+/1ACxsbnnRUnBypQ4t5qO2Qw+EoLS2FbLLHuCC5wcFBt9tdNnu43W6ew00IaiAQgOzwoRE9RdM02BOLXzmAX5TFDzmqrKy0WCyVlZVut5t7MRtHojLqBKTS19/ndrtramqsVqvFYikrK3M6nR6Ph7sycCDc3Hwm1vbExMRE8+zhnj0iVaRIIOXVCZqmQ6GZ3t5et9tdXV0NNBYWFtrt9paWFqH2IsIso07cnp7uuHccbj98qO0Qcq33jpbZQxCT8o47BYNBwMiBkDFwjbiK5ImoE5EeINcJA1EZiJ1ORE2afwDZdYJ/0jxDzoFO8EQSKRjoxIa3TkYKoITrMupEjLKz+JUDMs5PxAIkTESxN95/PY8diyRJnA89A1O3bunMrljYEzJSp3ydqG3q0Zld9Qfk/LFhGQmkafr0wN91ZpfydeLny/fIm3F5YyM6IS+fJLb4YCCOdEL2H5uUsYTe2HOa6IR0PhcuaYgLnei/LP9vwUlnD2KItACa2BNyMfwoxhMXOiHvR/9jUczxohMb3adikX254iQ6IZ1JohPSOSQxMBkAnVhiE7YYnxlLjM9j99F/uYBvevuuPbHj4Dm5IpQ9nlN9f9OZXcrXiWd/1yR73mWMEMadiD0hI6UkqjhgIHhzSmd2xYVO8PxI57yQvtF9iuiEdOYXLmkgOiGRxkgbKsm4k0RiH+nH40InYvdRHbnKPl50YtPbp+XKciziITohndVIC6CJTkjn9tGNAXSiYN1BJVOgfJ3Y8NbJuLAn3tijdJ147qVmJVdFc8X+O+sD//JXvj9cP/d5ITox95w//CkGgl/pzC6iExJLOl50orYpzEdeJeZdxscXLmkgOiGRT6ITEgkkj4dhII50Qq6Pr4VhQfKl9Y3dOrNrV9t5yTHFKoIT5z7TmV1EJyTyGy/2BHujDBl3klj0j/Tj419OxIs9QXRCSk2NC514avH2nJV/lJLNWD9LdCLWDJP4lchAXOiEvB/ViUUxEHtCFlbjRScuXbkmS35jEUmkjffEnogF249KnFev39CZXUvt7yk5w6ATSl60XrXjRFyMO21uPqPkgla+TuStadGZXUQnlFyLCDb5GYgLnVD+5iaiE7JUzacWbzet2idLVDGKRPk6EWlDJbEnYlQlHoloR8aCOrNr4ZIG06p9uavfRS5vTQs4c8V+c8X+xa8cALfE1rrE1lqw7mDBuoNL7e8ht+zVNnDL17cvX9++4vWOFa93rKw5srLmyKpN76/a9P7LtZ0v13au3nx0jcODXOWWDyq3fLB2a9e6bcfA2bcft28/XrXjBLj1jd0b3jqZtWy3zuwyrdqHksZTR0kve7UNUkcAAAMAwDHgMAADwGAjYYABPBveOrnhrZMb3ac2vX36jT2na5t6oPnIfsHNHyECGZYluRBudJ8ChC/XdurMLsPSRhwhojEsh6IRIhqhNLk5BBprm3pqm3oynq9/avH2qAjZBY1zCAW9evNRcOzKtnZrFxshArm+sRscKmW8oJ/9XZPO7Frj8Gx0n8Kv1zb1bG4+s7n5jGPvWcfes2++0/vmO73bWj4CV3/AW3/Au+PgOeR2tZ0H527vd7f3N3UMgNvbeRHcu0c/Abff42s9dgm5thODyB358FOG+9MZ/7aWj8JuvCc68Ug06DHK5N1frn6+Xmd2EUcYIAw8NAywBxiJTsSoCX1Uor09PT3+5cT4lxNXr9+4ev3GyFhwaPRLcFc+/+LTofFPh8YvXbkG7i9/vdp/eRSc99KI99LI2YvDZy8Onx74+6m+v53q+9uJc5+dOPfZsY+v/OmM/09n/Ki/gzpBqGcE3aW9nRehJwUdK3d7P/SzoOdVf8ALPbK2E4PBm1O4CwS/AoeDhyxALvCMDI1+eeXzL5CDTLGz9pe/XsUz2H95FPKI5xQyi/KLsnzi3Gc4vODNKQZCxDDieWQsGAkkN0IcZFiEeImgcjn28ZWh0S9xkApEeOXzL8IiDAS/Yhc0EBiJQ1R78Qp86co1KOVIHKIqHbag/3TGv7fz4umBv4etAMc+vgIOKj9e/+FFQG9B24lB9CK0Hru03+NDBgQyKZCRwXg1drWdR3bJjoPn0DsCbwrYMSNjQUb79f8BaUG1wJH9tLIAAAAASUVORK5CYII=)"
      ],
      "metadata": {
        "id": "GZjiQwh1n_E4"
      }
    },
    {
      "cell_type": "code",
      "source": [
        "lis = list(\"123456789\")\n",
        "lis"
      ],
      "metadata": {
        "colab": {
          "base_uri": "https://localhost:8080/"
        },
        "id": "UwuMTpwV5hEW",
        "outputId": "66116f19-89db-44af-b4b7-adb02811c94d"
      },
      "execution_count": null,
      "outputs": [
        {
          "output_type": "execute_result",
          "data": {
            "text/plain": [
              "['1', '2', '3', '4', '5', '6', '7', '8', '9']"
            ]
          },
          "metadata": {},
          "execution_count": 25
        }
      ]
    },
    {
      "cell_type": "code",
      "source": [
        "lis[0]"
      ],
      "metadata": {
        "colab": {
          "base_uri": "https://localhost:8080/",
          "height": 35
        },
        "id": "g0gEajTAIIWm",
        "outputId": "6e83460c-5bf7-45f9-9963-3850ba6fd4da"
      },
      "execution_count": null,
      "outputs": [
        {
          "output_type": "execute_result",
          "data": {
            "text/plain": [
              "'1'"
            ],
            "application/vnd.google.colaboratory.intrinsic+json": {
              "type": "string"
            }
          },
          "metadata": {},
          "execution_count": 26
        }
      ]
    },
    {
      "cell_type": "code",
      "source": [
        "lis[-1]# ultimo elemento"
      ],
      "metadata": {
        "colab": {
          "base_uri": "https://localhost:8080/",
          "height": 35
        },
        "id": "mnPJhY3CI39L",
        "outputId": "96f21f79-5a43-4461-f118-18a8e3f0e45f"
      },
      "execution_count": null,
      "outputs": [
        {
          "output_type": "execute_result",
          "data": {
            "text/plain": [
              "'9'"
            ],
            "application/vnd.google.colaboratory.intrinsic+json": {
              "type": "string"
            }
          },
          "metadata": {},
          "execution_count": 30
        }
      ]
    },
    {
      "cell_type": "code",
      "source": [
        "lis[0:4]"
      ],
      "metadata": {
        "colab": {
          "base_uri": "https://localhost:8080/"
        },
        "id": "DGeynVs95qT2",
        "outputId": "d509a521-5174-4b2f-a9ae-a6db5b4c314f"
      },
      "execution_count": null,
      "outputs": [
        {
          "output_type": "execute_result",
          "data": {
            "text/plain": [
              "['1', '2', '3', '4']"
            ]
          },
          "metadata": {},
          "execution_count": 27
        }
      ]
    },
    {
      "cell_type": "code",
      "source": [
        "lis[0:8:3]"
      ],
      "metadata": {
        "colab": {
          "base_uri": "https://localhost:8080/"
        },
        "id": "9_6TILhAIE94",
        "outputId": "124d5a76-6041-4acd-dfe3-1a895b798b9c"
      },
      "execution_count": null,
      "outputs": [
        {
          "output_type": "execute_result",
          "data": {
            "text/plain": [
              "['1', '4', '7']"
            ]
          },
          "metadata": {},
          "execution_count": 29
        }
      ]
    },
    {
      "cell_type": "code",
      "source": [
        "lis[-1:-6:-1]# en reversa de uno en uno"
      ],
      "metadata": {
        "colab": {
          "base_uri": "https://localhost:8080/"
        },
        "id": "TZnpiJRP5uRw",
        "outputId": "35ff84c0-1b7b-49a8-8813-3ee6fa46f2e6"
      },
      "execution_count": null,
      "outputs": [
        {
          "output_type": "execute_result",
          "data": {
            "text/plain": [
              "['9', '8', '7', '6', '5']"
            ]
          },
          "metadata": {},
          "execution_count": 33
        }
      ]
    },
    {
      "cell_type": "code",
      "source": [
        "lis[-1:-5:-2]# en reversa de uno en uno"
      ],
      "metadata": {
        "colab": {
          "base_uri": "https://localhost:8080/"
        },
        "id": "nDzCTLjr55La",
        "outputId": "a8272c11-4ef5-4a53-f732-7bcf8a2c296a"
      },
      "execution_count": null,
      "outputs": [
        {
          "output_type": "execute_result",
          "data": {
            "text/plain": [
              "['9', '7']"
            ]
          },
          "metadata": {},
          "execution_count": 51
        }
      ]
    },
    {
      "cell_type": "code",
      "source": [
        "lis[::-1]"
      ],
      "metadata": {
        "colab": {
          "base_uri": "https://localhost:8080/"
        },
        "id": "Rf9Itdl7JRRY",
        "outputId": "42795079-b716-4c4a-bccb-e721b32e1161"
      },
      "execution_count": null,
      "outputs": [
        {
          "output_type": "execute_result",
          "data": {
            "text/plain": [
              "['9', '8', '7', '6', '5', '4', '3', '2', '1']"
            ]
          },
          "metadata": {},
          "execution_count": 34
        }
      ]
    },
    {
      "cell_type": "code",
      "source": [
        "cadena=\"hola, cómo estas\"\n",
        "cadena[::-1]"
      ],
      "metadata": {
        "colab": {
          "base_uri": "https://localhost:8080/",
          "height": 35
        },
        "id": "Ysj7i0KxNCPD",
        "outputId": "2430e057-b3d2-4086-9acb-7879d72df445"
      },
      "execution_count": null,
      "outputs": [
        {
          "output_type": "execute_result",
          "data": {
            "text/plain": [
              "'satse omóc ,aloh'"
            ],
            "application/vnd.google.colaboratory.intrinsic+json": {
              "type": "string"
            }
          },
          "metadata": {},
          "execution_count": 27
        }
      ]
    },
    {
      "cell_type": "code",
      "source": [
        "\"ana\"==\"ana\"[::-1]"
      ],
      "metadata": {
        "colab": {
          "base_uri": "https://localhost:8080/"
        },
        "id": "nCkSx5ksJf2B",
        "outputId": "885edeeb-6444-4d71-db69-3fbd4b470ada"
      },
      "execution_count": null,
      "outputs": [
        {
          "output_type": "execute_result",
          "data": {
            "text/plain": [
              "False"
            ]
          },
          "metadata": {},
          "execution_count": 36
        }
      ]
    },
    {
      "cell_type": "code",
      "source": [
        "sub_lis = lis[slice(2,6,1)]\n",
        "sub_lis"
      ],
      "metadata": {
        "colab": {
          "base_uri": "https://localhost:8080/"
        },
        "id": "CfjZJH_I6NXS",
        "outputId": "c7e1068a-0d89-4f32-96c7-88ddc9547253"
      },
      "execution_count": null,
      "outputs": [
        {
          "output_type": "execute_result",
          "data": {
            "text/plain": [
              "['3', '4', '5', '6']"
            ]
          },
          "metadata": {},
          "execution_count": 53
        }
      ]
    },
    {
      "cell_type": "markdown",
      "source": [
        "## Mutabilidad"
      ],
      "metadata": {
        "id": "3uDfUiDu8pdo"
      }
    },
    {
      "cell_type": "code",
      "source": [
        "lista1 = [1,2,3,4,5,6]\n",
        "lista1[0]= 999\n",
        "print(lista1)\n"
      ],
      "metadata": {
        "colab": {
          "base_uri": "https://localhost:8080/"
        },
        "id": "YlIrthwU8r4Z",
        "outputId": "ed48b2de-4cde-4364-ef81-0076600e296f"
      },
      "execution_count": null,
      "outputs": [
        {
          "output_type": "stream",
          "name": "stdout",
          "text": [
            "[999, 2, 3, 4, 5, 6]\n"
          ]
        }
      ]
    },
    {
      "cell_type": "code",
      "source": [
        "## Otras funciones"
      ],
      "metadata": {
        "id": "SPA81qmo9WPF"
      },
      "execution_count": null,
      "outputs": []
    },
    {
      "cell_type": "markdown",
      "source": [
        "### Añadiendo elementos a una lista"
      ],
      "metadata": {
        "id": "QwUsoXu9-mpc"
      }
    },
    {
      "cell_type": "code",
      "source": [
        "# Añdaiendo elementoa a una lista\n",
        "## uno por uno\n",
        "lista2 = ['A', 'B', 'C']\n",
        "lista2.append(\"d\")\n",
        "lista2"
      ],
      "metadata": {
        "colab": {
          "base_uri": "https://localhost:8080/"
        },
        "id": "rLOzyPgc96EB",
        "outputId": "68513b55-79c2-4a91-e2c6-a756f6ef7b93"
      },
      "execution_count": null,
      "outputs": [
        {
          "output_type": "execute_result",
          "data": {
            "text/plain": [
              "['A', 'B', 'C', 'd']"
            ]
          },
          "metadata": {},
          "execution_count": 55
        }
      ]
    },
    {
      "cell_type": "code",
      "source": [
        "lista2.extend([1,2,3])\n",
        "lista2"
      ],
      "metadata": {
        "colab": {
          "base_uri": "https://localhost:8080/"
        },
        "id": "UBJ2YvgH-OmM",
        "outputId": "5b4c6a30-0692-4369-bc64-22dc18c211d3"
      },
      "execution_count": null,
      "outputs": [
        {
          "output_type": "execute_result",
          "data": {
            "text/plain": [
              "['A', 'B', 'C', 'd', 1, 2, 3]"
            ]
          },
          "metadata": {},
          "execution_count": 26
        }
      ]
    },
    {
      "cell_type": "code",
      "source": [
        "lista2.insert(0,[5,3])\n",
        "lista2"
      ],
      "metadata": {
        "colab": {
          "base_uri": "https://localhost:8080/"
        },
        "id": "StgR3Hd9_OCZ",
        "outputId": "eb9fb323-62d4-4f87-a1b7-9e14530120a9"
      },
      "execution_count": null,
      "outputs": [
        {
          "output_type": "execute_result",
          "data": {
            "text/plain": [
              "[[5, 3], 'A', 'B', 'C', 'd', 1, 2, 3]"
            ]
          },
          "metadata": {},
          "execution_count": 31
        }
      ]
    },
    {
      "cell_type": "markdown",
      "source": [
        "### Quitando elementos a una lista"
      ],
      "metadata": {
        "id": "cYM8S3qw-qod"
      }
    },
    {
      "cell_type": "code",
      "source": [
        "lista3 = ['A', 'B', 'C', 'D', 'E', 'F', 'G', 'H', 'J']\n",
        "lista3.pop(1)\n",
        "lista3"
      ],
      "metadata": {
        "colab": {
          "base_uri": "https://localhost:8080/"
        },
        "id": "S9jo5Cp6-ulK",
        "outputId": "b1474251-11a5-463d-b3af-54619d2b1aae"
      },
      "execution_count": null,
      "outputs": [
        {
          "output_type": "execute_result",
          "data": {
            "text/plain": [
              "['A', 'C', 'D', 'E', 'F', 'G', 'H', 'J']"
            ]
          },
          "metadata": {},
          "execution_count": 56
        }
      ]
    },
    {
      "cell_type": "code",
      "source": [
        "lista3 = ['A', 'B', 'C', 'D', 'E', 'F', 'G', 'H', 'J']\n",
        "lista3.pop()\n",
        "lista3"
      ],
      "metadata": {
        "colab": {
          "base_uri": "https://localhost:8080/"
        },
        "id": "6awso0t4AiPZ",
        "outputId": "99e34155-e1c9-43fc-87d7-146ee5b9bfed"
      },
      "execution_count": null,
      "outputs": [
        {
          "output_type": "execute_result",
          "data": {
            "text/plain": [
              "['A', 'B', 'C', 'D', 'E', 'F', 'G', 'H']"
            ]
          },
          "metadata": {},
          "execution_count": 57
        }
      ]
    },
    {
      "cell_type": "code",
      "source": [
        "lista3 = ['A', 'B', 'C', 'D', 'E', 'F', 'G', 'H', 'J']\n",
        "lista3.pop(-2)\n",
        "lista3"
      ],
      "metadata": {
        "colab": {
          "base_uri": "https://localhost:8080/"
        },
        "id": "3CnuqN19Aj_H",
        "outputId": "a7717b03-9466-4b84-9ae9-19c9a4d9e85e"
      },
      "execution_count": null,
      "outputs": [
        {
          "output_type": "execute_result",
          "data": {
            "text/plain": [
              "['A', 'B', 'C', 'D', 'E', 'F', 'G', 'J']"
            ]
          },
          "metadata": {},
          "execution_count": 58
        }
      ]
    },
    {
      "cell_type": "code",
      "source": [
        "lista3 = ['A', 'B', 'C', 'D', 'E', 'F', 'G', 'H', 'J','A']\n",
        "lista3.remove(\"A\")\n",
        "lista3"
      ],
      "metadata": {
        "colab": {
          "base_uri": "https://localhost:8080/"
        },
        "id": "XIoRjPDuAM7U",
        "outputId": "905f979f-be47-4142-edf0-3a5f7f1d5f80"
      },
      "execution_count": null,
      "outputs": [
        {
          "output_type": "execute_result",
          "data": {
            "text/plain": [
              "['B', 'C', 'D', 'E', 'F', 'G', 'H', 'J', 'A']"
            ]
          },
          "metadata": {},
          "execution_count": 37
        }
      ]
    },
    {
      "cell_type": "code",
      "source": [
        "lista3 = ['A', 'B', 'C', 'D', 'E', 'F', 'G', 'H', 'J','A']\n",
        "lista3.count(\"A\")"
      ],
      "metadata": {
        "colab": {
          "base_uri": "https://localhost:8080/"
        },
        "id": "cWXI4k0cR20v",
        "outputId": "f7317fbf-d49e-4f74-e866-5e33c3584e1b"
      },
      "execution_count": null,
      "outputs": [
        {
          "output_type": "execute_result",
          "data": {
            "text/plain": [
              "2"
            ]
          },
          "metadata": {},
          "execution_count": 38
        }
      ]
    },
    {
      "cell_type": "code",
      "source": [
        "lis_num = [1,2,3,4,5]\n",
        "lis_num"
      ],
      "metadata": {
        "colab": {
          "base_uri": "https://localhost:8080/"
        },
        "id": "i_sRE5zWOjR6",
        "outputId": "12e352b8-f0e7-4d06-ffd3-90b6fa42064f"
      },
      "execution_count": null,
      "outputs": [
        {
          "output_type": "execute_result",
          "data": {
            "text/plain": [
              "[1, 2, 3, 4, 5]"
            ]
          },
          "metadata": {},
          "execution_count": 29
        }
      ]
    },
    {
      "cell_type": "code",
      "source": [
        "lista_acum = []\n",
        "\n",
        "for i in lis_num:\n",
        "  lista_acum.append(i*2)\n",
        "\n",
        "print(lista_acum)"
      ],
      "metadata": {
        "colab": {
          "base_uri": "https://localhost:8080/"
        },
        "id": "l50QXfctOpj4",
        "outputId": "364a79c5-7a64-4989-cad5-144e9542c9ee"
      },
      "execution_count": null,
      "outputs": [
        {
          "output_type": "stream",
          "name": "stdout",
          "text": [
            "[2, 4, 6, 8, 10]\n"
          ]
        }
      ]
    },
    {
      "cell_type": "markdown",
      "source": [
        "## Conteo y posisción de elementos en una lista"
      ],
      "metadata": {
        "id": "3sVyVXY9EUAl"
      }
    },
    {
      "cell_type": "code",
      "source": [
        "lista = ['A', 'B', 'C', 'B', 'A']\n",
        "print(lista.count('B'))\n",
        "print(lista.count('X'))"
      ],
      "metadata": {
        "colab": {
          "base_uri": "https://localhost:8080/"
        },
        "id": "O73wtg94EVWL",
        "outputId": "f1eb935f-b4d3-434e-b1f7-5e1aa1330de4"
      },
      "execution_count": null,
      "outputs": [
        {
          "output_type": "stream",
          "name": "stdout",
          "text": [
            "2\n",
            "0\n"
          ]
        }
      ]
    },
    {
      "cell_type": "code",
      "source": [
        "lista22 = ['A', 'B', 'C', 'B', 'A']\n",
        "print(lista22.index('B'))\n",
        "print(lista22.index('B',2,4))"
      ],
      "metadata": {
        "colab": {
          "base_uri": "https://localhost:8080/"
        },
        "id": "pNS2LBapEiXk",
        "outputId": "6bed0acf-40df-4f3a-f53f-5c9f179f1ffe"
      },
      "execution_count": null,
      "outputs": [
        {
          "output_type": "stream",
          "name": "stdout",
          "text": [
            "1\n",
            "3\n"
          ]
        }
      ]
    },
    {
      "cell_type": "markdown",
      "source": [
        "## Iteracion  recorrido en listas"
      ],
      "metadata": {
        "id": "hLaLuGPdGQe8"
      }
    },
    {
      "cell_type": "code",
      "source": [
        "lista3 = ['A', 'B', 'C', 'D', 'E', 'F', 'G', 'H', 'J']\n",
        "\n",
        "for i,e in enumerate(lista3):\n",
        "  print(\"index = \",i,\"valor = \",e)"
      ],
      "metadata": {
        "colab": {
          "base_uri": "https://localhost:8080/"
        },
        "id": "qEHI5eEZF0it",
        "outputId": "1ab64e8f-f60e-47e7-aebb-1f411a10ba10"
      },
      "execution_count": null,
      "outputs": [
        {
          "output_type": "stream",
          "name": "stdout",
          "text": [
            "index =  0 valor =  A\n",
            "index =  1 valor =  B\n",
            "index =  2 valor =  C\n",
            "index =  3 valor =  D\n",
            "index =  4 valor =  E\n",
            "index =  5 valor =  F\n",
            "index =  6 valor =  G\n",
            "index =  7 valor =  H\n",
            "index =  8 valor =  J\n"
          ]
        }
      ]
    },
    {
      "cell_type": "markdown",
      "source": [
        "# Tuplas (...)"
      ],
      "metadata": {
        "id": "5Hv4FpAqGW-6"
      }
    },
    {
      "cell_type": "code",
      "source": [
        "tup1 = (4,8,7,6)\n",
        "type(tup1)"
      ],
      "metadata": {
        "colab": {
          "base_uri": "https://localhost:8080/"
        },
        "id": "Dy_bITwaGK_j",
        "outputId": "3fb97e10-979f-4dfc-d5eb-60a9fbb1ff45"
      },
      "execution_count": null,
      "outputs": [
        {
          "output_type": "execute_result",
          "data": {
            "text/plain": [
              "tuple"
            ]
          },
          "metadata": {},
          "execution_count": 39
        }
      ]
    },
    {
      "cell_type": "code",
      "source": [
        "tup2 = (4,2,6,[5,4,5],(8,5,6,4))\n",
        "for i in range(len(tup2)):\n",
        "  print(\"Valor : \",tup2[i],\"||Tipo: \",type(tup2[i]))"
      ],
      "metadata": {
        "colab": {
          "base_uri": "https://localhost:8080/"
        },
        "id": "UxcGoAL6GjIh",
        "outputId": "66b2674a-03d9-42d1-a04b-06ac11397fe5"
      },
      "execution_count": null,
      "outputs": [
        {
          "output_type": "stream",
          "name": "stdout",
          "text": [
            "Valor :  4 ||Tipo:  <class 'int'>\n",
            "Valor :  2 ||Tipo:  <class 'int'>\n",
            "Valor :  6 ||Tipo:  <class 'int'>\n",
            "Valor :  [5, 4, 5] ||Tipo:  <class 'list'>\n",
            "Valor :  (8, 5, 6, 4) ||Tipo:  <class 'tuple'>\n"
          ]
        }
      ]
    },
    {
      "cell_type": "code",
      "source": [
        "# Las tuplas son inmutables\n",
        "tup1 = (1,2,3,4,5)\n",
        "#tup1[0]=99"
      ],
      "metadata": {
        "id": "Asqadk7EHIa2"
      },
      "execution_count": null,
      "outputs": []
    },
    {
      "cell_type": "markdown",
      "source": [
        "## Iteración, recorrido en tuplas"
      ],
      "metadata": {
        "id": "nPW_UZ0QNi_8"
      }
    },
    {
      "cell_type": "code",
      "source": [
        "tup3 = ('A', 'B', 'C', 'D', 'E', 'F', 'G', 'H', 'J')\n",
        "\n",
        "for i,e in enumerate(tup3):\n",
        "  print(\"index = \",i,\"valor = \",e)"
      ],
      "metadata": {
        "colab": {
          "base_uri": "https://localhost:8080/"
        },
        "id": "4ickk0BXHXxx",
        "outputId": "dd54ffa3-ea3d-4783-d254-ce8b6d043de2"
      },
      "execution_count": null,
      "outputs": [
        {
          "output_type": "stream",
          "name": "stdout",
          "text": [
            "index =  0 valor =  A\n",
            "index =  1 valor =  B\n",
            "index =  2 valor =  C\n",
            "index =  3 valor =  D\n",
            "index =  4 valor =  E\n",
            "index =  5 valor =  F\n",
            "index =  6 valor =  G\n",
            "index =  7 valor =  H\n",
            "index =  8 valor =  J\n"
          ]
        }
      ]
    },
    {
      "cell_type": "code",
      "source": [
        "tup3 = ('A', 'B', 'C', 'D', 'E', 'F', 'G', 'H', 'J')\n",
        "list(enumerate(tup3))"
      ],
      "metadata": {
        "colab": {
          "base_uri": "https://localhost:8080/"
        },
        "id": "BSNNa2OLS__l",
        "outputId": "ebc0d153-d584-4d8a-c6e4-5a1398e28d01"
      },
      "execution_count": null,
      "outputs": [
        {
          "output_type": "execute_result",
          "data": {
            "text/plain": [
              "[(0, 'A'),\n",
              " (1, 'B'),\n",
              " (2, 'C'),\n",
              " (3, 'D'),\n",
              " (4, 'E'),\n",
              " (5, 'F'),\n",
              " (6, 'G'),\n",
              " (7, 'H'),\n",
              " (8, 'J')]"
            ]
          },
          "metadata": {},
          "execution_count": 69
        }
      ]
    },
    {
      "cell_type": "markdown",
      "source": [
        "len(), min(), max(), in, not in, count(), index()"
      ],
      "metadata": {
        "id": "pmRMpvZpHlim"
      }
    },
    {
      "cell_type": "code",
      "source": [
        "len(tup3)"
      ],
      "metadata": {
        "colab": {
          "base_uri": "https://localhost:8080/"
        },
        "id": "Onf4W7HkuROL",
        "outputId": "5388a531-0bdf-48a4-f743-0c33cc423123"
      },
      "execution_count": null,
      "outputs": [
        {
          "output_type": "execute_result",
          "data": {
            "text/plain": [
              "9"
            ]
          },
          "metadata": {},
          "execution_count": 41
        }
      ]
    },
    {
      "cell_type": "code",
      "source": [
        "\"A\" in tup3"
      ],
      "metadata": {
        "colab": {
          "base_uri": "https://localhost:8080/"
        },
        "id": "o-SsFVTeuXYd",
        "outputId": "e6875f1d-f0e7-4675-80b6-bb31d28203f6"
      },
      "execution_count": null,
      "outputs": [
        {
          "output_type": "execute_result",
          "data": {
            "text/plain": [
              "True"
            ]
          },
          "metadata": {},
          "execution_count": 42
        }
      ]
    },
    {
      "cell_type": "markdown",
      "source": [
        "# range\n",
        "Son estructuras secuenciales que forman una sucesión inmutable numérica de enteros. Se utiliza\n",
        "regularmente para iterar un bucle for un número determinado de veces."
      ],
      "metadata": {
        "id": "XGLCgS-tH4ec"
      }
    },
    {
      "cell_type": "code",
      "source": [
        "list(range(0,20,2))"
      ],
      "metadata": {
        "colab": {
          "base_uri": "https://localhost:8080/"
        },
        "id": "ZBMz7r3WH7mt",
        "outputId": "eea84bcd-61b2-49ab-b38c-3112db6ab75d"
      },
      "execution_count": null,
      "outputs": [
        {
          "output_type": "execute_result",
          "data": {
            "text/plain": [
              "[0, 2, 4, 6, 8, 10, 12, 14, 16, 18]"
            ]
          },
          "metadata": {},
          "execution_count": 47
        }
      ]
    },
    {
      "cell_type": "code",
      "source": [
        "for i in range(0,11,1):\n",
        "  print(i)"
      ],
      "metadata": {
        "colab": {
          "base_uri": "https://localhost:8080/"
        },
        "id": "-yOWLy_aNXs8",
        "outputId": "dbc5e150-a0a7-4493-c983-85d2a6846381"
      },
      "execution_count": null,
      "outputs": [
        {
          "output_type": "stream",
          "name": "stdout",
          "text": [
            "0\n",
            "1\n",
            "2\n",
            "3\n",
            "4\n",
            "5\n",
            "6\n",
            "7\n",
            "8\n",
            "9\n",
            "10\n"
          ]
        }
      ]
    },
    {
      "cell_type": "code",
      "source": [
        "lista1 = [1,2,3,4,5,6]\n",
        "\n",
        "for i in range(0,len(lista1)):\n",
        "  print(lista1[i])\n",
        "\n",
        "print(\"----------------\")\n",
        "\n",
        "for i in lista1:\n",
        "  print(i)"
      ],
      "metadata": {
        "colab": {
          "base_uri": "https://localhost:8080/"
        },
        "id": "Rjz0nvwnMep8",
        "outputId": "8d72afd9-cafb-482a-86c0-cd888bb9064c"
      },
      "execution_count": null,
      "outputs": [
        {
          "output_type": "stream",
          "name": "stdout",
          "text": [
            "1\n",
            "2\n",
            "3\n",
            "4\n",
            "5\n",
            "6\n",
            "----------------\n",
            "1\n",
            "2\n",
            "3\n",
            "4\n",
            "5\n",
            "6\n"
          ]
        }
      ]
    },
    {
      "cell_type": "markdown",
      "source": [
        "# Diccionarios\n",
        "d.clear(), d.copy(), d.get(), d.items(), d.values(), d.keys()"
      ],
      "metadata": {
        "id": "sZCcSWTiIBQO"
      }
    },
    {
      "cell_type": "code",
      "source": [
        "Auto = {\n",
        "  \"brand\": [\"Ford\",\"marca2\"],\n",
        "  \"model\": \"Mustang\",\n",
        "  \"year\": 1964\n",
        "}\n",
        "print(type(Auto))"
      ],
      "metadata": {
        "colab": {
          "base_uri": "https://localhost:8080/"
        },
        "id": "_rvy5_M7Y8yt",
        "outputId": "f325e2e2-ad10-4506-c089-71819e7817c1"
      },
      "execution_count": null,
      "outputs": [
        {
          "output_type": "stream",
          "name": "stdout",
          "text": [
            "<class 'dict'>\n"
          ]
        }
      ]
    },
    {
      "cell_type": "code",
      "source": [
        "print(Auto[\"brand\"])\n",
        "print(Auto[\"model\"])\n",
        "print(Auto[\"year\"])"
      ],
      "metadata": {
        "colab": {
          "base_uri": "https://localhost:8080/"
        },
        "id": "KRlGMlSsZA_y",
        "outputId": "9d873c88-5df2-4837-ba2e-ee63e1fb463e"
      },
      "execution_count": null,
      "outputs": [
        {
          "output_type": "stream",
          "name": "stdout",
          "text": [
            "['Ford', 'marca2']\n",
            "Mustang\n",
            "1964\n"
          ]
        }
      ]
    },
    {
      "cell_type": "code",
      "source": [
        "Auto.values()"
      ],
      "metadata": {
        "colab": {
          "base_uri": "https://localhost:8080/"
        },
        "id": "xMD5x0uYb1qK",
        "outputId": "4f8e343a-7244-4248-c434-d375099b13d6"
      },
      "execution_count": null,
      "outputs": [
        {
          "output_type": "execute_result",
          "data": {
            "text/plain": [
              "dict_values([['Ford', 'marca2'], 'Mustang', 1964])"
            ]
          },
          "metadata": {},
          "execution_count": 57
        }
      ]
    },
    {
      "cell_type": "code",
      "source": [
        "list(Auto.items())"
      ],
      "metadata": {
        "colab": {
          "base_uri": "https://localhost:8080/"
        },
        "id": "LYOeEutzZvcz",
        "outputId": "292303fd-3baf-472d-df82-925a42dc71a4"
      },
      "execution_count": null,
      "outputs": [
        {
          "output_type": "execute_result",
          "data": {
            "text/plain": [
              "[('brand', ['Ford', 'marca2']), ('model', 'Mustang'), ('year', 1964)]"
            ]
          },
          "metadata": {},
          "execution_count": 59
        }
      ]
    },
    {
      "cell_type": "code",
      "source": [
        "Auto.keys()"
      ],
      "metadata": {
        "colab": {
          "base_uri": "https://localhost:8080/"
        },
        "id": "ciK7hWA9Z9P3",
        "outputId": "9e93f859-2130-458d-88af-513d8f881918"
      },
      "execution_count": null,
      "outputs": [
        {
          "output_type": "execute_result",
          "data": {
            "text/plain": [
              "dict_keys(['brand', 'model', 'year'])"
            ]
          },
          "metadata": {},
          "execution_count": 60
        }
      ]
    },
    {
      "cell_type": "markdown",
      "source": [
        "## Mutabilidad"
      ],
      "metadata": {
        "id": "Xzn-YAdhbNAP"
      }
    },
    {
      "cell_type": "markdown",
      "source": [
        "## Modificando items"
      ],
      "metadata": {
        "id": "P0CBmjr_dHsv"
      }
    },
    {
      "cell_type": "code",
      "source": [
        "d = {'one': 1, 'two': 2, 'three': 3}\n",
        "d1 = {'one': 100, 'four': 4}\n",
        "d.update(d1)\n",
        "print(d)\n",
        "\n",
        "t1 = [('two',200), ('five',5)]\n",
        "d.update(t1)\n",
        "print(d)"
      ],
      "metadata": {
        "colab": {
          "base_uri": "https://localhost:8080/"
        },
        "id": "uSXFyEPaa2mg",
        "outputId": "db25db45-9136-480b-e3ad-c5119a12e097"
      },
      "execution_count": null,
      "outputs": [
        {
          "output_type": "stream",
          "name": "stdout",
          "text": [
            "{'one': 100, 'two': 2, 'three': 3, 'four': 4}\n",
            "{'one': 100, 'two': 200, 'three': 3, 'four': 4, 'five': 5}\n"
          ]
        }
      ]
    },
    {
      "cell_type": "markdown",
      "source": [
        "## Eliminando items"
      ],
      "metadata": {
        "id": "fNYDFmMkdDor"
      }
    },
    {
      "cell_type": "code",
      "source": [
        "d = {'one': 1, 'two': 2, 'three': 3}\n",
        "d.popitem()\n",
        "print(d)"
      ],
      "metadata": {
        "colab": {
          "base_uri": "https://localhost:8080/"
        },
        "id": "6RAN31wjbm4d",
        "outputId": "477fba79-528e-4be7-87ae-bb06b3345629"
      },
      "execution_count": null,
      "outputs": [
        {
          "output_type": "stream",
          "name": "stdout",
          "text": [
            "{'one': 1, 'two': 2}\n"
          ]
        }
      ]
    },
    {
      "cell_type": "code",
      "source": [
        "d = {'one': 1, 'two': 2, 'three': 3}\n",
        "d.pop('two')\n",
        "print(d)"
      ],
      "metadata": {
        "colab": {
          "base_uri": "https://localhost:8080/"
        },
        "id": "uPz3EJV_cMhX",
        "outputId": "5b98ca25-1d9b-42c1-d4d8-0f393a8e99c1"
      },
      "execution_count": null,
      "outputs": [
        {
          "output_type": "stream",
          "name": "stdout",
          "text": [
            "{'one': 1, 'three': 3}\n"
          ]
        }
      ]
    },
    {
      "cell_type": "code",
      "source": [
        "d = {'one': 1, 'two': 2, 'three': 3}\n",
        "del d['one']\n",
        "print(d)"
      ],
      "metadata": {
        "colab": {
          "base_uri": "https://localhost:8080/"
        },
        "id": "vp-W3AgLcYxT",
        "outputId": "1a9cf862-1d17-47a7-c1b8-2b64a1b83aaa"
      },
      "execution_count": null,
      "outputs": [
        {
          "output_type": "stream",
          "name": "stdout",
          "text": [
            "{'two': 2, 'three': 3}\n"
          ]
        }
      ]
    },
    {
      "cell_type": "code",
      "source": [
        "d = {'one': 1, 'two': 2, 'three': 3}\n",
        "print(list(d.keys())[1])\n",
        "print(d.pop(list(d.keys())[1]))\n",
        "print(d)"
      ],
      "metadata": {
        "colab": {
          "base_uri": "https://localhost:8080/"
        },
        "id": "qxDEsONmcgUF",
        "outputId": "7e92c073-6c16-4af7-e270-4ce7e73d7162"
      },
      "execution_count": null,
      "outputs": [
        {
          "output_type": "stream",
          "name": "stdout",
          "text": [
            "two\n",
            "2\n",
            "{'one': 1, 'three': 3}\n"
          ]
        }
      ]
    },
    {
      "cell_type": "code",
      "source": [
        "var1 = 4\n",
        "type(var1)"
      ],
      "metadata": {
        "colab": {
          "base_uri": "https://localhost:8080/"
        },
        "id": "GD2n-o3CV4qy",
        "outputId": "e2149a36-8dea-4439-eb96-c07df2b3251d"
      },
      "execution_count": null,
      "outputs": [
        {
          "output_type": "execute_result",
          "data": {
            "text/plain": [
              "int"
            ]
          },
          "metadata": {},
          "execution_count": 80
        }
      ]
    },
    {
      "cell_type": "code",
      "source": [
        "var1 = float(\"4\")\n",
        "type(var1)\n",
        "print(var1)"
      ],
      "metadata": {
        "colab": {
          "base_uri": "https://localhost:8080/"
        },
        "id": "4SuSMg6rV8tZ",
        "outputId": "2fd0670a-b2b6-4d35-8da8-ea21ed25279c"
      },
      "execution_count": null,
      "outputs": [
        {
          "output_type": "stream",
          "name": "stdout",
          "text": [
            "4.0\n"
          ]
        }
      ]
    },
    {
      "cell_type": "markdown",
      "source": [
        "## Iteración"
      ],
      "metadata": {
        "id": "u4EM11VEbPyt"
      }
    },
    {
      "cell_type": "code",
      "source": [
        "my_dict = {1:{'name': 'Jack', 'age': 26,\"cursos\":[\"R\",\"Python\",\"Julia\"]},\n",
        "          2:{'name': 'Ricardo', 'age': 29},\n",
        "          3:{'name': 'Anderson', 'age': 30},\n",
        "          4:{'name': 'Daniela', 'age': 25}\n",
        "}\n",
        "\n",
        "print(my_dict[1][\"name\"])\n",
        "print(my_dict[1][\"cursos\"])"
      ],
      "metadata": {
        "id": "MqyGAofYIDTn",
        "colab": {
          "base_uri": "https://localhost:8080/"
        },
        "outputId": "03743dd3-3039-4426-9baa-204c90b6973b"
      },
      "execution_count": null,
      "outputs": [
        {
          "output_type": "stream",
          "name": "stdout",
          "text": [
            "Jack\n",
            "['R', 'Python', 'Julia']\n"
          ]
        }
      ]
    },
    {
      "cell_type": "code",
      "source": [
        "print(my_dict[2][\"name\"])\n",
        "print(my_dict[2][\"age\"])"
      ],
      "metadata": {
        "colab": {
          "base_uri": "https://localhost:8080/"
        },
        "id": "tUDquK01VXir",
        "outputId": "d129d3d3-17a4-4c20-f6f2-3dd9785134ee"
      },
      "execution_count": null,
      "outputs": [
        {
          "output_type": "stream",
          "name": "stdout",
          "text": [
            "Ricardo\n",
            "29\n"
          ]
        }
      ]
    },
    {
      "cell_type": "code",
      "source": [
        "print(\"este año vamos a trabajar con 'python'\")"
      ],
      "metadata": {
        "colab": {
          "base_uri": "https://localhost:8080/"
        },
        "id": "jy3gDK0pWogq",
        "outputId": "86faebb9-30c8-49cd-8f27-9f4a972eab8a"
      },
      "execution_count": null,
      "outputs": [
        {
          "output_type": "stream",
          "name": "stdout",
          "text": [
            "este año vamos a trabajar con 'python'\n"
          ]
        }
      ]
    },
    {
      "cell_type": "code",
      "source": [
        "print('este año vamos a trabajar con \"python\"')"
      ],
      "metadata": {
        "colab": {
          "base_uri": "https://localhost:8080/"
        },
        "id": "9WAmytrsXCnZ",
        "outputId": "ca01d21f-507c-40ea-cf87-356913bf4320"
      },
      "execution_count": null,
      "outputs": [
        {
          "output_type": "stream",
          "name": "stdout",
          "text": [
            "este año vamos a trabajar con \"python\"\n"
          ]
        }
      ]
    },
    {
      "cell_type": "code",
      "source": [
        "for k in my_dict:\n",
        "  print(my_dict[k])"
      ],
      "metadata": {
        "colab": {
          "base_uri": "https://localhost:8080/"
        },
        "id": "24N1LCn6aLID",
        "outputId": "f3559dad-564b-404c-9de6-f625ad2f6742"
      },
      "execution_count": null,
      "outputs": [
        {
          "output_type": "stream",
          "name": "stdout",
          "text": [
            "{'name': 'Jack', 'age': 26, 'cursos': ['R', 'Python', 'Julia']}\n",
            "{'name': 'Ricardo', 'age': 29}\n",
            "{'name': 'Anderson', 'age': 30}\n",
            "{'name': 'Daniela', 'age': 25}\n"
          ]
        }
      ]
    },
    {
      "cell_type": "code",
      "source": [
        "lista1 = [3,4,3,1,2,1,4,6,5,1,2]\n",
        "\n",
        "lista_u = []\n",
        "for i in lista1:\n",
        "\n",
        "\n",
        "\n"
      ],
      "metadata": {
        "colab": {
          "base_uri": "https://localhost:8080/"
        },
        "id": "3jL6jmy2WFQM",
        "outputId": "8223ec68-1c1f-4339-f870-ac3c192da282"
      },
      "execution_count": null,
      "outputs": [
        {
          "output_type": "execute_result",
          "data": {
            "text/plain": [
              "[3, 3, 2, 4, 5, 2]"
            ]
          },
          "metadata": {},
          "execution_count": 76
        }
      ]
    },
    {
      "cell_type": "code",
      "source": [
        "lista1 = [3,4,3,1,2,1,4,6,5,1,2]\n",
        "\n",
        "lista_u=[]\n",
        "\n",
        "for i in lista1:\n",
        "  if not i in lista_u:\n",
        "    lista_u.append(i)\n",
        "\n",
        "for i in lista_u:\n",
        "  print(\"El número\", i,\n",
        "        \"se repite\",\n",
        "        lista1.count(i),\n",
        "        \"veces\")"
      ],
      "metadata": {
        "colab": {
          "base_uri": "https://localhost:8080/"
        },
        "id": "1in2k9nfXgfX",
        "outputId": "1be4edaf-c862-49f4-8541-1c51dc1e5751"
      },
      "execution_count": null,
      "outputs": [
        {
          "output_type": "stream",
          "name": "stdout",
          "text": [
            "El número 3 se repite 2 veces\n",
            "El número 4 se repite 2 veces\n",
            "El número 1 se repite 3 veces\n",
            "El número 2 se repite 2 veces\n",
            "El número 6 se repite 1 veces\n",
            "El número 5 se repite 1 veces\n"
          ]
        }
      ]
    },
    {
      "cell_type": "code",
      "source": [
        "import string\n",
        "alphabet = list(string.ascii_lowercase)\n",
        "alphabet\n",
        "\n",
        "di1 = {}\n",
        "\n",
        "count = 0\n",
        "for i in alphabet:\n",
        "  count += 1\n",
        "  di1[i] = count\n",
        "\n",
        "di1\n"
      ],
      "metadata": {
        "colab": {
          "base_uri": "https://localhost:8080/"
        },
        "id": "PprTpts_Z44q",
        "outputId": "fe10d40c-d402-42d6-ba3a-8ccf1cefe3b5"
      },
      "execution_count": null,
      "outputs": [
        {
          "output_type": "execute_result",
          "data": {
            "text/plain": [
              "{'a': 1,\n",
              " 'b': 2,\n",
              " 'c': 3,\n",
              " 'd': 4,\n",
              " 'e': 5,\n",
              " 'f': 6,\n",
              " 'g': 7,\n",
              " 'h': 8,\n",
              " 'i': 9,\n",
              " 'j': 10,\n",
              " 'k': 11,\n",
              " 'l': 12,\n",
              " 'm': 13,\n",
              " 'n': 14,\n",
              " 'o': 15,\n",
              " 'p': 16,\n",
              " 'q': 17,\n",
              " 'r': 18,\n",
              " 's': 19,\n",
              " 't': 20,\n",
              " 'u': 21,\n",
              " 'v': 22,\n",
              " 'w': 23,\n",
              " 'x': 24,\n",
              " 'y': 25,\n",
              " 'z': 26}"
            ]
          },
          "metadata": {},
          "execution_count": 83
        }
      ]
    },
    {
      "cell_type": "code",
      "source": [
        "string1 = \"hola\"\n",
        "lista2 = []\n",
        "for i in string1:\n",
        "  lista2.append(di1[i])\n",
        "\n",
        "print(lista2)"
      ],
      "metadata": {
        "colab": {
          "base_uri": "https://localhost:8080/"
        },
        "id": "xUzHkog7aY4A",
        "outputId": "96be7789-ef27-45e8-e975-e0ab7ba2af1b"
      },
      "execution_count": null,
      "outputs": [
        {
          "output_type": "stream",
          "name": "stdout",
          "text": [
            "[8, 15, 12, 1]\n"
          ]
        }
      ]
    },
    {
      "cell_type": "code",
      "source": [
        "lista1 = [3,4,3,1,2,1,4,6,5,1,2]\n",
        "lista1.pop(0)\n",
        "print(lista1)"
      ],
      "metadata": {
        "colab": {
          "base_uri": "https://localhost:8080/"
        },
        "id": "BRZVDhycXEyN",
        "outputId": "a64ae968-7fac-48c1-d84a-80782852e4a9"
      },
      "execution_count": null,
      "outputs": [
        {
          "output_type": "stream",
          "name": "stdout",
          "text": [
            "[4, 3, 1, 2, 1, 4, 6, 5, 1, 2]\n"
          ]
        }
      ]
    },
    {
      "cell_type": "markdown",
      "source": [
        "# Ejersicios Adicionales"
      ],
      "metadata": {
        "id": "MWl117zFZf9H"
      }
    },
    {
      "cell_type": "code",
      "source": [
        "from google.colab import drive"
      ],
      "metadata": {
        "id": "gB2WOY0sxkTY"
      },
      "execution_count": null,
      "outputs": []
    },
    {
      "cell_type": "code",
      "source": [
        "drive.mount('/content/drive')"
      ],
      "metadata": {
        "colab": {
          "base_uri": "https://localhost:8080/"
        },
        "id": "O6QogT9qxmhX",
        "outputId": "e99b29d3-3952-46e3-dd2c-a083187970a1"
      },
      "execution_count": null,
      "outputs": [
        {
          "output_type": "stream",
          "name": "stdout",
          "text": [
            "Mounted at /content/drive\n"
          ]
        }
      ]
    },
    {
      "cell_type": "code",
      "source": [
        "! ls drive/MyDrive/Lenguaje_de_ciencia_de_datos_I"
      ],
      "metadata": {
        "colab": {
          "base_uri": "https://localhost:8080/"
        },
        "id": "xI5zKcaHzBN0",
        "outputId": "fa80c449-d493-41cc-8228-4e78a23fb7dc"
      },
      "execution_count": null,
      "outputs": [
        {
          "output_type": "stream",
          "name": "stdout",
          "text": [
            "'Ejemplo examen.ipynb'\t\t      Sem_2_Tipos_de_Dato_I.ipynb\n",
            "'Ejersicios (1).ipynb'\t\t      Sem_3LCD_I-Listas_tuplas_dict.ipynb\n",
            " Ejersicios.ipynb\t\t      Sem_4_control-de-flujo.ipynb\n",
            " grinch.txt\t\t\t     'Sem_5.6_Programación modular.ipynb'\n",
            " Sem_10_Objetos.ipynb\t\t      Sem_7_Programacion-funcional.ipynb\n",
            " Sem_11_Herencia_polimorfismo.ipynb   StudentsPerformance.csv\n",
            " Sem_1_Lenguaje_Python.ipynb\t      StudentsPerformance.gsheet\n"
          ]
        }
      ]
    },
    {
      "cell_type": "code",
      "source": [
        "path1 = \"drive/MyDrive/Lenguaje_de_ciencia_de_datos_I/grinch.txt\"\n",
        "# path1 = \"https://raw.githubusercontent.com/acosta187/datos/main/grinch.txt\"\n"
      ],
      "metadata": {
        "id": "dmyW7_Voxrt4"
      },
      "execution_count": null,
      "outputs": []
    },
    {
      "cell_type": "code",
      "source": [
        "# Abrir el archivo en modo lectura\n",
        "with open(path1, 'r') as archivo:\n",
        "    # Leer el contenido del archivo y almacenarlo en una lista\n",
        "    lista_contenido = archivo.readlines()\n",
        "\n",
        "# Eliminar los caracteres de salto de línea (\\n) al final de cada línea\n",
        "lista_contenido = [linea.strip() for linea in lista_contenido]\n",
        "\n",
        "# Imprimir el contenido de la lista\n",
        "print(lista_contenido)"
      ],
      "metadata": {
        "colab": {
          "base_uri": "https://localhost:8080/"
        },
        "id": "-JFpmdl2xa7u",
        "outputId": "6f73e83b-cb45-44c2-9de8-728901d4045c"
      },
      "execution_count": null,
      "outputs": [
        {
          "output_type": "stream",
          "name": "stdout",
          "text": [
            "['¡Cómo el Grinch robó la Navidad!', '', 'de Dr. Seuss', '', 'A todos los Quien', 'de Villaquién', 'la Navidad les encantaba…', 'Pero al Grinch,', 'que vivía justo al norte de Villaquién,', '¡NO le gustaba nada!', '¡El Grinch odiaba la Navidad! ¡Toda la temporada!', 'No me preguntéis por qué. No había razón justificada.', 'Tal vez tuviera un tornillo mal ajustado.', 'Tal vez llevara un zapato demasiado apretado.', 'Aunque yo creo que el verdadero motivo', 'es que tenía el corazón dos tallas encogido.', '¡Entonces se le ocurrió una idea!', '¡Una idea espantosa!', '¡AL GRINCH SE LE OCURRIÓ UNA IDEA MARAVILLOSA Y ESPANTOSA!', 'Hasta la cima del monte Crumpit, ¡mil metros de subida!', 'Arrastró toda la carga ¡para tirarla desde arriba!', '«¡Ay La que les va a caer a los Quién», canturreaba grinchesco,', '«Cuando vean que la Navidad no llega, ¡menudo chasco!', '¡Ahora se estarán despertando! ¡Se llevarán una sorpresa!', 'Seguro que al principio se van a quedar de una pieza.', 'Y después, todos los Quién de Villaquién se pondrán a llorar:', '¡BUA! ¡BUA!']\n"
          ]
        }
      ]
    },
    {
      "cell_type": "code",
      "source": [
        "lista_contenido"
      ],
      "metadata": {
        "colab": {
          "base_uri": "https://localhost:8080/"
        },
        "id": "5E5zdmGXzoIW",
        "outputId": "16ce836a-b736-4ad1-80c9-70f5dfc1893d"
      },
      "execution_count": null,
      "outputs": [
        {
          "output_type": "execute_result",
          "data": {
            "text/plain": [
              "['¡Cómo el Grinch robó la Navidad!',\n",
              " '',\n",
              " 'de Dr. Seuss',\n",
              " '',\n",
              " 'A todos los Quien',\n",
              " 'de Villaquién',\n",
              " 'la Navidad les encantaba…',\n",
              " 'Pero al Grinch,',\n",
              " 'que vivía justo al norte de Villaquién,',\n",
              " '¡NO le gustaba nada!',\n",
              " '¡El Grinch odiaba la Navidad! ¡Toda la temporada!',\n",
              " 'No me preguntéis por qué. No había razón justificada.',\n",
              " 'Tal vez tuviera un tornillo mal ajustado.',\n",
              " 'Tal vez llevara un zapato demasiado apretado.',\n",
              " 'Aunque yo creo que el verdadero motivo',\n",
              " 'es que tenía el corazón dos tallas encogido.',\n",
              " '¡Entonces se le ocurrió una idea!',\n",
              " '¡Una idea espantosa!',\n",
              " '¡AL GRINCH SE LE OCURRIÓ UNA IDEA MARAVILLOSA Y ESPANTOSA!',\n",
              " 'Hasta la cima del monte Crumpit, ¡mil metros de subida!',\n",
              " 'Arrastró toda la carga ¡para tirarla desde arriba!',\n",
              " '«¡Ay La que les va a caer a los Quién», canturreaba grinchesco,',\n",
              " '«Cuando vean que la Navidad no llega, ¡menudo chasco!',\n",
              " '¡Ahora se estarán despertando! ¡Se llevarán una sorpresa!',\n",
              " 'Seguro que al principio se van a quedar de una pieza.',\n",
              " 'Y después, todos los Quién de Villaquién se pondrán a llorar:',\n",
              " '¡BUA! ¡BUA!']"
            ]
          },
          "metadata": {},
          "execution_count": 43
        }
      ]
    },
    {
      "cell_type": "code",
      "source": [
        "with open(path1, 'r') as archivo:\n",
        "    # Leer el contenido del archivo y almacenarlo en una lista\n",
        "    contenido = archivo.read()\n",
        "    # Dividir el contenido por palabras y almacenarlo en una lista\n",
        "    lista_palabras = contenido.split()\n",
        "\n",
        "# Imprimir el contenido de la lista de palabras\n",
        "print(lista_palabras)"
      ],
      "metadata": {
        "colab": {
          "base_uri": "https://localhost:8080/"
        },
        "id": "d5QOdugF0Ys_",
        "outputId": "9c37df8d-24c4-48fd-90b8-68567387c09e"
      },
      "execution_count": null,
      "outputs": [
        {
          "output_type": "stream",
          "name": "stdout",
          "text": [
            "['¡Cómo', 'el', 'Grinch', 'robó', 'la', 'Navidad!', 'de', 'Dr.', 'Seuss', 'A', 'todos', 'los', 'Quien', 'de', 'Villaquién', 'la', 'Navidad', 'les', 'encantaba…', 'Pero', 'al', 'Grinch,', 'que', 'vivía', 'justo', 'al', 'norte', 'de', 'Villaquién,', '¡NO', 'le', 'gustaba', 'nada!', '¡El', 'Grinch', 'odiaba', 'la', 'Navidad!', '¡Toda', 'la', 'temporada!', 'No', 'me', 'preguntéis', 'por', 'qué.', 'No', 'había', 'razón', 'justificada.', 'Tal', 'vez', 'tuviera', 'un', 'tornillo', 'mal', 'ajustado.', 'Tal', 'vez', 'llevara', 'un', 'zapato', 'demasiado', 'apretado.', 'Aunque', 'yo', 'creo', 'que', 'el', 'verdadero', 'motivo', 'es', 'que', 'tenía', 'el', 'corazón', 'dos', 'tallas', 'encogido.', '¡Entonces', 'se', 'le', 'ocurrió', 'una', 'idea!', '¡Una', 'idea', 'espantosa!', '¡AL', 'GRINCH', 'SE', 'LE', 'OCURRIÓ', 'UNA', 'IDEA', 'MARAVILLOSA', 'Y', 'ESPANTOSA!', 'Hasta', 'la', 'cima', 'del', 'monte', 'Crumpit,', '¡mil', 'metros', 'de', 'subida!', 'Arrastró', 'toda', 'la', 'carga', '¡para', 'tirarla', 'desde', 'arriba!', '«¡Ay', 'La', 'que', 'les', 'va', 'a', 'caer', 'a', 'los', 'Quién»,', 'canturreaba', 'grinchesco,', '«Cuando', 'vean', 'que', 'la', 'Navidad', 'no', 'llega,', '¡menudo', 'chasco!', '¡Ahora', 'se', 'estarán', 'despertando!', '¡Se', 'llevarán', 'una', 'sorpresa!', 'Seguro', 'que', 'al', 'principio', 'se', 'van', 'a', 'quedar', 'de', 'una', 'pieza.', 'Y', 'después,', 'todos', 'los', 'Quién', 'de', 'Villaquién', 'se', 'pondrán', 'a', 'llorar:', '¡BUA!', '¡BUA!']\n"
          ]
        }
      ]
    },
    {
      "cell_type": "code",
      "source": [],
      "metadata": {
        "colab": {
          "base_uri": "https://localhost:8080/"
        },
        "id": "BPg4D5w00kjb",
        "outputId": "3ecd2780-c25b-4cf4-cd28-d08c8354a7cc"
      },
      "execution_count": null,
      "outputs": [
        {
          "output_type": "execute_result",
          "data": {
            "text/plain": [
              "['¡cómo',\n",
              " 'el',\n",
              " 'grinch',\n",
              " 'robó',\n",
              " 'la',\n",
              " 'navidad!',\n",
              " 'de',\n",
              " 'dr.',\n",
              " 'seuss',\n",
              " 'a',\n",
              " 'todos',\n",
              " 'los',\n",
              " 'quien',\n",
              " 'de',\n",
              " 'villaquién',\n",
              " 'la',\n",
              " 'navidad',\n",
              " 'les',\n",
              " 'encantaba…',\n",
              " 'pero',\n",
              " 'al',\n",
              " 'grinch,',\n",
              " 'que',\n",
              " 'vivía',\n",
              " 'justo',\n",
              " 'al',\n",
              " 'norte',\n",
              " 'de',\n",
              " 'villaquién,',\n",
              " '¡no',\n",
              " 'le',\n",
              " 'gustaba',\n",
              " 'nada!',\n",
              " '¡el',\n",
              " 'grinch',\n",
              " 'odiaba',\n",
              " 'la',\n",
              " 'navidad!',\n",
              " '¡toda',\n",
              " 'la',\n",
              " 'temporada!',\n",
              " 'no',\n",
              " 'me',\n",
              " 'preguntéis',\n",
              " 'por',\n",
              " 'qué.',\n",
              " 'no',\n",
              " 'había',\n",
              " 'razón',\n",
              " 'justificada.',\n",
              " 'tal',\n",
              " 'vez',\n",
              " 'tuviera',\n",
              " 'un',\n",
              " 'tornillo',\n",
              " 'mal',\n",
              " 'ajustado.',\n",
              " 'tal',\n",
              " 'vez',\n",
              " 'llevara',\n",
              " 'un',\n",
              " 'zapato',\n",
              " 'demasiado',\n",
              " 'apretado.',\n",
              " 'aunque',\n",
              " 'yo',\n",
              " 'creo',\n",
              " 'que',\n",
              " 'el',\n",
              " 'verdadero',\n",
              " 'motivo',\n",
              " 'es',\n",
              " 'que',\n",
              " 'tenía',\n",
              " 'el',\n",
              " 'corazón',\n",
              " 'dos',\n",
              " 'tallas',\n",
              " 'encogido.',\n",
              " '¡entonces',\n",
              " 'se',\n",
              " 'le',\n",
              " 'ocurrió',\n",
              " 'una',\n",
              " 'idea!',\n",
              " '¡una',\n",
              " 'idea',\n",
              " 'espantosa!',\n",
              " '¡al',\n",
              " 'grinch',\n",
              " 'se',\n",
              " 'le',\n",
              " 'ocurrió',\n",
              " 'una',\n",
              " 'idea',\n",
              " 'maravillosa',\n",
              " 'y',\n",
              " 'espantosa!',\n",
              " 'hasta',\n",
              " 'la',\n",
              " 'cima',\n",
              " 'del',\n",
              " 'monte',\n",
              " 'crumpit,',\n",
              " '¡mil',\n",
              " 'metros',\n",
              " 'de',\n",
              " 'subida!',\n",
              " 'arrastró',\n",
              " 'toda',\n",
              " 'la',\n",
              " 'carga',\n",
              " '¡para',\n",
              " 'tirarla',\n",
              " 'desde',\n",
              " 'arriba!',\n",
              " '«¡ay',\n",
              " 'la',\n",
              " 'que',\n",
              " 'les',\n",
              " 'va',\n",
              " 'a',\n",
              " 'caer',\n",
              " 'a',\n",
              " 'los',\n",
              " 'quién»,',\n",
              " 'canturreaba',\n",
              " 'grinchesco,',\n",
              " '«cuando',\n",
              " 'vean',\n",
              " 'que',\n",
              " 'la',\n",
              " 'navidad',\n",
              " 'no',\n",
              " 'llega,',\n",
              " '¡menudo',\n",
              " 'chasco!',\n",
              " '¡ahora',\n",
              " 'se',\n",
              " 'estarán',\n",
              " 'despertando!',\n",
              " '¡se',\n",
              " 'llevarán',\n",
              " 'una',\n",
              " 'sorpresa!',\n",
              " 'seguro',\n",
              " 'que',\n",
              " 'al',\n",
              " 'principio',\n",
              " 'se',\n",
              " 'van',\n",
              " 'a',\n",
              " 'quedar',\n",
              " 'de',\n",
              " 'una',\n",
              " 'pieza.',\n",
              " 'y',\n",
              " 'después,',\n",
              " 'todos',\n",
              " 'los',\n",
              " 'quién',\n",
              " 'de',\n",
              " 'villaquién',\n",
              " 'se',\n",
              " 'pondrán',\n",
              " 'a',\n",
              " 'llorar:',\n",
              " '¡bua!',\n",
              " '¡bua!']"
            ]
          },
          "metadata": {},
          "execution_count": 18
        }
      ]
    },
    {
      "cell_type": "code",
      "source": [
        "# Mostrar en una lista las palabras de la cadena, pero sin duplicados\n",
        "print(lista_palabras[1:5])"
      ],
      "metadata": {
        "colab": {
          "base_uri": "https://localhost:8080/"
        },
        "id": "FXFh8blX10hp",
        "outputId": "626503d5-c7c3-4be6-eb8a-81efc34901ca"
      },
      "execution_count": null,
      "outputs": [
        {
          "output_type": "stream",
          "name": "stdout",
          "text": [
            "['el', 'Grinch', 'robó', 'la']\n"
          ]
        }
      ]
    },
    {
      "cell_type": "code",
      "source": [
        "set(lista_palabras)"
      ],
      "metadata": {
        "colab": {
          "base_uri": "https://localhost:8080/"
        },
        "id": "uHGlaz-GVtUf",
        "outputId": "be11de5c-83c7-450f-95cf-45e97f8eaf88"
      },
      "execution_count": null,
      "outputs": [
        {
          "output_type": "execute_result",
          "data": {
            "text/plain": [
              "{'A',\n",
              " 'Arrastró',\n",
              " 'Aunque',\n",
              " 'Crumpit,',\n",
              " 'Dr.',\n",
              " 'ESPANTOSA!',\n",
              " 'GRINCH',\n",
              " 'Grinch',\n",
              " 'Grinch,',\n",
              " 'Hasta',\n",
              " 'IDEA',\n",
              " 'LE',\n",
              " 'La',\n",
              " 'MARAVILLOSA',\n",
              " 'Navidad',\n",
              " 'Navidad!',\n",
              " 'No',\n",
              " 'OCURRIÓ',\n",
              " 'Pero',\n",
              " 'Quien',\n",
              " 'Quién',\n",
              " 'Quién»,',\n",
              " 'SE',\n",
              " 'Seguro',\n",
              " 'Seuss',\n",
              " 'Tal',\n",
              " 'UNA',\n",
              " 'Villaquién',\n",
              " 'Villaquién,',\n",
              " 'Y',\n",
              " 'a',\n",
              " 'ajustado.',\n",
              " 'al',\n",
              " 'apretado.',\n",
              " 'arriba!',\n",
              " 'caer',\n",
              " 'canturreaba',\n",
              " 'carga',\n",
              " 'chasco!',\n",
              " 'cima',\n",
              " 'corazón',\n",
              " 'creo',\n",
              " 'de',\n",
              " 'del',\n",
              " 'demasiado',\n",
              " 'desde',\n",
              " 'despertando!',\n",
              " 'después,',\n",
              " 'dos',\n",
              " 'el',\n",
              " 'encantaba…',\n",
              " 'encogido.',\n",
              " 'es',\n",
              " 'espantosa!',\n",
              " 'estarán',\n",
              " 'grinchesco,',\n",
              " 'gustaba',\n",
              " 'había',\n",
              " 'idea',\n",
              " 'idea!',\n",
              " 'justificada.',\n",
              " 'justo',\n",
              " 'la',\n",
              " 'le',\n",
              " 'les',\n",
              " 'llega,',\n",
              " 'llevara',\n",
              " 'llevarán',\n",
              " 'llorar:',\n",
              " 'los',\n",
              " 'mal',\n",
              " 'me',\n",
              " 'metros',\n",
              " 'monte',\n",
              " 'motivo',\n",
              " 'nada!',\n",
              " 'no',\n",
              " 'norte',\n",
              " 'ocurrió',\n",
              " 'odiaba',\n",
              " 'pieza.',\n",
              " 'pondrán',\n",
              " 'por',\n",
              " 'preguntéis',\n",
              " 'principio',\n",
              " 'que',\n",
              " 'quedar',\n",
              " 'qué.',\n",
              " 'razón',\n",
              " 'robó',\n",
              " 'se',\n",
              " 'sorpresa!',\n",
              " 'subida!',\n",
              " 'tallas',\n",
              " 'temporada!',\n",
              " 'tenía',\n",
              " 'tirarla',\n",
              " 'toda',\n",
              " 'todos',\n",
              " 'tornillo',\n",
              " 'tuviera',\n",
              " 'un',\n",
              " 'una',\n",
              " 'va',\n",
              " 'van',\n",
              " 'vean',\n",
              " 'verdadero',\n",
              " 'vez',\n",
              " 'vivía',\n",
              " 'yo',\n",
              " 'zapato',\n",
              " '¡AL',\n",
              " '¡Ahora',\n",
              " '¡BUA!',\n",
              " '¡Cómo',\n",
              " '¡El',\n",
              " '¡Entonces',\n",
              " '¡NO',\n",
              " '¡Se',\n",
              " '¡Toda',\n",
              " '¡Una',\n",
              " '¡menudo',\n",
              " '¡mil',\n",
              " '¡para',\n",
              " '«Cuando',\n",
              " '«¡Ay'}"
            ]
          },
          "metadata": {},
          "execution_count": 46
        }
      ]
    },
    {
      "cell_type": "code",
      "source": [
        "out = list()\n",
        "\n",
        "for i in lista_palabras:\n",
        "  if i.lower() in out:\n",
        "    continue#no hace nada, pero marca la opcion de colcoar mas argumentos\n",
        "  else:\n",
        "    out.append(i.lower())\n",
        "print(out[0:10])\n",
        "print(len(out))\n",
        "\n"
      ],
      "metadata": {
        "colab": {
          "base_uri": "https://localhost:8080/"
        },
        "id": "KzxKygHTbp0i",
        "outputId": "9e744a50-b624-4005-d2f7-6f9db978b67c"
      },
      "execution_count": null,
      "outputs": [
        {
          "output_type": "stream",
          "name": "stdout",
          "text": [
            "['¡cómo', 'el', 'grinch', 'robó', 'la', 'navidad!', 'de', 'dr.', 'seuss', 'a']\n",
            "116\n"
          ]
        }
      ]
    },
    {
      "cell_type": "code",
      "source": [
        "out = list()\n",
        "if lista_palabras[0].lower() in out:\n",
        "  pass\n",
        "else:\n",
        "  out.append(lista_palabras[0].lower())\n",
        "\n",
        "print(out)"
      ],
      "metadata": {
        "colab": {
          "base_uri": "https://localhost:8080/"
        },
        "id": "v00Q8pljW6M7",
        "outputId": "c43ac3c2-a835-4b60-b850-5892db2fb31d"
      },
      "execution_count": null,
      "outputs": [
        {
          "output_type": "stream",
          "name": "stdout",
          "text": [
            "['¡cómo']\n"
          ]
        }
      ]
    },
    {
      "cell_type": "code",
      "source": [
        "id =15\n",
        "if lista_palabras[id].lower() in out:\n",
        "  pass\n",
        "else:\n",
        "  out.append(lista_palabras[id].lower())\n",
        "\n",
        "print(lista_palabras[id].lower())\n",
        "print(out)"
      ],
      "metadata": {
        "colab": {
          "base_uri": "https://localhost:8080/"
        },
        "id": "ewc7vKr2Xc7y",
        "outputId": "f0ff7bf1-494b-4979-96f8-00261d502708"
      },
      "execution_count": null,
      "outputs": [
        {
          "output_type": "stream",
          "name": "stdout",
          "text": [
            "la\n",
            "['¡cómo', 'el', 'grinch', 'robó', 'la', 'navidad!', 'de', 'dr.', 'seuss', 'a', 'todos', 'los', 'quien', 'villaquién']\n"
          ]
        }
      ]
    },
    {
      "cell_type": "code",
      "source": [
        "lista_palabras2 = list()\n",
        "for i in lista_palabras:\n",
        "  palabra_min = i.lower()\n",
        "  lista_palabras2.append(palabra_min)\n",
        "\n",
        "print(lista_palabras2[0:10])"
      ],
      "metadata": {
        "colab": {
          "base_uri": "https://localhost:8080/"
        },
        "id": "tfxfdV4hdw0m",
        "outputId": "e5a2390e-1c08-4507-f635-44f0efeccdac"
      },
      "execution_count": null,
      "outputs": [
        {
          "output_type": "stream",
          "name": "stdout",
          "text": [
            "['¡cómo', 'el', 'grinch', 'robó', 'la', 'navidad!', 'de', 'dr.', 'seuss', 'a']\n"
          ]
        }
      ]
    },
    {
      "cell_type": "code",
      "source": [
        "count =0\n",
        "for i in out:\n",
        "  n = lista_palabras2.count(i)\n",
        "  if n ==1:\n",
        "    print(\"La palabra '\", i, \"' se repite \", n, \" veces\",sep=\"\")\n",
        "    count +=1\n",
        "\n",
        "print(count)"
      ],
      "metadata": {
        "colab": {
          "base_uri": "https://localhost:8080/"
        },
        "id": "ZOJj09N6chi1",
        "outputId": "8c88682a-57a7-446f-ea67-57607a861598"
      },
      "execution_count": null,
      "outputs": [
        {
          "output_type": "stream",
          "name": "stdout",
          "text": [
            "La palabra '¡cómo' se repite 1 veces\n",
            "La palabra 'robó' se repite 1 veces\n",
            "La palabra 'dr.' se repite 1 veces\n",
            "La palabra 'seuss' se repite 1 veces\n",
            "La palabra 'quien' se repite 1 veces\n",
            "La palabra 'encantaba…' se repite 1 veces\n",
            "La palabra 'pero' se repite 1 veces\n",
            "La palabra 'grinch,' se repite 1 veces\n",
            "La palabra 'vivía' se repite 1 veces\n",
            "La palabra 'justo' se repite 1 veces\n",
            "La palabra 'norte' se repite 1 veces\n",
            "La palabra 'villaquién,' se repite 1 veces\n",
            "La palabra '¡no' se repite 1 veces\n",
            "La palabra 'gustaba' se repite 1 veces\n",
            "La palabra 'nada!' se repite 1 veces\n",
            "La palabra '¡el' se repite 1 veces\n",
            "La palabra 'odiaba' se repite 1 veces\n",
            "La palabra '¡toda' se repite 1 veces\n",
            "La palabra 'temporada!' se repite 1 veces\n",
            "La palabra 'me' se repite 1 veces\n",
            "La palabra 'preguntéis' se repite 1 veces\n",
            "La palabra 'por' se repite 1 veces\n",
            "La palabra 'qué.' se repite 1 veces\n",
            "La palabra 'había' se repite 1 veces\n",
            "La palabra 'razón' se repite 1 veces\n",
            "La palabra 'justificada.' se repite 1 veces\n",
            "La palabra 'tuviera' se repite 1 veces\n",
            "La palabra 'tornillo' se repite 1 veces\n",
            "La palabra 'mal' se repite 1 veces\n",
            "La palabra 'ajustado.' se repite 1 veces\n",
            "La palabra 'llevara' se repite 1 veces\n",
            "La palabra 'zapato' se repite 1 veces\n",
            "La palabra 'demasiado' se repite 1 veces\n",
            "La palabra 'apretado.' se repite 1 veces\n",
            "La palabra 'aunque' se repite 1 veces\n",
            "La palabra 'yo' se repite 1 veces\n",
            "La palabra 'creo' se repite 1 veces\n",
            "La palabra 'verdadero' se repite 1 veces\n",
            "La palabra 'motivo' se repite 1 veces\n",
            "La palabra 'es' se repite 1 veces\n",
            "La palabra 'tenía' se repite 1 veces\n",
            "La palabra 'corazón' se repite 1 veces\n",
            "La palabra 'dos' se repite 1 veces\n",
            "La palabra 'tallas' se repite 1 veces\n",
            "La palabra 'encogido.' se repite 1 veces\n",
            "La palabra '¡entonces' se repite 1 veces\n",
            "La palabra 'idea!' se repite 1 veces\n",
            "La palabra '¡una' se repite 1 veces\n",
            "La palabra '¡al' se repite 1 veces\n",
            "La palabra 'maravillosa' se repite 1 veces\n",
            "La palabra 'hasta' se repite 1 veces\n",
            "La palabra 'cima' se repite 1 veces\n",
            "La palabra 'del' se repite 1 veces\n",
            "La palabra 'monte' se repite 1 veces\n",
            "La palabra 'crumpit,' se repite 1 veces\n",
            "La palabra '¡mil' se repite 1 veces\n",
            "La palabra 'metros' se repite 1 veces\n",
            "La palabra 'subida!' se repite 1 veces\n",
            "La palabra 'arrastró' se repite 1 veces\n",
            "La palabra 'toda' se repite 1 veces\n",
            "La palabra 'carga' se repite 1 veces\n",
            "La palabra '¡para' se repite 1 veces\n",
            "La palabra 'tirarla' se repite 1 veces\n",
            "La palabra 'desde' se repite 1 veces\n",
            "La palabra 'arriba!' se repite 1 veces\n",
            "La palabra '«¡ay' se repite 1 veces\n",
            "La palabra 'va' se repite 1 veces\n",
            "La palabra 'caer' se repite 1 veces\n",
            "La palabra 'quién»,' se repite 1 veces\n",
            "La palabra 'canturreaba' se repite 1 veces\n",
            "La palabra 'grinchesco,' se repite 1 veces\n",
            "La palabra '«cuando' se repite 1 veces\n",
            "La palabra 'vean' se repite 1 veces\n",
            "La palabra 'llega,' se repite 1 veces\n",
            "La palabra '¡menudo' se repite 1 veces\n",
            "La palabra 'chasco!' se repite 1 veces\n",
            "La palabra '¡ahora' se repite 1 veces\n",
            "La palabra 'estarán' se repite 1 veces\n",
            "La palabra 'despertando!' se repite 1 veces\n",
            "La palabra '¡se' se repite 1 veces\n",
            "La palabra 'llevarán' se repite 1 veces\n",
            "La palabra 'sorpresa!' se repite 1 veces\n",
            "La palabra 'seguro' se repite 1 veces\n",
            "La palabra 'principio' se repite 1 veces\n",
            "La palabra 'van' se repite 1 veces\n",
            "La palabra 'quedar' se repite 1 veces\n",
            "La palabra 'pieza.' se repite 1 veces\n",
            "La palabra 'después,' se repite 1 veces\n",
            "La palabra 'quién' se repite 1 veces\n",
            "La palabra 'pondrán' se repite 1 veces\n",
            "La palabra 'llorar:' se repite 1 veces\n",
            "91\n"
          ]
        }
      ]
    },
    {
      "cell_type": "code",
      "source": [
        "lista3 =[2,3,4,5,1,1,4]"
      ],
      "metadata": {
        "id": "tK1hBg4lY4D5"
      },
      "execution_count": null,
      "outputs": []
    },
    {
      "cell_type": "code",
      "source": [
        "lista_acum = []\n",
        "\n",
        "for i in lista3:\n",
        "  if i in lista_acum:\n",
        "    pass\n",
        "  else:\n",
        "    lista_acum.append(i)\n",
        "\n",
        "print(lista_acum)"
      ],
      "metadata": {
        "colab": {
          "base_uri": "https://localhost:8080/"
        },
        "id": "aSpVwlUmZBX-",
        "outputId": "c1617449-dbca-4536-9633-0c1b4e5f24e7"
      },
      "execution_count": null,
      "outputs": [
        {
          "output_type": "stream",
          "name": "stdout",
          "text": [
            "[2, 3, 4, 5, 1]\n"
          ]
        }
      ]
    }
  ]
}