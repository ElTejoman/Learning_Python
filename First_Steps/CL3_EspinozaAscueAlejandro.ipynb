{
 "cells": [
  {
   "cell_type": "markdown",
   "metadata": {},
   "source": [
    "# CL3- ALEJANDRO ESPINOZA ASCUE\n",
    "\n",
    "## PREGUNTA 1.- Herencia y encapsulamiento\n",
    "\n",
    "Se le solicita:\n",
    "\n",
    "a)\tCrear la clase persona con los siguientes atributos:\n",
    " - a.\tNombre\n",
    " - b.\tDNI\n",
    " - c.\tEdad\n",
    " - d.\tGénero"
   ]
  },
  {
   "cell_type": "code",
   "execution_count": 1,
   "metadata": {},
   "outputs": [
    {
     "name": "stdout",
     "output_type": "stream",
     "text": [
      "Nombre: Juan Perez, DNI: 12345678A, Edad: 30, Género: Masculino\n"
     ]
    }
   ],
   "source": [
    "class Persona:\n",
    "    def __init__(self, nombre, dni, edad, genero):\n",
    "        self.__nombre = nombre\n",
    "        self.__dni = dni\n",
    "        self.__edad = edad\n",
    "        self.__genero = genero\n",
    "\n",
    "    def __str__(self):\n",
    "        return f\"Nombre: {self.__nombre}, DNI: {self.__dni}, Edad: {self.__edad}, Género: {self.__genero}\"\n",
    "\n",
    "\n",
    "persona1 = Persona(\"Alejandro\", \"72727272\", 28, \"Masculino\")\n",
    "print(persona1)"
   ]
  }
 ],
 "metadata": {
  "kernelspec": {
   "display_name": "Python 3",
   "language": "python",
   "name": "python3"
  },
  "language_info": {
   "codemirror_mode": {
    "name": "ipython",
    "version": 3
   },
   "file_extension": ".py",
   "mimetype": "text/x-python",
   "name": "python",
   "nbconvert_exporter": "python",
   "pygments_lexer": "ipython3",
   "version": "3.11.8"
  }
 },
 "nbformat": 4,
 "nbformat_minor": 2
}
