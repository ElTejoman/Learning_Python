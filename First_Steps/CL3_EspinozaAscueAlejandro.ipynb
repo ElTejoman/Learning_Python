{
 "cells": [
  {
   "cell_type": "markdown",
   "metadata": {},
   "source": [
    "# CL3- ALEJANDRO ESPINOZA ASCUE\n",
    "\n",
    "## PREGUNTA 1.- Herencia y encapsulamiento\n",
    "\n",
    "Se le solicita:\n",
    "\n",
    "a)\tCrear la clase persona con los siguientes atributos:\n",
    " - a.\tNombre\n",
    " - b.\tDNI\n",
    " - c.\tEdad\n",
    " - d.\tGénero"
   ]
  },
  {
   "cell_type": "code",
   "execution_count": 2,
   "metadata": {},
   "outputs": [
    {
     "name": "stdout",
     "output_type": "stream",
     "text": [
      "Nombre: Alejandro, DNI: 72727272, Edad: 28, Género: Masculino\n"
     ]
    }
   ],
   "source": [
    "class Persona:\n",
    "    def __init__(self, nombre, dni, edad, genero):\n",
    "        self.__nombre = nombre\n",
    "        self.__dni = dni\n",
    "        self.__edad = edad\n",
    "        self.__genero = genero\n",
    "\n",
    "    def __str__(self):\n",
    "        return f\"Nombre: {self.__nombre}, DNI: {self.__dni}, Edad: {self.__edad}, Género: {self.__genero}\"\n",
    "\n",
    "\n",
    "persona1 = Persona(\"Alejandro\", \"72727272\", 28, \"Masculino\")\n",
    "print(persona1)"
   ]
  },
  {
   "cell_type": "markdown",
   "metadata": {},
   "source": [
    "\n",
    "b)\tCrear la clase perrsonal_cibertec que herede la clase persona y que además tenga los siguientes atributos y métodos:\n",
    "\n",
    " - a.\tAtributos\n",
    "\n",
    "i.\tPeso\n",
    "\n",
    "ii.\tEstatura\n",
    "\n",
    "iii.\tEnfermedad de riesgo (Privada)\n",
    "\n",
    " - b.\tMétodos\n",
    " \n",
    "i.\tObtener enfermedad de riesgo\n",
    "\n",
    "ii.\tObtener Índice de masa corporal (IMC=peso/talla^2)\n",
    "\n",
    "iii.\tObtener el estatus que debe indicar:\n",
    "\n",
    "1.\t\"Actividad virtual” si el IMC>30 o si el personal tiene alguna de las siguientes enfermedades: [“Diabetes”,” Hipertensión”,” Inmunológicas”].\n",
    "2.\t“Actividad presencial” en caso de que se cumpla lo contrario, es decir que su índice de masa corporal sea menor a 30 y que no tenga ninguna enfermedad de riesgo descrita en la lista.\n"
   ]
  },
  {
   "cell_type": "code",
   "execution_count": 3,
   "metadata": {},
   "outputs": [
    {
     "name": "stdout",
     "output_type": "stream",
     "text": [
      "Nombre: Ana García, DNI: 98765432B, Edad: 25, Género: Femenino\n",
      "Enfermedad de riesgo: Diabetes\n",
      "Índice de Masa Corporal (IMC): 21.224489795918366\n",
      "Estatus: Actividad virtual\n"
     ]
    }
   ],
   "source": [
    "class Personal_Cibertec(Persona):\n",
    "    def __init__(self, nombre, dni, edad, genero, peso, estatura, enfermedad_riesgo):\n",
    "        super().__init__(nombre, dni, edad, genero)\n",
    "        self.__peso = peso\n",
    "        self.__estatura = estatura\n",
    "        self.__enfermedad_riesgo = enfermedad_riesgo\n",
    "\n",
    "    def obtener_enfermedad_riesgo(self):\n",
    "        return self.__enfermedad_riesgo\n",
    "\n",
    "    def obtener_IMC(self):\n",
    "        return self.__peso / (self.__estatura**2)\n",
    "\n",
    "    def obtener_estatus(self):\n",
    "        if self.obtener_IMC() > 30 or self.__enfermedad_riesgo in [\n",
    "            \"Diabetes\",\n",
    "            \"Hipertensión\",\n",
    "            \"Inmunológicas\",\n",
    "        ]:\n",
    "            return \"Actividad virtual\"\n",
    "        else:\n",
    "            return \"Actividad presencial\"\n",
    "\n",
    "\n",
    "# Ejemplo de uso\n",
    "personal1 = Personal_Cibertec(\n",
    "    \"Ana García\", \"98765432B\", 25, \"Femenino\", 65, 1.75, \"Diabetes\"\n",
    ")\n",
    "print(personal1)\n",
    "print(\"Enfermedad de riesgo:\", personal1.obtener_enfermedad_riesgo())\n",
    "print(\"Índice de Masa Corporal (IMC):\", personal1.obtener_IMC())\n",
    "print(\"Estatus:\", personal1.obtener_estatus())"
   ]
  },
  {
   "cell_type": "markdown",
   "metadata": {},
   "source": []
  },
  {
   "cell_type": "code",
   "execution_count": 4,
   "metadata": {},
   "outputs": [
    {
     "name": "stdout",
     "output_type": "stream",
     "text": [
      "Libros antes de actualizar:\n",
      "[(1, 'El principito', 'Antoine de Saint-Exupéry', 1943), (2, 'Harry Potter y la piedra filosofal', 'J.K. Rowling', 1997)]\n",
      "\n",
      "Libros después de actualizar:\n",
      "[(1, 'El principito', 'Antoine de Saint-Exupéry', 1942), (2, 'Harry Potter y la piedra filosofal', 'J.K. Rowling', 1997)]\n",
      "\n",
      "Libros después de eliminar:\n",
      "[(1, 'El principito', 'Antoine de Saint-Exupéry', 1942)]\n"
     ]
    }
   ],
   "source": [
    "import sqlite3\n",
    "\n",
    "\n",
    "# Función para conectar a la base de datos\n",
    "def conectar_bd():\n",
    "    conexion = sqlite3.connect(\"biblioteca.db\")\n",
    "    cursor = conexion.cursor()\n",
    "    return conexion, cursor\n",
    "\n",
    "\n",
    "# Crear la tabla libros si no existe\n",
    "def crear_tabla():\n",
    "    conexion, cursor = conectar_bd()\n",
    "    cursor.execute(\n",
    "        \"\"\"\n",
    "        CREATE TABLE IF NOT EXISTS libros (\n",
    "            id INTEGER PRIMARY KEY,\n",
    "            titulo TEXT,\n",
    "            autor TEXT,\n",
    "            anio INTEGER\n",
    "        )\n",
    "    \"\"\"\n",
    "    )\n",
    "    conexion.commit()\n",
    "    conexion.close()\n",
    "\n",
    "\n",
    "# Función para insertar un nuevo libro\n",
    "def agregar_libro(titulo, autor, anio):\n",
    "    conexion, cursor = conectar_bd()\n",
    "    cursor.execute(\n",
    "        \"INSERT INTO libros (titulo, autor, anio) VALUES (?, ?, ?)\",\n",
    "        (titulo, autor, anio),\n",
    "    )\n",
    "    conexion.commit()\n",
    "    conexion.close()\n",
    "\n",
    "\n",
    "# Función para mostrar todos los libros\n",
    "def mostrar_libros():\n",
    "    conexion, cursor = conectar_bd()\n",
    "    cursor.execute(\"SELECT * FROM libros\")\n",
    "    libros = cursor.fetchall()\n",
    "    conexion.close()\n",
    "    return libros\n",
    "\n",
    "\n",
    "# Función para actualizar un libro\n",
    "def actualizar_libro(id_libro, titulo, autor, anio):\n",
    "    conexion, cursor = conectar_bd()\n",
    "    cursor.execute(\n",
    "        \"UPDATE libros SET titulo=?, autor=?, anio=? WHERE id=?\",\n",
    "        (titulo, autor, anio, id_libro),\n",
    "    )\n",
    "    conexion.commit()\n",
    "    conexion.close()\n",
    "\n",
    "\n",
    "# Función para eliminar un libro\n",
    "def eliminar_libro(id_libro):\n",
    "    conexion, cursor = conectar_bd()\n",
    "    cursor.execute(\"DELETE FROM libros WHERE id=?\", (id_libro,))\n",
    "    conexion.commit()\n",
    "    conexion.close()\n",
    "\n",
    "\n",
    "# Ejemplo de uso\n",
    "crear_tabla()\n",
    "agregar_libro(\"El principito\", \"Antoine de Saint-Exupéry\", 1943)\n",
    "agregar_libro(\"Harry Potter y la piedra filosofal\", \"J.K. Rowling\", 1997)\n",
    "print(\"Libros antes de actualizar:\")\n",
    "print(mostrar_libros())\n",
    "actualizar_libro(1, \"El principito\", \"Antoine de Saint-Exupéry\", 1942)\n",
    "print(\"\\nLibros después de actualizar:\")\n",
    "print(mostrar_libros())\n",
    "eliminar_libro(2)\n",
    "print(\"\\nLibros después de eliminar:\")\n",
    "print(mostrar_libros())"
   ]
  }
 ],
 "metadata": {
  "kernelspec": {
   "display_name": "Python 3",
   "language": "python",
   "name": "python3"
  },
  "language_info": {
   "codemirror_mode": {
    "name": "ipython",
    "version": 3
   },
   "file_extension": ".py",
   "mimetype": "text/x-python",
   "name": "python",
   "nbconvert_exporter": "python",
   "pygments_lexer": "ipython3",
   "version": "3.11.8"
  }
 },
 "nbformat": 4,
 "nbformat_minor": 2
}
