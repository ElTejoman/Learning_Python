{
 "cells": [
  {
   "cell_type": "code",
   "execution_count": null,
   "metadata": {},
   "outputs": [],
   "source": [
    "#Here Im practicing exercices provided for chat gpt "
   ]
  },
  {
   "cell_type": "code",
   "execution_count": 2,
   "metadata": {},
   "outputs": [
    {
     "name": "stdout",
     "output_type": "stream",
     "text": [
      "1 es menor que 20 por -19\n"
     ]
    }
   ],
   "source": [
    "# Escribe un programa que pida al usuario dos números enteros y muestre cuál de ellos es mayor o si son iguales. Además, si son diferentes, muestra la diferencia entre ambos.\n",
    "\n",
    "num1=int(input(\"escribe tu primer numero: \"))\n",
    "num2=int(input(\"escribe tu segundo numero: \"))\n",
    "dife= num1 - num2\n",
    "\n",
    "if num1 < num2:\n",
    "    print (f\"{num1} es menor que {num2} por {dife}\")\n",
    "elif num1 > num2:\n",
    "    print (f\"{num1} es meayor que {num2} por {dife}\")\n",
    "else :\n",
    "    print(\"Son iguales!\")"
   ]
  }
 ],
 "metadata": {
  "kernelspec": {
   "display_name": "Python 3",
   "language": "python",
   "name": "python3"
  },
  "language_info": {
   "codemirror_mode": {
    "name": "ipython",
    "version": 3
   },
   "file_extension": ".py",
   "mimetype": "text/x-python",
   "name": "python",
   "nbconvert_exporter": "python",
   "pygments_lexer": "ipython3",
   "version": "3.11.4"
  },
  "orig_nbformat": 4
 },
 "nbformat": 4,
 "nbformat_minor": 2
}
