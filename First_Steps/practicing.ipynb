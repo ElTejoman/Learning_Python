{
 "cells": [
  {
   "cell_type": "code",
   "execution_count": null,
   "metadata": {},
   "outputs": [],
   "source": [
    "#Here Im practicing exercices provided for chat gpt "
   ]
  },
  {
   "cell_type": "code",
   "execution_count": 2,
   "metadata": {},
   "outputs": [
    {
     "name": "stdout",
     "output_type": "stream",
     "text": [
      "1 es menor que 20 por -19\n"
     ]
    }
   ],
   "source": [
    "# Escribe un programa que pida al usuario dos números enteros y muestre cuál de ellos es mayor o si son iguales. Además, si son diferentes, muestra la diferencia entre ambos.\n",
    "\n",
    "num1=int(input(\"escribe tu primer numero: \"))\n",
    "num2=int(input(\"escribe tu segundo numero: \"))\n",
    "dife= num1 - num2\n",
    "\n",
    "if num1 < num2:\n",
    "    print (f\"{num1} es menor que {num2} por {dife}\")\n",
    "elif num1 > num2:\n",
    "    print (f\"{num1} es meayor que {num2} por {dife}\")\n",
    "else :\n",
    "    print(\"Son iguales!\")"
   ]
  },
  {
   "cell_type": "code",
   "execution_count": null,
   "metadata": {},
   "outputs": [],
   "source": [
    "#In a five-star review system (⭐️⭐️⭐️⭐️⭐️), the stars typically represent the different levels of satisfaction.\n",
    "\n",
    "#food_rating.py\n",
    "\n",
    "rating= float(input(\"Put you rating to 0 to five:  \"))\n",
    "\n",
    "\n",
    "if rating > 4.5:\n",
    "  print(\"Extraordinary\")\n",
    "elif rating > 4:\n",
    "  print(\"Excellent\")\n",
    "elif rating > 3:\n",
    "  print(\"Good\")\n",
    "elif rating > 2:\n",
    "  print(\"Fair\")\n",
    "else:\n",
    "  print(\"Poor\")"
   ]
  },
  {
   "cell_type": "code",
   "execution_count": null,
   "metadata": {},
   "outputs": [],
   "source": [
    "# Write code below 💖\n",
    "#U.S. high schools typically last for four years, from freshman year to senior year. 🚌💨\n",
    "\n",
    "First, ask the user their grade using the input() function.\n",
    "grade = int(input(\"put your grade to order in the system: \"))\n",
    "\n",
    "if grade == 9:\n",
    "  print(\"Freshman\")\n",
    "elif grade == 10:\n",
    "  print(\"Sophomore\")\n",
    "elif grade == 11:\n",
    "  print(\"Junior\")\n",
    "elif grade == 12:\n",
    "  print(\"Senior\")\n",
    "else:\n",
    "  print(\"TBD\")"
   ]
  },
  {
   "cell_type": "code",
   "execution_count": 1,
   "metadata": {},
   "outputs": [
    {
     "name": "stdout",
     "output_type": "stream",
     "text": [
      "The only food that doesn’t spoil is honey.\n"
     ]
    }
   ],
   "source": [
    "# Write code below 💖\n",
    "# Using random to select a random sentence\n",
    "import random\n",
    "\n",
    "num = random.randint(0,5)\n",
    "\n",
    "if num == 0:\n",
    "  print(\"lamingos turn pink from eating shrimp.\")\n",
    "elif num == 2:\n",
    "  print(\"lamingos turn pink from eating shrimp.\")\n",
    "elif num == 3:\n",
    "  print(\"The lifespan of a taste bud is about 10 days.\")\n",
    "elif num == 4:\n",
    "  print(\"It is impossible to sneeze while sleeping.\")\n",
    "elif num == 1:\n",
    "  print(\"The only food that doesn’t spoil is honey.\")\n",
    "else:\n",
    "  print(\"It is illegal to sing off-key in North Carolina.\")"
   ]
  },
  {
   "cell_type": "code",
   "execution_count": 3,
   "metadata": {},
   "outputs": [
    {
     "name": "stdout",
     "output_type": "stream",
     "text": [
      "Spring 🌱\n"
     ]
    }
   ],
   "source": [
    "# Write code below 💖\n",
    "# seasons in the year. Only put the nomber of the month to set the season.\n",
    "\n",
    "month = int(input(\"Put the number of the month\"))\n",
    "\n",
    "if month >0 and month < 4:\n",
    "  print(\"Winter ❄️\")\n",
    "elif month >= 4 and month <= 6 :\n",
    "  print(\"Spring 🌱\")\n",
    "elif month > 6 and month <10 :\n",
    "  print(\"Summer 🌻\")\n",
    "elif month >9 and month <13 :\n",
    "  print(\"Autumn 🍂\")\n",
    "else:\n",
    "  print(\"Invalid\")"
   ]
  }
 ],
 "metadata": {
  "kernelspec": {
   "display_name": "Python 3",
   "language": "python",
   "name": "python3"
  },
  "language_info": {
   "codemirror_mode": {
    "name": "ipython",
    "version": 3
   },
   "file_extension": ".py",
   "mimetype": "text/x-python",
   "name": "python",
   "nbconvert_exporter": "python",
   "pygments_lexer": "ipython3",
   "version": "3.11.4"
  },
  "orig_nbformat": 4
 },
 "nbformat": 4,
 "nbformat_minor": 2
}
