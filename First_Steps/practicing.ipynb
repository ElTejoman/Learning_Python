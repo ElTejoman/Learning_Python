{
 "cells": [
  {
   "cell_type": "code",
   "execution_count": null,
   "metadata": {},
   "outputs": [],
   "source": [
    "#Here Im practicing exercices provided for chat gpt "
   ]
  },
  {
   "cell_type": "code",
   "execution_count": 2,
   "metadata": {},
   "outputs": [
    {
     "name": "stdout",
     "output_type": "stream",
     "text": [
      "1 es menor que 20 por -19\n"
     ]
    }
   ],
   "source": [
    "# Escribe un programa que pida al usuario dos números enteros y muestre cuál de ellos es mayor o si son iguales. Además, si son diferentes, muestra la diferencia entre ambos.\n",
    "\n",
    "num1=int(input(\"escribe tu primer numero: \"))\n",
    "num2=int(input(\"escribe tu segundo numero: \"))\n",
    "dife= num1 - num2\n",
    "\n",
    "if num1 < num2:\n",
    "    print (f\"{num1} es menor que {num2} por {dife}\")\n",
    "elif num1 > num2:\n",
    "    print (f\"{num1} es meayor que {num2} por {dife}\")\n",
    "else :\n",
    "    print(\"Son iguales!\")"
   ]
  },
  {
   "cell_type": "code",
   "execution_count": null,
   "metadata": {},
   "outputs": [],
   "source": [
    "#In a five-star review system (⭐️⭐️⭐️⭐️⭐️), the stars typically represent the different levels of satisfaction.\n",
    "\n",
    "#food_rating.py\n",
    "\n",
    "rating= float(input(\"Put you rating to 0 to five:  \"))\n",
    "\n",
    "\n",
    "if rating > 4.5:\n",
    "  print(\"Extraordinary\")\n",
    "elif rating > 4:\n",
    "  print(\"Excellent\")\n",
    "elif rating > 3:\n",
    "  print(\"Good\")\n",
    "elif rating > 2:\n",
    "  print(\"Fair\")\n",
    "else:\n",
    "  print(\"Poor\")"
   ]
  },
  {
   "cell_type": "code",
   "execution_count": null,
   "metadata": {},
   "outputs": [],
   "source": [
    "# Write code below 💖\n",
    "#U.S. high schools typically last for four years, from freshman year to senior year. 🚌💨\n",
    "\n",
    "First, ask the user their grade using the input() function.\n",
    "grade = int(input(\"put your grade to order in the system: \"))\n",
    "\n",
    "if grade == 9:\n",
    "  print(\"Freshman\")\n",
    "elif grade == 10:\n",
    "  print(\"Sophomore\")\n",
    "elif grade == 11:\n",
    "  print(\"Junior\")\n",
    "elif grade == 12:\n",
    "  print(\"Senior\")\n",
    "else:\n",
    "  print(\"TBD\")"
   ]
  },
  {
   "cell_type": "code",
   "execution_count": 1,
   "metadata": {},
   "outputs": [
    {
     "name": "stdout",
     "output_type": "stream",
     "text": [
      "The only food that doesn’t spoil is honey.\n"
     ]
    }
   ],
   "source": [
    "# Write code below 💖\n",
    "# Using random to select a random sentence\n",
    "import random\n",
    "\n",
    "num = random.randint(0,5)\n",
    "\n",
    "if num == 0:\n",
    "  print(\"lamingos turn pink from eating shrimp.\")\n",
    "elif num == 2:\n",
    "  print(\"lamingos turn pink from eating shrimp.\")\n",
    "elif num == 3:\n",
    "  print(\"The lifespan of a taste bud is about 10 days.\")\n",
    "elif num == 4:\n",
    "  print(\"It is impossible to sneeze while sleeping.\")\n",
    "elif num == 1:\n",
    "  print(\"The only food that doesn’t spoil is honey.\")\n",
    "else:\n",
    "  print(\"It is illegal to sing off-key in North Carolina.\")"
   ]
  },
  {
   "cell_type": "code",
   "execution_count": 3,
   "metadata": {},
   "outputs": [
    {
     "name": "stdout",
     "output_type": "stream",
     "text": [
      "Spring 🌱\n"
     ]
    }
   ],
   "source": [
    "# Write code below 💖\n",
    "# seasons in the year. Only put the nomber of the month to set the season.\n",
    "\n",
    "month = int(input(\"Put the number of the month\"))\n",
    "\n",
    "if month >0 and month < 4:\n",
    "  print(\"Winter ❄️\")\n",
    "elif month >= 4 and month <= 6 :\n",
    "  print(\"Spring 🌱\")\n",
    "elif month > 6 and month <10 :\n",
    "  print(\"Summer 🌻\")\n",
    "elif month >9 and month <13 :\n",
    "  print(\"Autumn 🍂\")\n",
    "else:\n",
    "  print(\"Invalid\")"
   ]
  },
  {
   "cell_type": "code",
   "execution_count": 9,
   "metadata": {},
   "outputs": [
    {
     "name": "stdout",
     "output_type": "stream",
     "text": [
      "now, choose the number of the planet you want to know (1 to 7):  \n",
      "(1) Mercury\n",
      "(2) Venus\n",
      "(3) Mars\n",
      "(4) Jupiter\n",
      "(5) Saturn\n",
      "(6) Uranus\n",
      "(7) Neptune\n",
      "Your weight in Neptune is 93kg\n"
     ]
    }
   ],
   "source": [
    "# Write code below 💖\n",
    "#planet_weight.py\n",
    "\n",
    "planet= \"Mercury\"\n",
    "\n",
    "eweight = float(input(\"Put your earth weight:  \"))\n",
    "print(\"now, choose the number of the planet you want to know (1 to 7):  \")\n",
    "print(\"(1) Mercury\")\n",
    "print(\"(2) Venus\")\n",
    "print(\"(3) Mars\")\n",
    "print(\"(4) Jupiter\")\n",
    "print(\"(5) Saturn\")\n",
    "print(\"(6) Uranus\")\n",
    "print(\"(7) Neptune\")\n",
    "pnumber = int(input(\"Put the planet you want to convert:  \"))\n",
    "\n",
    "if pnumber == 1:\n",
    "  planet= \"Mercury\"\n",
    "  relgra = 0.38\n",
    "elif pnumber == 2:\n",
    "  planet= \"Venus\"\n",
    "  relgra = 0.91\n",
    "elif pnumber == 3:\n",
    "  planet= \"Mars\"\n",
    "  relgra = 0.38\n",
    "elif pnumber == 4:\n",
    "  planet= \"Jupiter\"\n",
    "  relgra = 2.53\n",
    "elif pnumber == 5:\n",
    "  planet= \"Saturn\"\n",
    "  relgra = 1.07\n",
    "elif pnumber == 6:\n",
    "  planet= \"Uranus\"\n",
    "  relgra = 0.89\n",
    "elif pnumber == 7:\n",
    "  planet= \"Neptune\"\n",
    "  relgra = 1.14\n",
    "else:\n",
    "  print(\"Incorrect planet number. Set it again \")\n",
    "\n",
    "calculate= round(eweight * relgra)\n",
    "print(f\"Your weight in {planet} is {calculate}kg\")"
   ]
  },
  {
   "cell_type": "code",
   "execution_count": 3,
   "metadata": {},
   "outputs": [
    {
     "name": "stdout",
     "output_type": "stream",
     "text": [
      "El monto a repartir es 10000 y será repartido de la siguiente manera\n",
      "El monto recibido por Juan es 1300.0 que corresponde al 0.13 del total\n",
      "El monto recibido por Juan es 1200.0 que corresponde al 0.12 del total\n",
      "El monto recibido por Juan es 1900.0 que corresponde al 0.19 del total\n",
      "El monto recibido por Juan es 1700.0000000000002 que corresponde al 0.17 del total\n",
      "El monto recibido por Juan es 2000.0 que corresponde al 0.2 del total\n",
      "El monto recibido por Juan es 1900.0 que corresponde al 0.19 del total\n"
     ]
    }
   ],
   "source": [
    "monto_repartir= int(input(\"Inserta el monto a repartir:   \"))\n",
    "\n",
    "print(f\"El monto a repartir es {monto_repartir} y será repartido de la siguiente manera\")\n",
    "\n",
    "p_juan = 0.13\n",
    "p_mario = 0.12\n",
    "p_daniel = 0.19\n",
    "p_rogelio = 0.17\n",
    "p_carlos = 0.20\n",
    "p_felipe = 0.19\n",
    "\n",
    "r_juan= monto_repartir * p_juan\n",
    "r_mario = monto_repartir * p_mario\n",
    "r_daniel = monto_repartir * p_daniel\n",
    "r_rogelio = monto_repartir * p_rogelio\n",
    "r_carlos = monto_repartir * p_carlos\n",
    "r_felipe = monto_repartir * p_felipe\n",
    "\n",
    "print(f\"El monto recibido por Juan es {r_juan} que corresponde al {p_juan} del total\")\n",
    "print(f\"El monto recibido por Juan es {r_mario} que corresponde al {p_mario} del total\")\n",
    "print(f\"El monto recibido por Juan es {r_daniel} que corresponde al {p_daniel} del total\")\n",
    "print(f\"El monto recibido por Juan es {r_rogelio} que corresponde al {p_rogelio} del total\")\n",
    "print(f\"El monto recibido por Juan es {r_carlos} que corresponde al {p_carlos} del total\")\n",
    "print(f\"El monto recibido por Juan es {r_felipe} que corresponde al {p_felipe} del total\")"
   ]
  },
  {
   "cell_type": "markdown",
   "metadata": {},
   "source": [
    "Ejercicio 1: Suma de dígitos pares\n",
    "\n",
    "Escribe un programa que solicite un número entero positivo al usuario y calcule la suma de sus dígitos pares."
   ]
  },
  {
   "cell_type": "code",
   "execution_count": 18,
   "metadata": {},
   "outputs": [
    {
     "name": "stdout",
     "output_type": "stream",
     "text": [
      "10\n",
      "8\n",
      "6\n",
      "4\n",
      "2\n",
      "La suma de pares es 30\n"
     ]
    }
   ],
   "source": [
    "num=int(input(\"Escribe el numero a examinar: \"))\n",
    "par=0\n",
    "\n",
    "\n",
    "while num > 0 :\n",
    "    if num % 2==0:\n",
    "      print(num)\n",
    "      par+=num\n",
    "    num-=1\n",
    "print(f\"La suma de pares es {par}\")\n",
    "\n",
    "\n",
    "    \n",
    "\n"
   ]
  },
  {
   "cell_type": "markdown",
   "metadata": {},
   "source": [
    "Ejercicio 2: Patrón de asteriscos\n",
    "\n",
    "Escribe un programa que solicite al usuario un número y luego imprima un patrón de asteriscos en forma de triángulo, como este:\n",
    "\n",
    "*\n",
    "**\n",
    "***\n",
    "****"
   ]
  },
  {
   "cell_type": "code",
   "execution_count": 28,
   "metadata": {},
   "outputs": [
    {
     "name": "stdout",
     "output_type": "stream",
     "text": [
      "*\n",
      "**\n",
      "***\n",
      "****\n",
      "*****\n",
      "******\n",
      "*******\n",
      "********\n",
      "*********\n",
      "**********\n"
     ]
    }
   ],
   "source": [
    "n= int(input(\"Coloca un numero para hacer la piramide\"))\n",
    "for i in range(1,n+1):\n",
    "    print(\"*\"*(i))"
   ]
  },
  {
   "cell_type": "markdown",
   "metadata": {},
   "source": [
    "Ejercicio 3: Adivinar el número\n",
    "\n",
    "Crea un programa en el que la computadora elija un número aleatorio entre 1 y 100, y luego le pida al usuario que adivine el número. El programa debe proporcionar pistas si el número ingresado es mayor o menor que el número a adivinar."
   ]
  },
  {
   "cell_type": "code",
   "execution_count": 33,
   "metadata": {},
   "outputs": [],
   "source": [
    "import random\n",
    "num = int(input(\"Adivina un numero del 1 al 100: \"))\n",
    "aleat=random.randint(1,101)\n",
    "\n",
    "while num > aleat:\n",
    "    print(\"Te pasaste! vuelve a intentar\")\n",
    "    num = int(input(\"Adivina un numero del 1 al 100: \"))\n",
    "    \n",
    "    while num < aleat:\n",
    "        print(\"Numero muy bajo! vuelve a intentar!\")\n",
    "        num = int(input(\"Adivina un numero del 1 al 100: \"))\n",
    "    \n",
    "    if num == aleat:\n",
    "        print(\"Ganaste!\")"
   ]
  },
  {
   "cell_type": "code",
   "execution_count": 1,
   "metadata": {},
   "outputs": [
    {
     "name": "stdout",
     "output_type": "stream",
     "text": [
      "1 1 1\n"
     ]
    }
   ],
   "source": [
    "a = b = c = 1\n",
    "print (a,b,c)"
   ]
  },
  {
   "cell_type": "code",
   "execution_count": 7,
   "metadata": {},
   "outputs": [
    {
     "name": "stdout",
     "output_type": "stream",
     "text": [
      "[7, 8, 9]\n",
      "[13, 8, 9]\n",
      "[7, 8, 9]\n"
     ]
    }
   ],
   "source": [
    "x = y = [7,8,9]\n",
    "x= [13,8,9]\n",
    "print(y)\n",
    "print(x)\n",
    "x[0]=13\n",
    "print(y)"
   ]
  },
  {
   "cell_type": "code",
   "execution_count": 12,
   "metadata": {},
   "outputs": [
    {
     "name": "stdout",
     "output_type": "stream",
     "text": [
      "5\n"
     ]
    },
    {
     "ename": "TypeError",
     "evalue": "'int' object is not subscriptable",
     "output_type": "error",
     "traceback": [
      "\u001b[1;31m---------------------------------------------------------------------------\u001b[0m",
      "\u001b[1;31mTypeError\u001b[0m                                 Traceback (most recent call last)",
      "Cell \u001b[1;32mIn[12], line 4\u001b[0m\n\u001b[0;32m      1\u001b[0m x\u001b[39m=\u001b[39m[\u001b[39m3\u001b[39m,\u001b[39m4\u001b[39m,[\u001b[39m5\u001b[39m,\u001b[39m6\u001b[39m,\u001b[39m7\u001b[39m],\u001b[39m8\u001b[39m,[\u001b[39m9\u001b[39m,\u001b[39m10\u001b[39m],\u001b[39m11\u001b[39m,[\u001b[39m12\u001b[39m,\u001b[39m\"\u001b[39m\u001b[39mAlejandro\u001b[39m\u001b[39m\"\u001b[39m,\u001b[39m14\u001b[39m,\u001b[39m15\u001b[39m,[\u001b[39m\"\u001b[39m\u001b[39mEspinoza\u001b[39m\u001b[39m\"\u001b[39m,\u001b[39m\"\u001b[39m\u001b[39mAscue\u001b[39m\u001b[39m\"\u001b[39m],\u001b[39m16\u001b[39m],\u001b[39m17\u001b[39m,\u001b[39m18\u001b[39m]\n\u001b[0;32m      3\u001b[0m \u001b[39mprint\u001b[39m(x[\u001b[39m2\u001b[39m][\u001b[39m0\u001b[39m])\n\u001b[1;32m----> 4\u001b[0m \u001b[39mprint\u001b[39m(\u001b[39mint\u001b[39m(x[\u001b[39m5\u001b[39;49m][\u001b[39m1\u001b[39;49m]))\n",
      "\u001b[1;31mTypeError\u001b[0m: 'int' object is not subscriptable"
     ]
    }
   ],
   "source": [
    "x=[3,4,[5,6,7],8,[9,10],11,[12,\"Alejandro\",14,15,[\"Espinoza\",\"Ascue\"],16],17,18]\n",
    "\n",
    "print(x[2][0])\n",
    "print(int(x[5][1]))\n"
   ]
  }
 ],
 "metadata": {
  "kernelspec": {
   "display_name": "Python 3",
   "language": "python",
   "name": "python3"
  },
  "language_info": {
   "codemirror_mode": {
    "name": "ipython",
    "version": 3
   },
   "file_extension": ".py",
   "mimetype": "text/x-python",
   "name": "python",
   "nbconvert_exporter": "python",
   "pygments_lexer": "ipython3",
   "version": "3.11.6"
  },
  "orig_nbformat": 4
 },
 "nbformat": 4,
 "nbformat_minor": 2
}
