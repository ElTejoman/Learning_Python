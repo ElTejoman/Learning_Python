{
 "cells": [
  {
   "cell_type": "code",
   "execution_count": 1,
   "metadata": {},
   "outputs": [
    {
     "name": "stdout",
     "output_type": "stream",
     "text": [
      "1\n"
     ]
    }
   ],
   "source": [
    "suma = 0\n",
    "suma = suma+1\n",
    "print(suma)"
   ]
  },
  {
   "cell_type": "code",
   "execution_count": 2,
   "metadata": {},
   "outputs": [
    {
     "name": "stdout",
     "output_type": "stream",
     "text": [
      "3\n"
     ]
    }
   ],
   "source": [
    "suma=0\n",
    "suma= suma+1\n",
    "suma= suma+2\n",
    "print(suma)"
   ]
  },
  {
   "cell_type": "code",
   "execution_count": 3,
   "metadata": {},
   "outputs": [],
   "source": [
    "#bucle FOR\n",
    "#sintaxis: \n",
    "for <variable donde se almacenan items> in <elemento a iterar>\n"
   ]
  },
  {
   "cell_type": "code",
   "execution_count": 4,
   "metadata": {},
   "outputs": [
    {
     "name": "stdout",
     "output_type": "stream",
     "text": [
      "2\n",
      "3\n",
      "4\n",
      "5\n",
      "6\n"
     ]
    }
   ],
   "source": [
    "numeros= [1,2,3,4,5]\n",
    "for num in numeros:\n",
    "    suma=num+1\n",
    "    print(suma)"
   ]
  },
  {
   "cell_type": "code",
   "execution_count": 5,
   "metadata": {},
   "outputs": [
    {
     "name": "stdout",
     "output_type": "stream",
     "text": [
      "2\n",
      "3\n",
      "4\n",
      "5\n",
      "6\n"
     ]
    }
   ],
   "source": [
    "for i in range(1,6):\n",
    "    suma=i+1\n",
    "    print(suma)"
   ]
  },
  {
   "cell_type": "code",
   "execution_count": 6,
   "metadata": {},
   "outputs": [
    {
     "name": "stdout",
     "output_type": "stream",
     "text": [
      "Variable de iteración:  1 Resultado=  2\n",
      "Variable de iteración:  2 Resultado=  3\n",
      "Variable de iteración:  3 Resultado=  4\n",
      "Variable de iteración:  4 Resultado=  5\n",
      "Variable de iteración:  5 Resultado=  6\n"
     ]
    }
   ],
   "source": [
    "for i in range(1,6):\n",
    "    suma=i+1\n",
    "    print(\"Variable de iteración: \", i,\"Resultado= \", suma)\n",
    "\n",
    "    #Estamos viendo la naturaleza de la variable de iteración. "
   ]
  },
  {
   "cell_type": "code",
   "execution_count": null,
   "metadata": {},
   "outputs": [],
   "source": [
    "#Bucle WHILE\n",
    "#nos permite iterar siempre y cuando la condicion sea verdadera \"MIENTRAS QUE...\""
   ]
  },
  {
   "cell_type": "code",
   "execution_count": 7,
   "metadata": {},
   "outputs": [
    {
     "name": "stdout",
     "output_type": "stream",
     "text": [
      "num 1\n",
      "num 2\n",
      "num 3\n",
      "num 4\n",
      "num 5\n"
     ]
    }
   ],
   "source": [
    "num=1\n",
    "while num<6:\n",
    "    print(\"num\",num)\n",
    "    num=num+1"
   ]
  },
  {
   "cell_type": "code",
   "execution_count": null,
   "metadata": {},
   "outputs": [],
   "source": [
    "# CUIDADO CON EL BUCLE INFINITO!\n",
    "x=1\n",
    "while(x>=1):\n",
    "    print(x)\n",
    "\n",
    "#En este punto, como no tenemos un tope, ingresaríamos a un bucle infinito en el que consuma la memoria de nuestra pc ó inturrumpamos el código con un CTRL+C\n"
   ]
  },
  {
   "cell_type": "code",
   "execution_count": null,
   "metadata": {},
   "outputs": [],
   "source": [
    "#diferencias entre for y while\n",
    "\n",
    "#-FOR: utilizado cuando sabemos la cantidad maxima exacta del bucle\n",
    "#- WHILE: no tenemos certeza de cuantas veces necesitamos que se ejecute"
   ]
  },
  {
   "cell_type": "code",
   "execution_count": 11,
   "metadata": {},
   "outputs": [
    {
     "name": "stdout",
     "output_type": "stream",
     "text": [
      "5\n",
      "6\n",
      "7\n",
      "8\n",
      "9\n",
      "10\n"
     ]
    }
   ],
   "source": [
    "#Experimentando\n",
    "var1=int(input(\"Elige un número y veràs si se repite: \"))\n",
    "\n",
    "while (var1 <10):\n",
    "    print(var1+1)\n",
    "    var1=var1+1 #no olvidar poner una suma para que SUME hasta el tope dado"
   ]
  }
 ],
 "metadata": {
  "kernelspec": {
   "display_name": "Python 3",
   "language": "python",
   "name": "python3"
  },
  "language_info": {
   "codemirror_mode": {
    "name": "ipython",
    "version": 3
   },
   "file_extension": ".py",
   "mimetype": "text/x-python",
   "name": "python",
   "nbconvert_exporter": "python",
   "pygments_lexer": "ipython3",
   "version": "3.11.4"
  },
  "orig_nbformat": 4
 },
 "nbformat": 4,
 "nbformat_minor": 2
}
