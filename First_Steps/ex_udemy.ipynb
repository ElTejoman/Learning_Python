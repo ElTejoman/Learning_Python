{
 "cells": [
  {
   "cell_type": "code",
   "execution_count": 3,
   "metadata": {},
   "outputs": [
    {
     "name": "stdout",
     "output_type": "stream",
     "text": [
      "contraseña no coincide\n"
     ]
    }
   ],
   "source": [
    "#1. Escriba un programa que almacene la cadena de caracteres contraseña en una variable, para luego preguntarle al usuario por la contraseña. Luego, imprima en la consola si la contraseña que el usuario ingreso coincide con la guardada en variable.\n",
    "\n",
    "contr = input(\"Escribe tu contraseña: \")\n",
    "preg = input(\"cual es tu contraseña elegida? \")\n",
    "\n",
    "compr = contr == preg\n",
    "\n",
    "if contr == preg:\n",
    "    print(\"Contraseña aceptada\")\n",
    "\n",
    "elif contr != preg:\n",
    "    print(\"contraseña no coincide\")\n",
    "\n"
   ]
  },
  {
   "cell_type": "code",
   "execution_count": 4,
   "metadata": {},
   "outputs": [
    {
     "ename": "ZeroDivisionError",
     "evalue": "division by zero",
     "output_type": "error",
     "traceback": [
      "\u001b[1;31m---------------------------------------------------------------------------\u001b[0m",
      "\u001b[1;31mZeroDivisionError\u001b[0m                         Traceback (most recent call last)",
      "Cell \u001b[1;32mIn[4], line 6\u001b[0m\n\u001b[0;32m      3\u001b[0m num1 \u001b[39m=\u001b[39m \u001b[39mint\u001b[39m(\u001b[39minput\u001b[39m(\u001b[39m\"\u001b[39m\u001b[39mInserte el primer numero: \u001b[39m\u001b[39m\"\u001b[39m))\n\u001b[0;32m      4\u001b[0m num2 \u001b[39m=\u001b[39m \u001b[39mint\u001b[39m(\u001b[39minput\u001b[39m(\u001b[39m\"\u001b[39m\u001b[39mInserte ahora el segundo numero y vea cual es el resultado de la division: \u001b[39m\u001b[39m\"\u001b[39m))\n\u001b[1;32m----> 6\u001b[0m div \u001b[39m=\u001b[39m num1\u001b[39m/\u001b[39;49mnum2\n\u001b[0;32m      8\u001b[0m \u001b[39mif\u001b[39;00m num2 \u001b[39m==\u001b[39m \u001b[39m0\u001b[39m:\n\u001b[0;32m      9\u001b[0m     \u001b[39mprint\u001b[39m(\u001b[39m\"\u001b[39m\u001b[39mNo puedes dividir un numero entre cero, elige otro \u001b[39m\u001b[39m\"\u001b[39m)\n",
      "\u001b[1;31mZeroDivisionError\u001b[0m: division by zero"
     ]
    }
   ],
   "source": [
    "#2. Realice un programa que le pida al usuario dos números y muestre por consola su división. Si el divisor es cero el programa debe mostrar un error.\n",
    "\n",
    "num1 = int(input(\"Inserte el primer numero: \"))\n",
    "num2 = int(input(\"Inserte ahora el segundo numero y vea cual es el resultado de la division: \"))\n",
    "\n",
    "div = num1/num2\n",
    "\n",
    "if num2 == 0:\n",
    "    print(\"No puedes dividir un numero entre cero, elige otro \")\n",
    "else:\n",
    "    print(div)"
   ]
  },
  {
   "cell_type": "code",
   "execution_count": null,
   "metadata": {},
   "outputs": [],
   "source": [
    "#3. Escriba un programa que le pida al usuario por teclado un numero entero y muestre en consola si es par o impar."
   ]
  }
 ],
 "metadata": {
  "kernelspec": {
   "display_name": "Python 3",
   "language": "python",
   "name": "python3"
  },
  "language_info": {
   "codemirror_mode": {
    "name": "ipython",
    "version": 3
   },
   "file_extension": ".py",
   "mimetype": "text/x-python",
   "name": "python",
   "nbconvert_exporter": "python",
   "pygments_lexer": "ipython3",
   "version": "3.11.4"
  },
  "orig_nbformat": 4
 },
 "nbformat": 4,
 "nbformat_minor": 2
}
