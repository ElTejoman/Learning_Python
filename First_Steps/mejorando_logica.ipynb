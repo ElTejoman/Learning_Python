{
 "cells": [
  {
   "cell_type": "markdown",
   "metadata": {},
   "source": [
    "1 Escribe un programa que muestre \"¡Hola, mundo!\" en la pantalla.\n",
    "\n",
    "2 Calcula y muestra el resultado de la suma de dos números ingresados por el usuario.\n",
    "\n",
    "3 Crea un programa que tome una lista de números y calcule su suma.\n",
    "\n",
    "4 Diseña un programa que determine si un número ingresado por el usuario es par o impar.\n",
    "\n",
    "5 Construye un conversor de temperatura de grados Celsius a Fahrenheit.\n",
    "\n",
    "6 Crea un programa que muestre los primeros n números primos, donde n es ingresado por el usuario.\n",
    "\n",
    "7 Escribe un programa que determine si una palabra ingresada es un palíndromo (se lee igual al revés).\n",
    "\n",
    "8 Diseña un programa que encuentre el máximo de tres números ingresados por el usuario.\n",
    "\n",
    "9 Crea un programa que genere la secuencia de Fibonacci hasta el término n, donde n es ingresado por el usuario.\n",
    "\n",
    "10Construye un juego de adivinanza, donde el programa genera un número aleatorio y el usuario debe adivinarlo."
   ]
  },
  {
   "cell_type": "markdown",
   "metadata": {},
   "source": [
    "1 Escribe un programa que muestre \"¡Hola, mundo!\" en la pantalla."
   ]
  },
  {
   "cell_type": "code",
   "execution_count": 2,
   "metadata": {},
   "outputs": [
    {
     "name": "stdout",
     "output_type": "stream",
     "text": [
      "Hola Mundo\n"
     ]
    }
   ],
   "source": [
    "print(\"Hola Mundo\")"
   ]
  },
  {
   "cell_type": "markdown",
   "metadata": {},
   "source": [
    "2 Calcula y muestra el resultado de la suma de dos números ingresados por el usuario."
   ]
  },
  {
   "cell_type": "code",
   "execution_count": 3,
   "metadata": {},
   "outputs": [
    {
     "name": "stdout",
     "output_type": "stream",
     "text": [
      "35\n"
     ]
    }
   ],
   "source": [
    "a = int(input(\"ingrese primer numero: \"))\n",
    "b = int(input(\"ingrese segundo numero y luego se sumarán: \"))\n",
    "\n",
    "print(a+b)"
   ]
  },
  {
   "cell_type": "code",
   "execution_count": 4,
   "metadata": {},
   "outputs": [
    {
     "name": "stdout",
     "output_type": "stream",
     "text": [
      "20\n"
     ]
    }
   ],
   "source": [
    "#3 Crea un programa que tome una lista de números y calcule su suma.\n",
    "\n",
    "num1=5\n",
    "num2=6\n",
    "num3=9\n",
    "\n",
    "print(num1+num2+num3)"
   ]
  },
  {
   "cell_type": "code",
   "execution_count": 7,
   "metadata": {},
   "outputs": [
    {
     "name": "stdout",
     "output_type": "stream",
     "text": [
      "Es par!\n"
     ]
    }
   ],
   "source": [
    "#Diseña un programa que determine si un número ingresado por el usuario es par o impar.\n",
    "a = int(input(\"ingrese primer numero: \"))\n",
    "\n",
    "if a % 2 == 0:\n",
    "    print(\"Es par!\")\n",
    "else:\n",
    "    print(\"Es impar :(\")"
   ]
  },
  {
   "cell_type": "code",
   "execution_count": 8,
   "metadata": {},
   "outputs": [
    {
     "name": "stdout",
     "output_type": "stream",
     "text": [
      "muy bien! elegiste un numero par!\n"
     ]
    }
   ],
   "source": [
    "#utilizando While\n",
    "a = int(input(\"ingrese un numero: \"))\n",
    "\n",
    "while a % 2 != 0:\n",
    "    print(\"Tu número es impar, vuelve a elegir otro numero\")\n",
    "    a = int(input(\"ingrese un numero: \"))\n",
    "\n",
    "print(\"muy bien! elegiste un numero par!\")"
   ]
  },
  {
   "cell_type": "code",
   "execution_count": 11,
   "metadata": {},
   "outputs": [
    {
     "name": "stdout",
     "output_type": "stream",
     "text": [
      "la cantidad de 20 grados Celsius equivale a 68.0 grados Fahrenheit\n"
     ]
    }
   ],
   "source": [
    "#Construye un conversor de temperatura de grados Celsius a Fahrenheit.\n",
    "\n",
    "celsius= int(input(\"Ingresa la temperatura en Celcius: \"))\n",
    "formula= (celsius*9/5) +32\n",
    "\n",
    "print(f\"la cantidad de {celsius} grados Celsius equivale a {formula} grados Fahrenheit\")"
   ]
  },
  {
   "cell_type": "code",
   "execution_count": null,
   "metadata": {},
   "outputs": [],
   "source": [
    "# 6. Crea un programa que muestre los primeros n números primos, donde n es ingresado por el usuario.\n",
    "\n"
   ]
  }
 ],
 "metadata": {
  "kernelspec": {
   "display_name": "Python 3",
   "language": "python",
   "name": "python3"
  },
  "language_info": {
   "codemirror_mode": {
    "name": "ipython",
    "version": 3
   },
   "file_extension": ".py",
   "mimetype": "text/x-python",
   "name": "python",
   "nbconvert_exporter": "python",
   "pygments_lexer": "ipython3",
   "version": "3.11.5"
  },
  "orig_nbformat": 4
 },
 "nbformat": 4,
 "nbformat_minor": 2
}
